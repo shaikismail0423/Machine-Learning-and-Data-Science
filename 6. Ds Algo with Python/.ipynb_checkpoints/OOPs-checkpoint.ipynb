{
 "cells": [
  {
   "cell_type": "markdown",
   "id": "bdba8d8c-6de7-4980-b6c8-0fd82ac1379e",
   "metadata": {},
   "source": [
    "# OOPS"
   ]
  },
  {
   "cell_type": "markdown",
   "id": "8631761d-4903-4eca-8fba-2addaf9ea1e3",
   "metadata": {},
   "source": [
    "- **OOps (Object Oriented Programming):** \n",
    "  - Paradigm for organizing and structuring code based on objects.\n",
    "  \n",
    "- **Real World Objects (e.g., Pen):**\n",
    "  - Properties: Height, color, weight, width.\n",
    "  - Behaviors: Writing, refilling.\n",
    "\n",
    "- **Every Object Has:**\n",
    "  - Properties\n",
    "  - Behavior\n",
    "\n",
    "- **Class:**\n",
    "  - Defines properties and behaviors.\n",
    "  - Serves as a blueprint for objects.\n",
    "\n",
    "- **Object:**\n",
    "  - A specific instance of a class.\n",
    "  - Represents a distinct, real-world entity.\n"
   ]
  },
  {
   "cell_type": "code",
   "execution_count": 18,
   "id": "0aa2c522-503b-4f8c-8bd0-5b0944ff7416",
   "metadata": {},
   "outputs": [
    {
     "name": "stdout",
     "output_type": "stream",
     "text": [
      "<class 'int'>\n",
      "<class 'list'>\n"
     ]
    }
   ],
   "source": [
    "a=10\n",
    "print(type(a))\n",
    "\n",
    "l=[1,2,3,4]\n",
    "print(type(l))"
   ]
  },
  {
   "cell_type": "markdown",
   "id": "3750d6fa-07ca-4b7d-b382-b227327fd23e",
   "metadata": {},
   "source": [
    "## Different kinds of attributes\n",
    "\n",
    "### Instance Attributes:\n",
    "- Instance attributes are unique to each instance (object) of the class <br/>\n",
    "- They are defined inside the class's methods, typically within the __init__ method, which is the constructor for the class<br/>\n",
    "- They can be created by object name and \".\" operator\n",
    "- Each instance can have different values for these attributes. <br/>\n",
    "- They represent the state of individual objects and allow each object to have its own set of data. <br/>\n",
    "- Accessing instance attributes is done using the dot notation with the object's name. <br/>\n",
    "\n",
    "### Class Attributes:\n",
    "\n",
    "- Class attributes are shared by all instances of the class.<br/>\n",
    "- They are defined directly inside the class, outside of any class method.<br/>\n",
    "- Class attributes represent characteristics that are common to all objects of the class.<br/>\n",
    "- Modifying a class attribute will affect all instances of that class.<br/>\n",
    "- Accessing class attributes can be done using either the class name or any instance of the class.<br/>\n",
    "- python can have different instance attributes for each object as per our requirements"
   ]
  },
  {
   "cell_type": "code",
   "execution_count": 16,
   "id": "fb507278-e6b2-418e-99e8-ee2b49d14afe",
   "metadata": {},
   "outputs": [
    {
     "ename": "SyntaxError",
     "evalue": "incomplete input (3104358622.py, line 3)",
     "output_type": "error",
     "traceback": [
      "\u001b[1;36m  Cell \u001b[1;32mIn[16], line 3\u001b[1;36m\u001b[0m\n\u001b[1;33m    # python wont allow this\u001b[0m\n\u001b[1;37m                            ^\u001b[0m\n\u001b[1;31mSyntaxError\u001b[0m\u001b[1;31m:\u001b[0m incomplete input\n"
     ]
    }
   ],
   "source": [
    "class Student:\n",
    "\n",
    "# python wont allow this"
   ]
  },
  {
   "cell_type": "code",
   "execution_count": 19,
   "id": "8b6b705d-d52a-4e57-8595-dbc138e41836",
   "metadata": {},
   "outputs": [],
   "source": [
    "class Student:\n",
    "    # class Attributes\n",
    "    pass"
   ]
  },
  {
   "cell_type": "code",
   "execution_count": 20,
   "id": "f3f8bf62-b3e3-49dd-b4de-e8258209622b",
   "metadata": {},
   "outputs": [],
   "source": [
    "s1 = Student()\n",
    "s2 = Student()\n",
    "s3 = Student()"
   ]
  },
  {
   "cell_type": "code",
   "execution_count": 21,
   "id": "e2f41bee-7e3b-40b0-b9e7-b6a3fd08c34b",
   "metadata": {},
   "outputs": [
    {
     "name": "stdout",
     "output_type": "stream",
     "text": [
      "<__main__.Student object at 0x0000020EFF1026D0>\n",
      "<__main__.Student object at 0x0000020EFF0E9590>\n"
     ]
    }
   ],
   "source": [
    "print(s1)\n",
    "print(s2)"
   ]
  },
  {
   "cell_type": "code",
   "execution_count": 22,
   "id": "6fb67971-9ac9-4973-a47b-0ae2ff46a202",
   "metadata": {},
   "outputs": [
    {
     "name": "stdout",
     "output_type": "stream",
     "text": [
      "<class '__main__.Student'>\n",
      "<class '__main__.Student'>\n"
     ]
    }
   ],
   "source": [
    "print(type(s1))\n",
    "print(type(s2))"
   ]
  },
  {
   "cell_type": "code",
   "execution_count": 23,
   "id": "e5edca87-5aff-48a9-b4d7-c5f959d06789",
   "metadata": {},
   "outputs": [],
   "source": [
    "s1.name = \"Subash Chandra Bose\" \n",
    "s1.age = 23\n",
    "s2.roll_no = 101"
   ]
  },
  {
   "cell_type": "code",
   "execution_count": null,
   "id": "0d96cc45-0454-4183-b94c-9fb8b345650c",
   "metadata": {},
   "outputs": [],
   "source": [
    "# In python, each object stores a dicionary for attributes and their values\n",
    "# it can be acessed by object_name.__dict__"
   ]
  },
  {
   "cell_type": "code",
   "execution_count": 24,
   "id": "358b659a-8367-4b11-991f-3c8f928b1142",
   "metadata": {},
   "outputs": [
    {
     "name": "stdout",
     "output_type": "stream",
     "text": [
      "{'name': 'Subash Chandra Bose', 'age': 23}\n",
      "{'roll_no': 101}\n",
      "{}\n"
     ]
    }
   ],
   "source": [
    "print(s1.__dict__)\n",
    "print(s2.__dict__)\n",
    "print(s3.__dict__)"
   ]
  },
  {
   "cell_type": "code",
   "execution_count": 25,
   "id": "a4239531-7393-47d5-b2dd-d62d745677d2",
   "metadata": {},
   "outputs": [
    {
     "data": {
      "text/plain": [
       "'Subash Chandra Bose'"
      ]
     },
     "execution_count": 25,
     "metadata": {},
     "output_type": "execute_result"
    }
   ],
   "source": [
    "s1.name"
   ]
  },
  {
   "cell_type": "code",
   "execution_count": 35,
   "id": "a167286e-3ed1-45a6-b7b9-86a3403fb874",
   "metadata": {},
   "outputs": [
    {
     "ename": "AttributeError",
     "evalue": "'Student' object has no attribute 'name'",
     "output_type": "error",
     "traceback": [
      "\u001b[1;31m---------------------------------------------------------------------------\u001b[0m",
      "\u001b[1;31mAttributeError\u001b[0m                            Traceback (most recent call last)",
      "Cell \u001b[1;32mIn[35], line 1\u001b[0m\n\u001b[1;32m----> 1\u001b[0m \u001b[43ms2\u001b[49m\u001b[38;5;241;43m.\u001b[39;49m\u001b[43mname\u001b[49m \u001b[38;5;66;03m# name is s1 instance variable\u001b[39;00m\n\u001b[0;32m      2\u001b[0m \u001b[38;5;66;03m# if not there, then Attribute Error will come\u001b[39;00m\n",
      "\u001b[1;31mAttributeError\u001b[0m: 'Student' object has no attribute 'name'"
     ]
    }
   ],
   "source": [
    "s2.name # name is s1 instance variable\n",
    "# if not there, then Attribute Error will come"
   ]
  },
  {
   "cell_type": "markdown",
   "id": "99098259-24d9-4576-a8e7-917fa28efe2a",
   "metadata": {},
   "source": [
    "### Attributes and Object Manipulation\n",
    "\n",
    "In Python, attributes are properties or characteristics associated with an object. \n",
    "Here are some useful functions to interact with object attributes:\n",
    "\n",
    "1. `hasattr(object, \"attr\")`: This function checks if the given attribute (`attr`) exists in the specified object. It returns `True` if the attribute is found, and `False` otherwise.\n",
    "\n",
    "2. `setattr(object, \"attr\", value)`: This function sets the value of the attribute (`attr`) for the given object. If the attribute already exists, its value will be updated with the provided `value`. If the attribute does not exist, a new attribute will be created with the specified value.\n",
    "\n",
    "3. `delattr(object, \"attr\")`: This function deletes the specified attribute (`attr`) from the given object. If the attribute is not found, a `AttributeError` will be raised.\n",
    "\n",
    "4. `getattr(object, \"attr\", def_val)`:\n",
    "-  This function attempts to retrieve the value of the specified attribute (`attr`) from the given object. If the attribute exists, its value is returned.\n",
    "- If the attribute is not found and a `def_val` (default value) is provided, the `def_val` is returned.\n",
    "- However, if no `def_val` is provided and the attribute is not present, a `AttributeError` will be raised indicating that the attribute doesn't exist.\n",
    "\n",
    "Remember to enclose the attribute names in quotes as strings when using these functions."
   ]
  },
  {
   "cell_type": "code",
   "execution_count": 29,
   "id": "2a4ec005-d8c2-4071-9037-17d01c1bf80f",
   "metadata": {},
   "outputs": [
    {
     "name": "stdout",
     "output_type": "stream",
     "text": [
      "True\n",
      "Subash Chandra Bose\n"
     ]
    }
   ],
   "source": [
    "print(hasattr(s1,\"name\"))\n",
    "print(getattr(s1,\"name\",\"No name\"))\n",
    "delattr(s1,\"name\")"
   ]
  },
  {
   "cell_type": "code",
   "execution_count": 31,
   "id": "c05192c4-80c3-4be2-ba75-73a015cd6c26",
   "metadata": {},
   "outputs": [
    {
     "data": {
      "text/plain": [
       "{'age': 23}"
      ]
     },
     "execution_count": 31,
     "metadata": {},
     "output_type": "execute_result"
    }
   ],
   "source": [
    "s1.__dict__"
   ]
  },
  {
   "cell_type": "code",
   "execution_count": 32,
   "id": "bc1ecfd0-46e2-43fb-8b4b-f733a68ea66a",
   "metadata": {},
   "outputs": [
    {
     "name": "stdout",
     "output_type": "stream",
     "text": [
      "False\n"
     ]
    }
   ],
   "source": [
    "print(hasattr(s1,\"name\"))"
   ]
  },
  {
   "cell_type": "code",
   "execution_count": 33,
   "id": "575f1ec3-b0ab-4ac8-b091-3064c3f32522",
   "metadata": {},
   "outputs": [],
   "source": [
    "setattr(s1,\"name\",\"Ismail Abilash\")"
   ]
  },
  {
   "cell_type": "code",
   "execution_count": 34,
   "id": "7c89a20c-f3a0-46e6-aa9a-891c77e789e8",
   "metadata": {},
   "outputs": [
    {
     "data": {
      "text/plain": [
       "{'age': 23, 'name': 'Ismail Abilash'}"
      ]
     },
     "execution_count": 34,
     "metadata": {},
     "output_type": "execute_result"
    }
   ],
   "source": [
    "s1.__dict__"
   ]
  },
  {
   "cell_type": "markdown",
   "id": "b399ef7b-2494-4847-b546-90f88743261b",
   "metadata": {},
   "source": [
    "# Types of Methods in Python\n",
    "In Python, there are three main types of methods that can be defined in a class:\n",
    "\n",
    "1. **Instance Methods:**\n",
    "   - Instance methods are the most common type of methods in Python classes.\n",
    "   - They operate on instances (objects) of the class and have access to the instance's attributes and other methods.\n",
    "   - The first parameter of an instance method is usually `self`, which refers to the instance on which the method is called.\n",
    "   - Instance methods can modify the state of the instance or perform specific actions related to the instance.\n",
    "   - They are defined like regular functions inside the class.\n",
    "\n",
    "2. **Class Methods:**\n",
    "   - Class methods are methods that are bound to the class and not the instance.\n",
    "   - They are defined using the `@classmethod` decorator and take the class as the first parameter, commonly named as `cls`.\n",
    "   - Class methods can access and modify class-level attributes but not instance-level attributes directly.\n",
    "   - They are often used for factory methods or for actions that involve the entire class rather than a specific instance.\n",
    "\n",
    "3. **Static Methods:**\n",
    "   - Static methods are methods that do not depend on the instance or class and behave like regular functions within a class.\n",
    "   - They are defined using the `@staticmethod` decorator and do not take `self` or `cls` as the first parameter.\n",
    "   - Static methods are not associated with any specific instance or class and do not have access to instance or class-level attributes.\n",
    "   - They are used when a method is related to the class but does not need any specific instance or class information.\n",
    "   - Generally a utility function used to check something on the class"
   ]
  },
  {
   "cell_type": "markdown",
   "id": "f3ba5996-1c6b-4a9a-a6eb-f3b0bf9e73a0",
   "metadata": {},
   "source": [
    "## Self Parameter\n",
    "In Python, the `self` parameter is used within the methods of a class to refer to the instance of that class itself. It allows you to access and manipulate the attributes and methods of the instance. \n",
    "\n",
    "1. **Method Invocation:** When you call a method on an instance, Python automatically passes the instance as the first argument (`self`) to the method. This happens behind the scenes, so you don't need to explicitly provide the instance when calling methods.\n",
    "\n",
    "2. **Instance-specific Access:** When you create an object (instance) of a class, you often want to access its attributes and methods. The `self` parameter provides a way to refer to the instance itself from within its own methods. This enables you to work with the specific data associated with that instance.\n",
    "\n",
    "3. **Attribute Access:** Within a class method, you can use `self` to access and modify the attributes (variables) of the instance. This allows you to maintain separate state for each instance of the class. Without `self`, methods would not know which instance's data to work with."
   ]
  },
  {
   "cell_type": "code",
   "execution_count": 36,
   "id": "d51f9971-c185-40d6-b6b1-8b5ade0c48aa",
   "metadata": {},
   "outputs": [],
   "source": [
    "class Student:\n",
    "    def studentDetails():\n",
    "        pass"
   ]
  },
  {
   "cell_type": "code",
   "execution_count": 37,
   "id": "f4f1178b-2d84-4bad-ab85-f05acc75b245",
   "metadata": {},
   "outputs": [
    {
     "ename": "TypeError",
     "evalue": "Student.studentDetails() takes 0 positional arguments but 1 was given",
     "output_type": "error",
     "traceback": [
      "\u001b[1;31m---------------------------------------------------------------------------\u001b[0m",
      "\u001b[1;31mTypeError\u001b[0m                                 Traceback (most recent call last)",
      "Cell \u001b[1;32mIn[37], line 2\u001b[0m\n\u001b[0;32m      1\u001b[0m s1 \u001b[38;5;241m=\u001b[39m Student()\n\u001b[1;32m----> 2\u001b[0m \u001b[43ms1\u001b[49m\u001b[38;5;241;43m.\u001b[39;49m\u001b[43mstudentDetails\u001b[49m\u001b[43m(\u001b[49m\u001b[43m)\u001b[49m\n\u001b[0;32m      3\u001b[0m Student\u001b[38;5;241m.\u001b[39mstudentDetails(s1) \u001b[38;5;66;03m#above line and this line is same\u001b[39;00m\n",
      "\u001b[1;31mTypeError\u001b[0m: Student.studentDetails() takes 0 positional arguments but 1 was given"
     ]
    }
   ],
   "source": [
    "s1 = Student()\n",
    "s1.studentDetails()\n",
    "Student.studentDetails(s1) #above line and this line is same"
   ]
  },
  {
   "cell_type": "code",
   "execution_count": 63,
   "id": "666c697c-ee25-4231-92ac-74732f12d8dd",
   "metadata": {},
   "outputs": [],
   "source": [
    "class Student:\n",
    "    passingPercentage = 40\n",
    "    \n",
    "    def studentDetails(self):\n",
    "        self.name = \"Subhash\"\n",
    "        self.percentage = 10\n",
    "        print(\"Name: \", self.name, \"Percentage: \", self.percentage)\n",
    "\n",
    "    def isPassed(self):\n",
    "        if self.percentage > Student.passingPercentage:\n",
    "            print(\"Student is passed\")\n",
    "        else:\n",
    "            print(\"Student is not passed\")\n",
    "            \n",
    "    @staticmethod\n",
    "    def welcomeToSchool():\n",
    "        print(\"Hey! Welcome to School\")"
   ]
  },
  {
   "cell_type": "code",
   "execution_count": 64,
   "id": "9503b027-7e69-4902-9e01-c538b155997b",
   "metadata": {},
   "outputs": [
    {
     "name": "stdout",
     "output_type": "stream",
     "text": [
      "Name:  Subhash Percentage:  10\n",
      "Student is not passed\n",
      "Hey! Welcome to School\n"
     ]
    }
   ],
   "source": [
    "s1 = Student()\n",
    "s1.studentDetails()\n",
    "s1.isPassed()\n",
    "s1.welcomeToSchool()"
   ]
  },
  {
   "cell_type": "markdown",
   "id": "827af166-dd72-4c67-92ab-1b75d4b068d3",
   "metadata": {},
   "source": [
    "# Constructors in Python\n",
    "A constructor is a special method or instance method used to initialize the properties of objects. It is called as soon as a new object is created. For example:\n",
    "```python\n",
    "s1 = Student()\n",
    "```\n",
    "In the above example, when `s1` is created using the `Student()` class, the constructor associated with the `Student` class will be automatically called to set up the initial state of the `s1` object.\n",
    "\n",
    "If a class does not define a specific constructor, Python provides a default constructor that takes no arguments. This default constructor initializes the object with default values for its attributes. However, we can create your own custom constructor to provide specific initial values for the object's properties.\n",
    "\n",
    "`__init__` is a special method in Python classes, known as the constructor. It is automatically called when an object of the class is created. The primary purpose of the `__init__` method is to initialize the object's attributes or properties with specific values in Python classes.\n",
    "\n",
    "s1 and self are having the reference of the object\n"
   ]
  },
  {
   "cell_type": "code",
   "execution_count": 60,
   "id": "c5b35bd9-6fb8-443b-84df-5da101ac1708",
   "metadata": {},
   "outputs": [],
   "source": [
    "class Student:\n",
    "    def __init__(self, name, rollNumber):\n",
    "        self.name = name\n",
    "        self.rollNumber = rollNumber"
   ]
  },
  {
   "cell_type": "code",
   "execution_count": 62,
   "id": "5ed894a2-df24-47fa-bf57-7540352fcc9b",
   "metadata": {},
   "outputs": [
    {
     "name": "stdout",
     "output_type": "stream",
     "text": [
      "{'name': 'Ismail', 'rollNumber': 123004221}\n",
      "{'name': 'Luthu', 'rollNumber': 123004131}\n"
     ]
    }
   ],
   "source": [
    "s1 = Student(\"Ismail\", 123004221)\n",
    "s2 = Student(\"Luthu\", 123004131)\n",
    "print(s1.__dict__)\n",
    "print(s2.__dict__)"
   ]
  },
  {
   "cell_type": "code",
   "execution_count": null,
   "id": "841882d9-6df6-43c3-b86a-548f8a3484d5",
   "metadata": {},
   "outputs": [],
   "source": [
    "## Class Methods\n",
    "1. Also known as factory methods, these methods mostly used for returning objects"
   ]
  },
  {
   "cell_type": "code",
   "execution_count": 68,
   "id": "f58b8241-5a48-4d85-ad1e-806ddd848b8f",
   "metadata": {},
   "outputs": [],
   "source": [
    "from datetime import date\n",
    "\n",
    "class Student:\n",
    "    passingPercentage = 40\n",
    "    \n",
    "    def studentDetails(self, name, percentage):\n",
    "        self.name = name\n",
    "        self.percentage = percentage\n",
    "        print(\"Name: \", self.name, \"Percentage: \", self.percentage)\n",
    "\n",
    "    def isPassed(self):\n",
    "        if self.percentage > Student.passingPercentage:\n",
    "            print(\"Student is passed\")\n",
    "        else:\n",
    "            print(\"Student is not passed\")\n",
    "            \n",
    "    @classmethod\n",
    "    def fromBirthYear(cls, name, year, percentage):\n",
    "        return cls(name, date.today().year - year,  percentage)\n",
    "        \n",
    "    @staticmethod\n",
    "    def welcomeToSchool():\n",
    "        print(\"Hey! Welcome to School\")\n",
    "        \n",
    "    @staticmethod\n",
    "    def isTeen(age):\n",
    "        return age>16"
   ]
  },
  {
   "cell_type": "code",
   "execution_count": 69,
   "id": "ba5d96bc-fcdc-4430-be6c-2e57518e167d",
   "metadata": {},
   "outputs": [
    {
     "ename": "TypeError",
     "evalue": "Student() takes no arguments",
     "output_type": "error",
     "traceback": [
      "\u001b[1;31m---------------------------------------------------------------------------\u001b[0m",
      "\u001b[1;31mTypeError\u001b[0m                                 Traceback (most recent call last)",
      "Cell \u001b[1;32mIn[69], line 1\u001b[0m\n\u001b[1;32m----> 1\u001b[0m s1 \u001b[38;5;241m=\u001b[39m \u001b[43mStudent\u001b[49m\u001b[38;5;241;43m.\u001b[39;49m\u001b[43mfromBirthYear\u001b[49m\u001b[43m(\u001b[49m\u001b[38;5;124;43m\"\u001b[39;49m\u001b[38;5;124;43mSaraswathi\u001b[39;49m\u001b[38;5;124;43m\"\u001b[39;49m\u001b[43m,\u001b[49m\u001b[43m \u001b[49m\u001b[38;5;241;43m1100\u001b[39;49m\u001b[43m,\u001b[49m\u001b[43m \u001b[49m\u001b[38;5;241;43m100\u001b[39;49m\u001b[43m)\u001b[49m\n",
      "Cell \u001b[1;32mIn[68], line 19\u001b[0m, in \u001b[0;36mStudent.fromBirthYear\u001b[1;34m(cls, name, year, percentage)\u001b[0m\n\u001b[0;32m     17\u001b[0m \u001b[38;5;129m@classmethod\u001b[39m\n\u001b[0;32m     18\u001b[0m \u001b[38;5;28;01mdef\u001b[39;00m \u001b[38;5;21mfromBirthYear\u001b[39m(\u001b[38;5;28mcls\u001b[39m, name, year, percentage):\n\u001b[1;32m---> 19\u001b[0m     \u001b[38;5;28;01mreturn\u001b[39;00m \u001b[38;5;28;43mcls\u001b[39;49m\u001b[43m(\u001b[49m\u001b[43mname\u001b[49m\u001b[43m,\u001b[49m\u001b[43m \u001b[49m\u001b[43mdate\u001b[49m\u001b[38;5;241;43m.\u001b[39;49m\u001b[43mtoday\u001b[49m\u001b[43m(\u001b[49m\u001b[43m)\u001b[49m\u001b[38;5;241;43m.\u001b[39;49m\u001b[43myear\u001b[49m\u001b[43m \u001b[49m\u001b[38;5;241;43m-\u001b[39;49m\u001b[43m \u001b[49m\u001b[43myear\u001b[49m\u001b[43m,\u001b[49m\u001b[43m  \u001b[49m\u001b[43mpercentage\u001b[49m\u001b[43m)\u001b[49m\n",
      "\u001b[1;31mTypeError\u001b[0m: Student() takes no arguments"
     ]
    }
   ],
   "source": [
    "s1 = Student.fromBirthYear(\"Saraswathi\", 1100, 100)"
   ]
  },
  {
   "cell_type": "code",
   "execution_count": null,
   "id": "72725c48-3c2b-4805-9372-f7991efceff9",
   "metadata": {},
   "outputs": [],
   "source": [
    "class Student:\n",
    "    # Class Attributes\n",
    "    total_students = 29\n",
    "    teacher_name = \"Saraswathi\"\n",
    "\n",
    "    def __init__(self, name, age, rollNumber, *args):\n",
    "        self.__name = name  # Private attribute\n",
    "        self.age = age\n",
    "        self.rollNumber = rollNumber\n",
    "        \n",
    "    # Getter method for private attribute __name\n",
    "    def getName(self):\n",
    "        return self.__name\n",
    "    \n",
    "    # Setter method for private attribute __name\n",
    "    def setName(self, name):\n",
    "        self.__name = name\n",
    "        \n",
    "    # Instance method - printHello\n",
    "    def printHello(self):\n",
    "        print(\"Hello\")\n",
    "        \n",
    "    # Instance method - addName\n",
    "    def addName(self, name):\n",
    "        self.name = name  # If present, update the attribute, else add a new attribute\n",
    "        \n",
    "    # Instance method - printString\n",
    "    def printString(self, string):\n",
    "        print(\"Hello\", string)\n",
    "        \n",
    "    # Instance method - printName\n",
    "    def printName(self):\n",
    "        name = \"abc\" \n",
    "        print(self.name)\n",
    "\n",
    "# There is no constructor overloading in python , \n",
    "# you have multipe input like *args"
   ]
  }
 ],
 "metadata": {
  "kernelspec": {
   "display_name": "Python 3 (ipykernel)",
   "language": "python",
   "name": "python3"
  },
  "language_info": {
   "codemirror_mode": {
    "name": "ipython",
    "version": 3
   },
   "file_extension": ".py",
   "mimetype": "text/x-python",
   "name": "python",
   "nbconvert_exporter": "python",
   "pygments_lexer": "ipython3",
   "version": "3.11.3"
  }
 },
 "nbformat": 4,
 "nbformat_minor": 5
}
