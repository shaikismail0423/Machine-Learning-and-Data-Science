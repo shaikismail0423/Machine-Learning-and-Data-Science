{
 "cells": [
  {
   "cell_type": "markdown",
   "id": "50aed392-2187-4ad8-a4b1-2586c4c364e7",
   "metadata": {},
   "source": [
    "# Linked List\n",
    "\n",
    "A linked list is a data structure used to organize and store a collection of elements called nodes. Each node contains two parts: the data it holds, and a reference (or link) to the next node in the sequence. The last node typically points to a special value like `None`, indicating the end of the list.\n",
    "\n",
    "In below example, the `Node` class represents individual nodes with data and a reference to the next node. The `LinkedList` class maintains a reference to the head of the list and provides methods to append elements and display the list.\n",
    "\n",
    "- We can extend it by adding more methods for inserting, deleting, or searching for elements, as well as implementing doubly linked lists, circular linked lists, and other variations.\n",
    "\n",
    "- Linked lists are particularly useful when you need dynamic memory allocation, constant-time insertions and deletions at the beginning, and you don't need constant-time random access to elements like in arrays."
   ]
  },
  {
   "cell_type": "code",
   "execution_count": 77,
   "id": "245e62e6-41ee-4013-b841-8dff762fcc9c",
   "metadata": {},
   "outputs": [],
   "source": [
    "class Node:\n",
    "    def __init__(self, data):\n",
    "        self.data = data\n",
    "        self.next = None #reference to the next node"
   ]
  },
  {
   "cell_type": "code",
   "execution_count": 79,
   "id": "e531df62-4f6a-4a09-9582-8a034a451481",
   "metadata": {},
   "outputs": [
    {
     "name": "stdout",
     "output_type": "stream",
     "text": [
      "a data: 5\n",
      "b data: 7 \n",
      "\n",
      "a adress: <__main__.Node object at 0x0000023A58020690>\n",
      "b address: <__main__.Node object at 0x0000023A57E9CC50> \n",
      "\n"
     ]
    },
    {
     "data": {
      "text/plain": [
       "<function print(*args, sep=' ', end='\\n', file=None, flush=False)>"
      ]
     },
     "execution_count": 79,
     "metadata": {},
     "output_type": "execute_result"
    }
   ],
   "source": [
    "a = Node(5)\n",
    "b = Node(7)\n",
    "\n",
    "a.next = b\n",
    "\n",
    "print(\"a data:\", a.data)\n",
    "print(\"b data:\",b.data,\"\\n\")\n",
    "\n",
    "print(\"a adress:\",a)\n",
    "print(\"b address:\",b,\"\\n\")\n",
    "\n",
    "print "
   ]
  },
  {
   "cell_type": "code",
   "execution_count": 138,
   "id": "552bf584-b71e-4ab0-bb07-5ee90872bf3f",
   "metadata": {},
   "outputs": [],
   "source": [
    "class LinkedList:\n",
    "    def __init__(self):\n",
    "        self.head = None\n",
    "        self.tail = None\n",
    "        self.length = 0\n",
    "        \n",
    "    def append(self,data):\n",
    "        new_node = Node(data)\n",
    "        if self.head is None:\n",
    "            self.head = new_node\n",
    "            self.tail = new_node\n",
    "            self.length +=1\n",
    "        else:\n",
    "            self.tail.next = new_node\n",
    "            self.tail = new_node #imp\n",
    "            self.length +=1\n",
    "        return self.head\n",
    "        \n",
    "    def takeInput(self):\n",
    "        print(\"Enter the Input:\")\n",
    "        inputList = [ int(ele) for ele in input().strip().split()]\n",
    "        for val in inputList:\n",
    "            if val == -1:\n",
    "                break\n",
    "            self.append(val)\n",
    "        return self.head\n",
    "    \n",
    "    def printLL(self):\n",
    "        print(\"\\n\",\"The Linked List is:\")\n",
    "        temp  = self.head\n",
    "        while temp:\n",
    "            print(temp.data,\"->\",end = \"\")\n",
    "            temp = temp.next\n",
    "        print(\"None\")\n",
    "     \n",
    "    def printHelper(self, head = None): \n",
    "        if head is None:\n",
    "            return\n",
    "        self.printHelper(head.next)\n",
    "        print(head.data,end = \"->\")\n",
    "            \n",
    "    def printReverse(self):\n",
    "        print(\"Reversed Linkedlist:\")\n",
    "        self.printHelper(self.head)\n",
    "        print(\"None\")"
   ]
  },
  {
   "cell_type": "code",
   "execution_count": 140,
   "id": "90cb907f-3b18-4867-92da-3c9c2f152dfb",
   "metadata": {},
   "outputs": [
    {
     "name": "stdout",
     "output_type": "stream",
     "text": [
      "Enter the Input:\n"
     ]
    },
    {
     "name": "stdin",
     "output_type": "stream",
     "text": [
      " 11 22 33 44 -1\n"
     ]
    },
    {
     "name": "stdout",
     "output_type": "stream",
     "text": [
      "\n",
      " The Linked List is:\n",
      "11 ->22 ->33 ->44 ->1 ->2 ->3 ->None\n",
      "\n",
      "Reversed Linkedlist:\n",
      "3->2->1->44->33->22->11->None\n"
     ]
    }
   ],
   "source": [
    "linklist = LinkedList()\n",
    "linklist.takeInput()\n",
    "\n",
    "linklist.append(1)\n",
    "linklist.append(2)\n",
    "linklist.append(3)\n",
    "\n",
    "linklist.printLL()\n",
    "print()\n",
    "linklist.printReverse()"
   ]
  },
  {
   "cell_type": "markdown",
   "id": "8634cab0-3b76-4355-bc9f-a98bc23d1317",
   "metadata": {},
   "source": [
    "## Print ith Index"
   ]
  },
  {
   "cell_type": "code",
   "execution_count": 89,
   "id": "068c73c7-5734-4a9a-8749-aff77f59cf43",
   "metadata": {},
   "outputs": [],
   "source": [
    "class LinkedListPrintsIthIndex(LinkedList):\n",
    "    def __init__(self):\n",
    "        super().__init__()\n",
    "        \n",
    "    def printIthIndexNode(self, i):\n",
    "        if self.length <= i:\n",
    "            print(\"Node doesnt Exist\")\n",
    "        else:\n",
    "            temp = self.head\n",
    "            while i>0:\n",
    "                temp = temp.next\n",
    "                i-=1\n",
    "            print(\"Data is:\",temp.data)\n",
    "\n",
    "    def printIthNode2ndWay(self, i):\n",
    "        count = 0\n",
    "        temp = self.head\n",
    "        while count < i and temp != None:\n",
    "            temp = temp.next\n",
    "            count+=1\n",
    "        if temp is None:\n",
    "            print(\"Requested Node doesnt Exist in The Linked List\")\n",
    "        else:\n",
    "            print(\"Requested Node Data is:\",temp.data)\n",
    "    "
   ]
  },
  {
   "cell_type": "code",
   "execution_count": 91,
   "id": "b56ce128-ccb7-4d84-98fa-93fc88daa8da",
   "metadata": {},
   "outputs": [
    {
     "name": "stdout",
     "output_type": "stream",
     "text": [
      "Enter the Input:\n"
     ]
    },
    {
     "name": "stdin",
     "output_type": "stream",
     "text": [
      " 100 101 102 45 89 -1\n"
     ]
    },
    {
     "name": "stdout",
     "output_type": "stream",
     "text": [
      "\n",
      " The Linked List is:\n",
      "100 ->101 ->102 ->45 ->89 ->1 ->2 ->3 ->None\n"
     ]
    }
   ],
   "source": [
    "linklist = LinkedListPrintsIthIndex()\n",
    "linklist.takeInput()\n",
    "\n",
    "linklist.append(1)\n",
    "linklist.append(2)\n",
    "linklist.append(3)\n",
    "\n",
    "linklist.printLL()"
   ]
  },
  {
   "cell_type": "code",
   "execution_count": 92,
   "id": "db02de5a-f852-407e-a5d9-b04b12b1891b",
   "metadata": {},
   "outputs": [
    {
     "name": "stdout",
     "output_type": "stream",
     "text": [
      "Data is: 102\n"
     ]
    }
   ],
   "source": [
    "linklist.printIthIndexNode(2)"
   ]
  },
  {
   "cell_type": "markdown",
   "id": "d243f3bc-64ee-4247-8ae3-1611e7f5abd4",
   "metadata": {},
   "source": [
    "## Insert At i'th Index \n",
    "- Iterative\n",
    "- Recursive"
   ]
  },
  {
   "cell_type": "code",
   "execution_count": 97,
   "id": "ef0aa86b-1162-42d4-be9a-74bad195507b",
   "metadata": {},
   "outputs": [],
   "source": [
    "class LinkedListInsertAtI(LinkedList):\n",
    "    def __init__(self):\n",
    "        super().__init__()\n",
    "        \n",
    "    # Time Complexity: O(i) \n",
    "    def insertAtI(self, i, data):\n",
    "        if i < 0 or i > self.length: \n",
    "            return\n",
    "            \n",
    "        new_node = Node(data)\n",
    "        prev = None\n",
    "        curr = self.head\n",
    "        count = 0\n",
    "        \n",
    "        while count < i:\n",
    "            prev = curr\n",
    "            curr = curr.next\n",
    "            count+=1\n",
    "            \n",
    "        if prev is None:\n",
    "            new_node.next = curr\n",
    "            self.head = new_node\n",
    "        else:\n",
    "            prev.next = new_node\n",
    "            new_node.next = curr\n",
    "            \n",
    "    # Time Complexity: O(i) \n",
    "    def insertAtIRecursively(self, i, data, head=None):\n",
    "        if i < 0 or i > self.length:\n",
    "            return head\n",
    "\n",
    "        if i == 0:\n",
    "            new_node = Node(data)\n",
    "            new_node.next = head\n",
    "            return new_node\n",
    "        \n",
    "        if head is None:\n",
    "            return None\n",
    " \n",
    "        head.next = self.insertAtIRecursively(i - 1, data, head.next)\n",
    "        return head"
   ]
  },
  {
   "cell_type": "code",
   "execution_count": 103,
   "id": "7e135caa-1f67-4e0d-8182-a62582f965c7",
   "metadata": {},
   "outputs": [
    {
     "name": "stdout",
     "output_type": "stream",
     "text": [
      "Enter the Input:\n"
     ]
    },
    {
     "name": "stdin",
     "output_type": "stream",
     "text": [
      " 100 101 102 45 89 -1\n"
     ]
    },
    {
     "name": "stdout",
     "output_type": "stream",
     "text": [
      "\n",
      " The Linked List is:\n",
      "100 ->101 ->102 ->45 ->89 ->1 ->2 ->3 ->None\n"
     ]
    }
   ],
   "source": [
    "linklist = LinkedListInsertAtI()\n",
    "linklist.takeInput()\n",
    "\n",
    "linklist.append(1)\n",
    "linklist.append(2)\n",
    "linklist.append(3)\n",
    "\n",
    "linklist.printLL()"
   ]
  },
  {
   "cell_type": "code",
   "execution_count": 104,
   "id": "d251f460-a828-4e57-bd7d-df424abde9af",
   "metadata": {},
   "outputs": [
    {
     "name": "stdout",
     "output_type": "stream",
     "text": [
      "Inserting at 2nd Index with data 1034 Iteratively: \n",
      "\n",
      " The Linked List is:\n",
      "100 ->101 ->1034 ->102 ->45 ->89 ->1 ->2 ->3 ->None\n",
      "\n",
      "Inserting at 4th Index with data 143 Recursively:\n",
      "\n",
      " The Linked List is:\n",
      "100 ->101 ->1034 ->102 ->143 ->45 ->89 ->1 ->2 ->3 ->None\n"
     ]
    }
   ],
   "source": [
    "print(\"Inserting at 2nd Index with data 1034 Iteratively: \")\n",
    "linklist.insertAtI(2,1034)\n",
    "linklist.printLL()\n",
    "print()\n",
    "\n",
    "print(\"Inserting at 4th Index with data 143 Recursively:\")\n",
    "linklist.insertAtIRecursively(4, 143, linklist.head)\n",
    "linklist.printLL()"
   ]
  },
  {
   "cell_type": "markdown",
   "id": "cb47f129-bb70-4548-b36c-958d6186a51b",
   "metadata": {},
   "source": [
    "## Delete Data from Ith Index\n",
    "1. Iterative\n",
    "2. Recursive"
   ]
  },
  {
   "cell_type": "code",
   "execution_count": 116,
   "id": "645eaf80-1e6e-46be-b685-c061b8d4cb96",
   "metadata": {},
   "outputs": [],
   "source": [
    "class LinkedListDeleteAtI(LinkedList):\n",
    "    def __init__(self):\n",
    "        super().__init__()\n",
    "        \n",
    "    def deleteIthNode(self,i):\n",
    "        if self.length <= i or i < 0:\n",
    "            print(\"Index doesn't Exist\")\n",
    "            return \n",
    "            \n",
    "        prev = None\n",
    "        curr = self.head\n",
    "        count = 0\n",
    "        \n",
    "        while count < i:\n",
    "            prev = curr\n",
    "            curr = curr.next\n",
    "            count+=1\n",
    "            \n",
    "        if prev is None:\n",
    "            self.head = curr.next\n",
    "        else:\n",
    "            prev.next = curr.next\n",
    "        del curr\n",
    "        self.length -= 1\n",
    "        \n",
    "    def deleteRec(self, i, head):\n",
    "        if i < 0:\n",
    "            return head\n",
    "            \n",
    "        if i == 0 :\n",
    "            return head.next\n",
    "            \n",
    "        if head == None:\n",
    "            return None\n",
    "        \n",
    "        dele = self.deleteRec(i-1, head.next)\n",
    "        head.next = dele\n",
    "        \n",
    "        return head "
   ]
  },
  {
   "cell_type": "code",
   "execution_count": 117,
   "id": "58e028a7-ce39-4c2c-a6da-2362024ef39a",
   "metadata": {},
   "outputs": [
    {
     "name": "stdout",
     "output_type": "stream",
     "text": [
      "Enter the Input:\n"
     ]
    },
    {
     "name": "stdin",
     "output_type": "stream",
     "text": [
      " 100 101 102 45 89 -1\n"
     ]
    },
    {
     "name": "stdout",
     "output_type": "stream",
     "text": [
      "\n",
      " The Linked List is:\n",
      "100 ->101 ->102 ->45 ->89 ->1 ->2 ->3 ->None\n"
     ]
    }
   ],
   "source": [
    "linklist = LinkedListDeleteAtI()\n",
    "linklist.takeInput()\n",
    "\n",
    "linklist.append(1)\n",
    "linklist.append(2)\n",
    "linklist.append(3)\n",
    "\n",
    "linklist.printLL()"
   ]
  },
  {
   "cell_type": "code",
   "execution_count": 118,
   "id": "fff7747c-045e-4b23-84d6-40e5573dda97",
   "metadata": {},
   "outputs": [
    {
     "name": "stdout",
     "output_type": "stream",
     "text": [
      "Removing 0th Index Data Iteratively: \n",
      "\n",
      " The Linked List is:\n",
      "101 ->102 ->45 ->89 ->1 ->2 ->3 ->None\n",
      "\n",
      "Deleting 4th Index Data Recursively:\n",
      "\n",
      " The Linked List is:\n",
      "101 ->102 ->45 ->89 ->2 ->3 ->None\n"
     ]
    }
   ],
   "source": [
    "print(\"Removing 0th Index Data Iteratively: \")\n",
    "linklist.deleteIthNode(0)\n",
    "linklist.printLL()\n",
    "print()\n",
    "\n",
    "print(\"Deleting 4th Index Data Recursively:\")\n",
    "linklist.deleteRec(4, linklist.head)\n",
    "linklist.printLL()"
   ]
  },
  {
   "cell_type": "markdown",
   "id": "f8770d40-69ab-4c9a-b86e-48c11a169204",
   "metadata": {},
   "source": [
    "## Append Last n elements to first of LinkedList:"
   ]
  },
  {
   "cell_type": "code",
   "execution_count": 119,
   "id": "7319dccc-8db6-48a0-bd5d-1ec274637ca5",
   "metadata": {},
   "outputs": [],
   "source": [
    "class LinkedListAppendLastNToFirst(LinkedList):\n",
    "    def __init__(self):\n",
    "        super().__init__()\n",
    "\n",
    "    def appendLastNToFirst(self,n): \n",
    "        if n>= self.length or n == 0:\n",
    "            return\n",
    "            \n",
    "        temp = self.head\n",
    "        count = self.length - n\n",
    "        \n",
    "        while count > 1:\n",
    "            temp = temp.next\n",
    "            count-=1\n",
    "            \n",
    "        tail1 = temp\n",
    "        \n",
    "        head2 = temp.next\n",
    "        while temp.next:\n",
    "            temp = temp.next\n",
    "            \n",
    "        tail2 = temp\n",
    "\n",
    "        tail1.next = None\n",
    "        tail2.next = self.head\n",
    "        self.head = head2"
   ]
  },
  {
   "cell_type": "code",
   "execution_count": 120,
   "id": "09dc76f3-f1cf-4b60-83cc-60535903a159",
   "metadata": {},
   "outputs": [
    {
     "name": "stdout",
     "output_type": "stream",
     "text": [
      "Enter the Input:\n"
     ]
    },
    {
     "name": "stdin",
     "output_type": "stream",
     "text": [
      " 100 101 102 45 89 -1\n"
     ]
    },
    {
     "name": "stdout",
     "output_type": "stream",
     "text": [
      "\n",
      " The Linked List is:\n",
      "100 ->101 ->102 ->45 ->89 ->1 ->2 ->3 ->None\n"
     ]
    }
   ],
   "source": [
    "linklist = LinkedListAppendLastNToFirst()\n",
    "linklist.takeInput()\n",
    "\n",
    "linklist.append(1)\n",
    "linklist.append(2)\n",
    "linklist.append(3)\n",
    "\n",
    "linklist.printLL()"
   ]
  },
  {
   "cell_type": "code",
   "execution_count": 121,
   "id": "f3ca202c-4e8b-487b-92e0-32472d6e0b15",
   "metadata": {},
   "outputs": [
    {
     "name": "stdout",
     "output_type": "stream",
     "text": [
      "Appended 3 elements from last to first:\n",
      "\n",
      " The Linked List is:\n",
      "1 ->2 ->3 ->100 ->101 ->102 ->45 ->89 ->None\n",
      "\n"
     ]
    }
   ],
   "source": [
    "print(\"Appended 3 elements from last to first:\")\n",
    "linklist.appendLastNToFirst(3)\n",
    "linklist.printLL()\n",
    "print()"
   ]
  },
  {
   "cell_type": "markdown",
   "id": "376b11b0-366a-4c02-aee7-0ed567ab6586",
   "metadata": {},
   "source": [
    "## Remove Duplicates from Sorted LinkedList\n",
    "- Function1: return the index of the node\n",
    "- Function2: Remove Duplicates from Sorted List"
   ]
  },
  {
   "cell_type": "code",
   "execution_count": 125,
   "id": "62f8371e-a20d-42b8-843a-f2c7575dad7f",
   "metadata": {},
   "outputs": [],
   "source": [
    "class LinkedListRemoveDuplicates(LinkedList):\n",
    "    def __init__(self):\n",
    "        super().__init__()\n",
    "        \n",
    "    def indexOfNode(self,data):\n",
    "        temp = self.head\n",
    "        index = 0\n",
    "\n",
    "        while temp :\n",
    "            if temp.data == data:\n",
    "                return index\n",
    "            index+=1\n",
    "            temp = temp.next\n",
    "        return -1\n",
    "\n",
    "    def removeDuplicatesFromSortedLinkedlist(self): \n",
    "        if self.head != None and self.head.next != None:\n",
    "            prev = self.head\n",
    "            curr = self.head.next\n",
    "            while curr:\n",
    "                if prev.data != curr.data:\n",
    "                    prev.next = curr\n",
    "                    prev = curr\n",
    "                    curr = curr.next\n",
    "                else:\n",
    "                    curr = curr.next\n",
    "            prev.next = None\n",
    "        else:\n",
    "            return"
   ]
  },
  {
   "cell_type": "code",
   "execution_count": 131,
   "id": "bf7bfc77-3b72-4621-80f9-f7a2c706c30e",
   "metadata": {},
   "outputs": [
    {
     "name": "stdout",
     "output_type": "stream",
     "text": [
      "Enter the Input:\n"
     ]
    },
    {
     "name": "stdin",
     "output_type": "stream",
     "text": [
      " 1 1 1 1 1 1 1 1 2 2 2 2 2 2 3 3 3 3 4 4 4 4 4 -1\n"
     ]
    },
    {
     "name": "stdout",
     "output_type": "stream",
     "text": [
      "\n",
      " The Linked List is:\n",
      "1 ->1 ->1 ->1 ->1 ->1 ->1 ->1 ->2 ->2 ->2 ->2 ->2 ->2 ->3 ->3 ->3 ->3 ->4 ->4 ->4 ->4 ->4 ->11 ->22 ->33 ->None\n"
     ]
    }
   ],
   "source": [
    "linklist = LinkedListRemoveDuplicates()\n",
    "linklist.takeInput()\n",
    "\n",
    "linklist.append(11)\n",
    "linklist.append(22)\n",
    "linklist.append(33)\n",
    "\n",
    "linklist.printLL()"
   ]
  },
  {
   "cell_type": "code",
   "execution_count": 132,
   "id": "e5f294d0-a68a-4d4a-bf76-baba0857cd6b",
   "metadata": {},
   "outputs": [
    {
     "name": "stdout",
     "output_type": "stream",
     "text": [
      "Index of Node with value 3:\n",
      "14\n",
      "\n",
      "Eliminated Duplicates:\n",
      "\n",
      " The Linked List is:\n",
      "1 ->2 ->3 ->4 ->11 ->22 ->33 ->None\n"
     ]
    }
   ],
   "source": [
    "print(\"Index of Node with value 3:\")\n",
    "index = linklist.indexOfNode(3)\n",
    "print(index)\n",
    "print()\n",
    "\n",
    "print(\"Eliminated Duplicates:\")\n",
    "linklist.removeDuplicatesFromSortedLinkedlist()\n",
    "linklist.printLL()"
   ]
  },
  {
   "cell_type": "markdown",
   "id": "1591afb5-2580-4286-9e49-e5e4e8da7893",
   "metadata": {},
   "source": [
    "## Check LinkedList is Palindrome or not"
   ]
  },
  {
   "cell_type": "code",
   "execution_count": 141,
   "id": "25cdff1e-cd6a-4b6a-861d-931f15ec450b",
   "metadata": {},
   "outputs": [],
   "source": [
    "class LinkedListcheckPalindrome(LinkedList):\n",
    "    def __init__(self):\n",
    "        super().__init__()\n",
    "        \n",
    "    def is_palindrome_recursive(self):\n",
    "        if self.head is None:\n",
    "            return True\n",
    "        # reverse\n",
    "        def reverse_list(node):\n",
    "            prev = None\n",
    "            while node:\n",
    "                next_node = node.next\n",
    "                node.next = prev\n",
    "                prev = node\n",
    "                node = next_node\n",
    "            return prev\n",
    "            \n",
    "        # slow and fast pointer to find mid\n",
    "        slow = fast = self.head\n",
    "        while fast and fast.next:\n",
    "            slow = slow.next\n",
    "            fast = fast.next.next\n",
    "\n",
    "        second_half_reversed = reverse_list(slow)\n",
    "        first_half = self.head\n",
    "\n",
    "        while second_half_reversed:\n",
    "            if second_half_reversed.data != first_half.data:\n",
    "                return False\n",
    "            second_half_reversed = second_half_reversed.next\n",
    "            first_half = first_half.next\n",
    "\n",
    "        return True"
   ]
  },
  {
   "cell_type": "code",
   "execution_count": 143,
   "id": "be56bf24-babf-4a51-be0d-8a08be881f27",
   "metadata": {},
   "outputs": [
    {
     "name": "stdout",
     "output_type": "stream",
     "text": [
      "Enter the Input:\n"
     ]
    },
    {
     "name": "stdin",
     "output_type": "stream",
     "text": [
      " 33 22 11 -1\n"
     ]
    },
    {
     "name": "stdout",
     "output_type": "stream",
     "text": [
      "\n",
      " The Linked List is:\n",
      "33 ->22 ->11 ->11 ->22 ->33 ->None\n"
     ]
    }
   ],
   "source": [
    "linklist = LinkedListcheckPalindrome()\n",
    "linklist.takeInput()\n",
    "\n",
    "linklist.append(11)\n",
    "linklist.append(22)\n",
    "linklist.append(33)\n",
    "\n",
    "linklist.printLL()"
   ]
  },
  {
   "cell_type": "code",
   "execution_count": 144,
   "id": "2bb77ed5-0526-4405-a23b-1bdb3c477aff",
   "metadata": {},
   "outputs": [
    {
     "name": "stdout",
     "output_type": "stream",
     "text": [
      "Is the list is palindrome:\n",
      "True\n",
      "\n",
      " The Linked List is:\n",
      "33 ->22 ->11 ->11 ->None\n"
     ]
    }
   ],
   "source": [
    "print(\"Is the list is palindrome:\")\n",
    "ispalindrom = linklist.is_palindrome_recursive()\n",
    "print(ispalindrom)\n",
    "linklist.printLL()"
   ]
  },
  {
   "cell_type": "markdown",
   "id": "f9edb5b4-48ab-4ae2-8184-f889948665bb",
   "metadata": {},
   "source": [
    "## Reverse a Linked List\n",
    "1. Recursive O(n^2)\n",
    "2. Recursive O(n)"
   ]
  },
  {
   "cell_type": "code",
   "execution_count": 164,
   "id": "eba4464e-9b4c-42f2-a5f8-4d471dad8f99",
   "metadata": {},
   "outputs": [],
   "source": [
    "class LinkedListReverseInPlace(LinkedList):\n",
    "    def __init__(self):\n",
    "        super().__init__()\n",
    "        \n",
    "    def reverseLinkedlistHelper(self, head):\n",
    "        if head is None or head.next is None:\n",
    "            return head\n",
    "\n",
    "        smallHead  = self.reverseLinkedlistHelper(head.next)\n",
    "        temp = smallHead\n",
    "        while temp.next:\n",
    "            temp = temp.next\n",
    "            \n",
    "        tail = temp\n",
    "        tail.next = head\n",
    "        head.next = None\n",
    "        \n",
    "        return smallHead\n",
    "\n",
    "    def reverseLinkedlistOptimizedHelper(self, head):\n",
    "        if head is None or head.next is None:\n",
    "            return head, head\n",
    "        smallHead, tail = self.reverseLinkedlistOptimizedHelper(head.next)\n",
    "        tail.next = head\n",
    "        head.next = None\n",
    "        return smallHead, head\n",
    "  \n",
    "    def reverseLinkedListRecursive(self):\n",
    "        self.head = self.reverseLinkedlistHelper(self.head)\n",
    "\n",
    "    def reverseLinkedListoptimized(self):\n",
    "        self.head, tail = self.reverseLinkedlistOptimizedHelper(self.head)"
   ]
  },
  {
   "cell_type": "code",
   "execution_count": 161,
   "id": "9cc07827-4a0f-4457-9bb4-4da163f23c51",
   "metadata": {},
   "outputs": [
    {
     "name": "stdout",
     "output_type": "stream",
     "text": [
      "Enter the Input:\n"
     ]
    },
    {
     "name": "stdin",
     "output_type": "stream",
     "text": [
      " 1 2 3 4 56 -1\n"
     ]
    },
    {
     "name": "stdout",
     "output_type": "stream",
     "text": [
      "\n",
      " The Linked List is:\n",
      "1 ->2 ->3 ->4 ->56 ->11 ->22 ->33 ->None\n"
     ]
    }
   ],
   "source": [
    "linklist = LinkedListReverseInPlace()\n",
    "linklist.takeInput()\n",
    "\n",
    "linklist.append(11)\n",
    "linklist.append(22)\n",
    "linklist.append(33)\n",
    "\n",
    "linklist.printLL()"
   ]
  },
  {
   "cell_type": "code",
   "execution_count": 162,
   "id": "2982b18d-e7ae-4d59-82e7-94f7ebf5d4d1",
   "metadata": {},
   "outputs": [
    {
     "name": "stdout",
     "output_type": "stream",
     "text": [
      "Reversed LinkedList recursive:\n",
      "\n",
      " The Linked List is:\n",
      "33 ->22 ->11 ->56 ->4 ->3 ->2 ->1 ->None\n"
     ]
    }
   ],
   "source": [
    "print(\"Reversed LinkedList recursive:\")\n",
    "linklist.reverseLinkedListRecursive()\n",
    "linklist.printLL()"
   ]
  },
  {
   "cell_type": "code",
   "execution_count": 163,
   "id": "92e5a284-467e-46e3-b1fe-9528e37dca32",
   "metadata": {},
   "outputs": [
    {
     "name": "stdout",
     "output_type": "stream",
     "text": [
      "Reversed LinkedList recursive Optimized:\n",
      "\n",
      " The Linked List is:\n",
      "1 ->2 ->3 ->4 ->56 ->11 ->22 ->33 ->None\n"
     ]
    }
   ],
   "source": [
    "print(\"Reversed LinkedList recursive Optimized:\")\n",
    "linklist.reverseLinkedListoptimized()\n",
    "linklist.printLL()"
   ]
  },
  {
   "cell_type": "code",
   "execution_count": null,
   "id": "fdce8612-8a1b-4cf9-a4c3-b35e0b29281d",
   "metadata": {},
   "outputs": [],
   "source": []
  }
 ],
 "metadata": {
  "kernelspec": {
   "display_name": "Python 3 (ipykernel)",
   "language": "python",
   "name": "python3"
  },
  "language_info": {
   "codemirror_mode": {
    "name": "ipython",
    "version": 3
   },
   "file_extension": ".py",
   "mimetype": "text/x-python",
   "name": "python",
   "nbconvert_exporter": "python",
   "pygments_lexer": "ipython3",
   "version": "3.11.3"
  }
 },
 "nbformat": 4,
 "nbformat_minor": 5
}
