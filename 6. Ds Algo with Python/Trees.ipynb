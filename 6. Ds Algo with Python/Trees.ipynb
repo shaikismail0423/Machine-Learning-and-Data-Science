{
 "cells": [
  {
   "cell_type": "markdown",
   "id": "f45562ba-0602-435d-80f2-63b36dc21c83",
   "metadata": {},
   "source": [
    "Trees are a fundamental data structure in computer science and have a wide range of applications. A tree is a hierarchical data structure that consists of nodes connected by edges. Each node has a value or data associated with it, and it can have zero or more child nodes. The top node of a tree is called the root, and nodes with no children are called leaves. Here are some key concepts related to trees:\n",
    "\n",
    "1. **Tree Terminology:**\n",
    "\n",
    "   - **Root:** The topmost node in a tree.\n",
    "   - **Node:** A data element within a tree that can have zero or more children.\n",
    "   - **Child:** A node directly connected to another node when moving away from the root.\n",
    "   - **Parent:** The converse notion of a child.\n",
    "   - **Siblings:** Nodes with the same parent.\n",
    "   - **Leaf:** A node with no children.\n",
    "   - **Height:** The length of the longest path to a leaf from a given node. The height of the tree is the height of the root.\n",
    "   - **Depth:** The length of the path to the root from a given node.\n",
    "   - **Subtree:** A tree formed by selecting a node and all its descendants.\n",
    "   - **Ancestors:** The nodes in the path of current node to root.\n",
    "\n",
    "2. **Types of Trees:**\n",
    "\n",
    "   - **Binary Tree:** A tree in which each node has at most two children, referred to as the left child and the right child. 0,1,2\n",
    "   - **Binary Search Tree (BST):** A binary tree where each node's left child has a value less than its parent, and the right child has a value greater than its parent. BSTs are often used for efficient searching and sorting.\n",
    "   - **Balanced Tree:** A tree in which the height of the left and right subtrees of any node differs by at most one. Examples include AVL trees and Red-Black trees.\n",
    "   - **Binary Heap:** A binary tree with a specific ordering property that is often used in heap data structures for efficient priority queue implementations.\n",
    "   - **Trie:** A tree-like data structure used for storing a dynamic set or associative array, often used for text and string-related operations.\n",
    "\n",
    "3. **Tree Traversal:**\n",
    "\n",
    "   - **In-order:** Traverse the left subtree, visit the current node, and then traverse the right subtree.\n",
    "   - **Pre-order:** Visit the current node, traverse the left subtree, and then traverse the right subtree.\n",
    "   - **Post-order:** Traverse the left subtree, traverse the right subtree, and then visit the current node.\n",
    "\n",
    "4. **Applications of Trees:**\n",
    "\n",
    "   - **Binary Search Trees (BSTs):** Efficient searching, insertion, and deletion of elements.\n",
    "   - **Expression Trees:** Used for evaluating expressions and parsing.\n",
    "   - **Directory and File Systems:** Representing file hierarchies.\n",
    "   - **HTML and XML Parsing:** Parsing and navigating structured data.\n",
    "   - **Graph Algorithms:** Trees are a fundamental building block for many graph algorithms.\n",
    "   - **Game Trees:** Used in game-playing algorithms like minimax.\n",
    "   - **Data Compression:** Huffman coding uses binary trees for efficient data compression.\n",
    "\n",
    "Understanding trees and their properties is essential for solving various computational problems and is a fundamental topic in data structures and algorithms. Different types of trees are suited for different tasks, so choosing the right tree structure for a particular problem is crucial."
   ]
  },
  {
   "cell_type": "code",
   "execution_count": 4,
   "id": "7c395025-0fab-402b-83fa-bf08e9267bf2",
   "metadata": {},
   "outputs": [],
   "source": [
    "class BinaryTreeNode:\n",
    "    def __init__(self,data):\n",
    "        self.data = data\n",
    "        self.left = None # Address of nodes children\n",
    "        self.right = None"
   ]
  },
  {
   "cell_type": "code",
   "execution_count": 46,
   "id": "f8571a15-ae90-4baa-a921-f511b5ad7265",
   "metadata": {},
   "outputs": [],
   "source": [
    "bt1 = BinaryTreeNode(1)\n",
    "bt2 = BinaryTreeNode(2)\n",
    "bt3 = BinaryTreeNode(3)\n",
    "bt4 = BinaryTreeNode(4)\n",
    "bt5 = BinaryTreeNode(5)\n",
    "\n",
    "bt1.left = bt2\n",
    "bt1.right = bt3\n",
    "bt3.left = bt4\n",
    "bt3.right = bt5"
   ]
  },
  {
   "cell_type": "code",
   "execution_count": 47,
   "id": "26f7053d-4b5a-4adc-a23c-11d8c8178b3c",
   "metadata": {},
   "outputs": [
    {
     "data": {
      "text/plain": [
       "2"
      ]
     },
     "execution_count": 47,
     "metadata": {},
     "output_type": "execute_result"
    }
   ],
   "source": [
    "bt1.left.data"
   ]
  },
  {
   "cell_type": "code",
   "execution_count": 48,
   "id": "79eafda7-9d8c-44e8-b3d7-0dee68082080",
   "metadata": {},
   "outputs": [
    {
     "data": {
      "text/plain": [
       "3"
      ]
     },
     "execution_count": 48,
     "metadata": {},
     "output_type": "execute_result"
    }
   ],
   "source": [
    "bt1.right.data"
   ]
  },
  {
   "cell_type": "markdown",
   "id": "bc1c8fea-1911-47f6-8581-62b3e78257c6",
   "metadata": {},
   "source": [
    "# Print tree\n",
    "\n",
    "Base Case:\n",
    "1. root is None"
   ]
  },
  {
   "cell_type": "code",
   "execution_count": 49,
   "id": "d4426574-a481-4078-a1a2-16eb7af4c95a",
   "metadata": {},
   "outputs": [],
   "source": [
    "def printTree(root):\n",
    "    if root is None:\n",
    "        return\n",
    "    print(root.data)\n",
    "    printTree(root.left)\n",
    "    printTree(root.right)"
   ]
  },
  {
   "cell_type": "code",
   "execution_count": 75,
   "id": "d7778162-3a02-4865-9ad2-42bdf27a9b5c",
   "metadata": {},
   "outputs": [],
   "source": [
    "def printTree(root):\n",
    "    if root is None:\n",
    "        return\n",
    "        \n",
    "    print(root.data,\": \", end = \"\")\n",
    "    if root.left :\n",
    "        print(f\"L {root.left.data}\", end = \"\")\n",
    "    if root.right :\n",
    "        print(\", R\", root.right.data, end = \"\")\n",
    "    print()\n",
    "    printTree(root.left)\n",
    "    printTree(root.right)"
   ]
  },
  {
   "cell_type": "code",
   "execution_count": 51,
   "id": "4dd4e422-a3d5-4078-877b-4b4156525e52",
   "metadata": {},
   "outputs": [
    {
     "name": "stdout",
     "output_type": "stream",
     "text": [
      "1 : L 2, R 3\n",
      "2 : \n",
      "3 : L 4, R 5\n",
      "4 : \n",
      "5 : \n"
     ]
    }
   ],
   "source": [
    "printTree(bt1)"
   ]
  },
  {
   "cell_type": "code",
   "execution_count": 52,
   "id": "d4cbf0ab-c234-4ff4-b012-308deae20663",
   "metadata": {},
   "outputs": [],
   "source": [
    "# Take input recursive"
   ]
  },
  {
   "cell_type": "code",
   "execution_count": 67,
   "id": "6e314366-5591-45eb-a47c-fd986ba814d1",
   "metadata": {},
   "outputs": [],
   "source": [
    "def takeInput():\n",
    "    print(\"Enter root Data\")\n",
    "    rootData = int(input())\n",
    "    \n",
    "    if rootData == -1:\n",
    "        return None\n",
    "        \n",
    "    root = BinaryTreeNode(rootData)\n",
    "    \n",
    "    leftTree = takeInput()\n",
    "    rightTree = takeInput()\n",
    "    root.left = leftTree\n",
    "    root.right = rightTree\n",
    "    return root"
   ]
  },
  {
   "cell_type": "code",
   "execution_count": 71,
   "id": "12f74576-b5c4-4ff8-9db7-63cb7e28f9e9",
   "metadata": {},
   "outputs": [
    {
     "name": "stdout",
     "output_type": "stream",
     "text": [
      "Enter root Data\n"
     ]
    },
    {
     "name": "stdin",
     "output_type": "stream",
     "text": [
      " 1\n"
     ]
    },
    {
     "name": "stdout",
     "output_type": "stream",
     "text": [
      "Enter root Data\n"
     ]
    },
    {
     "name": "stdin",
     "output_type": "stream",
     "text": [
      " 2\n"
     ]
    },
    {
     "name": "stdout",
     "output_type": "stream",
     "text": [
      "Enter root Data\n"
     ]
    },
    {
     "name": "stdin",
     "output_type": "stream",
     "text": [
      " -1\n"
     ]
    },
    {
     "name": "stdout",
     "output_type": "stream",
     "text": [
      "Enter root Data\n"
     ]
    },
    {
     "name": "stdin",
     "output_type": "stream",
     "text": [
      " -1\n"
     ]
    },
    {
     "name": "stdout",
     "output_type": "stream",
     "text": [
      "Enter root Data\n"
     ]
    },
    {
     "name": "stdin",
     "output_type": "stream",
     "text": [
      " 3\n"
     ]
    },
    {
     "name": "stdout",
     "output_type": "stream",
     "text": [
      "Enter root Data\n"
     ]
    },
    {
     "name": "stdin",
     "output_type": "stream",
     "text": [
      " 4\n"
     ]
    },
    {
     "name": "stdout",
     "output_type": "stream",
     "text": [
      "Enter root Data\n"
     ]
    },
    {
     "name": "stdin",
     "output_type": "stream",
     "text": [
      " 6\n"
     ]
    },
    {
     "name": "stdout",
     "output_type": "stream",
     "text": [
      "Enter root Data\n"
     ]
    },
    {
     "name": "stdin",
     "output_type": "stream",
     "text": [
      " -1\n"
     ]
    },
    {
     "name": "stdout",
     "output_type": "stream",
     "text": [
      "Enter root Data\n"
     ]
    },
    {
     "name": "stdin",
     "output_type": "stream",
     "text": [
      " -1\n"
     ]
    },
    {
     "name": "stdout",
     "output_type": "stream",
     "text": [
      "Enter root Data\n"
     ]
    },
    {
     "name": "stdin",
     "output_type": "stream",
     "text": [
      " -1\n"
     ]
    },
    {
     "name": "stdout",
     "output_type": "stream",
     "text": [
      "Enter root Data\n"
     ]
    },
    {
     "name": "stdin",
     "output_type": "stream",
     "text": [
      " 5\n"
     ]
    },
    {
     "name": "stdout",
     "output_type": "stream",
     "text": [
      "Enter root Data\n"
     ]
    },
    {
     "name": "stdin",
     "output_type": "stream",
     "text": [
      " -1\n"
     ]
    },
    {
     "name": "stdout",
     "output_type": "stream",
     "text": [
      "Enter root Data\n"
     ]
    },
    {
     "name": "stdin",
     "output_type": "stream",
     "text": [
      " -1\n"
     ]
    }
   ],
   "source": [
    "root = takeInput()"
   ]
  },
  {
   "cell_type": "code",
   "execution_count": 72,
   "id": "56a59c24-eda1-48c2-acb9-1effa80697b4",
   "metadata": {},
   "outputs": [
    {
     "name": "stdout",
     "output_type": "stream",
     "text": [
      "1 : L 2,R 3\n",
      "2 : \n",
      "3 : L 4,R 5\n",
      "4 : L 6\n",
      "6 : \n",
      "5 : \n"
     ]
    }
   ],
   "source": [
    "printTree(root)"
   ]
  },
  {
   "cell_type": "code",
   "execution_count": 73,
   "id": "0f106248-e0c5-4b11-bc68-7c4cdc388473",
   "metadata": {},
   "outputs": [],
   "source": [
    "def noOfNodes(root):\n",
    "    if root is None:\n",
    "        return 0\n",
    "    leftCount = noOfNodes(root.left)\n",
    "    rightCount = noOfNodes(root.right)\n",
    "    return 1 + leftCount + rightCount"
   ]
  },
  {
   "cell_type": "code",
   "execution_count": 74,
   "id": "04612198-6151-472e-aaa7-2eeb8ce22555",
   "metadata": {},
   "outputs": [
    {
     "data": {
      "text/plain": [
       "6"
      ]
     },
     "execution_count": 74,
     "metadata": {},
     "output_type": "execute_result"
    }
   ],
   "source": [
    "noOfNodes(root)"
   ]
  },
  {
   "cell_type": "markdown",
   "id": "b87137c5-5279-4ad7-af75-b1298c191447",
   "metadata": {},
   "source": [
    "# Tree Traversals\n",
    "Tree traversal refers to the process of visiting and processing all the nodes in a tree data structure. There are three common methods for traversing trees: in-order, pre-order, and post-order. These methods determine the order in which nodes are visited and processed.\n",
    "\n",
    "Here's an explanation of each tree traversal technique:\n",
    "\n",
    "1. **In-Order Traversal:**\n",
    "   - In an in-order traversal, you visit the nodes of the tree in ascending order of their values (for binary search trees).\n",
    "   - The traversal process starts from the leftmost node, then visits the current node, and finally goes to the right child.\n",
    "   - For binary search trees, this traversal results in a sorted list of the elements.\n",
    "\n",
    "   ```python\n",
    "   def in_order_traversal(node):\n",
    "       if node:\n",
    "           in_order_traversal(node.left)\n",
    "           print(node.data, end=' ')\n",
    "           in_order_traversal(node.right)\n",
    "   ```\n",
    "\n",
    "2. **Pre-Order Traversal:**\n",
    "   - In a pre-order traversal, you visit the current node before its children.\n",
    "   - This traversal is often used for creating a copy of the tree, as it helps to reconstruct the tree structure.\n",
    "\n",
    "   ```python\n",
    "   def pre_order_traversal(node):\n",
    "       if node:\n",
    "           print(node.data, end=' ')\n",
    "           pre_order_traversal(node.left)\n",
    "           pre_order_traversal(node.right)\n",
    "   ```\n",
    "\n",
    "3. **Post-Order Traversal:**\n",
    "   - In a post-order traversal, you visit the current node after its children.\n",
    "   - This traversal is often used for tasks such as deleting the tree, as it ensures that you visit child nodes before their parent.\n",
    "\n",
    "   ```python\n",
    "   def post_order_traversal(node):\n",
    "       if node:\n",
    "           post_order_traversal(node.left)\n",
    "           post_order_traversal(node.right)\n",
    "           print(node.data, end=' ')\n",
    "   ```\n",
    "\n",
    "Here's how you can use these traversal functions with a binary tree in Python:\n",
    "\n",
    "```python\n",
    "class TreeNode:\n",
    "    def __init__(self, data):\n",
    "        self.data = data\n",
    "        self.left = None\n",
    "        self.right = None\n",
    "\n",
    "# Creating a binary tree\n",
    "root = TreeNode(1)\n",
    "root.left = TreeNode(2)\n",
    "root.right = TreeNode(3)\n",
    "root.left.left = TreeNode(4)\n",
    "root.left.right = TreeNode(5)\n",
    "\n",
    "print(\"In-order traversal:\")\n",
    "in_order_traversal(root)  # Output: 4 2 5 1 3\n",
    "\n",
    "print(\"\\nPre-order traversal:\")\n",
    "pre_order_traversal(root)  # Output: 1 2 4 5 3\n",
    "\n",
    "print(\"\\nPost-order traversal:\")\n",
    "post_order_traversal(root)  # Output: 4 5 2 3 1\n",
    "```\n",
    "\n",
    "These traversal methods are essential for various tree-related algorithms and operations, including searching, insertion, deletion, and many other tasks involving tree structures."
   ]
  },
  {
   "cell_type": "markdown",
   "id": "91d45668-097a-40a2-a5e5-b9f7c4981797",
   "metadata": {},
   "source": [
    "\n",
    "\n",
    "\n",
    "\n",
    "Level-order traversal, also known as breadth-first traversal, is a tree traversal method that visits all the nodes at each level of the tree before moving on to the next level. This traversal is commonly implemented using a queue data structure to keep track of nodes at each level. Here's how to perform a level-order traversal in Python:\n",
    "\n",
    "```python\n",
    "from collections import deque\n",
    "\n",
    "class TreeNode:\n",
    "    def __init__(self, data):\n",
    "        self.data = data\n",
    "        self.left = None\n",
    "        self.right = None\n",
    "\n",
    "def level_order_traversal(root):\n",
    "    if root is None:\n",
    "        return\n",
    "    \n",
    "    # Create a queue for level-order traversal\n",
    "    queue = deque()\n",
    "    \n",
    "    # Enqueue the root node\n",
    "    queue.append(root)\n",
    "    \n",
    "    while queue:\n",
    "        # Dequeue a node and process it\n",
    "        current_node = queue.popleft()\n",
    "        print(current_node.data, end=' ')\n",
    "        \n",
    "        # Enqueue the left child if it exists\n",
    "        if current_node.left:\n",
    "            queue.append(current_node.left)\n",
    "        \n",
    "        # Enqueue the right child if it exists\n",
    "        if current_node.right:\n",
    "            queue.append(current_node.right)\n",
    "\n",
    "# Creating a binary tree\n",
    "root = TreeNode(1)\n",
    "root.left = TreeNode(2)\n",
    "root.right = TreeNode(3)\n",
    "root.left.left = TreeNode(4)\n",
    "root.left.right = TreeNode(5)\n",
    "\n",
    "print(\"Level-order traversal:\")\n",
    "level_order_traversal(root)\n",
    "```\n",
    "\n",
    "In this code:\n",
    "\n",
    "1. We define the `level_order_traversal` function that takes the root node of the tree as an argument.\n",
    "\n",
    "2. We use a `deque` (double-ended queue) from the `collections` module to implement the queue for the level-order traversal.\n",
    "\n",
    "3. We enqueue the root node into the queue.\n",
    "\n",
    "4. Inside the `while` loop, we dequeue a node, process it (print its data in this case), and then enqueue its left and right children if they exist.\n",
    "\n",
    "5. The loop continues until the queue becomes empty, which means we have visited all nodes in the tree in level-order.\n",
    "\n",
    "When you run this code, it will produce the level-order traversal of the binary tree:\n",
    "\n",
    "```\n",
    "Level-order traversal:\n",
    "1 2 3 4 5\n",
    "```\n",
    "\n",
    "Level-order traversal is useful for tasks such as finding the width of a binary tree, finding the level of a specific node, and performing various tree-related operations that require visiting nodes level by level."
   ]
  },
  {
   "cell_type": "code",
   "execution_count": 85,
   "id": "7a352319-c79e-43a8-b1bc-2f7559fdeb94",
   "metadata": {},
   "outputs": [],
   "source": [
    "# Node with Largest data\n",
    "import sys\n",
    "\n",
    "def nodeWithLargestData(root):\n",
    "    if root is None:\n",
    "        return -sys.maxsize -1\n",
    "    maxLeft = nodeWithLargestData(root.left) \n",
    "    maxRight = nodeWithLargestData(root.right) \n",
    "    return max(root.data, maxLeft, maxRight)   "
   ]
  },
  {
   "cell_type": "code",
   "execution_count": 84,
   "id": "0d71a91e-053a-4ffc-af4b-660f612c8a11",
   "metadata": {},
   "outputs": [
    {
     "data": {
      "text/plain": [
       "6"
      ]
     },
     "execution_count": 84,
     "metadata": {},
     "output_type": "execute_result"
    }
   ],
   "source": [
    "nodeWithLargestData(root)"
   ]
  },
  {
   "cell_type": "code",
   "execution_count": 86,
   "id": "c739f47a-5328-49d3-abe1-88f1a2799b64",
   "metadata": {},
   "outputs": [
    {
     "name": "stdout",
     "output_type": "stream",
     "text": [
      "Enter root Data\n"
     ]
    },
    {
     "name": "stdin",
     "output_type": "stream",
     "text": [
      " 10\n"
     ]
    },
    {
     "name": "stdout",
     "output_type": "stream",
     "text": [
      "Enter root Data\n"
     ]
    },
    {
     "name": "stdin",
     "output_type": "stream",
     "text": [
      " 20\n"
     ]
    },
    {
     "name": "stdout",
     "output_type": "stream",
     "text": [
      "Enter root Data\n"
     ]
    },
    {
     "name": "stdin",
     "output_type": "stream",
     "text": [
      " 5\n"
     ]
    },
    {
     "name": "stdout",
     "output_type": "stream",
     "text": [
      "Enter root Data\n"
     ]
    },
    {
     "name": "stdin",
     "output_type": "stream",
     "text": [
      " -1\n"
     ]
    },
    {
     "name": "stdout",
     "output_type": "stream",
     "text": [
      "Enter root Data\n"
     ]
    },
    {
     "name": "stdin",
     "output_type": "stream",
     "text": [
      " -1\n"
     ]
    },
    {
     "name": "stdout",
     "output_type": "stream",
     "text": [
      "Enter root Data\n"
     ]
    },
    {
     "name": "stdin",
     "output_type": "stream",
     "text": [
      " 9\n"
     ]
    },
    {
     "name": "stdout",
     "output_type": "stream",
     "text": [
      "Enter root Data\n"
     ]
    },
    {
     "name": "stdin",
     "output_type": "stream",
     "text": [
      " -1\n"
     ]
    },
    {
     "name": "stdout",
     "output_type": "stream",
     "text": [
      "Enter root Data\n"
     ]
    },
    {
     "name": "stdin",
     "output_type": "stream",
     "text": [
      " -1\n"
     ]
    },
    {
     "name": "stdout",
     "output_type": "stream",
     "text": [
      "Enter root Data\n"
     ]
    },
    {
     "name": "stdin",
     "output_type": "stream",
     "text": [
      " 3\n"
     ]
    },
    {
     "name": "stdout",
     "output_type": "stream",
     "text": [
      "Enter root Data\n"
     ]
    },
    {
     "name": "stdin",
     "output_type": "stream",
     "text": [
      " -1\n"
     ]
    },
    {
     "name": "stdout",
     "output_type": "stream",
     "text": [
      "Enter root Data\n"
     ]
    },
    {
     "name": "stdin",
     "output_type": "stream",
     "text": [
      " -1\n"
     ]
    }
   ],
   "source": [
    "root2 = takeInput()"
   ]
  },
  {
   "cell_type": "code",
   "execution_count": 88,
   "id": "964ba368-b3bd-43a2-a717-0aad9e9cc56f",
   "metadata": {},
   "outputs": [
    {
     "data": {
      "text/plain": [
       "20"
      ]
     },
     "execution_count": 88,
     "metadata": {},
     "output_type": "execute_result"
    }
   ],
   "source": [
    "nodeWithLargestData(root2)"
   ]
  },
  {
   "cell_type": "markdown",
   "id": "55b46660-5f47-4ed1-8466-748585e4ebeb",
   "metadata": {},
   "source": [
    "   - **Height:** The length of the longest path to a leaf from a given node. The height of the tree is the height of the root."
   ]
  },
  {
   "cell_type": "code",
   "execution_count": 89,
   "id": "e4eab51b-58ad-4510-9fad-3c224ef984d9",
   "metadata": {},
   "outputs": [],
   "source": [
    "def HeightOfATree(root):\n",
    "    if root is None:\n",
    "        return 0\n",
    "    if root.left is None and root.right is None:\n",
    "        return 1\n",
    "    leftHeight = HeightOfATree(root.left)\n",
    "    rightHeight = HeightOfATree(root.right)\n",
    "    \n",
    "    return 1 + max(leftHeight,rightHeight)"
   ]
  },
  {
   "cell_type": "code",
   "execution_count": 90,
   "id": "16897184-ab55-4ae5-9263-96f61cb7dd62",
   "metadata": {},
   "outputs": [
    {
     "data": {
      "text/plain": [
       "4"
      ]
     },
     "execution_count": 90,
     "metadata": {},
     "output_type": "execute_result"
    }
   ],
   "source": [
    "HeightOfATree(root)"
   ]
  },
  {
   "cell_type": "code",
   "execution_count": 91,
   "id": "6d6bfff8-7be9-4ee1-926d-a3a43d484be3",
   "metadata": {},
   "outputs": [
    {
     "name": "stdout",
     "output_type": "stream",
     "text": [
      "1 : L 2, R 3\n",
      "2 : \n",
      "3 : L 4, R 5\n",
      "4 : L 6\n",
      "6 : \n",
      "5 : \n"
     ]
    }
   ],
   "source": [
    "printTree(root)"
   ]
  },
  {
   "cell_type": "code",
   "execution_count": 98,
   "id": "2eaf7da5-005d-4d0e-854b-6ff2b4cdf1de",
   "metadata": {},
   "outputs": [],
   "source": [
    "# No of Leaf Nodes\n",
    "def noOfLeafNodes(root):\n",
    "    if root is None:\n",
    "        return 0\n",
    "    if root.left is None and root.right is None:\n",
    "        return 1\n",
    "    numLeafLeft = noOfLeafNodes(root.left)\n",
    "    numLeafRight = noOfLeafNodes(root.right)\n",
    "    return numLeafLeft + numLeafRight"
   ]
  },
  {
   "cell_type": "code",
   "execution_count": 97,
   "id": "9a5b9bf8-711c-43c7-a92e-8828ea857284",
   "metadata": {},
   "outputs": [
    {
     "data": {
      "text/plain": [
       "3"
      ]
     },
     "execution_count": 97,
     "metadata": {},
     "output_type": "execute_result"
    }
   ],
   "source": [
    "noOfLeafNodes(root)"
   ]
  },
  {
   "cell_type": "code",
   "execution_count": 99,
   "id": "e7297af2-7396-4242-9000-721e89796574",
   "metadata": {},
   "outputs": [],
   "source": [
    "# Print Nodes at Depth k"
   ]
  },
  {
   "cell_type": "code",
   "execution_count": 112,
   "id": "5bf75778-0640-47db-b14e-077e44200f81",
   "metadata": {},
   "outputs": [],
   "source": [
    "def printNodesAtDepthK(root, k):\n",
    "    if root is None or k < 0:\n",
    "        return \n",
    "    if k == 0:\n",
    "        print(root.data)\n",
    "        return\n",
    "        \n",
    "    printNodesAtDepthK(root.left, k-1)\n",
    "    printNodesAtDepthK(root.right, k-1)"
   ]
  },
  {
   "cell_type": "code",
   "execution_count": 107,
   "id": "96626eb9-d1dc-43f5-902d-c727d02ea886",
   "metadata": {},
   "outputs": [
    {
     "name": "stdout",
     "output_type": "stream",
     "text": [
      "Enter root Data\n"
     ]
    },
    {
     "name": "stdin",
     "output_type": "stream",
     "text": [
      " 1\n"
     ]
    },
    {
     "name": "stdout",
     "output_type": "stream",
     "text": [
      "Enter root Data\n"
     ]
    },
    {
     "name": "stdin",
     "output_type": "stream",
     "text": [
      " 2\n"
     ]
    },
    {
     "name": "stdout",
     "output_type": "stream",
     "text": [
      "Enter root Data\n"
     ]
    },
    {
     "name": "stdin",
     "output_type": "stream",
     "text": [
      " 4\n"
     ]
    },
    {
     "name": "stdout",
     "output_type": "stream",
     "text": [
      "Enter root Data\n"
     ]
    },
    {
     "name": "stdin",
     "output_type": "stream",
     "text": [
      " -1\n"
     ]
    },
    {
     "name": "stdout",
     "output_type": "stream",
     "text": [
      "Enter root Data\n"
     ]
    },
    {
     "name": "stdin",
     "output_type": "stream",
     "text": [
      " -1\n"
     ]
    },
    {
     "name": "stdout",
     "output_type": "stream",
     "text": [
      "Enter root Data\n"
     ]
    },
    {
     "name": "stdin",
     "output_type": "stream",
     "text": [
      " 5\n"
     ]
    },
    {
     "name": "stdout",
     "output_type": "stream",
     "text": [
      "Enter root Data\n"
     ]
    },
    {
     "name": "stdin",
     "output_type": "stream",
     "text": [
      " -1\n"
     ]
    },
    {
     "name": "stdout",
     "output_type": "stream",
     "text": [
      "Enter root Data\n"
     ]
    },
    {
     "name": "stdin",
     "output_type": "stream",
     "text": [
      " -1\n"
     ]
    },
    {
     "name": "stdout",
     "output_type": "stream",
     "text": [
      "Enter root Data\n"
     ]
    },
    {
     "name": "stdin",
     "output_type": "stream",
     "text": [
      " 3\n"
     ]
    },
    {
     "name": "stdout",
     "output_type": "stream",
     "text": [
      "Enter root Data\n"
     ]
    },
    {
     "name": "stdin",
     "output_type": "stream",
     "text": [
      " 6\n"
     ]
    },
    {
     "name": "stdout",
     "output_type": "stream",
     "text": [
      "Enter root Data\n"
     ]
    },
    {
     "name": "stdin",
     "output_type": "stream",
     "text": [
      " -1\n"
     ]
    },
    {
     "name": "stdout",
     "output_type": "stream",
     "text": [
      "Enter root Data\n"
     ]
    },
    {
     "name": "stdin",
     "output_type": "stream",
     "text": [
      " -1\n"
     ]
    },
    {
     "name": "stdout",
     "output_type": "stream",
     "text": [
      "Enter root Data\n"
     ]
    },
    {
     "name": "stdin",
     "output_type": "stream",
     "text": [
      " -1\n"
     ]
    }
   ],
   "source": [
    "root3 = takeInput()"
   ]
  },
  {
   "cell_type": "code",
   "execution_count": 108,
   "id": "fc08fae4-6931-4c10-aba3-fd98ec214d51",
   "metadata": {},
   "outputs": [
    {
     "name": "stdout",
     "output_type": "stream",
     "text": [
      "4\n",
      "5\n",
      "6\n"
     ]
    }
   ],
   "source": [
    "printNodesAtDepthK(root3, 2)"
   ]
  },
  {
   "cell_type": "code",
   "execution_count": 111,
   "id": "ba10a4ea-7360-4e07-a0f0-16ee9494ad85",
   "metadata": {},
   "outputs": [],
   "source": [
    "# Another version passing the root, depth=0 and k\n",
    "# recursin step = print(root.left, k, d+1)"
   ]
  },
  {
   "cell_type": "code",
   "execution_count": 119,
   "id": "ae99cde2-9be2-4fb5-a801-550f63c7e68a",
   "metadata": {},
   "outputs": [],
   "source": [
    "def printNodesAtDepthKV2(root, k, d = 0):\n",
    "    if root is None or k < 0:\n",
    "        return \n",
    "        \n",
    "    if k == d:\n",
    "        print(root.data)\n",
    "        return\n",
    "        \n",
    "    printNodesAtDepthKV2(root.left, k, d+1)\n",
    "    printNodesAtDepthKV2(root.right, k, d+1)\n"
   ]
  },
  {
   "cell_type": "code",
   "execution_count": 118,
   "id": "a8ad31cd-5df7-44ae-b83d-af2a94c357bf",
   "metadata": {},
   "outputs": [
    {
     "name": "stdout",
     "output_type": "stream",
     "text": [
      "4\n",
      "5\n",
      "6\n"
     ]
    }
   ],
   "source": [
    "printNodesAtDepthKV2(root3, 2)"
   ]
  },
  {
   "cell_type": "code",
   "execution_count": null,
   "id": "8a2ef78e-3718-4f48-b3b9-46b1f1347731",
   "metadata": {},
   "outputs": [],
   "source": []
  }
 ],
 "metadata": {
  "kernelspec": {
   "display_name": "Python 3 (ipykernel)",
   "language": "python",
   "name": "python3"
  },
  "language_info": {
   "codemirror_mode": {
    "name": "ipython",
    "version": 3
   },
   "file_extension": ".py",
   "mimetype": "text/x-python",
   "name": "python",
   "nbconvert_exporter": "python",
   "pygments_lexer": "ipython3",
   "version": "3.11.3"
  }
 },
 "nbformat": 4,
 "nbformat_minor": 5
}
