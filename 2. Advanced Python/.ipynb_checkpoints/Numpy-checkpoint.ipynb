{
 "cells": [
  {
   "cell_type": "markdown",
   "id": "6b5b2c03-8b5a-4cc8-96cf-92979ad8989d",
   "metadata": {},
   "source": [
    "# Numpy\n",
    "\n",
    "\n",
    "NumPy is a powerful Python library used for numerical computing. It stands for \"Numerical Python.\" NumPy provides support for large, multi-dimensional arrays and matrices, along with a collection of mathematical functions to operate on these arrays efficiently.\n",
    "\n",
    "Key features of NumPy:\n",
    "\n",
    "1. `N-dimensional arrays`: NumPy's main data structure is the `ndarray`, which is a multi-dimensional array. It allows you to work with data in various dimensions (1D, 2D, 3D, etc.).\n",
    "\n",
    "2. `Mathematical functions`: NumPy provides a wide range of mathematical operations such as arithmetic operations, trigonometry, logarithms, exponents, and more, which can be applied element-wise on arrays.\n",
    "\n",
    "3. `Broadcasting`: NumPy allows operations between arrays with different shapes and sizes by broadcasting the values to perform element-wise computations.\n",
    "\n",
    "4. `Slicing and Indexing`: You can easily slice and access elements of arrays using various indexing techniques.\n",
    "\n",
    "5. `Integration with other libraries`: NumPy plays a crucial role in the data science ecosystem and integrates well with other libraries like Pandas, Matplotlib, and SciPy.\n",
    "\n",
    "Advantages of using NumPy:\n",
    "- **Reduced Memory Requirements**: NumPy arrays consume less memory compared to Python lists, making it ideal for handling large datasets more efficiently.\n",
    "- **Faster Execution**: NumPy's underlying C implementation enables faster execution of mathematical operations, making it well-suited for high-performance computing tasks.\n",
    "- **Convenience**: NumPy offers a wide range of built-in functions and methods for efficient data manipulation and mathematical computations.\n",
    "- **Functionality**: NumPy supports a vast array of mathematical and statistical functions that are optimized for large-scale data processing."
   ]
  },
  {
   "cell_type": "markdown",
   "id": "1615c7bd-8054-4ea0-9820-0e817b91828d",
   "metadata": {},
   "source": [
    "## Memory Consumption\n",
    "NumPy arrays use much less memory as compared to normal lists."
   ]
  },
  {
   "cell_type": "code",
   "execution_count": 5,
   "id": "9673be95-828c-449c-b6fb-5d62cee554ff",
   "metadata": {},
   "outputs": [],
   "source": [
    "import numpy as np\n",
    "import sys\n",
    "\n",
    "li_arr = [i for i in range(100)]     # Create list of 100 elements\n",
    "np_arr = np.arange(100)              # Create numpy array of 100 elements"
   ]
  },
  {
   "cell_type": "code",
   "execution_count": 6,
   "id": "c9a96c1e-f573-41eb-b2c4-1a0174c02984",
   "metadata": {},
   "outputs": [
    {
     "name": "stdout",
     "output_type": "stream",
     "text": [
      "400\n"
     ]
    }
   ],
   "source": [
    "## Size of 100 elements in numpy array\n",
    "print(np_arr.itemsize * np_arr.size)"
   ]
  },
  {
   "cell_type": "code",
   "execution_count": 7,
   "id": "593d3b5b-630f-4b90-811a-63b90699abf0",
   "metadata": {},
   "outputs": [
    {
     "name": "stdout",
     "output_type": "stream",
     "text": [
      "2800\n"
     ]
    }
   ],
   "source": [
    "## Size of 100 elements in python list\n",
    "print(sys.getsizeof(1) * len(li_arr))"
   ]
  },
  {
   "cell_type": "markdown",
   "id": "9b378d41-ff3f-4365-bb13-3d4827e94a09",
   "metadata": {},
   "source": [
    "## Time Execution\r\n",
    "NumPy arrays are much faster as compared to python lists"
   ]
  },
  {
   "cell_type": "code",
   "execution_count": 16,
   "id": "b3114171-4faf-42c2-8c44-a5fad2199f98",
   "metadata": {},
   "outputs": [
    {
     "name": "stdout",
     "output_type": "stream",
     "text": [
      "List =  23.93484115600586 milli seconds\n",
      "NumPy =  0.0 milli seconds\n"
     ]
    }
   ],
   "source": [
    "import time\n",
    "import numpy as np  \n",
    "\n",
    "size = 100000\n",
    "\n",
    "def addition_using_list():\n",
    "  t1 = time.time() #starts after epoch\n",
    "  a = range(size)\n",
    "  b = range(size)\n",
    "  c = [a[i] + b[i] for i in range(size)]\n",
    "  t2 = time.time()\n",
    "  return t2 - t1\n",
    "  \n",
    "def addition_using_numpy():\n",
    "  t1 = time.time()\n",
    "  a = np.arange(size)\n",
    "  b = np.arange(size)\n",
    "  c = a + b\n",
    "  t2 = time.time()\n",
    "  return t2 - t1\n",
    "\n",
    "t_list = addition_using_list()\n",
    "t_numpy = addition_using_numpy()\n",
    "\n",
    "print(\"List = \", t_list * 1000, \"milli seconds\")   \n",
    "print(\"NumPy = \", t_numpy * 1000,\"milli seconds\")"
   ]
  },
  {
   "cell_type": "markdown",
   "id": "b2b68217-adb5-4da7-8ecd-34d954f8a2d3",
   "metadata": {},
   "source": [
    "# Why Numpy Faster than Lists\n",
    "\n",
    "1. **Data Type Consistency**: In Python lists, elements can have different data types, which adds overhead for type-checking during operations. Numpy arrays, on the other hand, are homogeneous and have a fixed data type for all elements, which allows for faster execution of operations as the data type information is known in advance.\n",
    "\n",
    "2. **Vectorization**: Numpy utilizes vectorized operations, which means that many operations are performed on the entire array at once, rather than on individual elements. This takes advantage of hardware-level optimizations and reduces the need for explicit loops in Python, leading to faster execution times.\n",
    "\n",
    "3. **C Implementation**: Numpy is implemented in C and uses low-level optimizations, which make it more efficient in terms of memory usage and execution speed compared to the Python standard library lists.\n",
    "\n",
    "4. **Memory Layout**: Numpy arrays have a contiguous memory layout, which allows for efficient cache utilization and enables better performance during data access and manipulation.\n",
    "\n",
    "5. **Optimized Algorithms**: Numpy is designed with optimized algorithms for various mathematical and numerical operations like array multiplication, dot products, statistical calculations, etc. These operations are highly optimized and often implemented in C, providing significant speed gains compared to the equivalent operations in Python lists.\n",
    "\n",
    "6. **Parallelism and Multithreading**: Numpy can leverage multiple cores and parallelize certain operations, leading to further speed improvements for large computations.\n",
    "\n",
    "While Numpy is faster for numerical computations, Python lists still have their place in certain situations, especially for general-purpose tasks or when dealing with a small amount of data. Numpy's real strength shines when you are working with large datasets and performing heavy mathematical computations, where its efficient memory usage and optimized algorithms make a significant difference in performance."
   ]
  },
  {
   "cell_type": "markdown",
   "id": "384a1395-197d-4af7-bb7e-ea5f116a5095",
   "metadata": {},
   "source": [
    "# Creating NumPy Arrays"
   ]
  },
  {
   "cell_type": "code",
   "execution_count": 21,
   "id": "8688bb5a-ed98-4ef6-a857-aa7646b47529",
   "metadata": {},
   "outputs": [],
   "source": [
    "import numpy as np    #Use np as an alias for numpy"
   ]
  },
  {
   "cell_type": "markdown",
   "id": "21308723-8b4d-42ee-8768-a52d1b806c44",
   "metadata": {},
   "source": [
    "## np.array()\n",
    "NumPy is used to work with arrays. The array object in NumPy is called ndarray.\n",
    "\n",
    "We can create a NumPy ndarray object by using the array() function.\n",
    "\n",
    "Convert a regular Python list, tuple, or other sequence-like object into a NumPy array.\n",
    "\n",
    "### Syntax\n",
    "\n",
    "numpy.array(object, dtype=None, *, copy=True, order='K', subok=False, ndmin=0, like=None)\n",
    "\n",
    "### Parameters\n",
    "\n",
    "- `object` : array_like\n",
    "\n",
    "An array, any object exposing the array interface, an object whose array method returns an array, or any (nested) sequence.\n",
    "\n",
    "- `dtype` : data-type, optional\n",
    "\n",
    "The desired data-type for the array. If not given, then the type will be determined as the minimum type required to hold the objects in the sequence.\n",
    "\n",
    "- `copy` : bool, optional\n",
    "\n",
    "If true (default), then the object is copied. Otherwise, a copy will only be made if array returns a copy, if obj is a nested sequence, or if a copy is needed to satisfy any of the other requirements (dtype, order, etc.)."
   ]
  },
  {
   "cell_type": "code",
   "execution_count": 24,
   "id": "e70d03a3-ee22-4294-ac7a-ca4c04e9d393",
   "metadata": {},
   "outputs": [
    {
     "name": "stdout",
     "output_type": "stream",
     "text": [
      "[1 2 3]\n",
      "<class 'numpy.ndarray'>\n"
     ]
    }
   ],
   "source": [
    "a = [1, 2, 3]\n",
    "b = np.array(a)\n",
    "print(b)\n",
    "print(type(b))"
   ]
  },
  {
   "cell_type": "code",
   "execution_count": 26,
   "id": "a015f498-4310-4795-818c-8325b26bb05f",
   "metadata": {},
   "outputs": [
    {
     "name": "stdout",
     "output_type": "stream",
     "text": [
      "['1' '2' '3' '5' '4.5']\n"
     ]
    }
   ],
   "source": [
    "a = [1, 2, 3, '5', 4.5]\n",
    "b = np.array(a, dtype = str)\n",
    "print(b)"
   ]
  },
  {
   "cell_type": "code",
   "execution_count": 28,
   "id": "e7c5784f-51a8-47e5-b1b3-aac975561e08",
   "metadata": {},
   "outputs": [
    {
     "name": "stdout",
     "output_type": "stream",
     "text": [
      "['1' '2' '3' '5' '4.5' '1' '2' '3' '5' '4.5' '1' '2' '3' '5' '4.5']\n"
     ]
    }
   ],
   "source": [
    "a = [1, 2, 3, '5', 4.5]\n",
    "b = np.array(a * 3)\n",
    "print(b)"
   ]
  },
  {
   "cell_type": "markdown",
   "id": "16da46b4-dc64-4104-89d2-38ba42264439",
   "metadata": {},
   "source": [
    "### np.ones()\n",
    "#### Syntax\n",
    "\n",
    "numpy.ones(shape, dtype=None, order='C', *, like=None)\n",
    "\n",
    "This function returns a new array of given shape and type, filled with ones.\n",
    "\n",
    "####  Parameters\n",
    "\n",
    "- `shape` : int or sequence of ints\n",
    "\n",
    "Shape of the new array, e.g., (2, 3) or 2.\n",
    "\n",
    "- `dtype` : data-type, optional\n",
    "\n",
    "The desired data-type for the array, e.g., numpy.int8. Default is numpy.float64.\n",
    "\n",
    "- `order` : {‘C’, ‘F’}, optional, default: C\n",
    "\n",
    "Whether to store multi-dimensional data in row-major (C-style) or column-major (Fortran-style) order in memory.\n",
    "\n",
    "- `like` : array_like\n",
    "\n",
    "Reference object to allow the creation of arrays which are not NumPy arrays. If an array-like passed in as like supports the array_function protocol, the result will be defined by it. In this case, it ensures the creation of an array object compatible with that passed in via this argument."
   ]
  },
  {
   "cell_type": "code",
   "execution_count": 29,
   "id": "2bcccbca-3bd8-4076-b123-826ec450e9bd",
   "metadata": {},
   "outputs": [
    {
     "data": {
      "text/plain": [
       "array([1, 1, 1])"
      ]
     },
     "execution_count": 29,
     "metadata": {},
     "output_type": "execute_result"
    }
   ],
   "source": [
    "b = np.ones(3, dtype = int)\n",
    "b"
   ]
  },
  {
   "cell_type": "code",
   "execution_count": 31,
   "id": "7febf22a-2aa5-4154-993f-436f0b687841",
   "metadata": {},
   "outputs": [
    {
     "data": {
      "text/plain": [
       "array([[1, 1, 1],\n",
       "       [1, 1, 1]])"
      ]
     },
     "execution_count": 31,
     "metadata": {},
     "output_type": "execute_result"
    }
   ],
   "source": [
    "b = np.ones((2, 3), dtype = int)\n",
    "b"
   ]
  },
  {
   "cell_type": "markdown",
   "id": "da2b691c-54ac-40fb-afb4-d964b871e6e0",
   "metadata": {},
   "source": [
    "### np.zeros()\n",
    "#### Syntax\n",
    "\n",
    "numpy.zeros(shape, dtype=float, order='C', *, like=None)\n",
    "\n",
    "This returns a new array of given shape and type, filled with zeros.\n",
    "\n",
    "#### Parameters\n",
    "\n",
    "- `shape` : int or tuple of ints\n",
    "\n",
    "Shape of the new array, e.g., (2, 3) or 2.\n",
    "\n",
    "- `dtype` : data-type, optional\n",
    "\n",
    "The desired data-type for the array, e.g., numpy.int8. Default is numpy.float64.\n",
    "\n",
    "- `order` : {‘C’, ‘F’}, optional, default: ‘C’\n",
    "\n",
    "Whether to store multi-dimensional data in row-major (C-style) or column-major (Fortran-style) order in memory."
   ]
  },
  {
   "cell_type": "code",
   "execution_count": 34,
   "id": "04aebf4c-ca48-4a4b-b984-d5b5a4f02030",
   "metadata": {},
   "outputs": [
    {
     "name": "stdout",
     "output_type": "stream",
     "text": [
      "[0 0 0]\n"
     ]
    }
   ],
   "source": [
    "arr = np.zeros(3, dtype=int)\n",
    "print(arr)"
   ]
  },
  {
   "cell_type": "code",
   "execution_count": 36,
   "id": "05d57bd8-d27f-4dbb-9dc1-9533f5e0ed26",
   "metadata": {},
   "outputs": [
    {
     "data": {
      "text/plain": [
       "array([[0., 0., 0., 0.],\n",
       "       [0., 0., 0., 0.],\n",
       "       [0., 0., 0., 0.]])"
      ]
     },
     "execution_count": 36,
     "metadata": {},
     "output_type": "execute_result"
    }
   ],
   "source": [
    "b = np.zeros((3, 4))\n",
    "b"
   ]
  },
  {
   "cell_type": "markdown",
   "id": "7eb2dc24-10e2-4857-9ab9-7d6e9394501b",
   "metadata": {},
   "source": [
    "### np.full()\n",
    "#### Syntax\n",
    "\n",
    "numpy.full(shape, fill_value, dtype=None, order='C', *, like=None)\n",
    "\n",
    "Return a new array of given shape and type, filled with fill_value.\n",
    "\n",
    "#### Parameters\n",
    "\n",
    "- `shape` : int or sequence of ints\n",
    "\n",
    "Shape of the new array, e.g., (2, 3) or 2.\n",
    "\n",
    "- `fill_value` : scalar or array_like\n",
    "\n",
    "Fill value.\n",
    "\n",
    "- `dtype` : data-type, optional\n",
    "\n",
    "The desired data-type for the array The default, None, means np.array(fill_value).dtype.\n",
    "\n",
    "- `order` : {‘C’, ‘F’}, optional\n",
    "\n",
    "Whether to store multidimensional data in C- or Fortran-contiguous (row- or column-wise) order in memory."
   ]
  },
  {
   "cell_type": "code",
   "execution_count": 39,
   "id": "3a11bb1a-cac3-4928-8a8f-fe911eeed11c",
   "metadata": {},
   "outputs": [
    {
     "data": {
      "text/plain": [
       "array([[5., 5., 5.],\n",
       "       [5., 5., 5.],\n",
       "       [5., 5., 5.]])"
      ]
     },
     "execution_count": 39,
     "metadata": {},
     "output_type": "execute_result"
    }
   ],
   "source": [
    "b = np.full((3, 3), 5, dtype = float)\n",
    "b"
   ]
  },
  {
   "cell_type": "markdown",
   "id": "beb5c1e8-be07-4d75-b116-91d151dafcc3",
   "metadata": {},
   "source": [
    "## p.empty()\n",
    "### Syntax\n",
    "\n",
    "numpy.empty(shape, dtype=float, order='C', *, like=None)\n",
    "\n",
    "This returns a new array of given shape and type, without initializing entries.\n",
    "\n",
    "### Parameters\n",
    "\n",
    "- `shape` : int or tuple of int\n",
    "\n",
    "Shape of the empty array, e.g., (2, 3) or 2.\n",
    "\n",
    "- `dtype` : data-type, optional\n",
    "\n",
    "Desired output data-type for the array, e.g, numpy.int8. Default is numpy.float64.\n",
    "\n",
    "- `order` : {‘C’, ‘F’}, optional, default: ‘C’\n",
    "\n",
    "Whether to store multi-dimensional data in row-major (C-style) or column-major (Fortran-style) order in memory."
   ]
  },
  {
   "cell_type": "code",
   "execution_count": 43,
   "id": "1304f709-d645-4314-8c13-58774b98419e",
   "metadata": {},
   "outputs": [
    {
     "data": {
      "text/plain": [
       "array([[6.23042070e-307, 4.67296746e-307],\n",
       "       [1.69121096e-306, 9.39465068e-312]])"
      ]
     },
     "execution_count": 43,
     "metadata": {},
     "output_type": "execute_result"
    }
   ],
   "source": [
    "np.empty((2,2))             # uninitialized"
   ]
  },
  {
   "cell_type": "code",
   "execution_count": 45,
   "id": "dff4004f-00ae-447c-b4b7-f40342d8fe9b",
   "metadata": {},
   "outputs": [
    {
     "data": {
      "text/plain": [
       "array([[1193501079, -408530185],\n",
       "       [1528765816, 2039645231]])"
      ]
     },
     "execution_count": 45,
     "metadata": {},
     "output_type": "execute_result"
    }
   ],
   "source": [
    "np.empty((2, 2), dtype=int)"
   ]
  },
  {
   "cell_type": "markdown",
   "id": "323d753a-e73b-4849-99d5-9b89eee50b3e",
   "metadata": {},
   "source": [
    "* Note: You will get a different result each time you execute using empty, as the array formed will always be uninitialised."
   ]
  },
  {
   "cell_type": "markdown",
   "id": "081994f1-c4f2-409a-8797-ef05b597788f",
   "metadata": {},
   "source": [
    "## np.arange()\n",
    "Syntax\n",
    "\n",
    "### numpy.arange([start, ]stop, [step, ]dtype=None, *, like=None)\n",
    "\n",
    "This returns evenly spaced values within a given interval.\n",
    "\n",
    "Values are generated within the half-open interval [start, stop) (in other words, the interval including start but excluding stop). For integer arguments the function is equivalent to the Python built-in range function, but returns an ndarray rather than a list.\n",
    "\n",
    "When using a non-integer step, such as 0.1, the results will often not be consistent. It is better to use numpy.linspace for these cases.\n",
    "\n",
    "### Parameters\n",
    "\n",
    "- `start` : integer or real, optional\n",
    "\n",
    "Start of interval. The interval includes this value. The default start value is 0.\n",
    "\n",
    "- `stop` : integer or real\n",
    "\n",
    "End of interval. The interval does not include this value, except in some cases where step is not an integer and floating point round-off affects the length of out.\n",
    "\n",
    "- `step` : integer or real, optional\n",
    "\n",
    "Spacing between values. For any output out, this is the distance between two adjacent values, out[i+1] - out[i]. The default step size is 1. If step is specified as a position argument, start must also be given.\n",
    "\n",
    "- `dtype` : dtype\n",
    "\n",
    "The type of the output array. If dtype is not given, infer the data type from the other input arguments."
   ]
  },
  {
   "cell_type": "code",
   "execution_count": 47,
   "id": "5d58a0fd-edc3-4905-a4d2-c3e488e055a8",
   "metadata": {},
   "outputs": [
    {
     "data": {
      "text/plain": [
       "array([0, 1, 2, 3, 4, 5, 6, 7, 8, 9])"
      ]
     },
     "execution_count": 47,
     "metadata": {},
     "output_type": "execute_result"
    }
   ],
   "source": [
    "b = np.arange(10)\n",
    "b"
   ]
  },
  {
   "cell_type": "code",
   "execution_count": 48,
   "id": "a9baf9e7-5d34-47b5-800c-430606629858",
   "metadata": {},
   "outputs": [
    {
     "data": {
      "text/plain": [
       "array([2, 3, 4, 5, 6, 7, 8, 9])"
      ]
     },
     "execution_count": 48,
     "metadata": {},
     "output_type": "execute_result"
    }
   ],
   "source": [
    "b = np.arange(2, 10)\n",
    "b"
   ]
  },
  {
   "cell_type": "code",
   "execution_count": 49,
   "id": "5c402e3f-678e-432a-85d5-1ef33582b7ef",
   "metadata": {},
   "outputs": [
    {
     "data": {
      "text/plain": [
       "array([ 2,  4,  6,  8, 10, 12, 14, 16, 18])"
      ]
     },
     "execution_count": 49,
     "metadata": {},
     "output_type": "execute_result"
    }
   ],
   "source": [
    "b = np.arange(2, 20, 2)\n",
    "b"
   ]
  },
  {
   "cell_type": "code",
   "execution_count": 45,
   "id": "4fc3a526-72d5-4934-b09e-8b68eff763ee",
   "metadata": {},
   "outputs": [
    {
     "data": {
      "text/plain": [
       "0.1694915254237288"
      ]
     },
     "execution_count": 45,
     "metadata": {},
     "output_type": "execute_result"
    }
   ],
   "source": [
    "c[1]-c[0]"
   ]
  },
  {
   "cell_type": "code",
   "execution_count": 47,
   "id": "be197335-2605-45b3-ac81-cd18686a952f",
   "metadata": {},
   "outputs": [
    {
     "data": {
      "text/plain": [
       "array([ 0,  0,  0,  0,  0,  1,  1,  1,  1,  1,  2,  2,  2,  2,  2,  3,  3,\n",
       "        3,  3,  3,  4,  4,  4,  4,  4,  5,  5,  5,  5,  5,  6,  6,  6,  6,\n",
       "        6,  7,  7,  7,  7,  7,  8,  8,  8,  8,  8,  9,  9,  9,  9, 10])"
      ]
     },
     "execution_count": 47,
     "metadata": {},
     "output_type": "execute_result"
    }
   ],
   "source": [
    "c= np.linspace(0,10,dtype =int) #start mandatoty and num is by default 50 samples\n",
    "                                #(start and end are inclusive)\n",
    "c                               # endpoint = False then end is exclusive"
   ]
  },
  {
   "cell_type": "code",
   "execution_count": 48,
   "id": "869b8c2d-059a-46b0-9f19-fc904e065698",
   "metadata": {},
   "outputs": [
    {
     "data": {
      "text/plain": [
       "array([0, 0, 0, 0, 0, 1, 1, 1, 1, 1, 2, 2, 2, 2, 2, 3, 3, 3, 3, 3, 4, 4,\n",
       "       4, 4, 4, 5, 5, 5, 5, 5, 6, 6, 6, 6, 6, 7, 7, 7, 7, 7, 8, 8, 8, 8,\n",
       "       8, 9, 9, 9, 9, 9])"
      ]
     },
     "execution_count": 48,
     "metadata": {},
     "output_type": "execute_result"
    }
   ],
   "source": [
    "c= np.linspace(0,10,dtype =int,endpoint=False) \n",
    "c "
   ]
  },
  {
   "cell_type": "code",
   "execution_count": 49,
   "id": "cb4aeff6-8f6d-49c9-9f1f-dd133028b8ea",
   "metadata": {},
   "outputs": [],
   "source": [
    "# np.arange step value we choose\n",
    "# np.linspace step is random"
   ]
  },
  {
   "cell_type": "code",
   "execution_count": 50,
   "id": "460a4ef5-a774-48da-b9a5-2cdb29834f10",
   "metadata": {},
   "outputs": [
    {
     "data": {
      "text/plain": [
       "array([[1., 0., 0.],\n",
       "       [0., 1., 0.],\n",
       "       [0., 0., 1.]])"
      ]
     },
     "execution_count": 50,
     "metadata": {},
     "output_type": "execute_result"
    }
   ],
   "source": [
    "np.identity(3) #identity matrix :one argument n"
   ]
  },
  {
   "cell_type": "code",
   "execution_count": 52,
   "id": "fdda61de-4174-4341-afb6-db627003ea1a",
   "metadata": {},
   "outputs": [
    {
     "data": {
      "text/plain": [
       "array([[1., 0., 0., 0.],\n",
       "       [0., 1., 0., 0.],\n",
       "       [0., 0., 1., 0.]])"
      ]
     },
     "execution_count": 52,
     "metadata": {},
     "output_type": "execute_result"
    }
   ],
   "source": [
    "np.eye(3,4) #identity matrix :with rows*columns"
   ]
  },
  {
   "cell_type": "code",
   "execution_count": 55,
   "id": "4386cd97-cd7c-4836-8fe5-14760702516c",
   "metadata": {},
   "outputs": [
    {
     "name": "stdout",
     "output_type": "stream",
     "text": [
      "1D array with 3 random values between 0 and 1:\n",
      "[0.47927187 0.02688352 0.62912315]\n"
     ]
    }
   ],
   "source": [
    "import numpy as np\n",
    "\n",
    "# Create a 1D array with 3 random values between 0 and 1 from a uniform distribution\n",
    "b = np.random.rand(3)\n",
    "print(\"1D array with 3 random values between 0 and 1:\")\n",
    "print(b)"
   ]
  },
  {
   "cell_type": "code",
   "execution_count": 56,
   "id": "36ebc24c-7ed5-4fce-b416-9a4a88c7b7c2",
   "metadata": {},
   "outputs": [
    {
     "name": "stdout",
     "output_type": "stream",
     "text": [
      "2D array of shape (2, 3) with random values between 0 and 1:\n",
      "[[0.80234447 0.3025809  0.93602528]\n",
      " [0.96898302 0.95166809 0.78623007]]\n"
     ]
    }
   ],
   "source": [
    "\n",
    "# Create a 2D array of shape (2, 3) with random values between 0 and 1 from a uniform distribution\n",
    "a = np.random.rand(2, 3)\n",
    "print(\"2D array of shape (2, 3) with random values between 0 and 1:\")\n",
    "print(a)\n"
   ]
  },
  {
   "cell_type": "code",
   "execution_count": 59,
   "id": "3af2c1cd-a3de-415f-9125-d5de58b78bf8",
   "metadata": {},
   "outputs": [
    {
     "name": "stdout",
     "output_type": "stream",
     "text": [
      "2D array of shape (2, 3) with random values between 0 and 10:\n",
      "[[6.37381729 8.94103802 2.55195845]\n",
      " [5.47929296 4.80633842 7.58417054]]\n"
     ]
    }
   ],
   "source": [
    "\n",
    "# Create a 2D array of shape (2, 3) with random values between 0 and 1 from a uniform distribution,\n",
    "# and then multiply all elements by 10 to get random values between 0 and 10.\n",
    "a = np.random.rand(2, 3) * 10\n",
    "print(\"2D array of shape (2, 3) with random values between 0 and 10:\")\n",
    "print(a)\n"
   ]
  },
  {
   "cell_type": "code",
   "execution_count": 60,
   "id": "b27aeec3-ee65-4416-9110-5bd88560d5df",
   "metadata": {},
   "outputs": [
    {
     "data": {
      "text/plain": [
       "(4,)"
      ]
     },
     "execution_count": 60,
     "metadata": {},
     "output_type": "execute_result"
    }
   ],
   "source": [
    "a= np.array([0,1,2,3])\n",
    "a.shape #dimension"
   ]
  },
  {
   "cell_type": "code",
   "execution_count": 62,
   "id": "bf2e4c55-b2fd-47a4-8ea0-995d8a425cef",
   "metadata": {},
   "outputs": [
    {
     "data": {
      "text/plain": [
       "0.1821937125302583"
      ]
     },
     "execution_count": 62,
     "metadata": {},
     "output_type": "execute_result"
    }
   ],
   "source": [
    "np.random.rand()"
   ]
  },
  {
   "cell_type": "code",
   "execution_count": 63,
   "id": "54377230-1140-4c50-a7fe-7ed6f662cb0d",
   "metadata": {},
   "outputs": [
    {
     "data": {
      "text/plain": [
       "array([[0.19356739, 0.02684594],\n",
       "       [0.38022115, 0.52053842]])"
      ]
     },
     "execution_count": 63,
     "metadata": {},
     "output_type": "execute_result"
    }
   ],
   "source": [
    "np.random.rand(2,2)"
   ]
  },
  {
   "cell_type": "code",
   "execution_count": 64,
   "id": "1b5ca2f5-31c5-47a8-a251-dbf7b893a50f",
   "metadata": {},
   "outputs": [
    {
     "ename": "ValueError",
     "evalue": "low >= high",
     "output_type": "error",
     "traceback": [
      "\u001b[1;31m---------------------------------------------------------------------------\u001b[0m",
      "\u001b[1;31mValueError\u001b[0m                                Traceback (most recent call last)",
      "Cell \u001b[1;32mIn[64], line 1\u001b[0m\n\u001b[1;32m----> 1\u001b[0m a\u001b[38;5;241m=\u001b[39m \u001b[43mnp\u001b[49m\u001b[38;5;241;43m.\u001b[39;49m\u001b[43mrandom\u001b[49m\u001b[38;5;241;43m.\u001b[39;49m\u001b[43mrandint\u001b[49m\u001b[43m(\u001b[49m\u001b[38;5;241;43m10\u001b[39;49m\u001b[43m,\u001b[49m\u001b[38;5;241;43m4\u001b[39;49m\u001b[43m)\u001b[49m \n\u001b[0;32m      2\u001b[0m a\n",
      "File \u001b[1;32mmtrand.pyx:763\u001b[0m, in \u001b[0;36mnumpy.random.mtrand.RandomState.randint\u001b[1;34m()\u001b[0m\n",
      "File \u001b[1;32m_bounded_integers.pyx:1338\u001b[0m, in \u001b[0;36mnumpy.random._bounded_integers._rand_int32\u001b[1;34m()\u001b[0m\n",
      "\u001b[1;31mValueError\u001b[0m: low >= high"
     ]
    }
   ],
   "source": [
    "a= np.random.randint(10,4) \n",
    "a"
   ]
  },
  {
   "cell_type": "code",
   "execution_count": 65,
   "id": "98291a75-b4e0-4a73-a7ce-be4ccfa04606",
   "metadata": {},
   "outputs": [
    {
     "data": {
      "text/plain": [
       "array([[8, 2, 2, 1],\n",
       "       [3, 1, 7, 7],\n",
       "       [3, 1, 2, 1],\n",
       "       [6, 0, 5, 9]])"
      ]
     },
     "execution_count": 65,
     "metadata": {},
     "output_type": "execute_result"
    }
   ],
   "source": [
    "np.random.randint(10,size=(4,4))"
   ]
  },
  {
   "cell_type": "code",
   "execution_count": 66,
   "id": "e0642ee0-c669-4605-9ae2-516724c805e2",
   "metadata": {},
   "outputs": [
    {
     "data": {
      "text/plain": [
       "array([ 9, 10, 11, 12, 13, 14, 15, 16, 17, 18, 19, 20, 21, 22, 23, 24, 25,\n",
       "       26, 27, 28, 29, 30, 31, 32, 33, 34, 35, 36, 37, 38, 39, 40, 41, 42,\n",
       "       43, 44, 45, 46, 47, 48, 49])"
      ]
     },
     "execution_count": 66,
     "metadata": {},
     "output_type": "execute_result"
    }
   ],
   "source": [
    "np.arange(9,50)"
   ]
  },
  {
   "cell_type": "code",
   "execution_count": 67,
   "id": "e28f58a3-686e-4575-af2e-0300e1a5786c",
   "metadata": {},
   "outputs": [
    {
     "data": {
      "text/plain": [
       "array([[1, 0, 0, 0, 0, 0],\n",
       "       [0, 1, 0, 0, 0, 0],\n",
       "       [0, 0, 1, 0, 0, 0],\n",
       "       [0, 0, 0, 1, 0, 0],\n",
       "       [0, 0, 0, 0, 1, 0]])"
      ]
     },
     "execution_count": 67,
     "metadata": {},
     "output_type": "execute_result"
    }
   ],
   "source": [
    "np.eye(5,6,dtype=int)"
   ]
  },
  {
   "cell_type": "code",
   "execution_count": 68,
   "id": "9dde8815-a21f-40b6-9750-7fe28a7a422d",
   "metadata": {},
   "outputs": [
    {
     "name": "stdout",
     "output_type": "stream",
     "text": [
      "0.56\n"
     ]
    },
    {
     "data": {
      "text/plain": [
       "array([0.  , 0.56, 1.12, 1.68, 2.24, 2.8 , 3.36, 3.92, 4.48])"
      ]
     },
     "execution_count": 68,
     "metadata": {},
     "output_type": "execute_result"
    }
   ],
   "source": [
    "# Cut the rope\n",
    "# 5m 9parts\n",
    "f= 5/9\n",
    "\n",
    "f= round(f,2)\n",
    "print(f)\n",
    "\n",
    "narr= np.arange(0,5,step=f)\n",
    "narr\n"
   ]
  },
  {
   "cell_type": "markdown",
   "id": "47403a16-1a8e-4262-b6c7-cd42bebb1f04",
   "metadata": {},
   "source": [
    "### numpy\n",
    "Numpy arrays are basically collection of references or collection of pointers which points to\n",
    "4 different attributes\n",
    "\n",
    "- data: reference to 1st byte of the array /1st element\n",
    "- shape: shape/size of the array\n",
    "- dtype- datatype of the array\n",
    "- strides: no of bytes to skip to get next element of the array\n"
   ]
  },
  {
   "cell_type": "code",
   "execution_count": 71,
   "id": "6af5d528-5d8f-4cc4-8c83-bfabc097125e",
   "metadata": {},
   "outputs": [
    {
     "name": "stdout",
     "output_type": "stream",
     "text": [
      "[1 2 3 4 5]\n"
     ]
    }
   ],
   "source": [
    "import numpy as np\n",
    "\n",
    "arr= np.array([1,2,3,4,5])\n",
    "\n",
    "print(arr)"
   ]
  },
  {
   "cell_type": "code",
   "execution_count": 73,
   "id": "09561c4b-02e9-426d-976a-72cd56b348ab",
   "metadata": {},
   "outputs": [
    {
     "name": "stdout",
     "output_type": "stream",
     "text": [
      "<memory at 0x00000159B3153880>\n",
      "(5,)\n",
      "int32\n",
      "(4,)\n"
     ]
    }
   ],
   "source": [
    "print(arr.data)\n",
    "print(arr.shape)\n",
    "print(arr.dtype)\n",
    "print(arr.strides)"
   ]
  },
  {
   "cell_type": "code",
   "execution_count": 74,
   "id": "24b6dd05-dd01-4920-a535-c74b341b4af9",
   "metadata": {},
   "outputs": [
    {
     "name": "stdout",
     "output_type": "stream",
     "text": [
      "[[ 1  2  3  4]\n",
      " [ 5  6  7  8]\n",
      " [ 9 10 11 12]\n",
      " [13 14 15 16]]\n"
     ]
    }
   ],
   "source": [
    "arr_2d = np.array(\n",
    "    [[1,2,3,4],\n",
    "       [5,6,7,8],\n",
    "       [9,10,11,12],\n",
    "       [13,14,15,16]])\n",
    "\n",
    "print(arr_2d)"
   ]
  },
  {
   "cell_type": "code",
   "execution_count": 75,
   "id": "908963d8-e542-4e1e-9312-b9d6b9b61dda",
   "metadata": {},
   "outputs": [
    {
     "name": "stdout",
     "output_type": "stream",
     "text": [
      "<memory at 0x00000159B33CA8E0>\n",
      "(4, 4)\n",
      "int32\n",
      "(16, 4)\n"
     ]
    }
   ],
   "source": [
    "print(arr_2d.data)\n",
    "print(arr_2d.shape)\n",
    "print(arr_2d.dtype)\n",
    "print(arr_2d.strides) #rows,column"
   ]
  },
  {
   "cell_type": "code",
   "execution_count": 77,
   "id": "948ab043-edaa-47c3-bfb5-ccc972c7de74",
   "metadata": {},
   "outputs": [
    {
     "name": "stdout",
     "output_type": "stream",
     "text": [
      "1\n",
      "1\n",
      "[2, 3]\n",
      "[2 3]\n"
     ]
    }
   ],
   "source": [
    "# Acessing and slicing for 1d arrays of numpy is similar to lists\n",
    "import numpy as np\n",
    "\n",
    "li=[1,2,3,4,5]\n",
    "\n",
    "arr= np.array(li)\n",
    "\n",
    "print(li[0])\n",
    "print(arr[0])\n",
    "\n",
    "print(li[1:3])\n",
    "print(arr[1:3])"
   ]
  },
  {
   "cell_type": "code",
   "execution_count": 80,
   "id": "e87e55be-b972-4dbd-9ce5-ca7f043f567c",
   "metadata": {},
   "outputs": [
    {
     "name": "stdout",
     "output_type": "stream",
     "text": [
      "10\n",
      "10\n",
      "10\n"
     ]
    }
   ],
   "source": [
    "li_2d=[[1,2,3,4],\n",
    "       [5,6,7,8],\n",
    "       [9,10,11,12],\n",
    "       [13,14,15,16]]\n",
    "arr_2d = np.array(li_2d)\n",
    "\n",
    "print(li_2d[2][1])\n",
    "print(arr_2d[2][1])\n",
    "\n",
    "print(arr_2d[2,1]) #other syntax easy syntax"
   ]
  },
  {
   "cell_type": "code",
   "execution_count": 81,
   "id": "615796c6-a10a-4b51-9f49-5dc641dd344e",
   "metadata": {},
   "outputs": [
    {
     "name": "stdout",
     "output_type": "stream",
     "text": [
      "[5, 6, 7]\n",
      "[5 6 7]\n",
      "[5 6 7]\n"
     ]
    }
   ],
   "source": [
    "# slicing 2d list and 2d array\n",
    "print(li_2d[1][0:3])\n",
    "print(arr_2d[1][0:3])\n",
    "print(arr_2d[1,0:3])"
   ]
  },
  {
   "cell_type": "code",
   "execution_count": 82,
   "id": "1d99a000-24bc-4e8a-a6db-e435b8572d8e",
   "metadata": {},
   "outputs": [
    {
     "name": "stdout",
     "output_type": "stream",
     "text": [
      "[[1, 2, 3, 4], [5, 6, 7, 8], [9, 10, 11, 12]]\n",
      "[5, 6, 7, 8]\n"
     ]
    }
   ],
   "source": [
    "x=li_2d[0:3]\n",
    "\n",
    "print(x)\n",
    "\n",
    "print(x[1])"
   ]
  },
  {
   "cell_type": "code",
   "execution_count": 86,
   "id": "3fedadc9-d03a-4bcf-9432-877c8671ae6f",
   "metadata": {},
   "outputs": [
    {
     "name": "stdout",
     "output_type": "stream",
     "text": [
      "[5, 6, 7, 8]\n",
      "[5 6 7 8]\n",
      "[2 6]\n",
      "[5, 6, 7]\n",
      "[5 6 7]\n"
     ]
    }
   ],
   "source": [
    "# column fixed rows varing\n",
    "print(li_2d[:2][1]) \n",
    "\n",
    "print(arr_2d[:2][1])\n",
    "\n",
    "print(arr_2d[:2,1]) #if comma kept the scenario is different\n",
    "\n",
    "print(li_2d[1][0:3]) \n",
    "print(arr_2d[1,0:3]) \n"
   ]
  },
  {
   "cell_type": "code",
   "execution_count": 88,
   "id": "812a44e2-3d2f-4088-ae31-454e5a690ab6",
   "metadata": {},
   "outputs": [
    {
     "name": "stdout",
     "output_type": "stream",
     "text": [
      "[[13 14 15 16]]\n",
      "[[13 14 15 16]]\n",
      "[[10 11]\n",
      " [14 15]]\n"
     ]
    }
   ],
   "source": [
    "# part of array we can get\n",
    "print(arr_2d[2:4][1:3])\n",
    "\n",
    "print(arr_2d[2:4][1:3]) \n",
    "\n",
    "print(arr_2d[2:4,1:3])#row,colum"
   ]
  },
  {
   "cell_type": "code",
   "execution_count": 97,
   "id": "5951eb22-7e97-4a15-8b52-6e3a332c22e6",
   "metadata": {},
   "outputs": [
    {
     "name": "stdout",
     "output_type": "stream",
     "text": [
      "[1, 2, 3, 4, 5]\n",
      "[14 14 15  2  9]\n",
      "[16  6  5 12  9]\n"
     ]
    }
   ],
   "source": [
    "import numpy as np\n",
    "\n",
    "li=[1,2,3,4,5]\n",
    "\n",
    "a=np.random.randint(1,20,5)\n",
    "b=np.random.randint(1,20,5)\n",
    "\n",
    "print(li)\n",
    "print(a)\n",
    "print(b)"
   ]
  },
  {
   "cell_type": "code",
   "execution_count": 98,
   "id": "bc671d75-20d2-47bd-93f6-a04ca165b462",
   "metadata": {},
   "outputs": [
    {
     "data": {
      "text/plain": [
       "[2, 3, 4, 5, 6]"
      ]
     },
     "execution_count": 98,
     "metadata": {},
     "output_type": "execute_result"
    }
   ],
   "source": [
    " # increaseby 1 for each element\n",
    "li=[i+1 for i in li]\n",
    "li"
   ]
  },
  {
   "cell_type": "code",
   "execution_count": 99,
   "id": "9e4140c2-9b5a-4c2f-8205-39f1c9e77cbf",
   "metadata": {},
   "outputs": [
    {
     "name": "stdout",
     "output_type": "stream",
     "text": [
      "[15 15 16  3 10]\n",
      "[17  7  6 13 10]\n"
     ]
    }
   ],
   "source": [
    "# in case of numpy array\n",
    "# in terms of computation , they are very fast\n",
    "a=a+1\n",
    "b=b+1\n",
    "print(a)\n",
    "print(b)"
   ]
  },
  {
   "cell_type": "code",
   "execution_count": 100,
   "id": "eb8d92b1-0543-4545-b006-ecb5a51bc0d1",
   "metadata": {},
   "outputs": [
    {
     "data": {
      "text/plain": [
       "array([32, 22, 22, 16, 20])"
      ]
     },
     "execution_count": 100,
     "metadata": {},
     "output_type": "execute_result"
    }
   ],
   "source": [
    "# c[i]=a[i]+b[i]\n",
    "c=a+b\n",
    "c"
   ]
  },
  {
   "cell_type": "code",
   "execution_count": 101,
   "id": "448eaea0-2403-4340-a958-a64580ba55c7",
   "metadata": {},
   "outputs": [
    {
     "data": {
      "text/plain": [
       "array([ -2,   8,  10, -10,   0])"
      ]
     },
     "execution_count": 101,
     "metadata": {},
     "output_type": "execute_result"
    }
   ],
   "source": [
    "d=a-b\n",
    "d"
   ]
  },
  {
   "cell_type": "code",
   "execution_count": 102,
   "id": "fdfafeb6-557f-4a13-bbbb-1f66b79fab8f",
   "metadata": {},
   "outputs": [
    {
     "data": {
      "text/plain": [
       "array([0.88235294, 2.14285714, 2.66666667, 0.23076923, 1.        ])"
      ]
     },
     "execution_count": 102,
     "metadata": {},
     "output_type": "execute_result"
    }
   ],
   "source": [
    "e=a/b\n",
    "e"
   ]
  },
  {
   "cell_type": "code",
   "execution_count": 103,
   "id": "ff1eb6a2-48f0-49de-b7c1-5166818e7aa6",
   "metadata": {},
   "outputs": [
    {
     "data": {
      "text/plain": [
       "array([0, 2, 2, 0, 1])"
      ]
     },
     "execution_count": 103,
     "metadata": {},
     "output_type": "execute_result"
    }
   ],
   "source": [
    "f=a//b\n",
    "f"
   ]
  },
  {
   "cell_type": "code",
   "execution_count": 104,
   "id": "118263d6-2746-42ce-8594-fd334857156d",
   "metadata": {},
   "outputs": [
    {
     "data": {
      "text/plain": [
       "array([-1583482609,   170859375,    16777216,     1594323,  1410065408])"
      ]
     },
     "execution_count": 104,
     "metadata": {},
     "output_type": "execute_result"
    }
   ],
   "source": [
    "# a=[a,b,c,d]\n",
    "# b=[i,j,k,l]\n",
    "# h=[a^i,b^j,c^k,d^l]\n",
    "\n",
    "g=a**b\n",
    "g"
   ]
  },
  {
   "cell_type": "code",
   "execution_count": 169,
   "id": "260ebb89-1913-4dd5-8d04-dccfd26eedea",
   "metadata": {},
   "outputs": [
    {
     "name": "stdout",
     "output_type": "stream",
     "text": [
      "51\n",
      "10.2\n",
      "4\n",
      "3\n",
      "20\n",
      "1\n"
     ]
    }
   ],
   "source": [
    "print(a.sum())\n",
    "print(a.mean())\n",
    "print(a.min())\n",
    "print(a.argmin())\n",
    "print(a.max())\n",
    "print(a.argmax())"
   ]
  },
  {
   "cell_type": "code",
   "execution_count": 105,
   "id": "2e371366-94a8-4363-9c25-cc8131a6ec3a",
   "metadata": {},
   "outputs": [
    {
     "name": "stdout",
     "output_type": "stream",
     "text": [
      "[15 15 16  3 10]\n",
      "[17  7  6 13 10]\n"
     ]
    }
   ],
   "source": [
    "# Relational and logical\n",
    "print(a)\n",
    "print(b)"
   ]
  },
  {
   "cell_type": "code",
   "execution_count": 106,
   "id": "126ec15f-3bd4-42fb-a699-332c11b547bd",
   "metadata": {},
   "outputs": [
    {
     "data": {
      "text/plain": [
       "array([False,  True,  True, False, False])"
      ]
     },
     "execution_count": 106,
     "metadata": {},
     "output_type": "execute_result"
    }
   ],
   "source": [
    "a>b"
   ]
  },
  {
   "cell_type": "code",
   "execution_count": 107,
   "id": "f1468847-e612-4693-97c1-0b487506e935",
   "metadata": {},
   "outputs": [
    {
     "data": {
      "text/plain": [
       "array([ True, False, False,  True, False])"
      ]
     },
     "execution_count": 107,
     "metadata": {},
     "output_type": "execute_result"
    }
   ],
   "source": [
    "a<b"
   ]
  },
  {
   "cell_type": "code",
   "execution_count": 108,
   "id": "79bba00e-3347-4d86-9b8e-7022bd4b3b3e",
   "metadata": {},
   "outputs": [
    {
     "data": {
      "text/plain": [
       "array([False, False, False, False,  True])"
      ]
     },
     "execution_count": 108,
     "metadata": {},
     "output_type": "execute_result"
    }
   ],
   "source": [
    "a==b"
   ]
  },
  {
   "cell_type": "code",
   "execution_count": 109,
   "id": "80b33048-4dbc-4c2b-bf7a-381371a5018c",
   "metadata": {},
   "outputs": [
    {
     "name": "stdout",
     "output_type": "stream",
     "text": [
      "[ True  True  True  True  True]\n",
      "[ True  True  True  True  True]\n",
      "[False False False False False]\n"
     ]
    }
   ],
   "source": [
    "# logical\n",
    "print(np.logical_or(a,b))\n",
    "print(np.logical_and(a,b))\n",
    "print(np.logical_not(a))"
   ]
  },
  {
   "cell_type": "markdown",
   "id": "8ddf320a-c0fe-4a39-8a73-91c65cea7588",
   "metadata": {},
   "source": [
    "# Boolean indexing"
   ]
  },
  {
   "cell_type": "code",
   "execution_count": 110,
   "id": "0ee9c299-912b-4a0b-be2f-52747a5d7ffc",
   "metadata": {},
   "outputs": [
    {
     "name": "stdout",
     "output_type": "stream",
     "text": [
      "[17  7  6 13 10]\n",
      "[ True False False  True False]\n"
     ]
    }
   ],
   "source": [
    "print(b)\n",
    "print(b>10)"
   ]
  },
  {
   "cell_type": "code",
   "execution_count": 180,
   "id": "8f364de7-5abb-4187-8669-6e8ae85fd151",
   "metadata": {},
   "outputs": [
    {
     "name": "stdout",
     "output_type": "stream",
     "text": [
      "[False  True  True False False]\n",
      "[16 10]\n"
     ]
    }
   ],
   "source": [
    "# extract elements greater than 10\n",
    "\n",
    "bool_arr =b>5\n",
    "print(bool_arr)\n",
    "\n",
    "new_arr =b[bool_arr]\n",
    "print(new_arr)"
   ]
  },
  {
   "cell_type": "code",
   "execution_count": 182,
   "id": "b8739ed8-f65b-4910-a875-cb4524b0ebb1",
   "metadata": {},
   "outputs": [
    {
     "data": {
      "text/plain": [
       "array([ 4, 16, 10,  3,  5])"
      ]
     },
     "execution_count": 182,
     "metadata": {},
     "output_type": "execute_result"
    }
   ],
   "source": [
    "new_arr2 = b[b>1]\n",
    "new_arr2"
   ]
  },
  {
   "cell_type": "code",
   "execution_count": 184,
   "id": "793ec775-d9f4-486d-92d7-fe9d8e20545a",
   "metadata": {},
   "outputs": [
    {
     "ename": "ValueError",
     "evalue": "The truth value of an array with more than one element is ambiguous. Use a.any() or a.all()",
     "output_type": "error",
     "traceback": [
      "\u001b[1;31m---------------------------------------------------------------------------\u001b[0m",
      "\u001b[1;31mValueError\u001b[0m                                Traceback (most recent call last)",
      "Cell \u001b[1;32mIn[184], line 1\u001b[0m\n\u001b[1;32m----> 1\u001b[0m new_arr2 \u001b[38;5;241m=\u001b[39m b[b\u001b[38;5;241m>\u001b[39m\u001b[38;5;241m1\u001b[39m \u001b[38;5;241m&\u001b[39m b\u001b[38;5;241m<\u001b[39m\u001b[38;5;241m10\u001b[39m]\n",
      "\u001b[1;31mValueError\u001b[0m: The truth value of an array with more than one element is ambiguous. Use a.any() or a.all()"
     ]
    }
   ],
   "source": [
    "new_arr2 = b[b>1 & b<10]"
   ]
  },
  {
   "cell_type": "code",
   "execution_count": 186,
   "id": "f1c23fb4-1d36-425c-b8a0-693dd1389db0",
   "metadata": {},
   "outputs": [
    {
     "data": {
      "text/plain": [
       "array([4, 3, 5])"
      ]
     },
     "execution_count": 186,
     "metadata": {},
     "output_type": "execute_result"
    }
   ],
   "source": [
    "new_arr2 = b[(b>1) & (b<10)]\n",
    "new_arr2"
   ]
  },
  {
   "cell_type": "code",
   "execution_count": 187,
   "id": "a3e52476-43a1-4563-b2a9-591f76540a06",
   "metadata": {},
   "outputs": [
    {
     "data": {
      "text/plain": [
       "array([ 4, 16, 10,  3,  5])"
      ]
     },
     "execution_count": 187,
     "metadata": {},
     "output_type": "execute_result"
    }
   ],
   "source": [
    "b"
   ]
  },
  {
   "cell_type": "code",
   "execution_count": 188,
   "id": "5f776582-e39a-4a35-a09a-7ee88b72caed",
   "metadata": {},
   "outputs": [
    {
     "data": {
      "text/plain": [
       "array([15, 36, 16,  7, 15])"
      ]
     },
     "execution_count": 188,
     "metadata": {},
     "output_type": "execute_result"
    }
   ],
   "source": [
    "c"
   ]
  },
  {
   "cell_type": "code",
   "execution_count": 189,
   "id": "7277f28e-3160-4b5d-9b85-c28c6b969068",
   "metadata": {},
   "outputs": [],
   "source": [
    "c[:3]=10"
   ]
  },
  {
   "cell_type": "code",
   "execution_count": 190,
   "id": "6844e221-fd92-4cab-95b4-54db0b9bcc60",
   "metadata": {},
   "outputs": [
    {
     "data": {
      "text/plain": [
       "array([10, 10, 10,  7, 15])"
      ]
     },
     "execution_count": 190,
     "metadata": {},
     "output_type": "execute_result"
    }
   ],
   "source": [
    "c"
   ]
  },
  {
   "cell_type": "code",
   "execution_count": 193,
   "id": "cf7869d6-a61e-4755-8d21-ac585135c469",
   "metadata": {},
   "outputs": [],
   "source": [
    "c[c>10] =100"
   ]
  },
  {
   "cell_type": "code",
   "execution_count": 194,
   "id": "6126f73f-4652-46b8-a825-bd47fe9941bf",
   "metadata": {},
   "outputs": [
    {
     "data": {
      "text/plain": [
       "array([ 10,  10,  10,   7, 100])"
      ]
     },
     "execution_count": 194,
     "metadata": {},
     "output_type": "execute_result"
    }
   ],
   "source": [
    "c"
   ]
  },
  {
   "cell_type": "code",
   "execution_count": 195,
   "id": "80ce04fe-27c9-4cc2-951e-c8c10af65724",
   "metadata": {},
   "outputs": [
    {
     "data": {
      "text/plain": [
       "array([11, 20,  6,  4, 10])"
      ]
     },
     "execution_count": 195,
     "metadata": {},
     "output_type": "execute_result"
    }
   ],
   "source": [
    "a"
   ]
  },
  {
   "cell_type": "code",
   "execution_count": 196,
   "id": "e56acda6-0d8f-4f39-a36c-a109b7076434",
   "metadata": {},
   "outputs": [
    {
     "data": {
      "text/plain": [
       "array([ 10,  10,  10,   7, 100])"
      ]
     },
     "execution_count": 196,
     "metadata": {},
     "output_type": "execute_result"
    }
   ],
   "source": [
    "c"
   ]
  },
  {
   "cell_type": "code",
   "execution_count": 198,
   "id": "7358f6f8-f884-4cac-a5cb-312611e6e9a4",
   "metadata": {},
   "outputs": [
    {
     "name": "stdout",
     "output_type": "stream",
     "text": [
      "[10 10 10]\n"
     ]
    }
   ],
   "source": [
    "print(c[c == 10])"
   ]
  },
  {
   "cell_type": "code",
   "execution_count": 199,
   "id": "e7f705fb-d9a5-41c2-a084-a85a8d05c3bb",
   "metadata": {},
   "outputs": [],
   "source": [
    "# indexes array\n",
    "\n",
    "ind = np.where(c==10)"
   ]
  },
  {
   "cell_type": "code",
   "execution_count": 200,
   "id": "a85b6207-aedd-45db-8705-d7bbf4775498",
   "metadata": {},
   "outputs": [
    {
     "data": {
      "text/plain": [
       "(array([0, 1, 2], dtype=int64),)"
      ]
     },
     "execution_count": 200,
     "metadata": {},
     "output_type": "execute_result"
    }
   ],
   "source": [
    "ind"
   ]
  },
  {
   "cell_type": "code",
   "execution_count": 210,
   "id": "e8e8f88f-5692-43ce-8a3d-0bad956ab58a",
   "metadata": {},
   "outputs": [
    {
     "name": "stdout",
     "output_type": "stream",
     "text": [
      "14\n",
      "14\n"
     ]
    },
    {
     "data": {
      "text/plain": [
       "(array([ 0,  4,  7, 13], dtype=int64),)"
      ]
     },
     "execution_count": 210,
     "metadata": {},
     "output_type": "execute_result"
    }
   ],
   "source": [
    "a= np.array(['t','b','r','d','e','f','z','a','w','y','y','h','t','j'])\n",
    "print(len(a))\n",
    "b= np.array([100,120,140,190,100,200,120,100,240,250,300,320,400,100])\n",
    "print(len(b))\n",
    "ind= np.where(b==100)\n",
    "ind"
   ]
  },
  {
   "cell_type": "code",
   "execution_count": 211,
   "id": "d0cd6f0a-ec4d-4e12-bd8e-c414950ce517",
   "metadata": {},
   "outputs": [
    {
     "name": "stdout",
     "output_type": "stream",
     "text": [
      "['t' 'e' 'a' 'j']\n"
     ]
    }
   ],
   "source": [
    "# if b[i]==100 then only print a[i]\n",
    "print(a[ind]) #need same size "
   ]
  },
  {
   "cell_type": "code",
   "execution_count": 216,
   "id": "0c93bb90-48d7-4ec2-9597-fb72422ce46a",
   "metadata": {},
   "outputs": [
    {
     "name": "stdout",
     "output_type": "stream",
     "text": [
      "[120 190 100 120 100 250 400]\n",
      "(array([ 1,  3,  4,  6,  7,  9, 12], dtype=int64),)\n",
      "[120 190 100 120 100 250 400]\n"
     ]
    }
   ],
   "source": [
    "a= np.array([0,120,0,190,100,0,120,100,0,250,0,0,400,0])\n",
    "\n",
    "# extract non zero elements indexes\n",
    "list= a[a>0]\n",
    "\n",
    "print(list)\n",
    "indexes= np.where(a>0)\n",
    "print(indexes)\n",
    "print(a[indexes])"
   ]
  },
  {
   "cell_type": "code",
   "execution_count": 222,
   "id": "d6bc910b-aa26-4973-b500-8d977c128873",
   "metadata": {},
   "outputs": [
    {
     "name": "stdout",
     "output_type": "stream",
     "text": [
      "[ 1  3  5  7  9 11 13 15 17 19 21 23 25 27 29]\n",
      "(array([ 1,  4,  7, 10, 13], dtype=int64),)\n",
      "[ 3  9 15 21 27]\n"
     ]
    }
   ],
   "source": [
    "a= np.array([i for i in range(1,30,2)])\n",
    "\n",
    "print(a)\n",
    "# list= a[a>0]\n",
    "\n",
    "# print(list)\n",
    "\n",
    "indexes= np.where(a%3==0)\n",
    "\n",
    "print(indexes)\n",
    "print(a[indexes])"
   ]
  },
  {
   "cell_type": "code",
   "execution_count": 223,
   "id": "ee7e344f-c977-4468-afb8-72af77e008fa",
   "metadata": {},
   "outputs": [
    {
     "data": {
      "text/plain": [
       "array([-1,  2, -1,  4, -1,  6, -1,  8, -1, 10])"
      ]
     },
     "execution_count": 223,
     "metadata": {},
     "output_type": "execute_result"
    }
   ],
   "source": [
    "a=np.array([i for i in range(1,11)])\n",
    "\n",
    "# replace the odd numbers in numpy array with -1\n",
    "\n",
    "indexes = np.where(a%2==1)\n",
    "\n",
    "a[indexes]=-1\n",
    "\n",
    "a"
   ]
  },
  {
   "cell_type": "code",
   "execution_count": 111,
   "id": "022a9c50-1edd-407a-96d5-f4f58785e061",
   "metadata": {},
   "outputs": [
    {
     "name": "stdout",
     "output_type": "stream",
     "text": [
      "11\n",
      "12\n",
      "13\n",
      "14\n",
      "15\n",
      "16\n",
      "17\n",
      "18\n",
      "0\n"
     ]
    }
   ],
   "source": [
    "# replace the max by 0\n",
    "\n",
    "a= np.array([i for i in range(11,20)])\n",
    "\n",
    "a[a.argmax()]=0\n",
    "\n",
    "for i in a:\n",
    "    print(i)\n"
   ]
  },
  {
   "cell_type": "code",
   "execution_count": 226,
   "id": "afcfe6ab-d93e-4e01-830d-b1a522b36a4a",
   "metadata": {},
   "outputs": [
    {
     "data": {
      "text/plain": [
       "array([ 0,  1,  2, -1, -1, -1, -1, -1, -1,  9, 10, 11, 12, 13, 14])"
      ]
     },
     "execution_count": 226,
     "metadata": {},
     "output_type": "execute_result"
    }
   ],
   "source": [
    "# negate nums btw 3,8 indexes\n",
    "import numpy as np\n",
    "arr = np.arange(1,11)\n",
    "arr[2:8] = np.multiply(arr[2:8],-1)\n",
    "for i in arr:\n",
    "    print(i)"
   ]
  },
  {
   "cell_type": "code",
   "execution_count": 227,
   "id": "7c2d4b97-e9e9-4854-855c-6c97b7f1dc79",
   "metadata": {},
   "outputs": [
    {
     "name": "stdout",
     "output_type": "stream",
     "text": [
      "[15 16 17 17 15 17 16 17 16 16 17 15 16 17 15 16 17 16 17 17]\n",
      "[157 164 160 154 161 161 151 153 152 163 153 156 164 164 158 154 163 155\n",
      " 157 155]\n"
     ]
    }
   ],
   "source": [
    "ages=np.random.randint(15,18,20)\n",
    "heights=np.random.randint(150,165,20)\n",
    "print(ages)\n",
    "print(heights)"
   ]
  },
  {
   "cell_type": "code",
   "execution_count": 228,
   "id": "3d06c33a-628f-463a-9b06-e930f85de386",
   "metadata": {},
   "outputs": [
    {
     "name": "stdout",
     "output_type": "stream",
     "text": [
      "[15 16 17 15 17 16 15 16 17 15 17 17]\n"
     ]
    }
   ],
   "source": [
    "# print the age of students whose height is above 155\n",
    "\n",
    "above_155 = heights>155\n",
    "\n",
    "print(ages[above_155])"
   ]
  },
  {
   "cell_type": "code",
   "execution_count": 114,
   "id": "0d9d19de-fa55-430e-bd88-282aad655f03",
   "metadata": {},
   "outputs": [
    {
     "name": "stdout",
     "output_type": "stream",
     "text": [
      "[[ 1 18  9 19  3 23]\n",
      " [25 21  6 13 11 16]\n",
      " [ 5 19 12 14 16 24]\n",
      " [25 19  7  2  2  3]\n",
      " [ 8 22 15  4 13 18]]\n"
     ]
    }
   ],
   "source": [
    "# Boolean Indexing for 2d array\n",
    "\n",
    "import numpy as np\n",
    "\n",
    "a=np.random.randint(1,30,(5,6))\n",
    "print(a)"
   ]
  },
  {
   "cell_type": "code",
   "execution_count": 115,
   "id": "1137ca00-0230-4039-9b7f-cc423d8812b1",
   "metadata": {},
   "outputs": [
    {
     "name": "stdout",
     "output_type": "stream",
     "text": [
      "[[False False False False False  True]\n",
      " [ True  True False False False False]\n",
      " [False False False False False  True]\n",
      " [ True False False False False False]\n",
      " [False  True False False False False]]\n"
     ]
    }
   ],
   "source": [
    "bool_arr=a>20\n",
    "\n",
    "print(bool_arr)"
   ]
  },
  {
   "cell_type": "code",
   "execution_count": 116,
   "id": "0c0e7441-9c5e-46f6-a22c-ebb1bdc17ed9",
   "metadata": {},
   "outputs": [],
   "source": [
    "ans=a[bool_arr] #bool_arr "
   ]
  },
  {
   "cell_type": "code",
   "execution_count": 117,
   "id": "1fe9a3c5-27ab-4e09-8a6d-a01072adb365",
   "metadata": {},
   "outputs": [
    {
     "data": {
      "text/plain": [
       "array([23, 25, 21, 24, 25, 22])"
      ]
     },
     "execution_count": 117,
     "metadata": {},
     "output_type": "execute_result"
    }
   ],
   "source": [
    "ans"
   ]
  },
  {
   "cell_type": "code",
   "execution_count": 120,
   "id": "4f57b1b5-cdb3-442b-83b3-77196e75b7b0",
   "metadata": {},
   "outputs": [
    {
     "data": {
      "text/plain": [
       "array([[  1,  18,   9,  19,   3, 100],\n",
       "       [100, 100,   6,  13,  11,  16],\n",
       "       [  5,  19,  12,  14,  16, 100],\n",
       "       [100,  19,   7,   2,   2,   3],\n",
       "       [  8, 100,  15,   4,  13,  18]])"
      ]
     },
     "execution_count": 120,
     "metadata": {},
     "output_type": "execute_result"
    }
   ],
   "source": [
    "# f a[i][j]>20 then a[i][j] =20\n",
    "\n",
    "a[a>20]=100\n",
    "a"
   ]
  },
  {
   "cell_type": "code",
   "execution_count": 121,
   "id": "305978f7-a17f-480d-b61a-b9c5f28d0433",
   "metadata": {},
   "outputs": [
    {
     "data": {
      "text/plain": [
       "array([[  1,  18,   9,  19,   3, 100],\n",
       "       [100, 100,   6,  13,  11,  16],\n",
       "       [  5,  19,  12,  14,  16, 100],\n",
       "       [100,  19,   7,   2,   2,   3],\n",
       "       [  8, 100,  15,   4,  13,  18]])"
      ]
     },
     "execution_count": 121,
     "metadata": {},
     "output_type": "execute_result"
    }
   ],
   "source": [
    "a"
   ]
  },
  {
   "cell_type": "code",
   "execution_count": 122,
   "id": "1bddadb1-1ead-4ae4-a19e-1cf115602804",
   "metadata": {},
   "outputs": [
    {
     "data": {
      "text/plain": [
       "array([False, False, False, False, False])"
      ]
     },
     "execution_count": 122,
     "metadata": {},
     "output_type": "execute_result"
    }
   ],
   "source": [
    "# for specific column\n",
    "bool_arr = a[:,3] == 100\n",
    "bool_arr"
   ]
  },
  {
   "cell_type": "code",
   "execution_count": 123,
   "id": "74d995fa-b97b-4dc7-a432-3cce2690afea",
   "metadata": {},
   "outputs": [
    {
     "data": {
      "text/plain": [
       "array([[  1,  18,   9,  19,   3, 100],\n",
       "       [100, 100,   6,  13,  11,  16],\n",
       "       [  5,  19,  12,  14,  16, 100],\n",
       "       [100,  19,   7,   2,   2,   3],\n",
       "       [  8, 100,  15,   4,  13,  18]])"
      ]
     },
     "execution_count": 123,
     "metadata": {},
     "output_type": "execute_result"
    }
   ],
   "source": [
    "# doubt\n",
    "a[bool_arr,3]=99\n",
    "a"
   ]
  },
  {
   "cell_type": "code",
   "execution_count": 12,
   "id": "0db39a03-62b4-4b64-8f75-393a59642e0e",
   "metadata": {},
   "outputs": [
    {
     "data": {
      "text/plain": [
       "array([[ 2, 14,  6,  8, 17],\n",
       "       [ 2,  5, 14,  7,  8],\n",
       "       [15, 18,  6, 18,  8],\n",
       "       [12, 16, 12, 15, 13]])"
      ]
     },
     "execution_count": 12,
     "metadata": {},
     "output_type": "execute_result"
    }
   ],
   "source": [
    "# sort a given 2d array of shape (4,5) by 2nd column i.e column at index 1 in ascending\n",
    "# That means, we should re arrange complete row based on 2nd column's values\n",
    "\n",
    "array =np.random.randint(1,20,(4,5))\n",
    "\n",
    "array"
   ]
  },
  {
   "cell_type": "code",
   "execution_count": 16,
   "id": "ca27c800-8c83-42d0-9bde-1bfeb44b9d07",
   "metadata": {},
   "outputs": [
    {
     "data": {
      "text/plain": [
       "array([ 5, 14, 16, 18])"
      ]
     },
     "execution_count": 16,
     "metadata": {},
     "output_type": "execute_result"
    }
   ],
   "source": [
    "a= np.sort(array[:,1])"
   ]
  },
  {
   "cell_type": "code",
   "execution_count": 25,
   "id": "9c3c5caa-e417-45e9-802a-a9fe4a1c9780",
   "metadata": {},
   "outputs": [
    {
     "data": {
      "text/plain": [
       "array([[ 2,  5,  6,  8, 17],\n",
       "       [ 2,  7,  8, 14, 14],\n",
       "       [ 6,  8, 15, 16, 18],\n",
       "       [12, 12, 13, 15, 18]])"
      ]
     },
     "execution_count": 25,
     "metadata": {},
     "output_type": "execute_result"
    }
   ],
   "source": [
    "np.sort(array)\n",
    "array"
   ]
  },
  {
   "cell_type": "code",
   "execution_count": 19,
   "id": "3e78e195-a020-4707-8bdc-c274a9704640",
   "metadata": {},
   "outputs": [
    {
     "name": "stdout",
     "output_type": "stream",
     "text": [
      "[3 2 1 0]\n",
      "<class 'numpy.ndarray'>\n",
      "Original array:\n",
      "[[5 9 2 8 1]\n",
      " [7 4 3 6 0]\n",
      " [9 2 1 5 3]\n",
      " [3 1 4 2 8]]\n",
      "\n",
      "Sorted array by 2nd column:\n",
      "[[3 1 4 2 8]\n",
      " [9 2 1 5 3]\n",
      " [7 4 3 6 0]\n",
      " [5 9 2 8 1]]\n"
     ]
    }
   ],
   "source": [
    "import numpy as np\n",
    "\n",
    "# Sample 2D array (4x5)\n",
    "# Replace this with your actual array\n",
    "# For example:\n",
    "# arr = np.array([[5, 9, 2, 8, 1],\n",
    "#                 [7, 4, 3, 6, 0],\n",
    "#                 [9, 2, 1, 5, 3],\n",
    "#                 [3, 1, 4, 2, 8]])\n",
    "\n",
    "arr = np.array([[5, 9, 2, 8, 1],\n",
    "                [7, 4, 3, 6, 0],\n",
    "                [9, 2, 1, 5, 3],\n",
    "                [3, 1, 4, 2, 8]])\n",
    "\n",
    "# Get the indices that would sort the array based on the 2nd column (index 1)\n",
    "sort_indices = np.argsort(arr[:, 1])\n",
    "\n",
    "print(sort_indices)\n",
    "print(type(sort_indices))\n",
    "# Rearrange the rows based on the sorted indices\n",
    "sorted_arr = arr[sort_indices]\n",
    "\n",
    "print(\"Original array:\")\n",
    "print(arr)\n",
    "\n",
    "print(\"\\nSorted array by 2nd column:\")\n",
    "print(sorted_arr)\n"
   ]
  },
  {
   "cell_type": "raw",
   "id": "6d6fc561-c52c-498d-8ba1-df195e032502",
   "metadata": {},
   "source": [
    "# Numpy Broadcasting\n",
    "\n",
    "a=5 x 1\n",
    "b=5 x 1\n",
    "\n",
    "a-b\n",
    "a+b\n",
    "a*b\n",
    "\n",
    "# Broadcasting is how numpy works with different shape of array operations\n",
    "a=2 x 3\n",
    "b=3 x 2\n",
    "\n",
    "a-b # cant do\n",
    "\n",
    "# arrrays are compatible only if they are having same dimensions or one of them have 1 dimension\n",
    "\n",
    "\n",
    "array1\n",
    "array2\n",
    "a=3 x 2 b=3 x 2\n",
    "a=3 x 3 b=1 x 3\n",
    "\n",
    "\n",
    "a=3 x 3 b=3 x 2 # not compatible\n",
    "\n",
    "\n",
    "equal \n"
   ]
  },
  {
   "cell_type": "code",
   "execution_count": 28,
   "id": "6772ca81-7eb3-486d-908a-c694a928ead5",
   "metadata": {},
   "outputs": [
    {
     "name": "stdout",
     "output_type": "stream",
     "text": [
      "[[6 5 4]\n",
      " [9 6 6]\n",
      " [6 5 5]]\n",
      "\n",
      "[[6 9 8]\n",
      " [4 2 4]\n",
      " [9 4 2]]\n"
     ]
    }
   ],
   "source": [
    "import numpy as np\n",
    "\n",
    "x= np.random.randint(1,10,(3,3))\n",
    "y= np.random.randint(1,10,(3,3))\n",
    "print(x)\n",
    "print()\n",
    "print(y)"
   ]
  },
  {
   "cell_type": "code",
   "execution_count": 29,
   "id": "b4f3d8f4-1980-4c6c-ac2d-bc7440159457",
   "metadata": {},
   "outputs": [
    {
     "name": "stdout",
     "output_type": "stream",
     "text": [
      "[[12 14 12]\n",
      " [13  8 10]\n",
      " [15  9  7]]\n"
     ]
    }
   ],
   "source": [
    "ans = x+y\n",
    "print(ans)"
   ]
  },
  {
   "cell_type": "code",
   "execution_count": 30,
   "id": "69bcc4e2-a6e3-49bc-a926-eed526d76672",
   "metadata": {},
   "outputs": [
    {
     "name": "stdout",
     "output_type": "stream",
     "text": [
      "[[2 9 2]\n",
      " [7 9 5]\n",
      " [9 3 4]]\n",
      "\n",
      "[3 8 5]\n"
     ]
    }
   ],
   "source": [
    "import numpy as np\n",
    "\n",
    "x= np.random.randint(1,10,(3,3))\n",
    "y= np.random.randint(1,10,(3))\n",
    "print(x)\n",
    "print()\n",
    "print(y)"
   ]
  },
  {
   "cell_type": "code",
   "execution_count": 31,
   "id": "40b0c439-2660-4749-8b52-a849b6f3f8d0",
   "metadata": {},
   "outputs": [
    {
     "data": {
      "text/plain": [
       "array([[-1,  1, -3],\n",
       "       [ 4,  1,  0],\n",
       "       [ 6, -5, -1]])"
      ]
     },
     "execution_count": 31,
     "metadata": {},
     "output_type": "execute_result"
    }
   ],
   "source": [
    "ans = x-y #for y row is repeated 3 times to do element by element subtraction\n",
    "ans "
   ]
  },
  {
   "cell_type": "code",
   "execution_count": 32,
   "id": "17f1843a-2661-466c-9705-dfb284239aec",
   "metadata": {},
   "outputs": [
    {
     "ename": "ValueError",
     "evalue": "operands could not be broadcast together with shapes (3,2) (2,3) ",
     "output_type": "error",
     "traceback": [
      "\u001b[1;31m---------------------------------------------------------------------------\u001b[0m",
      "\u001b[1;31mValueError\u001b[0m                                Traceback (most recent call last)",
      "Cell \u001b[1;32mIn[32], line 6\u001b[0m\n\u001b[0;32m      4\u001b[0m x\u001b[38;5;241m=\u001b[39m np\u001b[38;5;241m.\u001b[39mrandom\u001b[38;5;241m.\u001b[39mrandint(\u001b[38;5;241m1\u001b[39m,\u001b[38;5;241m10\u001b[39m,(\u001b[38;5;241m3\u001b[39m,\u001b[38;5;241m2\u001b[39m))\n\u001b[0;32m      5\u001b[0m y\u001b[38;5;241m=\u001b[39m np\u001b[38;5;241m.\u001b[39mrandom\u001b[38;5;241m.\u001b[39mrandint(\u001b[38;5;241m1\u001b[39m,\u001b[38;5;241m10\u001b[39m,(\u001b[38;5;241m2\u001b[39m,\u001b[38;5;241m3\u001b[39m))\n\u001b[1;32m----> 6\u001b[0m ans \u001b[38;5;241m=\u001b[39m \u001b[43mx\u001b[49m\u001b[38;5;241;43m-\u001b[39;49m\u001b[43my\u001b[49m \u001b[38;5;66;03m#\u001b[39;00m\n\u001b[0;32m      7\u001b[0m ans \n",
      "\u001b[1;31mValueError\u001b[0m: operands could not be broadcast together with shapes (3,2) (2,3) "
     ]
    }
   ],
   "source": [
    "# a=3 x 2 b=3 x 2\n",
    "import numpy as np\n",
    "\n",
    "x= np.random.randint(1,10,(3,2))\n",
    "y= np.random.randint(1,10,(2,3))\n",
    "ans = x-y #\n",
    "ans "
   ]
  },
  {
   "cell_type": "code",
   "execution_count": 33,
   "id": "25cc8449-a632-4c57-8ceb-677a9c974ea4",
   "metadata": {},
   "outputs": [
    {
     "data": {
      "text/plain": [
       "array([[ 2, -3],\n",
       "       [-3, -1],\n",
       "       [ 3, -3]])"
      ]
     },
     "execution_count": 33,
     "metadata": {},
     "output_type": "execute_result"
    }
   ],
   "source": [
    "# a=3 x 2 b=2 x 3\n",
    "import numpy as np\n",
    "\n",
    "x= np.random.randint(1,10,(3,2))\n",
    "y= np.random.randint(1,10,(2,3))\n",
    "y= np.transpose(y)\n",
    "ans = x-y #\n",
    "ans "
   ]
  },
  {
   "cell_type": "code",
   "execution_count": 34,
   "id": "dc0e8974-6464-4182-b846-259fa367e7ab",
   "metadata": {},
   "outputs": [],
   "source": [
    "# resize\n",
    "# reshape\n",
    "# To make them compatible"
   ]
  },
  {
   "cell_type": "code",
   "execution_count": 36,
   "id": "6b1baeba-653a-4727-95d5-41ab9df3265c",
   "metadata": {},
   "outputs": [],
   "source": [
    "# Broadcasting Examples\n",
    "\n",
    "# (3,1) (3,3) -> (3,3) (3,3)\n",
    "# broadcasted first column to 3 columns\n",
    "\n",
    "# (1,3) (3,1) -> (3,3) (3,3)\n",
    "# broadcasted first column to 3 columns and broadcasted first row to 3 rows\n",
    "\n",
    "# (1,3) (1,1) -> (1,3) (1,3)\n"
   ]
  },
  {
   "cell_type": "code",
   "execution_count": 37,
   "id": "1dfbed69-57cd-4655-93fa-d0e18d3f83d1",
   "metadata": {},
   "outputs": [],
   "source": [
    "# Create killed+wounded colun in 2017 attacks"
   ]
  },
  {
   "cell_type": "code",
   "execution_count": 13,
   "id": "e8ce5619-83ae-4087-af09-9e730321beb1",
   "metadata": {},
   "outputs": [
    {
     "name": "stdout",
     "output_type": "stream",
     "text": [
      "[0 2 7 ... 0 0 0]\n",
      "[0 0 0 ... 0 0 0]\n",
      "[0 2 7 ... 0 0 0]\n"
     ]
    }
   ],
   "source": [
    "import csv\n",
    "import numpy as np\n",
    "\n",
    "killed=[]\n",
    "wounded=[]\n",
    "country=[]\n",
    "\n",
    "with open('year2017-7767.csv','r',encoding='utf-8') as file_obj:\n",
    "    data = csv.DictReader(file_obj,skipinitialspace=True)\n",
    "    data_list = list(data)\n",
    "    for row in data_list:\n",
    "        killed.append(row['Killed'])\n",
    "        wounded.append(row['Wounded'])\n",
    "        country.append(row['Country'])\n",
    "# currently we have some '0.0', first float then int\n",
    "# some have '' cant convert into float\n",
    "\n",
    "np_killed= np.array(killed) #str\n",
    "np_wounded= np.array(wounded) #str\n",
    "\n",
    "\n",
    "np_killed[np_killed=='']='0.0'\n",
    "np_wounded[np_wounded=='']='0.0'\n",
    "\n",
    "np_killed= np.array(np_killed,dtype= float)\n",
    "np_killed= np.array(np_killed,dtype= int)\n",
    "\n",
    "np_wounded= np.array(np_wounded,dtype= float)\n",
    "np_wounded= np.array(np_wounded,dtype= int)\n",
    "\n",
    "\n",
    "killed_wounded = np_killed+np_wounded\n",
    "print(np_killed)\n",
    "print(np_wounded)\n",
    "print(killed_wounded)"
   ]
  },
  {
   "cell_type": "code",
   "execution_count": 16,
   "id": "2a241982-61fb-4f31-90d5-1d51df973450",
   "metadata": {},
   "outputs": [
    {
     "name": "stdout",
     "output_type": "stream",
     "text": [
      "1167\n",
      "51372\n"
     ]
    }
   ],
   "source": [
    "# What if i want k+w for india\n",
    "np_country = np.array(country)\n",
    "bool_arr= np_country=='India'\n",
    "ans=killed_wounded[bool_arr]\n",
    "print(np.sum(ans))\n",
    "print(np.sum(killed_wounded))"
   ]
  },
  {
   "cell_type": "code",
   "execution_count": 25,
   "id": "3bf7cd62-6fd2-422e-ad32-64f25922d959",
   "metadata": {},
   "outputs": [
    {
     "name": "stdout",
     "output_type": "stream",
     "text": [
      "0.0\n",
      "5.0\n",
      "0.0\n",
      "0.0\n",
      "0.0\n",
      "0.0\n",
      "0.0\n",
      "1.0\n",
      "0.0\n",
      "0.0\n",
      "1.0\n",
      "0.0\n",
      "0.0\n",
      "0.0\n",
      "0.0\n",
      "0.0\n",
      "0.0\n",
      "1.0\n",
      "0.0\n",
      "0.0\n",
      "1.0\n",
      "3.0\n",
      "0.0\n",
      "0.0\n",
      "0.0\n",
      "0.0\n",
      "0.0\n",
      "2.0\n",
      "0.0\n",
      "1.0\n",
      "2.0\n",
      "0.0\n",
      "0.0\n",
      "0.0\n",
      "0.0\n",
      "0.0\n",
      "1.0\n",
      "0.0\n",
      "0.0\n",
      "2.0\n",
      "0.0\n",
      "0.0\n",
      "0.0\n",
      "0.0\n",
      "0.0\n",
      "0.0\n",
      "1.0\n",
      "0.0\n",
      "0.0\n",
      "1.0\n",
      "1.0\n",
      "1.0\n",
      "59.0\n",
      "0.0\n",
      "0.0\n",
      "0.0\n",
      "0.0\n",
      "8.0\n",
      "0.0\n",
      "0.0\n",
      "0.0\n",
      "3.0\n",
      "0.0\n",
      "0.0\n",
      "1.0\n",
      "Total killed 95.0\n"
     ]
    }
   ],
   "source": [
    "import numpy as np\n",
    "import csv\n",
    "\n",
    "killed= []\n",
    "wounded= []\n",
    "country= []\n",
    "\n",
    "with open('year2017-7767.csv','r',encoding='utf-8') as file_obj:\n",
    "    data = csv.DictReader(file_obj, skipinitialspace=True)\n",
    "    for row in data:\n",
    "        killed.append(row['Killed'])\n",
    "        wounded.append(row['Wounded'])\n",
    "        country.append(row['Country'])\n",
    "\n",
    "np_killed= np.array(killed)\n",
    "np_killed[np_killed==\"\"]= \"0.0\"\n",
    "np_killed= np.array(np_killed,dtype = float)\n",
    "\n",
    "np_wounded= np.array(wounded)\n",
    "np_wounded[np_wounded==\"\"]= \"0.0\"\n",
    "np_wounded= np.array(np_wounded,dtype = float)\n",
    "\n",
    "wounded_killed= np_wounded+np_killed\n",
    "\n",
    "np_country= np.array(country)\n",
    "\n",
    "# Find value of killed Column only where country == 'United States'\n",
    "america_killed = np_killed[np_country=='United States']\n",
    "\n",
    "\n",
    "for i in america_killed:\n",
    "    print(i)\n",
    "\n",
    "# Total killed in usa\n",
    "print(\"Total killed\",np.sum(america_killed))"
   ]
  },
  {
   "cell_type": "code",
   "execution_count": 33,
   "id": "4d121740-8299-45b7-9ed5-d4fe9abf5a65",
   "metadata": {},
   "outputs": [
    {
     "name": "stdout",
     "output_type": "stream",
     "text": [
      "4002\n",
      "[10. 10. 10. ... 20. 20. 20.]\n"
     ]
    }
   ],
   "source": [
    "# Number of attacks held between day 10 and day 20\n",
    "# print count of number of attacks as integer value\n",
    "\n",
    "import numpy as np\n",
    "import csv\n",
    "\n",
    "days= []\n",
    "\n",
    "\n",
    "with open('year2017-7767.csv','r',encoding='utf-8') as file_obj:\n",
    "    data = csv.DictReader(file_obj, skipinitialspace=True)\n",
    "    for row in data:\n",
    "        days.append(row['Day'])\n",
    "\n",
    "np_days= np.array(np_days,dtype = float)\n",
    "num_attacks_btw_10_and_20 = np_days[(np_days>=10) & (np_days<=20)]\n",
    "print(len(num_attacks_btw_10_and_20))\n",
    "print(num_attacks_btw_10_and_20)\n"
   ]
  },
  {
   "cell_type": "code",
   "execution_count": 124,
   "id": "84f096c6-8f1e-4d14-a94a-871f421531ea",
   "metadata": {},
   "outputs": [],
   "source": [
    "import numpy as np\n",
    "import csv\n",
    "with open('year2017-7767.csv','r',encoding='utf-8') as file_obj:\n",
    "    data = csv.DictReader(file_obj, skipinitialspace=True)\n",
    "    # for row in data:\n",
    "    #     print(row)"
   ]
  },
  {
   "cell_type": "code",
   "execution_count": 41,
   "id": "2fba1a23-1712-4d48-8f14-8b6110028743",
   "metadata": {},
   "outputs": [
    {
     "name": "stdout",
     "output_type": "stream",
     "text": [
      "271\n"
     ]
    }
   ],
   "source": [
    "# Find the number of attack held between 1 jan 2010 and 31 jan 2010(inclusive)\n",
    "\n",
    "\n",
    "import numpy as np\n",
    "import csv\n",
    "\n",
    "years= []\n",
    "months= []\n",
    "days= []\n",
    "\n",
    "\n",
    "with open('terrorismData.csv','r',encoding='utf-8') as file_obj:\n",
    "    data = csv.DictReader(file_obj, skipinitialspace=True)\n",
    "    for row in data:\n",
    "        days.append(row['Day'])\n",
    "        months.append(row['Month'])\n",
    "        years.append(row['Year'])\n",
    "\n",
    "np_days= np.array(days,dtype = float)\n",
    "np_months= np.array(months,dtype = float)\n",
    "np_years= np.array(years,dtype = float)\n",
    "\n",
    "bool_year = (np_years==2010)\n",
    "bool_month= ((bool_year) & (np_months==1))\n",
    "bool_days = bool_month & ((np_days>=1) & (np_days<=31))\n",
    "\n",
    "ans= np_days[bool_days]\n",
    "print(len(ans))\n"
   ]
  },
  {
   "cell_type": "code",
   "execution_count": 44,
   "id": "c0231aa2-e506-4fa5-81f3-3d59edfc91b9",
   "metadata": {},
   "outputs": [
    {
     "name": "stdout",
     "output_type": "stream",
     "text": [
      "271\n"
     ]
    }
   ],
   "source": [
    "import numpy as np\n",
    "import csv\n",
    "\n",
    "with open('terrorismData.csv',encoding=\"utf8\") as file_obj :\n",
    "    data = csv.DictReader(file_obj,skipinitialspace=True)\n",
    "    \n",
    "    days = []\n",
    "    months = []\n",
    "    year = []\n",
    "    for row in data:\n",
    "        days.append(row['Day'])\n",
    "        months.append(row['Month'])\n",
    "        year.append(row['Year'])\n",
    "        \n",
    "    np_day = np.array(days, dtype=float)\n",
    "    np_month = np.array(months, dtype=float)\n",
    "    np_year = np.array(year, dtype=float)\n",
    "    \n",
    "    np_day = np_day[(np_month==1) & (np_year==2010)]\n",
    "    \n",
    "    print(len(np_day[np_day!=0]))"
   ]
  },
  {
   "cell_type": "code",
   "execution_count": 50,
   "id": "1deee9a2-bac8-4721-9784-80231ab5842f",
   "metadata": {},
   "outputs": [
    {
     "name": "stdout",
     "output_type": "stream",
     "text": [
      "Casualty:  0.0  City:  Aguada  Terrorist Group:  Armed Commandos of Liberation\n"
     ]
    }
   ],
   "source": [
    "# Terror Casualty Attack\n",
    "# Kargil War took place between may 1999 and july 1999 (3 months)\n",
    "\n",
    "# Find out the attack in this period in which maximum casualties happened\n",
    "# print the count of casualities, city in which that attack happened and name of the attack group\n",
    "\n",
    "# casuality = killed + wounded\n",
    "import numpy as np\n",
    "import csv\n",
    "\n",
    "killed= []\n",
    "wounded= []\n",
    "\n",
    "months = []\n",
    "year = []\n",
    "city =[]\n",
    "group =[]\n",
    "\n",
    "with open('terrorismData.csv','r',encoding='utf-8') as file_obj:\n",
    "    data = csv.DictReader(file_obj, skipinitialspace=True)\n",
    "    for row in data:\n",
    "        killed.append(row['Killed'])\n",
    "        wounded.append(row['Wounded'])\n",
    "        months.append(row['Month'])\n",
    "        year.append(row['Year'])\n",
    "        city.append(row['City'])\n",
    "        group.append(row['Group'])\n",
    "\n",
    "np_killed= np.array(killed)\n",
    "np_killed[np_killed==\"\"]= \"0.0\"\n",
    "np_killed= np.array(np_killed,dtype = float)\n",
    "\n",
    "np_wounded= np.array(wounded)\n",
    "np_wounded[np_wounded==\"\"]= \"0.0\"\n",
    "np_wounded= np.array(np_wounded,dtype = float)\n",
    "\n",
    "wounded_killed= np_wounded+np_killed\n",
    "\n",
    "np_city= np.array(city)\n",
    "np_group= np.array(group)\n",
    "\n",
    "np_months= np.array(months,dtype=int)\n",
    "np_year= np.array(year,dtype=int)\n",
    "\n",
    "# 5 to 7 months\n",
    "ans= wounded_killed[ (np_months>=5) &  (np_months<=7) & (np_year==1999) ]\n",
    "\n",
    "max_casuality_index = np.argmax(ans)\n",
    "\n",
    "print(\"Casualty: \",wounded_killed[max_casuality_index],\" City: \",np_city[max_casuality_index],\" Terrorist Group: \",np_group[max_casuality_index])\n",
    "      "
   ]
  },
  {
   "cell_type": "code",
   "execution_count": 52,
   "id": "a3bc12fe-fe64-44f1-8cfc-974984b3acbb",
   "metadata": {},
   "outputs": [
    {
     "name": "stdout",
     "output_type": "stream",
     "text": [
      "Casualty: 300.0 City: Unknown Terrorist Group: Unknown\n"
     ]
    }
   ],
   "source": [
    "import numpy as np\n",
    "import csv\n",
    "\n",
    "killed = []\n",
    "wounded = []\n",
    "months = []\n",
    "year = []\n",
    "city = []\n",
    "group = []\n",
    "\n",
    "with open('terrorismData.csv', 'r', encoding='utf-8') as file_obj:\n",
    "    data = csv.DictReader(file_obj, skipinitialspace=True)\n",
    "    for row in data:\n",
    "        killed.append(row['Killed'])\n",
    "        wounded.append(row['Wounded'])\n",
    "        months.append(row['Month'])\n",
    "        year.append(row['Year'])\n",
    "        city.append(row['City'])\n",
    "        group.append(row['Group'])\n",
    "\n",
    "np_killed = np.array(killed)\n",
    "np_killed[np_killed == \"\"] = \"0.0\"\n",
    "np_killed = np.array(np_killed, dtype=float)\n",
    "\n",
    "np_wounded = np.array(wounded)\n",
    "np_wounded[np_wounded == \"\"] = \"0.0\"\n",
    "np_wounded = np.array(np_wounded, dtype=float)\n",
    "\n",
    "wounded_killed = np_wounded + np_killed\n",
    "\n",
    "np_city = np.array(city)\n",
    "np_group = np.array(group)\n",
    "\n",
    "np_months = np.array(months, dtype=int)\n",
    "np_year = np.array(year, dtype=int)\n",
    "\n",
    "# Filter the data for Kargil War period (May to July 1999)\n",
    "kargil_war_indices = (np_months >= 5) & (np_months <= 7) & (np_year == 1999)\n",
    "kargil_war_casualties = wounded_killed[kargil_war_indices]\n",
    "kargil_war_cities = np_city[kargil_war_indices]\n",
    "kargil_war_groups = np_group[kargil_war_indices]\n",
    "\n",
    "max_casualty_index = np.argmax(kargil_war_casualties)\n",
    "\n",
    "print(\"Casualty:\", kargil_war_casualties[max_casualty_index],\n",
    "      \"City:\", kargil_war_cities[max_casualty_index],\n",
    "      \"Terrorist Group:\", kargil_war_groups[max_casualty_index])\n"
   ]
  },
  {
   "cell_type": "code",
   "execution_count": 47,
   "id": "b95a6d2c-3624-4945-a8b0-ca4b3a78a047",
   "metadata": {},
   "outputs": [
    {
     "name": "stdout",
     "output_type": "stream",
     "text": [
      "22 Kargil District Separatists\n"
     ]
    }
   ],
   "source": [
    "import numpy as np\n",
    "import csv\n",
    "\n",
    "with open('terrorismData.csv',encoding=\"utf8\") as file_obj :\n",
    "    data = csv.DictReader(file_obj,skipinitialspace=True)\n",
    "    \n",
    "    city = []\n",
    "    casualty = []\n",
    "    for row in data:\n",
    "        if row[\"State\"] == \"Jammu and Kashmir\" and row[\"Year\"] == \"1999\" :\n",
    "            if row[\"Month\"] ==\"5\" or row[\"Month\"] == \"6\" or row[\"Month\"] == \"7\" :\n",
    "                casualty.append([row[\"Killed\"],row[\"Wounded\"]])\n",
    "                city.append([row[\"City\"],row['Group']])\n",
    "                \n",
    "    np_city = np.array(city)\n",
    "    np_casualty = np.array(casualty)\n",
    "    \n",
    "    np_casualty[np_casualty==''] = \"0.0\"\n",
    "    np_casualty = np.array(np_casualty, dtype = float)\n",
    "    \n",
    "    np_casualty = np.sum(np_casualty, axis=1)\n",
    "    index = np.argmax(np_casualty)\n",
    "    print(int(np_casualty[index]),np_city[index][0],np_city[index][1])"
   ]
  },
  {
   "cell_type": "code",
   "execution_count": 60,
   "id": "1c361abd-4b6a-4106-a1af-74fc079a5ea4",
   "metadata": {},
   "outputs": [
    {
     "name": "stdout",
     "output_type": "stream",
     "text": [
      "[False False False ... False False False]\n",
      "4409.0\n"
     ]
    }
   ],
   "source": [
    "import numpy as np\n",
    "import csv\n",
    "\n",
    "killed = []\n",
    "wounded = []\n",
    "state = []\n",
    "\n",
    "with open('terrorismData.csv', 'r', encoding='utf-8') as file_obj:\n",
    "    data = csv.DictReader(file_obj, skipinitialspace=True)\n",
    "    for row in data:\n",
    "        killed.append(row['Killed'])\n",
    "        wounded.append(row['Wounded'])\n",
    "        state.append(row['State'])\n",
    "\n",
    "np_killed = np.array(killed)\n",
    "np_killed[np_killed == \"\"] = \"0.0\"\n",
    "np_killed = np.array(np_killed, dtype=float)\n",
    "\n",
    "np_wounded = np.array(wounded)\n",
    "np_wounded[np_wounded == \"\"] = \"0.0\"\n",
    "np_wounded = np.array(np_wounded, dtype=float)\n",
    "\n",
    "wounded_killed = np_wounded + np_killed\n",
    "\n",
    "np_state = np.array(state)\n",
    "\n",
    "# Use the bitwise or (|) operator instead of logical or (or) for NumPy arrays\n",
    "bool_state = (np_state == \"Jharkhand\") | (np_state == \"Odisha\") | (np_state == \"Andra Pradesh\") | (np_state == \"Chhattisgarh\")\n",
    "print(bool_state)\n",
    "\n",
    "casualties = wounded_killed[bool_state]\n",
    "print(np.sum(casualties))\n"
   ]
  },
  {
   "cell_type": "code",
   "execution_count": 56,
   "id": "e381ee61-79c6-4412-976d-c2bc0f23b61d",
   "metadata": {},
   "outputs": [
    {
     "name": "stdout",
     "output_type": "stream",
     "text": [
      "5628\n"
     ]
    }
   ],
   "source": [
    "import numpy as np\n",
    "import csv\n",
    "\n",
    "with open('terrorismData.csv',encoding=\"utf8\") as file_obj :\n",
    "    data = csv.DictReader(file_obj,skipinitialspace=True)\n",
    "    \n",
    "    casualty = []\n",
    "    for row in data:\n",
    "        if row['State']=='Chhattisgarh' or row['State']=='Odisha' or row['State']=='Jharkhand' or row['State']=='Andhra Pradesh':\n",
    "                casualty.append([row[\"Killed\"],row[\"Wounded\"]])\n",
    "\n",
    "    np_casualty = np.array(casualty)\n",
    "    \n",
    "    np_casualty[np_casualty==''] = \"0.0\"\n",
    "    np_casualty = np.array(np_casualty, dtype = float)\n",
    "    \n",
    "    np_casualty = np.sum(np_casualty, axis=1)\n",
    "    total_casualty = np.sum(np_casualty)\n",
    "    print(int(total_casualty))"
   ]
  },
  {
   "cell_type": "code",
   "execution_count": 62,
   "id": "a095d705-612b-4bd1-8cb0-5b24dafea576",
   "metadata": {},
   "outputs": [
    {
     "name": "stdout",
     "output_type": "stream",
     "text": [
      "5628\n"
     ]
    }
   ],
   "source": [
    "import numpy as np\n",
    "import csv\n",
    "\n",
    "def convert_to_float(value):\n",
    "    if value.strip() == \"\":\n",
    "        return 0.0\n",
    "    return float(value)\n",
    "\n",
    "with open('terrorismData.csv', encoding=\"utf8\") as file_obj:\n",
    "    data = csv.DictReader(file_obj, skipinitialspace=True)\n",
    "    killed = []\n",
    "    wounded = []\n",
    "    for row in data:\n",
    "        if row['State'] in ['Chhattisgarh', 'Odisha', 'Jharkhand', 'Andhra Pradesh']:\n",
    "            killed.append(convert_to_float(row[\"Killed\"]))\n",
    "            wounded.append(convert_to_float(row[\"Wounded\"]))\n",
    "\n",
    "    np_killed = np.array(killed)\n",
    "    np_wounded = np.array(wounded)\n",
    "\n",
    "    total_casualty = np.sum(np_killed + np_wounded)\n",
    "    print(int(total_casualty))\n"
   ]
  },
  {
   "cell_type": "code",
   "execution_count": 65,
   "id": "69d3cf93-b22d-478a-a8c9-d75a61568d9d",
   "metadata": {},
   "outputs": [
    {
     "name": "stdout",
     "output_type": "stream",
     "text": [
      "Top 5 Indian cities with the most casualties:\n",
      "Mumbai - Casualties: 1005\n",
      "Dispur - Casualties: 272\n",
      "Jhargam - Casualties: 255\n",
      "Chennai - Casualties: 232\n",
      "New Delhi - Casualties: 210\n",
      "Top 5 Indian cities with the most casualties:\n",
      "Mumbai - Casualties: 1005\n",
      "Dispur - Casualties: 272\n",
      "Jhargam - Casualties: 255\n",
      "Chennai - Casualties: 232\n",
      "New Delhi - Casualties: 210\n"
     ]
    }
   ],
   "source": [
    "# Terrorist city Casuality\n",
    "# Top 5 indian cities whuch has most number of caualities\n",
    "\n",
    "import numpy as np\n",
    "import csv\n",
    "\n",
    "def convert_to_float(value):\n",
    "    if value.strip() == \"\":\n",
    "        return 0.0\n",
    "    return float(value)\n",
    "\n",
    "with open('terrorismData.csv', encoding=\"utf8\") as file_obj:\n",
    "    data = csv.DictReader(file_obj, skipinitialspace=True)\n",
    "    killed = []\n",
    "    wounded = []\n",
    "    city = []\n",
    "    for row in data:\n",
    "        if 'India' in row['Country']:\n",
    "            killed.append(convert_to_float(row[\"Killed\"]))\n",
    "            wounded.append(convert_to_float(row[\"Wounded\"]))\n",
    "            city.append(row[\"City\"])\n",
    "\n",
    "    np_killed = np.array(killed)\n",
    "    np_wounded = np.array(wounded)\n",
    "    np_kill_woun = np_killed + np_wounded\n",
    "\n",
    "    np_city = np.array(city)\n",
    "\n",
    "# Sort the indices of the array in descending order of casualties\n",
    "sorted_indices = np.argsort(np_kill_woun)[::-1]\n",
    "\n",
    "print(\"Top 5 Indian cities with the most casualties:\")\n",
    "for i in range(5):\n",
    "    index = sorted_indices[i]\n",
    "    print(np_city[index], \"- Casualties:\", int(np_kill_woun[index]))\n"
   ]
  },
  {
   "cell_type": "code",
   "execution_count": 68,
   "id": "6379c2a3-fa22-4157-ae17-9a2facec8aaa",
   "metadata": {},
   "outputs": [
    {
     "name": "stdout",
     "output_type": "stream",
     "text": [
      "The most frequent day of attacks in the terrorism dataset is: 15\n",
      "Number of attacks on the most frequent day: 6500\n"
     ]
    }
   ],
   "source": [
    "# Terrorism Frequent Day\n",
    "# Find the most frequent data of attack in a terrorismDataset\n",
    "# Note: np.unique can ba used\n",
    "import numpy as np\n",
    "import csv\n",
    "\n",
    "with open('terrorismData.csv', encoding=\"utf8\") as file_obj:\n",
    "    data = csv.DictReader(file_obj, skipinitialspace=True)\n",
    "    attack_days = []\n",
    "    for row in data:\n",
    "        attack_days.append(row[\"Day\"])\n",
    "\n",
    "    np_attack_days = np.array(attack_days, dtype=int)\n",
    "\n",
    "# Get unique days and their corresponding counts\n",
    "unique_days, day_counts = np.unique(np_attack_days, return_counts=True)\n",
    "\n",
    "# Find the day with the highest count (most frequent day)\n",
    "most_frequent_day = unique_days[np.argmax(day_counts)]\n",
    "most_frequent_day_count = np.max(day_counts)\n",
    "\n",
    "print(\"The most frequent day of attacks in the terrorism dataset is:\", most_frequent_day)\n",
    "print(\"Number of attacks on the most frequent day:\", most_frequent_day_count)\n"
   ]
  },
  {
   "cell_type": "code",
   "execution_count": 71,
   "id": "8c722b3d-07b8-4f81-80d2-6063eaaca9a6",
   "metadata": {},
   "outputs": [
    {
     "name": "stdout",
     "output_type": "stream",
     "text": [
      "[ 0  1  2  3  4  5  6  7  8  9 10 11 12 13 14 15 16 17 18 19 20 21 22 23\n",
      " 24 25 26 27 28 29 30 31]\n",
      "15 6500\n"
     ]
    }
   ],
   "source": [
    "import numpy as np\n",
    "import csv\n",
    "\n",
    "with open('terrorismData.csv',encoding=\"utf8\") as file_obj :\n",
    "    data = csv.DictReader(file_obj,skipinitialspace=True)\n",
    "    day = []\n",
    "    for row in data:\n",
    "        day.append(row['Day'])\n",
    "        \n",
    "    np_day = np.array(day, dtype='int')\n",
    "    day, count = np.unique(np_day, return_counts=True)\n",
    "    print(day)\n",
    "    print(count)\n",
    "    index = np.argmax(count)\n",
    "    print(day[index], count[index])"
   ]
  },
  {
   "cell_type": "markdown",
   "id": "9b851c62-914a-4158-9a54-73bad9a10200",
   "metadata": {},
   "source": [
    "Pandas is an open-source Python library widely used for data manipulation and analysis. It provides easy-to-use data structures and functions for working with structured data, such as spreadsheets, SQL tables, and time series data. Pandas is an essential tool in the data science and data analysis ecosystem in Python.\r\n",
    "\r\n",
    "Key components of Pandas:\r\n",
    "\r\n",
    "1. DataFrame: The DataFrame is the primary data structure in Pandas. It represents a two-dimensional tabular data structure with labeled axes (rows and columns). It is similar to a spreadsheet or a SQL table. Each column in a DataFrame can have a different data type. DataFrames allow efficient data manipulation and operations like filtering, grouping, merging, and more.\r\n",
    "\r\n",
    "2. Series: A Series is a one-dimensional labeled array in Pandas. It can be thought of as a single column of a DataFrame. A Series can hold data of any data type, including integers, strings, floating-point numbers, and others.\r\n",
    "\r\n",
    "Basic operations in Pandas:\r\n",
    "\r\n",
    "Here are some common operations you can perform using Pandas:\r\n",
    "\r\n",
    "1. Reading and Writing Data: Pandas can read data from various file formats like CSV, Excel, SQL databases, and more. Similarly, it can write data to these formats as well.\r\n",
    "\r\n",
    "2. Data Selection and Filtering: You can select specific rows or columns from a DataFrame based on conditions using boolean indexing and filtering methods.\r\n",
    "\r\n",
    "3. Data Manipulation: Pandas provides numerous functions to manipulate data, such as adding or removing columns, renaming columns, and sorting data.\r\n",
    "\r\n",
    "4. Data Aggregation: You can perform aggregation operations like sum, mean, max, min, count, etc., on grouped data using groupby operations.\r\n",
    "\r\n",
    "5. Data Cleaning: Pandas helps you handle missing data and deal with duplicates.\r\n",
    "\r\n",
    "6. Joining and Merging: You can combine data from multiple DataFrames using various types of joins.\r\n",
    "\r\n",
    "Installation:\r\n",
    "\r\n",
    "To use Pandas, you need to have it installed. You can install Pandas using pip:\r\n",
    "\r\n",
    "```bash\r\n",
    "pip install pandas\r\n",
    "```\r\n",
    "\r\n",
    "Usage:\r\n",
    "\r\n",
    "Once installed, you can import Pandas and start using it in your Python script:\r\n",
    "\r\n",
    "```python\r\n",
    "import pandas as pd\r\n",
    "\r\n",
    "# Create a DataFrame from a dictionary\r\n",
    "data = {'Name': ['Alice', 'Bob', 'Charlie'],\r\n",
    "        'Age': [25, 30, 35],\r\n",
    "        'City': ['New York', 'San Francisco', 'Los Angeles']}\r\n",
    "df = pd.DataFrame(data)\r\n",
    "\r\n",
    "# Perform data operations\r\n",
    "print(df.head())  # Display the first 5 rows of the DataFrame\r\n",
    "print(df['Name'])  # Select the 'Name' column\r\n",
    "print(df[df['Age'] > 30])  # Filter rows where 'Age' > 30\r\n",
    "print(df.groupby('City').count())  # Group data by 'City' and count occurrences\r\n",
    "\r\n",
    "# Read data from a CSV file\r\n",
    "csv_data = pd.read_csv('data.csv')\r\n",
    "\r\n",
    "# Write data to a CSV file\r\n",
    "df.to_csv('output.csv', index=False)\r\n",
    "```\r\n",
    "\r\n",
    "Pandas offers a lot more functionalities and flexibility to work with data in Python, making it a powerful tool for data analysis and manipulation."
   ]
  },
  {
   "cell_type": "code",
   "execution_count": 77,
   "id": "e163dcaf-77e6-47fd-9ebe-b679bfb879d6",
   "metadata": {},
   "outputs": [],
   "source": [
    "# pandas\n",
    "# Pandas is a python package providing fast,flexible and expressive data structues\n",
    "# designed to make working with relational or labelled data both easy and intuitive\n",
    "# It aims to be the fundamental highlevel building block for doing practical,\n",
    "# real world analysis in python\n",
    "import pandas as pd"
   ]
  },
  {
   "cell_type": "code",
   "execution_count": 81,
   "id": "27e78c10-2a95-4425-858e-fd79df45ddb3",
   "metadata": {},
   "outputs": [
    {
     "name": "stdout",
     "output_type": "stream",
     "text": [
      "<class 'pandas.core.frame.DataFrame'>\n"
     ]
    }
   ],
   "source": [
    "# load data\n",
    "data=pd.read_csv(\"https://archive.ics.uci.edu/ml/machine-learning-databases/iris/iris.data\") #link also works\n",
    "# by default 1st row is header\n",
    "print(type(data)) # 2 dimensional table is called data frame"
   ]
  },
  {
   "cell_type": "code",
   "execution_count": 82,
   "id": "dc5d6e02-d151-486f-9d99-2b7e345e334f",
   "metadata": {},
   "outputs": [
    {
     "data": {
      "text/html": [
       "<div>\n",
       "<style scoped>\n",
       "    .dataframe tbody tr th:only-of-type {\n",
       "        vertical-align: middle;\n",
       "    }\n",
       "\n",
       "    .dataframe tbody tr th {\n",
       "        vertical-align: top;\n",
       "    }\n",
       "\n",
       "    .dataframe thead th {\n",
       "        text-align: right;\n",
       "    }\n",
       "</style>\n",
       "<table border=\"1\" class=\"dataframe\">\n",
       "  <thead>\n",
       "    <tr style=\"text-align: right;\">\n",
       "      <th></th>\n",
       "      <th>5.1</th>\n",
       "      <th>3.5</th>\n",
       "      <th>1.4</th>\n",
       "      <th>0.2</th>\n",
       "      <th>Iris-setosa</th>\n",
       "    </tr>\n",
       "  </thead>\n",
       "  <tbody>\n",
       "    <tr>\n",
       "      <th>0</th>\n",
       "      <td>4.9</td>\n",
       "      <td>3.0</td>\n",
       "      <td>1.4</td>\n",
       "      <td>0.2</td>\n",
       "      <td>Iris-setosa</td>\n",
       "    </tr>\n",
       "    <tr>\n",
       "      <th>1</th>\n",
       "      <td>4.7</td>\n",
       "      <td>3.2</td>\n",
       "      <td>1.3</td>\n",
       "      <td>0.2</td>\n",
       "      <td>Iris-setosa</td>\n",
       "    </tr>\n",
       "    <tr>\n",
       "      <th>2</th>\n",
       "      <td>4.6</td>\n",
       "      <td>3.1</td>\n",
       "      <td>1.5</td>\n",
       "      <td>0.2</td>\n",
       "      <td>Iris-setosa</td>\n",
       "    </tr>\n",
       "  </tbody>\n",
       "</table>\n",
       "</div>"
      ],
      "text/plain": [
       "   5.1  3.5  1.4  0.2  Iris-setosa\n",
       "0  4.9  3.0  1.4  0.2  Iris-setosa\n",
       "1  4.7  3.2  1.3  0.2  Iris-setosa\n",
       "2  4.6  3.1  1.5  0.2  Iris-setosa"
      ]
     },
     "execution_count": 82,
     "metadata": {},
     "output_type": "execute_result"
    }
   ],
   "source": [
    "# Accessing data in pandas\n",
    "df = data #reference\n",
    "df= data.copy()\n",
    "\n",
    "# df.head() #default 5 records shown\n",
    "df.head(3) \n",
    "# sw,sl,pw,pl"
   ]
  },
  {
   "cell_type": "code",
   "execution_count": 84,
   "id": "d96843a5-70f3-4d96-bb11-147c22e8d7e0",
   "metadata": {},
   "outputs": [
    {
     "name": "stdout",
     "output_type": "stream",
     "text": [
      "(149, 5)\n",
      "5.1            float64\n",
      "3.5            float64\n",
      "1.4            float64\n",
      "0.2            float64\n",
      "Iris-setosa     object\n",
      "dtype: object\n"
     ]
    }
   ],
   "source": [
    "print(df.shape)  \n",
    "print(df.dtypes)  "
   ]
  },
  {
   "cell_type": "code",
   "execution_count": 85,
   "id": "d1563976-1f9e-4f62-8e89-7f1a43118454",
   "metadata": {},
   "outputs": [
    {
     "data": {
      "text/plain": [
       "Index(['5.1', '3.5', '1.4', '0.2', 'Iris-setosa'], dtype='object')"
      ]
     },
     "execution_count": 85,
     "metadata": {},
     "output_type": "execute_result"
    }
   ],
   "source": [
    "df.columns"
   ]
  },
  {
   "cell_type": "code",
   "execution_count": 86,
   "id": "d29b865c-571a-4097-978a-54e376d22602",
   "metadata": {},
   "outputs": [],
   "source": [
    "df.columns=['sl','sw','pl','pw','flower_type']"
   ]
  },
  {
   "cell_type": "code",
   "execution_count": 87,
   "id": "546461d7-2e87-47ea-82e6-bbebee9968e2",
   "metadata": {},
   "outputs": [
    {
     "data": {
      "text/plain": [
       "Index(['sl', 'sw', 'pl', 'pw', 'flower_type'], dtype='object')"
      ]
     },
     "execution_count": 87,
     "metadata": {},
     "output_type": "execute_result"
    }
   ],
   "source": [
    "df.columns"
   ]
  },
  {
   "cell_type": "code",
   "execution_count": 88,
   "id": "d579c16f-6d87-4bad-9ca0-f616d7c7928b",
   "metadata": {},
   "outputs": [
    {
     "name": "stdout",
     "output_type": "stream",
     "text": [
      "(149, 5)\n",
      "sl             float64\n",
      "sw             float64\n",
      "pl             float64\n",
      "pw             float64\n",
      "flower_type     object\n",
      "dtype: object\n"
     ]
    }
   ],
   "source": [
    "print(df.shape)  \n",
    "print(df.dtypes)  "
   ]
  },
  {
   "cell_type": "code",
   "execution_count": 90,
   "id": "f554e692-17aa-4abd-b111-062e33c6a780",
   "metadata": {},
   "outputs": [
    {
     "data": {
      "text/html": [
       "<div>\n",
       "<style scoped>\n",
       "    .dataframe tbody tr th:only-of-type {\n",
       "        vertical-align: middle;\n",
       "    }\n",
       "\n",
       "    .dataframe tbody tr th {\n",
       "        vertical-align: top;\n",
       "    }\n",
       "\n",
       "    .dataframe thead th {\n",
       "        text-align: right;\n",
       "    }\n",
       "</style>\n",
       "<table border=\"1\" class=\"dataframe\">\n",
       "  <thead>\n",
       "    <tr style=\"text-align: right;\">\n",
       "      <th></th>\n",
       "      <th>sl</th>\n",
       "      <th>sw</th>\n",
       "      <th>pl</th>\n",
       "      <th>pw</th>\n",
       "    </tr>\n",
       "  </thead>\n",
       "  <tbody>\n",
       "    <tr>\n",
       "      <th>count</th>\n",
       "      <td>149.000000</td>\n",
       "      <td>149.000000</td>\n",
       "      <td>149.000000</td>\n",
       "      <td>149.000000</td>\n",
       "    </tr>\n",
       "    <tr>\n",
       "      <th>mean</th>\n",
       "      <td>5.848322</td>\n",
       "      <td>3.051007</td>\n",
       "      <td>3.774497</td>\n",
       "      <td>1.205369</td>\n",
       "    </tr>\n",
       "    <tr>\n",
       "      <th>std</th>\n",
       "      <td>0.828594</td>\n",
       "      <td>0.433499</td>\n",
       "      <td>1.759651</td>\n",
       "      <td>0.761292</td>\n",
       "    </tr>\n",
       "    <tr>\n",
       "      <th>min</th>\n",
       "      <td>4.300000</td>\n",
       "      <td>2.000000</td>\n",
       "      <td>1.000000</td>\n",
       "      <td>0.100000</td>\n",
       "    </tr>\n",
       "    <tr>\n",
       "      <th>25%</th>\n",
       "      <td>5.100000</td>\n",
       "      <td>2.800000</td>\n",
       "      <td>1.600000</td>\n",
       "      <td>0.300000</td>\n",
       "    </tr>\n",
       "    <tr>\n",
       "      <th>50%</th>\n",
       "      <td>5.800000</td>\n",
       "      <td>3.000000</td>\n",
       "      <td>4.400000</td>\n",
       "      <td>1.300000</td>\n",
       "    </tr>\n",
       "    <tr>\n",
       "      <th>75%</th>\n",
       "      <td>6.400000</td>\n",
       "      <td>3.300000</td>\n",
       "      <td>5.100000</td>\n",
       "      <td>1.800000</td>\n",
       "    </tr>\n",
       "    <tr>\n",
       "      <th>max</th>\n",
       "      <td>7.900000</td>\n",
       "      <td>4.400000</td>\n",
       "      <td>6.900000</td>\n",
       "      <td>2.500000</td>\n",
       "    </tr>\n",
       "  </tbody>\n",
       "</table>\n",
       "</div>"
      ],
      "text/plain": [
       "               sl          sw          pl          pw\n",
       "count  149.000000  149.000000  149.000000  149.000000\n",
       "mean     5.848322    3.051007    3.774497    1.205369\n",
       "std      0.828594    0.433499    1.759651    0.761292\n",
       "min      4.300000    2.000000    1.000000    0.100000\n",
       "25%      5.100000    2.800000    1.600000    0.300000\n",
       "50%      5.800000    3.000000    4.400000    1.300000\n",
       "75%      6.400000    3.300000    5.100000    1.800000\n",
       "max      7.900000    4.400000    6.900000    2.500000"
      ]
     },
     "execution_count": 90,
     "metadata": {},
     "output_type": "execute_result"
    }
   ],
   "source": [
    "df.describe()"
   ]
  },
  {
   "cell_type": "code",
   "execution_count": 91,
   "id": "637183ab-1f71-42de-a758-cdb9670900af",
   "metadata": {},
   "outputs": [],
   "source": [
    "# some types some columns might have NAN then count redices\n",
    "# count no of valid entries non null\n",
    "# std standard deviation\n",
    "# min val max val\n",
    "# 25 percentile : 25 th\n",
    "\n",
    "# spread over min to maximum"
   ]
  },
  {
   "cell_type": "code",
   "execution_count": 92,
   "id": "96b6fbb3-24a9-4f54-979d-b8b12c0c69c6",
   "metadata": {},
   "outputs": [
    {
     "data": {
      "text/plain": [
       "0      4.9\n",
       "1      4.7\n",
       "2      4.6\n",
       "3      5.0\n",
       "4      5.4\n",
       "      ... \n",
       "144    6.7\n",
       "145    6.3\n",
       "146    6.5\n",
       "147    6.2\n",
       "148    5.9\n",
       "Name: sl, Length: 149, dtype: float64"
      ]
     },
     "execution_count": 92,
     "metadata": {},
     "output_type": "execute_result"
    }
   ],
   "source": [
    "# df.column_name\n",
    "df.sl\n"
   ]
  },
  {
   "cell_type": "code",
   "execution_count": 93,
   "id": "97ba4762-2c30-4cb9-9b2f-6b9d9a83080a",
   "metadata": {},
   "outputs": [
    {
     "data": {
      "text/plain": [
       "0      4.9\n",
       "1      4.7\n",
       "2      4.6\n",
       "3      5.0\n",
       "4      5.4\n",
       "      ... \n",
       "144    6.7\n",
       "145    6.3\n",
       "146    6.5\n",
       "147    6.2\n",
       "148    5.9\n",
       "Name: sl, Length: 149, dtype: float64"
      ]
     },
     "execution_count": 93,
     "metadata": {},
     "output_type": "execute_result"
    }
   ],
   "source": [
    "df[\"sl\"]"
   ]
  },
  {
   "cell_type": "code",
   "execution_count": 102,
   "id": "468d0bb1-2e7c-454c-9ef1-403ed1b712f0",
   "metadata": {},
   "outputs": [
    {
     "data": {
      "text/plain": [
       "sl             0\n",
       "sw             0\n",
       "pl             0\n",
       "pw             0\n",
       "flower_type    0\n",
       "dtype: int64"
      ]
     },
     "execution_count": 102,
     "metadata": {},
     "output_type": "execute_result"
    }
   ],
   "source": [
    "df.isnull().sum() #sum of null entries in columns"
   ]
  },
  {
   "cell_type": "code",
   "execution_count": 104,
   "id": "390bdff3-2157-46f1-bf76-0d3c3e60d48e",
   "metadata": {},
   "outputs": [
    {
     "data": {
      "text/plain": [
       "(149, 5)"
      ]
     },
     "execution_count": 104,
     "metadata": {},
     "output_type": "execute_result"
    }
   ],
   "source": [
    "df.shape"
   ]
  },
  {
   "cell_type": "code",
   "execution_count": 105,
   "id": "f1200490-f556-408f-a8ab-925d2118203e",
   "metadata": {},
   "outputs": [
    {
     "data": {
      "text/html": [
       "<div>\n",
       "<style scoped>\n",
       "    .dataframe tbody tr th:only-of-type {\n",
       "        vertical-align: middle;\n",
       "    }\n",
       "\n",
       "    .dataframe tbody tr th {\n",
       "        vertical-align: top;\n",
       "    }\n",
       "\n",
       "    .dataframe thead th {\n",
       "        text-align: right;\n",
       "    }\n",
       "</style>\n",
       "<table border=\"1\" class=\"dataframe\">\n",
       "  <thead>\n",
       "    <tr style=\"text-align: right;\">\n",
       "      <th></th>\n",
       "      <th>sl</th>\n",
       "      <th>sw</th>\n",
       "      <th>pl</th>\n",
       "      <th>pw</th>\n",
       "      <th>flower_type</th>\n",
       "    </tr>\n",
       "  </thead>\n",
       "  <tbody>\n",
       "    <tr>\n",
       "      <th>0</th>\n",
       "      <td>4.9</td>\n",
       "      <td>3.0</td>\n",
       "      <td>1.4</td>\n",
       "      <td>0.2</td>\n",
       "      <td>Iris-setosa</td>\n",
       "    </tr>\n",
       "    <tr>\n",
       "      <th>1</th>\n",
       "      <td>4.7</td>\n",
       "      <td>3.2</td>\n",
       "      <td>1.3</td>\n",
       "      <td>0.2</td>\n",
       "      <td>Iris-setosa</td>\n",
       "    </tr>\n",
       "    <tr>\n",
       "      <th>2</th>\n",
       "      <td>4.6</td>\n",
       "      <td>3.1</td>\n",
       "      <td>1.5</td>\n",
       "      <td>0.2</td>\n",
       "      <td>Iris-setosa</td>\n",
       "    </tr>\n",
       "    <tr>\n",
       "      <th>3</th>\n",
       "      <td>5.0</td>\n",
       "      <td>3.6</td>\n",
       "      <td>1.4</td>\n",
       "      <td>0.2</td>\n",
       "      <td>Iris-setosa</td>\n",
       "    </tr>\n",
       "    <tr>\n",
       "      <th>4</th>\n",
       "      <td>5.4</td>\n",
       "      <td>3.9</td>\n",
       "      <td>1.7</td>\n",
       "      <td>0.4</td>\n",
       "      <td>Iris-setosa</td>\n",
       "    </tr>\n",
       "  </tbody>\n",
       "</table>\n",
       "</div>"
      ],
      "text/plain": [
       "    sl   sw   pl   pw  flower_type\n",
       "0  4.9  3.0  1.4  0.2  Iris-setosa\n",
       "1  4.7  3.2  1.3  0.2  Iris-setosa\n",
       "2  4.6  3.1  1.5  0.2  Iris-setosa\n",
       "3  5.0  3.6  1.4  0.2  Iris-setosa\n",
       "4  5.4  3.9  1.7  0.4  Iris-setosa"
      ]
     },
     "execution_count": 105,
     "metadata": {},
     "output_type": "execute_result"
    }
   ],
   "source": [
    "# some part of data \n",
    "df.iloc[:5,0:5]"
   ]
  },
  {
   "cell_type": "code",
   "execution_count": 101,
   "id": "a8467363-40ab-41f8-891d-d0db9384945c",
   "metadata": {},
   "outputs": [
    {
     "data": {
      "text/plain": [
       "0         Iris-setosa\n",
       "1         Iris-setosa\n",
       "2         Iris-setosa\n",
       "3         Iris-setosa\n",
       "4         Iris-setosa\n",
       "            ...      \n",
       "144    Iris-virginica\n",
       "145    Iris-virginica\n",
       "146    Iris-virginica\n",
       "147    Iris-virginica\n",
       "148    Iris-virginica\n",
       "Name: flower_type, Length: 149, dtype: object"
      ]
     },
     "execution_count": 101,
     "metadata": {},
     "output_type": "execute_result"
    }
   ],
   "source": [
    "df.flower_type\n"
   ]
  },
  {
   "cell_type": "code",
   "execution_count": 106,
   "id": "69ecb10e-6720-47d6-88a1-9d23559f5355",
   "metadata": {},
   "outputs": [],
   "source": [
    "# scikit focus on modelling data\n",
    "\n",
    "# scikit not focussed on loading, manipulating and summarising data\n",
    "\n",
    "# numpy and pandas are used for loading, manipulating and summarising data features"
   ]
  },
  {
   "cell_type": "code",
   "execution_count": 107,
   "id": "255977a8-448c-4ea8-8315-29485ebcb9aa",
   "metadata": {},
   "outputs": [
    {
     "data": {
      "text/html": [
       "<div>\n",
       "<style scoped>\n",
       "    .dataframe tbody tr th:only-of-type {\n",
       "        vertical-align: middle;\n",
       "    }\n",
       "\n",
       "    .dataframe tbody tr th {\n",
       "        vertical-align: top;\n",
       "    }\n",
       "\n",
       "    .dataframe thead th {\n",
       "        text-align: right;\n",
       "    }\n",
       "</style>\n",
       "<table border=\"1\" class=\"dataframe\">\n",
       "  <thead>\n",
       "    <tr style=\"text-align: right;\">\n",
       "      <th></th>\n",
       "      <th>sl</th>\n",
       "      <th>sw</th>\n",
       "      <th>pl</th>\n",
       "      <th>pw</th>\n",
       "      <th>flower_type</th>\n",
       "    </tr>\n",
       "  </thead>\n",
       "  <tbody>\n",
       "    <tr>\n",
       "      <th>144</th>\n",
       "      <td>6.7</td>\n",
       "      <td>3.0</td>\n",
       "      <td>5.2</td>\n",
       "      <td>2.3</td>\n",
       "      <td>Iris-virginica</td>\n",
       "    </tr>\n",
       "    <tr>\n",
       "      <th>145</th>\n",
       "      <td>6.3</td>\n",
       "      <td>2.5</td>\n",
       "      <td>5.0</td>\n",
       "      <td>1.9</td>\n",
       "      <td>Iris-virginica</td>\n",
       "    </tr>\n",
       "    <tr>\n",
       "      <th>146</th>\n",
       "      <td>6.5</td>\n",
       "      <td>3.0</td>\n",
       "      <td>5.2</td>\n",
       "      <td>2.0</td>\n",
       "      <td>Iris-virginica</td>\n",
       "    </tr>\n",
       "    <tr>\n",
       "      <th>147</th>\n",
       "      <td>6.2</td>\n",
       "      <td>3.4</td>\n",
       "      <td>5.4</td>\n",
       "      <td>2.3</td>\n",
       "      <td>Iris-virginica</td>\n",
       "    </tr>\n",
       "    <tr>\n",
       "      <th>148</th>\n",
       "      <td>5.9</td>\n",
       "      <td>3.0</td>\n",
       "      <td>5.1</td>\n",
       "      <td>1.8</td>\n",
       "      <td>Iris-virginica</td>\n",
       "    </tr>\n",
       "  </tbody>\n",
       "</table>\n",
       "</div>"
      ],
      "text/plain": [
       "      sl   sw   pl   pw     flower_type\n",
       "144  6.7  3.0  5.2  2.3  Iris-virginica\n",
       "145  6.3  2.5  5.0  1.9  Iris-virginica\n",
       "146  6.5  3.0  5.2  2.0  Iris-virginica\n",
       "147  6.2  3.4  5.4  2.3  Iris-virginica\n",
       "148  5.9  3.0  5.1  1.8  Iris-virginica"
      ]
     },
     "execution_count": 107,
     "metadata": {},
     "output_type": "execute_result"
    }
   ],
   "source": [
    "df.tail()"
   ]
  },
  {
   "cell_type": "code",
   "execution_count": 108,
   "id": "9e4aaaf0-df5d-4e1c-865b-0166288c386a",
   "metadata": {},
   "outputs": [],
   "source": [
    "# Adding removing"
   ]
  },
  {
   "cell_type": "code",
   "execution_count": 109,
   "id": "6c0df2b2-bacb-4bdc-9920-17b0f202d665",
   "metadata": {},
   "outputs": [],
   "source": [
    "# remove\n",
    "# drop returns a copy by dropping 0throw,if it want to happen in df itself inplace=True\n",
    "df.drop(0,inplace=True)"
   ]
  },
  {
   "cell_type": "code",
   "execution_count": 111,
   "id": "fb94c960-1616-4a10-b4a1-63ee4b4a73c3",
   "metadata": {},
   "outputs": [
    {
     "data": {
      "text/html": [
       "<div>\n",
       "<style scoped>\n",
       "    .dataframe tbody tr th:only-of-type {\n",
       "        vertical-align: middle;\n",
       "    }\n",
       "\n",
       "    .dataframe tbody tr th {\n",
       "        vertical-align: top;\n",
       "    }\n",
       "\n",
       "    .dataframe thead th {\n",
       "        text-align: right;\n",
       "    }\n",
       "</style>\n",
       "<table border=\"1\" class=\"dataframe\">\n",
       "  <thead>\n",
       "    <tr style=\"text-align: right;\">\n",
       "      <th></th>\n",
       "      <th>sl</th>\n",
       "      <th>sw</th>\n",
       "      <th>pl</th>\n",
       "      <th>pw</th>\n",
       "      <th>flower_type</th>\n",
       "    </tr>\n",
       "  </thead>\n",
       "  <tbody>\n",
       "    <tr>\n",
       "      <th>1</th>\n",
       "      <td>4.7</td>\n",
       "      <td>3.2</td>\n",
       "      <td>1.3</td>\n",
       "      <td>0.2</td>\n",
       "      <td>Iris-setosa</td>\n",
       "    </tr>\n",
       "    <tr>\n",
       "      <th>2</th>\n",
       "      <td>4.6</td>\n",
       "      <td>3.1</td>\n",
       "      <td>1.5</td>\n",
       "      <td>0.2</td>\n",
       "      <td>Iris-setosa</td>\n",
       "    </tr>\n",
       "    <tr>\n",
       "      <th>3</th>\n",
       "      <td>5.0</td>\n",
       "      <td>3.6</td>\n",
       "      <td>1.4</td>\n",
       "      <td>0.2</td>\n",
       "      <td>Iris-setosa</td>\n",
       "    </tr>\n",
       "    <tr>\n",
       "      <th>4</th>\n",
       "      <td>5.4</td>\n",
       "      <td>3.9</td>\n",
       "      <td>1.7</td>\n",
       "      <td>0.4</td>\n",
       "      <td>Iris-setosa</td>\n",
       "    </tr>\n",
       "    <tr>\n",
       "      <th>5</th>\n",
       "      <td>4.6</td>\n",
       "      <td>3.4</td>\n",
       "      <td>1.4</td>\n",
       "      <td>0.3</td>\n",
       "      <td>Iris-setosa</td>\n",
       "    </tr>\n",
       "  </tbody>\n",
       "</table>\n",
       "</div>"
      ],
      "text/plain": [
       "    sl   sw   pl   pw  flower_type\n",
       "1  4.7  3.2  1.3  0.2  Iris-setosa\n",
       "2  4.6  3.1  1.5  0.2  Iris-setosa\n",
       "3  5.0  3.6  1.4  0.2  Iris-setosa\n",
       "4  5.4  3.9  1.7  0.4  Iris-setosa\n",
       "5  4.6  3.4  1.4  0.3  Iris-setosa"
      ]
     },
     "execution_count": 111,
     "metadata": {},
     "output_type": "execute_result"
    }
   ],
   "source": [
    "df.head()"
   ]
  },
  {
   "cell_type": "code",
   "execution_count": 113,
   "id": "8a8a3603-2ae1-4fb8-ad1a-d2c05d31add9",
   "metadata": {},
   "outputs": [
    {
     "data": {
      "text/html": [
       "<div>\n",
       "<style scoped>\n",
       "    .dataframe tbody tr th:only-of-type {\n",
       "        vertical-align: middle;\n",
       "    }\n",
       "\n",
       "    .dataframe tbody tr th {\n",
       "        vertical-align: top;\n",
       "    }\n",
       "\n",
       "    .dataframe thead th {\n",
       "        text-align: right;\n",
       "    }\n",
       "</style>\n",
       "<table border=\"1\" class=\"dataframe\">\n",
       "  <thead>\n",
       "    <tr style=\"text-align: right;\">\n",
       "      <th></th>\n",
       "      <th>sl</th>\n",
       "      <th>sw</th>\n",
       "      <th>pl</th>\n",
       "      <th>pw</th>\n",
       "      <th>flower_type</th>\n",
       "    </tr>\n",
       "  </thead>\n",
       "  <tbody>\n",
       "    <tr>\n",
       "      <th>1</th>\n",
       "      <td>4.7</td>\n",
       "      <td>3.2</td>\n",
       "      <td>1.3</td>\n",
       "      <td>0.2</td>\n",
       "      <td>Iris-setosa</td>\n",
       "    </tr>\n",
       "    <tr>\n",
       "      <th>2</th>\n",
       "      <td>4.6</td>\n",
       "      <td>3.1</td>\n",
       "      <td>1.5</td>\n",
       "      <td>0.2</td>\n",
       "      <td>Iris-setosa</td>\n",
       "    </tr>\n",
       "    <tr>\n",
       "      <th>4</th>\n",
       "      <td>5.4</td>\n",
       "      <td>3.9</td>\n",
       "      <td>1.7</td>\n",
       "      <td>0.4</td>\n",
       "      <td>Iris-setosa</td>\n",
       "    </tr>\n",
       "    <tr>\n",
       "      <th>5</th>\n",
       "      <td>4.6</td>\n",
       "      <td>3.4</td>\n",
       "      <td>1.4</td>\n",
       "      <td>0.3</td>\n",
       "      <td>Iris-setosa</td>\n",
       "    </tr>\n",
       "    <tr>\n",
       "      <th>6</th>\n",
       "      <td>5.0</td>\n",
       "      <td>3.4</td>\n",
       "      <td>1.5</td>\n",
       "      <td>0.2</td>\n",
       "      <td>Iris-setosa</td>\n",
       "    </tr>\n",
       "  </tbody>\n",
       "</table>\n",
       "</div>"
      ],
      "text/plain": [
       "    sl   sw   pl   pw  flower_type\n",
       "1  4.7  3.2  1.3  0.2  Iris-setosa\n",
       "2  4.6  3.1  1.5  0.2  Iris-setosa\n",
       "4  5.4  3.9  1.7  0.4  Iris-setosa\n",
       "5  4.6  3.4  1.4  0.3  Iris-setosa\n",
       "6  5.0  3.4  1.5  0.2  Iris-setosa"
      ]
     },
     "execution_count": 113,
     "metadata": {},
     "output_type": "execute_result"
    }
   ],
   "source": [
    "# drop by label\n",
    "df.drop(3,inplace=True)\n",
    "df.head()\n",
    "# df takes label\n",
    "# label vs positions"
   ]
  },
  {
   "cell_type": "code",
   "execution_count": 115,
   "id": "0dd0e419-07f6-41ba-a00d-4a78c0d64dc3",
   "metadata": {},
   "outputs": [
    {
     "data": {
      "text/plain": [
       "Index([  1,   2,   4,   5,   6,   7,   8,   9,  10,  11,\n",
       "       ...\n",
       "       139, 140, 141, 142, 143, 144, 145, 146, 147, 148],\n",
       "      dtype='int64', length=147)"
      ]
     },
     "execution_count": 115,
     "metadata": {},
     "output_type": "execute_result"
    }
   ],
   "source": [
    "df.index"
   ]
  },
  {
   "cell_type": "code",
   "execution_count": 117,
   "id": "81375c76-a1b1-45ed-be91-0003c3aa1157",
   "metadata": {},
   "outputs": [
    {
     "data": {
      "text/plain": [
       "(1, 2)"
      ]
     },
     "execution_count": 117,
     "metadata": {},
     "output_type": "execute_result"
    }
   ],
   "source": [
    "df.index[0], df.index[1]"
   ]
  },
  {
   "cell_type": "code",
   "execution_count": 119,
   "id": "3698d849-09e0-4876-a2f5-de289027e3e0",
   "metadata": {},
   "outputs": [],
   "source": [
    "df.drop(df.index[0],inplace=True) #not returns"
   ]
  },
  {
   "cell_type": "code",
   "execution_count": 120,
   "id": "857bd5ae-50de-47c1-8f2e-998dd2e6ea84",
   "metadata": {},
   "outputs": [],
   "source": [
    "df.drop(df.index[[0,1]],inplace=True)"
   ]
  },
  {
   "cell_type": "code",
   "execution_count": 121,
   "id": "72e6b24d-e791-447d-aa83-384ee912c74e",
   "metadata": {},
   "outputs": [
    {
     "data": {
      "text/html": [
       "<div>\n",
       "<style scoped>\n",
       "    .dataframe tbody tr th:only-of-type {\n",
       "        vertical-align: middle;\n",
       "    }\n",
       "\n",
       "    .dataframe tbody tr th {\n",
       "        vertical-align: top;\n",
       "    }\n",
       "\n",
       "    .dataframe thead th {\n",
       "        text-align: right;\n",
       "    }\n",
       "</style>\n",
       "<table border=\"1\" class=\"dataframe\">\n",
       "  <thead>\n",
       "    <tr style=\"text-align: right;\">\n",
       "      <th></th>\n",
       "      <th>sl</th>\n",
       "      <th>sw</th>\n",
       "      <th>pl</th>\n",
       "      <th>pw</th>\n",
       "      <th>flower_type</th>\n",
       "    </tr>\n",
       "  </thead>\n",
       "  <tbody>\n",
       "    <tr>\n",
       "      <th>5</th>\n",
       "      <td>4.6</td>\n",
       "      <td>3.4</td>\n",
       "      <td>1.4</td>\n",
       "      <td>0.3</td>\n",
       "      <td>Iris-setosa</td>\n",
       "    </tr>\n",
       "    <tr>\n",
       "      <th>6</th>\n",
       "      <td>5.0</td>\n",
       "      <td>3.4</td>\n",
       "      <td>1.5</td>\n",
       "      <td>0.2</td>\n",
       "      <td>Iris-setosa</td>\n",
       "    </tr>\n",
       "    <tr>\n",
       "      <th>7</th>\n",
       "      <td>4.4</td>\n",
       "      <td>2.9</td>\n",
       "      <td>1.4</td>\n",
       "      <td>0.2</td>\n",
       "      <td>Iris-setosa</td>\n",
       "    </tr>\n",
       "    <tr>\n",
       "      <th>8</th>\n",
       "      <td>4.9</td>\n",
       "      <td>3.1</td>\n",
       "      <td>1.5</td>\n",
       "      <td>0.1</td>\n",
       "      <td>Iris-setosa</td>\n",
       "    </tr>\n",
       "    <tr>\n",
       "      <th>9</th>\n",
       "      <td>5.4</td>\n",
       "      <td>3.7</td>\n",
       "      <td>1.5</td>\n",
       "      <td>0.2</td>\n",
       "      <td>Iris-setosa</td>\n",
       "    </tr>\n",
       "    <tr>\n",
       "      <th>...</th>\n",
       "      <td>...</td>\n",
       "      <td>...</td>\n",
       "      <td>...</td>\n",
       "      <td>...</td>\n",
       "      <td>...</td>\n",
       "    </tr>\n",
       "    <tr>\n",
       "      <th>144</th>\n",
       "      <td>6.7</td>\n",
       "      <td>3.0</td>\n",
       "      <td>5.2</td>\n",
       "      <td>2.3</td>\n",
       "      <td>Iris-virginica</td>\n",
       "    </tr>\n",
       "    <tr>\n",
       "      <th>145</th>\n",
       "      <td>6.3</td>\n",
       "      <td>2.5</td>\n",
       "      <td>5.0</td>\n",
       "      <td>1.9</td>\n",
       "      <td>Iris-virginica</td>\n",
       "    </tr>\n",
       "    <tr>\n",
       "      <th>146</th>\n",
       "      <td>6.5</td>\n",
       "      <td>3.0</td>\n",
       "      <td>5.2</td>\n",
       "      <td>2.0</td>\n",
       "      <td>Iris-virginica</td>\n",
       "    </tr>\n",
       "    <tr>\n",
       "      <th>147</th>\n",
       "      <td>6.2</td>\n",
       "      <td>3.4</td>\n",
       "      <td>5.4</td>\n",
       "      <td>2.3</td>\n",
       "      <td>Iris-virginica</td>\n",
       "    </tr>\n",
       "    <tr>\n",
       "      <th>148</th>\n",
       "      <td>5.9</td>\n",
       "      <td>3.0</td>\n",
       "      <td>5.1</td>\n",
       "      <td>1.8</td>\n",
       "      <td>Iris-virginica</td>\n",
       "    </tr>\n",
       "  </tbody>\n",
       "</table>\n",
       "<p>144 rows × 5 columns</p>\n",
       "</div>"
      ],
      "text/plain": [
       "      sl   sw   pl   pw     flower_type\n",
       "5    4.6  3.4  1.4  0.3     Iris-setosa\n",
       "6    5.0  3.4  1.5  0.2     Iris-setosa\n",
       "7    4.4  2.9  1.4  0.2     Iris-setosa\n",
       "8    4.9  3.1  1.5  0.1     Iris-setosa\n",
       "9    5.4  3.7  1.5  0.2     Iris-setosa\n",
       "..   ...  ...  ...  ...             ...\n",
       "144  6.7  3.0  5.2  2.3  Iris-virginica\n",
       "145  6.3  2.5  5.0  1.9  Iris-virginica\n",
       "146  6.5  3.0  5.2  2.0  Iris-virginica\n",
       "147  6.2  3.4  5.4  2.3  Iris-virginica\n",
       "148  5.9  3.0  5.1  1.8  Iris-virginica\n",
       "\n",
       "[144 rows x 5 columns]"
      ]
     },
     "execution_count": 121,
     "metadata": {},
     "output_type": "execute_result"
    }
   ],
   "source": [
    "df"
   ]
  },
  {
   "cell_type": "code",
   "execution_count": 123,
   "id": "757464d7-36e6-499a-af58-be5064a90406",
   "metadata": {},
   "outputs": [
    {
     "data": {
      "text/plain": [
       "5      False\n",
       "6      False\n",
       "7      False\n",
       "8      False\n",
       "9       True\n",
       "       ...  \n",
       "144     True\n",
       "145     True\n",
       "146     True\n",
       "147     True\n",
       "148     True\n",
       "Name: sl, Length: 144, dtype: bool"
      ]
     },
     "execution_count": 123,
     "metadata": {},
     "output_type": "execute_result"
    }
   ],
   "source": [
    "df.sl>5 #bool array"
   ]
  },
  {
   "cell_type": "code",
   "execution_count": 124,
   "id": "ab9b1829-aead-4498-b4bd-5d045f031e44",
   "metadata": {},
   "outputs": [
    {
     "data": {
      "text/html": [
       "<div>\n",
       "<style scoped>\n",
       "    .dataframe tbody tr th:only-of-type {\n",
       "        vertical-align: middle;\n",
       "    }\n",
       "\n",
       "    .dataframe tbody tr th {\n",
       "        vertical-align: top;\n",
       "    }\n",
       "\n",
       "    .dataframe thead th {\n",
       "        text-align: right;\n",
       "    }\n",
       "</style>\n",
       "<table border=\"1\" class=\"dataframe\">\n",
       "  <thead>\n",
       "    <tr style=\"text-align: right;\">\n",
       "      <th></th>\n",
       "      <th>sl</th>\n",
       "      <th>sw</th>\n",
       "      <th>pl</th>\n",
       "      <th>pw</th>\n",
       "      <th>flower_type</th>\n",
       "    </tr>\n",
       "  </thead>\n",
       "  <tbody>\n",
       "    <tr>\n",
       "      <th>9</th>\n",
       "      <td>5.4</td>\n",
       "      <td>3.7</td>\n",
       "      <td>1.5</td>\n",
       "      <td>0.2</td>\n",
       "      <td>Iris-setosa</td>\n",
       "    </tr>\n",
       "    <tr>\n",
       "      <th>13</th>\n",
       "      <td>5.8</td>\n",
       "      <td>4.0</td>\n",
       "      <td>1.2</td>\n",
       "      <td>0.2</td>\n",
       "      <td>Iris-setosa</td>\n",
       "    </tr>\n",
       "    <tr>\n",
       "      <th>14</th>\n",
       "      <td>5.7</td>\n",
       "      <td>4.4</td>\n",
       "      <td>1.5</td>\n",
       "      <td>0.4</td>\n",
       "      <td>Iris-setosa</td>\n",
       "    </tr>\n",
       "    <tr>\n",
       "      <th>15</th>\n",
       "      <td>5.4</td>\n",
       "      <td>3.9</td>\n",
       "      <td>1.3</td>\n",
       "      <td>0.4</td>\n",
       "      <td>Iris-setosa</td>\n",
       "    </tr>\n",
       "    <tr>\n",
       "      <th>16</th>\n",
       "      <td>5.1</td>\n",
       "      <td>3.5</td>\n",
       "      <td>1.4</td>\n",
       "      <td>0.3</td>\n",
       "      <td>Iris-setosa</td>\n",
       "    </tr>\n",
       "    <tr>\n",
       "      <th>...</th>\n",
       "      <td>...</td>\n",
       "      <td>...</td>\n",
       "      <td>...</td>\n",
       "      <td>...</td>\n",
       "      <td>...</td>\n",
       "    </tr>\n",
       "    <tr>\n",
       "      <th>144</th>\n",
       "      <td>6.7</td>\n",
       "      <td>3.0</td>\n",
       "      <td>5.2</td>\n",
       "      <td>2.3</td>\n",
       "      <td>Iris-virginica</td>\n",
       "    </tr>\n",
       "    <tr>\n",
       "      <th>145</th>\n",
       "      <td>6.3</td>\n",
       "      <td>2.5</td>\n",
       "      <td>5.0</td>\n",
       "      <td>1.9</td>\n",
       "      <td>Iris-virginica</td>\n",
       "    </tr>\n",
       "    <tr>\n",
       "      <th>146</th>\n",
       "      <td>6.5</td>\n",
       "      <td>3.0</td>\n",
       "      <td>5.2</td>\n",
       "      <td>2.0</td>\n",
       "      <td>Iris-virginica</td>\n",
       "    </tr>\n",
       "    <tr>\n",
       "      <th>147</th>\n",
       "      <td>6.2</td>\n",
       "      <td>3.4</td>\n",
       "      <td>5.4</td>\n",
       "      <td>2.3</td>\n",
       "      <td>Iris-virginica</td>\n",
       "    </tr>\n",
       "    <tr>\n",
       "      <th>148</th>\n",
       "      <td>5.9</td>\n",
       "      <td>3.0</td>\n",
       "      <td>5.1</td>\n",
       "      <td>1.8</td>\n",
       "      <td>Iris-virginica</td>\n",
       "    </tr>\n",
       "  </tbody>\n",
       "</table>\n",
       "<p>116 rows × 5 columns</p>\n",
       "</div>"
      ],
      "text/plain": [
       "      sl   sw   pl   pw     flower_type\n",
       "9    5.4  3.7  1.5  0.2     Iris-setosa\n",
       "13   5.8  4.0  1.2  0.2     Iris-setosa\n",
       "14   5.7  4.4  1.5  0.4     Iris-setosa\n",
       "15   5.4  3.9  1.3  0.4     Iris-setosa\n",
       "16   5.1  3.5  1.4  0.3     Iris-setosa\n",
       "..   ...  ...  ...  ...             ...\n",
       "144  6.7  3.0  5.2  2.3  Iris-virginica\n",
       "145  6.3  2.5  5.0  1.9  Iris-virginica\n",
       "146  6.5  3.0  5.2  2.0  Iris-virginica\n",
       "147  6.2  3.4  5.4  2.3  Iris-virginica\n",
       "148  5.9  3.0  5.1  1.8  Iris-virginica\n",
       "\n",
       "[116 rows x 5 columns]"
      ]
     },
     "execution_count": 124,
     "metadata": {},
     "output_type": "execute_result"
    }
   ],
   "source": [
    "df[df.sl>5]"
   ]
  },
  {
   "cell_type": "code",
   "execution_count": 125,
   "id": "119f454d-292a-4bd9-90ec-5e4657bd3bc6",
   "metadata": {},
   "outputs": [
    {
     "data": {
      "text/html": [
       "<div>\n",
       "<style scoped>\n",
       "    .dataframe tbody tr th:only-of-type {\n",
       "        vertical-align: middle;\n",
       "    }\n",
       "\n",
       "    .dataframe tbody tr th {\n",
       "        vertical-align: top;\n",
       "    }\n",
       "\n",
       "    .dataframe thead th {\n",
       "        text-align: right;\n",
       "    }\n",
       "</style>\n",
       "<table border=\"1\" class=\"dataframe\">\n",
       "  <thead>\n",
       "    <tr style=\"text-align: right;\">\n",
       "      <th></th>\n",
       "      <th>sl</th>\n",
       "      <th>sw</th>\n",
       "      <th>pl</th>\n",
       "      <th>pw</th>\n",
       "      <th>flower_type</th>\n",
       "    </tr>\n",
       "  </thead>\n",
       "  <tbody>\n",
       "    <tr>\n",
       "      <th>5</th>\n",
       "      <td>4.6</td>\n",
       "      <td>3.4</td>\n",
       "      <td>1.4</td>\n",
       "      <td>0.3</td>\n",
       "      <td>Iris-setosa</td>\n",
       "    </tr>\n",
       "    <tr>\n",
       "      <th>6</th>\n",
       "      <td>5.0</td>\n",
       "      <td>3.4</td>\n",
       "      <td>1.5</td>\n",
       "      <td>0.2</td>\n",
       "      <td>Iris-setosa</td>\n",
       "    </tr>\n",
       "    <tr>\n",
       "      <th>7</th>\n",
       "      <td>4.4</td>\n",
       "      <td>2.9</td>\n",
       "      <td>1.4</td>\n",
       "      <td>0.2</td>\n",
       "      <td>Iris-setosa</td>\n",
       "    </tr>\n",
       "    <tr>\n",
       "      <th>8</th>\n",
       "      <td>4.9</td>\n",
       "      <td>3.1</td>\n",
       "      <td>1.5</td>\n",
       "      <td>0.1</td>\n",
       "      <td>Iris-setosa</td>\n",
       "    </tr>\n",
       "    <tr>\n",
       "      <th>9</th>\n",
       "      <td>5.4</td>\n",
       "      <td>3.7</td>\n",
       "      <td>1.5</td>\n",
       "      <td>0.2</td>\n",
       "      <td>Iris-setosa</td>\n",
       "    </tr>\n",
       "    <tr>\n",
       "      <th>10</th>\n",
       "      <td>4.8</td>\n",
       "      <td>3.4</td>\n",
       "      <td>1.6</td>\n",
       "      <td>0.2</td>\n",
       "      <td>Iris-setosa</td>\n",
       "    </tr>\n",
       "    <tr>\n",
       "      <th>11</th>\n",
       "      <td>4.8</td>\n",
       "      <td>3.0</td>\n",
       "      <td>1.4</td>\n",
       "      <td>0.1</td>\n",
       "      <td>Iris-setosa</td>\n",
       "    </tr>\n",
       "    <tr>\n",
       "      <th>12</th>\n",
       "      <td>4.3</td>\n",
       "      <td>3.0</td>\n",
       "      <td>1.1</td>\n",
       "      <td>0.1</td>\n",
       "      <td>Iris-setosa</td>\n",
       "    </tr>\n",
       "    <tr>\n",
       "      <th>13</th>\n",
       "      <td>5.8</td>\n",
       "      <td>4.0</td>\n",
       "      <td>1.2</td>\n",
       "      <td>0.2</td>\n",
       "      <td>Iris-setosa</td>\n",
       "    </tr>\n",
       "    <tr>\n",
       "      <th>14</th>\n",
       "      <td>5.7</td>\n",
       "      <td>4.4</td>\n",
       "      <td>1.5</td>\n",
       "      <td>0.4</td>\n",
       "      <td>Iris-setosa</td>\n",
       "    </tr>\n",
       "    <tr>\n",
       "      <th>15</th>\n",
       "      <td>5.4</td>\n",
       "      <td>3.9</td>\n",
       "      <td>1.3</td>\n",
       "      <td>0.4</td>\n",
       "      <td>Iris-setosa</td>\n",
       "    </tr>\n",
       "    <tr>\n",
       "      <th>16</th>\n",
       "      <td>5.1</td>\n",
       "      <td>3.5</td>\n",
       "      <td>1.4</td>\n",
       "      <td>0.3</td>\n",
       "      <td>Iris-setosa</td>\n",
       "    </tr>\n",
       "    <tr>\n",
       "      <th>17</th>\n",
       "      <td>5.7</td>\n",
       "      <td>3.8</td>\n",
       "      <td>1.7</td>\n",
       "      <td>0.3</td>\n",
       "      <td>Iris-setosa</td>\n",
       "    </tr>\n",
       "    <tr>\n",
       "      <th>18</th>\n",
       "      <td>5.1</td>\n",
       "      <td>3.8</td>\n",
       "      <td>1.5</td>\n",
       "      <td>0.3</td>\n",
       "      <td>Iris-setosa</td>\n",
       "    </tr>\n",
       "    <tr>\n",
       "      <th>19</th>\n",
       "      <td>5.4</td>\n",
       "      <td>3.4</td>\n",
       "      <td>1.7</td>\n",
       "      <td>0.2</td>\n",
       "      <td>Iris-setosa</td>\n",
       "    </tr>\n",
       "    <tr>\n",
       "      <th>20</th>\n",
       "      <td>5.1</td>\n",
       "      <td>3.7</td>\n",
       "      <td>1.5</td>\n",
       "      <td>0.4</td>\n",
       "      <td>Iris-setosa</td>\n",
       "    </tr>\n",
       "    <tr>\n",
       "      <th>21</th>\n",
       "      <td>4.6</td>\n",
       "      <td>3.6</td>\n",
       "      <td>1.0</td>\n",
       "      <td>0.2</td>\n",
       "      <td>Iris-setosa</td>\n",
       "    </tr>\n",
       "    <tr>\n",
       "      <th>22</th>\n",
       "      <td>5.1</td>\n",
       "      <td>3.3</td>\n",
       "      <td>1.7</td>\n",
       "      <td>0.5</td>\n",
       "      <td>Iris-setosa</td>\n",
       "    </tr>\n",
       "    <tr>\n",
       "      <th>23</th>\n",
       "      <td>4.8</td>\n",
       "      <td>3.4</td>\n",
       "      <td>1.9</td>\n",
       "      <td>0.2</td>\n",
       "      <td>Iris-setosa</td>\n",
       "    </tr>\n",
       "    <tr>\n",
       "      <th>24</th>\n",
       "      <td>5.0</td>\n",
       "      <td>3.0</td>\n",
       "      <td>1.6</td>\n",
       "      <td>0.2</td>\n",
       "      <td>Iris-setosa</td>\n",
       "    </tr>\n",
       "    <tr>\n",
       "      <th>25</th>\n",
       "      <td>5.0</td>\n",
       "      <td>3.4</td>\n",
       "      <td>1.6</td>\n",
       "      <td>0.4</td>\n",
       "      <td>Iris-setosa</td>\n",
       "    </tr>\n",
       "    <tr>\n",
       "      <th>26</th>\n",
       "      <td>5.2</td>\n",
       "      <td>3.5</td>\n",
       "      <td>1.5</td>\n",
       "      <td>0.2</td>\n",
       "      <td>Iris-setosa</td>\n",
       "    </tr>\n",
       "    <tr>\n",
       "      <th>27</th>\n",
       "      <td>5.2</td>\n",
       "      <td>3.4</td>\n",
       "      <td>1.4</td>\n",
       "      <td>0.2</td>\n",
       "      <td>Iris-setosa</td>\n",
       "    </tr>\n",
       "    <tr>\n",
       "      <th>28</th>\n",
       "      <td>4.7</td>\n",
       "      <td>3.2</td>\n",
       "      <td>1.6</td>\n",
       "      <td>0.2</td>\n",
       "      <td>Iris-setosa</td>\n",
       "    </tr>\n",
       "    <tr>\n",
       "      <th>29</th>\n",
       "      <td>4.8</td>\n",
       "      <td>3.1</td>\n",
       "      <td>1.6</td>\n",
       "      <td>0.2</td>\n",
       "      <td>Iris-setosa</td>\n",
       "    </tr>\n",
       "    <tr>\n",
       "      <th>30</th>\n",
       "      <td>5.4</td>\n",
       "      <td>3.4</td>\n",
       "      <td>1.5</td>\n",
       "      <td>0.4</td>\n",
       "      <td>Iris-setosa</td>\n",
       "    </tr>\n",
       "    <tr>\n",
       "      <th>31</th>\n",
       "      <td>5.2</td>\n",
       "      <td>4.1</td>\n",
       "      <td>1.5</td>\n",
       "      <td>0.1</td>\n",
       "      <td>Iris-setosa</td>\n",
       "    </tr>\n",
       "    <tr>\n",
       "      <th>32</th>\n",
       "      <td>5.5</td>\n",
       "      <td>4.2</td>\n",
       "      <td>1.4</td>\n",
       "      <td>0.2</td>\n",
       "      <td>Iris-setosa</td>\n",
       "    </tr>\n",
       "    <tr>\n",
       "      <th>33</th>\n",
       "      <td>4.9</td>\n",
       "      <td>3.1</td>\n",
       "      <td>1.5</td>\n",
       "      <td>0.1</td>\n",
       "      <td>Iris-setosa</td>\n",
       "    </tr>\n",
       "    <tr>\n",
       "      <th>34</th>\n",
       "      <td>5.0</td>\n",
       "      <td>3.2</td>\n",
       "      <td>1.2</td>\n",
       "      <td>0.2</td>\n",
       "      <td>Iris-setosa</td>\n",
       "    </tr>\n",
       "    <tr>\n",
       "      <th>35</th>\n",
       "      <td>5.5</td>\n",
       "      <td>3.5</td>\n",
       "      <td>1.3</td>\n",
       "      <td>0.2</td>\n",
       "      <td>Iris-setosa</td>\n",
       "    </tr>\n",
       "    <tr>\n",
       "      <th>36</th>\n",
       "      <td>4.9</td>\n",
       "      <td>3.1</td>\n",
       "      <td>1.5</td>\n",
       "      <td>0.1</td>\n",
       "      <td>Iris-setosa</td>\n",
       "    </tr>\n",
       "    <tr>\n",
       "      <th>37</th>\n",
       "      <td>4.4</td>\n",
       "      <td>3.0</td>\n",
       "      <td>1.3</td>\n",
       "      <td>0.2</td>\n",
       "      <td>Iris-setosa</td>\n",
       "    </tr>\n",
       "    <tr>\n",
       "      <th>38</th>\n",
       "      <td>5.1</td>\n",
       "      <td>3.4</td>\n",
       "      <td>1.5</td>\n",
       "      <td>0.2</td>\n",
       "      <td>Iris-setosa</td>\n",
       "    </tr>\n",
       "    <tr>\n",
       "      <th>39</th>\n",
       "      <td>5.0</td>\n",
       "      <td>3.5</td>\n",
       "      <td>1.3</td>\n",
       "      <td>0.3</td>\n",
       "      <td>Iris-setosa</td>\n",
       "    </tr>\n",
       "    <tr>\n",
       "      <th>40</th>\n",
       "      <td>4.5</td>\n",
       "      <td>2.3</td>\n",
       "      <td>1.3</td>\n",
       "      <td>0.3</td>\n",
       "      <td>Iris-setosa</td>\n",
       "    </tr>\n",
       "    <tr>\n",
       "      <th>41</th>\n",
       "      <td>4.4</td>\n",
       "      <td>3.2</td>\n",
       "      <td>1.3</td>\n",
       "      <td>0.2</td>\n",
       "      <td>Iris-setosa</td>\n",
       "    </tr>\n",
       "    <tr>\n",
       "      <th>42</th>\n",
       "      <td>5.0</td>\n",
       "      <td>3.5</td>\n",
       "      <td>1.6</td>\n",
       "      <td>0.6</td>\n",
       "      <td>Iris-setosa</td>\n",
       "    </tr>\n",
       "    <tr>\n",
       "      <th>43</th>\n",
       "      <td>5.1</td>\n",
       "      <td>3.8</td>\n",
       "      <td>1.9</td>\n",
       "      <td>0.4</td>\n",
       "      <td>Iris-setosa</td>\n",
       "    </tr>\n",
       "    <tr>\n",
       "      <th>44</th>\n",
       "      <td>4.8</td>\n",
       "      <td>3.0</td>\n",
       "      <td>1.4</td>\n",
       "      <td>0.3</td>\n",
       "      <td>Iris-setosa</td>\n",
       "    </tr>\n",
       "    <tr>\n",
       "      <th>45</th>\n",
       "      <td>5.1</td>\n",
       "      <td>3.8</td>\n",
       "      <td>1.6</td>\n",
       "      <td>0.2</td>\n",
       "      <td>Iris-setosa</td>\n",
       "    </tr>\n",
       "    <tr>\n",
       "      <th>46</th>\n",
       "      <td>4.6</td>\n",
       "      <td>3.2</td>\n",
       "      <td>1.4</td>\n",
       "      <td>0.2</td>\n",
       "      <td>Iris-setosa</td>\n",
       "    </tr>\n",
       "    <tr>\n",
       "      <th>47</th>\n",
       "      <td>5.3</td>\n",
       "      <td>3.7</td>\n",
       "      <td>1.5</td>\n",
       "      <td>0.2</td>\n",
       "      <td>Iris-setosa</td>\n",
       "    </tr>\n",
       "    <tr>\n",
       "      <th>48</th>\n",
       "      <td>5.0</td>\n",
       "      <td>3.3</td>\n",
       "      <td>1.4</td>\n",
       "      <td>0.2</td>\n",
       "      <td>Iris-setosa</td>\n",
       "    </tr>\n",
       "  </tbody>\n",
       "</table>\n",
       "</div>"
      ],
      "text/plain": [
       "     sl   sw   pl   pw  flower_type\n",
       "5   4.6  3.4  1.4  0.3  Iris-setosa\n",
       "6   5.0  3.4  1.5  0.2  Iris-setosa\n",
       "7   4.4  2.9  1.4  0.2  Iris-setosa\n",
       "8   4.9  3.1  1.5  0.1  Iris-setosa\n",
       "9   5.4  3.7  1.5  0.2  Iris-setosa\n",
       "10  4.8  3.4  1.6  0.2  Iris-setosa\n",
       "11  4.8  3.0  1.4  0.1  Iris-setosa\n",
       "12  4.3  3.0  1.1  0.1  Iris-setosa\n",
       "13  5.8  4.0  1.2  0.2  Iris-setosa\n",
       "14  5.7  4.4  1.5  0.4  Iris-setosa\n",
       "15  5.4  3.9  1.3  0.4  Iris-setosa\n",
       "16  5.1  3.5  1.4  0.3  Iris-setosa\n",
       "17  5.7  3.8  1.7  0.3  Iris-setosa\n",
       "18  5.1  3.8  1.5  0.3  Iris-setosa\n",
       "19  5.4  3.4  1.7  0.2  Iris-setosa\n",
       "20  5.1  3.7  1.5  0.4  Iris-setosa\n",
       "21  4.6  3.6  1.0  0.2  Iris-setosa\n",
       "22  5.1  3.3  1.7  0.5  Iris-setosa\n",
       "23  4.8  3.4  1.9  0.2  Iris-setosa\n",
       "24  5.0  3.0  1.6  0.2  Iris-setosa\n",
       "25  5.0  3.4  1.6  0.4  Iris-setosa\n",
       "26  5.2  3.5  1.5  0.2  Iris-setosa\n",
       "27  5.2  3.4  1.4  0.2  Iris-setosa\n",
       "28  4.7  3.2  1.6  0.2  Iris-setosa\n",
       "29  4.8  3.1  1.6  0.2  Iris-setosa\n",
       "30  5.4  3.4  1.5  0.4  Iris-setosa\n",
       "31  5.2  4.1  1.5  0.1  Iris-setosa\n",
       "32  5.5  4.2  1.4  0.2  Iris-setosa\n",
       "33  4.9  3.1  1.5  0.1  Iris-setosa\n",
       "34  5.0  3.2  1.2  0.2  Iris-setosa\n",
       "35  5.5  3.5  1.3  0.2  Iris-setosa\n",
       "36  4.9  3.1  1.5  0.1  Iris-setosa\n",
       "37  4.4  3.0  1.3  0.2  Iris-setosa\n",
       "38  5.1  3.4  1.5  0.2  Iris-setosa\n",
       "39  5.0  3.5  1.3  0.3  Iris-setosa\n",
       "40  4.5  2.3  1.3  0.3  Iris-setosa\n",
       "41  4.4  3.2  1.3  0.2  Iris-setosa\n",
       "42  5.0  3.5  1.6  0.6  Iris-setosa\n",
       "43  5.1  3.8  1.9  0.4  Iris-setosa\n",
       "44  4.8  3.0  1.4  0.3  Iris-setosa\n",
       "45  5.1  3.8  1.6  0.2  Iris-setosa\n",
       "46  4.6  3.2  1.4  0.2  Iris-setosa\n",
       "47  5.3  3.7  1.5  0.2  Iris-setosa\n",
       "48  5.0  3.3  1.4  0.2  Iris-setosa"
      ]
     },
     "execution_count": 125,
     "metadata": {},
     "output_type": "execute_result"
    }
   ],
   "source": [
    "df[df.flower_type==\"Iris-setosa\"]"
   ]
  },
  {
   "cell_type": "code",
   "execution_count": 126,
   "id": "a74aa61b-3c54-4ee7-8bf9-c2f16c3a9dca",
   "metadata": {},
   "outputs": [
    {
     "data": {
      "text/html": [
       "<div>\n",
       "<style scoped>\n",
       "    .dataframe tbody tr th:only-of-type {\n",
       "        vertical-align: middle;\n",
       "    }\n",
       "\n",
       "    .dataframe tbody tr th {\n",
       "        vertical-align: top;\n",
       "    }\n",
       "\n",
       "    .dataframe thead th {\n",
       "        text-align: right;\n",
       "    }\n",
       "</style>\n",
       "<table border=\"1\" class=\"dataframe\">\n",
       "  <thead>\n",
       "    <tr style=\"text-align: right;\">\n",
       "      <th></th>\n",
       "      <th>sl</th>\n",
       "      <th>sw</th>\n",
       "      <th>pl</th>\n",
       "      <th>pw</th>\n",
       "    </tr>\n",
       "  </thead>\n",
       "  <tbody>\n",
       "    <tr>\n",
       "      <th>count</th>\n",
       "      <td>44.000000</td>\n",
       "      <td>44.000000</td>\n",
       "      <td>44.000000</td>\n",
       "      <td>44.000000</td>\n",
       "    </tr>\n",
       "    <tr>\n",
       "      <th>mean</th>\n",
       "      <td>5.013636</td>\n",
       "      <td>3.422727</td>\n",
       "      <td>1.465909</td>\n",
       "      <td>0.245455</td>\n",
       "    </tr>\n",
       "    <tr>\n",
       "      <th>std</th>\n",
       "      <td>0.362543</td>\n",
       "      <td>0.389313</td>\n",
       "      <td>0.179071</td>\n",
       "      <td>0.110925</td>\n",
       "    </tr>\n",
       "    <tr>\n",
       "      <th>min</th>\n",
       "      <td>4.300000</td>\n",
       "      <td>2.300000</td>\n",
       "      <td>1.000000</td>\n",
       "      <td>0.100000</td>\n",
       "    </tr>\n",
       "    <tr>\n",
       "      <th>25%</th>\n",
       "      <td>4.800000</td>\n",
       "      <td>3.175000</td>\n",
       "      <td>1.400000</td>\n",
       "      <td>0.200000</td>\n",
       "    </tr>\n",
       "    <tr>\n",
       "      <th>50%</th>\n",
       "      <td>5.000000</td>\n",
       "      <td>3.400000</td>\n",
       "      <td>1.500000</td>\n",
       "      <td>0.200000</td>\n",
       "    </tr>\n",
       "    <tr>\n",
       "      <th>75%</th>\n",
       "      <td>5.200000</td>\n",
       "      <td>3.700000</td>\n",
       "      <td>1.600000</td>\n",
       "      <td>0.300000</td>\n",
       "    </tr>\n",
       "    <tr>\n",
       "      <th>max</th>\n",
       "      <td>5.800000</td>\n",
       "      <td>4.400000</td>\n",
       "      <td>1.900000</td>\n",
       "      <td>0.600000</td>\n",
       "    </tr>\n",
       "  </tbody>\n",
       "</table>\n",
       "</div>"
      ],
      "text/plain": [
       "              sl         sw         pl         pw\n",
       "count  44.000000  44.000000  44.000000  44.000000\n",
       "mean    5.013636   3.422727   1.465909   0.245455\n",
       "std     0.362543   0.389313   0.179071   0.110925\n",
       "min     4.300000   2.300000   1.000000   0.100000\n",
       "25%     4.800000   3.175000   1.400000   0.200000\n",
       "50%     5.000000   3.400000   1.500000   0.200000\n",
       "75%     5.200000   3.700000   1.600000   0.300000\n",
       "max     5.800000   4.400000   1.900000   0.600000"
      ]
     },
     "execution_count": 126,
     "metadata": {},
     "output_type": "execute_result"
    }
   ],
   "source": [
    "df[df.flower_type==\"Iris-setosa\"].describe()"
   ]
  },
  {
   "cell_type": "code",
   "execution_count": 128,
   "id": "15c05ef5-2fd3-4cde-b978-c7156745130b",
   "metadata": {},
   "outputs": [
    {
     "name": "stdout",
     "output_type": "stream",
     "text": [
      "    sl   sw   pl   pw  flower_type\n",
      "5  4.6  3.4  1.4  0.3  Iris-setosa\n",
      "6  5.0  3.4  1.5  0.2  Iris-setosa\n",
      "7  4.4  2.9  1.4  0.2  Iris-setosa\n",
      "8  4.9  3.1  1.5  0.1  Iris-setosa\n",
      "9  5.4  3.7  1.5  0.2  Iris-setosa\n",
      "sl                     4.6\n",
      "sw                     3.4\n",
      "pl                     1.4\n",
      "pw                     0.3\n",
      "flower_type    Iris-setosa\n",
      "Name: 5, dtype: object\n",
      "sl                     4.9\n",
      "sw                     3.1\n",
      "pl                     1.5\n",
      "pw                     0.1\n",
      "flower_type    Iris-setosa\n",
      "Name: 8, dtype: object\n"
     ]
    }
   ],
   "source": [
    "# add a row\n",
    "print(df.head())\n",
    "print(df.iloc[0]) #position\n",
    "print(df.loc[8]) #label"
   ]
  },
  {
   "cell_type": "code",
   "execution_count": 129,
   "id": "f6b0a5ed-c361-429c-9962-c44cdcf2285f",
   "metadata": {},
   "outputs": [],
   "source": [
    "df.loc[0] = [  4.4,  2.9,  1.4,  0.2 , \"Iris-setosa\"]\n"
   ]
  },
  {
   "cell_type": "code",
   "execution_count": 130,
   "id": "2ba370e6-19ee-439b-bc8e-35d9e9de55ec",
   "metadata": {},
   "outputs": [
    {
     "data": {
      "text/html": [
       "<div>\n",
       "<style scoped>\n",
       "    .dataframe tbody tr th:only-of-type {\n",
       "        vertical-align: middle;\n",
       "    }\n",
       "\n",
       "    .dataframe tbody tr th {\n",
       "        vertical-align: top;\n",
       "    }\n",
       "\n",
       "    .dataframe thead th {\n",
       "        text-align: right;\n",
       "    }\n",
       "</style>\n",
       "<table border=\"1\" class=\"dataframe\">\n",
       "  <thead>\n",
       "    <tr style=\"text-align: right;\">\n",
       "      <th></th>\n",
       "      <th>sl</th>\n",
       "      <th>sw</th>\n",
       "      <th>pl</th>\n",
       "      <th>pw</th>\n",
       "      <th>flower_type</th>\n",
       "    </tr>\n",
       "  </thead>\n",
       "  <tbody>\n",
       "    <tr>\n",
       "      <th>5</th>\n",
       "      <td>4.6</td>\n",
       "      <td>3.4</td>\n",
       "      <td>1.4</td>\n",
       "      <td>0.3</td>\n",
       "      <td>Iris-setosa</td>\n",
       "    </tr>\n",
       "    <tr>\n",
       "      <th>6</th>\n",
       "      <td>5.0</td>\n",
       "      <td>3.4</td>\n",
       "      <td>1.5</td>\n",
       "      <td>0.2</td>\n",
       "      <td>Iris-setosa</td>\n",
       "    </tr>\n",
       "    <tr>\n",
       "      <th>7</th>\n",
       "      <td>4.4</td>\n",
       "      <td>2.9</td>\n",
       "      <td>1.4</td>\n",
       "      <td>0.2</td>\n",
       "      <td>Iris-setosa</td>\n",
       "    </tr>\n",
       "    <tr>\n",
       "      <th>8</th>\n",
       "      <td>4.9</td>\n",
       "      <td>3.1</td>\n",
       "      <td>1.5</td>\n",
       "      <td>0.1</td>\n",
       "      <td>Iris-setosa</td>\n",
       "    </tr>\n",
       "    <tr>\n",
       "      <th>9</th>\n",
       "      <td>5.4</td>\n",
       "      <td>3.7</td>\n",
       "      <td>1.5</td>\n",
       "      <td>0.2</td>\n",
       "      <td>Iris-setosa</td>\n",
       "    </tr>\n",
       "  </tbody>\n",
       "</table>\n",
       "</div>"
      ],
      "text/plain": [
       "    sl   sw   pl   pw  flower_type\n",
       "5  4.6  3.4  1.4  0.3  Iris-setosa\n",
       "6  5.0  3.4  1.5  0.2  Iris-setosa\n",
       "7  4.4  2.9  1.4  0.2  Iris-setosa\n",
       "8  4.9  3.1  1.5  0.1  Iris-setosa\n",
       "9  5.4  3.7  1.5  0.2  Iris-setosa"
      ]
     },
     "execution_count": 130,
     "metadata": {},
     "output_type": "execute_result"
    }
   ],
   "source": [
    "df.head()"
   ]
  },
  {
   "cell_type": "code",
   "execution_count": 131,
   "id": "ae02d181-d1bb-4173-b422-b4daa46189a8",
   "metadata": {},
   "outputs": [
    {
     "data": {
      "text/html": [
       "<div>\n",
       "<style scoped>\n",
       "    .dataframe tbody tr th:only-of-type {\n",
       "        vertical-align: middle;\n",
       "    }\n",
       "\n",
       "    .dataframe tbody tr th {\n",
       "        vertical-align: top;\n",
       "    }\n",
       "\n",
       "    .dataframe thead th {\n",
       "        text-align: right;\n",
       "    }\n",
       "</style>\n",
       "<table border=\"1\" class=\"dataframe\">\n",
       "  <thead>\n",
       "    <tr style=\"text-align: right;\">\n",
       "      <th></th>\n",
       "      <th>sl</th>\n",
       "      <th>sw</th>\n",
       "      <th>pl</th>\n",
       "      <th>pw</th>\n",
       "      <th>flower_type</th>\n",
       "    </tr>\n",
       "  </thead>\n",
       "  <tbody>\n",
       "    <tr>\n",
       "      <th>145</th>\n",
       "      <td>6.3</td>\n",
       "      <td>2.5</td>\n",
       "      <td>5.0</td>\n",
       "      <td>1.9</td>\n",
       "      <td>Iris-virginica</td>\n",
       "    </tr>\n",
       "    <tr>\n",
       "      <th>146</th>\n",
       "      <td>6.5</td>\n",
       "      <td>3.0</td>\n",
       "      <td>5.2</td>\n",
       "      <td>2.0</td>\n",
       "      <td>Iris-virginica</td>\n",
       "    </tr>\n",
       "    <tr>\n",
       "      <th>147</th>\n",
       "      <td>6.2</td>\n",
       "      <td>3.4</td>\n",
       "      <td>5.4</td>\n",
       "      <td>2.3</td>\n",
       "      <td>Iris-virginica</td>\n",
       "    </tr>\n",
       "    <tr>\n",
       "      <th>148</th>\n",
       "      <td>5.9</td>\n",
       "      <td>3.0</td>\n",
       "      <td>5.1</td>\n",
       "      <td>1.8</td>\n",
       "      <td>Iris-virginica</td>\n",
       "    </tr>\n",
       "    <tr>\n",
       "      <th>0</th>\n",
       "      <td>4.4</td>\n",
       "      <td>2.9</td>\n",
       "      <td>1.4</td>\n",
       "      <td>0.2</td>\n",
       "      <td>Iris-setosa</td>\n",
       "    </tr>\n",
       "  </tbody>\n",
       "</table>\n",
       "</div>"
      ],
      "text/plain": [
       "      sl   sw   pl   pw     flower_type\n",
       "145  6.3  2.5  5.0  1.9  Iris-virginica\n",
       "146  6.5  3.0  5.2  2.0  Iris-virginica\n",
       "147  6.2  3.4  5.4  2.3  Iris-virginica\n",
       "148  5.9  3.0  5.1  1.8  Iris-virginica\n",
       "0    4.4  2.9  1.4  0.2     Iris-setosa"
      ]
     },
     "execution_count": 131,
     "metadata": {},
     "output_type": "execute_result"
    }
   ],
   "source": [
    "df.tail()"
   ]
  },
  {
   "cell_type": "code",
   "execution_count": 132,
   "id": "6544c3dd-cb17-41cc-ad3c-c25b7be4484f",
   "metadata": {},
   "outputs": [],
   "source": [
    "df.loc[148] = [  4.4,  2.9,  1.4,  0.2 , \"Iris-setosa\"] #update"
   ]
  },
  {
   "cell_type": "code",
   "execution_count": 133,
   "id": "a9b51361-e125-4962-a776-cc7df9553f46",
   "metadata": {},
   "outputs": [
    {
     "data": {
      "text/html": [
       "<div>\n",
       "<style scoped>\n",
       "    .dataframe tbody tr th:only-of-type {\n",
       "        vertical-align: middle;\n",
       "    }\n",
       "\n",
       "    .dataframe tbody tr th {\n",
       "        vertical-align: top;\n",
       "    }\n",
       "\n",
       "    .dataframe thead th {\n",
       "        text-align: right;\n",
       "    }\n",
       "</style>\n",
       "<table border=\"1\" class=\"dataframe\">\n",
       "  <thead>\n",
       "    <tr style=\"text-align: right;\">\n",
       "      <th></th>\n",
       "      <th>sl</th>\n",
       "      <th>sw</th>\n",
       "      <th>pl</th>\n",
       "      <th>pw</th>\n",
       "      <th>flower_type</th>\n",
       "    </tr>\n",
       "  </thead>\n",
       "  <tbody>\n",
       "    <tr>\n",
       "      <th>145</th>\n",
       "      <td>6.3</td>\n",
       "      <td>2.5</td>\n",
       "      <td>5.0</td>\n",
       "      <td>1.9</td>\n",
       "      <td>Iris-virginica</td>\n",
       "    </tr>\n",
       "    <tr>\n",
       "      <th>146</th>\n",
       "      <td>6.5</td>\n",
       "      <td>3.0</td>\n",
       "      <td>5.2</td>\n",
       "      <td>2.0</td>\n",
       "      <td>Iris-virginica</td>\n",
       "    </tr>\n",
       "    <tr>\n",
       "      <th>147</th>\n",
       "      <td>6.2</td>\n",
       "      <td>3.4</td>\n",
       "      <td>5.4</td>\n",
       "      <td>2.3</td>\n",
       "      <td>Iris-virginica</td>\n",
       "    </tr>\n",
       "    <tr>\n",
       "      <th>148</th>\n",
       "      <td>4.4</td>\n",
       "      <td>2.9</td>\n",
       "      <td>1.4</td>\n",
       "      <td>0.2</td>\n",
       "      <td>Iris-setosa</td>\n",
       "    </tr>\n",
       "    <tr>\n",
       "      <th>0</th>\n",
       "      <td>4.4</td>\n",
       "      <td>2.9</td>\n",
       "      <td>1.4</td>\n",
       "      <td>0.2</td>\n",
       "      <td>Iris-setosa</td>\n",
       "    </tr>\n",
       "  </tbody>\n",
       "</table>\n",
       "</div>"
      ],
      "text/plain": [
       "      sl   sw   pl   pw     flower_type\n",
       "145  6.3  2.5  5.0  1.9  Iris-virginica\n",
       "146  6.5  3.0  5.2  2.0  Iris-virginica\n",
       "147  6.2  3.4  5.4  2.3  Iris-virginica\n",
       "148  4.4  2.9  1.4  0.2     Iris-setosa\n",
       "0    4.4  2.9  1.4  0.2     Iris-setosa"
      ]
     },
     "execution_count": 133,
     "metadata": {},
     "output_type": "execute_result"
    }
   ],
   "source": [
    "df.tail()"
   ]
  },
  {
   "cell_type": "code",
   "execution_count": 134,
   "id": "488014c8-79b6-4b2d-92c0-b0a9d91928c8",
   "metadata": {},
   "outputs": [
    {
     "data": {
      "text/html": [
       "<div>\n",
       "<style scoped>\n",
       "    .dataframe tbody tr th:only-of-type {\n",
       "        vertical-align: middle;\n",
       "    }\n",
       "\n",
       "    .dataframe tbody tr th {\n",
       "        vertical-align: top;\n",
       "    }\n",
       "\n",
       "    .dataframe thead th {\n",
       "        text-align: right;\n",
       "    }\n",
       "</style>\n",
       "<table border=\"1\" class=\"dataframe\">\n",
       "  <thead>\n",
       "    <tr style=\"text-align: right;\">\n",
       "      <th></th>\n",
       "      <th>index</th>\n",
       "      <th>sl</th>\n",
       "      <th>sw</th>\n",
       "      <th>pl</th>\n",
       "      <th>pw</th>\n",
       "      <th>flower_type</th>\n",
       "    </tr>\n",
       "  </thead>\n",
       "  <tbody>\n",
       "    <tr>\n",
       "      <th>0</th>\n",
       "      <td>5</td>\n",
       "      <td>4.6</td>\n",
       "      <td>3.4</td>\n",
       "      <td>1.4</td>\n",
       "      <td>0.3</td>\n",
       "      <td>Iris-setosa</td>\n",
       "    </tr>\n",
       "    <tr>\n",
       "      <th>1</th>\n",
       "      <td>6</td>\n",
       "      <td>5.0</td>\n",
       "      <td>3.4</td>\n",
       "      <td>1.5</td>\n",
       "      <td>0.2</td>\n",
       "      <td>Iris-setosa</td>\n",
       "    </tr>\n",
       "    <tr>\n",
       "      <th>2</th>\n",
       "      <td>7</td>\n",
       "      <td>4.4</td>\n",
       "      <td>2.9</td>\n",
       "      <td>1.4</td>\n",
       "      <td>0.2</td>\n",
       "      <td>Iris-setosa</td>\n",
       "    </tr>\n",
       "    <tr>\n",
       "      <th>3</th>\n",
       "      <td>8</td>\n",
       "      <td>4.9</td>\n",
       "      <td>3.1</td>\n",
       "      <td>1.5</td>\n",
       "      <td>0.1</td>\n",
       "      <td>Iris-setosa</td>\n",
       "    </tr>\n",
       "    <tr>\n",
       "      <th>4</th>\n",
       "      <td>9</td>\n",
       "      <td>5.4</td>\n",
       "      <td>3.7</td>\n",
       "      <td>1.5</td>\n",
       "      <td>0.2</td>\n",
       "      <td>Iris-setosa</td>\n",
       "    </tr>\n",
       "    <tr>\n",
       "      <th>...</th>\n",
       "      <td>...</td>\n",
       "      <td>...</td>\n",
       "      <td>...</td>\n",
       "      <td>...</td>\n",
       "      <td>...</td>\n",
       "      <td>...</td>\n",
       "    </tr>\n",
       "    <tr>\n",
       "      <th>140</th>\n",
       "      <td>145</td>\n",
       "      <td>6.3</td>\n",
       "      <td>2.5</td>\n",
       "      <td>5.0</td>\n",
       "      <td>1.9</td>\n",
       "      <td>Iris-virginica</td>\n",
       "    </tr>\n",
       "    <tr>\n",
       "      <th>141</th>\n",
       "      <td>146</td>\n",
       "      <td>6.5</td>\n",
       "      <td>3.0</td>\n",
       "      <td>5.2</td>\n",
       "      <td>2.0</td>\n",
       "      <td>Iris-virginica</td>\n",
       "    </tr>\n",
       "    <tr>\n",
       "      <th>142</th>\n",
       "      <td>147</td>\n",
       "      <td>6.2</td>\n",
       "      <td>3.4</td>\n",
       "      <td>5.4</td>\n",
       "      <td>2.3</td>\n",
       "      <td>Iris-virginica</td>\n",
       "    </tr>\n",
       "    <tr>\n",
       "      <th>143</th>\n",
       "      <td>148</td>\n",
       "      <td>4.4</td>\n",
       "      <td>2.9</td>\n",
       "      <td>1.4</td>\n",
       "      <td>0.2</td>\n",
       "      <td>Iris-setosa</td>\n",
       "    </tr>\n",
       "    <tr>\n",
       "      <th>144</th>\n",
       "      <td>0</td>\n",
       "      <td>4.4</td>\n",
       "      <td>2.9</td>\n",
       "      <td>1.4</td>\n",
       "      <td>0.2</td>\n",
       "      <td>Iris-setosa</td>\n",
       "    </tr>\n",
       "  </tbody>\n",
       "</table>\n",
       "<p>145 rows × 6 columns</p>\n",
       "</div>"
      ],
      "text/plain": [
       "     index   sl   sw   pl   pw     flower_type\n",
       "0        5  4.6  3.4  1.4  0.3     Iris-setosa\n",
       "1        6  5.0  3.4  1.5  0.2     Iris-setosa\n",
       "2        7  4.4  2.9  1.4  0.2     Iris-setosa\n",
       "3        8  4.9  3.1  1.5  0.1     Iris-setosa\n",
       "4        9  5.4  3.7  1.5  0.2     Iris-setosa\n",
       "..     ...  ...  ...  ...  ...             ...\n",
       "140    145  6.3  2.5  5.0  1.9  Iris-virginica\n",
       "141    146  6.5  3.0  5.2  2.0  Iris-virginica\n",
       "142    147  6.2  3.4  5.4  2.3  Iris-virginica\n",
       "143    148  4.4  2.9  1.4  0.2     Iris-setosa\n",
       "144      0  4.4  2.9  1.4  0.2     Iris-setosa\n",
       "\n",
       "[145 rows x 6 columns]"
      ]
     },
     "execution_count": 134,
     "metadata": {},
     "output_type": "execute_result"
    }
   ],
   "source": [
    " # Manipulating Data in data frame\n",
    "\n",
    "# reset the index, will give the index as well as extra index column\n",
    "df.reset_index()"
   ]
  },
  {
   "cell_type": "code",
   "execution_count": 135,
   "id": "431aed82-25a3-4af2-bda4-75859eb67de5",
   "metadata": {},
   "outputs": [
    {
     "data": {
      "text/html": [
       "<div>\n",
       "<style scoped>\n",
       "    .dataframe tbody tr th:only-of-type {\n",
       "        vertical-align: middle;\n",
       "    }\n",
       "\n",
       "    .dataframe tbody tr th {\n",
       "        vertical-align: top;\n",
       "    }\n",
       "\n",
       "    .dataframe thead th {\n",
       "        text-align: right;\n",
       "    }\n",
       "</style>\n",
       "<table border=\"1\" class=\"dataframe\">\n",
       "  <thead>\n",
       "    <tr style=\"text-align: right;\">\n",
       "      <th></th>\n",
       "      <th>sl</th>\n",
       "      <th>sw</th>\n",
       "      <th>pl</th>\n",
       "      <th>pw</th>\n",
       "      <th>flower_type</th>\n",
       "    </tr>\n",
       "  </thead>\n",
       "  <tbody>\n",
       "    <tr>\n",
       "      <th>0</th>\n",
       "      <td>4.6</td>\n",
       "      <td>3.4</td>\n",
       "      <td>1.4</td>\n",
       "      <td>0.3</td>\n",
       "      <td>Iris-setosa</td>\n",
       "    </tr>\n",
       "    <tr>\n",
       "      <th>1</th>\n",
       "      <td>5.0</td>\n",
       "      <td>3.4</td>\n",
       "      <td>1.5</td>\n",
       "      <td>0.2</td>\n",
       "      <td>Iris-setosa</td>\n",
       "    </tr>\n",
       "    <tr>\n",
       "      <th>2</th>\n",
       "      <td>4.4</td>\n",
       "      <td>2.9</td>\n",
       "      <td>1.4</td>\n",
       "      <td>0.2</td>\n",
       "      <td>Iris-setosa</td>\n",
       "    </tr>\n",
       "    <tr>\n",
       "      <th>3</th>\n",
       "      <td>4.9</td>\n",
       "      <td>3.1</td>\n",
       "      <td>1.5</td>\n",
       "      <td>0.1</td>\n",
       "      <td>Iris-setosa</td>\n",
       "    </tr>\n",
       "    <tr>\n",
       "      <th>4</th>\n",
       "      <td>5.4</td>\n",
       "      <td>3.7</td>\n",
       "      <td>1.5</td>\n",
       "      <td>0.2</td>\n",
       "      <td>Iris-setosa</td>\n",
       "    </tr>\n",
       "    <tr>\n",
       "      <th>...</th>\n",
       "      <td>...</td>\n",
       "      <td>...</td>\n",
       "      <td>...</td>\n",
       "      <td>...</td>\n",
       "      <td>...</td>\n",
       "    </tr>\n",
       "    <tr>\n",
       "      <th>140</th>\n",
       "      <td>6.3</td>\n",
       "      <td>2.5</td>\n",
       "      <td>5.0</td>\n",
       "      <td>1.9</td>\n",
       "      <td>Iris-virginica</td>\n",
       "    </tr>\n",
       "    <tr>\n",
       "      <th>141</th>\n",
       "      <td>6.5</td>\n",
       "      <td>3.0</td>\n",
       "      <td>5.2</td>\n",
       "      <td>2.0</td>\n",
       "      <td>Iris-virginica</td>\n",
       "    </tr>\n",
       "    <tr>\n",
       "      <th>142</th>\n",
       "      <td>6.2</td>\n",
       "      <td>3.4</td>\n",
       "      <td>5.4</td>\n",
       "      <td>2.3</td>\n",
       "      <td>Iris-virginica</td>\n",
       "    </tr>\n",
       "    <tr>\n",
       "      <th>143</th>\n",
       "      <td>4.4</td>\n",
       "      <td>2.9</td>\n",
       "      <td>1.4</td>\n",
       "      <td>0.2</td>\n",
       "      <td>Iris-setosa</td>\n",
       "    </tr>\n",
       "    <tr>\n",
       "      <th>144</th>\n",
       "      <td>4.4</td>\n",
       "      <td>2.9</td>\n",
       "      <td>1.4</td>\n",
       "      <td>0.2</td>\n",
       "      <td>Iris-setosa</td>\n",
       "    </tr>\n",
       "  </tbody>\n",
       "</table>\n",
       "<p>145 rows × 5 columns</p>\n",
       "</div>"
      ],
      "text/plain": [
       "      sl   sw   pl   pw     flower_type\n",
       "0    4.6  3.4  1.4  0.3     Iris-setosa\n",
       "1    5.0  3.4  1.5  0.2     Iris-setosa\n",
       "2    4.4  2.9  1.4  0.2     Iris-setosa\n",
       "3    4.9  3.1  1.5  0.1     Iris-setosa\n",
       "4    5.4  3.7  1.5  0.2     Iris-setosa\n",
       "..   ...  ...  ...  ...             ...\n",
       "140  6.3  2.5  5.0  1.9  Iris-virginica\n",
       "141  6.5  3.0  5.2  2.0  Iris-virginica\n",
       "142  6.2  3.4  5.4  2.3  Iris-virginica\n",
       "143  4.4  2.9  1.4  0.2     Iris-setosa\n",
       "144  4.4  2.9  1.4  0.2     Iris-setosa\n",
       "\n",
       "[145 rows x 5 columns]"
      ]
     },
     "execution_count": 135,
     "metadata": {},
     "output_type": "execute_result"
    }
   ],
   "source": [
    "df.reset_index(drop=True) #copy"
   ]
  },
  {
   "cell_type": "code",
   "execution_count": 136,
   "id": "b62b0f4b-a9d2-472a-af0d-550ffa941cc9",
   "metadata": {},
   "outputs": [
    {
     "data": {
      "text/plain": [
       "RangeIndex(start=0, stop=145, step=1)"
      ]
     },
     "execution_count": 136,
     "metadata": {},
     "output_type": "execute_result"
    }
   ],
   "source": [
    "df.reset_index(drop=True,inplace=True) #copy\n",
    "df.index"
   ]
  },
  {
   "cell_type": "code",
   "execution_count": 138,
   "id": "115d8607-a59a-4ee3-ada2-ec8ade880e8b",
   "metadata": {},
   "outputs": [],
   "source": [
    "# add row\n",
    "# axis=1 means column\n",
    "df.drop('sl',axis=1,inplace=True)"
   ]
  },
  {
   "cell_type": "code",
   "execution_count": 139,
   "id": "044d7629-aaf5-4370-bc71-6e0cac0053a8",
   "metadata": {},
   "outputs": [
    {
     "data": {
      "text/html": [
       "<div>\n",
       "<style scoped>\n",
       "    .dataframe tbody tr th:only-of-type {\n",
       "        vertical-align: middle;\n",
       "    }\n",
       "\n",
       "    .dataframe tbody tr th {\n",
       "        vertical-align: top;\n",
       "    }\n",
       "\n",
       "    .dataframe thead th {\n",
       "        text-align: right;\n",
       "    }\n",
       "</style>\n",
       "<table border=\"1\" class=\"dataframe\">\n",
       "  <thead>\n",
       "    <tr style=\"text-align: right;\">\n",
       "      <th></th>\n",
       "      <th>sw</th>\n",
       "      <th>pl</th>\n",
       "      <th>pw</th>\n",
       "    </tr>\n",
       "  </thead>\n",
       "  <tbody>\n",
       "    <tr>\n",
       "      <th>count</th>\n",
       "      <td>145.000000</td>\n",
       "      <td>145.000000</td>\n",
       "      <td>145.000000</td>\n",
       "    </tr>\n",
       "    <tr>\n",
       "      <th>mean</th>\n",
       "      <td>3.038621</td>\n",
       "      <td>3.812414</td>\n",
       "      <td>1.220690</td>\n",
       "    </tr>\n",
       "    <tr>\n",
       "      <th>std</th>\n",
       "      <td>0.431275</td>\n",
       "      <td>1.749400</td>\n",
       "      <td>0.757912</td>\n",
       "    </tr>\n",
       "    <tr>\n",
       "      <th>min</th>\n",
       "      <td>2.000000</td>\n",
       "      <td>1.000000</td>\n",
       "      <td>0.100000</td>\n",
       "    </tr>\n",
       "    <tr>\n",
       "      <th>25%</th>\n",
       "      <td>2.800000</td>\n",
       "      <td>1.600000</td>\n",
       "      <td>0.300000</td>\n",
       "    </tr>\n",
       "    <tr>\n",
       "      <th>50%</th>\n",
       "      <td>3.000000</td>\n",
       "      <td>4.400000</td>\n",
       "      <td>1.300000</td>\n",
       "    </tr>\n",
       "    <tr>\n",
       "      <th>75%</th>\n",
       "      <td>3.300000</td>\n",
       "      <td>5.100000</td>\n",
       "      <td>1.800000</td>\n",
       "    </tr>\n",
       "    <tr>\n",
       "      <th>max</th>\n",
       "      <td>4.400000</td>\n",
       "      <td>6.900000</td>\n",
       "      <td>2.500000</td>\n",
       "    </tr>\n",
       "  </tbody>\n",
       "</table>\n",
       "</div>"
      ],
      "text/plain": [
       "               sw          pl          pw\n",
       "count  145.000000  145.000000  145.000000\n",
       "mean     3.038621    3.812414    1.220690\n",
       "std      0.431275    1.749400    0.757912\n",
       "min      2.000000    1.000000    0.100000\n",
       "25%      2.800000    1.600000    0.300000\n",
       "50%      3.000000    4.400000    1.300000\n",
       "75%      3.300000    5.100000    1.800000\n",
       "max      4.400000    6.900000    2.500000"
      ]
     },
     "execution_count": 139,
     "metadata": {},
     "output_type": "execute_result"
    }
   ],
   "source": [
    "df.describe()"
   ]
  },
  {
   "cell_type": "code",
   "execution_count": 140,
   "id": "9459b402-185b-4e12-8b7a-33d6a6c7e0f6",
   "metadata": {},
   "outputs": [],
   "source": [
    "del df['sw']"
   ]
  },
  {
   "cell_type": "code",
   "execution_count": 141,
   "id": "53dbfc5f-00f7-4ed7-ba56-9f1bc01959e4",
   "metadata": {},
   "outputs": [
    {
     "data": {
      "text/html": [
       "<div>\n",
       "<style scoped>\n",
       "    .dataframe tbody tr th:only-of-type {\n",
       "        vertical-align: middle;\n",
       "    }\n",
       "\n",
       "    .dataframe tbody tr th {\n",
       "        vertical-align: top;\n",
       "    }\n",
       "\n",
       "    .dataframe thead th {\n",
       "        text-align: right;\n",
       "    }\n",
       "</style>\n",
       "<table border=\"1\" class=\"dataframe\">\n",
       "  <thead>\n",
       "    <tr style=\"text-align: right;\">\n",
       "      <th></th>\n",
       "      <th>pl</th>\n",
       "      <th>pw</th>\n",
       "      <th>flower_type</th>\n",
       "    </tr>\n",
       "  </thead>\n",
       "  <tbody>\n",
       "    <tr>\n",
       "      <th>0</th>\n",
       "      <td>1.4</td>\n",
       "      <td>0.3</td>\n",
       "      <td>Iris-setosa</td>\n",
       "    </tr>\n",
       "    <tr>\n",
       "      <th>1</th>\n",
       "      <td>1.5</td>\n",
       "      <td>0.2</td>\n",
       "      <td>Iris-setosa</td>\n",
       "    </tr>\n",
       "    <tr>\n",
       "      <th>2</th>\n",
       "      <td>1.4</td>\n",
       "      <td>0.2</td>\n",
       "      <td>Iris-setosa</td>\n",
       "    </tr>\n",
       "    <tr>\n",
       "      <th>3</th>\n",
       "      <td>1.5</td>\n",
       "      <td>0.1</td>\n",
       "      <td>Iris-setosa</td>\n",
       "    </tr>\n",
       "    <tr>\n",
       "      <th>4</th>\n",
       "      <td>1.5</td>\n",
       "      <td>0.2</td>\n",
       "      <td>Iris-setosa</td>\n",
       "    </tr>\n",
       "  </tbody>\n",
       "</table>\n",
       "</div>"
      ],
      "text/plain": [
       "    pl   pw  flower_type\n",
       "0  1.4  0.3  Iris-setosa\n",
       "1  1.5  0.2  Iris-setosa\n",
       "2  1.4  0.2  Iris-setosa\n",
       "3  1.5  0.1  Iris-setosa\n",
       "4  1.5  0.2  Iris-setosa"
      ]
     },
     "execution_count": 141,
     "metadata": {},
     "output_type": "execute_result"
    }
   ],
   "source": [
    "df.head()"
   ]
  },
  {
   "cell_type": "code",
   "execution_count": 176,
   "id": "32c04c31-9dae-44f2-abb2-062641bc8a6b",
   "metadata": {},
   "outputs": [],
   "source": [
    "df= data.copy()\n",
    "df.columns=['sl','sw','pl','pw','flower_type']"
   ]
  },
  {
   "cell_type": "code",
   "execution_count": 177,
   "id": "8371003d-f7ad-40b6-b909-c048c2797502",
   "metadata": {},
   "outputs": [
    {
     "data": {
      "text/html": [
       "<div>\n",
       "<style scoped>\n",
       "    .dataframe tbody tr th:only-of-type {\n",
       "        vertical-align: middle;\n",
       "    }\n",
       "\n",
       "    .dataframe tbody tr th {\n",
       "        vertical-align: top;\n",
       "    }\n",
       "\n",
       "    .dataframe thead th {\n",
       "        text-align: right;\n",
       "    }\n",
       "</style>\n",
       "<table border=\"1\" class=\"dataframe\">\n",
       "  <thead>\n",
       "    <tr style=\"text-align: right;\">\n",
       "      <th></th>\n",
       "      <th>sl</th>\n",
       "      <th>sw</th>\n",
       "      <th>pl</th>\n",
       "      <th>pw</th>\n",
       "      <th>flower_type</th>\n",
       "    </tr>\n",
       "  </thead>\n",
       "  <tbody>\n",
       "    <tr>\n",
       "      <th>0</th>\n",
       "      <td>4.9</td>\n",
       "      <td>3.0</td>\n",
       "      <td>1.4</td>\n",
       "      <td>0.2</td>\n",
       "      <td>Iris-setosa</td>\n",
       "    </tr>\n",
       "    <tr>\n",
       "      <th>1</th>\n",
       "      <td>4.7</td>\n",
       "      <td>3.2</td>\n",
       "      <td>1.3</td>\n",
       "      <td>0.2</td>\n",
       "      <td>Iris-setosa</td>\n",
       "    </tr>\n",
       "    <tr>\n",
       "      <th>2</th>\n",
       "      <td>4.6</td>\n",
       "      <td>3.1</td>\n",
       "      <td>1.5</td>\n",
       "      <td>0.2</td>\n",
       "      <td>Iris-setosa</td>\n",
       "    </tr>\n",
       "    <tr>\n",
       "      <th>3</th>\n",
       "      <td>5.0</td>\n",
       "      <td>3.6</td>\n",
       "      <td>1.4</td>\n",
       "      <td>0.2</td>\n",
       "      <td>Iris-setosa</td>\n",
       "    </tr>\n",
       "    <tr>\n",
       "      <th>4</th>\n",
       "      <td>5.4</td>\n",
       "      <td>3.9</td>\n",
       "      <td>1.7</td>\n",
       "      <td>0.4</td>\n",
       "      <td>Iris-setosa</td>\n",
       "    </tr>\n",
       "  </tbody>\n",
       "</table>\n",
       "</div>"
      ],
      "text/plain": [
       "    sl   sw   pl   pw  flower_type\n",
       "0  4.9  3.0  1.4  0.2  Iris-setosa\n",
       "1  4.7  3.2  1.3  0.2  Iris-setosa\n",
       "2  4.6  3.1  1.5  0.2  Iris-setosa\n",
       "3  5.0  3.6  1.4  0.2  Iris-setosa\n",
       "4  5.4  3.9  1.7  0.4  Iris-setosa"
      ]
     },
     "execution_count": 177,
     "metadata": {},
     "output_type": "execute_result"
    }
   ],
   "source": [
    "df.head()"
   ]
  },
  {
   "cell_type": "code",
   "execution_count": 178,
   "id": "f48caf37-666d-4032-80a5-f2ca09244bc0",
   "metadata": {},
   "outputs": [],
   "source": [
    "# new columns\n",
    "# pl-pw\n",
    "df[\"diff_pl_pw\"]= df[\"pl\"]-df[\"pw\"]"
   ]
  },
  {
   "cell_type": "code",
   "execution_count": 179,
   "id": "06bd377a-14cc-482a-a43e-8b4b60b8636a",
   "metadata": {},
   "outputs": [
    {
     "data": {
      "text/html": [
       "<div>\n",
       "<style scoped>\n",
       "    .dataframe tbody tr th:only-of-type {\n",
       "        vertical-align: middle;\n",
       "    }\n",
       "\n",
       "    .dataframe tbody tr th {\n",
       "        vertical-align: top;\n",
       "    }\n",
       "\n",
       "    .dataframe thead th {\n",
       "        text-align: right;\n",
       "    }\n",
       "</style>\n",
       "<table border=\"1\" class=\"dataframe\">\n",
       "  <thead>\n",
       "    <tr style=\"text-align: right;\">\n",
       "      <th></th>\n",
       "      <th>sl</th>\n",
       "      <th>sw</th>\n",
       "      <th>pl</th>\n",
       "      <th>pw</th>\n",
       "      <th>flower_type</th>\n",
       "      <th>diff_pl_pw</th>\n",
       "    </tr>\n",
       "  </thead>\n",
       "  <tbody>\n",
       "    <tr>\n",
       "      <th>0</th>\n",
       "      <td>4.9</td>\n",
       "      <td>3.0</td>\n",
       "      <td>1.4</td>\n",
       "      <td>0.2</td>\n",
       "      <td>Iris-setosa</td>\n",
       "      <td>1.2</td>\n",
       "    </tr>\n",
       "    <tr>\n",
       "      <th>1</th>\n",
       "      <td>4.7</td>\n",
       "      <td>3.2</td>\n",
       "      <td>1.3</td>\n",
       "      <td>0.2</td>\n",
       "      <td>Iris-setosa</td>\n",
       "      <td>1.1</td>\n",
       "    </tr>\n",
       "    <tr>\n",
       "      <th>2</th>\n",
       "      <td>4.6</td>\n",
       "      <td>3.1</td>\n",
       "      <td>1.5</td>\n",
       "      <td>0.2</td>\n",
       "      <td>Iris-setosa</td>\n",
       "      <td>1.3</td>\n",
       "    </tr>\n",
       "    <tr>\n",
       "      <th>3</th>\n",
       "      <td>5.0</td>\n",
       "      <td>3.6</td>\n",
       "      <td>1.4</td>\n",
       "      <td>0.2</td>\n",
       "      <td>Iris-setosa</td>\n",
       "      <td>1.2</td>\n",
       "    </tr>\n",
       "    <tr>\n",
       "      <th>4</th>\n",
       "      <td>5.4</td>\n",
       "      <td>3.9</td>\n",
       "      <td>1.7</td>\n",
       "      <td>0.4</td>\n",
       "      <td>Iris-setosa</td>\n",
       "      <td>1.3</td>\n",
       "    </tr>\n",
       "  </tbody>\n",
       "</table>\n",
       "</div>"
      ],
      "text/plain": [
       "    sl   sw   pl   pw  flower_type  diff_pl_pw\n",
       "0  4.9  3.0  1.4  0.2  Iris-setosa         1.2\n",
       "1  4.7  3.2  1.3  0.2  Iris-setosa         1.1\n",
       "2  4.6  3.1  1.5  0.2  Iris-setosa         1.3\n",
       "3  5.0  3.6  1.4  0.2  Iris-setosa         1.2\n",
       "4  5.4  3.9  1.7  0.4  Iris-setosa         1.3"
      ]
     },
     "execution_count": 179,
     "metadata": {},
     "output_type": "execute_result"
    }
   ],
   "source": [
    "df.head()"
   ]
  },
  {
   "cell_type": "code",
   "execution_count": 149,
   "id": "06b6e5e0-6b81-4035-b46f-2b95047dd6c3",
   "metadata": {},
   "outputs": [],
   "source": [
    "# Handling NAN keys\n",
    "# remove or fill some data\n",
    "# dropna\n",
    "# fillna\n"
   ]
  },
  {
   "cell_type": "code",
   "execution_count": 180,
   "id": "114cb39a-7756-45f7-9b8f-7b8510421829",
   "metadata": {},
   "outputs": [],
   "source": [
    "df.iloc[2:4,1:3]=np.nan"
   ]
  },
  {
   "cell_type": "code",
   "execution_count": 181,
   "id": "91212b95-eea3-4e3a-96f8-2972b7ddaf37",
   "metadata": {},
   "outputs": [
    {
     "data": {
      "text/html": [
       "<div>\n",
       "<style scoped>\n",
       "    .dataframe tbody tr th:only-of-type {\n",
       "        vertical-align: middle;\n",
       "    }\n",
       "\n",
       "    .dataframe tbody tr th {\n",
       "        vertical-align: top;\n",
       "    }\n",
       "\n",
       "    .dataframe thead th {\n",
       "        text-align: right;\n",
       "    }\n",
       "</style>\n",
       "<table border=\"1\" class=\"dataframe\">\n",
       "  <thead>\n",
       "    <tr style=\"text-align: right;\">\n",
       "      <th></th>\n",
       "      <th>sl</th>\n",
       "      <th>sw</th>\n",
       "      <th>pl</th>\n",
       "      <th>pw</th>\n",
       "      <th>flower_type</th>\n",
       "      <th>diff_pl_pw</th>\n",
       "    </tr>\n",
       "  </thead>\n",
       "  <tbody>\n",
       "    <tr>\n",
       "      <th>0</th>\n",
       "      <td>4.9</td>\n",
       "      <td>3.0</td>\n",
       "      <td>1.4</td>\n",
       "      <td>0.2</td>\n",
       "      <td>Iris-setosa</td>\n",
       "      <td>1.2</td>\n",
       "    </tr>\n",
       "    <tr>\n",
       "      <th>1</th>\n",
       "      <td>4.7</td>\n",
       "      <td>3.2</td>\n",
       "      <td>1.3</td>\n",
       "      <td>0.2</td>\n",
       "      <td>Iris-setosa</td>\n",
       "      <td>1.1</td>\n",
       "    </tr>\n",
       "    <tr>\n",
       "      <th>2</th>\n",
       "      <td>4.6</td>\n",
       "      <td>NaN</td>\n",
       "      <td>NaN</td>\n",
       "      <td>0.2</td>\n",
       "      <td>Iris-setosa</td>\n",
       "      <td>1.3</td>\n",
       "    </tr>\n",
       "    <tr>\n",
       "      <th>3</th>\n",
       "      <td>5.0</td>\n",
       "      <td>NaN</td>\n",
       "      <td>NaN</td>\n",
       "      <td>0.2</td>\n",
       "      <td>Iris-setosa</td>\n",
       "      <td>1.2</td>\n",
       "    </tr>\n",
       "    <tr>\n",
       "      <th>4</th>\n",
       "      <td>5.4</td>\n",
       "      <td>3.9</td>\n",
       "      <td>1.7</td>\n",
       "      <td>0.4</td>\n",
       "      <td>Iris-setosa</td>\n",
       "      <td>1.3</td>\n",
       "    </tr>\n",
       "  </tbody>\n",
       "</table>\n",
       "</div>"
      ],
      "text/plain": [
       "    sl   sw   pl   pw  flower_type  diff_pl_pw\n",
       "0  4.9  3.0  1.4  0.2  Iris-setosa         1.2\n",
       "1  4.7  3.2  1.3  0.2  Iris-setosa         1.1\n",
       "2  4.6  NaN  NaN  0.2  Iris-setosa         1.3\n",
       "3  5.0  NaN  NaN  0.2  Iris-setosa         1.2\n",
       "4  5.4  3.9  1.7  0.4  Iris-setosa         1.3"
      ]
     },
     "execution_count": 181,
     "metadata": {},
     "output_type": "execute_result"
    }
   ],
   "source": [
    "df.head()"
   ]
  },
  {
   "cell_type": "code",
   "execution_count": 182,
   "id": "8c8f6362-77dc-4443-985c-82fd7137a50a",
   "metadata": {},
   "outputs": [
    {
     "data": {
      "text/html": [
       "<div>\n",
       "<style scoped>\n",
       "    .dataframe tbody tr th:only-of-type {\n",
       "        vertical-align: middle;\n",
       "    }\n",
       "\n",
       "    .dataframe tbody tr th {\n",
       "        vertical-align: top;\n",
       "    }\n",
       "\n",
       "    .dataframe thead th {\n",
       "        text-align: right;\n",
       "    }\n",
       "</style>\n",
       "<table border=\"1\" class=\"dataframe\">\n",
       "  <thead>\n",
       "    <tr style=\"text-align: right;\">\n",
       "      <th></th>\n",
       "      <th>sl</th>\n",
       "      <th>sw</th>\n",
       "      <th>pl</th>\n",
       "      <th>pw</th>\n",
       "      <th>diff_pl_pw</th>\n",
       "    </tr>\n",
       "  </thead>\n",
       "  <tbody>\n",
       "    <tr>\n",
       "      <th>count</th>\n",
       "      <td>149.000000</td>\n",
       "      <td>147.000000</td>\n",
       "      <td>147.000000</td>\n",
       "      <td>149.000000</td>\n",
       "      <td>149.000000</td>\n",
       "    </tr>\n",
       "    <tr>\n",
       "      <th>mean</th>\n",
       "      <td>5.848322</td>\n",
       "      <td>3.046939</td>\n",
       "      <td>3.806122</td>\n",
       "      <td>1.205369</td>\n",
       "      <td>2.569128</td>\n",
       "    </tr>\n",
       "    <tr>\n",
       "      <th>std</th>\n",
       "      <td>0.828594</td>\n",
       "      <td>0.434048</td>\n",
       "      <td>1.750351</td>\n",
       "      <td>0.761292</td>\n",
       "      <td>1.047707</td>\n",
       "    </tr>\n",
       "    <tr>\n",
       "      <th>min</th>\n",
       "      <td>4.300000</td>\n",
       "      <td>2.000000</td>\n",
       "      <td>1.000000</td>\n",
       "      <td>0.100000</td>\n",
       "      <td>0.800000</td>\n",
       "    </tr>\n",
       "    <tr>\n",
       "      <th>25%</th>\n",
       "      <td>5.100000</td>\n",
       "      <td>2.800000</td>\n",
       "      <td>1.600000</td>\n",
       "      <td>0.300000</td>\n",
       "      <td>1.400000</td>\n",
       "    </tr>\n",
       "    <tr>\n",
       "      <th>50%</th>\n",
       "      <td>5.800000</td>\n",
       "      <td>3.000000</td>\n",
       "      <td>4.400000</td>\n",
       "      <td>1.300000</td>\n",
       "      <td>2.900000</td>\n",
       "    </tr>\n",
       "    <tr>\n",
       "      <th>75%</th>\n",
       "      <td>6.400000</td>\n",
       "      <td>3.300000</td>\n",
       "      <td>5.100000</td>\n",
       "      <td>1.800000</td>\n",
       "      <td>3.300000</td>\n",
       "    </tr>\n",
       "    <tr>\n",
       "      <th>max</th>\n",
       "      <td>7.900000</td>\n",
       "      <td>4.400000</td>\n",
       "      <td>6.900000</td>\n",
       "      <td>2.500000</td>\n",
       "      <td>4.700000</td>\n",
       "    </tr>\n",
       "  </tbody>\n",
       "</table>\n",
       "</div>"
      ],
      "text/plain": [
       "               sl          sw          pl          pw  diff_pl_pw\n",
       "count  149.000000  147.000000  147.000000  149.000000  149.000000\n",
       "mean     5.848322    3.046939    3.806122    1.205369    2.569128\n",
       "std      0.828594    0.434048    1.750351    0.761292    1.047707\n",
       "min      4.300000    2.000000    1.000000    0.100000    0.800000\n",
       "25%      5.100000    2.800000    1.600000    0.300000    1.400000\n",
       "50%      5.800000    3.000000    4.400000    1.300000    2.900000\n",
       "75%      6.400000    3.300000    5.100000    1.800000    3.300000\n",
       "max      7.900000    4.400000    6.900000    2.500000    4.700000"
      ]
     },
     "execution_count": 182,
     "metadata": {},
     "output_type": "execute_result"
    }
   ],
   "source": [
    "df.describe()"
   ]
  },
  {
   "cell_type": "code",
   "execution_count": 183,
   "id": "4239a9bd-c5e0-4812-b269-7e2d5037eb97",
   "metadata": {},
   "outputs": [],
   "source": [
    "df.dropna(inplace=True)\n",
    "df.reset_index(drop=True,inplace=True)"
   ]
  },
  {
   "cell_type": "code",
   "execution_count": 184,
   "id": "a2ef21fc-7120-48b3-9853-70a82a5de85a",
   "metadata": {},
   "outputs": [
    {
     "data": {
      "text/html": [
       "<div>\n",
       "<style scoped>\n",
       "    .dataframe tbody tr th:only-of-type {\n",
       "        vertical-align: middle;\n",
       "    }\n",
       "\n",
       "    .dataframe tbody tr th {\n",
       "        vertical-align: top;\n",
       "    }\n",
       "\n",
       "    .dataframe thead th {\n",
       "        text-align: right;\n",
       "    }\n",
       "</style>\n",
       "<table border=\"1\" class=\"dataframe\">\n",
       "  <thead>\n",
       "    <tr style=\"text-align: right;\">\n",
       "      <th></th>\n",
       "      <th>sl</th>\n",
       "      <th>sw</th>\n",
       "      <th>pl</th>\n",
       "      <th>pw</th>\n",
       "      <th>flower_type</th>\n",
       "      <th>diff_pl_pw</th>\n",
       "    </tr>\n",
       "  </thead>\n",
       "  <tbody>\n",
       "    <tr>\n",
       "      <th>0</th>\n",
       "      <td>4.9</td>\n",
       "      <td>3.0</td>\n",
       "      <td>1.4</td>\n",
       "      <td>0.2</td>\n",
       "      <td>Iris-setosa</td>\n",
       "      <td>1.2</td>\n",
       "    </tr>\n",
       "    <tr>\n",
       "      <th>1</th>\n",
       "      <td>4.7</td>\n",
       "      <td>3.2</td>\n",
       "      <td>1.3</td>\n",
       "      <td>0.2</td>\n",
       "      <td>Iris-setosa</td>\n",
       "      <td>1.1</td>\n",
       "    </tr>\n",
       "    <tr>\n",
       "      <th>2</th>\n",
       "      <td>5.4</td>\n",
       "      <td>3.9</td>\n",
       "      <td>1.7</td>\n",
       "      <td>0.4</td>\n",
       "      <td>Iris-setosa</td>\n",
       "      <td>1.3</td>\n",
       "    </tr>\n",
       "    <tr>\n",
       "      <th>3</th>\n",
       "      <td>4.6</td>\n",
       "      <td>3.4</td>\n",
       "      <td>1.4</td>\n",
       "      <td>0.3</td>\n",
       "      <td>Iris-setosa</td>\n",
       "      <td>1.1</td>\n",
       "    </tr>\n",
       "    <tr>\n",
       "      <th>4</th>\n",
       "      <td>5.0</td>\n",
       "      <td>3.4</td>\n",
       "      <td>1.5</td>\n",
       "      <td>0.2</td>\n",
       "      <td>Iris-setosa</td>\n",
       "      <td>1.3</td>\n",
       "    </tr>\n",
       "  </tbody>\n",
       "</table>\n",
       "</div>"
      ],
      "text/plain": [
       "    sl   sw   pl   pw  flower_type  diff_pl_pw\n",
       "0  4.9  3.0  1.4  0.2  Iris-setosa         1.2\n",
       "1  4.7  3.2  1.3  0.2  Iris-setosa         1.1\n",
       "2  5.4  3.9  1.7  0.4  Iris-setosa         1.3\n",
       "3  4.6  3.4  1.4  0.3  Iris-setosa         1.1\n",
       "4  5.0  3.4  1.5  0.2  Iris-setosa         1.3"
      ]
     },
     "execution_count": 184,
     "metadata": {},
     "output_type": "execute_result"
    }
   ],
   "source": [
    "df.head()"
   ]
  },
  {
   "cell_type": "code",
   "execution_count": 164,
   "id": "ca600857-9d30-4491-9ec3-d2ab0c8e66a0",
   "metadata": {},
   "outputs": [],
   "source": [
    "# fill nan\n",
    "# fill with mean of column\n",
    "# most couriing value\n",
    "# iris-sertosa mean and fill\n",
    "\n"
   ]
  },
  {
   "cell_type": "code",
   "execution_count": 185,
   "id": "59660388-a227-4d91-8760-b8b4bd94e103",
   "metadata": {},
   "outputs": [],
   "source": [
    "df.sw.fillna(df.sw.mean(),inplace=True)\n",
    "df.pl.fillna(df.pl.mean(),inplace=True)"
   ]
  },
  {
   "cell_type": "code",
   "execution_count": 186,
   "id": "9c870b89-24c3-4172-8ddc-bcbbb904d9d8",
   "metadata": {},
   "outputs": [
    {
     "data": {
      "text/html": [
       "<div>\n",
       "<style scoped>\n",
       "    .dataframe tbody tr th:only-of-type {\n",
       "        vertical-align: middle;\n",
       "    }\n",
       "\n",
       "    .dataframe tbody tr th {\n",
       "        vertical-align: top;\n",
       "    }\n",
       "\n",
       "    .dataframe thead th {\n",
       "        text-align: right;\n",
       "    }\n",
       "</style>\n",
       "<table border=\"1\" class=\"dataframe\">\n",
       "  <thead>\n",
       "    <tr style=\"text-align: right;\">\n",
       "      <th></th>\n",
       "      <th>sl</th>\n",
       "      <th>sw</th>\n",
       "      <th>pl</th>\n",
       "      <th>pw</th>\n",
       "      <th>flower_type</th>\n",
       "      <th>diff_pl_pw</th>\n",
       "    </tr>\n",
       "  </thead>\n",
       "  <tbody>\n",
       "    <tr>\n",
       "      <th>0</th>\n",
       "      <td>4.9</td>\n",
       "      <td>3.0</td>\n",
       "      <td>1.4</td>\n",
       "      <td>0.2</td>\n",
       "      <td>Iris-setosa</td>\n",
       "      <td>1.2</td>\n",
       "    </tr>\n",
       "    <tr>\n",
       "      <th>1</th>\n",
       "      <td>4.7</td>\n",
       "      <td>3.2</td>\n",
       "      <td>1.3</td>\n",
       "      <td>0.2</td>\n",
       "      <td>Iris-setosa</td>\n",
       "      <td>1.1</td>\n",
       "    </tr>\n",
       "    <tr>\n",
       "      <th>2</th>\n",
       "      <td>5.4</td>\n",
       "      <td>3.9</td>\n",
       "      <td>1.7</td>\n",
       "      <td>0.4</td>\n",
       "      <td>Iris-setosa</td>\n",
       "      <td>1.3</td>\n",
       "    </tr>\n",
       "    <tr>\n",
       "      <th>3</th>\n",
       "      <td>4.6</td>\n",
       "      <td>3.4</td>\n",
       "      <td>1.4</td>\n",
       "      <td>0.3</td>\n",
       "      <td>Iris-setosa</td>\n",
       "      <td>1.1</td>\n",
       "    </tr>\n",
       "    <tr>\n",
       "      <th>4</th>\n",
       "      <td>5.0</td>\n",
       "      <td>3.4</td>\n",
       "      <td>1.5</td>\n",
       "      <td>0.2</td>\n",
       "      <td>Iris-setosa</td>\n",
       "      <td>1.3</td>\n",
       "    </tr>\n",
       "  </tbody>\n",
       "</table>\n",
       "</div>"
      ],
      "text/plain": [
       "    sl   sw   pl   pw  flower_type  diff_pl_pw\n",
       "0  4.9  3.0  1.4  0.2  Iris-setosa         1.2\n",
       "1  4.7  3.2  1.3  0.2  Iris-setosa         1.1\n",
       "2  5.4  3.9  1.7  0.4  Iris-setosa         1.3\n",
       "3  4.6  3.4  1.4  0.3  Iris-setosa         1.1\n",
       "4  5.0  3.4  1.5  0.2  Iris-setosa         1.3"
      ]
     },
     "execution_count": 186,
     "metadata": {},
     "output_type": "execute_result"
    }
   ],
   "source": [
    "df.head()"
   ]
  },
  {
   "cell_type": "code",
   "execution_count": 187,
   "id": "2f5ecbae-05db-4812-862d-7e8a3c06ee66",
   "metadata": {},
   "outputs": [
    {
     "data": {
      "text/plain": [
       "1.4659574468085108"
      ]
     },
     "execution_count": 187,
     "metadata": {},
     "output_type": "execute_result"
    }
   ],
   "source": [
    "# other type\n",
    "\n",
    "a= df[df.flower_type==\"Iris-setosa\"]\n",
    "a.pl.mean()"
   ]
  },
  {
   "cell_type": "code",
   "execution_count": 188,
   "id": "d3f25ba9-3cd3-43d9-a046-6783f46cd9cb",
   "metadata": {},
   "outputs": [],
   "source": [
    "# string based data\n",
    "df[\"Gender\"]=\"Female\""
   ]
  },
  {
   "cell_type": "code",
   "execution_count": 189,
   "id": "0c16a80d-2f18-44ef-b75b-d58bfb5dce74",
   "metadata": {},
   "outputs": [
    {
     "data": {
      "text/html": [
       "<div>\n",
       "<style scoped>\n",
       "    .dataframe tbody tr th:only-of-type {\n",
       "        vertical-align: middle;\n",
       "    }\n",
       "\n",
       "    .dataframe tbody tr th {\n",
       "        vertical-align: top;\n",
       "    }\n",
       "\n",
       "    .dataframe thead th {\n",
       "        text-align: right;\n",
       "    }\n",
       "</style>\n",
       "<table border=\"1\" class=\"dataframe\">\n",
       "  <thead>\n",
       "    <tr style=\"text-align: right;\">\n",
       "      <th></th>\n",
       "      <th>sl</th>\n",
       "      <th>sw</th>\n",
       "      <th>pl</th>\n",
       "      <th>pw</th>\n",
       "      <th>flower_type</th>\n",
       "      <th>diff_pl_pw</th>\n",
       "      <th>Gender</th>\n",
       "    </tr>\n",
       "  </thead>\n",
       "  <tbody>\n",
       "    <tr>\n",
       "      <th>0</th>\n",
       "      <td>4.9</td>\n",
       "      <td>3.0</td>\n",
       "      <td>1.4</td>\n",
       "      <td>0.2</td>\n",
       "      <td>Iris-setosa</td>\n",
       "      <td>1.2</td>\n",
       "      <td>Female</td>\n",
       "    </tr>\n",
       "    <tr>\n",
       "      <th>1</th>\n",
       "      <td>4.7</td>\n",
       "      <td>3.2</td>\n",
       "      <td>1.3</td>\n",
       "      <td>0.2</td>\n",
       "      <td>Iris-setosa</td>\n",
       "      <td>1.1</td>\n",
       "      <td>Female</td>\n",
       "    </tr>\n",
       "    <tr>\n",
       "      <th>2</th>\n",
       "      <td>5.4</td>\n",
       "      <td>3.9</td>\n",
       "      <td>1.7</td>\n",
       "      <td>0.4</td>\n",
       "      <td>Iris-setosa</td>\n",
       "      <td>1.3</td>\n",
       "      <td>Female</td>\n",
       "    </tr>\n",
       "    <tr>\n",
       "      <th>3</th>\n",
       "      <td>4.6</td>\n",
       "      <td>3.4</td>\n",
       "      <td>1.4</td>\n",
       "      <td>0.3</td>\n",
       "      <td>Iris-setosa</td>\n",
       "      <td>1.1</td>\n",
       "      <td>Female</td>\n",
       "    </tr>\n",
       "    <tr>\n",
       "      <th>4</th>\n",
       "      <td>5.0</td>\n",
       "      <td>3.4</td>\n",
       "      <td>1.5</td>\n",
       "      <td>0.2</td>\n",
       "      <td>Iris-setosa</td>\n",
       "      <td>1.3</td>\n",
       "      <td>Female</td>\n",
       "    </tr>\n",
       "    <tr>\n",
       "      <th>...</th>\n",
       "      <td>...</td>\n",
       "      <td>...</td>\n",
       "      <td>...</td>\n",
       "      <td>...</td>\n",
       "      <td>...</td>\n",
       "      <td>...</td>\n",
       "      <td>...</td>\n",
       "    </tr>\n",
       "    <tr>\n",
       "      <th>142</th>\n",
       "      <td>6.7</td>\n",
       "      <td>3.0</td>\n",
       "      <td>5.2</td>\n",
       "      <td>2.3</td>\n",
       "      <td>Iris-virginica</td>\n",
       "      <td>2.9</td>\n",
       "      <td>Female</td>\n",
       "    </tr>\n",
       "    <tr>\n",
       "      <th>143</th>\n",
       "      <td>6.3</td>\n",
       "      <td>2.5</td>\n",
       "      <td>5.0</td>\n",
       "      <td>1.9</td>\n",
       "      <td>Iris-virginica</td>\n",
       "      <td>3.1</td>\n",
       "      <td>Female</td>\n",
       "    </tr>\n",
       "    <tr>\n",
       "      <th>144</th>\n",
       "      <td>6.5</td>\n",
       "      <td>3.0</td>\n",
       "      <td>5.2</td>\n",
       "      <td>2.0</td>\n",
       "      <td>Iris-virginica</td>\n",
       "      <td>3.2</td>\n",
       "      <td>Female</td>\n",
       "    </tr>\n",
       "    <tr>\n",
       "      <th>145</th>\n",
       "      <td>6.2</td>\n",
       "      <td>3.4</td>\n",
       "      <td>5.4</td>\n",
       "      <td>2.3</td>\n",
       "      <td>Iris-virginica</td>\n",
       "      <td>3.1</td>\n",
       "      <td>Female</td>\n",
       "    </tr>\n",
       "    <tr>\n",
       "      <th>146</th>\n",
       "      <td>5.9</td>\n",
       "      <td>3.0</td>\n",
       "      <td>5.1</td>\n",
       "      <td>1.8</td>\n",
       "      <td>Iris-virginica</td>\n",
       "      <td>3.3</td>\n",
       "      <td>Female</td>\n",
       "    </tr>\n",
       "  </tbody>\n",
       "</table>\n",
       "<p>147 rows × 7 columns</p>\n",
       "</div>"
      ],
      "text/plain": [
       "      sl   sw   pl   pw     flower_type  diff_pl_pw  Gender\n",
       "0    4.9  3.0  1.4  0.2     Iris-setosa         1.2  Female\n",
       "1    4.7  3.2  1.3  0.2     Iris-setosa         1.1  Female\n",
       "2    5.4  3.9  1.7  0.4     Iris-setosa         1.3  Female\n",
       "3    4.6  3.4  1.4  0.3     Iris-setosa         1.1  Female\n",
       "4    5.0  3.4  1.5  0.2     Iris-setosa         1.3  Female\n",
       "..   ...  ...  ...  ...             ...         ...     ...\n",
       "142  6.7  3.0  5.2  2.3  Iris-virginica         2.9  Female\n",
       "143  6.3  2.5  5.0  1.9  Iris-virginica         3.1  Female\n",
       "144  6.5  3.0  5.2  2.0  Iris-virginica         3.2  Female\n",
       "145  6.2  3.4  5.4  2.3  Iris-virginica         3.1  Female\n",
       "146  5.9  3.0  5.1  1.8  Iris-virginica         3.3  Female\n",
       "\n",
       "[147 rows x 7 columns]"
      ]
     },
     "execution_count": 189,
     "metadata": {},
     "output_type": "execute_result"
    }
   ],
   "source": [
    "df"
   ]
  },
  {
   "cell_type": "code",
   "execution_count": 190,
   "id": "9007c129-6b9a-4ae1-b5cb-4672d732b1e5",
   "metadata": {},
   "outputs": [],
   "source": [
    "df.iloc[0:10,6]=\"Male\""
   ]
  },
  {
   "cell_type": "code",
   "execution_count": 191,
   "id": "742ade2f-9167-49e0-9314-e95b61b6542c",
   "metadata": {},
   "outputs": [
    {
     "data": {
      "text/html": [
       "<div>\n",
       "<style scoped>\n",
       "    .dataframe tbody tr th:only-of-type {\n",
       "        vertical-align: middle;\n",
       "    }\n",
       "\n",
       "    .dataframe tbody tr th {\n",
       "        vertical-align: top;\n",
       "    }\n",
       "\n",
       "    .dataframe thead th {\n",
       "        text-align: right;\n",
       "    }\n",
       "</style>\n",
       "<table border=\"1\" class=\"dataframe\">\n",
       "  <thead>\n",
       "    <tr style=\"text-align: right;\">\n",
       "      <th></th>\n",
       "      <th>sl</th>\n",
       "      <th>sw</th>\n",
       "      <th>pl</th>\n",
       "      <th>pw</th>\n",
       "      <th>flower_type</th>\n",
       "      <th>diff_pl_pw</th>\n",
       "      <th>Gender</th>\n",
       "    </tr>\n",
       "  </thead>\n",
       "  <tbody>\n",
       "    <tr>\n",
       "      <th>0</th>\n",
       "      <td>4.9</td>\n",
       "      <td>3.0</td>\n",
       "      <td>1.4</td>\n",
       "      <td>0.2</td>\n",
       "      <td>Iris-setosa</td>\n",
       "      <td>1.2</td>\n",
       "      <td>Male</td>\n",
       "    </tr>\n",
       "    <tr>\n",
       "      <th>1</th>\n",
       "      <td>4.7</td>\n",
       "      <td>3.2</td>\n",
       "      <td>1.3</td>\n",
       "      <td>0.2</td>\n",
       "      <td>Iris-setosa</td>\n",
       "      <td>1.1</td>\n",
       "      <td>Male</td>\n",
       "    </tr>\n",
       "    <tr>\n",
       "      <th>2</th>\n",
       "      <td>5.4</td>\n",
       "      <td>3.9</td>\n",
       "      <td>1.7</td>\n",
       "      <td>0.4</td>\n",
       "      <td>Iris-setosa</td>\n",
       "      <td>1.3</td>\n",
       "      <td>Male</td>\n",
       "    </tr>\n",
       "    <tr>\n",
       "      <th>3</th>\n",
       "      <td>4.6</td>\n",
       "      <td>3.4</td>\n",
       "      <td>1.4</td>\n",
       "      <td>0.3</td>\n",
       "      <td>Iris-setosa</td>\n",
       "      <td>1.1</td>\n",
       "      <td>Male</td>\n",
       "    </tr>\n",
       "    <tr>\n",
       "      <th>4</th>\n",
       "      <td>5.0</td>\n",
       "      <td>3.4</td>\n",
       "      <td>1.5</td>\n",
       "      <td>0.2</td>\n",
       "      <td>Iris-setosa</td>\n",
       "      <td>1.3</td>\n",
       "      <td>Male</td>\n",
       "    </tr>\n",
       "    <tr>\n",
       "      <th>...</th>\n",
       "      <td>...</td>\n",
       "      <td>...</td>\n",
       "      <td>...</td>\n",
       "      <td>...</td>\n",
       "      <td>...</td>\n",
       "      <td>...</td>\n",
       "      <td>...</td>\n",
       "    </tr>\n",
       "    <tr>\n",
       "      <th>142</th>\n",
       "      <td>6.7</td>\n",
       "      <td>3.0</td>\n",
       "      <td>5.2</td>\n",
       "      <td>2.3</td>\n",
       "      <td>Iris-virginica</td>\n",
       "      <td>2.9</td>\n",
       "      <td>Female</td>\n",
       "    </tr>\n",
       "    <tr>\n",
       "      <th>143</th>\n",
       "      <td>6.3</td>\n",
       "      <td>2.5</td>\n",
       "      <td>5.0</td>\n",
       "      <td>1.9</td>\n",
       "      <td>Iris-virginica</td>\n",
       "      <td>3.1</td>\n",
       "      <td>Female</td>\n",
       "    </tr>\n",
       "    <tr>\n",
       "      <th>144</th>\n",
       "      <td>6.5</td>\n",
       "      <td>3.0</td>\n",
       "      <td>5.2</td>\n",
       "      <td>2.0</td>\n",
       "      <td>Iris-virginica</td>\n",
       "      <td>3.2</td>\n",
       "      <td>Female</td>\n",
       "    </tr>\n",
       "    <tr>\n",
       "      <th>145</th>\n",
       "      <td>6.2</td>\n",
       "      <td>3.4</td>\n",
       "      <td>5.4</td>\n",
       "      <td>2.3</td>\n",
       "      <td>Iris-virginica</td>\n",
       "      <td>3.1</td>\n",
       "      <td>Female</td>\n",
       "    </tr>\n",
       "    <tr>\n",
       "      <th>146</th>\n",
       "      <td>5.9</td>\n",
       "      <td>3.0</td>\n",
       "      <td>5.1</td>\n",
       "      <td>1.8</td>\n",
       "      <td>Iris-virginica</td>\n",
       "      <td>3.3</td>\n",
       "      <td>Female</td>\n",
       "    </tr>\n",
       "  </tbody>\n",
       "</table>\n",
       "<p>147 rows × 7 columns</p>\n",
       "</div>"
      ],
      "text/plain": [
       "      sl   sw   pl   pw     flower_type  diff_pl_pw  Gender\n",
       "0    4.9  3.0  1.4  0.2     Iris-setosa         1.2    Male\n",
       "1    4.7  3.2  1.3  0.2     Iris-setosa         1.1    Male\n",
       "2    5.4  3.9  1.7  0.4     Iris-setosa         1.3    Male\n",
       "3    4.6  3.4  1.4  0.3     Iris-setosa         1.1    Male\n",
       "4    5.0  3.4  1.5  0.2     Iris-setosa         1.3    Male\n",
       "..   ...  ...  ...  ...             ...         ...     ...\n",
       "142  6.7  3.0  5.2  2.3  Iris-virginica         2.9  Female\n",
       "143  6.3  2.5  5.0  1.9  Iris-virginica         3.1  Female\n",
       "144  6.5  3.0  5.2  2.0  Iris-virginica         3.2  Female\n",
       "145  6.2  3.4  5.4  2.3  Iris-virginica         3.1  Female\n",
       "146  5.9  3.0  5.1  1.8  Iris-virginica         3.3  Female\n",
       "\n",
       "[147 rows x 7 columns]"
      ]
     },
     "execution_count": 191,
     "metadata": {},
     "output_type": "execute_result"
    }
   ],
   "source": [
    "df "
   ]
  },
  {
   "cell_type": "code",
   "execution_count": 194,
   "id": "ffb9d54b-8520-40f0-b7c5-039667bec41b",
   "metadata": {},
   "outputs": [
    {
     "data": {
      "text/html": [
       "<div>\n",
       "<style scoped>\n",
       "    .dataframe tbody tr th:only-of-type {\n",
       "        vertical-align: middle;\n",
       "    }\n",
       "\n",
       "    .dataframe tbody tr th {\n",
       "        vertical-align: top;\n",
       "    }\n",
       "\n",
       "    .dataframe thead th {\n",
       "        text-align: right;\n",
       "    }\n",
       "</style>\n",
       "<table border=\"1\" class=\"dataframe\">\n",
       "  <thead>\n",
       "    <tr style=\"text-align: right;\">\n",
       "      <th></th>\n",
       "      <th>sl</th>\n",
       "      <th>sw</th>\n",
       "      <th>pl</th>\n",
       "      <th>pw</th>\n",
       "      <th>flower_type</th>\n",
       "      <th>diff_pl_pw</th>\n",
       "      <th>sex</th>\n",
       "    </tr>\n",
       "  </thead>\n",
       "  <tbody>\n",
       "    <tr>\n",
       "      <th>142</th>\n",
       "      <td>6.7</td>\n",
       "      <td>3.0</td>\n",
       "      <td>5.2</td>\n",
       "      <td>2.3</td>\n",
       "      <td>Iris-virginica</td>\n",
       "      <td>2.9</td>\n",
       "      <td>1</td>\n",
       "    </tr>\n",
       "    <tr>\n",
       "      <th>143</th>\n",
       "      <td>6.3</td>\n",
       "      <td>2.5</td>\n",
       "      <td>5.0</td>\n",
       "      <td>1.9</td>\n",
       "      <td>Iris-virginica</td>\n",
       "      <td>3.1</td>\n",
       "      <td>1</td>\n",
       "    </tr>\n",
       "    <tr>\n",
       "      <th>144</th>\n",
       "      <td>6.5</td>\n",
       "      <td>3.0</td>\n",
       "      <td>5.2</td>\n",
       "      <td>2.0</td>\n",
       "      <td>Iris-virginica</td>\n",
       "      <td>3.2</td>\n",
       "      <td>1</td>\n",
       "    </tr>\n",
       "    <tr>\n",
       "      <th>145</th>\n",
       "      <td>6.2</td>\n",
       "      <td>3.4</td>\n",
       "      <td>5.4</td>\n",
       "      <td>2.3</td>\n",
       "      <td>Iris-virginica</td>\n",
       "      <td>3.1</td>\n",
       "      <td>1</td>\n",
       "    </tr>\n",
       "    <tr>\n",
       "      <th>146</th>\n",
       "      <td>5.9</td>\n",
       "      <td>3.0</td>\n",
       "      <td>5.1</td>\n",
       "      <td>1.8</td>\n",
       "      <td>Iris-virginica</td>\n",
       "      <td>3.3</td>\n",
       "      <td>1</td>\n",
       "    </tr>\n",
       "  </tbody>\n",
       "</table>\n",
       "</div>"
      ],
      "text/plain": [
       "      sl   sw   pl   pw     flower_type  diff_pl_pw  sex\n",
       "142  6.7  3.0  5.2  2.3  Iris-virginica         2.9    1\n",
       "143  6.3  2.5  5.0  1.9  Iris-virginica         3.1    1\n",
       "144  6.5  3.0  5.2  2.0  Iris-virginica         3.2    1\n",
       "145  6.2  3.4  5.4  2.3  Iris-virginica         3.1    1\n",
       "146  5.9  3.0  5.1  1.8  Iris-virginica         3.3    1"
      ]
     },
     "execution_count": 194,
     "metadata": {},
     "output_type": "execute_result"
    }
   ],
   "source": [
    "# 0,1\n",
    "def f(s):\n",
    "    if s==\"Male\":\n",
    "        return 0\n",
    "    else:\n",
    "        return 1\n",
    "\n",
    "df[\"sex\"]=df.Gender.apply(f)\n",
    "del df[\"Gender\"]\n",
    "df.tail()"
   ]
  },
  {
   "cell_type": "code",
   "execution_count": 196,
   "id": "5fa33b7f-1fd5-4c5d-9517-b934bc454a8c",
   "metadata": {},
   "outputs": [
    {
     "name": "stdout",
     "output_type": "stream",
     "text": [
      "Collecting matplotlib\n",
      "  Downloading matplotlib-3.7.2-cp311-cp311-win_amd64.whl (7.5 MB)\n",
      "                                              0.0/7.5 MB ? eta -:--:--\n",
      "                                              0.0/7.5 MB 667.8 kB/s eta 0:00:12\n",
      "                                              0.1/7.5 MB 1.1 MB/s eta 0:00:07\n",
      "     -                                        0.3/7.5 MB 1.6 MB/s eta 0:00:05\n",
      "     --                                       0.4/7.5 MB 1.7 MB/s eta 0:00:05\n",
      "     ---                                      0.6/7.5 MB 2.2 MB/s eta 0:00:04\n",
      "     ---                                      0.6/7.5 MB 2.0 MB/s eta 0:00:04\n",
      "     ----                                     0.9/7.5 MB 2.5 MB/s eta 0:00:03\n",
      "     -----                                    1.0/7.5 MB 2.5 MB/s eta 0:00:03\n",
      "     ------                                   1.1/7.5 MB 2.5 MB/s eta 0:00:03\n",
      "     -------                                  1.4/7.5 MB 2.8 MB/s eta 0:00:03\n",
      "     --------                                 1.5/7.5 MB 2.8 MB/s eta 0:00:03\n",
      "     ---------                                1.8/7.5 MB 3.0 MB/s eta 0:00:02\n",
      "     ---------                                1.8/7.5 MB 3.0 MB/s eta 0:00:02\n",
      "     ---------                                1.8/7.5 MB 3.0 MB/s eta 0:00:02\n",
      "     ----------                               2.0/7.5 MB 2.7 MB/s eta 0:00:03\n",
      "     -----------                              2.2/7.5 MB 2.8 MB/s eta 0:00:02\n",
      "     ------------                             2.3/7.5 MB 2.8 MB/s eta 0:00:02\n",
      "     -------------                            2.5/7.5 MB 2.9 MB/s eta 0:00:02\n",
      "     --------------                           2.7/7.5 MB 2.9 MB/s eta 0:00:02\n",
      "     --------------                           2.7/7.5 MB 2.9 MB/s eta 0:00:02\n",
      "     ---------------                          2.9/7.5 MB 2.9 MB/s eta 0:00:02\n",
      "     ----------------                         3.1/7.5 MB 3.0 MB/s eta 0:00:02\n",
      "     -----------------                        3.3/7.5 MB 3.0 MB/s eta 0:00:02\n",
      "     ------------------                       3.5/7.5 MB 3.0 MB/s eta 0:00:02\n",
      "     -------------------                      3.6/7.5 MB 3.1 MB/s eta 0:00:02\n",
      "     --------------------                     3.8/7.5 MB 3.1 MB/s eta 0:00:02\n",
      "     ---------------------                    4.0/7.5 MB 3.1 MB/s eta 0:00:02\n",
      "     ---------------------                    4.1/7.5 MB 3.1 MB/s eta 0:00:02\n",
      "     -----------------------                  4.3/7.5 MB 3.1 MB/s eta 0:00:02\n",
      "     -----------------------                  4.3/7.5 MB 3.1 MB/s eta 0:00:02\n",
      "     ------------------------                 4.6/7.5 MB 3.1 MB/s eta 0:00:01\n",
      "     -------------------------                4.8/7.5 MB 3.1 MB/s eta 0:00:01\n",
      "     --------------------------               5.0/7.5 MB 3.2 MB/s eta 0:00:01\n",
      "     ---------------------------              5.1/7.5 MB 3.2 MB/s eta 0:00:01\n",
      "     ----------------------------             5.3/7.5 MB 3.2 MB/s eta 0:00:01\n",
      "     -----------------------------            5.5/7.5 MB 3.2 MB/s eta 0:00:01\n",
      "     ------------------------------           5.7/7.5 MB 3.2 MB/s eta 0:00:01\n",
      "     -------------------------------          5.8/7.5 MB 3.2 MB/s eta 0:00:01\n",
      "     -------------------------------          6.0/7.5 MB 3.3 MB/s eta 0:00:01\n",
      "     --------------------------------         6.1/7.5 MB 3.3 MB/s eta 0:00:01\n",
      "     --------------------------------         6.1/7.5 MB 3.3 MB/s eta 0:00:01\n",
      "     --------------------------------         6.1/7.5 MB 3.1 MB/s eta 0:00:01\n",
      "     ---------------------------------        6.3/7.5 MB 3.1 MB/s eta 0:00:01\n",
      "     ----------------------------------       6.4/7.5 MB 3.1 MB/s eta 0:00:01\n",
      "     ----------------------------------       6.5/7.5 MB 3.1 MB/s eta 0:00:01\n",
      "     ----------------------------------       6.6/7.5 MB 3.0 MB/s eta 0:00:01\n",
      "     -----------------------------------      6.6/7.5 MB 3.0 MB/s eta 0:00:01\n",
      "     ------------------------------------     6.8/7.5 MB 3.0 MB/s eta 0:00:01\n",
      "     -------------------------------------    7.0/7.5 MB 3.0 MB/s eta 0:00:01\n",
      "     --------------------------------------   7.2/7.5 MB 3.0 MB/s eta 0:00:01\n",
      "     ---------------------------------------  7.5/7.5 MB 3.1 MB/s eta 0:00:01\n",
      "     ---------------------------------------  7.5/7.5 MB 3.1 MB/s eta 0:00:01\n",
      "     ---------------------------------------  7.5/7.5 MB 3.1 MB/s eta 0:00:01\n",
      "     ---------------------------------------  7.5/7.5 MB 3.1 MB/s eta 0:00:01\n",
      "     ---------------------------------------- 7.5/7.5 MB 2.9 MB/s eta 0:00:00\n",
      "Collecting contourpy>=1.0.1 (from matplotlib)\n",
      "  Downloading contourpy-1.1.0-cp311-cp311-win_amd64.whl (470 kB)\n",
      "                                              0.0/470.9 kB ? eta -:--:--\n",
      "     -----------                            143.4/470.9 kB 2.8 MB/s eta 0:00:01\n",
      "     ---------------------------            337.9/470.9 kB 3.5 MB/s eta 0:00:01\n",
      "     -------------------------------------  460.8/470.9 kB 3.6 MB/s eta 0:00:01\n",
      "     -------------------------------------- 470.9/470.9 kB 2.7 MB/s eta 0:00:00\n",
      "Collecting cycler>=0.10 (from matplotlib)\n",
      "  Downloading cycler-0.11.0-py3-none-any.whl (6.4 kB)\n",
      "Collecting fonttools>=4.22.0 (from matplotlib)\n",
      "  Downloading fonttools-4.41.1-cp311-cp311-win_amd64.whl (2.1 MB)\n",
      "                                              0.0/2.1 MB ? eta -:--:--\n",
      "     --                                       0.1/2.1 MB 3.3 MB/s eta 0:00:01\n",
      "     ---                                      0.2/2.1 MB 3.1 MB/s eta 0:00:01\n",
      "     ------                                   0.3/2.1 MB 2.6 MB/s eta 0:00:01\n",
      "     ------                                   0.4/2.1 MB 2.5 MB/s eta 0:00:01\n",
      "     ---------                                0.5/2.1 MB 2.2 MB/s eta 0:00:01\n",
      "     -----------                              0.6/2.1 MB 2.2 MB/s eta 0:00:01\n",
      "     ------------                             0.7/2.1 MB 2.1 MB/s eta 0:00:01\n",
      "     --------------                           0.8/2.1 MB 2.1 MB/s eta 0:00:01\n",
      "     ---------------                          0.8/2.1 MB 2.0 MB/s eta 0:00:01\n",
      "     --------------------                     1.1/2.1 MB 2.3 MB/s eta 0:00:01\n",
      "     -----------------------                  1.2/2.1 MB 2.4 MB/s eta 0:00:01\n",
      "     -------------------------                1.4/2.1 MB 2.5 MB/s eta 0:00:01\n",
      "     -------------------------                1.4/2.1 MB 2.5 MB/s eta 0:00:01\n",
      "     --------------------------               1.4/2.1 MB 2.2 MB/s eta 0:00:01\n",
      "     -------------------------------          1.6/2.1 MB 2.4 MB/s eta 0:00:01\n",
      "     ---------------------------------        1.8/2.1 MB 2.4 MB/s eta 0:00:01\n",
      "     ------------------------------------     1.9/2.1 MB 2.4 MB/s eta 0:00:01\n",
      "     -------------------------------------    2.0/2.1 MB 2.4 MB/s eta 0:00:01\n",
      "     ---------------------------------------  2.1/2.1 MB 2.4 MB/s eta 0:00:01\n",
      "     ---------------------------------------  2.1/2.1 MB 2.4 MB/s eta 0:00:01\n",
      "     ---------------------------------------- 2.1/2.1 MB 2.2 MB/s eta 0:00:00\n",
      "Collecting kiwisolver>=1.0.1 (from matplotlib)\n",
      "  Downloading kiwisolver-1.4.4-cp311-cp311-win_amd64.whl (55 kB)\n",
      "                                              0.0/55.4 kB ? eta -:--:--\n",
      "     ------------------------------------     51.2/55.4 kB 2.6 MB/s eta 0:00:01\n",
      "     -------------------------------------- 55.4/55.4 kB 960.7 kB/s eta 0:00:00\n",
      "Requirement already satisfied: numpy>=1.20 in c:\\users\\shaik ismail\\appdata\\local\\programs\\python\\python311\\lib\\site-packages (from matplotlib) (1.24.3)\n",
      "Requirement already satisfied: packaging>=20.0 in c:\\users\\shaik ismail\\appdata\\local\\programs\\python\\python311\\lib\\site-packages (from matplotlib) (23.1)\n",
      "Collecting pillow>=6.2.0 (from matplotlib)\n",
      "  Downloading Pillow-10.0.0-cp311-cp311-win_amd64.whl (2.5 MB)\n",
      "                                              0.0/2.5 MB ? eta -:--:--\n",
      "     ---                                      0.2/2.5 MB 6.1 MB/s eta 0:00:01\n",
      "     -----                                    0.4/2.5 MB 4.5 MB/s eta 0:00:01\n",
      "     ---------                                0.6/2.5 MB 4.5 MB/s eta 0:00:01\n",
      "     ----------                               0.6/2.5 MB 4.0 MB/s eta 0:00:01\n",
      "     -----------                              0.7/2.5 MB 3.1 MB/s eta 0:00:01\n",
      "     ------------                             0.8/2.5 MB 2.8 MB/s eta 0:00:01\n",
      "     -------------                            0.8/2.5 MB 2.8 MB/s eta 0:00:01\n",
      "     -------------                            0.8/2.5 MB 2.8 MB/s eta 0:00:01\n",
      "     --------------                           0.9/2.5 MB 2.1 MB/s eta 0:00:01\n",
      "     ---------------                          1.0/2.5 MB 2.2 MB/s eta 0:00:01\n",
      "     -----------------                        1.1/2.5 MB 2.2 MB/s eta 0:00:01\n",
      "     -------------------                      1.2/2.5 MB 2.4 MB/s eta 0:00:01\n",
      "     ------------------------                 1.5/2.5 MB 2.6 MB/s eta 0:00:01\n",
      "     --------------------------               1.7/2.5 MB 2.7 MB/s eta 0:00:01\n",
      "     ---------------------------              1.7/2.5 MB 2.5 MB/s eta 0:00:01\n",
      "     -------------------------------          2.0/2.5 MB 2.7 MB/s eta 0:00:01\n",
      "     ----------------------------------       2.2/2.5 MB 2.8 MB/s eta 0:00:01\n",
      "     -------------------------------------    2.4/2.5 MB 2.8 MB/s eta 0:00:01\n",
      "     -------------------------------------    2.4/2.5 MB 2.8 MB/s eta 0:00:01\n",
      "     ---------------------------------------  2.5/2.5 MB 2.8 MB/s eta 0:00:01\n",
      "     ---------------------------------------  2.5/2.5 MB 2.8 MB/s eta 0:00:01\n",
      "     ---------------------------------------- 2.5/2.5 MB 2.6 MB/s eta 0:00:00\n",
      "Collecting pyparsing<3.1,>=2.3.1 (from matplotlib)\n",
      "  Downloading pyparsing-3.0.9-py3-none-any.whl (98 kB)\n",
      "                                              0.0/98.3 kB ? eta -:--:--\n",
      "                                              0.0/98.3 kB ? eta -:--:--\n",
      "                                              0.0/98.3 kB ? eta -:--:--\n",
      "     -------------------------------------    92.2/98.3 kB 5.5 MB/s eta 0:00:01\n",
      "     ---------------------------------------- 98.3/98.3 kB 1.4 MB/s eta 0:00:00\n",
      "Requirement already satisfied: python-dateutil>=2.7 in c:\\users\\shaik ismail\\appdata\\local\\programs\\python\\python311\\lib\\site-packages (from matplotlib) (2.8.2)\n",
      "Requirement already satisfied: six>=1.5 in c:\\users\\shaik ismail\\appdata\\local\\programs\\python\\python311\\lib\\site-packages (from python-dateutil>=2.7->matplotlib) (1.16.0)\n",
      "Installing collected packages: pyparsing, pillow, kiwisolver, fonttools, cycler, contourpy, matplotlib\n",
      "Successfully installed contourpy-1.1.0 cycler-0.11.0 fonttools-4.41.1 kiwisolver-1.4.4 matplotlib-3.7.2 pillow-10.0.0 pyparsing-3.0.9\n"
     ]
    },
    {
     "name": "stderr",
     "output_type": "stream",
     "text": [
      "\n",
      "[notice] A new release of pip is available: 23.1.2 -> 23.2.1\n",
      "[notice] To update, run: python.exe -m pip install --upgrade pip\n"
     ]
    }
   ],
   "source": [
    "!pip install matplotlib"
   ]
  },
  {
   "cell_type": "code",
   "execution_count": 198,
   "id": "8e0be7e6-eaa5-4ad9-b227-de22fedac291",
   "metadata": {},
   "outputs": [],
   "source": [
    "# Plotting Graph\n",
    "# matplotlib\n",
    "# points\n",
    "# points arrached\n",
    "\n",
    "# x and y arrays both n,n\n",
    "\n",
    "import matplotlib.pyplot as plt"
   ]
  },
  {
   "cell_type": "code",
   "execution_count": 203,
   "id": "df7cc92d-af1f-4176-9dd0-513566ae523f",
   "metadata": {},
   "outputs": [
    {
     "data": {
      "image/png": "[encoded data removed]",
      "text/plain": [
       "<Figure size 640x480 with 1 Axes>"
      ]
     },
     "metadata": {},
     "output_type": "display_data"
    }
   ],
   "source": [
    "x=[1,2,3,4,5]\n",
    "y=[2,4,6,8,10]\n",
    "\n",
    "plt.scatter(x,y)\n",
    "plt.show()"
   ]
  },
  {
   "cell_type": "code",
   "execution_count": 204,
   "id": "964b147c-ef0c-46ad-aa1d-0d375ee85160",
   "metadata": {},
   "outputs": [
    {
     "data": {
      "image/png": "[encoded data removed]",
      "text/plain": [
       "<Figure size 640x480 with 1 Axes>"
      ]
     },
     "metadata": {},
     "output_type": "display_data"
    }
   ],
   "source": [
    "x=[1,2,3,4,5]\n",
    "y=[2,4,6,8,10]\n",
    "\n",
    "plt.plot(x,y) #connected the plott\n",
    "plt.show()"
   ]
  },
  {
   "cell_type": "code",
   "execution_count": 205,
   "id": "c78c0210-47b9-4d94-85eb-72f74300cd7a",
   "metadata": {},
   "outputs": [
    {
     "data": {
      "image/png": "[encoded data removed]",
      "text/plain": [
       "<Figure size 640x480 with 1 Axes>"
      ]
     },
     "metadata": {},
     "output_type": "display_data"
    }
   ],
   "source": [
    "x=[1,2,3,4,5]\n",
    "y=[2,4,6,8,10]\n",
    "\n",
    "plt.plot(x,y) #connected the plott\n",
    "plt.scatter(x,y) #connected the plott\n",
    "plt.show()"
   ]
  },
  {
   "cell_type": "code",
   "execution_count": 207,
   "id": "8a0f2b08-7b98-49bd-98ea-52d6ac96e7f1",
   "metadata": {},
   "outputs": [
    {
     "data": {
      "image/png": "[encoded data removed]",
      "text/plain": [
       "<Figure size 640x480 with 1 Axes>"
      ]
     },
     "metadata": {},
     "output_type": "display_data"
    }
   ],
   "source": [
    "x=[1,2,3,4,5]\n",
    "y=[2,4,6,8,10]\n",
    "\n",
    "x1=[-1,-2,-3,-4,-5]\n",
    "y1=[-2,-4,-6,-8,-10]\n",
    "\n",
    "plt.plot(x,y) #connected the plott\n",
    "plt.scatter(x,y) #connected the plott\n",
    "\n",
    "plt.plot(x1,y1) #connected the plott\n",
    "plt.scatter(x1,y1) #connected the plott\n",
    "plt.show()"
   ]
  },
  {
   "cell_type": "code",
   "execution_count": 209,
   "id": "deee64d3-b6be-4e0e-b320-72ca364b0fb7",
   "metadata": {},
   "outputs": [
    {
     "data": {
      "image/png": "[encoded data removed]",
      "text/plain": [
       "<Figure size 640x480 with 1 Axes>"
      ]
     },
     "metadata": {},
     "output_type": "display_data"
    }
   ],
   "source": [
    "x=[1,2,3,4,5]\n",
    "y=[2,4,6,8,10]\n",
    "\n",
    "x1=[-1,-2,-3,-4,-5]\n",
    "y1=[-2,-4,-6,-8,-10]\n",
    "\n",
    "plt.plot(x,y,\"ro\") #connected the plott\n",
    "plt.scatter(x,y) #connected the plott\n",
    "\n",
    "plt.plot(x1,y1) #connected the plott\n",
    "plt.scatter(x1,y1) #connected the plott\n",
    "plt.show()"
   ]
  },
  {
   "cell_type": "code",
   "execution_count": 210,
   "id": "c74317f5-026c-41b5-a74a-1c54aed2a776",
   "metadata": {},
   "outputs": [
    {
     "data": {
      "image/png": "[encoded data removed]",
      "text/plain": [
       "<Figure size 640x480 with 1 Axes>"
      ]
     },
     "metadata": {},
     "output_type": "display_data"
    }
   ],
   "source": [
    "x=[1,2,3,4,5]\n",
    "y=[2,4,6,8,10]\n",
    "\n",
    "x1=[-1,-2,-3,-4,-5]\n",
    "y1=[-2,-4,-6,-8,-10]\n",
    "\n",
    "plt.plot(x,y,\"r--\") #connected the plott\n",
    "plt.scatter(x,y) #connected the plott\n",
    "\n",
    "plt.plot(x1,y1) #connected the plott\n",
    "plt.scatter(x1,y1) #connected the plott\n",
    "plt.show()"
   ]
  },
  {
   "cell_type": "code",
   "execution_count": 211,
   "id": "019eb146-c2b6-4865-b989-11b06fe0836c",
   "metadata": {},
   "outputs": [
    {
     "data": {
      "image/png": "[encoded data removed]",
      "text/plain": [
       "<Figure size 640x480 with 1 Axes>"
      ]
     },
     "metadata": {},
     "output_type": "display_data"
    }
   ],
   "source": [
    "x=[1,2,3,4,5]\n",
    "y=[2,4,6,8,10]\n",
    "\n",
    "x1=[-1,-2,-3,-4,-5]\n",
    "y1=[-2,-4,-6,-8,-10]\n",
    "\n",
    "plt.plot(x,y,\"r-.\") #connected the plott\n",
    "plt.scatter(x,y) #connected the plott\n",
    "\n",
    "plt.plot(x1,y1) #connected the plott\n",
    "plt.scatter(x1,y1) #connected the plott\n",
    "plt.show()"
   ]
  },
  {
   "cell_type": "code",
   "execution_count": 213,
   "id": "60687575-dd5a-4fe7-80b8-616feb362831",
   "metadata": {},
   "outputs": [
    {
     "data": {
      "image/png": "[encoded data removed]",
      "text/plain": [
       "<Figure size 640x480 with 1 Axes>"
      ]
     },
     "metadata": {},
     "output_type": "display_data"
    }
   ],
   "source": [
    "# plot function x^3\n",
    "import numpy as np\n",
    "\n",
    "x=np.array([1,2,3,4])\n",
    "y=x**3\n",
    "plt.plot(x,y)\n",
    "plt.show()"
   ]
  },
  {
   "cell_type": "code",
   "execution_count": 218,
   "id": "39800505-675e-4f4a-a93b-0098af3ed488",
   "metadata": {},
   "outputs": [
    {
     "data": {
      "image/png": "[encoded data removed]",
      "text/plain": [
       "<Figure size 640x480 with 1 Axes>"
      ]
     },
     "metadata": {},
     "output_type": "display_data"
    }
   ],
   "source": [
    "# plot function x^3\n",
    "import numpy as np\n",
    "\n",
    "# x=np.array([1,2,3,4])\n",
    "x=np.arange(0,5,0.1)\n",
    "y=x**3\n",
    "plt.plot(x,y,\"ro\")\n",
    "plt.show()"
   ]
  },
  {
   "cell_type": "code",
   "execution_count": 216,
   "id": "d37fb1cd-3f35-42f1-aa70-f93ae30d1fb4",
   "metadata": {},
   "outputs": [
    {
     "ename": "TypeError",
     "evalue": "scatter() missing 1 required positional argument: 'y'",
     "output_type": "error",
     "traceback": [
      "\u001b[1;31m---------------------------------------------------------------------------\u001b[0m",
      "\u001b[1;31mTypeError\u001b[0m                                 Traceback (most recent call last)",
      "Cell \u001b[1;32mIn[216], line 5\u001b[0m\n\u001b[0;32m      3\u001b[0m a\u001b[38;5;241m=\u001b[39m[\u001b[38;5;241m3\u001b[39m,\u001b[38;5;241m4\u001b[39m,\u001b[38;5;241m5\u001b[39m]\n\u001b[0;32m      4\u001b[0m plt\u001b[38;5;241m.\u001b[39mplot(a) \u001b[38;5;66;03m#a treats as y and x as range(n)\u001b[39;00m\n\u001b[1;32m----> 5\u001b[0m \u001b[43mplt\u001b[49m\u001b[38;5;241;43m.\u001b[39;49m\u001b[43mscatter\u001b[49m\u001b[43m(\u001b[49m\u001b[43ma\u001b[49m\u001b[43m)\u001b[49m \u001b[38;5;66;03m#a treats as y and x as range(n)\u001b[39;00m\n\u001b[0;32m      6\u001b[0m plt\u001b[38;5;241m.\u001b[39mshow()\n",
      "\u001b[1;31mTypeError\u001b[0m: scatter() missing 1 required positional argument: 'y'"
     ]
    },
    {
     "data": {
      "image/png": "[encoded data removed]",
      "text/plain": [
       "<Figure size 640x480 with 1 Axes>"
      ]
     },
     "metadata": {},
     "output_type": "display_data"
    }
   ],
   "source": [
    "# plot function x^3\n",
    "import numpy as np\n",
    "a=[3,4,5]\n",
    "plt.plot(a) #a treats as y and x as range(n)\n",
    "plt.scatter(a) #a treats as y and x as range(n)\n",
    "plt.show()"
   ]
  },
  {
   "cell_type": "code",
   "execution_count": 219,
   "id": "3ceb0b54-6478-4531-93c6-ce03e327274c",
   "metadata": {},
   "outputs": [],
   "source": [
    "# Given two integer arrays x and y.Plot the graph between x and y\n",
    "# From thehelp of graph, determine the range of y when the value of x is 8\n",
    "\n",
    "# plot and print the rage"
   ]
  },
  {
   "cell_type": "code",
   "execution_count": 227,
   "id": "e9ed62c3-3db0-484e-9932-3a308aa87584",
   "metadata": {},
   "outputs": [
    {
     "data": {
      "image/png": "[encoded data removed]",
      "text/plain": [
       "<Figure size 640x480 with 1 Axes>"
      ]
     },
     "metadata": {},
     "output_type": "display_data"
    }
   ],
   "source": [
    "\n",
    "import matplotlib.pyplot as plt\n",
    "import numpy as np\n",
    "x=np.arange(0,10,1)\n",
    "y=np.random.randint(1,105,10)\n",
    "\n",
    "plt.grid()\n",
    "plt.plot(x,y)\n",
    "plt.show()\n",
    "\n"
   ]
  },
  {
   "cell_type": "code",
   "execution_count": 232,
   "id": "d4b105f4-4ad1-446f-91e5-22f58e40c75a",
   "metadata": {},
   "outputs": [
    {
     "data": {
      "image/png": "[encoded data removed]",
      "text/plain": [
       "<Figure size 640x480 with 1 Axes>"
      ]
     },
     "metadata": {},
     "output_type": "display_data"
    }
   ],
   "source": [
    "x= np.array([ i for i in range(2,41,2)])\n",
    "\n",
    "y= 2**x\n",
    "\n",
    "plt.plot(x,y,\"b-\")\n",
    "plt.show()"
   ]
  },
  {
   "cell_type": "code",
   "execution_count": 237,
   "id": "455d69f8-1fa5-4d4a-863e-af50c3712d01",
   "metadata": {},
   "outputs": [
    {
     "data": {
      "image/png": "[encoded data removed]",
      "text/plain": [
       "<Figure size 640x480 with 1 Axes>"
      ]
     },
     "metadata": {},
     "output_type": "display_data"
    }
   ],
   "source": [
    "# Customizing graph\n",
    "\n",
    "import numpy as np\n",
    "\n",
    "x=np.arange(0,5,0.1)\n",
    "y=x**3\n",
    "plt.plot(x,y,color=\"blue\",marker=\"p\")\n",
    "plt.show()"
   ]
  },
  {
   "cell_type": "code",
   "execution_count": 239,
   "id": "a78b9206-87d4-4715-8a66-23347df0b993",
   "metadata": {},
   "outputs": [
    {
     "data": {
      "image/png": "[encoded data removed]",
      "text/plain": [
       "<Figure size 640x480 with 1 Axes>"
      ]
     },
     "metadata": {},
     "output_type": "display_data"
    }
   ],
   "source": [
    "# Customizing graph\n",
    "\n",
    "import numpy as np\n",
    "\n",
    "x=np.arange(0,5,0.1)\n",
    "y=x**3\n",
    "plt.plot(x,y,color=\"blue\",marker=\"p\",linewidth=0.5)\n",
    "plt.show()"
   ]
  },
  {
   "cell_type": "code",
   "execution_count": null,
   "id": "acab2832-97c2-43bc-8586-074efc241905",
   "metadata": {},
   "outputs": [],
   "source": [
    "# labels, title and legend"
   ]
  }
 ],
 "metadata": {
  "kernelspec": {
   "display_name": "Python 3 (ipykernel)",
   "language": "python",
   "name": "python3"
  },
  "language_info": {
   "codemirror_mode": {
    "name": "ipython",
    "version": 3
   },
   "file_extension": ".py",
   "mimetype": "text/x-python",
   "name": "python",
   "nbconvert_exporter": "python",
   "pygments_lexer": "ipython3",
   "version": "3.11.3"
  }
 },
 "nbformat": 4,
 "nbformat_minor": 5
}
