{
 "cells": [
  {
   "cell_type": "markdown",
   "id": "581e3bdb-8e20-4275-b610-db5f95983235",
   "metadata": {},
   "source": [
    "# Advanced Python"
   ]
  },
  {
   "cell_type": "markdown",
   "id": "5424680c-ca1f-4127-b7b3-ee9e32dca0f2",
   "metadata": {},
   "source": [
    "- **OOps (Object Oriented Programming):** \n",
    "  - Paradigm for organizing and structuring code based on objects.\n",
    "  \n",
    "- **Real World Objects (e.g., Pen):**\n",
    "  - Properties: Height, color, weight, width.\n",
    "  - Behaviors: Writing, refilling.\n",
    "\n",
    "- **Every Object Has:**\n",
    "  - Properties\n",
    "  - Behavior\n",
    "\n",
    "- **Class:**\n",
    "  - Defines properties and behaviors.\n",
    "  - Serves as a blueprint for objects.\n",
    "\n",
    "- **Object:**\n",
    "  - A specific instance of a class.\n",
    "  - Represents a distinct, real-world entity.\n"
   ]
  },
  {
   "cell_type": "code",
   "execution_count": 1,
   "id": "394ee191-c1a3-4436-a747-17cedf2b4f65",
   "metadata": {},
   "outputs": [
    {
     "name": "stdout",
     "output_type": "stream",
     "text": [
      "<class 'int'>\n",
      "<class 'list'>\n"
     ]
    }
   ],
   "source": [
    "a=10\n",
    "print(type(a))\n",
    "\n",
    "l=[1,2,3,4]\n",
    "print(type(l))"
   ]
  },
  {
   "cell_type": "code",
   "execution_count": 2,
   "id": "e5523d80-91a8-4623-84cc-4812f9335145",
   "metadata": {},
   "outputs": [
    {
     "ename": "SyntaxError",
     "evalue": "incomplete input (3104358622.py, line 3)",
     "output_type": "error",
     "traceback": [
      "\u001b[1;36m  Cell \u001b[1;32mIn[2], line 3\u001b[1;36m\u001b[0m\n\u001b[1;33m    # python wont allow this\u001b[0m\n\u001b[1;37m                            ^\u001b[0m\n\u001b[1;31mSyntaxError\u001b[0m\u001b[1;31m:\u001b[0m incomplete input\n"
     ]
    }
   ],
   "source": [
    "class Student:\n",
    "\n",
    "# python wont allow this"
   ]
  },
  {
   "cell_type": "markdown",
   "id": "84188844-0f6b-46d4-b2c3-04e96eae20f5",
   "metadata": {},
   "source": [
    "## Different kinds of attributes\n",
    "\n",
    "### Instance Attributes:\n",
    "- Instance attributes are unique to each instance (object) of the class <br/>\n",
    "- They are defined inside the class's methods, typically within the __init__ method, which is the constructor for the class<br/>\n",
    "- Each instance can have different values for these attributes. <br/>\n",
    "- They represent the state of individual objects and allow each object to have its own set of data. <br/>\n",
    "- Accessing instance attributes is done using the dot notation with the object's name. <br/>\n",
    "\n",
    "### Class Attributes:\n",
    "\n",
    "- Class attributes are shared by all instances of the class.<br/>\n",
    "- They are defined directly inside the class, outside of any class method.<br/>\n",
    "- Class attributes represent characteristics that are common to all objects of the class.<br/>\n",
    "- Modifying a class attribute will affect all instances of that class.<br/>\n",
    "- Accessing class attributes can be done using either the class name or any instance of the class.<br/>\n",
    "- python can have different instance attributes for each object as per our requirements"
   ]
  },
  {
   "cell_type": "code",
   "execution_count": 9,
   "id": "7d15dba5-ca47-40cd-9f8c-0a2d2bf9da1f",
   "metadata": {},
   "outputs": [
    {
     "name": "stdout",
     "output_type": "stream",
     "text": [
      "{'name': 'Subash Chandra Bose', 'age': 23}\n",
      "{'roll_no': 101}\n",
      "{}\n"
     ]
    }
   ],
   "source": [
    "class Student:\n",
    "    # class Attributes\n",
    "    pass\n",
    "\n",
    "s1=Student()\n",
    "s2=Student()\n",
    "s3=Student()\n",
    "# in python, each object stores a dicionary for attributes and their values\n",
    "# it can be acessed by object_name.__dict__\n",
    "\n",
    "s1.name=\"Subash Chandra Bose\"\n",
    "s1.age =23\n",
    "s2.roll_no=101\n",
    "\n",
    "print(s1.__dict__)\n",
    "print(s2.__dict__)\n",
    "print(s3.__dict__)"
   ]
  },
  {
   "cell_type": "code",
   "execution_count": 10,
   "id": "9f589929-a32c-4349-b15e-48528182a0ad",
   "metadata": {},
   "outputs": [
    {
     "name": "stdout",
     "output_type": "stream",
     "text": [
      "Subash Chandra Bose\n"
     ]
    }
   ],
   "source": [
    "print(s1.name)"
   ]
  },
  {
   "cell_type": "code",
   "execution_count": 11,
   "id": "297f5dbb-187b-43f3-b689-7e82401c80e0",
   "metadata": {},
   "outputs": [
    {
     "ename": "AttributeError",
     "evalue": "'Student' object has no attribute 'name'",
     "output_type": "error",
     "traceback": [
      "\u001b[1;31m---------------------------------------------------------------------------\u001b[0m",
      "\u001b[1;31mAttributeError\u001b[0m                            Traceback (most recent call last)",
      "Cell \u001b[1;32mIn[11], line 1\u001b[0m\n\u001b[1;32m----> 1\u001b[0m \u001b[38;5;28mprint\u001b[39m(\u001b[43ms2\u001b[49m\u001b[38;5;241;43m.\u001b[39;49m\u001b[43mname\u001b[49m) \u001b[38;5;66;03m#name s1 instance variable\u001b[39;00m\n",
      "\u001b[1;31mAttributeError\u001b[0m: 'Student' object has no attribute 'name'"
     ]
    }
   ],
   "source": [
    "print(s2.name) #name s1 instance variable"
   ]
  },
  {
   "cell_type": "markdown",
   "id": "b9576141-5963-4d77-a078-e7dc31969b64",
   "metadata": {},
   "source": [
    "### Attributes and Object Manipulation\r\n",
    "\r\n",
    "In Python, attributes are properties or characteristics associated with an object. Here are some useful functions to interact with object attributes:\r\n",
    "\r\n",
    "1. `hasattr(object, \"attr\")`: This function checks if the given attribute (`attr`) exists in the specified `object`. It returns `True` if the attribute is found, and `False` otherwise.\r\n",
    "\r\n",
    "2. `setattr(object, \"attr\", value)`: This function sets the value of the attribute (`attr`) for the given `object`. If the attribute already exists, its value will be updated with the provided `value`. If the attribute does not exist, a new attribute will be created with the specified value.\r\n",
    "\r\n",
    "3. `delattr(object, \"attr\")`: This function deletes the specified attribute (`attr`) from the given `object`. If the attribute is not found, a `AttributeError` will be raised.\r\n",
    "\r\n",
    "4. `getattr(object, \"attr\", def_val)`: This function attempts to retrieve the value of the specified attribute (`attr`) from the given `object`. If the attribute exists, its value is returned. If the attribute is not found and a `def_val` (default value) is provided, the `def_val` is returned. However, if no `def_val` is provided and the attribute is not present, a `AttributeError` will be raised indicating that the attribute doesn't exist.\r\n",
    "\r\n",
    "Remember to enclose the attribute names in quotes as strings when using these functions."
   ]
  },
  {
   "cell_type": "code",
   "execution_count": 12,
   "id": "71f47a16-84a6-4ca5-9640-7060e96cf588",
   "metadata": {},
   "outputs": [
    {
     "name": "stdout",
     "output_type": "stream",
     "text": [
      "True\n",
      "Subash Chandra Bose\n"
     ]
    }
   ],
   "source": [
    "print(hasattr(s1,\"name\"))\n",
    "print(getattr(s1,\"name\",\"No name\"))\n",
    "delattr(s1,\"name\")"
   ]
  },
  {
   "cell_type": "code",
   "execution_count": 13,
   "id": "c0aa79ea-bdbf-401d-b895-78d98d065a26",
   "metadata": {},
   "outputs": [
    {
     "name": "stdout",
     "output_type": "stream",
     "text": [
      "False\n"
     ]
    }
   ],
   "source": [
    "print(hasattr(s1,\"name\"))"
   ]
  },
  {
   "cell_type": "code",
   "execution_count": 15,
   "id": "847f9b0e-0a8a-4b79-a032-8957211d65ed",
   "metadata": {},
   "outputs": [
    {
     "name": "stdout",
     "output_type": "stream",
     "text": [
      "{'name': 'Ismail Abilash', 'age': 21, 'gender': 'male'}\n"
     ]
    }
   ],
   "source": [
    "class sampleclass:\n",
    "    pass\n",
    "\n",
    "s1=sampleclass()\n",
    "setattr(s1,\"name\",\"Ismail Abilash\")\n",
    "setattr(s1,\"age\",21)\n",
    "s1.gender=\"male\"\n",
    "\n",
    "print(s1.__dict__)"
   ]
  },
  {
   "cell_type": "code",
   "execution_count": 17,
   "id": "fa230f08-f6a6-40fe-8b75-acd0ac1196d4",
   "metadata": {},
   "outputs": [
    {
     "name": "stdout",
     "output_type": "stream",
     "text": [
      "20\n",
      "{'__module__': '__main__', '__dict__': <attribute '__dict__' of 'Student' objects>, '__weakref__': <attribute '__weakref__' of 'Student' objects>, '__doc__': None, 'totalStudents': 20}\n"
     ]
    }
   ],
   "source": [
    "# Class Attributes\n",
    "# on the fly we can create class attributes\n",
    "\n",
    "Student.totalStudents=20\n",
    "print(Student.totalStudents)\n",
    "print(Student.__dict__) # unlike java and cpp, any attribut added inside class is class attribute"
   ]
  },
  {
   "cell_type": "code",
   "execution_count": 19,
   "id": "b2bf5eba-6416-466d-b529-7ba526821d58",
   "metadata": {},
   "outputs": [
    {
     "name": "stdout",
     "output_type": "stream",
     "text": [
      "{'__module__': '__main__', 'total_students': 29, 'teacher_name': 'Saraswathi', '__dict__': <attribute '__dict__' of 'Student' objects>, '__weakref__': <attribute '__weakref__' of 'Student' objects>, '__doc__': None}\n",
      "29\n",
      "{'name': 'Ismail', 'age': 21}\n"
     ]
    }
   ],
   "source": [
    "class Student: \n",
    "    total_students=29\n",
    "    teacher_name=\"Saraswathi\"\n",
    "    \n",
    "s1=Student()\n",
    "s2=Student()\n",
    "\n",
    "s1.name=\"Ismail\"\n",
    "s1.age =21\n",
    "\n",
    "s2.roll_no=123004221\n",
    "\n",
    "print(Student.__dict__)\n",
    "\n",
    "# can be accessed with objects\n",
    "\n",
    "print(s1.total_students)\n",
    "print(s1.__dict__)\n"
   ]
  },
  {
   "cell_type": "code",
   "execution_count": 20,
   "id": "8084588d-c6de-42c2-a66c-a67b315f7caf",
   "metadata": {},
   "outputs": [
    {
     "name": "stdout",
     "output_type": "stream",
     "text": [
      "{'__module__': '__main__', 'total_students': 40, 'teacher_name': 'Saraswathi', '__dict__': <attribute '__dict__' of 'Student' objects>, '__weakref__': <attribute '__weakref__' of 'Student' objects>, '__doc__': None}\n",
      "\n",
      "{'name': 'Ismail', 'age': 21, 'total_students': 13}\n",
      "\n",
      "{'roll_no': 123004221}\n",
      "\n",
      "{}\n",
      "\n",
      "{'__module__': '__main__', 'total_students': 40, 'teacher_name': 'Saraswathi', '__dict__': <attribute '__dict__' of 'Student' objects>, '__weakref__': <attribute '__weakref__' of 'Student' objects>, '__doc__': None}\n"
     ]
    }
   ],
   "source": [
    "Student.total_students = 40\n",
    "print(Student.__dict__)\n",
    "\n",
    "s1.total_students=13 #if object tries to change the class attribute,the value is not changed, it creates its own variable and assigns\n",
    "print()\n",
    "# instead same named object attribute is created\n",
    "print(s1.__dict__)\n",
    "print()\n",
    "print(s2.__dict__)\n",
    "print()\n",
    "print(s3.__dict__)\n",
    "print()\n",
    "print(Student.__dict__)"
   ]
  },
  {
   "cell_type": "markdown",
   "id": "ad86da8a-9038-426b-b7bf-0932396f306b",
   "metadata": {},
   "source": [
    "In Python, there are three main types of methods that can be defined in a class:\r\n",
    "\r\n",
    "1. **Instance Methods:**\r\n",
    "   - Instance methods are the most common type of methods in Python classes.\r\n",
    "   - They operate on instances (objects) of the class and have access to the instance's attributes and other methods.\r\n",
    "   - The first parameter of an instance method is usually `self`, which refers to the instance on which the method is called.\r\n",
    "   - Instance methods can modify the state of the instance or perform specific actions related to the instance.\r\n",
    "   - They are defined like regular functions inside the class.\r\n",
    "\r\n",
    "Example:\r\n",
    "```python\r\n",
    "class MyClass:\r\n",
    "    def instance_method(self):\r\n",
    "        print(\"This is an instance method.\")\r\n",
    "\r\n",
    "obj = MyClass()\r\n",
    "obj.instance_method()  # Output: \"This is an instance method.\"\r\n",
    "```\r\n",
    "\r\n",
    "2. **Class Methods:**\r\n",
    "   - Class methods are methods that are bound to the class and not the instance.\r\n",
    "   - They are defined using the `@classmethod` decorator and take the class as the first parameter, commonly named as `cls`.\r\n",
    "   - Class methods can access and modify class-level attributes but not instance-level attributes directly.\r\n",
    "   - They are often used for factory methods or for actions that involve the entire class rather than a specific instance.\r\n",
    "\r\n",
    "Example:\r\n",
    "```python\r\n",
    "class MyClass:\r\n",
    "    class_attr = 0\r\n",
    "    \r\n",
    "    @classmethod\r\n",
    "    def class_method(cls):\r\n",
    "        print(\"This is a class method.\")\r\n",
    "        print(\"Class attribute:\", cls.class_attr)\r\n",
    "\r\n",
    "MyClass.class_method()  # Output: \"This is a class method.\" | \"Class attribute: 0\"\r\n",
    "```\r\n",
    "\r\n",
    "3. **Static Methods:**\r\n",
    "   - Static methods are methods that do not depend on the instance or class and behave like regular functions within a class.\r\n",
    "   - They are defined using the `@staticmethod` decorator and do not take `self` or `cls` as the first parameter.\r\n",
    "   - Static methods are not associated with any specific instance or class and do not have access to instance or class-level attributes.\r\n",
    "   - They are used when a method is related to the class but does not need any specific instance or class information.\r\n",
    "\r\n",
    "Example:\r\n",
    "```python\r\n",
    "class MyClass:\r\n",
    "    @staticmethod\r\n",
    "    def static_method():\r\n",
    "        print(\"This is a static method.\")\r\n",
    "\r\n",
    "MyClass.static_method()  # Output: \"This is a static method.\"\r\n",
    "```\r\n",
    "\r\n",
    "In summary, Python supports three types of methods in classes: instance methods, class methods, and static methods. Each type serves different purposes and provides different levels of access to instance and class attributes."
   ]
  },
  {
   "cell_type": "code",
   "execution_count": 22,
   "id": "65b3613c-7249-4626-a2e0-66f35e306a22",
   "metadata": {},
   "outputs": [],
   "source": [
    "class Student:\n",
    "    # class Attributes \n",
    "    total_students=29\n",
    "    teacher_name=\"Saraswathi\"\n",
    "\n",
    "    # Any method added inside the class are instance methods\n",
    "\n",
    "    # in cpp we have this, in python in self and every instance method should have self\n",
    "    def printHello(self):\n",
    "        print(\"Namaste\")"
   ]
  },
  {
   "cell_type": "code",
   "execution_count": 23,
   "id": "aa998320-afb1-4b7b-9e24-feab265b605d",
   "metadata": {},
   "outputs": [
    {
     "name": "stdout",
     "output_type": "stream",
     "text": [
      "29\n",
      "Saraswathi\n",
      "Namaste\n"
     ]
    }
   ],
   "source": [
    "\n",
    "# Creating an instance (object) of the Student class\n",
    "s1 = Student()\n",
    "\n",
    "# Accessing class attributes\n",
    "print(s1.total_students)  # Output: 29\n",
    "print(s1.teacher_name)    # Output: \"Catherine\"\n",
    "\n",
    "# Calling the instance method\n",
    "s1.printHello()           # Output: \"Hello\"\n",
    "# this line above is intrepeted as Student.printHello(s1) : internally s1 is passed"
   ]
  },
  {
   "cell_type": "code",
   "execution_count": 24,
   "id": "d494f20d-957e-4f4b-a1b5-30aaad8b9045",
   "metadata": {},
   "outputs": [],
   "source": [
    "class Student:\n",
    "    # class Attributes\n",
    "    total_students=29\n",
    "    teacher_name=\"Catherine\"\n",
    "\n",
    "    def printHello(self):\n",
    "        print(\"Hello\")\n",
    "\n",
    "    # self should be first argument\n",
    "    def printString(self,str):\n",
    "        print(\"Hello\",str)\n",
    "\n",
    "    def printName(self):\n",
    "        name=\"abc\"\n",
    "        # here name is intrepete as local as we need to keep self.name\n",
    "        print(self.name)\n",
    "        "
   ]
  },
  {
   "cell_type": "code",
   "execution_count": 25,
   "id": "045688cf-d4b2-4901-ab09-90004ba98640",
   "metadata": {},
   "outputs": [
    {
     "name": "stdout",
     "output_type": "stream",
     "text": [
      "Hello\n",
      "Hello Ismail\n"
     ]
    }
   ],
   "source": [
    "s1=Student()\n",
    "s1.printHello()\n",
    "s1.printString(\"Ismail\")\n"
   ]
  },
  {
   "cell_type": "code",
   "execution_count": 26,
   "id": "a75731d7-11da-41df-a67d-cdb746797af0",
   "metadata": {},
   "outputs": [
    {
     "ename": "TypeError",
     "evalue": "Student.printHello() missing 1 required positional argument: 'self'",
     "output_type": "error",
     "traceback": [
      "\u001b[1;31m---------------------------------------------------------------------------\u001b[0m",
      "\u001b[1;31mTypeError\u001b[0m                                 Traceback (most recent call last)",
      "Cell \u001b[1;32mIn[26], line 1\u001b[0m\n\u001b[1;32m----> 1\u001b[0m \u001b[43mStudent\u001b[49m\u001b[38;5;241;43m.\u001b[39;49m\u001b[43mprintHello\u001b[49m\u001b[43m(\u001b[49m\u001b[43m)\u001b[49m ,\u001b[38;5;66;03m# we need to send explicity the reference of a object if we want acess using oject\u001b[39;00m\n",
      "\u001b[1;31mTypeError\u001b[0m: Student.printHello() missing 1 required positional argument: 'self'"
     ]
    }
   ],
   "source": [
    "Student.printHello() ,# we need to send explicity the reference of a object if we want acess using oject"
   ]
  },
  {
   "cell_type": "code",
   "execution_count": 27,
   "id": "26a7ba38-003e-493f-9a99-3b60342ba501",
   "metadata": {},
   "outputs": [
    {
     "name": "stdout",
     "output_type": "stream",
     "text": [
      "Hello\n"
     ]
    }
   ],
   "source": [
    "Student.printHello(s1)"
   ]
  },
  {
   "cell_type": "code",
   "execution_count": 28,
   "id": "47c01ca7-e476-4d50-a57a-16c8c8a40b0d",
   "metadata": {},
   "outputs": [
    {
     "name": "stdout",
     "output_type": "stream",
     "text": [
      "Abilash\n"
     ]
    }
   ],
   "source": [
    "s1.name=\"Abilash\"\n",
    "\n",
    "s1.printName()"
   ]
  },
  {
   "cell_type": "code",
   "execution_count": 29,
   "id": "f3b684f1-2b4e-4020-9b61-c3461ba1d394",
   "metadata": {},
   "outputs": [],
   "source": [
    "class Student:\n",
    "    # class Attributes \n",
    "    total_students=29\n",
    "    teacher_name=\"Saraswathi\"\n",
    "\n",
    "    # instance methods\n",
    "\n",
    "    def printHello(self):\n",
    "        print(\"Hello\")\n",
    "\n",
    "    def addName(self,name):\n",
    "        self.name = name #check if present or not, if present update else adding new attribute\n",
    "        \n",
    "    def printString(self,str):\n",
    "        print(\"Hello\",str)\n",
    "\n",
    "    def printName(self):\n",
    "        name=\"abc\" \n",
    "        print(self.name)\n",
    "        "
   ]
  },
  {
   "cell_type": "code",
   "execution_count": 30,
   "id": "ede34d33-7031-4eac-a2d1-b5e2ad355a38",
   "metadata": {},
   "outputs": [
    {
     "name": "stdout",
     "output_type": "stream",
     "text": [
      "{'name': 'Ismail'}\n"
     ]
    }
   ],
   "source": [
    "s1=Student()\n",
    "s1.addName(\"Ismail\")\n",
    "\n",
    "print(s1.__dict__)\n"
   ]
  },
  {
   "cell_type": "markdown",
   "id": "c6c90ba9-2407-4f73-895c-8c17cd719470",
   "metadata": {},
   "source": [
    "# Constructors in Python\n",
    "A constructor is a special method or instance method used to initialize the properties of objects. It is called as soon as a new object is created. For example:\n",
    "```python\n",
    "s1 = Student()\n",
    "```\n",
    "In the above example, when `s1` is created using the `Student()` class, the constructor associated with the `Student` class will be automatically called to set up the initial state of the `s1` object.\n",
    "\n",
    "If a class does not define a specific constructor, Python provides a default constructor that takes no arguments. This default constructor initializes the object with default values for its attributes. However, we can create your own custom constructor to provide specific initial values for the object's properties.\n",
    "\n",
    "`__init__` is a special method in Python classes, known as the constructor. It is automatically called when an object of the class is created. The primary purpose of the `__init__` method is to initialize the object's attributes or properties with specific values.\r",
    "in Python classes."
   ]
  },
  {
   "cell_type": "code",
   "execution_count": 31,
   "id": "984340b9-9ddd-44d7-93dd-bc871302543e",
   "metadata": {},
   "outputs": [],
   "source": [
    "class Student:\n",
    "    # Class Attributes\n",
    "    total_students = 29\n",
    "    teacher_name = \"Saraswathi\"\n",
    "    \n",
    "    #As soon as we create a constructor, default is vanished. we can give default values too\n",
    "    # Constructor with default values\n",
    "    def __init__(self, name, age, rollNumber, *args):\n",
    "        self.__name = name  # Private attribute\n",
    "        self.age = age\n",
    "        self.rollNumber = rollNumber\n",
    "        \n",
    "    # Getter method for private attribute __name\n",
    "    def getName(self):\n",
    "        return self.__name\n",
    "    \n",
    "    # Setter method for private attribute __name\n",
    "    def setName(self, name):\n",
    "        self.__name = name\n",
    "        \n",
    "    # Instance method - printHello\n",
    "    def printHello(self):\n",
    "        print(\"Hello\")\n",
    "        \n",
    "    # Instance method - addName\n",
    "    def addName(self, name):\n",
    "        self.name = name  # If present, update the attribute, else add a new attribute\n",
    "        \n",
    "    # Instance method - printString\n",
    "    def printString(self, string):\n",
    "        print(\"Hello\", string)\n",
    "        \n",
    "    # Instance method - printName\n",
    "    def printName(self):\n",
    "        name = \"abc\" \n",
    "        print(self.name)\n",
    "\n",
    "# There is no constructor overloading in python , \n",
    "# you have multipe input like *args"
   ]
  },
  {
   "cell_type": "code",
   "execution_count": 35,
   "id": "76abc8f4-1d0e-4e27-8f89-98fe316fd1a7",
   "metadata": {},
   "outputs": [],
   "source": [
    "# Creating instance properties using methods is not reccomended as we need to track the propeties which belongs to whom\n",
    "\n",
    "# use constructor to create and intialize"
   ]
  },
  {
   "cell_type": "code",
   "execution_count": 36,
   "id": "fd938076-fafb-4d67-87f0-6e5dbdbef2cf",
   "metadata": {},
   "outputs": [
    {
     "name": "stdout",
     "output_type": "stream",
     "text": [
      "{'_Student__name': 'ismail', 'age': 12, 'rollNumber': 123004}\n",
      "{'_Student__name': 'Abi', 'age': 16, 'rollNumber': 1204}\n"
     ]
    }
   ],
   "source": [
    "s1=Student(name=\"ismail\",rollNumber=123004,age=12)\n",
    "s2=Student(name=\"Niranjan\",rollNumber=1204,age=16)\n",
    "s2=Student(\"Abi\",rollNumber=1204,age=16)\n",
    "print(s1.__dict__)\n",
    "print(s2.__dict__)"
   ]
  },
  {
   "cell_type": "markdown",
   "id": "d448ffac-38e9-4398-a02b-2583e665e25b",
   "metadata": {},
   "source": [
    "# Acess Modifiers\n",
    "In Python, access modifiers are used to control the visibility and accessibility of class attributes and methods from outside the class. However, unlike some other programming languages like Java, Python does not have strict access control keywords like `public`, `private`, or `protected`. Instead, Python uses naming conventions to indicate the intended visibility of attributes and methods. The most commonly used conventions are:\n",
    "\n",
    "1. **Public:**\n",
    "   - By default, all attributes and methods in a class are considered public and can be accessed from outside the class.\n",
    "\n",
    "Example:\n",
    "```python\n",
    "class MyClass:\n",
    "    def __init__(self):\n",
    "        self.public_attribute = 10\n",
    "\n",
    "    def public_method(self):\n",
    "        return \"This is a public method.\"\n",
    "\n",
    "obj = MyClass()\n",
    "print(obj.public_attribute)    # Output: 10\n",
    "print(obj.public_method())     # Output: \"This is a public method.\"\n",
    "```\n",
    "\n",
    "2. **Protected:**\n",
    "   - Attributes and methods with names starting with a single underscore `_` are considered protected.\n",
    "   - While they can still be accessed from outside the class, it is a convention that these should be treated as internal and not directly accessed by external code.\n",
    "\n",
    "Example:\n",
    "```python\n",
    "class MyClass:\n",
    "    def __init__(self):\n",
    "        self._protected_attribute = 20\n",
    "\n",
    "    def _protected_method(self):\n",
    "        return \"This is a protected method.\"\n",
    "\n",
    "obj = MyClass()\n",
    "print(obj._protected_attribute)  # Output: 20\n",
    "print(obj._protected_method())   # Output: \"This is a protected method.\"\n",
    "```\n",
    "\n",
    "3. **Private:**\n",
    "   - Attributes and methods with names starting with double underscore `__` (double underscore) are considered private.\n",
    "   - Private attributes and methods are not intended to be accessed from outside the class directly.\n",
    "\n",
    "Example:\n",
    "```python\n",
    "class MyClass:\n",
    "    def __init__(self):\n",
    "        self.__private_attribute = 30\n",
    "\n",
    "    def __private_method(self):\n",
    "        return \"This is a private method.\"\n",
    "\n",
    "obj = MyClass()\n",
    "# Accessing private attributes/methods directly results in AttributeError:\n",
    "# print(obj.__private_attribute)    # AttributeError: 'MyClass' object has no attribute '__private_attribute'\n",
    "# print(obj.__private_method())     # AttributeError: 'MyClass' object has no attribute '__private_method'\n",
    "\n",
    "# Private attributes/methods can be accessed using name mangling:\n",
    "print(obj._MyClass__private_attribute)  # Output: 30\n",
    "print(obj._MyClass__private_method())   # Output: \"This is a private method.\"\n",
    "```\n",
    "\n",
    "It's important to note that Python naming conventions for access modifiers are not strict rules enforced by the language itself, but rather conventions followed by developers to indicate the intended visibility of attributes and methods. Users of a class should respect these conventions to maintain code readability and avoid unintended access to internal components of the class."
   ]
  },
  {
   "cell_type": "code",
   "execution_count": 40,
   "id": "300bdb5b-48b2-4612-81cf-40f3a0c54f54",
   "metadata": {},
   "outputs": [
    {
     "name": "stdout",
     "output_type": "stream",
     "text": [
      "12\n",
      "123004\n",
      "himam\n",
      "himam\n",
      "ismail\n",
      "{'_Student__name': 'himam', 'age': 12, 'rollNumber': 123004, '__name': 'ismail'}\n"
     ]
    }
   ],
   "source": [
    "print(s1.age)\n",
    "print(s1.rollNumber)\n",
    "print(s1.getName())\n",
    "s1.setName(\"himam\")\n",
    "print(s1.getName())\n",
    "s1.__name=\"ismail\" #here\n",
    "\n",
    "print(s1.__name) #we cant directly acess but we have intialized above so. it created a instance variable specific to s1\n",
    "print(s1.__dict__)"
   ]
  },
  {
   "cell_type": "code",
   "execution_count": 43,
   "id": "b9909499-3c24-4adf-91eb-a55e063a2961",
   "metadata": {},
   "outputs": [
    {
     "name": "stdout",
     "output_type": "stream",
     "text": [
      "Kiran Abbavaram\n"
     ]
    }
   ],
   "source": [
    "class Student:\n",
    "    def __init__(self, name):\n",
    "        self.__name = name  # Private attribute using name mangling\n",
    "\n",
    "s1 = Student(\"Kiran Abbavaram\")\n",
    "\n",
    "# Accessing the private attribute using name mangling\n",
    "print(s1._Student__name)\n"
   ]
  },
  {
   "cell_type": "code",
   "execution_count": 45,
   "id": "90d3cdb2-c15c-4c7b-9682-9a6a38e35bb2",
   "metadata": {},
   "outputs": [
    {
     "name": "stdout",
     "output_type": "stream",
     "text": [
      "1\n",
      "{'x': 1, '_A__y': 1, '__y': 45}\n",
      "45\n"
     ]
    }
   ],
   "source": [
    "class A:\n",
    "    def __init__(self):\n",
    "        self.x=1\n",
    "        self.__y=1\n",
    "        \n",
    "    def getY(self):\n",
    "        return self.__y\n",
    "\n",
    "a=A()\n",
    "a.__y=45 #instance variable\n",
    "print(a.getY())\n",
    "print(a.__dict__)\n",
    "print(a.__y) #its not private, thats why it can accessed\n",
    "\n",
    "# __y and _A__y are different"
   ]
  },
  {
   "cell_type": "code",
   "execution_count": 48,
   "id": "83bdaa5d-1650-4edb-8e59-2420e01f49b3",
   "metadata": {},
   "outputs": [],
   "source": [
    "class Student:\n",
    "    # class Attributes \n",
    "    __total_students=29\n",
    "    teacher_name=\"Saraswathi\"\n",
    "\n",
    "     \n",
    "    def __init__(self,name,age,rollNumber,*args):\n",
    "        self.__name=name\n",
    "        self.age= age\n",
    "        self.rollNumber =rollNumber\n",
    "        \n",
    "    @classmethod  #-> function decorates,  decorators are a way to change functionlity of a method\n",
    "    def getTotalStudents(cls):\n",
    "        return Student.__total_students\n",
    "        \n",
    "    def getName(self):\n",
    "        return self.__name\n",
    "        \n",
    "    def setName(self,name):\n",
    "        self.__name=name"
   ]
  },
  {
   "cell_type": "markdown",
   "id": "adeefecb-52f6-4904-9e55-99f208e24a12",
   "metadata": {},
   "source": [
    "# Working with Files\r\n",
    "\r\n",
    "### Text Files: Opening, Reading, and Writing\r\n",
    "\r\n",
    "#### Opening Text Files\r\n",
    "\r\n",
    "The primary function for working with files in Python is `open()`.\r\n",
    "The `open()` function requires two parameters: `filename` and `mode`.\r\n",
    "\r\n",
    "There are four different modes for opening a file:\r\n",
    "\r\n",
    "1. `\"r\"` - Read Mode: Default value. Opens a file for reading. Raises an error if the file does not exist.\r\n",
    "2. `\"a\"` - Append Mode: Opens a file for appending data. Creates the file if it does not exist.\r\n",
    "3. `\"w\"` - Write Mode: Opens a file for writing. Creates the file if it does not exist. If the file already exists, it truncates it, erasing its contents.\r\n",
    "4. `\"x\"` - Create Mode: Creates the specified file and raises an error if the file already exists.\r\n",
    "\r\n",
    "You can also specify if the file should be handled in binary or text mode:\r\n",
    "\r\n",
    "1. `\"t\"` - Text Mode: Default value. Handles the file as a text file.\r\n",
    "2. `\"b\"` - Binary Mode: Handles the file as a binary fithe CSV data accordingly for reading or writing operations."
   ]
  },
  {
   "cell_type": "code",
   "execution_count": 49,
   "id": "3993b5e7-048b-4245-8d50-ebdaf14b3275",
   "metadata": {},
   "outputs": [
    {
     "name": "stdout",
     "output_type": "stream",
     "text": [
      "100% [................................................................................] 6737 / 6737sample-7766 (1).txt\n"
     ]
    }
   ],
   "source": [
    "import wget\n",
    "\n",
    "url = 'https://files.codingninjas.in/sample-7766.txt'\n",
    "filename = wget.download(url)\n",
    "print(filename)"
   ]
  },
  {
   "cell_type": "code",
   "execution_count": 69,
   "id": "32141834-36de-4633-80ac-261979a2fcad",
   "metadata": {},
   "outputs": [],
   "source": [
    "file_obj = open('sample-7766.txt', 'r')  "
   ]
  },
  {
   "cell_type": "markdown",
   "id": "951bdf64-56cf-4cb7-959e-e39b64608f97",
   "metadata": {},
   "source": [
    "## Reading Text Files\n",
    "### read()\n",
    "By default the read() method returns the whole text"
   ]
  },
  {
   "cell_type": "code",
   "execution_count": 70,
   "id": "9099dfe5-ac14-4f02-add4-b8bc6b8a1389",
   "metadata": {},
   "outputs": [
    {
     "data": {
      "text/plain": [
       "str"
      ]
     },
     "execution_count": 70,
     "metadata": {},
     "output_type": "execute_result"
    }
   ],
   "source": [
    "type(data)"
   ]
  },
  {
   "cell_type": "code",
   "execution_count": 50,
   "id": "ca304f98-47cd-4093-a1d7-bb954b8089c1",
   "metadata": {},
   "outputs": [
    {
     "name": "stdout",
     "output_type": "stream",
     "text": [
      "Lorem ipsu\n"
     ]
    }
   ],
   "source": [
    "# Open the file in read mode\n",
    "file_obj = open('sample-7766.txt', 'r')\n",
    "\n",
    "# Read the first 10 bytes from the file\n",
    "data2 = file_obj.read(10)  # If the number of bytes is not given, it reads the entire file\n",
    "\n",
    "# Print the content read from the file\n",
    "print(data2)\n",
    "\n",
    "# Close the file\n",
    "file_obj.close()\n"
   ]
  },
  {
   "cell_type": "code",
   "execution_count": 51,
   "id": "440b1fd2-f318-488c-8f0a-bf8c1344d5cf",
   "metadata": {},
   "outputs": [
    {
     "name": "stdout",
     "output_type": "stream",
     "text": [
      "Lorem ipsum dolor sit amet, consectetur adipiscing elit. Vivamus condimentum sagittis lacus, laoreet luctus ligula laoreet ut. Vestibulum ullamcorper accumsan velit vel vehicula. Proin tempor lacus arcu. Nunc at elit condimentum, semper nisi et, condimentum mi. In venenatis blandit nibh at sollicitudin. Vestibulum dapibus mauris at orci maximus pellentesque. Nullam id elementum ipsum. Suspendisse cursus lobortis viverra. Proin et erat at mauris tincidunt porttitor vitae ac dui.\n",
      "\n",
      "Donec vulputate lorem tortor, nec fermentum nibh bibendum vel. Lorem ipsum dolor sit amet, consectetur adipiscing elit. Praesent dictum luctus massa, non euismod lacus. Pellentesque condimentum dolor est, ut dapibus lectus luctus ac. Ut sagittis commodo arcu. Integer nisi nulla, facilisis sit amet nulla quis, eleifend suscipit purus. Class aptent taciti sociosqu ad litora torquent per conubia nostra, per inceptos himenaeos. Aliquam euismod ultrices lorem, sit amet imperdiet est tincidunt vel. Phasellus dictum justo sit amet ligula varius aliquet auctor et metus. Fusce vitae tortor et nisi pulvinar vestibulum eget in risus. Donec ante ex, placerat a lorem eget, ultricies bibendum purus. Nam sit amet neque non ante laoreet rutrum. Nullam aliquet commodo urna, sed ullamcorper odio feugiat id. Mauris nisi sapien, porttitor in condimentum nec, venenatis eu urna. Pellentesque feugiat diam est, at rhoncus orci porttitor non.\n",
      "\n",
      "Nulla luctus sem sit amet nisi consequat, id ornare ipsum dignissim. Sed elementum elit nibh, eu condimentum orci viverra quis. Aenean suscipit vitae felis non suscipit. Suspendisse pharetra turpis non eros semper dictum. Etiam tincidunt venenatis venenatis. Praesent eget gravida lorem, ut congue diam. Etiam facilisis elit at porttitor egestas. Praesent consequat, velit non vulputate convallis, ligula diam sagittis urna, in venenatis nisi justo ut mauris. Vestibulum posuere sollicitudin mi, et vulputate nisl fringilla non. Nulla ornare pretium velit a euismod. Nunc sagittis venenatis vestibulum. Nunc sodales libero a est ornare ultricies. Sed sed leo sed orci pellentesque ultrices. Mauris sollicitudin, sem quis placerat ornare, velit arcu convallis ligula, pretium finibus nisl sapien vel sem. Vivamus sit amet tortor id lorem consequat hendrerit. Nullam at dui risus.\n",
      "\n"
     ]
    }
   ],
   "source": [
    "# Open the file in read mode\n",
    "file_obj = open('sample-7766.txt', 'r')\n",
    "\n",
    "# Read the first line from the file\n",
    "print(file_obj.readline())\n",
    "\n",
    "# Read the second line from the file\n",
    "print(file_obj.readline())\n",
    "\n",
    "# Read up to 10000 characters from the current line\n",
    "# If the line has fewer than 10000 characters, it will return the entire line\n",
    "print(file_obj.readline(10000))\n",
    "\n",
    "# Close the file\n",
    "file_obj.close()\n"
   ]
  },
  {
   "cell_type": "code",
   "execution_count": 53,
   "id": "e638ad7d-4ef7-4445-a70d-964928b9db6c",
   "metadata": {},
   "outputs": [
    {
     "name": "stdout",
     "output_type": "stream",
     "text": [
      "<class 'list'>\n"
     ]
    }
   ],
   "source": [
    "# Open the file in read mode\n",
    "file_obj = open('sample-7766.txt', 'r')\n",
    "\n",
    "# Read the entire file and store its lines in a list\n",
    "file_data_in_list = file_obj.readlines()\n",
    "\n",
    "# Close the file\n",
    "file_obj.close()\n",
    "\n",
    "# Print the type of the variable holding the file lines (should be list)\n",
    "print(type(file_data_in_list))\n"
   ]
  },
  {
   "cell_type": "code",
   "execution_count": 54,
   "id": "035344bb-b557-404c-be4b-dcdf3b44e2a0",
   "metadata": {},
   "outputs": [
    {
     "name": "stdout",
     "output_type": "stream",
     "text": [
      "14\n"
     ]
    }
   ],
   "source": [
    "print(len(file_data_in_list))"
   ]
  },
  {
   "cell_type": "code",
   "execution_count": 55,
   "id": "826ea526-7286-4bb5-91df-51fe6f79551c",
   "metadata": {},
   "outputs": [
    {
     "data": {
      "text/plain": [
       "'Nulla luctus sem sit amet nisi consequat, id ornare ipsum dignissim. Sed elementum elit nibh, eu condimentum orci viverra quis. Aenean suscipit vitae felis non suscipit. Suspendisse pharetra turpis non eros semper dictum. Etiam tincidunt venenatis venenatis. Praesent eget gravida lorem, ut congue diam. Etiam facilisis elit at porttitor egestas. Praesent consequat, velit non vulputate convallis, ligula diam sagittis urna, in venenatis nisi justo ut mauris. Vestibulum posuere sollicitudin mi, et vulputate nisl fringilla non. Nulla ornare pretium velit a euismod. Nunc sagittis venenatis vestibulum. Nunc sodales libero a est ornare ultricies. Sed sed leo sed orci pellentesque ultrices. Mauris sollicitudin, sem quis placerat ornare, velit arcu convallis ligula, pretium finibus nisl sapien vel sem. Vivamus sit amet tortor id lorem consequat hendrerit. Nullam at dui risus.\\n'"
      ]
     },
     "execution_count": 55,
     "metadata": {},
     "output_type": "execute_result"
    }
   ],
   "source": [
    "file_data_in_list[2]"
   ]
  },
  {
   "cell_type": "code",
   "execution_count": 57,
   "id": "8d9d0167-a1aa-432e-97fa-a67bdbb928f9",
   "metadata": {},
   "outputs": [
    {
     "name": "stdout",
     "output_type": "stream",
     "text": [
      "<class 'list'>\n"
     ]
    },
    {
     "ename": "ValueError",
     "evalue": "I/O operation on closed file.",
     "output_type": "error",
     "traceback": [
      "\u001b[1;31m---------------------------------------------------------------------------\u001b[0m",
      "\u001b[1;31mValueError\u001b[0m                                Traceback (most recent call last)",
      "Cell \u001b[1;32mIn[57], line 10\u001b[0m\n\u001b[0;32m      6\u001b[0m \u001b[38;5;28mprint\u001b[39m(\u001b[38;5;28mtype\u001b[39m(file_data_in_list))\n\u001b[0;32m      8\u001b[0m file_obj\u001b[38;5;241m.\u001b[39mclose() \u001b[38;5;66;03m# buffer is erased\u001b[39;00m\n\u001b[1;32m---> 10\u001b[0m \u001b[43mfile_obj\u001b[49m\u001b[38;5;241;43m.\u001b[39;49m\u001b[43mread\u001b[49m\u001b[43m(\u001b[49m\u001b[43m)\u001b[49m \u001b[38;5;66;03m#error\u001b[39;00m\n",
      "\u001b[1;31mValueError\u001b[0m: I/O operation on closed file."
     ]
    }
   ],
   "source": [
    "# it is our responsiblity to close the file\n",
    "\n",
    "file_obj = open('sample-7766.txt', 'r')\n",
    "file_data_in_list =file_obj.readlines()\n",
    "\n",
    "print(type(file_data_in_list))\n",
    "\n",
    "file_obj.close() # buffer is erased\n",
    "\n",
    "file_obj.read() #error"
   ]
  },
  {
   "cell_type": "code",
   "execution_count": 58,
   "id": "3f61104c-4848-4dc7-9bc0-7b09f8f7c913",
   "metadata": {},
   "outputs": [
    {
     "name": "stdout",
     "output_type": "stream",
     "text": [
      "Lorem ipsum dolor sit amet, consectetur adipiscing elit. Vivamus condimentum sagittis lacus, laoreet luctus ligula laoreet ut. Vestibulum ullamcorper accumsan velit vel vehicula. Proin tempor lacus arcu. Nunc at elit condimentum, semper nisi et, condimentum mi. In venenatis blandit nibh at sollicitudin. Vestibulum dapibus mauris at orci maximus pellentesque. Nullam id elementum ipsum. Suspendisse cursus lobortis viverra. Proin et erat at mauris tincidunt porttitor vitae ac dui.\n",
      "\n"
     ]
    }
   ],
   "source": [
    "# Read the entire file and store its lines in a list\n",
    "with open('sample-7766.txt', 'r') as file_obj:  # Open the file using 'with' to ensure automatic file closure\n",
    "    file_data = file_obj.readlines()  \n",
    "\n",
    "# Access the first line from the file data list\n",
    "first_line = file_data[0]\n",
    "\n",
    "print(first_line)\n"
   ]
  },
  {
   "cell_type": "markdown",
   "id": "67558417-114e-4886-beb9-406e9498379e",
   "metadata": {},
   "source": [
    "* The with statement does not have its own scope. Instead, it creates a context for the block of code inside it, and any variables defined inside the with block will be in the same scope as the surrounding code. This means that variables defined inside the with block will be accessible both inside the with block and outside it."
   ]
  },
  {
   "cell_type": "code",
   "execution_count": null,
   "id": "c6fa9e6e-5072-4acc-a660-240994c8024e",
   "metadata": {},
   "outputs": [],
   "source": []
  },
  {
   "cell_type": "markdown",
   "id": "c0f652fb-b640-45a2-8a49-a1b6878648bc",
   "metadata": {},
   "source": [
    "# CSV Files\r\n",
    "\r\n",
    "CSV (Comma-Separated Values) files are widely used for storing and managing tabular data, where data is organized in rows and columns. Each row represents one record, and each column represents an attribute of the data.\r\n",
    "\r\n",
    "In Python, the `csv` module provides functionality for working with CSV files, making it easy to read and write data in this format.\r\n",
    "\r\n",
    "To read a CSV file, the `csv.reader` object is commonly used, which allows you to read each row as a list of values. This makes it straightforward to access individual columns and process the data.\r\n",
    "\r\n",
    "While it is possible to use `readlines()` to read a CSV file, this approach may not be ideal, as it returns each row as a single string, making it difficult to separate and work with individual columns effectively. Hence, the `csv.reader` method is preferred for handling CSV files in Python.."
   ]
  },
  {
   "cell_type": "code",
   "execution_count": 59,
   "id": "17bf6228-d180-4d15-be1b-bd607b7707df",
   "metadata": {},
   "outputs": [
    {
     "name": "stdout",
     "output_type": "stream",
     "text": [
      "100% [..........................................................................] 1765345 / 1765345year2017-7767 (1).csv\n"
     ]
    }
   ],
   "source": [
    "import wget\n",
    "# Terrorist attacks in 2017: Avilable in kaggle datasets\n",
    "filename = wget.download('https://files.codingninjas.in/year2017-7767.csv')\n",
    "print(filename)"
   ]
  },
  {
   "cell_type": "code",
   "execution_count": 99,
   "id": "21602ff8-7a25-4428-893f-c1f3e95babe2",
   "metadata": {},
   "outputs": [
    {
     "data": {
      "text/plain": [
       "['Year,Month,Day,Country,Region,city,latitude,longitude,AttackType,Killed,Wounded,Target,Group,Target_type,Weapon_type,casualities\\n',\n",
       " '2017,1,2,Afghanistan,South Asia,Takhta Pul,31.320556,65.961111,Hostage Taking (Kidnapping),0.0,0.0,Construction Workers,Taliban,Business,Firearms,0.0\\n',\n",
       " '2017,1,3,Sudan,Sub-Saharan Africa,Fantaga,12.921007000000001,24.318324,Armed Assault,2.0,0.0,\"Civilians: Haroun Yousif, Hamid Ibrahim\",Unknown,Private Citizens & Property,Firearms,2.0\\n',\n",
       " '2017,1,1,Democratic Republic of the Congo,Sub-Saharan Africa,Saboko,1.452372,29.875162,Armed Assault,7.0,0.0,Village,Allied Democratic Forces (ADF),Private Citizens & Property,Melee,7.0\\n',\n",
       " '2017,1,1,Democratic Republic of the Congo,Sub-Saharan Africa,Bialee,1.4523700000000002,29.875186,Armed Assault,7.0,0.0,Village,Allied Democratic Forces (ADF),Private Citizens & Property,Melee,7.0\\n']"
      ]
     },
     "execution_count": 99,
     "metadata": {},
     "output_type": "execute_result"
    }
   ],
   "source": [
    "# we can read with inbuilt readlines\n",
    "\n",
    "with open('year2017-7767.csv') as file_obj:\n",
    "    file_data = file_obj.readlines() #list of strings\n",
    "\n",
    "# we have to manually seperate the , seperated values for this\n",
    "file_data[:5]"
   ]
  },
  {
   "cell_type": "code",
   "execution_count": 60,
   "id": "8e92a137-f93a-42e8-b11d-07605ba30a1c",
   "metadata": {},
   "outputs": [
    {
     "name": "stdout",
     "output_type": "stream",
     "text": [
      "<_csv.reader object at 0x0000018452B11CC0>\n"
     ]
    },
    {
     "ename": "ValueError",
     "evalue": "I/O operation on closed file.",
     "output_type": "error",
     "traceback": [
      "\u001b[1;31m---------------------------------------------------------------------------\u001b[0m",
      "\u001b[1;31mValueError\u001b[0m                                Traceback (most recent call last)",
      "Cell \u001b[1;32mIn[60], line 7\u001b[0m\n\u001b[0;32m      5\u001b[0m     file_data \u001b[38;5;241m=\u001b[39m csv\u001b[38;5;241m.\u001b[39mreader(file_obj)\n\u001b[0;32m      6\u001b[0m \u001b[38;5;28mprint\u001b[39m(file_data)\n\u001b[1;32m----> 7\u001b[0m \u001b[38;5;28;01mfor\u001b[39;00m row \u001b[38;5;129;01min\u001b[39;00m file_data: \u001b[38;5;66;03m#cant acess as fileclosed\u001b[39;00m\n\u001b[0;32m      8\u001b[0m     \u001b[38;5;28mprint\u001b[39m(row)\n\u001b[0;32m     10\u001b[0m \u001b[38;5;66;03m# type(file_data) _csv.reader\u001b[39;00m\n",
      "\u001b[1;31mValueError\u001b[0m: I/O operation on closed file."
     ]
    }
   ],
   "source": [
    "# we use csv library\n",
    "import csv\n",
    "\n",
    "with open('year2017-7767.csv') as file_obj:\n",
    "    file_data = csv.reader(file_obj)\n",
    "print(file_data)\n",
    "for row in file_data: #cant acess as fileclosed\n",
    "    print(row)\n",
    "\n",
    "# type(file_data) _csv.reader"
   ]
  },
  {
   "cell_type": "code",
   "execution_count": 105,
   "id": "d0efe794-12be-4d2f-a71e-e643598c2d4f",
   "metadata": {},
   "outputs": [],
   "source": [
    "# we use csv library\n",
    "import csv\n",
    "\n",
    "with open('year2017-7767.csv') as file_obj:\n",
    "    file_data = csv.reader(file_obj)\n",
    "     for row in file_data:\n",
    "        print(row)\n",
    "   \n",
    "# each row is comma seperated values in list\n",
    "# type(file_data) _csv.reader\n"
   ]
  },
  {
   "cell_type": "code",
   "execution_count": 106,
   "id": "7f1082a0-593c-46ac-ad42-1a75bb6956c5",
   "metadata": {},
   "outputs": [
    {
     "name": "stdout",
     "output_type": "stream",
     "text": [
      "100% [..................................................................................] 326 / 326sample_delim-7772.csv\n"
     ]
    }
   ],
   "source": [
    "import wget\n",
    "\n",
    "file= wget.download('https://files.codingninjas.in/sample_delim-7772.csv')\n",
    "print(file)"
   ]
  },
  {
   "cell_type": "markdown",
   "id": "7fa51294-969d-4f85-9491-e6ff2af7cb2b",
   "metadata": {},
   "source": [
    "### CSV files with Custom Delimiters\n",
    "\n",
    "By default, a comma is used as a delimiter in a CSV file. However, some CSV files can use delimiters other than a comma. Few popular ones are | and \\t."
   ]
  },
  {
   "cell_type": "code",
   "execution_count": 109,
   "id": "4330acb8-40fe-49d7-aa1d-f4f9043d6c3f",
   "metadata": {},
   "outputs": [
    {
     "name": "stdout",
     "output_type": "stream",
     "text": [
      "['Year|   Month|    Day|    Country|    Region|    City']\n",
      "['2017|   1|    2|    Afghanistan|    Region|    Takhta Pul']\n",
      "['2017|   1|    3|    Sudan|    Sub-Saharan Africa|    Fantaga']\n",
      "['2017|   1|    1|    Democratic Republic of the Congo|    Region|    Sabako']\n",
      "['2017|   1|    1|    Democratic Republic of the Congo|    Region|    Bialee']\n"
     ]
    }
   ],
   "source": [
    "import csv\n",
    "\n",
    "with open('sample_delim-7772.csv') as file_obj:\n",
    "    file_data = csv.reader(file_obj)\n",
    "    for row in file_data:\n",
    "        print(row)"
   ]
  },
  {
   "cell_type": "code",
   "execution_count": 110,
   "id": "a5c81ed2-f4b2-47a4-a06a-2ddfe4f8f6c6",
   "metadata": {},
   "outputs": [
    {
     "name": "stdout",
     "output_type": "stream",
     "text": [
      "['Year', '   Month', '    Day', '    Country', '    Region', '    City']\n",
      "['2017', '   1', '    2', '    Afghanistan', '    Region', '    Takhta Pul']\n",
      "['2017', '   1', '    3', '    Sudan', '    Sub-Saharan Africa', '    Fantaga']\n",
      "['2017', '   1', '    1', '    Democratic Republic of the Congo', '    Region', '    Sabako']\n",
      "['2017', '   1', '    1', '    Democratic Republic of the Congo', '    Region', '    Bialee']\n"
     ]
    }
   ],
   "source": [
    "import csv\n",
    "\n",
    "with open('sample_delim-7772.csv') as file_obj:\n",
    "    file_data = csv.reader(file_obj, delimiter='|')\n",
    "    for row in file_data:\n",
    "        print(row)"
   ]
  },
  {
   "cell_type": "markdown",
   "id": "63aa8773-ef64-422e-ac50-608ef7c64754",
   "metadata": {},
   "source": [
    "Now, we have separated each column successfully. But did you notice that there is some initial space before each column entry. Lets see how we can remove that.\n",
    "\n",
    "CSV files with initial spaces\n",
    "Some CSV files can have a space character after a delimiter. When we use the default csv.reader() function to read these CSV files, we will get spaces in the output as well.\n",
    "\n",
    "To remove these initial spaces, we need to pass an additional parameter called skipinitialspace."
   ]
  },
  {
   "cell_type": "code",
   "execution_count": 112,
   "id": "2bc61545-5c44-4af9-bc1d-53c051a432e4",
   "metadata": {},
   "outputs": [
    {
     "name": "stdout",
     "output_type": "stream",
     "text": [
      "['Year', 'Month', 'Day', 'Country', 'Region', 'City']\n",
      "['2017', '1', '2', 'Afghanistan', 'Region', 'Takhta Pul']\n",
      "['2017', '1', '3', 'Sudan', 'Sub-Saharan Africa', 'Fantaga']\n",
      "['2017', '1', '1', 'Democratic Republic of the Congo', 'Region', 'Sabako']\n",
      "['2017', '1', '1', 'Democratic Republic of the Congo', 'Region', 'Bialee']\n"
     ]
    }
   ],
   "source": [
    "import csv\n",
    "\n",
    "with open('sample_delim-7772.csv') as file_obj:\n",
    "    file_data = csv.reader(file_obj, delimiter='|',skipinitialspace=True)\n",
    "    for row in file_data:\n",
    "        print(row)"
   ]
  },
  {
   "cell_type": "code",
   "execution_count": 113,
   "id": "9058b7b1-32cb-4bf6-b721-547a3fa455d2",
   "metadata": {},
   "outputs": [
    {
     "name": "stdout",
     "output_type": "stream",
     "text": [
      "<_csv.reader object at 0x000001B1B0455900>\n",
      "<class 'list'>\n"
     ]
    }
   ],
   "source": [
    "import csv\n",
    "\n",
    "with open('sample_delim-7772.csv') as file_obj:\n",
    "    file_data = csv.reader(file_obj, delimiter='|',skipinitialspace=True)\n",
    "    print(file_data)\n",
    "    file_list = list(file_data)\n",
    "    for row in file_data:\n",
    "        print(row)\n",
    "\n",
    "print(type(file_list))"
   ]
  },
  {
   "cell_type": "code",
   "execution_count": 116,
   "id": "461e8a39-a5b3-486a-ad92-6123a5395746",
   "metadata": {},
   "outputs": [
    {
     "name": "stdout",
     "output_type": "stream",
     "text": [
      "<_csv.reader object at 0x000001B1B0455C60>\n",
      "<class 'list'>\n",
      "[['Year', 'Month', 'Day', 'Country', 'Region', 'City'], ['2017', '1', '2', 'Afghanistan', 'Region', 'Takhta Pul'], ['2017', '1', '3', 'Sudan', 'Sub-Saharan Africa', 'Fantaga'], ['2017', '1', '1', 'Democratic Republic of the Congo', 'Region', 'Sabako'], ['2017', '1', '1', 'Democratic Republic of the Congo', 'Region', 'Bialee']]\n"
     ]
    }
   ],
   "source": [
    "import csv\n",
    "\n",
    "with open('sample_delim-7772.csv') as file_obj:\n",
    "    file_data = csv.reader(file_obj, delimiter='|',skipinitialspace=True)\n",
    "    print(file_data)\n",
    "    file_list = list(file_data)\n",
    "\n",
    "print(type(file_list))\n",
    "print(file_list)\n",
    "\n"
   ]
  },
  {
   "cell_type": "code",
   "execution_count": 119,
   "id": "316805c1-0c2f-48ff-af87-8a3890e95f18",
   "metadata": {},
   "outputs": [
    {
     "ename": "ValueError",
     "evalue": "could not convert string to float: ''",
     "output_type": "error",
     "traceback": [
      "\u001b[1;31m---------------------------------------------------------------------------\u001b[0m",
      "\u001b[1;31mValueError\u001b[0m                                Traceback (most recent call last)",
      "Cell \u001b[1;32mIn[119], line 9\u001b[0m\n\u001b[0;32m      7\u001b[0m killed\u001b[38;5;241m=\u001b[39m[]\n\u001b[0;32m      8\u001b[0m \u001b[38;5;28;01mfor\u001b[39;00m row \u001b[38;5;129;01min\u001b[39;00m file_list[\u001b[38;5;241m1\u001b[39m:]:\n\u001b[1;32m----> 9\u001b[0m     killed\u001b[38;5;241m.\u001b[39mappend(\u001b[38;5;28mfloat\u001b[39m(row[\u001b[38;5;241m9\u001b[39m]))\n\u001b[0;32m     10\u001b[0m killed\n",
      "\u001b[1;31mValueError\u001b[0m: could not convert string to float: ''"
     ]
    }
   ],
   "source": [
    "import csv\n",
    "\n",
    "with open('year2017-7767.csv') as file_obj:\n",
    "    file_data = csv.reader(file_obj, skipinitialspace=True)\n",
    "    file_list = list(file_data)\n",
    "\n",
    "# the values are strings, so we can use int or float\n",
    "killed=[]\n",
    "for row in file_list[1:]:\n",
    "    killed.append(float(row[9]))\n",
    "killed"
   ]
  },
  {
   "cell_type": "code",
   "execution_count": 61,
   "id": "586e6615-ddb0-449a-9e44-ba8426f47e77",
   "metadata": {},
   "outputs": [],
   "source": [
    "# Above error is caused because there may be values which are missing \"\" i.e empty strings"
   ]
  },
  {
   "cell_type": "code",
   "execution_count": 63,
   "id": "4907d099-e225-4f25-80d0-62ca5cb2d3b5",
   "metadata": {},
   "outputs": [
    {
     "name": "stdout",
     "output_type": "stream",
     "text": [
      "Total killed 26445\n"
     ]
    }
   ],
   "source": [
    "import csv\n",
    "\n",
    "with open('year2017-7767.csv') as file_obj:\n",
    "    file_data = csv.reader(file_obj, skipinitialspace=True)\n",
    "    file_list = list(file_data)\n",
    "\n",
    "# the values are strings, so we can use int or float\n",
    "killed=[]\n",
    "for row in file_list[1:]:\n",
    "    val= row[9]\n",
    "    if val!=\"\":\n",
    "        killed.append(float(row[9]))\n",
    "        \n",
    "print(\"Total killed\",int(sum(killed)))"
   ]
  },
  {
   "cell_type": "code",
   "execution_count": 5,
   "id": "647e66f0-1386-4c26-8e4e-d91013efdddc",
   "metadata": {},
   "outputs": [
    {
     "name": "stdout",
     "output_type": "stream",
     "text": [
      "<class 'csv.DictReader'>\n"
     ]
    },
    {
     "ename": "TypeError",
     "evalue": "'DictReader' object is not subscriptable",
     "output_type": "error",
     "traceback": [
      "\u001b[1;31m---------------------------------------------------------------------------\u001b[0m",
      "\u001b[1;31mTypeError\u001b[0m                                 Traceback (most recent call last)",
      "Cell \u001b[1;32mIn[5], line 8\u001b[0m\n\u001b[0;32m      6\u001b[0m     file_data \u001b[38;5;241m=\u001b[39m csv\u001b[38;5;241m.\u001b[39mDictReader(file_obj, skipinitialspace\u001b[38;5;241m=\u001b[39m\u001b[38;5;28;01mTrue\u001b[39;00m)\n\u001b[0;32m      7\u001b[0m     \u001b[38;5;28mprint\u001b[39m(\u001b[38;5;28mtype\u001b[39m(file_data)) \n\u001b[1;32m----> 8\u001b[0m     \u001b[38;5;28;01mfor\u001b[39;00m row \u001b[38;5;129;01min\u001b[39;00m \u001b[43mfile_data\u001b[49m\u001b[43m[\u001b[49m\u001b[43m:\u001b[49m\u001b[38;5;241;43m2\u001b[39;49m\u001b[43m]\u001b[49m:\n\u001b[0;32m      9\u001b[0m         \u001b[38;5;28mprint\u001b[39m(row)\n\u001b[0;32m     10\u001b[0m \u001b[38;5;66;03m# instead of indexes, now we can use keys for extracting\u001b[39;00m\n",
      "\u001b[1;31mTypeError\u001b[0m: 'DictReader' object is not subscriptable"
     ]
    }
   ],
   "source": [
    "# We can use DictReader instead , data will be convereted into key value pir, key will be column header \n",
    "import csv\n",
    "# every row is conveted into dictionary\n",
    "# by default it takes 0th row as key\n",
    "with open('year2017-7767.csv') as file_obj:\n",
    "    file_data = csv.DictReader(file_obj, skipinitialspace=True)\n",
    "    print(type(file_data)) \n",
    "    for row in file_data[:2]:\n",
    "        print(row)\n",
    "# instead of indexes, now we can use keys for extracting"
   ]
  },
  {
   "cell_type": "code",
   "execution_count": 8,
   "id": "213fd412-8d7d-463b-95f9-e112a7a5f17d",
   "metadata": {},
   "outputs": [
    {
     "name": "stdout",
     "output_type": "stream",
     "text": [
      "{'Year': '2017', 'Month': '1', 'Day': '2', 'Country': 'Afghanistan', 'Region': 'South Asia', 'city': 'Takhta Pul', 'latitude': '31.320556', 'longitude': '65.961111', 'AttackType': 'Hostage Taking (Kidnapping)', 'Killed': '0.0', 'Wounded': '0.0', 'Target': 'Construction Workers', 'Group': 'Taliban', 'Target_type': 'Business', 'Weapon_type': 'Firearms', 'casualities': '0.0'}\n",
      "{'Year': '2017', 'Month': '1', 'Day': '3', 'Country': 'Sudan', 'Region': 'Sub-Saharan Africa', 'city': 'Fantaga', 'latitude': '12.921007000000001', 'longitude': '24.318324', 'AttackType': 'Armed Assault', 'Killed': '2.0', 'Wounded': '0.0', 'Target': 'Civilians: Haroun Yousif, Hamid Ibrahim', 'Group': 'Unknown', 'Target_type': 'Private Citizens & Property', 'Weapon_type': 'Firearms', 'casualities': '2.0'}\n"
     ]
    }
   ],
   "source": [
    "import csv\n",
    "\n",
    "with open('year2017-7767.csv') as file_obj:\n",
    "    file_data = csv.DictReader(file_obj, skipinitialspace=True)\n",
    "    file_data_list = list(file_data)\n",
    "    \n",
    "    for row in file_data_list[:2]:\n",
    "        print(row)"
   ]
  },
  {
   "cell_type": "code",
   "execution_count": 12,
   "id": "e69dd1d5-3935-4416-a52f-8a0b8bc90947",
   "metadata": {},
   "outputs": [
    {
     "name": "stdout",
     "output_type": "stream",
     "text": [
      "Firearms\n",
      "Firearms\n",
      "Melee\n",
      "Melee\n",
      "Firearms\n",
      "Explosives\n",
      "Explosives\n",
      "Explosives\n",
      "Explosives\n",
      "Firearms\n"
     ]
    }
   ],
   "source": [
    "import csv\n",
    "\n",
    "with open('year2017-7767.csv') as file_obj:\n",
    "    file_data = csv.DictReader(file_obj, skipinitialspace=True)\n",
    "    file_data_list = list(file_data)\n",
    "    for row in file_data_list[:10]:\n",
    "        print(row['Weapon_type'])"
   ]
  },
  {
   "cell_type": "code",
   "execution_count": 17,
   "id": "e374b1d5-c186-420e-85cb-3ab68b07d6b4",
   "metadata": {},
   "outputs": [
    {
     "name": "stdout",
     "output_type": "stream",
     "text": [
      "{'Afghanistan': 6092, 'Sudan': 82, 'Democratic Republic of the Congo': 596, 'Turkey': 222, 'Syria': 2026, 'Pakistan': 1076, 'Italy': 0, 'Somalia': 1912, 'Yemen': 762, 'Bahrain': 6, 'Myanmar': 218, 'Burundi': 20, 'Iraq': 6476, 'Egypt': 877, 'Burkina Faso': 53, 'India': 465, 'Algeria': 12, 'United States': 95, 'Philippines': 496, 'Greece': 0, 'Mali': 361, 'Libya': 289, 'Central African Republic': 601, 'Nigeria': 1805, 'Lebanon': 17, 'Mexico': 23, 'Cameroon': 228, 'Ethiopia': 67, 'Kyrgyzstan': 0, 'Serbia': 0, 'Sweden': 5, 'Thailand': 72, 'Iran': 39, 'France': 7, 'United Kingdom': 42, 'West Bank and Gaza Strip': 50, 'Ukraine': 40, 'Paraguay': 4, 'Colombia': 84, 'Malaysia': 4, 'Russia': 61, 'Kosovo': 0, 'South Africa': 21, 'Chile': 0, 'Kenya': 126, 'Israel': 3, 'Saudi Arabia': 31, 'China': 16, 'Nepal': 4, 'Ecuador': 0, 'Niger': 148, 'Venezuela': 5, 'South Sudan': 581, 'Canada': 6, 'Bangladesh': 25, 'Tajikistan': 1, 'Angola': 7, 'Ireland': 0, 'Peru': 8, 'Dominican Republic': 2, 'Poland': 0, 'Jordan': 4, 'Azerbaijan': 5, 'Mozambique': 22, 'Indonesia': 20, 'Germany': 1, 'Brazil': 0, 'Macedonia': 0, 'Tunisia': 5, 'Uganda': 7, 'Chad': 62, 'Finland': 2, 'Australia': 4, 'Norway': 0, 'Vietnam': 0, 'Tanzania': 8, 'Sierra Leone': 0, 'Sri Lanka': 1, 'Maldives': 1, 'Belgium': 2, 'Rwanda': 2, 'Honduras': 2, 'Czech Republic': 0, 'Malta': 1, 'Gabon': 0, 'Laos': 1, 'Djibouti': 0, 'Austria': 2, 'Zambia': 0, 'Argentina': 0, 'Papua New Guinea': 0, 'Zimbabwe': 0, 'Ivory Coast': 3, 'Spain': 21, 'Taiwan': 0, 'Jamaica': 0, 'Albania': 0, 'Liberia': 0, 'Georgia': 0, 'Malawi': 0, 'Netherlands': 0, 'Latvia': 0}\n"
     ]
    }
   ],
   "source": [
    "# Total no of people killed from each country\n",
    "\n",
    "import csv\n",
    "\n",
    "with open('year2017-7767.csv') as file_obj:\n",
    "    file_data = csv.DictReader(file_obj, skipinitialspace=True)\n",
    "\n",
    "    data_dict = {}\n",
    "    for row in file_data:\n",
    "        str_killed = row['Killed']\n",
    "        \n",
    "        if str_killed != \"\":\n",
    "            int_killed = int(float(str_killed))  # Convert to integer, handling floating-point values\n",
    "        else:\n",
    "            int_killed = 0\n",
    "\n",
    "        data_dict[row['Country']] = data_dict.get(row['Country'], 0) + int_killed\n",
    "    print(data_dict)\n",
    "\n",
    "    # for key, value in data_dict.items():  # Use items() to access both keys and values\n",
    "    #     print(key, value)"
   ]
  },
  {
   "cell_type": "code",
   "execution_count": 18,
   "id": "3ad38897-2405-40b4-98b9-49f150ced9f1",
   "metadata": {},
   "outputs": [
    {
     "name": "stdout",
     "output_type": "stream",
     "text": [
      "{'Afghanistan': 6092, 'Sudan': 82, 'Democratic Republic of the Congo': 596, 'Turkey': 222, 'Syria': 2026, 'Pakistan': 1076, 'Italy': 0, 'Somalia': 1912, 'Yemen': 762, 'Bahrain': 6, 'Myanmar': 218, 'Burundi': 20, 'Iraq': 6476, 'Egypt': 877, 'Burkina Faso': 53, 'India': 465, 'Algeria': 12, 'United States': 95, 'Philippines': 496, 'Greece': 0, 'Mali': 361, 'Libya': 289, 'Central African Republic': 601, 'Nigeria': 1805, 'Lebanon': 17, 'Mexico': 23, 'Cameroon': 228, 'Ethiopia': 67, 'Kyrgyzstan': 0, 'Serbia': 0, 'Sweden': 5, 'Thailand': 72, 'Iran': 39, 'France': 7, 'United Kingdom': 42, 'West Bank and Gaza Strip': 50, 'Ukraine': 40, 'Paraguay': 4, 'Colombia': 84, 'Malaysia': 4, 'Russia': 61, 'Kosovo': 0, 'South Africa': 21, 'Chile': 0, 'Kenya': 126, 'Israel': 3, 'Saudi Arabia': 31, 'China': 16, 'Nepal': 4, 'Ecuador': 0, 'Niger': 148, 'Venezuela': 5, 'South Sudan': 581, 'Canada': 6, 'Bangladesh': 25, 'Tajikistan': 1, 'Angola': 7, 'Ireland': 0, 'Peru': 8, 'Dominican Republic': 2, 'Poland': 0, 'Jordan': 4, 'Azerbaijan': 5, 'Mozambique': 22, 'Indonesia': 20, 'Germany': 1, 'Brazil': 0, 'Macedonia': 0, 'Tunisia': 5, 'Uganda': 7, 'Chad': 62, 'Finland': 2, 'Australia': 4, 'Norway': 0, 'Vietnam': 0, 'Tanzania': 8, 'Sierra Leone': 0, 'Sri Lanka': 1, 'Maldives': 1, 'Belgium': 2, 'Rwanda': 2, 'Honduras': 2, 'Czech Republic': 0, 'Malta': 1, 'Gabon': 0, 'Laos': 1, 'Djibouti': 0, 'Austria': 2, 'Zambia': 0, 'Argentina': 0, 'Papua New Guinea': 0, 'Zimbabwe': 0, 'Ivory Coast': 3, 'Spain': 21, 'Taiwan': 0, 'Jamaica': 0, 'Albania': 0, 'Liberia': 0, 'Georgia': 0, 'Malawi': 0, 'Netherlands': 0, 'Latvia': 0}\n"
     ]
    }
   ],
   "source": [
    "# Total no of people killed from each country\n",
    "import csv\n",
    "\n",
    "with open('year2017-7767.csv') as file_obj:\n",
    "    file_data = csv.DictReader(file_obj, skipinitialspace=True)\n",
    "    file_list = list(file_data)\n",
    "    \n",
    "    country_killed = {}\n",
    "    \n",
    "    for row in file_list:\n",
    "        key = row['Country']\n",
    "        value = row['Killed']\n",
    "        if value != \"\":\n",
    "            value = int(float(value))  # Convert to integer, handling floating-point values\n",
    "        else:\n",
    "            value = 0\n",
    "        country_killed[key] = country_killed.get(key, 0) + value\n",
    "        \n",
    "    print(country_killed)"
   ]
  },
  {
   "cell_type": "code",
   "execution_count": 19,
   "id": "104f696a-a095-4ff6-8d7e-97e551f4fb85",
   "metadata": {},
   "outputs": [
    {
     "data": {
      "text/plain": [
       "'Lorem ipsum dolor sit amet, consectetur adipiscing elit. Vivamus condimentum sagittis lacus, laoreet'"
      ]
     },
     "execution_count": 19,
     "metadata": {},
     "output_type": "execute_result"
    }
   ],
   "source": [
    "# Print 100 Bytes of file and print them\n",
    "\n",
    "with open('sample-7766.txt', 'r') as file_obj:\n",
    "    data = file_obj.read(100) #no of bytes to read =100\n",
    "data"
   ]
  },
  {
   "cell_type": "code",
   "execution_count": 20,
   "id": "3dffb9e7-0233-4b79-ab02-f70ecf6625c5",
   "metadata": {},
   "outputs": [
    {
     "name": "stdout",
     "output_type": "stream",
     "text": [
      "Lorem ipsum dolor sit amet, consectetur adipiscing elit. Vivamus condimentum sagittis lacus, laoreet luctus ligula laoreet ut. Vestibulum ullamcorper accumsan velit vel vehicula. Proin tempor lacus arcu. Nunc at elit condimentum, semper nisi et, condimentum mi. In venenatis blandit nibh at sollicitudin. Vestibulum dapibus mauris at orci maximus pellentesque. Nullam id elementum ipsum. Suspendisse cursus lobortis viverra. Proin et erat at mauris tincidunt porttitor vitae ac dui.\n",
      "\n",
      "Donec vulputate lorem tortor, nec fermentum nibh bibendum vel. Lorem ipsum dolor sit amet, consectetur adipiscing elit. Praesent dictum luctus massa, non euismod lacus. Pellentesque condimentum dolor est, ut dapibus lectus luctus ac. Ut sagittis commodo arcu. Integer nisi nulla, facilisis sit amet nulla quis, eleifend suscipit purus. Class aptent taciti sociosqu ad litora torquent per conubia nostra, per inceptos himenaeos. Aliquam euismod ultrices lorem, sit amet imperdiet est tincidunt vel. Phasellus dictum justo sit amet ligula varius aliquet auctor et metus. Fusce vitae tortor et nisi pulvinar vestibulum eget in risus. Donec ante ex, placerat a lorem eget, ultricies bibendum purus. Nam sit amet neque non ante laoreet rutrum. Nullam aliquet commodo urna, sed ullamcorper odio feugiat id. Mauris nisi sapien, porttitor in condimentum nec, venenatis eu urna. Pellentesque feugiat diam est, at rhoncus orci porttitor non.\n",
      "\n",
      "Nulla luctus sem sit amet nisi consequat, id ornare ipsum dignissim. Sed elementum elit nibh, eu condimentum orci viverra quis. Aenean suscipit vitae felis non suscipit. Suspendisse pharetra turpis non eros semper dictum. Etiam tincidunt venenatis venenatis. Praesent eget gravida lorem, ut congue diam. Etiam facilisis elit at porttitor egestas. Praesent consequat, velit non vulputate convallis, ligula diam sagittis urna, in venenatis nisi justo ut mauris. Vestibulum posuere sollicitudin mi, et vulputate nisl fringilla non. Nulla ornare pretium velit a euismod. Nunc sagittis venenatis vestibulum. Nunc sodales libero a est ornare ultricies. Sed sed leo sed orci pellentesque ultrices. Mauris sollicitudin, sem quis placerat ornare, velit arcu convallis ligula, pretium finibus nisl sapien vel sem. Vivamus sit amet tortor id lorem consequat hendrerit. Nullam at dui risus.\n",
      "\n",
      "Vestibulum ante ipsum primis in faucibus orci luctus et ultrices posuere cubilia Curae; Lorem ipsum dolor sit amet, consectetur adipiscing elit. Sed feugiat semper velit consequat facilisis. Etiam facilisis justo non iaculis dictum. Fusce turpis neque, pharetra ut odio eu, hendrerit rhoncus lacus. Nunc orci felis, imperdiet vel interdum quis, porta eu ipsum. Pellentesque dictum sem lacinia, auctor dui in, malesuada nunc. Maecenas sit amet mollis eros. Proin fringilla viverra ligula, sollicitudin viverra ante sollicitudin congue. Donec mollis felis eu libero malesuada, et lacinia risus interdum.\n",
      "\n",
      "Etiam vitae accumsan augue. Ut urna orci, malesuada ut nisi a, condimentum gravida magna. Nulla bibendum ex in vulputate sagittis. Nulla facilisi. Nullam faucibus et metus ac consequat. Quisque tempor eros velit, id mattis nibh aliquet a. Aenean tempor elit ut finibus auctor. Sed at imperdiet mauris. Vestibulum pharetra non lacus sed pulvinar. Sed pellentesque magna a eros volutpat ullamcorper. In hac habitasse platea dictumst. Donec ipsum mi, feugiat in eros sed, varius lacinia turpis. Donec vulputate tincidunt dui ac laoreet. Sed in eros dui. Pellentesque placerat tristique ligula eu finibus. Proin nec faucibus felis, eu commodo ipsum.\n",
      "\n"
     ]
    }
   ],
   "source": [
    "# Print 5 Lines using readline\n",
    "\n",
    "with open('sample-7766.txt', 'r') as file_obj:\n",
    "    print(file_obj.readline())\n",
    "    print(file_obj.readline())\n",
    "    print(file_obj.readline())\n",
    "    print(file_obj.readline())\n",
    "    print(file_obj.readline())"
   ]
  },
  {
   "cell_type": "code",
   "execution_count": 21,
   "id": "cf291452-cfd4-4dd2-9b63-7153552287dc",
   "metadata": {},
   "outputs": [
    {
     "name": "stdout",
     "output_type": "stream",
     "text": [
      "Lorem ipsum dolor sit amet, consectetur adipiscing elit. Vivamus condimentum sagittis lacus, laoreet luctus ligula laoreet ut. Vestibulum ullamcorper accumsan velit vel vehicula. Proin tempor lacus arcu. Nunc at elit condimentum, semper nisi et, condimentum mi. In venenatis blandit nibh at sollicitudin. Vestibulum dapibus mauris at orci maximus pellentesque. Nullam id elementum ipsum. Suspendisse cursus lobortis viverra. Proin et erat at mauris tincidunt porttitor vitae ac dui.\n",
      "\n",
      "Donec vulputate lorem tortor, nec fermentum nibh bibendum vel. Lorem ipsum dolor sit amet, consectetur adipiscing elit. Praesent dictum luctus massa, non euismod lacus. Pellentesque condimentum dolor est, ut dapibus lectus luctus ac. Ut sagittis commodo arcu. Integer nisi nulla, facilisis sit amet nulla quis, eleifend suscipit purus. Class aptent taciti sociosqu ad litora torquent per conubia nostra, per inceptos himenaeos. Aliquam euismod ultrices lorem, sit amet imperdiet est tincidunt vel. Phasellus dictum justo sit amet ligula varius aliquet auctor et metus. Fusce vitae tortor et nisi pulvinar vestibulum eget in risus. Donec ante ex, placerat a lorem eget, ultricies bibendum purus. Nam sit amet neque non ante laoreet rutrum. Nullam aliquet commodo urna, sed ullamcorper odio feugiat id. Mauris nisi sapien, porttitor in condimentum nec, venenatis eu urna. Pellentesque feugiat diam est, at rhoncus orci porttitor non.\n",
      "\n",
      "Nulla luctus sem sit amet nisi consequat, id ornare ipsum dignissim. Sed elementum elit nibh, eu condimentum orci viverra quis. Aenean suscipit vitae felis non suscipit. Suspendisse pharetra turpis non eros semper dictum. Etiam tincidunt venenatis venenatis. Praesent eget gravida lorem, ut congue diam. Etiam facilisis elit at porttitor egestas. Praesent consequat, velit non vulputate convallis, ligula diam sagittis urna, in venenatis nisi justo ut mauris. Vestibulum posuere sollicitudin mi, et vulputate nisl fringilla non. Nulla ornare pretium velit a euismod. Nunc sagittis venenatis vestibulum. Nunc sodales libero a est ornare ultricies. Sed sed leo sed orci pellentesque ultrices. Mauris sollicitudin, sem quis placerat ornare, velit arcu convallis ligula, pretium finibus nisl sapien vel sem. Vivamus sit amet tortor id lorem consequat hendrerit. Nullam at dui risus.\n",
      "\n"
     ]
    }
   ],
   "source": [
    "# Print 3 Lines using readlines\n",
    "\n",
    "with open('sample-7766.txt', 'r') as file_obj:\n",
    "    data= file_obj.readlines() #produces list of lines of strings\n",
    "    for i in data[:3]:\n",
    "        print(i)"
   ]
  },
  {
   "cell_type": "code",
   "execution_count": 24,
   "id": "90da3b08-1364-424f-9adf-c689f8b49432",
   "metadata": {},
   "outputs": [
    {
     "name": "stdout",
     "output_type": "stream",
     "text": [
      "{'Year': '2017', 'Month': '1', 'Day': '2', 'Country': 'Afghanistan', 'Region': 'South Asia', 'city': 'Takhta Pul', 'latitude': '31.320556', 'longitude': '65.961111', 'AttackType': 'Hostage Taking (Kidnapping)', 'Killed': '0.0', 'Wounded': '0.0', 'Target': 'Construction Workers', 'Group': 'Taliban', 'Target_type': 'Business', 'Weapon_type': 'Firearms', 'casualities': '0.0'}\n",
      "\n",
      "{'Year': '2017', 'Month': '1', 'Day': '3', 'Country': 'Sudan', 'Region': 'Sub-Saharan Africa', 'city': 'Fantaga', 'latitude': '12.921007000000001', 'longitude': '24.318324', 'AttackType': 'Armed Assault', 'Killed': '2.0', 'Wounded': '0.0', 'Target': 'Civilians: Haroun Yousif, Hamid Ibrahim', 'Group': 'Unknown', 'Target_type': 'Private Citizens & Property', 'Weapon_type': 'Firearms', 'casualities': '2.0'}\n",
      "\n",
      "{'Year': '2017', 'Month': '1', 'Day': '1', 'Country': 'Democratic Republic of the Congo', 'Region': 'Sub-Saharan Africa', 'city': 'Saboko', 'latitude': '1.452372', 'longitude': '29.875162', 'AttackType': 'Armed Assault', 'Killed': '7.0', 'Wounded': '0.0', 'Target': 'Village', 'Group': 'Allied Democratic Forces (ADF)', 'Target_type': 'Private Citizens & Property', 'Weapon_type': 'Melee', 'casualities': '7.0'}\n",
      "\n"
     ]
    }
   ],
   "source": [
    "# First 3 lines using DictReader\n",
    "import csv\n",
    "\n",
    "with open('year2017-7767.csv') as file_obj:\n",
    "    data = csv.DictReader(file_obj,skipinitialspace=True)\n",
    "    data_list =list(data)\n",
    "    \n",
    "    for i in data_list[:3]:\n",
    "        print(i)\n",
    "        print()"
   ]
  },
  {
   "cell_type": "code",
   "execution_count": 26,
   "id": "250a235b-9c10-4455-a71a-004603e43c40",
   "metadata": {},
   "outputs": [
    {
     "name": "stdout",
     "output_type": "stream",
     "text": [
      "['2017', '1', '2', 'Afghanistan', 'South Asia', 'Takhta Pul', '31.320556', '65.961111', 'Hostage Taking (Kidnapping)', '0.0', '0.0', 'Construction Workers', 'Taliban', 'Business', 'Firearms', '0.0']\n",
      "\n",
      "['2017', '1', '3', 'Sudan', 'Sub-Saharan Africa', 'Fantaga', '12.921007000000001', '24.318324', 'Armed Assault', '2.0', '0.0', 'Civilians: Haroun Yousif, Hamid Ibrahim', 'Unknown', 'Private Citizens & Property', 'Firearms', '2.0']\n",
      "\n",
      "['2017', '1', '1', 'Democratic Republic of the Congo', 'Sub-Saharan Africa', 'Saboko', '1.452372', '29.875162', 'Armed Assault', '7.0', '0.0', 'Village', 'Allied Democratic Forces (ADF)', 'Private Citizens & Property', 'Melee', '7.0']\n",
      "\n",
      "['2017', '1', '1', 'Democratic Republic of the Congo', 'Sub-Saharan Africa', 'Bialee', '1.4523700000000002', '29.875186', 'Armed Assault', '7.0', '0.0', 'Village', 'Allied Democratic Forces (ADF)', 'Private Citizens & Property', 'Melee', '7.0']\n",
      "\n"
     ]
    }
   ],
   "source": [
    "# First 3 lines using reader\n",
    "import csv\n",
    "\n",
    "with open('year2017-7767.csv') as file_obj:\n",
    "    data = csv.reader(file_obj,skipinitialspace=True) \n",
    "    data_list = list(data) #list of rows\n",
    "    j=0\n",
    "    for i in data_list[1:]:\n",
    "        if j>3:\n",
    "            break\n",
    "        print(i)\n",
    "        print()\n",
    "        j+=1"
   ]
  },
  {
   "cell_type": "code",
   "execution_count": 27,
   "id": "0a9ccf75-cf87-467a-8627-856df57b3c36",
   "metadata": {},
   "outputs": [
    {
     "name": "stdout",
     "output_type": "stream",
     "text": [
      "Year\n",
      "Month\n",
      "Day\n",
      "Country\n",
      "Region\n",
      "city\n",
      "latitude\n",
      "longitude\n",
      "AttackType\n",
      "Killed\n",
      "Wounded\n",
      "Target\n",
      "Group\n",
      "Target_type\n",
      "Weapon_type\n",
      "casualities\n"
     ]
    }
   ],
   "source": [
    "# Print all Column names\n",
    "import csv\n",
    "\n",
    "with open('year2017-7767.csv') as file_obj:\n",
    "    data = csv.reader(file_obj,skipinitialspace=True)\n",
    "    data_list = list(data) \n",
    "    for i in data_list[0]: #first is colum names\n",
    "        print(i)"
   ]
  },
  {
   "cell_type": "code",
   "execution_count": 28,
   "id": "cbb8129b-1cbc-4bd9-b08f-b74456a20cd5",
   "metadata": {},
   "outputs": [
    {
     "name": "stdout",
     "output_type": "stream",
     "text": [
      "Afghanistan\n",
      "Sudan\n",
      "Democratic Republic of the Congo\n",
      "Democratic Republic of the Congo\n",
      "Turkey\n",
      "Syria\n",
      "Pakistan\n",
      "Italy\n",
      "Turkey\n",
      "Turkey\n",
      "Somalia\n"
     ]
    }
   ],
   "source": [
    "# First 10 country names\n",
    "import csv\n",
    "\n",
    "with open('year2017-7767.csv') as file_obj:\n",
    "    data = csv.DictReader(file_obj,skipinitialspace=True)\n",
    "    data_list = list(data)\n",
    "    j=0\n",
    "    for i in data_list:\n",
    "        if j>10:\n",
    "            break\n",
    "        print(i['Country'])\n",
    "        j+=1"
   ]
  },
  {
   "cell_type": "code",
   "execution_count": 31,
   "id": "8cfebd62-c811-4f57-90d3-ca5bd3fa2b62",
   "metadata": {},
   "outputs": [
    {
     "name": "stdout",
     "output_type": "stream",
     "text": [
      "24927\n"
     ]
    }
   ],
   "source": [
    "# Total Wounded People\n",
    "import csv\n",
    "\n",
    "with open('year2017-7767.csv','r') as file_obj:\n",
    "    data = csv.DictReader(file_obj, skipinitialspace=True)\n",
    "    data_list = list(data)\n",
    "    s=0\n",
    "    for i in data_list:\n",
    "        val= i['Wounded']\n",
    "        if val!=\"\":\n",
    "            val= int(float(val))\n",
    "        else:\n",
    "            val=0\n",
    "        s+=val\n",
    "print(s)"
   ]
  },
  {
   "cell_type": "code",
   "execution_count": 1,
   "id": "327ce3e5-e35e-4500-98dd-89430b3c78a4",
   "metadata": {},
   "outputs": [
    {
     "name": "stdout",
     "output_type": "stream",
     "text": [
      "702\n"
     ]
    }
   ],
   "source": [
    "# Total Wounded From India\n",
    "import csv\n",
    "\n",
    "with open('year2017-7767.csv', 'r') as file_obj:\n",
    "    data = csv.DictReader(file_obj, skipinitialspace=True)\n",
    "\n",
    "    wounded_india = []\n",
    "    for row in data:\n",
    "        country = row['Country']\n",
    "        val = row['Wounded']\n",
    "\n",
    "        if val != \"\" and country == \"India\":\n",
    "            wounded_india.append(int(float(val)))\n",
    "\n",
    "total_wounded_india = sum(wounded_india)\n",
    "print(total_wounded_india)"
   ]
  },
  {
   "cell_type": "code",
   "execution_count": 2,
   "id": "aca2f982-6f83-4a3e-b95d-e8de607beaf0",
   "metadata": {},
   "outputs": [
    {
     "name": "stdout",
     "output_type": "stream",
     "text": [
      "29280\n"
     ]
    }
   ],
   "source": [
    "# Casulties from Explosives\n",
    "\n",
    "import csv\n",
    "\n",
    "with open('year2017-7767.csv', 'r') as file_obj:\n",
    "    data = csv.DictReader(file_obj, skipinitialspace=True)\n",
    "    casualities =[]\n",
    "    \n",
    "    for row in data:\n",
    "        val = row['Weapon_type']\n",
    "        temp = row['casualities']\n",
    "        if(val == 'Explosives' and temp!=''):\n",
    "            casualities.append(int(float(temp)))\n",
    "\n",
    "print(sum(casualities))"
   ]
  },
  {
   "cell_type": "code",
   "execution_count": 3,
   "id": "892b69a4-6827-4489-bb3a-513647b9a61e",
   "metadata": {},
   "outputs": [
    {
     "name": "stdout",
     "output_type": "stream",
     "text": [
      "1 2275\n",
      "2 2027\n",
      "3 2463\n",
      "4 2142\n",
      "5 2936\n",
      "6 2506\n",
      "7 2228\n",
      "8 2145\n",
      "9 1764\n",
      "10 2580\n",
      "11 2014\n",
      "12 1365\n"
     ]
    }
   ],
   "source": [
    "# Month vs Killed\n",
    "# Total no of people killed in each month\n",
    "# Print the month and count of killed people as integer value\n",
    "import csv\n",
    "\n",
    "with open('year2017-7767.csv', 'r') as file_obj:\n",
    "    data = csv.DictReader(file_obj, skipinitialspace=True)\n",
    "    dict ={}\n",
    "    for row in data:\n",
    "        month= row['Month']\n",
    "        killed= row['Killed'] \n",
    "        if killed!='':\n",
    "            killed=int(float(killed))\n",
    "        else:\n",
    "            killed=0\n",
    "        dict[month]=dict.get(month,0) + killed\n",
    "for key,value in dict.items():\n",
    "    print(key,value)"
   ]
  },
  {
   "cell_type": "code",
   "execution_count": 5,
   "id": "8029aa59-194a-443a-93bf-7982ed89034a",
   "metadata": {},
   "outputs": [],
   "source": [
    "# Country vs casualities\n",
    "import csv\n",
    "\n",
    "with open('year2017-7767.csv', 'r') as file_obj:\n",
    "    data = csv.DictReader(file_obj, skipinitialspace=True)\n",
    "    dict ={}\n",
    "    for row in data:\n",
    "        country= row['Country']\n",
    "        casualities= row['casualities'] \n",
    "        if casualities!='':\n",
    "            casualities=int(float(casualities))\n",
    "        else:\n",
    "            casualities=0\n",
    "        dict[country]=dict.get(country,0) + casualities"
   ]
  },
  {
   "cell_type": "code",
   "execution_count": 6,
   "id": "2e04db80-142d-4085-a0c1-d8d1410a1da6",
   "metadata": {},
   "outputs": [
    {
     "name": "stdout",
     "output_type": "stream",
     "text": [
      "Number of job openings in Bangalore, IN: 66\n",
      "Number of job openings in Seattle, US: 1856\n"
     ]
    }
   ],
   "source": [
    "# Amazon jobs Dataset from 2011 to 2018\n",
    "\n",
    "# Find no of job openings in Banglore,IN and in Seattle,US\n",
    "import csv\n",
    "\n",
    "# Specify the correct encoding when opening the CSV file\n",
    "with open('amazon_jobs_dataset.csv', 'r', encoding='utf-8') as file_obj:\n",
    "    data = csv.DictReader(file_obj, skipinitialspace=True)\n",
    "\n",
    "    india_openings = 0\n",
    "    usa_openings = 0\n",
    "\n",
    "    for row in data:\n",
    "        location = row['location'].lower()\n",
    "        if \"bangalore\" in location:\n",
    "            india_openings += 1\n",
    "        if \"seattle\" in location:\n",
    "            usa_openings += 1\n",
    "\n",
    "print(\"Number of job openings in Bangalore, IN:\", india_openings)\n",
    "print(\"Number of job openings in Seattle, US:\", usa_openings)\n"
   ]
  },
  {
   "cell_type": "code",
   "execution_count": 7,
   "id": "6850d773-bd39-4d94-940c-ccc939cf2ce6",
   "metadata": {},
   "outputs": [
    {
     "name": "stdout",
     "output_type": "stream",
     "text": [
      "Number of job openings in Computer Vision: 14\n"
     ]
    }
   ],
   "source": [
    "# Job Computer vision\n",
    "\n",
    "import csv\n",
    "\n",
    "with open('amazon_jobs_dataset.csv', 'r', encoding='utf-8') as file_obj:\n",
    "    data = csv.DictReader(file_obj, skipinitialspace=True)\n",
    "\n",
    "    computer_vision_openings = 0\n",
    "\n",
    "    for row in data:\n",
    "        job_title = row['Title'].lower()\n",
    "        if \"computer vision\" in job_title:\n",
    "            computer_vision_openings += 1\n",
    "\n",
    "print(\"Number of job openings in Computer Vision:\", computer_vision_openings)"
   ]
  },
  {
   "cell_type": "code",
   "execution_count": 8,
   "id": "d286781b-47df-4b2e-ab5f-3f210aff7608",
   "metadata": {},
   "outputs": [
    {
     "name": "stdout",
     "output_type": "stream",
     "text": [
      "Number of job openings in Canada: 156\n"
     ]
    }
   ],
   "source": [
    "# Job openings Canada\n",
    "\n",
    "import csv\n",
    "\n",
    "with open('amazon_jobs_dataset.csv', 'r', encoding='utf-8') as file_obj:\n",
    "    data = csv.DictReader(file_obj, skipinitialspace=True)\n",
    "\n",
    "    canada_openings = 0\n",
    "\n",
    "    for row in data:\n",
    "        location =(\"CA\" in row['location'].split(','))\n",
    "        if location:\n",
    "            canada_openings += 1\n",
    "\n",
    "print(\"Number of job openings in Canada:\", canada_openings)"
   ]
  },
  {
   "cell_type": "code",
   "execution_count": 10,
   "id": "47cd772d-8c15-4152-bdef-960d8641590e",
   "metadata": {},
   "outputs": [
    {
     "name": "stdout",
     "output_type": "stream",
     "text": [
      "Month having most job openings in Year 2018  January   907\n"
     ]
    }
   ],
   "source": [
    "# Job Month 2018\n",
    "# Find the month having most job openings in year 2018\n",
    "# Job openings Canada\n",
    "\n",
    "import csv\n",
    "\n",
    "with open('amazon_jobs_dataset.csv', 'r', encoding='utf-8') as file_obj:\n",
    "    data = csv.DictReader(file_obj, skipinitialspace=True)\n",
    "\n",
    "    month_openings={}\n",
    "    \n",
    "    for row in data:\n",
    "        date =row['Posting_date']\n",
    "        if '2018' in date:\n",
    "            posting_date =date.split(',')\n",
    "            month = posting_date[0].split()[0]\n",
    "            month_openings[month] = month_openings.get(month,0)+1\n",
    "\n",
    "month = max(month_openings, key=month_openings.get)\n",
    "\n",
    "print(\"Month having most job openings in Year 2018 \",month,\" \",month_openings[month] )"
   ]
  },
  {
   "cell_type": "code",
   "execution_count": 11,
   "id": "671c0607-c2cd-4bf8-b48e-0468b4bc19b4",
   "metadata": {},
   "outputs": [
    {
     "name": "stdout",
     "output_type": "stream",
     "text": [
      "Total Jobs for Bachelors Degree is:   3217\n"
     ]
    }
   ],
   "source": [
    "# Job Degree\n",
    "# Bachelor degree as basic qualification\n",
    "\n",
    "import csv\n",
    "\n",
    "with open('amazon_jobs_dataset.csv', 'r', encoding='utf-8') as file_obj:\n",
    "    data = csv.DictReader(file_obj, skipinitialspace=True)\n",
    "\n",
    "    total_positions=0\n",
    "    \n",
    "    for row in data:\n",
    "        basic_qualification = row['BASIC QUALIFICATIONS'].lower()\n",
    "        if (\"bachelor\" in basic_qualification) or (\"bs\" in basic_qualification ) or \"ba\" in basic_qualification:\n",
    "            total_positions+=1\n",
    "\n",
    "print(\"Total Jobs for Bachelors Degree is:  \",total_positions )"
   ]
  },
  {
   "cell_type": "code",
   "execution_count": 13,
   "id": "2d21c5fd-33a9-430d-aa25-1c709c33a094",
   "metadata": {},
   "outputs": [
    {
     "name": "stdout",
     "output_type": "stream",
     "text": [
      "Java 126\n",
      "C++ 86\n",
      "Python 37\n"
     ]
    }
   ],
   "source": [
    "# Language Jobs\n",
    "import csv\n",
    "\n",
    "with open('amazon_jobs_dataset.csv','r',encoding='utf-8') as file_obj:\n",
    "    data = csv.DictReader(file_obj,skipinitialspace=True)\n",
    "\n",
    "    lang_openings={}\n",
    "\n",
    "    for row in data:\n",
    "        basic_qualification = row['BASIC QUALIFICATIONS']\n",
    "        location = row['location']\n",
    "        isIndia=False\n",
    "        if ('India' in location) or \"IN\" in location:\n",
    "            isIndia =True\n",
    "        if isIndia and ((\"Bachelor\" in basic_qualification) or (\"BS\" in basic_qualification ) or (\"BA\" in basic_qualification)):\n",
    "            if 'Java' in basic_qualification:\n",
    "                lang_openings['Java']=lang_openings.get('Java',0)+1\n",
    "            if 'C++' in basic_qualification:\n",
    "                lang_openings['C++']=lang_openings.get('C++',0)+1\n",
    "            if 'Python' in basic_qualification:\n",
    "                lang_openings['Python']=lang_openings.get('Python',0)+1\n",
    "\n",
    "for key,value in lang_openings.items():\n",
    "    print(key,value)\n",
    "\n",
    "# print(max(lang_openings,key=lang_openings.get))"
   ]
  },
  {
   "cell_type": "code",
   "execution_count": 14,
   "id": "86fc0429-4203-4db3-b665-eef50f96e6ab",
   "metadata": {},
   "outputs": [
    {
     "name": "stdout",
     "output_type": "stream",
     "text": [
      "US, WA, Seattle  1310\n"
     ]
    }
   ],
   "source": [
    "# Language Jobs\n",
    "\n",
    "import csv\n",
    "\n",
    "with open('amazon_jobs_dataset.csv','r',encoding='utf-8') as file_obj:\n",
    "    data = csv.DictReader(file_obj,skipinitialspace=True)\n",
    "\n",
    "    amazon_country_openings={}\n",
    "    for row in data:\n",
    "        basic_qualification = row['BASIC QUALIFICATIONS']\n",
    "        location = row['location']\n",
    "        if 'Java' in basic_qualification:\n",
    "            amazon_country_openings[location]=amazon_country_openings.get(location,0)+1\n",
    "\n",
    "\n",
    "loc=max(amazon_country_openings,key=amazon_country_openings.get)\n",
    "print(loc,amazon_country_openings[loc])"
   ]
  }
 ],
 "metadata": {
  "kernelspec": {
   "display_name": "Python 3 (ipykernel)",
   "language": "python",
   "name": "python3"
  },
  "language_info": {
   "codemirror_mode": {
    "name": "ipython",
    "version": 3
   },
   "file_extension": ".py",
   "mimetype": "text/x-python",
   "name": "python",
   "nbconvert_exporter": "python",
   "pygments_lexer": "ipython3",
   "version": "3.11.3"
  }
 },
 "nbformat": 4,
 "nbformat_minor": 5
}
