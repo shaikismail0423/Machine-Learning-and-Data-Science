{
 "cells": [
  {
   "cell_type": "code",
   "execution_count": 3,
   "id": "aa1ef29d-b0b6-4221-9d22-ca3f58b2973c",
   "metadata": {},
   "outputs": [
    {
     "data": {
      "text/plain": [
       "<sqlite3.Connection at 0x189ad2a5300>"
      ]
     },
     "execution_count": 3,
     "metadata": {},
     "output_type": "execute_result"
    }
   ],
   "source": [
    "import sqlite3\n",
    "\n",
    "db = sqlite3.connect(\"IMDB.sqlite\")\n",
    "db"
   ]
  },
  {
   "cell_type": "code",
   "execution_count": 4,
   "id": "b3df4b6e-f911-4feb-af87-56b9126c8900",
   "metadata": {},
   "outputs": [
    {
     "data": {
      "text/plain": [
       "<sqlite3.Connection at 0x189acd035b0>"
      ]
     },
     "execution_count": 4,
     "metadata": {},
     "output_type": "execute_result"
    }
   ],
   "source": [
    "import sqlite3\n",
    "\n",
    "db = sqlite3.connect(\"IMD.sqlite\") # file not exist\n",
    "# if file not exist, it creates a file and establishes the connection\n",
    "db"
   ]
  },
  {
   "cell_type": "code",
   "execution_count": 5,
   "id": "19f804fa-e42e-4fbe-9acf-1c4d3813de66",
   "metadata": {},
   "outputs": [],
   "source": [
    "# create a cursor object, to to database queries\n",
    "db = sqlite3.connect(\"School.sqlite\")"
   ]
  },
  {
   "cell_type": "code",
   "execution_count": 6,
   "id": "da9ab74e-bdf1-42a5-9978-85888e335a3c",
   "metadata": {},
   "outputs": [
    {
     "data": {
      "text/plain": [
       "<sqlite3.Cursor at 0x189ad28a340>"
      ]
     },
     "execution_count": 6,
     "metadata": {},
     "output_type": "execute_result"
    }
   ],
   "source": [
    "# connection object . cursor\n",
    "\n",
    "cur = db.cursor()\n",
    "sql_query = \"create table Student(RNo int Primary key, Name Text, Age int)\"\n",
    "cur.execute(sql_query)"
   ]
  },
  {
   "cell_type": "code",
   "execution_count": 7,
   "id": "ec83d343-d03c-4edc-b27b-c74ed2bc7dea",
   "metadata": {},
   "outputs": [
    {
     "data": {
      "text/plain": [
       "<sqlite3.Cursor at 0x189ad28a340>"
      ]
     },
     "execution_count": 7,
     "metadata": {},
     "output_type": "execute_result"
    }
   ],
   "source": [
    "cur.execute('insert into Student values (101,\"Ismail\",20), (102,\"Abilash\",23)')"
   ]
  },
  {
   "cell_type": "code",
   "execution_count": 8,
   "id": "9ea0cc33-f944-4cd4-a1f5-e79d60e01307",
   "metadata": {},
   "outputs": [],
   "source": [
    "db.commit() #we should commit our tranaction to reflect in our database"
   ]
  },
  {
   "cell_type": "code",
   "execution_count": 9,
   "id": "4c71d66e-2715-4e78-aae5-cbe616f2188f",
   "metadata": {},
   "outputs": [
    {
     "ename": "IntegrityError",
     "evalue": "UNIQUE constraint failed: Student.RNo",
     "output_type": "error",
     "traceback": [
      "\u001b[1;31m---------------------------------------------------------------------------\u001b[0m",
      "\u001b[1;31mIntegrityError\u001b[0m                            Traceback (most recent call last)",
      "Cell \u001b[1;32mIn[9], line 1\u001b[0m\n\u001b[1;32m----> 1\u001b[0m \u001b[43mcur\u001b[49m\u001b[38;5;241;43m.\u001b[39;49m\u001b[43mexecute\u001b[49m\u001b[43m(\u001b[49m\u001b[38;5;124;43m'\u001b[39;49m\u001b[38;5;124;43minsert into Student values (101,\u001b[39;49m\u001b[38;5;124;43m\"\u001b[39;49m\u001b[38;5;124;43mIsmail\u001b[39;49m\u001b[38;5;124;43m\"\u001b[39;49m\u001b[38;5;124;43m,20)\u001b[39;49m\u001b[38;5;124;43m'\u001b[39;49m\u001b[43m)\u001b[49m\n",
      "\u001b[1;31mIntegrityError\u001b[0m: UNIQUE constraint failed: Student.RNo"
     ]
    }
   ],
   "source": [
    "cur.execute('insert into Student values (101,\"Ismail\",20)')"
   ]
  },
  {
   "cell_type": "code",
   "execution_count": 10,
   "id": "9bcf1ac2-5852-476e-a13a-fd9294524f81",
   "metadata": {},
   "outputs": [],
   "source": [
    "db.close()"
   ]
  },
  {
   "cell_type": "code",
   "execution_count": 11,
   "id": "135748d7-b40a-4491-aaa1-62a332ae4ec4",
   "metadata": {},
   "outputs": [
    {
     "ename": "ProgrammingError",
     "evalue": "Cannot operate on a closed database.",
     "output_type": "error",
     "traceback": [
      "\u001b[1;31m---------------------------------------------------------------------------\u001b[0m",
      "\u001b[1;31mProgrammingError\u001b[0m                          Traceback (most recent call last)",
      "Cell \u001b[1;32mIn[11], line 1\u001b[0m\n\u001b[1;32m----> 1\u001b[0m \u001b[43mcur\u001b[49m\u001b[38;5;241;43m.\u001b[39;49m\u001b[43mexecute\u001b[49m\u001b[43m(\u001b[49m\u001b[38;5;124;43m'\u001b[39;49m\u001b[38;5;124;43minsert into Student values (101,\u001b[39;49m\u001b[38;5;124;43m\"\u001b[39;49m\u001b[38;5;124;43mIsmail\u001b[39;49m\u001b[38;5;124;43m\"\u001b[39;49m\u001b[38;5;124;43m,20)\u001b[39;49m\u001b[38;5;124;43m'\u001b[39;49m\u001b[43m)\u001b[49m\n",
      "\u001b[1;31mProgrammingError\u001b[0m: Cannot operate on a closed database."
     ]
    }
   ],
   "source": [
    "cur.execute('insert into Student values (101,\"Ismail\",20)')"
   ]
  },
  {
   "cell_type": "code",
   "execution_count": 12,
   "id": "9f4a5f6b-80dd-485b-9aa9-8e5c09fbd71d",
   "metadata": {},
   "outputs": [],
   "source": [
    "db = sqlite3.connect('Employee.sqlite')\n",
    "cur = db.cursor()\n",
    "cur.execute(\"create table EmployeeDetail (employeeId int primary key, name Text , age int, department Text, salary int)\")\n",
    "cur.execute('insert into EmployeeDetail values (100,\"Rishav\",25,\"Marketing\",50000),(101,\"Abhishek\",26,\"Operations\",60000),(102,\"Aman\",28,\"Human Resources\",75000)')\n",
    "db.commit()"
   ]
  },
  {
   "cell_type": "code",
   "execution_count": 13,
   "id": "9c24139d-998b-420a-92ea-7148982616f0",
   "metadata": {},
   "outputs": [],
   "source": [
    "db.close()"
   ]
  },
  {
   "cell_type": "code",
   "execution_count": null,
   "id": "e47239c6-861d-4b3c-9858-6938c50db746",
   "metadata": {},
   "outputs": [],
   "source": []
  }
 ],
 "metadata": {
  "kernelspec": {
   "display_name": "Python 3 (ipykernel)",
   "language": "python",
   "name": "python3"
  },
  "language_info": {
   "codemirror_mode": {
    "name": "ipython",
    "version": 3
   },
   "file_extension": ".py",
   "mimetype": "text/x-python",
   "name": "python",
   "nbconvert_exporter": "python",
   "pygments_lexer": "ipython3",
   "version": "3.11.3"
  }
 },
 "nbformat": 4,
 "nbformat_minor": 5
}
