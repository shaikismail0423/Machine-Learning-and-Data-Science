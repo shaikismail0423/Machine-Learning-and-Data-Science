{
 "cells": [
  {
   "cell_type": "code",
   "execution_count": 3,
   "id": "aa1ef29d-b0b6-4221-9d22-ca3f58b2973c",
   "metadata": {},
   "outputs": [
    {
     "data": {
      "text/plain": [
       "<sqlite3.Connection at 0x189ad2a5300>"
      ]
     },
     "execution_count": 3,
     "metadata": {},
     "output_type": "execute_result"
    }
   ],
   "source": [
    "import sqlite3\n",
    "\n",
    "db = sqlite3.connect(\"IMDB.sqlite\")\n",
    "db"
   ]
  },
  {
   "cell_type": "code",
   "execution_count": 4,
   "id": "b3df4b6e-f911-4feb-af87-56b9126c8900",
   "metadata": {},
   "outputs": [
    {
     "data": {
      "text/plain": [
       "<sqlite3.Connection at 0x189acd035b0>"
      ]
     },
     "execution_count": 4,
     "metadata": {},
     "output_type": "execute_result"
    }
   ],
   "source": [
    "import sqlite3\n",
    "\n",
    "db = sqlite3.connect(\"IMD.sqlite\") # file not exist\n",
    "# if file not exist, it creates a file and establishes the connection\n",
    "db"
   ]
  },
  {
   "cell_type": "code",
   "execution_count": 5,
   "id": "19f804fa-e42e-4fbe-9acf-1c4d3813de66",
   "metadata": {},
   "outputs": [],
   "source": [
    "# create a cursor object, to to database queries\n",
    "db = sqlite3.connect(\"School.sqlite\")"
   ]
  },
  {
   "cell_type": "code",
   "execution_count": 6,
   "id": "da9ab74e-bdf1-42a5-9978-85888e335a3c",
   "metadata": {},
   "outputs": [
    {
     "data": {
      "text/plain": [
       "<sqlite3.Cursor at 0x189ad28a340>"
      ]
     },
     "execution_count": 6,
     "metadata": {},
     "output_type": "execute_result"
    }
   ],
   "source": [
    "# connection object . cursor\n",
    "\n",
    "cur = db.cursor()\n",
    "sql_query = \"create table Student(RNo int Primary key, Name Text, Age int)\"\n",
    "cur.execute(sql_query)"
   ]
  },
  {
   "cell_type": "code",
   "execution_count": 7,
   "id": "ec83d343-d03c-4edc-b27b-c74ed2bc7dea",
   "metadata": {},
   "outputs": [
    {
     "data": {
      "text/plain": [
       "<sqlite3.Cursor at 0x189ad28a340>"
      ]
     },
     "execution_count": 7,
     "metadata": {},
     "output_type": "execute_result"
    }
   ],
   "source": [
    "cur.execute('insert into Student values (101,\"Ismail\",20), (102,\"Abilash\",23)')"
   ]
  },
  {
   "cell_type": "code",
   "execution_count": 8,
   "id": "9ea0cc33-f944-4cd4-a1f5-e79d60e01307",
   "metadata": {},
   "outputs": [],
   "source": [
    "db.commit() #we should commit our tranaction to reflect in our database"
   ]
  },
  {
   "cell_type": "code",
   "execution_count": 9,
   "id": "4c71d66e-2715-4e78-aae5-cbe616f2188f",
   "metadata": {},
   "outputs": [
    {
     "ename": "IntegrityError",
     "evalue": "UNIQUE constraint failed: Student.RNo",
     "output_type": "error",
     "traceback": [
      "\u001b[1;31m---------------------------------------------------------------------------\u001b[0m",
      "\u001b[1;31mIntegrityError\u001b[0m                            Traceback (most recent call last)",
      "Cell \u001b[1;32mIn[9], line 1\u001b[0m\n\u001b[1;32m----> 1\u001b[0m \u001b[43mcur\u001b[49m\u001b[38;5;241;43m.\u001b[39;49m\u001b[43mexecute\u001b[49m\u001b[43m(\u001b[49m\u001b[38;5;124;43m'\u001b[39;49m\u001b[38;5;124;43minsert into Student values (101,\u001b[39;49m\u001b[38;5;124;43m\"\u001b[39;49m\u001b[38;5;124;43mIsmail\u001b[39;49m\u001b[38;5;124;43m\"\u001b[39;49m\u001b[38;5;124;43m,20)\u001b[39;49m\u001b[38;5;124;43m'\u001b[39;49m\u001b[43m)\u001b[49m\n",
      "\u001b[1;31mIntegrityError\u001b[0m: UNIQUE constraint failed: Student.RNo"
     ]
    }
   ],
   "source": [
    "cur.execute('insert into Student values (101,\"Ismail\",20)')"
   ]
  },
  {
   "cell_type": "code",
   "execution_count": 10,
   "id": "9bcf1ac2-5852-476e-a13a-fd9294524f81",
   "metadata": {},
   "outputs": [],
   "source": [
    "db.close()"
   ]
  },
  {
   "cell_type": "code",
   "execution_count": 11,
   "id": "135748d7-b40a-4491-aaa1-62a332ae4ec4",
   "metadata": {},
   "outputs": [
    {
     "ename": "ProgrammingError",
     "evalue": "Cannot operate on a closed database.",
     "output_type": "error",
     "traceback": [
      "\u001b[1;31m---------------------------------------------------------------------------\u001b[0m",
      "\u001b[1;31mProgrammingError\u001b[0m                          Traceback (most recent call last)",
      "Cell \u001b[1;32mIn[11], line 1\u001b[0m\n\u001b[1;32m----> 1\u001b[0m \u001b[43mcur\u001b[49m\u001b[38;5;241;43m.\u001b[39;49m\u001b[43mexecute\u001b[49m\u001b[43m(\u001b[49m\u001b[38;5;124;43m'\u001b[39;49m\u001b[38;5;124;43minsert into Student values (101,\u001b[39;49m\u001b[38;5;124;43m\"\u001b[39;49m\u001b[38;5;124;43mIsmail\u001b[39;49m\u001b[38;5;124;43m\"\u001b[39;49m\u001b[38;5;124;43m,20)\u001b[39;49m\u001b[38;5;124;43m'\u001b[39;49m\u001b[43m)\u001b[49m\n",
      "\u001b[1;31mProgrammingError\u001b[0m: Cannot operate on a closed database."
     ]
    }
   ],
   "source": [
    "cur.execute('insert into Student values (101,\"Ismail\",20)')"
   ]
  },
  {
   "cell_type": "code",
   "execution_count": 12,
   "id": "9f4a5f6b-80dd-485b-9aa9-8e5c09fbd71d",
   "metadata": {},
   "outputs": [],
   "source": [
    "db = sqlite3.connect('Employee.sqlite')\n",
    "cur = db.cursor()\n",
    "cur.execute(\"create table EmployeeDetail (employeeId int primary key, name Text , age int, department Text, salary int)\")\n",
    "cur.execute('insert into EmployeeDetail values (100,\"Rishav\",25,\"Marketing\",50000),(101,\"Abhishek\",26,\"Operations\",60000),(102,\"Aman\",28,\"Human Resources\",75000)')\n",
    "db.commit()"
   ]
  },
  {
   "cell_type": "code",
   "execution_count": 13,
   "id": "9c24139d-998b-420a-92ea-7148982616f0",
   "metadata": {},
   "outputs": [],
   "source": [
    "db.close()"
   ]
  },
  {
   "cell_type": "markdown",
   "id": "5b8d1b56-b857-42c5-a810-07b13ffa0810",
   "metadata": {},
   "source": [
    "## Passing Parameters in query "
   ]
  },
  {
   "cell_type": "code",
   "execution_count": 4,
   "id": "a5f2f982-c5ac-445a-a9d8-3c46de32dc4f",
   "metadata": {},
   "outputs": [
    {
     "data": {
      "text/plain": [
       "<sqlite3.Connection at 0x25891b284f0>"
      ]
     },
     "execution_count": 4,
     "metadata": {},
     "output_type": "execute_result"
    }
   ],
   "source": [
    "import sqlite3\n",
    "db = sqlite3.connect('School.sqlite')\n",
    "db"
   ]
  },
  {
   "cell_type": "code",
   "execution_count": 5,
   "id": "91d91207-4fe1-40c8-a206-29c2fccce4b5",
   "metadata": {},
   "outputs": [
    {
     "data": {
      "text/plain": [
       "<sqlite3.Cursor at 0x25891ae9540>"
      ]
     },
     "execution_count": 5,
     "metadata": {},
     "output_type": "execute_result"
    }
   ],
   "source": [
    "cur = db.cursor()\n",
    "cur"
   ]
  },
  {
   "cell_type": "code",
   "execution_count": 6,
   "id": "cb20d5db-ce22-44ba-92ac-310d97cf98d1",
   "metadata": {},
   "outputs": [
    {
     "data": {
      "text/plain": [
       "<sqlite3.Cursor at 0x25891ae9540>"
      ]
     },
     "execution_count": 6,
     "metadata": {},
     "output_type": "execute_result"
    }
   ],
   "source": [
    "cur.execute(\"insert into Student values(103,'Luthu',24)\")"
   ]
  },
  {
   "cell_type": "code",
   "execution_count": 7,
   "id": "e8b1e8a5-7a5e-4047-9d40-f06f549ec6e2",
   "metadata": {},
   "outputs": [],
   "source": [
    "db.commit()"
   ]
  },
  {
   "cell_type": "code",
   "execution_count": 9,
   "id": "d6e0fdf9-d845-4f50-9d8d-37d012616bfa",
   "metadata": {},
   "outputs": [],
   "source": [
    "rollNumber = 104\n",
    "\n",
    "Name = \"Manaikanta\"\n",
    "age = 34\n",
    "\n",
    "cur.execute(\"insert into Student values (?,?,?)\",(rollNumber,Name,age))\n",
    "db.commit()"
   ]
  },
  {
   "cell_type": "markdown",
   "id": "70979cad-9795-403c-ab2f-5de36acb51b7",
   "metadata": {},
   "source": [
    "## for adding multiple values at a time"
   ]
  },
  {
   "cell_type": "code",
   "execution_count": 11,
   "id": "9a87a971-2dab-4867-83d2-16cf9480096c",
   "metadata": {},
   "outputs": [
    {
     "data": {
      "text/plain": [
       "<sqlite3.Cursor at 0x25891ae9540>"
      ]
     },
     "execution_count": 11,
     "metadata": {},
     "output_type": "execute_result"
    }
   ],
   "source": [
    "values = [(105,\"Rahul\",25),(106,\"Tarun\",26),(107,\"Karthik\",27),(108,\"Shirfan\",28)]\n",
    "\n",
    "cur.executemany('Insert into Student values (?,?,?)',values)"
   ]
  },
  {
   "cell_type": "code",
   "execution_count": 12,
   "id": "fc7e8ee1-1618-47f8-8891-53462bb2c0f3",
   "metadata": {},
   "outputs": [],
   "source": [
    "db.commit()"
   ]
  },
  {
   "cell_type": "markdown",
   "id": "1232ed24-8144-4963-9d16-225c71e29dc3",
   "metadata": {},
   "source": [
    "## update , delete value"
   ]
  },
  {
   "cell_type": "code",
   "execution_count": 16,
   "id": "454dbc9d-7950-41d9-87e4-e95bf74395e5",
   "metadata": {},
   "outputs": [
    {
     "data": {
      "text/plain": [
       "<sqlite3.Cursor at 0x25891ae9540>"
      ]
     },
     "execution_count": 16,
     "metadata": {},
     "output_type": "execute_result"
    }
   ],
   "source": [
    "cur.execute('Update Student set Age =\"22\"')"
   ]
  },
  {
   "cell_type": "code",
   "execution_count": 17,
   "id": "5b26965f-f211-4946-bd17-b307ed53a689",
   "metadata": {},
   "outputs": [],
   "source": [
    "db.commit()"
   ]
  },
  {
   "cell_type": "code",
   "execution_count": 19,
   "id": "123eaaf1-32db-4625-83a7-b6904fd22ca1",
   "metadata": {},
   "outputs": [
    {
     "data": {
      "text/plain": [
       "<sqlite3.Cursor at 0x25891ae9540>"
      ]
     },
     "execution_count": 19,
     "metadata": {},
     "output_type": "execute_result"
    }
   ],
   "source": [
    "cur.execute('Update Student set Age =\"40\" where Rno = 106')"
   ]
  },
  {
   "cell_type": "code",
   "execution_count": 20,
   "id": "cd4efcb1-1702-4db4-8e79-2cbb0bf29b2d",
   "metadata": {},
   "outputs": [],
   "source": [
    "db.commit()"
   ]
  },
  {
   "cell_type": "code",
   "execution_count": 22,
   "id": "8fbf4a51-0466-4df5-a18f-bde537752c52",
   "metadata": {},
   "outputs": [
    {
     "data": {
      "text/plain": [
       "<sqlite3.Cursor at 0x25891ae9540>"
      ]
     },
     "execution_count": 22,
     "metadata": {},
     "output_type": "execute_result"
    }
   ],
   "source": [
    "rollNumber = 105\n",
    "\n",
    "cur.execute('Update Student set Age =\"30\" where Rno = ?',(rollNumber,))"
   ]
  },
  {
   "cell_type": "code",
   "execution_count": 23,
   "id": "756ab4d0-fced-4b04-b42d-9239ac8b83de",
   "metadata": {},
   "outputs": [],
   "source": [
    "db.commit()"
   ]
  },
  {
   "cell_type": "code",
   "execution_count": 24,
   "id": "352a7ebc-c61b-4eab-8d5a-9b1d7d574c4c",
   "metadata": {},
   "outputs": [
    {
     "data": {
      "text/plain": [
       "<sqlite3.Cursor at 0x25891ae9540>"
      ]
     },
     "execution_count": 24,
     "metadata": {},
     "output_type": "execute_result"
    }
   ],
   "source": [
    "rollNumber = 107\n",
    "cur.execute('delete from Student where Rno = ?',(rollNumber,))"
   ]
  },
  {
   "cell_type": "code",
   "execution_count": 25,
   "id": "769c9e07-1d0f-4f81-a4a4-cc9925551566",
   "metadata": {},
   "outputs": [],
   "source": [
    "db.commit()"
   ]
  },
  {
   "cell_type": "markdown",
   "id": "553f0e30-f620-4dba-b096-f1aa2d33093d",
   "metadata": {},
   "source": [
    "## Extract the data from sqlite"
   ]
  },
  {
   "cell_type": "code",
   "execution_count": 27,
   "id": "55285ed0-b367-40af-baa5-19adb9c4cdb0",
   "metadata": {},
   "outputs": [
    {
     "name": "stdout",
     "output_type": "stream",
     "text": [
      "(101, 'Ismail', 22)\n",
      "(102, 'Abilash', 22)\n",
      "(103, 'Luthu', 22)\n",
      "(104, 'Manaikanta', 22)\n",
      "(105, 'Rahul', 30)\n",
      "(106, 'Tarun', 40)\n",
      "(108, 'Shirfan', 22)\n"
     ]
    }
   ],
   "source": [
    "cur.execute(\"Select * from Student\")\n",
    "for row in cur:\n",
    "    print(row)\n"
   ]
  },
  {
   "cell_type": "code",
   "execution_count": 28,
   "id": "e201eef2-efd3-4848-8501-44235060643b",
   "metadata": {},
   "outputs": [],
   "source": [
    "# fetch one()\n",
    "# fetch many()\n",
    "# fetch all()"
   ]
  },
  {
   "cell_type": "code",
   "execution_count": 38,
   "id": "f210b878-1bcd-476f-b4a6-b7dd40662b11",
   "metadata": {},
   "outputs": [
    {
     "name": "stdout",
     "output_type": "stream",
     "text": [
      "(101, 'Ismail', 22)\n",
      "(102, 'Abilash', 22)\n"
     ]
    }
   ],
   "source": [
    "cur.execute(\"Select * from Student\")\n",
    "print(cur.fetchone())\n",
    "print(cur.fetchone())\n"
   ]
  },
  {
   "cell_type": "code",
   "execution_count": 39,
   "id": "1c81ed0a-7f9f-4817-83be-7f1e15fdf9ac",
   "metadata": {},
   "outputs": [
    {
     "data": {
      "text/plain": [
       "(103, 'Luthu', 22)"
      ]
     },
     "execution_count": 39,
     "metadata": {},
     "output_type": "execute_result"
    }
   ],
   "source": [
    "cur.fetchone()"
   ]
  },
  {
   "cell_type": "code",
   "execution_count": 41,
   "id": "b7b9cd6a-108e-4e4a-972b-8400595dc192",
   "metadata": {},
   "outputs": [
    {
     "data": {
      "text/plain": [
       "[(105, 'Rahul', 30), (106, 'Tarun', 40), (108, 'Shirfan', 22)]"
      ]
     },
     "execution_count": 41,
     "metadata": {},
     "output_type": "execute_result"
    }
   ],
   "source": [
    "cur.fetchmany(3)"
   ]
  },
  {
   "cell_type": "code",
   "execution_count": 43,
   "id": "d35d4cf7-6194-4868-aa92-7090d87481cc",
   "metadata": {},
   "outputs": [
    {
     "name": "stdout",
     "output_type": "stream",
     "text": [
      "[(101, 'Ismail', 22), (102, 'Abilash', 22), (103, 'Luthu', 22)]\n"
     ]
    }
   ],
   "source": [
    "cur.execute(\"Select * from Student\")\n",
    "print(cur.fetchmany(3))"
   ]
  },
  {
   "cell_type": "code",
   "execution_count": 44,
   "id": "0fc8a41c-fdb1-4b20-9cd6-7fd745ade1c4",
   "metadata": {},
   "outputs": [
    {
     "name": "stdout",
     "output_type": "stream",
     "text": [
      "[(101, 'Ismail', 22), (102, 'Abilash', 22), (103, 'Luthu', 22), (104, 'Manaikanta', 22), (105, 'Rahul', 30), (106, 'Tarun', 40), (108, 'Shirfan', 22)]\n"
     ]
    }
   ],
   "source": [
    "cur.execute(\"Select * from Student\")\n",
    "print(cur.fetchall())"
   ]
  },
  {
   "cell_type": "code",
   "execution_count": 47,
   "id": "fec40c23-362c-4110-a815-2f446300fd91",
   "metadata": {},
   "outputs": [
    {
     "name": "stdout",
     "output_type": "stream",
     "text": [
      "(101, 'Ismail', 22)\n",
      "(102, 'Abilash', 22)\n",
      "(103, 'Luthu', 22)\n",
      "(104, 'Manaikanta', 22)\n",
      "(105, 'Rahul', 30)\n",
      "(106, 'Tarun', 40)\n",
      "(108, 'Shirfan', 22)\n"
     ]
    }
   ],
   "source": [
    "cur.execute(\"Select * from Student\")\n",
    "list_of_rows=cur.fetchall()\n",
    "for row in list_of_rows:\n",
    "    print(row)"
   ]
  },
  {
   "cell_type": "code",
   "execution_count": 48,
   "id": "3150bd97-7a7d-4461-85f4-0a81212f8725",
   "metadata": {},
   "outputs": [
    {
     "name": "stdout",
     "output_type": "stream",
     "text": [
      "(104, 'Manaikanta', 22)\n",
      "(105, 'Rahul', 30)\n",
      "(106, 'Tarun', 40)\n",
      "(108, 'Shirfan', 22)\n"
     ]
    }
   ],
   "source": [
    "cur.execute(\"Select * from Student where rno>103\")\n",
    "list_of_rows=cur.fetchall()\n",
    "for row in list_of_rows:\n",
    "    print(row)"
   ]
  },
  {
   "cell_type": "code",
   "execution_count": 51,
   "id": "aa4474fe-07c8-49dc-8675-595cf1d788c7",
   "metadata": {},
   "outputs": [
    {
     "name": "stdout",
     "output_type": "stream",
     "text": [
      "(101, 'Ismail', 22)\n"
     ]
    }
   ],
   "source": [
    "cur.execute(\"Select * from Student where name like 'I%' \")\n",
    "list_of_rows=cur.fetchall()\n",
    "for row in list_of_rows:\n",
    "    print(row)"
   ]
  },
  {
   "cell_type": "code",
   "execution_count": 57,
   "id": "c2d1e343-a249-442c-8cf1-c6c342bbc478",
   "metadata": {},
   "outputs": [
    {
     "name": "stdout",
     "output_type": "stream",
     "text": [
      "(103, 'Siddharth')\n",
      "(107, 'Vaibhav')\n"
     ]
    }
   ],
   "source": [
    "# Finance Employee SQLite\n",
    "\n",
    "db = sqlite3.connect(\"Employee.sqlite\")\n",
    "cur = db.cursor()\n",
    "\n",
    "cur.execute(\"select employeeid,name from EmployeeDetail where department ='Finance'\")\n",
    "list_of_employee = cur.fetchall()\n",
    "\n",
    "for employee in list_of_employee:\n",
    "    print(employee)"
   ]
  },
  {
   "cell_type": "code",
   "execution_count": 53,
   "id": "9fa1fcee-f174-414f-80e3-935ac3e17979",
   "metadata": {},
   "outputs": [],
   "source": [
    "db.commit()"
   ]
  },
  {
   "cell_type": "code",
   "execution_count": 59,
   "id": "ec7d18b8-6fd3-4c2c-9c69-aa08c80a5970",
   "metadata": {},
   "outputs": [
    {
     "name": "stdout",
     "output_type": "stream",
     "text": [
      "('Finance', 2)\n",
      "('Human Resource', 2)\n",
      "('IT', 2)\n",
      "('Marketing', 4)\n",
      "('Operations', 2)\n"
     ]
    }
   ],
   "source": [
    "# Find Employee\n",
    "\n",
    "db = sqlite3.connect(\"Employee.sqlite\")\n",
    "cur = db.cursor()\n",
    "\n",
    "cur.execute(\"select department, count(department) from EmployeeDetail group by department\")\n",
    "list_of_employee = cur.fetchall()\n",
    "\n",
    "for employee in list_of_employee:\n",
    "    print(employee)"
   ]
  },
  {
   "cell_type": "code",
   "execution_count": 60,
   "id": "125a68e1-9f11-470d-b696-e4fde9e44d3f",
   "metadata": {},
   "outputs": [],
   "source": [
    "# working with sql with pandas\n"
   ]
  },
  {
   "cell_type": "code",
   "execution_count": 62,
   "id": "a426c989-68df-400d-9460-23a1e72e1ff9",
   "metadata": {},
   "outputs": [],
   "source": [
    "import sqlite3\n",
    "import pandas as pd\n",
    "\n",
    "db = sqlite3.connect('School.sqlite')"
   ]
  },
  {
   "cell_type": "markdown",
   "id": "769a09fd-405e-4980-ab2a-f3bf7f9347d1",
   "metadata": {},
   "source": [
    "read_sql_query(query, connection_object)"
   ]
  },
  {
   "cell_type": "code",
   "execution_count": 70,
   "id": "a90f61ba-d2f2-4d1e-b74f-ca5fc32d31cc",
   "metadata": {},
   "outputs": [],
   "source": [
    "data = pd.read_sql_query(\"Select * from student\",db)"
   ]
  },
  {
   "cell_type": "code",
   "execution_count": 74,
   "id": "a42dd8b9-ff5c-4464-bdd4-47f760d486c0",
   "metadata": {},
   "outputs": [
    {
     "name": "stdout",
     "output_type": "stream",
     "text": [
      "   RNo        Name  Age\n",
      "0  101      Ismail   22\n",
      "1  102     Abilash   22\n",
      "2  103       Luthu   22\n",
      "3  104  Manaikanta   22\n",
      "4  105       Rahul   30\n",
      "5  106       Tarun   40\n",
      "6  108     Shirfan   22\n",
      "<class 'pandas.core.frame.DataFrame'>\n"
     ]
    }
   ],
   "source": [
    "print(data)\n",
    "print(type(data))"
   ]
  },
  {
   "cell_type": "code",
   "execution_count": 68,
   "id": "8edb830c-2966-44ea-adb7-e7bb72f3ce9d",
   "metadata": {},
   "outputs": [],
   "source": [
    "# By using pandas it is very rather than using connect, cursor, fetch"
   ]
  },
  {
   "cell_type": "code",
   "execution_count": 75,
   "id": "3e2f4546-1147-48e3-8411-cad58210f992",
   "metadata": {},
   "outputs": [
    {
     "data": {
      "text/html": [
       "<div>\n",
       "<style scoped>\n",
       "    .dataframe tbody tr th:only-of-type {\n",
       "        vertical-align: middle;\n",
       "    }\n",
       "\n",
       "    .dataframe tbody tr th {\n",
       "        vertical-align: top;\n",
       "    }\n",
       "\n",
       "    .dataframe thead th {\n",
       "        text-align: right;\n",
       "    }\n",
       "</style>\n",
       "<table border=\"1\" class=\"dataframe\">\n",
       "  <thead>\n",
       "    <tr style=\"text-align: right;\">\n",
       "      <th></th>\n",
       "      <th>RNo</th>\n",
       "      <th>Name</th>\n",
       "      <th>Age</th>\n",
       "    </tr>\n",
       "  </thead>\n",
       "  <tbody>\n",
       "    <tr>\n",
       "      <th>0</th>\n",
       "      <td>101</td>\n",
       "      <td>Ismail</td>\n",
       "      <td>22</td>\n",
       "    </tr>\n",
       "    <tr>\n",
       "      <th>1</th>\n",
       "      <td>102</td>\n",
       "      <td>Abilash</td>\n",
       "      <td>22</td>\n",
       "    </tr>\n",
       "    <tr>\n",
       "      <th>2</th>\n",
       "      <td>103</td>\n",
       "      <td>Luthu</td>\n",
       "      <td>22</td>\n",
       "    </tr>\n",
       "    <tr>\n",
       "      <th>3</th>\n",
       "      <td>104</td>\n",
       "      <td>Manaikanta</td>\n",
       "      <td>22</td>\n",
       "    </tr>\n",
       "    <tr>\n",
       "      <th>6</th>\n",
       "      <td>108</td>\n",
       "      <td>Shirfan</td>\n",
       "      <td>22</td>\n",
       "    </tr>\n",
       "  </tbody>\n",
       "</table>\n",
       "</div>"
      ],
      "text/plain": [
       "   RNo        Name  Age\n",
       "0  101      Ismail   22\n",
       "1  102     Abilash   22\n",
       "2  103       Luthu   22\n",
       "3  104  Manaikanta   22\n",
       "6  108     Shirfan   22"
      ]
     },
     "execution_count": 75,
     "metadata": {},
     "output_type": "execute_result"
    }
   ],
   "source": [
    "data[data['Age']==22]"
   ]
  },
  {
   "cell_type": "code",
   "execution_count": 76,
   "id": "5f96a264-cf50-4201-b40f-0fa62e298575",
   "metadata": {},
   "outputs": [],
   "source": [
    "# creating a table in pandas"
   ]
  },
  {
   "cell_type": "code",
   "execution_count": 79,
   "id": "d6217de4-9435-40e4-8aa5-e0547ca908fa",
   "metadata": {},
   "outputs": [],
   "source": [
    "data = pd.DataFrame([[201,\"Aman\",\"English\",2000], \n",
    "                     [202,\"Amrutha\",\"Hindi\",2001],\n",
    "                     [203,\"Abyutha\",\"Sanskrit\",2005],\n",
    "                     [206,\"Suresh\",\"Maths\",2009]],\n",
    "                    columns=[\"ID\",\"Name\",\"Courses\",\"Salary\"])"
   ]
  },
  {
   "cell_type": "code",
   "execution_count": 80,
   "id": "a75c8e66-a7ea-4b3b-9fe4-80ee29ea7f09",
   "metadata": {},
   "outputs": [
    {
     "data": {
      "text/html": [
       "<div>\n",
       "<style scoped>\n",
       "    .dataframe tbody tr th:only-of-type {\n",
       "        vertical-align: middle;\n",
       "    }\n",
       "\n",
       "    .dataframe tbody tr th {\n",
       "        vertical-align: top;\n",
       "    }\n",
       "\n",
       "    .dataframe thead th {\n",
       "        text-align: right;\n",
       "    }\n",
       "</style>\n",
       "<table border=\"1\" class=\"dataframe\">\n",
       "  <thead>\n",
       "    <tr style=\"text-align: right;\">\n",
       "      <th></th>\n",
       "      <th>ID</th>\n",
       "      <th>Name</th>\n",
       "      <th>Courses</th>\n",
       "      <th>Salary</th>\n",
       "    </tr>\n",
       "  </thead>\n",
       "  <tbody>\n",
       "    <tr>\n",
       "      <th>0</th>\n",
       "      <td>201</td>\n",
       "      <td>Aman</td>\n",
       "      <td>English</td>\n",
       "      <td>2000</td>\n",
       "    </tr>\n",
       "    <tr>\n",
       "      <th>1</th>\n",
       "      <td>202</td>\n",
       "      <td>Amrutha</td>\n",
       "      <td>Hindi</td>\n",
       "      <td>2001</td>\n",
       "    </tr>\n",
       "    <tr>\n",
       "      <th>2</th>\n",
       "      <td>203</td>\n",
       "      <td>Abyutha</td>\n",
       "      <td>Sanskrit</td>\n",
       "      <td>2005</td>\n",
       "    </tr>\n",
       "    <tr>\n",
       "      <th>3</th>\n",
       "      <td>206</td>\n",
       "      <td>Suresh</td>\n",
       "      <td>Maths</td>\n",
       "      <td>2009</td>\n",
       "    </tr>\n",
       "  </tbody>\n",
       "</table>\n",
       "</div>"
      ],
      "text/plain": [
       "    ID     Name   Courses  Salary\n",
       "0  201     Aman   English    2000\n",
       "1  202  Amrutha     Hindi    2001\n",
       "2  203  Abyutha  Sanskrit    2005\n",
       "3  206   Suresh     Maths    2009"
      ]
     },
     "execution_count": 80,
     "metadata": {},
     "output_type": "execute_result"
    }
   ],
   "source": [
    "data"
   ]
  },
  {
   "cell_type": "code",
   "execution_count": 82,
   "id": "6dc93d39-7c44-42bd-96ba-cdfd7eda31a3",
   "metadata": {},
   "outputs": [
    {
     "data": {
      "text/plain": [
       "4"
      ]
     },
     "execution_count": 82,
     "metadata": {},
     "output_type": "execute_result"
    }
   ],
   "source": [
    "data.to_sql(\"Faculty\",db)"
   ]
  },
  {
   "cell_type": "code",
   "execution_count": 83,
   "id": "96896d9d-acc0-4156-b8c3-77e003232675",
   "metadata": {},
   "outputs": [
    {
     "data": {
      "text/html": [
       "<div>\n",
       "<style scoped>\n",
       "    .dataframe tbody tr th:only-of-type {\n",
       "        vertical-align: middle;\n",
       "    }\n",
       "\n",
       "    .dataframe tbody tr th {\n",
       "        vertical-align: top;\n",
       "    }\n",
       "\n",
       "    .dataframe thead th {\n",
       "        text-align: right;\n",
       "    }\n",
       "</style>\n",
       "<table border=\"1\" class=\"dataframe\">\n",
       "  <thead>\n",
       "    <tr style=\"text-align: right;\">\n",
       "      <th></th>\n",
       "      <th>RNo</th>\n",
       "      <th>Name</th>\n",
       "      <th>Age</th>\n",
       "    </tr>\n",
       "  </thead>\n",
       "  <tbody>\n",
       "    <tr>\n",
       "      <th>0</th>\n",
       "      <td>101</td>\n",
       "      <td>Ismail</td>\n",
       "      <td>22</td>\n",
       "    </tr>\n",
       "    <tr>\n",
       "      <th>1</th>\n",
       "      <td>102</td>\n",
       "      <td>Abilash</td>\n",
       "      <td>22</td>\n",
       "    </tr>\n",
       "    <tr>\n",
       "      <th>2</th>\n",
       "      <td>103</td>\n",
       "      <td>Luthu</td>\n",
       "      <td>22</td>\n",
       "    </tr>\n",
       "    <tr>\n",
       "      <th>3</th>\n",
       "      <td>104</td>\n",
       "      <td>Manaikanta</td>\n",
       "      <td>22</td>\n",
       "    </tr>\n",
       "    <tr>\n",
       "      <th>4</th>\n",
       "      <td>105</td>\n",
       "      <td>Rahul</td>\n",
       "      <td>30</td>\n",
       "    </tr>\n",
       "    <tr>\n",
       "      <th>5</th>\n",
       "      <td>106</td>\n",
       "      <td>Tarun</td>\n",
       "      <td>40</td>\n",
       "    </tr>\n",
       "    <tr>\n",
       "      <th>6</th>\n",
       "      <td>108</td>\n",
       "      <td>Shirfan</td>\n",
       "      <td>22</td>\n",
       "    </tr>\n",
       "  </tbody>\n",
       "</table>\n",
       "</div>"
      ],
      "text/plain": [
       "   RNo        Name  Age\n",
       "0  101      Ismail   22\n",
       "1  102     Abilash   22\n",
       "2  103       Luthu   22\n",
       "3  104  Manaikanta   22\n",
       "4  105       Rahul   30\n",
       "5  106       Tarun   40\n",
       "6  108     Shirfan   22"
      ]
     },
     "execution_count": 83,
     "metadata": {},
     "output_type": "execute_result"
    }
   ],
   "source": [
    "data = pd.read_sql_query(\"Select * from student\",db)\n",
    "data"
   ]
  },
  {
   "cell_type": "code",
   "execution_count": 84,
   "id": "f7a5ae6c-2473-431a-9f78-4af9c178ab43",
   "metadata": {},
   "outputs": [],
   "source": [
    "data[\"Address\"] =\"Test\""
   ]
  },
  {
   "cell_type": "code",
   "execution_count": 85,
   "id": "957b3a70-bd04-4b77-b448-6308712004e2",
   "metadata": {},
   "outputs": [
    {
     "data": {
      "text/html": [
       "<div>\n",
       "<style scoped>\n",
       "    .dataframe tbody tr th:only-of-type {\n",
       "        vertical-align: middle;\n",
       "    }\n",
       "\n",
       "    .dataframe tbody tr th {\n",
       "        vertical-align: top;\n",
       "    }\n",
       "\n",
       "    .dataframe thead th {\n",
       "        text-align: right;\n",
       "    }\n",
       "</style>\n",
       "<table border=\"1\" class=\"dataframe\">\n",
       "  <thead>\n",
       "    <tr style=\"text-align: right;\">\n",
       "      <th></th>\n",
       "      <th>RNo</th>\n",
       "      <th>Name</th>\n",
       "      <th>Age</th>\n",
       "      <th>Address</th>\n",
       "    </tr>\n",
       "  </thead>\n",
       "  <tbody>\n",
       "    <tr>\n",
       "      <th>0</th>\n",
       "      <td>101</td>\n",
       "      <td>Ismail</td>\n",
       "      <td>22</td>\n",
       "      <td>Test</td>\n",
       "    </tr>\n",
       "    <tr>\n",
       "      <th>1</th>\n",
       "      <td>102</td>\n",
       "      <td>Abilash</td>\n",
       "      <td>22</td>\n",
       "      <td>Test</td>\n",
       "    </tr>\n",
       "    <tr>\n",
       "      <th>2</th>\n",
       "      <td>103</td>\n",
       "      <td>Luthu</td>\n",
       "      <td>22</td>\n",
       "      <td>Test</td>\n",
       "    </tr>\n",
       "    <tr>\n",
       "      <th>3</th>\n",
       "      <td>104</td>\n",
       "      <td>Manaikanta</td>\n",
       "      <td>22</td>\n",
       "      <td>Test</td>\n",
       "    </tr>\n",
       "    <tr>\n",
       "      <th>4</th>\n",
       "      <td>105</td>\n",
       "      <td>Rahul</td>\n",
       "      <td>30</td>\n",
       "      <td>Test</td>\n",
       "    </tr>\n",
       "    <tr>\n",
       "      <th>5</th>\n",
       "      <td>106</td>\n",
       "      <td>Tarun</td>\n",
       "      <td>40</td>\n",
       "      <td>Test</td>\n",
       "    </tr>\n",
       "    <tr>\n",
       "      <th>6</th>\n",
       "      <td>108</td>\n",
       "      <td>Shirfan</td>\n",
       "      <td>22</td>\n",
       "      <td>Test</td>\n",
       "    </tr>\n",
       "  </tbody>\n",
       "</table>\n",
       "</div>"
      ],
      "text/plain": [
       "   RNo        Name  Age Address\n",
       "0  101      Ismail   22    Test\n",
       "1  102     Abilash   22    Test\n",
       "2  103       Luthu   22    Test\n",
       "3  104  Manaikanta   22    Test\n",
       "4  105       Rahul   30    Test\n",
       "5  106       Tarun   40    Test\n",
       "6  108     Shirfan   22    Test"
      ]
     },
     "execution_count": 85,
     "metadata": {},
     "output_type": "execute_result"
    }
   ],
   "source": [
    "data"
   ]
  },
  {
   "cell_type": "code",
   "execution_count": 86,
   "id": "79a89104-9160-49d4-a53a-2a6cf5929b5b",
   "metadata": {},
   "outputs": [
    {
     "data": {
      "text/plain": [
       "7"
      ]
     },
     "execution_count": 86,
     "metadata": {},
     "output_type": "execute_result"
    }
   ],
   "source": [
    "data.to_sql(\"Student\",db,if_exists = \"replace\")"
   ]
  },
  {
   "cell_type": "code",
   "execution_count": 87,
   "id": "3d5636bc-bbba-4eca-9e48-1458582fd505",
   "metadata": {},
   "outputs": [
    {
     "data": {
      "text/html": [
       "<div>\n",
       "<style scoped>\n",
       "    .dataframe tbody tr th:only-of-type {\n",
       "        vertical-align: middle;\n",
       "    }\n",
       "\n",
       "    .dataframe tbody tr th {\n",
       "        vertical-align: top;\n",
       "    }\n",
       "\n",
       "    .dataframe thead th {\n",
       "        text-align: right;\n",
       "    }\n",
       "</style>\n",
       "<table border=\"1\" class=\"dataframe\">\n",
       "  <thead>\n",
       "    <tr style=\"text-align: right;\">\n",
       "      <th></th>\n",
       "      <th>RNo</th>\n",
       "      <th>Name</th>\n",
       "      <th>Age</th>\n",
       "      <th>Address</th>\n",
       "    </tr>\n",
       "  </thead>\n",
       "  <tbody>\n",
       "    <tr>\n",
       "      <th>0</th>\n",
       "      <td>101</td>\n",
       "      <td>Ismail</td>\n",
       "      <td>22</td>\n",
       "      <td>Test</td>\n",
       "    </tr>\n",
       "    <tr>\n",
       "      <th>1</th>\n",
       "      <td>102</td>\n",
       "      <td>Abilash</td>\n",
       "      <td>22</td>\n",
       "      <td>Test</td>\n",
       "    </tr>\n",
       "    <tr>\n",
       "      <th>2</th>\n",
       "      <td>103</td>\n",
       "      <td>Luthu</td>\n",
       "      <td>22</td>\n",
       "      <td>Test</td>\n",
       "    </tr>\n",
       "    <tr>\n",
       "      <th>3</th>\n",
       "      <td>104</td>\n",
       "      <td>Manaikanta</td>\n",
       "      <td>22</td>\n",
       "      <td>Test</td>\n",
       "    </tr>\n",
       "    <tr>\n",
       "      <th>4</th>\n",
       "      <td>105</td>\n",
       "      <td>Rahul</td>\n",
       "      <td>30</td>\n",
       "      <td>Test</td>\n",
       "    </tr>\n",
       "    <tr>\n",
       "      <th>5</th>\n",
       "      <td>106</td>\n",
       "      <td>Tarun</td>\n",
       "      <td>40</td>\n",
       "      <td>Test</td>\n",
       "    </tr>\n",
       "    <tr>\n",
       "      <th>6</th>\n",
       "      <td>108</td>\n",
       "      <td>Shirfan</td>\n",
       "      <td>22</td>\n",
       "      <td>Test</td>\n",
       "    </tr>\n",
       "  </tbody>\n",
       "</table>\n",
       "</div>"
      ],
      "text/plain": [
       "   RNo        Name  Age Address\n",
       "0  101      Ismail   22    Test\n",
       "1  102     Abilash   22    Test\n",
       "2  103       Luthu   22    Test\n",
       "3  104  Manaikanta   22    Test\n",
       "4  105       Rahul   30    Test\n",
       "5  106       Tarun   40    Test\n",
       "6  108     Shirfan   22    Test"
      ]
     },
     "execution_count": 87,
     "metadata": {},
     "output_type": "execute_result"
    }
   ],
   "source": [
    "data"
   ]
  },
  {
   "cell_type": "code",
   "execution_count": 89,
   "id": "d5e20631-d88c-44da-bc2e-c242a0d51725",
   "metadata": {},
   "outputs": [],
   "source": [
    "db = sqlite3.connect(\"IMDB.sqlite\")"
   ]
  },
  {
   "cell_type": "code",
   "execution_count": 94,
   "id": "c62235c7-9ee3-4c30-9228-e79616c6ca92",
   "metadata": {},
   "outputs": [],
   "source": [
    "import pandas as pd\n",
    "import sqlite3\n",
    "\n",
    "query = \"\"\"\n",
    "SELECT genre, COUNT(genre) AS genre_count\n",
    "FROM IMDB\n",
    "JOIN genre ON IMDB.movie_id = genre.movie_id\n",
    "GROUP BY genre\n",
    "\"\"\"\n",
    "\n",
    "data = pd.read_sql_query(query, db)\n"
   ]
  },
  {
   "cell_type": "code",
   "execution_count": 95,
   "id": "a0766da3-bc65-4a20-b40c-66abf907ad54",
   "metadata": {},
   "outputs": [
    {
     "data": {
      "text/html": [
       "<div>\n",
       "<style scoped>\n",
       "    .dataframe tbody tr th:only-of-type {\n",
       "        vertical-align: middle;\n",
       "    }\n",
       "\n",
       "    .dataframe tbody tr th {\n",
       "        vertical-align: top;\n",
       "    }\n",
       "\n",
       "    .dataframe thead th {\n",
       "        text-align: right;\n",
       "    }\n",
       "</style>\n",
       "<table border=\"1\" class=\"dataframe\">\n",
       "  <thead>\n",
       "    <tr style=\"text-align: right;\">\n",
       "      <th></th>\n",
       "      <th>genre</th>\n",
       "      <th>genre_count</th>\n",
       "    </tr>\n",
       "  </thead>\n",
       "  <tbody>\n",
       "    <tr>\n",
       "      <th>0</th>\n",
       "      <td></td>\n",
       "      <td>41</td>\n",
       "    </tr>\n",
       "    <tr>\n",
       "      <th>1</th>\n",
       "      <td>Action</td>\n",
       "      <td>33</td>\n",
       "    </tr>\n",
       "    <tr>\n",
       "      <th>2</th>\n",
       "      <td>Adventure</td>\n",
       "      <td>43</td>\n",
       "    </tr>\n",
       "    <tr>\n",
       "      <th>3</th>\n",
       "      <td>Animation</td>\n",
       "      <td>13</td>\n",
       "    </tr>\n",
       "    <tr>\n",
       "      <th>4</th>\n",
       "      <td>Biography</td>\n",
       "      <td>21</td>\n",
       "    </tr>\n",
       "    <tr>\n",
       "      <th>5</th>\n",
       "      <td>Comedy</td>\n",
       "      <td>31</td>\n",
       "    </tr>\n",
       "    <tr>\n",
       "      <th>6</th>\n",
       "      <td>Crime</td>\n",
       "      <td>11</td>\n",
       "    </tr>\n",
       "    <tr>\n",
       "      <th>7</th>\n",
       "      <td>Drama</td>\n",
       "      <td>77</td>\n",
       "    </tr>\n",
       "    <tr>\n",
       "      <th>8</th>\n",
       "      <td>Family</td>\n",
       "      <td>3</td>\n",
       "    </tr>\n",
       "    <tr>\n",
       "      <th>9</th>\n",
       "      <td>Fantasy</td>\n",
       "      <td>7</td>\n",
       "    </tr>\n",
       "    <tr>\n",
       "      <th>10</th>\n",
       "      <td>History</td>\n",
       "      <td>6</td>\n",
       "    </tr>\n",
       "    <tr>\n",
       "      <th>11</th>\n",
       "      <td>Horror</td>\n",
       "      <td>2</td>\n",
       "    </tr>\n",
       "    <tr>\n",
       "      <th>12</th>\n",
       "      <td>Music</td>\n",
       "      <td>3</td>\n",
       "    </tr>\n",
       "    <tr>\n",
       "      <th>13</th>\n",
       "      <td>Musical</td>\n",
       "      <td>1</td>\n",
       "    </tr>\n",
       "    <tr>\n",
       "      <th>14</th>\n",
       "      <td>Mystery</td>\n",
       "      <td>7</td>\n",
       "    </tr>\n",
       "    <tr>\n",
       "      <th>15</th>\n",
       "      <td>Romance</td>\n",
       "      <td>13</td>\n",
       "    </tr>\n",
       "    <tr>\n",
       "      <th>16</th>\n",
       "      <td>Sci-Fi</td>\n",
       "      <td>18</td>\n",
       "    </tr>\n",
       "    <tr>\n",
       "      <th>17</th>\n",
       "      <td>Sport</td>\n",
       "      <td>3</td>\n",
       "    </tr>\n",
       "    <tr>\n",
       "      <th>18</th>\n",
       "      <td>Thriller</td>\n",
       "      <td>14</td>\n",
       "    </tr>\n",
       "    <tr>\n",
       "      <th>19</th>\n",
       "      <td>War</td>\n",
       "      <td>2</td>\n",
       "    </tr>\n",
       "    <tr>\n",
       "      <th>20</th>\n",
       "      <td>Western</td>\n",
       "      <td>2</td>\n",
       "    </tr>\n",
       "  </tbody>\n",
       "</table>\n",
       "</div>"
      ],
      "text/plain": [
       "        genre  genre_count\n",
       "0                       41\n",
       "1      Action           33\n",
       "2   Adventure           43\n",
       "3   Animation           13\n",
       "4   Biography           21\n",
       "5      Comedy           31\n",
       "6       Crime           11\n",
       "7       Drama           77\n",
       "8      Family            3\n",
       "9     Fantasy            7\n",
       "10    History            6\n",
       "11     Horror            2\n",
       "12      Music            3\n",
       "13    Musical            1\n",
       "14    Mystery            7\n",
       "15    Romance           13\n",
       "16     Sci-Fi           18\n",
       "17      Sport            3\n",
       "18   Thriller           14\n",
       "19        War            2\n",
       "20    Western            2"
      ]
     },
     "execution_count": 95,
     "metadata": {},
     "output_type": "execute_result"
    }
   ],
   "source": [
    "data"
   ]
  },
  {
   "cell_type": "code",
   "execution_count": 99,
   "id": "d331d56b-267d-4725-9b6f-75e43499bfd5",
   "metadata": {},
   "outputs": [
    {
     "data": {
      "text/html": [
       "<div>\n",
       "<style scoped>\n",
       "    .dataframe tbody tr th:only-of-type {\n",
       "        vertical-align: middle;\n",
       "    }\n",
       "\n",
       "    .dataframe tbody tr th {\n",
       "        vertical-align: top;\n",
       "    }\n",
       "\n",
       "    .dataframe thead th {\n",
       "        text-align: right;\n",
       "    }\n",
       "</style>\n",
       "<table border=\"1\" class=\"dataframe\">\n",
       "  <thead>\n",
       "    <tr style=\"text-align: right;\">\n",
       "      <th></th>\n",
       "      <th>Rating</th>\n",
       "    </tr>\n",
       "  </thead>\n",
       "  <tbody>\n",
       "    <tr>\n",
       "      <th>0</th>\n",
       "      <td>8.1</td>\n",
       "    </tr>\n",
       "    <tr>\n",
       "      <th>1</th>\n",
       "      <td>8.1</td>\n",
       "    </tr>\n",
       "    <tr>\n",
       "      <th>2</th>\n",
       "      <td>8.1</td>\n",
       "    </tr>\n",
       "  </tbody>\n",
       "</table>\n",
       "</div>"
      ],
      "text/plain": [
       "   Rating\n",
       "0     8.1\n",
       "1     8.1\n",
       "2     8.1"
      ]
     },
     "execution_count": 99,
     "metadata": {},
     "output_type": "execute_result"
    }
   ],
   "source": [
    "import pandas as pd\n",
    "import sqlite3\n",
    "\n",
    "# Assuming you have a SQLite database connection named 'db'\n",
    "query = \"\"\"\n",
    "SELECT IMDB.rating\n",
    "FROM IMDB\n",
    "JOIN genre ON IMDB.movie_id = genre.movie_id\n",
    "JOIN earning ON IMDB.movie_id = earning.movie_id\n",
    "WHERE (earning.domestic + earning.worldwide) = (\n",
    "    SELECT MAX(domestic + worldwide) FROM earning\n",
    ")\n",
    "\"\"\"\n",
    "\n",
    "data = pd.read_sql_query(query, db)\n",
    "data"
   ]
  },
  {
   "cell_type": "code",
   "execution_count": 97,
   "id": "14a96e93-9fe3-4b8b-9f67-da31e59d7e70",
   "metadata": {},
   "outputs": [],
   "source": [
    "import pandas as pd\n",
    "import sqlite3\n",
    "\n",
    "# Assuming you have a SQLite database connection named 'db'\n",
    "query = \"\"\"\n",
    "SELECT IMDB.rating\n",
    "FROM IMDB\n",
    "JOIN (\n",
    "    SELECT movie_id, (domestic + worldwide) AS total_earnings\n",
    "    FROM earning\n",
    "    ORDER BY total_earnings DESC\n",
    "    LIMIT 1\n",
    ") AS highest_earning_movie ON IMDB.movie_id = highest_earning_movie.movie_id\n",
    "JOIN genre ON IMDB.movie_id = genre.movie_id\n",
    "\"\"\"\n",
    "\n",
    "data = pd.read_sql_query(query, db)\n"
   ]
  },
  {
   "cell_type": "code",
   "execution_count": 98,
   "id": "6ee0afb1-26c2-4d63-b6aa-ad93a20e7f72",
   "metadata": {},
   "outputs": [
    {
     "data": {
      "text/html": [
       "<div>\n",
       "<style scoped>\n",
       "    .dataframe tbody tr th:only-of-type {\n",
       "        vertical-align: middle;\n",
       "    }\n",
       "\n",
       "    .dataframe tbody tr th {\n",
       "        vertical-align: top;\n",
       "    }\n",
       "\n",
       "    .dataframe thead th {\n",
       "        text-align: right;\n",
       "    }\n",
       "</style>\n",
       "<table border=\"1\" class=\"dataframe\">\n",
       "  <thead>\n",
       "    <tr style=\"text-align: right;\">\n",
       "      <th></th>\n",
       "      <th>Rating</th>\n",
       "    </tr>\n",
       "  </thead>\n",
       "  <tbody>\n",
       "    <tr>\n",
       "      <th>0</th>\n",
       "      <td>8.1</td>\n",
       "    </tr>\n",
       "    <tr>\n",
       "      <th>1</th>\n",
       "      <td>8.1</td>\n",
       "    </tr>\n",
       "    <tr>\n",
       "      <th>2</th>\n",
       "      <td>8.1</td>\n",
       "    </tr>\n",
       "  </tbody>\n",
       "</table>\n",
       "</div>"
      ],
      "text/plain": [
       "   Rating\n",
       "0     8.1\n",
       "1     8.1\n",
       "2     8.1"
      ]
     },
     "execution_count": 98,
     "metadata": {},
     "output_type": "execute_result"
    }
   ],
   "source": [
    "data"
   ]
  },
  {
   "cell_type": "code",
   "execution_count": null,
   "id": "814272a7-a913-4bbe-89da-f4688287b50e",
   "metadata": {},
   "outputs": [],
   "source": []
  }
 ],
 "metadata": {
  "kernelspec": {
   "display_name": "Python 3 (ipykernel)",
   "language": "python",
   "name": "python3"
  },
  "language_info": {
   "codemirror_mode": {
    "name": "ipython",
    "version": 3
   },
   "file_extension": ".py",
   "mimetype": "text/x-python",
   "name": "python",
   "nbconvert_exporter": "python",
   "pygments_lexer": "ipython3",
   "version": "3.11.3"
  }
 },
 "nbformat": 4,
 "nbformat_minor": 5
}
