{
 "cells": [
  {
   "cell_type": "markdown",
   "id": "6b5b2c03-8b5a-4cc8-96cf-92979ad8989d",
   "metadata": {},
   "source": [
    "# Numpy\n",
    "\n",
    "\n",
    "NumPy is a powerful Python library used for numerical computing. It stands for \"Numerical Python.\" NumPy provides support for large, multi-dimensional arrays and matrices, along with a collection of mathematical functions to operate on these arrays efficiently.\n",
    "\n",
    "Key features of NumPy:\n",
    "\n",
    "1. `N-dimensional arrays`: NumPy's main data structure is the `ndarray`, which is a multi-dimensional array. It allows you to work with data in various dimensions (1D, 2D, 3D, etc.).\n",
    "\n",
    "2. `Mathematical functions`: NumPy provides a wide range of mathematical operations such as arithmetic operations, trigonometry, logarithms, exponents, and more, which can be applied element-wise on arrays.\n",
    "\n",
    "3. `Broadcasting`: NumPy allows operations between arrays with different shapes and sizes by broadcasting the values to perform element-wise computations.\n",
    "\n",
    "4. `Slicing and Indexing`: You can easily slice and access elements of arrays using various indexing techniques.\n",
    "\n",
    "5. `Integration with other libraries`: NumPy plays a crucial role in the data science ecosystem and integrates well with other libraries like Pandas, Matplotlib, and SciPy.\n",
    "\n",
    "Advantages of using NumPy:\n",
    "- **Reduced Memory Requirements**: NumPy arrays consume less memory compared to Python lists, making it ideal for handling large datasets more efficiently.\n",
    "- **Faster Execution**: NumPy's underlying C implementation enables faster execution of mathematical operations, making it well-suited for high-performance computing tasks.\n",
    "- **Convenience**: NumPy offers a wide range of built-in functions and methods for efficient data manipulation and mathematical computations.\n",
    "- **Functionality**: NumPy supports a vast array of mathematical and statistical functions that are optimized for large-scale data processing."
   ]
  },
  {
   "cell_type": "markdown",
   "id": "1615c7bd-8054-4ea0-9820-0e817b91828d",
   "metadata": {},
   "source": [
    "## Memory Consumption\n",
    "NumPy arrays use much less memory as compared to normal lists."
   ]
  },
  {
   "cell_type": "code",
   "execution_count": 4,
   "id": "9673be95-828c-449c-b6fb-5d62cee554ff",
   "metadata": {},
   "outputs": [],
   "source": [
    "import numpy as np\n",
    "import sys\n",
    "\n",
    "li_arr = [i for i in range(101)]     # Create list of 100 elements\n",
    "np_arr = np.arange(101)              # Create numpy array of 100 elements"
   ]
  },
  {
   "cell_type": "code",
   "execution_count": 5,
   "id": "c9a96c1e-f573-41eb-b2c4-1a0174c02984",
   "metadata": {},
   "outputs": [
    {
     "name": "stdout",
     "output_type": "stream",
     "text": [
      "404\n"
     ]
    }
   ],
   "source": [
    "## Size of 100 elements in numpy array\n",
    "print(np_arr.itemsize * np_arr.size)"
   ]
  },
  {
   "cell_type": "code",
   "execution_count": 7,
   "id": "593d3b5b-630f-4b90-811a-63b90699abf0",
   "metadata": {},
   "outputs": [
    {
     "name": "stdout",
     "output_type": "stream",
     "text": [
      "2800\n"
     ]
    }
   ],
   "source": [
    "## Size of 100 elements in python list\n",
    "print(sys.getsizeof(1) * len(li_arr))"
   ]
  },
  {
   "cell_type": "markdown",
   "id": "9b378d41-ff3f-4365-bb13-3d4827e94a09",
   "metadata": {},
   "source": [
    "## Time Execution\r\n",
    "NumPy arrays are much faster as compared to python lists"
   ]
  },
  {
   "cell_type": "code",
   "execution_count": 16,
   "id": "b3114171-4faf-42c2-8c44-a5fad2199f98",
   "metadata": {},
   "outputs": [
    {
     "name": "stdout",
     "output_type": "stream",
     "text": [
      "List =  23.93484115600586 milli seconds\n",
      "NumPy =  0.0 milli seconds\n"
     ]
    }
   ],
   "source": [
    "import time\n",
    "import numpy as np  \n",
    "\n",
    "size = 100000\n",
    "\n",
    "def addition_using_list():\n",
    "  t1 = time.time() #starts after epoch\n",
    "  a = range(size)\n",
    "  b = range(size)\n",
    "  c = [a[i] + b[i] for i in range(size)]\n",
    "  t2 = time.time()\n",
    "  return t2 - t1\n",
    "  \n",
    "def addition_using_numpy():\n",
    "  t1 = time.time()\n",
    "  a = np.arange(size)\n",
    "  b = np.arange(size)\n",
    "  c = a + b\n",
    "  t2 = time.time()\n",
    "  return t2 - t1\n",
    "\n",
    "t_list = addition_using_list()\n",
    "t_numpy = addition_using_numpy()\n",
    "\n",
    "print(\"List = \", t_list * 1000, \"milli seconds\")   \n",
    "print(\"NumPy = \", t_numpy * 1000,\"milli seconds\")"
   ]
  },
  {
   "cell_type": "markdown",
   "id": "b2b68217-adb5-4da7-8ecd-34d954f8a2d3",
   "metadata": {},
   "source": [
    "# Why Numpy Faster than Lists\n",
    "\n",
    "1. **Data Type Consistency**: In Python lists, elements can have different data types, which adds overhead for type-checking during operations. Numpy arrays, on the other hand, are homogeneous and have a fixed data type for all elements, which allows for faster execution of operations as the data type information is known in advance.\n",
    "\n",
    "2. **Vectorization**: Numpy utilizes vectorized operations, which means that many operations are performed on the entire array at once, rather than on individual elements. This takes advantage of hardware-level optimizations and reduces the need for explicit loops in Python, leading to faster execution times.\n",
    "\n",
    "3. **C Implementation**: Numpy is implemented in C and uses low-level optimizations, which make it more efficient in terms of memory usage and execution speed compared to the Python standard library lists.\n",
    "\n",
    "4. **Memory Layout**: Numpy arrays have a contiguous memory layout, which allows for efficient cache utilization and enables better performance during data access and manipulation.\n",
    "\n",
    "5. **Optimized Algorithms**: Numpy is designed with optimized algorithms for various mathematical and numerical operations like array multiplication, dot products, statistical calculations, etc. These operations are highly optimized and often implemented in C, providing significant speed gains compared to the equivalent operations in Python lists.\n",
    "\n",
    "6. **Parallelism and Multithreading**: Numpy can leverage multiple cores and parallelize certain operations, leading to further speed improvements for large computations.\n",
    "\n",
    "While Numpy is faster for numerical computations, Python lists still have their place in certain situations, especially for general-purpose tasks or when dealing with a small amount of data. Numpy's real strength shines when you are working with large datasets and performing heavy mathematical computations, where its efficient memory usage and optimized algorithms make a significant difference in performance."
   ]
  },
  {
   "cell_type": "markdown",
   "id": "384a1395-197d-4af7-bb7e-ea5f116a5095",
   "metadata": {},
   "source": [
    "# Creating NumPy Arrays"
   ]
  },
  {
   "cell_type": "code",
   "execution_count": 21,
   "id": "8688bb5a-ed98-4ef6-a857-aa7646b47529",
   "metadata": {},
   "outputs": [],
   "source": [
    "import numpy as np    #Use np as an alias for numpy"
   ]
  },
  {
   "cell_type": "markdown",
   "id": "21308723-8b4d-42ee-8768-a52d1b806c44",
   "metadata": {},
   "source": [
    "## np.array()\n",
    "NumPy is used to work with arrays. The array object in NumPy is called ndarray.\n",
    "\n",
    "We can create a NumPy ndarray object by using the array() function.\n",
    "\n",
    "Convert a regular Python list, tuple, or other sequence-like object into a NumPy array.\n",
    "\n",
    "### Syntax\n",
    "\n",
    "numpy.array(object, dtype=None, *, copy=True, order='K', subok=False, ndmin=0, like=None)\n",
    "\n",
    "### Parameters\n",
    "\n",
    "- `object` : array_like\n",
    "\n",
    "An array, any object exposing the array interface, an object whose array method returns an array, or any (nested) sequence.\n",
    "\n",
    "- `dtype` : data-type, optional\n",
    "\n",
    "The desired data-type for the array. If not given, then the type will be determined as the minimum type required to hold the objects in the sequence.\n",
    "\n",
    "- `copy` : bool, optional\n",
    "\n",
    "If true (default), then the object is copied. Otherwise, a copy will only be made if array returns a copy, if obj is a nested sequence, or if a copy is needed to satisfy any of the other requirements (dtype, order, etc.)."
   ]
  },
  {
   "cell_type": "code",
   "execution_count": 24,
   "id": "e70d03a3-ee22-4294-ac7a-ca4c04e9d393",
   "metadata": {},
   "outputs": [
    {
     "name": "stdout",
     "output_type": "stream",
     "text": [
      "[1 2 3]\n",
      "<class 'numpy.ndarray'>\n"
     ]
    }
   ],
   "source": [
    "a = [1, 2, 3]\n",
    "b = np.array(a)\n",
    "print(b)\n",
    "print(type(b))"
   ]
  },
  {
   "cell_type": "code",
   "execution_count": 26,
   "id": "a015f498-4310-4795-818c-8325b26bb05f",
   "metadata": {},
   "outputs": [
    {
     "name": "stdout",
     "output_type": "stream",
     "text": [
      "['1' '2' '3' '5' '4.5']\n"
     ]
    }
   ],
   "source": [
    "a = [1, 2, 3, '5', 4.5]\n",
    "b = np.array(a, dtype = str)\n",
    "print(b)"
   ]
  },
  {
   "cell_type": "code",
   "execution_count": 28,
   "id": "e7c5784f-51a8-47e5-b1b3-aac975561e08",
   "metadata": {},
   "outputs": [
    {
     "name": "stdout",
     "output_type": "stream",
     "text": [
      "['1' '2' '3' '5' '4.5' '1' '2' '3' '5' '4.5' '1' '2' '3' '5' '4.5']\n"
     ]
    }
   ],
   "source": [
    "a = [1, 2, 3, '5', 4.5]\n",
    "b = np.array(a * 3)\n",
    "print(b)"
   ]
  },
  {
   "cell_type": "markdown",
   "id": "16da46b4-dc64-4104-89d2-38ba42264439",
   "metadata": {},
   "source": [
    "### np.ones()\n",
    "#### Syntax\n",
    "\n",
    "numpy.ones(shape, dtype=None, order='C', *, like=None)\n",
    "\n",
    "This function returns a new array of given shape and type, filled with ones.\n",
    "\n",
    "####  Parameters\n",
    "\n",
    "- `shape` : int or sequence of ints\n",
    "\n",
    "Shape of the new array, e.g., (2, 3) or 2.\n",
    "\n",
    "- `dtype` : data-type, optional\n",
    "\n",
    "The desired data-type for the array, e.g., numpy.int8. Default is numpy.float64.\n",
    "\n",
    "- `order` : {‘C’, ‘F’}, optional, default: C\n",
    "\n",
    "Whether to store multi-dimensional data in row-major (C-style) or column-major (Fortran-style) order in memory.\n",
    "\n",
    "- `like` : array_like\n",
    "\n",
    "Reference object to allow the creation of arrays which are not NumPy arrays. If an array-like passed in as like supports the array_function protocol, the result will be defined by it. In this case, it ensures the creation of an array object compatible with that passed in via this argument."
   ]
  },
  {
   "cell_type": "code",
   "execution_count": 29,
   "id": "2bcccbca-3bd8-4076-b123-826ec450e9bd",
   "metadata": {},
   "outputs": [
    {
     "data": {
      "text/plain": [
       "array([1, 1, 1])"
      ]
     },
     "execution_count": 29,
     "metadata": {},
     "output_type": "execute_result"
    }
   ],
   "source": [
    "b = np.ones(3, dtype = int)\n",
    "b"
   ]
  },
  {
   "cell_type": "code",
   "execution_count": 31,
   "id": "7febf22a-2aa5-4154-993f-436f0b687841",
   "metadata": {},
   "outputs": [
    {
     "data": {
      "text/plain": [
       "array([[1, 1, 1],\n",
       "       [1, 1, 1]])"
      ]
     },
     "execution_count": 31,
     "metadata": {},
     "output_type": "execute_result"
    }
   ],
   "source": [
    "b = np.ones((2, 3), dtype = int)\n",
    "b"
   ]
  },
  {
   "cell_type": "markdown",
   "id": "da2b691c-54ac-40fb-afb4-d964b871e6e0",
   "metadata": {},
   "source": [
    "### np.zeros()\n",
    "#### Syntax\n",
    "\n",
    "numpy.zeros(shape, dtype=float, order='C', *, like=None)\n",
    "\n",
    "This returns a new array of given shape and type, filled with zeros.\n",
    "\n",
    "#### Parameters\n",
    "\n",
    "- `shape` : int or tuple of ints\n",
    "\n",
    "Shape of the new array, e.g., (2, 3) or 2.\n",
    "\n",
    "- `dtype` : data-type, optional\n",
    "\n",
    "The desired data-type for the array, e.g., numpy.int8. Default is numpy.float64.\n",
    "\n",
    "- `order` : {‘C’, ‘F’}, optional, default: ‘C’\n",
    "\n",
    "Whether to store multi-dimensional data in row-major (C-style) or column-major (Fortran-style) order in memory."
   ]
  },
  {
   "cell_type": "code",
   "execution_count": 34,
   "id": "04aebf4c-ca48-4a4b-b984-d5b5a4f02030",
   "metadata": {},
   "outputs": [
    {
     "name": "stdout",
     "output_type": "stream",
     "text": [
      "[0 0 0]\n"
     ]
    }
   ],
   "source": [
    "arr = np.zeros(3, dtype=int)\n",
    "print(arr)"
   ]
  },
  {
   "cell_type": "code",
   "execution_count": 36,
   "id": "05d57bd8-d27f-4dbb-9dc1-9533f5e0ed26",
   "metadata": {},
   "outputs": [
    {
     "data": {
      "text/plain": [
       "array([[0., 0., 0., 0.],\n",
       "       [0., 0., 0., 0.],\n",
       "       [0., 0., 0., 0.]])"
      ]
     },
     "execution_count": 36,
     "metadata": {},
     "output_type": "execute_result"
    }
   ],
   "source": [
    "b = np.zeros((3, 4))\n",
    "b"
   ]
  },
  {
   "cell_type": "markdown",
   "id": "7eb2dc24-10e2-4857-9ab9-7d6e9394501b",
   "metadata": {},
   "source": [
    "### np.full()\n",
    "#### Syntax\n",
    "\n",
    "numpy.full(shape, fill_value, dtype=None, order='C', *, like=None)\n",
    "\n",
    "Return a new array of given shape and type, filled with fill_value.\n",
    "\n",
    "#### Parameters\n",
    "\n",
    "- `shape` : int or sequence of ints\n",
    "\n",
    "Shape of the new array, e.g., (2, 3) or 2.\n",
    "\n",
    "- `fill_value` : scalar or array_like\n",
    "\n",
    "Fill value.\n",
    "\n",
    "- `dtype` : data-type, optional\n",
    "\n",
    "The desired data-type for the array The default, None, means np.array(fill_value).dtype.\n",
    "\n",
    "- `order` : {‘C’, ‘F’}, optional\n",
    "\n",
    "Whether to store multidimensional data in C- or Fortran-contiguous (row- or column-wise) order in memory."
   ]
  },
  {
   "cell_type": "code",
   "execution_count": 39,
   "id": "3a11bb1a-cac3-4928-8a8f-fe911eeed11c",
   "metadata": {},
   "outputs": [
    {
     "data": {
      "text/plain": [
       "array([[5., 5., 5.],\n",
       "       [5., 5., 5.],\n",
       "       [5., 5., 5.]])"
      ]
     },
     "execution_count": 39,
     "metadata": {},
     "output_type": "execute_result"
    }
   ],
   "source": [
    "b = np.full((3, 3), 5, dtype = float)\n",
    "b"
   ]
  },
  {
   "cell_type": "markdown",
   "id": "beb5c1e8-be07-4d75-b116-91d151dafcc3",
   "metadata": {},
   "source": [
    "## p.empty()\n",
    "### Syntax\n",
    "\n",
    "numpy.empty(shape, dtype=float, order='C', *, like=None)\n",
    "\n",
    "This returns a new array of given shape and type, without initializing entries.\n",
    "\n",
    "### Parameters\n",
    "\n",
    "- `shape` : int or tuple of int\n",
    "\n",
    "Shape of the empty array, e.g., (2, 3) or 2.\n",
    "\n",
    "- `dtype` : data-type, optional\n",
    "\n",
    "Desired output data-type for the array, e.g, numpy.int8. Default is numpy.float64.\n",
    "\n",
    "- `order` : {‘C’, ‘F’}, optional, default: ‘C’\n",
    "\n",
    "Whether to store multi-dimensional data in row-major (C-style) or column-major (Fortran-style) order in memory."
   ]
  },
  {
   "cell_type": "code",
   "execution_count": 43,
   "id": "1304f709-d645-4314-8c13-58774b98419e",
   "metadata": {},
   "outputs": [
    {
     "data": {
      "text/plain": [
       "array([[6.23042070e-307, 4.67296746e-307],\n",
       "       [1.69121096e-306, 9.39465068e-312]])"
      ]
     },
     "execution_count": 43,
     "metadata": {},
     "output_type": "execute_result"
    }
   ],
   "source": [
    "np.empty((2,2))             # uninitialized"
   ]
  },
  {
   "cell_type": "code",
   "execution_count": 45,
   "id": "dff4004f-00ae-447c-b4b7-f40342d8fe9b",
   "metadata": {},
   "outputs": [
    {
     "data": {
      "text/plain": [
       "array([[1193501079, -408530185],\n",
       "       [1528765816, 2039645231]])"
      ]
     },
     "execution_count": 45,
     "metadata": {},
     "output_type": "execute_result"
    }
   ],
   "source": [
    "np.empty((2, 2), dtype=int)"
   ]
  },
  {
   "cell_type": "markdown",
   "id": "323d753a-e73b-4849-99d5-9b89eee50b3e",
   "metadata": {},
   "source": [
    "* Note: You will get a different result each time you execute using empty, as the array formed will always be uninitialised."
   ]
  },
  {
   "cell_type": "markdown",
   "id": "081994f1-c4f2-409a-8797-ef05b597788f",
   "metadata": {},
   "source": [
    "## np.arange()\n",
    "Syntax\n",
    "\n",
    "### numpy.arange([start, ]stop, [step, ]dtype=None, *, like=None)\n",
    "\n",
    "This returns evenly spaced values within a given interval.\n",
    "\n",
    "Values are generated within the half-open interval [start, stop) (in other words, the interval including start but excluding stop). For integer arguments the function is equivalent to the Python built-in range function, but returns an ndarray rather than a list.\n",
    "\n",
    "When using a non-integer step, such as 0.1, the results will often not be consistent. It is better to use numpy.linspace for these cases.\n",
    "\n",
    "### Parameters\n",
    "\n",
    "- `start` : integer or real, optional\n",
    "\n",
    "Start of interval. The interval includes this value. The default start value is 0.\n",
    "\n",
    "- `stop` : integer or real\n",
    "\n",
    "End of interval. The interval does not include this value, except in some cases where step is not an integer and floating point round-off affects the length of out.\n",
    "\n",
    "- `step` : integer or real, optional\n",
    "\n",
    "Spacing between values. For any output out, this is the distance between two adjacent values, out[i+1] - out[i]. The default step size is 1. If step is specified as a position argument, start must also be given.\n",
    "\n",
    "- `dtype` : dtype\n",
    "\n",
    "The type of the output array. If dtype is not given, infer the data type from the other input arguments."
   ]
  },
  {
   "cell_type": "code",
   "execution_count": 47,
   "id": "5d58a0fd-edc3-4905-a4d2-c3e488e055a8",
   "metadata": {},
   "outputs": [
    {
     "data": {
      "text/plain": [
       "array([0, 1, 2, 3, 4, 5, 6, 7, 8, 9])"
      ]
     },
     "execution_count": 47,
     "metadata": {},
     "output_type": "execute_result"
    }
   ],
   "source": [
    "b = np.arange(10)\n",
    "b"
   ]
  },
  {
   "cell_type": "code",
   "execution_count": 48,
   "id": "a9baf9e7-5d34-47b5-800c-430606629858",
   "metadata": {},
   "outputs": [
    {
     "data": {
      "text/plain": [
       "array([2, 3, 4, 5, 6, 7, 8, 9])"
      ]
     },
     "execution_count": 48,
     "metadata": {},
     "output_type": "execute_result"
    }
   ],
   "source": [
    "b = np.arange(2, 10)\n",
    "b"
   ]
  },
  {
   "cell_type": "code",
   "execution_count": 49,
   "id": "5c402e3f-678e-432a-85d5-1ef33582b7ef",
   "metadata": {},
   "outputs": [
    {
     "data": {
      "text/plain": [
       "array([ 2,  4,  6,  8, 10, 12, 14, 16, 18])"
      ]
     },
     "execution_count": 49,
     "metadata": {},
     "output_type": "execute_result"
    }
   ],
   "source": [
    "b = np.arange(2, 20, 2)\n",
    "b"
   ]
  },
  {
   "cell_type": "markdown",
   "id": "4a61af71-42ba-4a2f-a494-d9b052d89b4f",
   "metadata": {},
   "source": [
    "## `np.linspace()`\r",
    "*lineary spaced\n",
    "\r\n",
    "### Syntax\r\n",
    "\r\n",
    "```python\r\n",
    "numpy.linspace(start, stop, num=50, endpoint=True, retstep=False, dtype=None, axis=0)\r\n",
    "```\r\n",
    "\r\n",
    "This function returns evenly spaced numbers over a specified interval.\r\n",
    "\r\n",
    "The endpoint of the interval can optionally be excluded.\r\n",
    "\r\n",
    "### Parameters\r\n",
    "\r\n",
    "- `start` : array_like\r\n",
    "  The starting value of the sequence.\r\n",
    "\r\n",
    "- `stop` : array_like\r\n",
    "  The end value of the sequence, unless the `endpoint` is set to `False`. In that case, the sequence consists of all but the last of `num + 1` evenly spaced samples, so that `stop` is excluded. Note that the step size changes when `endpoint` is `False`.\r\n",
    "\r\n",
    "- `num` : int, optional\r\n",
    "  Number of samples to generate. Default is 50. Must be non-negative.\r\n",
    "\r\n",
    "- `endpoint` : bool, optional\r\n",
    "  If `True`, `stop` is the last sample. Otherwise, it is not included. Default is `True`.\r\n",
    "\r\n",
    "- `retstep` : bool, optional\r\n",
    "  If `True`, return `(samples, step)`, where `step` is the spacing between samples.\r\n",
    "\r\n",
    "- `dtype` : dtype, optional\r\n",
    "  The type of the output array. If `dtype` is not given, the data type is inferred from `start` and `stop`. The inferred dtype will never be an integer; float is chosen even if the arguments would produce an array of integers.\r\n",
    "\r\n",
    "- `axis` : int, optional\r\n",
    "  The axis in the result to store the samples. Relevant only if `start` or `stop` are array-like. By default (0), the samples will be along a new axis inserted at the beginning. Use `-1` to get an axis at the end."
   ]
  },
  {
   "cell_type": "code",
   "execution_count": 52,
   "id": "be197335-2605-45b3-ac81-cd18686a952f",
   "metadata": {},
   "outputs": [
    {
     "name": "stdout",
     "output_type": "stream",
     "text": [
      "0.16326530612244916\n",
      "0.16326530612244916\n"
     ]
    }
   ],
   "source": [
    "b = np.linspace(2, 10) #start,end required\n",
    "b\n",
    "print(b[1] - b[0])\n",
    "print(b[3] - b[2])"
   ]
  },
  {
   "cell_type": "markdown",
   "id": "2fc991d8-a543-48d9-a3a0-c108710b1cdd",
   "metadata": {},
   "source": [
    "* The difference between np.arange() and np.linspace() is that, using arange() we actually have control over step value, and using linspace() we have control over the number of values we want to generate."
   ]
  },
  {
   "cell_type": "markdown",
   "id": "a97ac742-9f1f-4981-aace-8009d60faea8",
   "metadata": {},
   "source": [
    "## `np.identity()`\n",
    "\n",
    "### Syntax\n",
    "\n",
    "```python\n",
    "numpy.identity(n, dtype=None, *, like=None)\n",
    "```\n",
    "\n",
    "This function returns the identity array.\n",
    "\n",
    "The identity array is a square array with ones on the main diagonal.\n",
    "\n",
    "### Parameters\n",
    "\n",
    "- `n`: int\n",
    "  Number of rows (and columns) in n x n output.\n",
    "\n",
    "- `dtype`: data-type, optional\n",
    "  Data-type of the output. Defaults to float."
   ]
  },
  {
   "cell_type": "code",
   "execution_count": 53,
   "id": "460a4ef5-a774-48da-b9a5-2cdb29834f10",
   "metadata": {},
   "outputs": [
    {
     "data": {
      "text/plain": [
       "array([[1., 0., 0.],\n",
       "       [0., 1., 0.],\n",
       "       [0., 0., 1.]])"
      ]
     },
     "execution_count": 53,
     "metadata": {},
     "output_type": "execute_result"
    }
   ],
   "source": [
    "np.identity(3)"
   ]
  },
  {
   "cell_type": "markdown",
   "id": "8fd946ce-c63f-4913-91ea-a184b397af98",
   "metadata": {},
   "source": [
    "\n",
    "## `np.eye()`\n",
    "\n",
    "### Syntax\n",
    "\n",
    "```python\n",
    "numpy.eye(N, M=None, k=0, dtype=<class 'float'>, order='C', *, like=None)\n",
    "```\n",
    "\n",
    "This function returns a 2-D array with ones on the diagonal and zeros elsewhere.\n",
    "\n",
    "### Parameters\n",
    "\n",
    "- `N` : int\n",
    "\n",
    "  Number of rows in the output.\n",
    "\n",
    "- `M` : int, optional\n",
    "\n",
    "  Number of columns in the output. If None, defaults to N.\n",
    "\n",
    "- `k` : int, optional\n",
    "\n",
    "  Index of the diagonal: 0 (the default) refers to the main diagonal, a positive value refers to an upper diagonal, and a negative value to a lower diagonal.\n",
    "\n",
    "- `dtype` : data-type, optional\n",
    "\n",
    "  Data-type of the returned array.\n",
    "\n",
    "- `order` : {'C', 'F'}, optional\n",
    "\n",
    "  Whether the output should be stored in row-major (C-style) or column-major (Fortran-style) order in memory."
   ]
  },
  {
   "cell_type": "code",
   "execution_count": 55,
   "id": "49e7baae-f0d5-4c63-84a5-a2ce41b4d318",
   "metadata": {},
   "outputs": [
    {
     "data": {
      "text/plain": [
       "array([[1., 0., 0., 0.],\n",
       "       [0., 1., 0., 0.],\n",
       "       [0., 0., 1., 0.]])"
      ]
     },
     "execution_count": 55,
     "metadata": {},
     "output_type": "execute_result"
    }
   ],
   "source": [
    "b = np.eye(3, 4)\n",
    "b"
   ]
  },
  {
   "cell_type": "markdown",
   "id": "26d701f0-76dc-4ab2-bb41-7d82bd023f49",
   "metadata": {},
   "source": [
    "Sure! Here's the formatted markdown for the `np.random.rand()` function:\r\n",
    "\r\n",
    "---\r\n",
    "\r\n",
    "## np.random.rand()\r\n",
    "\r\n",
    "### Syntax\r\n",
    "\r\n",
    "```python\r\n",
    "np.random.rand(d0, d1, ..., dn)\r\n",
    "```\r\n",
    "\r\n",
    "This function returns random values in a given shape.\r\n",
    "\r\n",
    "### Parameters\r\n",
    "\r\n",
    "- `d0, d1, ..., dn` : `t`, optional\r\n",
    "\r\n",
    "  The dimensions of the returned array, must be non-negative. If no argument is given, a single Python formatting in markdown."
   ]
  },
  {
   "cell_type": "code",
   "execution_count": 58,
   "id": "4f7695ea-97a5-40e2-83fa-3fd1a21eca36",
   "metadata": {},
   "outputs": [
    {
     "data": {
      "text/plain": [
       "array([9.979374  , 2.43686358, 0.80323096, 6.95300558, 6.61576977,\n",
       "       6.15138209, 3.11858436, 1.61556468, 3.70819116, 1.46466413])"
      ]
     },
     "execution_count": 58,
     "metadata": {},
     "output_type": "execute_result"
    }
   ],
   "source": [
    "## To generate values in range 0 - 10, we simply multiply by 10\n",
    "b = np.random.rand(10) * 10    \n",
    "b"
   ]
  },
  {
   "cell_type": "code",
   "execution_count": 59,
   "id": "4386cd97-cd7c-4836-8fe5-14760702516c",
   "metadata": {},
   "outputs": [
    {
     "data": {
      "text/plain": [
       "array([[0.98255544, 0.56660948, 0.62306193],\n",
       "       [0.64905944, 0.48868337, 0.97805953]])"
      ]
     },
     "execution_count": 59,
     "metadata": {},
     "output_type": "execute_result"
    }
   ],
   "source": [
    "b = np.random.rand(2, 3)\n",
    "b"
   ]
  },
  {
   "cell_type": "markdown",
   "id": "f18917bf-7c7e-45d7-bf7e-734310574b0c",
   "metadata": {},
   "source": [
    "## np.random.randint()\n",
    "\n",
    "### Syntax\n",
    "\n",
    "```python\n",
    "np.random.randint(low, high=None, size=None, dtype=int)\n",
    "```\n",
    "\n",
    "This function returns random integers from `low` (inclusive) to `high` (exclusive).\n",
    "\n",
    "### Parameters\n",
    "\n",
    "- `low`: `int` or array-like of ints\n",
    "\n",
    "  Lowest (signed) integers to be drawn from the distribution (unless `high=None`, in which case this parameter is one above the highest such integer).\n",
    "\n",
    "- `high`: `int` or array-like of ints, optional\n",
    "\n",
    "  If provided, one above the largest (signed) integer to be drawn from the distribution (see above for behavior if `high=None`). If array-like, must contain integer values.\n",
    "\n",
    "- `size`: `int` or tuple of ints, optional\n",
    "\n",
    "  Output shape. If the given shape is, e.g., `(m, n, k)`, then `m * n * k` samples are drawn. Default is `None`, in which case a single value is returned.\n",
    "\n",
    "- `dtype`: `dtype`, optional\n",
    "\n",
    "  Desired dtype of the result. Byteorder must be native. The default value is `int`.\n"
   ]
  },
  {
   "cell_type": "code",
   "execution_count": 60,
   "id": "bf2e4c55-b2fd-47a4-8ea0-995d8a425cef",
   "metadata": {},
   "outputs": [
    {
     "data": {
      "text/plain": [
       "array([0, 1, 1, 1, 1, 0, 0, 0, 0, 0])"
      ]
     },
     "execution_count": 60,
     "metadata": {},
     "output_type": "execute_result"
    }
   ],
   "source": [
    "np.random.randint(2, size=10)"
   ]
  },
  {
   "cell_type": "code",
   "execution_count": 61,
   "id": "54377230-1140-4c50-a7fe-7ed6f662cb0d",
   "metadata": {},
   "outputs": [
    {
     "data": {
      "text/plain": [
       "array([0, 0, 0, 0, 0, 0, 0, 0, 0, 0])"
      ]
     },
     "execution_count": 61,
     "metadata": {},
     "output_type": "execute_result"
    }
   ],
   "source": [
    "np.random.randint(1, size=10)"
   ]
  },
  {
   "cell_type": "code",
   "execution_count": 62,
   "id": "1b5ca2f5-31c5-47a8-a251-dbf7b893a50f",
   "metadata": {},
   "outputs": [
    {
     "data": {
      "text/plain": [
       "array([[0, 0, 1, 1],\n",
       "       [3, 3, 1, 0]])"
      ]
     },
     "execution_count": 62,
     "metadata": {},
     "output_type": "execute_result"
    }
   ],
   "source": [
    "np.random.randint(5, size=(2, 4))"
   ]
  },
  {
   "cell_type": "code",
   "execution_count": 64,
   "id": "98291a75-b4e0-4a73-a7ce-be4ccfa04606",
   "metadata": {},
   "outputs": [
    {
     "data": {
      "text/plain": [
       "array([2, 2, 7])"
      ]
     },
     "execution_count": 64,
     "metadata": {},
     "output_type": "execute_result"
    }
   ],
   "source": [
    "np.random.randint(1, [3, 5, 10])"
   ]
  },
  {
   "cell_type": "code",
   "execution_count": 66,
   "id": "ba32e262-940f-4dc4-9745-20a072d79354",
   "metadata": {},
   "outputs": [
    {
     "data": {
      "text/plain": [
       "array([[4, 9, 6, 8],\n",
       "       [3, 3, 6, 7],\n",
       "       [2, 6, 6, 8],\n",
       "       [4, 1, 4, 6]])"
      ]
     },
     "execution_count": 66,
     "metadata": {},
     "output_type": "execute_result"
    }
   ],
   "source": [
    "np.random.randint(1, 10,(4,4))"
   ]
  },
  {
   "cell_type": "markdown",
   "id": "f3f58e46-3aae-4afe-b2f6-ebb0bb367a41",
   "metadata": {},
   "source": [
    "### numpy attributes\n",
    "Numpy arrays are basically collection of references or collection of pointers which points to\n",
    "4 different attributes\n",
    "\n",
    "- data: reference to 1st byte of the array /1st element\n",
    "- shape: shape/size of the array\n",
    "- dtype- datatype of the array\n",
    "- strides: no of bytes to skip to get next element of the array\n",
    "\n",
    "## Indexing and Slicing\n",
    "Since we already know how to use indices and perform slicing in normal python lists, we shall see in comparison, how a numpy array does similar things.\n",
    "\n",
    "### 1-D Arrays"
   ]
  },
  {
   "cell_type": "code",
   "execution_count": 68,
   "id": "5936dda8-8ecb-4e35-ba99-8f18aec08696",
   "metadata": {},
   "outputs": [
    {
     "name": "stdout",
     "output_type": "stream",
     "text": [
      "[1, 2, 3, 4, 5]\n",
      "[1 2 3 4 5]\n"
     ]
    }
   ],
   "source": [
    "import numpy as np\n",
    "\n",
    "li = [1, 2, 3, 4, 5]\n",
    "arr = np.array(li)\n",
    "\n",
    "print(li)\n",
    "print(arr)"
   ]
  },
  {
   "cell_type": "code",
   "execution_count": 70,
   "id": "79da59e8-f20b-46f1-864b-6dd17d7a3e23",
   "metadata": {},
   "outputs": [
    {
     "name": "stdout",
     "output_type": "stream",
     "text": [
      "<memory at 0x000001BAC9C1F580>\n",
      "(5,)\n",
      "int32\n",
      "(4,)\n"
     ]
    }
   ],
   "source": [
    "print(arr.data)\n",
    "print(arr.shape)\n",
    "print(arr.dtype)\n",
    "## Refers to the memory gap between two elements of numpy array\n",
    "print(arr.strides)  "
   ]
  },
  {
   "cell_type": "code",
   "execution_count": 72,
   "id": "9a3d60f2-7c6f-4651-9bb4-ff86ac39a86d",
   "metadata": {},
   "outputs": [
    {
     "name": "stdout",
     "output_type": "stream",
     "text": [
      "4\n",
      "4\n"
     ]
    }
   ],
   "source": [
    "## Accessing elements\n",
    "print(li[3])\n",
    "print(arr[3])"
   ]
  },
  {
   "cell_type": "code",
   "execution_count": 75,
   "id": "697465c0-2574-46aa-a287-8d640e212a9b",
   "metadata": {},
   "outputs": [
    {
     "name": "stdout",
     "output_type": "stream",
     "text": [
      "[2, 3, 4]\n",
      "[2 3 4]\n"
     ]
    }
   ],
   "source": [
    "## Accessing more than one elements\n",
    "print(li[1:4])\n",
    "print(arr[1:4])"
   ]
  },
  {
   "cell_type": "markdown",
   "id": "6825bba0-d316-477b-90bd-1a3526954f68",
   "metadata": {},
   "source": [
    "## 2-D Arrays"
   ]
  },
  {
   "cell_type": "code",
   "execution_count": 77,
   "id": "0906468d-b2ba-48fb-8c54-52ac00126730",
   "metadata": {},
   "outputs": [
    {
     "name": "stdout",
     "output_type": "stream",
     "text": [
      "[[1, 2, 3, 4], [5, 6, 7, 8], [9, 10, 11, 12], [13, 14, 15, 16]]\n",
      "[[ 1  2  3  4]\n",
      " [ 5  6  7  8]\n",
      " [ 9 10 11 12]\n",
      " [13 14 15 16]]\n"
     ]
    }
   ],
   "source": [
    "li_2d = [[1, 2, 3, 4], [5, 6, 7, 8], [9, 10, 11, 12], [13, 14, 15, 16]]\n",
    "arr_2d = np.array(li_2d)\n",
    "\n",
    "print(li_2d)\n",
    "print(arr_2d)"
   ]
  },
  {
   "cell_type": "code",
   "execution_count": 79,
   "id": "3b38f7dd-1e21-4c9b-baff-24363ebf91e9",
   "metadata": {},
   "outputs": [
    {
     "name": "stdout",
     "output_type": "stream",
     "text": [
      "<memory at 0x000001BACA0E0E10>\n",
      "(4, 4)\n",
      "int32\n",
      "(16, 4)\n"
     ]
    }
   ],
   "source": [
    "print(arr_2d.data)\n",
    "print(arr_2d.shape)\n",
    "print(arr_2d.dtype)\n",
    "print(arr_2d.strides)"
   ]
  },
  {
   "cell_type": "code",
   "execution_count": 80,
   "id": "5f6cc780-ee52-4450-9691-e1b67eb43604",
   "metadata": {},
   "outputs": [
    {
     "name": "stdout",
     "output_type": "stream",
     "text": [
      "10\n",
      "10\n",
      "10\n"
     ]
    }
   ],
   "source": [
    "## Accessing the elements\n",
    "print(li_2d[2][1])\n",
    "print(arr_2d[2][1])\n",
    "print(arr_2d[2, 1])   # We may use comma also"
   ]
  },
  {
   "cell_type": "code",
   "execution_count": 82,
   "id": "9dde8815-a21f-40b6-9750-7fe28a7a422d",
   "metadata": {},
   "outputs": [
    {
     "name": "stdout",
     "output_type": "stream",
     "text": [
      "[5, 6, 7]\n",
      "[5 6 7]\n"
     ]
    }
   ],
   "source": [
    "## Slicing \n",
    "print(li_2d[1][:3])\n",
    "print(arr_2d[1, :3])"
   ]
  },
  {
   "cell_type": "markdown",
   "id": "fdb88f58-f78d-4c5f-87d2-c6c3d6204397",
   "metadata": {},
   "source": [
    "* For normal lists, we cannot get elements in column axis. Suppose we want to get elements of 1st, 2nd and 3rd row belonging only to the 2nd column, we may try this:"
   ]
  },
  {
   "cell_type": "code",
   "execution_count": 83,
   "id": "948ab043-edaa-47c3-bfb5-ccc972c7de74",
   "metadata": {},
   "outputs": [
    {
     "name": "stdout",
     "output_type": "stream",
     "text": [
      "[9, 10, 11, 12]\n"
     ]
    }
   ],
   "source": [
    "print(li_2d[0:3][2])"
   ]
  },
  {
   "cell_type": "code",
   "execution_count": 86,
   "id": "e87e55be-b972-4dbd-9ce5-ca7f043f567c",
   "metadata": {},
   "outputs": [
    {
     "name": "stdout",
     "output_type": "stream",
     "text": [
      "[[1, 2, 3, 4], [5, 6, 7, 8], [9, 10, 11, 12]]\n",
      "[9, 10, 11, 12]\n"
     ]
    }
   ],
   "source": [
    "# Above does not work. because\n",
    "\n",
    "x = li_2d[0:3]\n",
    "print(x)\n",
    "y = x[2]\n",
    "print(y)"
   ]
  },
  {
   "cell_type": "markdown",
   "id": "591c4626-e93a-47d2-bea5-6c82354a8e6b",
   "metadata": {},
   "source": [
    "* This is easily possible in numpy arrays :"
   ]
  },
  {
   "cell_type": "code",
   "execution_count": 88,
   "id": "615796c6-a10a-4b51-9f49-5dc641dd344e",
   "metadata": {},
   "outputs": [
    {
     "name": "stdout",
     "output_type": "stream",
     "text": [
      "[ 3  7 11]\n"
     ]
    }
   ],
   "source": [
    "print(arr_2d[0 : 3, 2])"
   ]
  },
  {
   "cell_type": "raw",
   "id": "ab7b32bd-b3e8-4052-b4e0-a6061215ad1a",
   "metadata": {},
   "source": [
    "We may also get multiple sliced rows and columns. Lets see how :"
   ]
  },
  {
   "cell_type": "code",
   "execution_count": 90,
   "id": "1d99a000-24bc-4e8a-a6db-e435b8572d8e",
   "metadata": {},
   "outputs": [
    {
     "name": "stdout",
     "output_type": "stream",
     "text": [
      "[[10 11]\n",
      " [14 15]]\n",
      "[[13, 14, 15, 16]]\n"
     ]
    }
   ],
   "source": [
    "print(arr_2d[2:4, 1:3])\n",
    "print(li_2d[2:4][1:3])"
   ]
  },
  {
   "cell_type": "markdown",
   "id": "7e7f23a3-d107-4851-9b49-b34531c7f708",
   "metadata": {},
   "source": [
    "## Mathematical Operations\n",
    "Lets see how numpy arrays simplify mathematical operations for us.\n",
    "### Arithmetic Operations"
   ]
  },
  {
   "cell_type": "code",
   "execution_count": 91,
   "id": "5951eb22-7e97-4a15-8b52-6e3a332c22e6",
   "metadata": {},
   "outputs": [
    {
     "name": "stdout",
     "output_type": "stream",
     "text": [
      "[1, 2, 3, 4, 5]\n",
      "[ 5 18 18 18 17]\n",
      "[ 2 19 15  8  6]\n"
     ]
    }
   ],
   "source": [
    "import numpy as np\n",
    "\n",
    "li = [1, 2, 3, 4, 5]\n",
    "a = np.random.randint(1, 20, 5)\n",
    "b = np.random.randint(1, 20, 5)\n",
    "\n",
    "print(li)\n",
    "print(a)\n",
    "print(b)"
   ]
  },
  {
   "cell_type": "code",
   "execution_count": 92,
   "id": "bc671d75-20d2-47bd-93f6-a04ca165b462",
   "metadata": {},
   "outputs": [
    {
     "data": {
      "text/plain": [
       "[2, 3, 4, 5, 6]"
      ]
     },
     "execution_count": 92,
     "metadata": {},
     "output_type": "execute_result"
    }
   ],
   "source": [
    "## Adding 1 to each element in list\n",
    "li = [i+1 for i in li]\n",
    "li"
   ]
  },
  {
   "cell_type": "code",
   "execution_count": 93,
   "id": "9e4140c2-9b5a-4c2f-8205-39f1c9e77cbf",
   "metadata": {},
   "outputs": [
    {
     "data": {
      "text/plain": [
       "array([ 6, 19, 19, 19, 18])"
      ]
     },
     "execution_count": 93,
     "metadata": {},
     "output_type": "execute_result"
    }
   ],
   "source": [
    "## Adding 1 to each element in numpy array\n",
    "a = a + 1\n",
    "a"
   ]
  },
  {
   "cell_type": "code",
   "execution_count": 95,
   "id": "eb8d92b1-0543-4545-b006-ecb5a51bc0d1",
   "metadata": {},
   "outputs": [
    {
     "data": {
      "text/plain": [
       "array([ 4,  0,  4, 11, 12])"
      ]
     },
     "execution_count": 95,
     "metadata": {},
     "output_type": "execute_result"
    }
   ],
   "source": [
    "## Subtracting two numpy arrays\n",
    "d = a - b\n",
    "d"
   ]
  },
  {
   "cell_type": "code",
   "execution_count": 96,
   "id": "448eaea0-2403-4340-a958-a64580ba55c7",
   "metadata": {},
   "outputs": [
    {
     "data": {
      "text/plain": [
       "array([ 12, 361, 285, 152, 108])"
      ]
     },
     "execution_count": 96,
     "metadata": {},
     "output_type": "execute_result"
    }
   ],
   "source": [
    "## Multiplying two numpy arrays\n",
    "e = a * b\n",
    "e"
   ]
  },
  {
   "cell_type": "code",
   "execution_count": 97,
   "id": "fdfafeb6-557f-4a13-bbbb-1f66b79fab8f",
   "metadata": {},
   "outputs": [
    {
     "data": {
      "text/plain": [
       "array([3.        , 1.        , 1.26666667, 2.375     , 3.        ])"
      ]
     },
     "execution_count": 97,
     "metadata": {},
     "output_type": "execute_result"
    }
   ],
   "source": [
    "## Dividing two numpy arrays\n",
    "f = a / b\n",
    "f"
   ]
  },
  {
   "cell_type": "code",
   "execution_count": 98,
   "id": "118263d6-2746-42ce-8594-fd334857156d",
   "metadata": {},
   "outputs": [
    {
     "data": {
      "text/plain": [
       "array([         36,  -306639989, -1044074789,  -196306143,    34012224])"
      ]
     },
     "execution_count": 98,
     "metadata": {},
     "output_type": "execute_result"
    }
   ],
   "source": [
    "h = a ** b\n",
    "h"
   ]
  },
  {
   "cell_type": "code",
   "execution_count": 100,
   "id": "260ebb89-1913-4dd5-8d04-dccfd26eedea",
   "metadata": {},
   "outputs": [
    {
     "name": "stdout",
     "output_type": "stream",
     "text": [
      "[ 6 19 19 19 18]\n",
      "81\n",
      "16.2\n",
      "6\n",
      "0\n",
      "19\n",
      "1\n"
     ]
    }
   ],
   "source": [
    "## Some misc operations\n",
    "print(a)\n",
    "print(a.sum())    ## Sum of all elements\n",
    "print(a.mean())   ## Mean of all elements\n",
    "print(a.min())    ## Minimum of all elements\n",
    "print(a.argmin()) ## Index of minimum of all elements \n",
    "print(a.max())    ## Maximum of all elements\n",
    "print(a.argmax()) ## Index of maximum of all elements "
   ]
  },
  {
   "cell_type": "markdown",
   "id": "32f0e845-3516-40d5-8fe9-6547ae8b5e42",
   "metadata": {},
   "source": [
    "## Relational Operoator & Logical Operations\n",
    "returns boolean array by applying the codition"
   ]
  },
  {
   "cell_type": "code",
   "execution_count": 101,
   "id": "2e371366-94a8-4363-9c25-cc8131a6ec3a",
   "metadata": {},
   "outputs": [
    {
     "name": "stdout",
     "output_type": "stream",
     "text": [
      "[ 6 19 19 19 18]\n",
      "[ 2 19 15  8  6]\n"
     ]
    }
   ],
   "source": [
    "print(a)\n",
    "print(b)"
   ]
  },
  {
   "cell_type": "code",
   "execution_count": 102,
   "id": "126ec15f-3bd4-42fb-a699-332c11b547bd",
   "metadata": {},
   "outputs": [
    {
     "data": {
      "text/plain": [
       "array([ True, False,  True,  True,  True])"
      ]
     },
     "execution_count": 102,
     "metadata": {},
     "output_type": "execute_result"
    }
   ],
   "source": [
    "a > b"
   ]
  },
  {
   "cell_type": "code",
   "execution_count": 103,
   "id": "f1468847-e612-4693-97c1-0b487506e935",
   "metadata": {},
   "outputs": [
    {
     "data": {
      "text/plain": [
       "array([False, False, False, False, False])"
      ]
     },
     "execution_count": 103,
     "metadata": {},
     "output_type": "execute_result"
    }
   ],
   "source": [
    "a < b"
   ]
  },
  {
   "cell_type": "code",
   "execution_count": 104,
   "id": "79bba00e-3347-4d86-9b8e-7022bd4b3b3e",
   "metadata": {},
   "outputs": [
    {
     "data": {
      "text/plain": [
       "array([False,  True, False, False, False])"
      ]
     },
     "execution_count": 104,
     "metadata": {},
     "output_type": "execute_result"
    }
   ],
   "source": [
    "a == b"
   ]
  },
  {
   "cell_type": "code",
   "execution_count": 106,
   "id": "80b33048-4dbc-4c2b-bf7a-381371a5018c",
   "metadata": {},
   "outputs": [
    {
     "name": "stdout",
     "output_type": "stream",
     "text": [
      "[ True  True  True  True  True]\n",
      "[ True  True  True  True  True]\n",
      "[False False False False False]\n"
     ]
    }
   ],
   "source": [
    "# logical\n",
    "print(np.logical_or(a, b))\n",
    "print(np.logical_and(a, b))\n",
    "print(np.logical_not(a)) #only one argument: unary operator"
   ]
  },
  {
   "cell_type": "code",
   "execution_count": 107,
   "id": "33641b7e-9378-4c76-9818-41a82343419f",
   "metadata": {},
   "outputs": [
    {
     "name": "stdout",
     "output_type": "stream",
     "text": [
      "[ 6 19  0 19 18]\n",
      "[False False  True False False]\n"
     ]
    }
   ],
   "source": [
    "a[2] = 0\n",
    "print(a)\n",
    "print(np.logical_not(a))"
   ]
  },
  {
   "cell_type": "markdown",
   "id": "f2ceb6ae-15e2-49b3-aea6-6b8be4c9af20",
   "metadata": {},
   "source": [
    "## Boolean Indexing\n",
    "NumPy also permits the use of a boolean-valued array as an index, to perform advanced indexing on an array. In its simplest form, this is an extremely intuitive and elegant method for selecting contents from an array based on logical conditions.\n",
    "\n",
    "### 1D Arrays"
   ]
  },
  {
   "cell_type": "code",
   "execution_count": 109,
   "id": "3f7f9bbf-6acc-48cf-a99e-928c61d96b55",
   "metadata": {},
   "outputs": [],
   "source": [
    "import numpy as np"
   ]
  },
  {
   "cell_type": "code",
   "execution_count": 111,
   "id": "7e1726c8-95c5-4ef2-8364-3be95063ec21",
   "metadata": {},
   "outputs": [
    {
     "name": "stdout",
     "output_type": "stream",
     "text": [
      "[19  2 19  9  6 12 15  2]\n"
     ]
    }
   ],
   "source": [
    "b = np.random.randint(1, 20, 8)\n",
    "print(b)"
   ]
  },
  {
   "cell_type": "code",
   "execution_count": 112,
   "id": "d309804a-db1c-4489-880e-21d9d7fbeed5",
   "metadata": {},
   "outputs": [
    {
     "name": "stdout",
     "output_type": "stream",
     "text": [
      "[ True False  True False False  True  True False]\n"
     ]
    }
   ],
   "source": [
    "print(b > 10)"
   ]
  },
  {
   "cell_type": "code",
   "execution_count": 114,
   "id": "b8739ed8-f65b-4910-a875-cb4524b0ebb1",
   "metadata": {},
   "outputs": [
    {
     "name": "stdout",
     "output_type": "stream",
     "text": [
      "[ True False  True False False  True  True False]\n",
      "[19 19 12 15]\n"
     ]
    }
   ],
   "source": [
    "bool_arr = b > 10\n",
    "print(bool_arr)\n",
    "\n",
    "new_arr = b[bool_arr]\n",
    "print(new_arr)"
   ]
  },
  {
   "cell_type": "code",
   "execution_count": 116,
   "id": "387c70ca-a48e-4a05-87b6-970a70c219d3",
   "metadata": {},
   "outputs": [
    {
     "data": {
      "text/plain": [
       "array([19, 19, 12, 15])"
      ]
     },
     "execution_count": 116,
     "metadata": {},
     "output_type": "execute_result"
    }
   ],
   "source": [
    "# In shorthand, we may do the following :\n",
    "\n",
    "new_arr = b[b > 10]\n",
    "new_arr"
   ]
  },
  {
   "cell_type": "code",
   "execution_count": 117,
   "id": "b00ad407-35b2-4af0-9e5c-50860f47acc3",
   "metadata": {},
   "outputs": [
    {
     "data": {
      "text/plain": [
       "array([12, 15])"
      ]
     },
     "execution_count": 117,
     "metadata": {},
     "output_type": "execute_result"
    }
   ],
   "source": [
    "new_arr = b[(b > 10) & (b < 18)]\n",
    "new_arr"
   ]
  },
  {
   "cell_type": "code",
   "execution_count": 118,
   "id": "793ec775-d9f4-486d-92d7-fe9d8e20545a",
   "metadata": {},
   "outputs": [
    {
     "name": "stdout",
     "output_type": "stream",
     "text": [
      "[19  2 19  9  6 12 15  2]\n"
     ]
    },
    {
     "data": {
      "text/plain": [
       "array([19,  2, 19,  9,  6, 12, 15,  2])"
      ]
     },
     "execution_count": 118,
     "metadata": {},
     "output_type": "execute_result"
    }
   ],
   "source": [
    "print(b)\n",
    "c = b\n",
    "c"
   ]
  },
  {
   "cell_type": "code",
   "execution_count": 119,
   "id": "f1c23fb4-1d36-425c-b8a0-693dd1389db0",
   "metadata": {},
   "outputs": [
    {
     "name": "stdout",
     "output_type": "stream",
     "text": [
      "[19 19 19  9  6 12 15  2]\n"
     ]
    },
    {
     "data": {
      "text/plain": [
       "array([100, 100, 100,   9,   6,  12,  15,   2])"
      ]
     },
     "execution_count": 119,
     "metadata": {},
     "output_type": "execute_result"
    }
   ],
   "source": [
    "c[:3] = 19\n",
    "print(c)\n",
    "c[c > 15] = 100\n",
    "c"
   ]
  },
  {
   "cell_type": "code",
   "execution_count": 120,
   "id": "a3e52476-43a1-4563-b2a9-591f76540a06",
   "metadata": {},
   "outputs": [
    {
     "name": "stdout",
     "output_type": "stream",
     "text": [
      "[100 100 100   9   6  12  15   2]\n",
      "[100 100 100]\n"
     ]
    }
   ],
   "source": [
    "print(b)\n",
    "print(b[b == 100])"
   ]
  },
  {
   "cell_type": "code",
   "execution_count": 123,
   "id": "5f776582-e39a-4a35-a09a-7ee88b72caed",
   "metadata": {},
   "outputs": [
    {
     "data": {
      "text/plain": [
       "(array([0, 1, 2], dtype=int64),)"
      ]
     },
     "execution_count": 123,
     "metadata": {},
     "output_type": "execute_result"
    }
   ],
   "source": [
    "## To get those indiced where element is 100\n",
    "ind = np.where(b == 100)\n",
    "ind"
   ]
  },
  {
   "cell_type": "markdown",
   "id": "7d90f55b-3942-4583-bab0-dc0a8716d5fb",
   "metadata": {},
   "source": [
    "## 2D Arrays\n",
    "2D arrays work the same as 1D arrays."
   ]
  },
  {
   "cell_type": "code",
   "execution_count": 124,
   "id": "b2bc97fe-2b55-468e-a549-d5f24f2fc271",
   "metadata": {},
   "outputs": [],
   "source": [
    "import numpy as np"
   ]
  },
  {
   "cell_type": "code",
   "execution_count": 125,
   "id": "e8e8f88f-5692-43ce-8a3d-0bad956ab58a",
   "metadata": {},
   "outputs": [
    {
     "name": "stdout",
     "output_type": "stream",
     "text": [
      "[[ 6 11 19 27  4 26]\n",
      " [11 12  9  6  9 24]\n",
      " [ 3 21 26 28  3  7]\n",
      " [ 9 24 25 18  8 10]\n",
      " [26  2  4  7 13 10]]\n"
     ]
    }
   ],
   "source": [
    "a = np.random.randint(1, 30, (5, 6))\n",
    "print(a)"
   ]
  },
  {
   "cell_type": "code",
   "execution_count": 126,
   "id": "d0cd6f0a-ec4d-4e12-bd8e-c414950ce517",
   "metadata": {},
   "outputs": [
    {
     "name": "stdout",
     "output_type": "stream",
     "text": [
      "[[False False False  True False  True]\n",
      " [False False False False False  True]\n",
      " [False  True  True  True False False]\n",
      " [False  True  True False False False]\n",
      " [ True False False False False False]]\n"
     ]
    }
   ],
   "source": [
    "bool_arr = a > 20\n",
    "print(bool_arr)"
   ]
  },
  {
   "cell_type": "code",
   "execution_count": 127,
   "id": "0c93bb90-48d7-4ec2-9597-fb72422ce46a",
   "metadata": {},
   "outputs": [
    {
     "name": "stdout",
     "output_type": "stream",
     "text": [
      "[27 26 24 21 26 28 24 25 26]\n"
     ]
    }
   ],
   "source": [
    "ans = a[bool_arr]\n",
    "print(ans)"
   ]
  },
  {
   "cell_type": "code",
   "execution_count": 128,
   "id": "d6bc910b-aa26-4973-b500-8d977c128873",
   "metadata": {},
   "outputs": [
    {
     "name": "stdout",
     "output_type": "stream",
     "text": [
      "[[ 6 11 19 27  4 26]\n",
      " [11 12  9  6  9 24]\n",
      " [ 3 21 26 28  3  7]\n",
      " [ 9 24 25 18  8 10]\n",
      " [26  2  4  7 13 10]]\n"
     ]
    }
   ],
   "source": [
    "b = a\n",
    "print(a)"
   ]
  },
  {
   "cell_type": "code",
   "execution_count": 129,
   "id": "ee7e344f-c977-4468-afb8-72af77e008fa",
   "metadata": {},
   "outputs": [
    {
     "name": "stdout",
     "output_type": "stream",
     "text": [
      "[[  6  11  19 100   4 100]\n",
      " [ 11  12   9   6   9 100]\n",
      " [  3 100 100 100   3   7]\n",
      " [  9 100 100  18   8  10]\n",
      " [100   2   4   7  13  10]]\n"
     ]
    }
   ],
   "source": [
    "b[bool_arr] = 100\n",
    "print(b)"
   ]
  },
  {
   "cell_type": "code",
   "execution_count": 130,
   "id": "022a9c50-1edd-407a-96d5-f4f58785e061",
   "metadata": {},
   "outputs": [
    {
     "name": "stdout",
     "output_type": "stream",
     "text": [
      "[[9 5]\n",
      " [1 8]]\n"
     ]
    }
   ],
   "source": [
    "c = np.random.randint(1, 10, (2, 2))\n",
    "print(c)"
   ]
  },
  {
   "cell_type": "code",
   "execution_count": 131,
   "id": "afcfe6ab-d93e-4e01-830d-b1a522b36a4a",
   "metadata": {},
   "outputs": [
    {
     "name": "stdout",
     "output_type": "stream",
     "text": [
      "[[ True False]\n",
      " [False  True]\n",
      " [ True  True]]\n"
     ]
    }
   ],
   "source": [
    "c_bool = np.array([[True, False], [False, True], [True, True]])\n",
    "print(c_bool)"
   ]
  },
  {
   "cell_type": "code",
   "execution_count": 134,
   "id": "7c2d4b97-e9e9-4854-855c-6c97b7f1dc79",
   "metadata": {},
   "outputs": [
    {
     "ename": "IndexError",
     "evalue": "boolean index did not match indexed array along dimension 0; dimension is 2 but corresponding boolean dimension is 3",
     "output_type": "error",
     "traceback": [
      "\u001b[1;31m---------------------------------------------------------------------------\u001b[0m",
      "\u001b[1;31mIndexError\u001b[0m                                Traceback (most recent call last)",
      "Cell \u001b[1;32mIn[134], line 1\u001b[0m\n\u001b[1;32m----> 1\u001b[0m \u001b[38;5;28mprint\u001b[39m(\u001b[43mc\u001b[49m\u001b[43m[\u001b[49m\u001b[43mc_bool\u001b[49m\u001b[43m]\u001b[49m)   \n\u001b[0;32m      2\u001b[0m \u001b[38;5;66;03m## Error generated because dimensions of boolean array and c are not same dimesion\u001b[39;00m\n",
      "\u001b[1;31mIndexError\u001b[0m: boolean index did not match indexed array along dimension 0; dimension is 2 but corresponding boolean dimension is 3"
     ]
    }
   ],
   "source": [
    "print(c[c_bool])   \n",
    "## Error generated because dimensions of boolean array and c are not same dimesion"
   ]
  },
  {
   "cell_type": "code",
   "execution_count": 135,
   "id": "3d06c33a-628f-463a-9b06-e930f85de386",
   "metadata": {},
   "outputs": [
    {
     "name": "stdout",
     "output_type": "stream",
     "text": [
      "[[  6  11  19 100   4 100]\n",
      " [ 11  12   9   6   9 100]\n",
      " [  3 100 100 100   3   7]\n",
      " [  9 100 100  18   8  10]\n",
      " [100   2   4   7  13  10]]\n"
     ]
    }
   ],
   "source": [
    "print(b)"
   ]
  },
  {
   "cell_type": "code",
   "execution_count": 136,
   "id": "0d9d19de-fa55-430e-bd88-282aad655f03",
   "metadata": {},
   "outputs": [
    {
     "name": "stdout",
     "output_type": "stream",
     "text": [
      "[ True False  True False False]\n"
     ]
    }
   ],
   "source": [
    "bool_arr = b[:, 3] == 100\n",
    "print(bool_arr)"
   ]
  },
  {
   "cell_type": "code",
   "execution_count": 138,
   "id": "1137ca00-0230-4039-9b7f-cc423d8812b1",
   "metadata": {},
   "outputs": [
    {
     "name": "stdout",
     "output_type": "stream",
     "text": [
      "[[  6  11  19  99   4 100]\n",
      " [ 11  12   9   6   9 100]\n",
      " [  3 100 100  99   3   7]\n",
      " [  9 100 100  18   8  10]\n",
      " [100   2   4   7  13  10]]\n"
     ]
    }
   ],
   "source": [
    "b[bool_arr, 3] = 99\n",
    "print(b)"
   ]
  },
  {
   "cell_type": "markdown",
   "id": "12ffb431-3284-419a-a339-7b575326feb3",
   "metadata": {},
   "source": [
    "# NumPy Broadcasting\n",
    "\n",
    "The term broadcasting describes how numpy treats arrays with different shapes during arithmetic operations. Subject to certain constraints, the smaller array is “broadcast” across the larger array so that they have compatible shapes. Broadcasting provides a means of vectorizing array operations so that looping occurs in C instead of Python. It does this without making needless copies of data and usually leads to efficient algorithm implementations. There are, however, cases where broadcasting is a bad idea because it leads to inefficient use of memory that slows computation.\n",
    "\n",
    "NumPy operations are usually done on pairs of arrays on an element-by-element basis. In the simplest case, the two arrays must have exactly the same shape, as in the following example:\n",
    "\n",
    "#### arrrays are compatible only if they are having same dimensions or one of them have 1 dimension\n",
    "\n",
    "a=3 x 2 b=3 x 2 #compatible\n",
    "\n",
    "a=3 x 3 b=1 x 3 #compatible, here broadcasting happens\n",
    "\n",
    "a=3 x 3 b=3 x 2 # not compatible"
   ]
  },
  {
   "cell_type": "code",
   "execution_count": 139,
   "id": "1fe9a3c5-27ab-4e09-8a6d-a01072adb365",
   "metadata": {},
   "outputs": [],
   "source": [
    "import numpy as np"
   ]
  },
  {
   "cell_type": "code",
   "execution_count": 141,
   "id": "4f57b1b5-cdb3-442b-83b3-77196e75b7b0",
   "metadata": {},
   "outputs": [
    {
     "data": {
      "text/plain": [
       "array([2., 4., 6.])"
      ]
     },
     "execution_count": 141,
     "metadata": {},
     "output_type": "execute_result"
    }
   ],
   "source": [
    "a = np.array([1.0, 2.0, 3.0])\n",
    "b = np.array([2.0, 2.0, 2.0])\n",
    "a * b"
   ]
  },
  {
   "cell_type": "markdown",
   "id": "90e24e90-8ead-4d03-95e0-13f33256e008",
   "metadata": {},
   "source": [
    "NumPy’s broadcasting rule relaxes this constraint when the arrays’ shapes meet certain constraints. The simplest broadcasting example occurs when an array and a scalar value are combined in an operation:"
   ]
  },
  {
   "cell_type": "code",
   "execution_count": 143,
   "id": "305978f7-a17f-480d-b61a-b9c5f28d0433",
   "metadata": {},
   "outputs": [
    {
     "data": {
      "text/plain": [
       "array([2., 4., 6.])"
      ]
     },
     "execution_count": 143,
     "metadata": {},
     "output_type": "execute_result"
    }
   ],
   "source": [
    "a = np.array([1.0, 2.0, 3.0])\n",
    "b = 2.0\n",
    "a * b"
   ]
  },
  {
   "cell_type": "markdown",
   "id": "47418900-13f4-4a07-b0c4-3fa8e061d245",
   "metadata": {},
   "source": [
    "The result is equivalent to the previous example where b was an array. We can think of the scalar b being stretched during the arithmetic operation into an array with the same shape as a. The new elements in b are simply copies of the original scalar. The stretching analogy is only conceptual. NumPy is smart enough to use the original scalar value without actually making copies so that broadcasting operations are as memory and computationally efficient as possible.\n",
    "\n",
    "The code in the second example is more efficient than that in the first because broadcasting moves less memory around during the multiplication (b is a scalar rather than an array).\n",
    "\n",
    "When operating on two arrays, NumPy compares their shapes element-wise. It starts with the trailing (i.e. rightmost) dimensions and works its way left. Two dimensions are compatible when\n",
    "\n",
    "they are equal, or\n",
    "\n",
    "one of them is 1\n",
    "\n",
    "If these conditions are not met, a ValueError: operands could not be broadcast together exception is thrown, indicating that the arrays have incompatible shapes. The size of the resulting array is the size that is not 1 along each axis of the inputs."
   ]
  },
  {
   "cell_type": "code",
   "execution_count": 144,
   "id": "1bddadb1-1ead-4ae4-a19e-1cf115602804",
   "metadata": {},
   "outputs": [
    {
     "name": "stdout",
     "output_type": "stream",
     "text": [
      "[[4 1 4]\n",
      " [3 9 5]\n",
      " [1 6 4]]\n",
      "[[4 7 5]\n",
      " [5 5 2]\n",
      " [1 2 7]]\n"
     ]
    }
   ],
   "source": [
    "x = np.random.randint(1, 10, (3, 3))\n",
    "y = np.random.randint(1, 10, (3, 3))\n",
    "print(x)\n",
    "print(y)"
   ]
  },
  {
   "cell_type": "code",
   "execution_count": 145,
   "id": "74d995fa-b97b-4dc7-a432-3cce2690afea",
   "metadata": {},
   "outputs": [
    {
     "name": "stdout",
     "output_type": "stream",
     "text": [
      "[[ 0 -6 -1]\n",
      " [-2  4  3]\n",
      " [ 0  4 -3]]\n"
     ]
    }
   ],
   "source": [
    "ans = x - y\n",
    "print(ans)"
   ]
  },
  {
   "cell_type": "code",
   "execution_count": 146,
   "id": "0db39a03-62b4-4b64-8f75-393a59642e0e",
   "metadata": {},
   "outputs": [
    {
     "name": "stdout",
     "output_type": "stream",
     "text": [
      "[[5 8 9]\n",
      " [7 9 5]\n",
      " [4 4 7]]\n",
      "[4 9 2]\n"
     ]
    }
   ],
   "source": [
    "x = np.random.randint(1, 10, (3, 3))\n",
    "y = np.random.randint(1, 10, (3))\n",
    "print(x)\n",
    "print(y)"
   ]
  },
  {
   "cell_type": "code",
   "execution_count": 147,
   "id": "ca27c800-8c83-42d0-9bde-1bfeb44b9d07",
   "metadata": {},
   "outputs": [
    {
     "name": "stdout",
     "output_type": "stream",
     "text": [
      "[[ 1 -1  7]\n",
      " [ 3  0  3]\n",
      " [ 0 -5  5]]\n"
     ]
    }
   ],
   "source": [
    "ans = x - y\n",
    "print(ans)"
   ]
  },
  {
   "cell_type": "code",
   "execution_count": 152,
   "id": "9c3c5caa-e417-45e9-802a-a9fe4a1c9780",
   "metadata": {},
   "outputs": [
    {
     "name": "stdout",
     "output_type": "stream",
     "text": [
      "[[2 5]\n",
      " [2 7]\n",
      " [5 2]]\n",
      "[[1 7 2]\n",
      " [5 4 7]]\n"
     ]
    }
   ],
   "source": [
    "x = np.random.randint(1, 10, (3, 2))\n",
    "y = np.random.randint(1, 10, (2, 3))\n",
    "print(x)\n",
    "print(y)"
   ]
  },
  {
   "cell_type": "markdown",
   "id": "6c08ff03-a5c8-4b38-bf8b-75166f622a46",
   "metadata": {},
   "source": [
    "# Transpose\n",
    "To make these two arrays compatible, we may transpose one array."
   ]
  },
  {
   "cell_type": "code",
   "execution_count": 153,
   "id": "3e78e195-a020-4707-8bdc-c274a9704640",
   "metadata": {},
   "outputs": [
    {
     "name": "stdout",
     "output_type": "stream",
     "text": [
      "[[1 5]\n",
      " [7 4]\n",
      " [2 7]]\n",
      "[[ 1  0]\n",
      " [-5  3]\n",
      " [ 3 -5]]\n"
     ]
    }
   ],
   "source": [
    "y = np.transpose(y)\n",
    "print(y)\n",
    "ans = x - y\n",
    "print(ans)"
   ]
  },
  {
   "cell_type": "markdown",
   "id": "4d848648-cb2f-43f1-8cd0-5f46c46f63eb",
   "metadata": {},
   "source": [
    "## Reshape\n",
    "We may also reshape our array."
   ]
  },
  {
   "cell_type": "code",
   "execution_count": 155,
   "id": "3ae44b46-e8b1-4c91-a48d-02afab088220",
   "metadata": {},
   "outputs": [
    {
     "data": {
      "text/plain": [
       "array([ 0,  1,  2,  3,  4,  5,  6,  7,  8,  9, 10, 11, 12, 13, 14, 15])"
      ]
     },
     "execution_count": 155,
     "metadata": {},
     "output_type": "execute_result"
    }
   ],
   "source": [
    "x = np.arange(16)\n",
    "x"
   ]
  },
  {
   "cell_type": "code",
   "execution_count": 157,
   "id": "99405d62-fb78-45dc-a3c6-aacb5ab396b0",
   "metadata": {},
   "outputs": [
    {
     "data": {
      "text/plain": [
       "array([[2, 6, 8, 7],\n",
       "       [6, 4, 5, 3],\n",
       "       [5, 2, 1, 4],\n",
       "       [4, 9, 9, 6]])"
      ]
     },
     "execution_count": 157,
     "metadata": {},
     "output_type": "execute_result"
    }
   ],
   "source": [
    "y = np.random.randint(1, 10, (4, 4))\n",
    "y"
   ]
  },
  {
   "cell_type": "code",
   "execution_count": 158,
   "id": "8b790bcc-c5bb-4d8a-998b-17626f3107de",
   "metadata": {},
   "outputs": [
    {
     "ename": "ValueError",
     "evalue": "operands could not be broadcast together with shapes (16,) (4,4) ",
     "output_type": "error",
     "traceback": [
      "\u001b[1;31m---------------------------------------------------------------------------\u001b[0m",
      "\u001b[1;31mValueError\u001b[0m                                Traceback (most recent call last)",
      "Cell \u001b[1;32mIn[158], line 1\u001b[0m\n\u001b[1;32m----> 1\u001b[0m \u001b[43mx\u001b[49m\u001b[43m \u001b[49m\u001b[38;5;241;43m*\u001b[39;49m\u001b[43m \u001b[49m\u001b[43my\u001b[49m    \u001b[38;5;66;03m## Error generated\u001b[39;00m\n",
      "\u001b[1;31mValueError\u001b[0m: operands could not be broadcast together with shapes (16,) (4,4) "
     ]
    }
   ],
   "source": [
    "x * y    ## Error generated"
   ]
  },
  {
   "cell_type": "code",
   "execution_count": 160,
   "id": "6772ca81-7eb3-486d-908a-c694a928ead5",
   "metadata": {},
   "outputs": [
    {
     "data": {
      "text/plain": [
       "array([[ 0,  1,  2,  3],\n",
       "       [ 4,  5,  6,  7],\n",
       "       [ 8,  9, 10, 11],\n",
       "       [12, 13, 14, 15]])"
      ]
     },
     "execution_count": 160,
     "metadata": {},
     "output_type": "execute_result"
    }
   ],
   "source": [
    "x = np.reshape(x, (4, 4))\n",
    "x"
   ]
  },
  {
   "cell_type": "markdown",
   "id": "14eadbe1-3bff-48ef-b44f-d58e14ead23f",
   "metadata": {},
   "source": [
    "Now we may multiply, subtract, add or divide 'x' and 'y'."
   ]
  },
  {
   "cell_type": "code",
   "execution_count": 161,
   "id": "b4f3d8f4-1980-4c6c-ac2d-bc7440159457",
   "metadata": {},
   "outputs": [
    {
     "data": {
      "text/plain": [
       "array([[  0,   6,  16,  21],\n",
       "       [ 24,  20,  30,  21],\n",
       "       [ 40,  18,  10,  44],\n",
       "       [ 48, 117, 126,  90]])"
      ]
     },
     "execution_count": 161,
     "metadata": {},
     "output_type": "execute_result"
    }
   ],
   "source": [
    "x * y"
   ]
  },
  {
   "cell_type": "code",
   "execution_count": 162,
   "id": "69bcc4e2-a6e3-49bc-a926-eed526d76672",
   "metadata": {},
   "outputs": [
    {
     "data": {
      "text/plain": [
       "array([[-2, -5, -6, -4],\n",
       "       [-2,  1,  1,  4],\n",
       "       [ 3,  7,  9,  7],\n",
       "       [ 8,  4,  5,  9]])"
      ]
     },
     "execution_count": 162,
     "metadata": {},
     "output_type": "execute_result"
    }
   ],
   "source": [
    "x - y"
   ]
  },
  {
   "cell_type": "code",
   "execution_count": 163,
   "id": "40b0c439-2660-4749-8b52-a849b6f3f8d0",
   "metadata": {},
   "outputs": [
    {
     "data": {
      "text/plain": [
       "array([[ 2,  7, 10, 10],\n",
       "       [10,  9, 11, 10],\n",
       "       [13, 11, 11, 15],\n",
       "       [16, 22, 23, 21]])"
      ]
     },
     "execution_count": 163,
     "metadata": {},
     "output_type": "execute_result"
    }
   ],
   "source": [
    "x + y"
   ]
  },
  {
   "cell_type": "code",
   "execution_count": 164,
   "id": "17f1843a-2661-466c-9705-dfb284239aec",
   "metadata": {},
   "outputs": [
    {
     "data": {
      "text/plain": [
       "array([[ 0.        ,  0.16666667,  0.25      ,  0.42857143],\n",
       "       [ 0.66666667,  1.25      ,  1.2       ,  2.33333333],\n",
       "       [ 1.6       ,  4.5       , 10.        ,  2.75      ],\n",
       "       [ 3.        ,  1.44444444,  1.55555556,  2.5       ]])"
      ]
     },
     "execution_count": 164,
     "metadata": {},
     "output_type": "execute_result"
    }
   ],
   "source": [
    "x / y"
   ]
  },
  {
   "cell_type": "code",
   "execution_count": 165,
   "id": "25cc8449-a632-4c57-8ceb-677a9c974ea4",
   "metadata": {},
   "outputs": [
    {
     "data": {
      "text/plain": [
       "array([[ 0,  0,  0,  0],\n",
       "       [ 0,  1,  1,  2],\n",
       "       [ 1,  4, 10,  2],\n",
       "       [ 3,  1,  1,  2]])"
      ]
     },
     "execution_count": 165,
     "metadata": {},
     "output_type": "execute_result"
    }
   ],
   "source": [
    "x // y "
   ]
  },
  {
   "cell_type": "code",
   "execution_count": 167,
   "id": "dc0e8974-6464-4182-b846-259fa367e7ab",
   "metadata": {},
   "outputs": [
    {
     "data": {
      "text/plain": [
       "array([[0, 1, 2, 3],\n",
       "       [4, 1, 1, 1],\n",
       "       [3, 1, 0, 3],\n",
       "       [0, 4, 5, 3]])"
      ]
     },
     "execution_count": 167,
     "metadata": {},
     "output_type": "execute_result"
    }
   ],
   "source": [
    "x % y"
   ]
  },
  {
   "cell_type": "markdown",
   "id": "106d633e-6be1-40d5-aa5d-9cfa4d6e6485",
   "metadata": {},
   "source": [
    "## NumPy 2D array\n",
    "Problem Statement:\n",
    "\n",
    "Given a 2D list, create a numpy 2D array using it.\n",
    "\n",
    "Note: Given 2D list is [[1, 2, 3], [4, 5, 6], [7, 8, 9]] Print the Numpy array."
   ]
  },
  {
   "cell_type": "code",
   "execution_count": 171,
   "id": "5432a6ed-3e03-4bb8-81d8-bce50514790a",
   "metadata": {},
   "outputs": [],
   "source": [
    "import numpy as np"
   ]
  },
  {
   "cell_type": "code",
   "execution_count": 174,
   "id": "85017acb-a5dc-4c16-bb8b-85226eda0775",
   "metadata": {},
   "outputs": [
    {
     "name": "stdout",
     "output_type": "stream",
     "text": [
      "[[1 2 3 4]\n",
      " [5 6 7 8]]\n"
     ]
    }
   ],
   "source": [
    "li = [[1,2,3,4], [5,6,7,8]]\n",
    "\n",
    "b = np.array(li)\n",
    "\n",
    "print(b)"
   ]
  },
  {
   "cell_type": "markdown",
   "id": "0f75345e-1418-4719-9cf5-9912e71366f6",
   "metadata": {},
   "source": [
    "## NumPy 0s and 1s\n",
    "Problem Statement:\n",
    "\n",
    "Create an integer array of size 10, where all the values should be 0 but the fifth value should be 1. Print the elements of array."
   ]
  },
  {
   "cell_type": "code",
   "execution_count": 179,
   "id": "3110352d-fa59-4a24-bcde-182f33495bbd",
   "metadata": {},
   "outputs": [
    {
     "name": "stdout",
     "output_type": "stream",
     "text": [
      "[0 0 0 0 5 0 0 0 0 0]\n",
      "0 0 0 0 5 0 0 0 0 0\n"
     ]
    }
   ],
   "source": [
    "a= np.zeros(10,dtype=int)\n",
    "a[4] = 5\n",
    "print(a)\n",
    "print(*a)"
   ]
  },
  {
   "cell_type": "markdown",
   "id": "b71a61cd-9087-4303-9d24-b34a0b8ab278",
   "metadata": {},
   "source": [
    "## NumPy Inclusive\n",
    "Problem Statement:\n",
    "\n",
    "Create an array with values ranging consecutively from 9 to 49 (both inclusive). Print the Numpy array."
   ]
  },
  {
   "cell_type": "code",
   "execution_count": 181,
   "id": "2f35e050-8b08-4472-b516-4ec30143bd8e",
   "metadata": {},
   "outputs": [
    {
     "name": "stdout",
     "output_type": "stream",
     "text": [
      "[ 9 10 11 12 13 14 15 16 17 18 19 20 21 22 23 24 25 26 27 28 29 30 31 32\n",
      " 33 34 35 36 37 38 39 40 41 42 43 44 45 46 47 48 49]\n"
     ]
    }
   ],
   "source": [
    "a = np.arange(9,50)\n",
    "print(a)"
   ]
  },
  {
   "cell_type": "markdown",
   "id": "7795a443-55f7-4bc5-b890-e5c0dca282c6",
   "metadata": {},
   "source": [
    "# Identity Matrix\n",
    "Problem Statement:\n",
    "\n",
    "Create a matrix having diagonal elements as 1 and all other elements as 0 of size (5, 6). Print the Numpy array."
   ]
  },
  {
   "cell_type": "code",
   "execution_count": 186,
   "id": "228ec033-0c48-4f94-918c-a0ecce7855ad",
   "metadata": {},
   "outputs": [
    {
     "name": "stdout",
     "output_type": "stream",
     "text": [
      "[[1 0 0 0 0 0]\n",
      " [0 1 0 0 0 0]\n",
      " [0 0 1 0 0 0]\n",
      " [0 0 0 1 0 0]\n",
      " [0 0 0 0 1 0]]\n"
     ]
    }
   ],
   "source": [
    "a = np.eye(5, 6, dtype=int)\n",
    "print(a)"
   ]
  },
  {
   "cell_type": "markdown",
   "id": "bf6bea2d-279e-450f-aa59-566e84c2ce79",
   "metadata": {},
   "source": [
    "## Cut the Rope\n",
    "Problem Statement:\n",
    "\n",
    "You are given a rope of length 5m. Cut the rope into 9 parts such that each part is of equal length. Note:Array elements are the points where cut is to be made and round upto 2 decimal place. Print the array element."
   ]
  },
  {
   "cell_type": "code",
   "execution_count": 194,
   "id": "289ef440-fd4f-47de-a011-e53a5055c09e",
   "metadata": {},
   "outputs": [
    {
     "name": "stdout",
     "output_type": "stream",
     "text": [
      "0.0\n",
      "0.56\n",
      "1.11\n",
      "1.67\n",
      "2.22\n",
      "2.78\n",
      "3.33\n",
      "3.89\n",
      "4.44\n",
      "5.0\n"
     ]
    }
   ],
   "source": [
    "arr = np.linspace(0,5,10)\n",
    "for i in range(0, len(arr)):\n",
    "    print(round(arr[i],2))"
   ]
  },
  {
   "cell_type": "markdown",
   "id": "0df059cd-45b1-4933-b294-6aad0e9d2e2f",
   "metadata": {},
   "source": [
    "# Print Elements\n",
    "Problem Statement:\n",
    "\n",
    "Given a 2D integer array size (4, 5) with name input_?\n",
    "\n",
    "apply slicing on it"
   ]
  },
  {
   "cell_type": "code",
   "execution_count": 199,
   "id": "3e0a46c8-5328-46a2-8fe4-5050b27370b0",
   "metadata": {},
   "outputs": [
    {
     "name": "stdout",
     "output_type": "stream",
     "text": [
      "[[ 1  2  3  4  5]\n",
      " [ 6  7  8  9 10]\n",
      " [11 12 13 14 15]\n",
      " [16 17 18 19 20]]\n",
      "11 12 13\n",
      "9 14 19\n",
      "11 12 13 14 15 16 17 18 19 20 \n",
      "7 8 12 13 "
     ]
    }
   ],
   "source": [
    "import numpy as np\n",
    "input_ = np.arange(1,21,1)\n",
    "input_ = input_.reshape(4,5)\n",
    "print(input_)\n",
    "\n",
    "print(*input_[2,:3])\n",
    "\n",
    "print(*input_[1:4,3])\n",
    "\n",
    "c = input_[2:4,:5]\n",
    "print(*c[0],end=' ')\n",
    "print(*c[1],end=' ')\n",
    "print()\n",
    "\n",
    "c = input_[1:3,1:3]\n",
    "print(*c[0],end=' ')\n",
    "print(*c[1],end=' ')"
   ]
  },
  {
   "cell_type": "markdown",
   "id": "081c9692-9714-4381-99ff-7aedfef22430",
   "metadata": {},
   "source": [
    "# Non-Zero elements\n",
    "Problem Statemnt:\n",
    "\n",
    "Find indices of non-zero elements from the array [1, 2, 0, 0, 4, 0] ? Print the index of non-zero elements."
   ]
  },
  {
   "cell_type": "code",
   "execution_count": 216,
   "id": "f3421222-7693-4470-8686-64a10a615535",
   "metadata": {},
   "outputs": [
    {
     "name": "stdout",
     "output_type": "stream",
     "text": [
      "[0 1 4]\n",
      "(array([0, 1, 4], dtype=int64),)\n"
     ]
    }
   ],
   "source": [
    "import numpy as np\n",
    "arr = np.array([1,2,0,0,4,0])\n",
    "ind = np.where(arr != 0)\n",
    "\n",
    "for i in ind:\n",
    "    print(i)\n",
    "\n",
    "print(ind)"
   ]
  },
  {
   "cell_type": "markdown",
   "id": "80e58f78-d044-49a4-a3fb-b7312e57a509",
   "metadata": {},
   "source": [
    "## Multiples of 3\n",
    "Problem Statement:\r\n",
    "\r\n",
    "Given an integer array of size 10. Print the index of elements which are multiple of 3. Note: Generate the following array\r\n",
    "\r\n",
    "array([ 1, 3, 5, 7, 9, 11, 13, 15, 17, 19])"
   ]
  },
  {
   "cell_type": "code",
   "execution_count": 221,
   "id": "4cddba06-98f5-4b69-a14d-818093769fae",
   "metadata": {},
   "outputs": [
    {
     "data": {
      "text/plain": [
       "(array([1, 4, 7], dtype=int64),)"
      ]
     },
     "execution_count": 221,
     "metadata": {},
     "output_type": "execute_result"
    }
   ],
   "source": [
    "a = np.array([ 1, 3, 5, 7, 9, 11, 13, 15, 17, 19])\n",
    "\n",
    "# or To generate use \n",
    "a = np.arange(1,20,2)\n",
    "\n",
    "indexes = np.where(a%3 == 0)\n",
    "indexes"
   ]
  },
  {
   "cell_type": "markdown",
   "id": "4614c4dd-271b-4780-815e-cc12ba7b52ab",
   "metadata": {},
   "source": [
    "# Odd elements\n",
    "Problem Statemnt:\n",
    "\n",
    "Given an integer array of size 10. Replace the odd number in numpy array with -1 ? Note: Generate the following array\n",
    "\n",
    "array([1, 2, 3, 4, 5, 6, 7, 8, 9, 10])"
   ]
  },
  {
   "cell_type": "code",
   "execution_count": 226,
   "id": "12fa07ae-2004-4bee-9ec7-2b7938ff7052",
   "metadata": {},
   "outputs": [
    {
     "data": {
      "text/plain": [
       "array([ 1,  2, -1,  4,  5, -1,  7,  8, -1, 10])"
      ]
     },
     "execution_count": 226,
     "metadata": {},
     "output_type": "execute_result"
    }
   ],
   "source": [
    "a = np.arange(1,11)\n",
    "a[ a % 3 == 0] = -1\n",
    "a"
   ]
  },
  {
   "cell_type": "markdown",
   "id": "e1f0ad09-7cfa-4e17-8b75-862d464560a3",
   "metadata": {},
   "source": [
    "# Replace Max\n",
    "Problem Statemnt:\n",
    "\n",
    "Given an integer array of size 9 and replace the first occurrence of maximum value by 0? Note: Generate the following array\n",
    "\n",
    "array([11, 2, 13, 4, 15, 6, 27, 8, 19])"
   ]
  },
  {
   "cell_type": "code",
   "execution_count": 237,
   "id": "98a75691-030a-4a1a-bf47-69111ab589c6",
   "metadata": {},
   "outputs": [
    {
     "name": "stdout",
     "output_type": "stream",
     "text": [
      "[ 5  2 12 17 19 15 19 17 19]\n"
     ]
    },
    {
     "data": {
      "text/plain": [
       "array([ 5,  2, 12, 17,  0, 15, 19, 17, 19])"
      ]
     },
     "execution_count": 237,
     "metadata": {},
     "output_type": "execute_result"
    }
   ],
   "source": [
    "a = np.random.randint(1,20,9)\n",
    "print(a)\n",
    "a[a.argmax()] = 0\n",
    "a"
   ]
  },
  {
   "cell_type": "markdown",
   "id": "5456bf3e-e821-4fc0-9668-08e70d6daf9e",
   "metadata": {},
   "source": [
    "# Negate Elements\n",
    "Problem Statemnt:\n",
    "\n",
    "Given a 1D array, negate all elements which are between 3 and 8 (both inclusive)? Note: Generate the following array\n",
    "\n",
    "array([1, 2, 3, 4, 5, 6, 7, 8, 9, 10])"
   ]
  },
  {
   "cell_type": "code",
   "execution_count": 240,
   "id": "b55ad42a-66be-4b42-a09e-e04086f03314",
   "metadata": {},
   "outputs": [
    {
     "data": {
      "text/plain": [
       "array([ 1,  2, -3, -4, -5, -6, -7, -8,  9, 10])"
      ]
     },
     "execution_count": 240,
     "metadata": {},
     "output_type": "execute_result"
    }
   ],
   "source": [
    "arr = np.arange(1,11)\n",
    "arr[2:8] = np.multiply(arr[2:8],-1)\n",
    "arr"
   ]
  },
  {
   "cell_type": "markdown",
   "id": "5c82b052-30cf-46dd-a9b8-51673ac1420a",
   "metadata": {},
   "source": [
    "# Killed IN USA"
   ]
  },
  {
   "cell_type": "code",
   "execution_count": 246,
   "id": "f62a6952-f99d-4837-b4da-327b6783dd40",
   "metadata": {},
   "outputs": [
    {
     "name": "stdout",
     "output_type": "stream",
     "text": [
      "3771.0\n"
     ]
    }
   ],
   "source": [
    "import numpy as np\n",
    "import csv\n",
    "\n",
    "with open('terrorismData.csv',encoding=\"utf8\") as file_obj :\n",
    "    data = csv.DictReader(file_obj,skipinitialspace=True)\n",
    "\n",
    "    killed = []\n",
    "    country = []\n",
    "    for row in data:\n",
    "        killed.append(row['Killed'])\n",
    "        country.append(row['Country'])\n",
    "\n",
    "    np_killed = np.array(killed)\n",
    "    np_country = np.array(country)\n",
    "    \n",
    "    np_killed[np_killed == ''] = '0.0'\n",
    "    np_killed = np.array(np_killed,dtype=float)\n",
    "    \n",
    "    np_country = np.array(country)\n",
    "    indexes = np.where(np_country == \"United States\")\n",
    "    ans = np_killed[indexes]\n",
    "    \n",
    "    # no_of_killed = 0\n",
    "    # for i in ans:\n",
    "    #     no_of_killed+=i\n",
    "    \n",
    "    no_of_killed = np.sum(ans)\n",
    "    print(no_of_killed)"
   ]
  },
  {
   "cell_type": "markdown",
   "id": "7d53ac47-02fd-4702-9891-710c14e15f92",
   "metadata": {},
   "source": [
    "# Casuality in India vs Casualities over world"
   ]
  },
  {
   "cell_type": "code",
   "execution_count": 253,
   "id": "b26e4c81-5cfc-4802-b30f-07322f520ba3",
   "metadata": {},
   "outputs": [
    {
     "name": "stdout",
     "output_type": "stream",
     "text": [
      "India Casualities 48321\n",
      "World Casualities 935737\n"
     ]
    }
   ],
   "source": [
    "import numpy as np\n",
    "import csv\n",
    "\n",
    "with open('terrorismData.csv',encoding=\"utf8\") as file_obj :\n",
    "    data = csv.DictReader(file_obj,skipinitialspace=True)\n",
    "\n",
    "    killed = []\n",
    "    wounded = []\n",
    "    country = []\n",
    "    for row in data:\n",
    "        killed.append(row['Killed'])\n",
    "        country.append(row['Country'])\n",
    "        wounded.append(row['Wounded'])\n",
    "\n",
    "    np_killed = np.array(killed)\n",
    "    np_country = np.array(country)\n",
    "    np_wounded = np.array(wounded)\n",
    "    \n",
    "    np_killed[np_killed == ''] = '0.0'\n",
    "    np_wounded[np_wounded == ''] = '0.0' #handling empty strings\n",
    "    np_killed = np.array(np_killed,dtype=float)\n",
    "    np_wounded = np.array(np_wounded,dtype=float)\n",
    "\n",
    "    np_casualities = np_killed + np_wounded\n",
    "    np_country = np.array(country)\n",
    "    \n",
    "    indexes = np.where(np_country == \"India\")\n",
    "    ans = np_casualities[indexes]\n",
    "\n",
    "    total_casualities_india = np.sum(ans)\n",
    "    total_casualities_over_world = np.sum(np_casualities)\n",
    "    \n",
    "    print(\"India Casualities\",int(total_casualities))\n",
    "    print(\"World Casualities\",int(total_casualities_over_world))"
   ]
  },
  {
   "cell_type": "markdown",
   "id": "e81967c5-b87f-4597-8a19-a9923b596844",
   "metadata": {},
   "source": [
    "## Number of attacks between day 10 and day 20"
   ]
  },
  {
   "cell_type": "code",
   "execution_count": 254,
   "id": "4d121740-8299-45b7-9ed5-d4fe9abf5a65",
   "metadata": {},
   "outputs": [
    {
     "name": "stdout",
     "output_type": "stream",
     "text": [
      "4002\n",
      "[10. 10. 10. ... 20. 20. 20.]\n"
     ]
    }
   ],
   "source": [
    "import numpy as np\n",
    "import csv\n",
    "\n",
    "days= []\n",
    "\n",
    "with open('year2017-7767.csv','r',encoding='utf-8') as file_obj:\n",
    "    data = csv.DictReader(file_obj, skipinitialspace=True)\n",
    "    for row in data:\n",
    "        days.append(row['Day'])\n",
    "\n",
    "np_days= np.array(days,dtype = float)\n",
    "num_attacks = np_days[(np_days>=10) & (np_days<=20)]\n",
    "\n",
    "print(len(num_attacks))\n",
    "\n",
    "print(num_attacks)"
   ]
  },
  {
   "cell_type": "markdown",
   "id": "195e73d9-2ffb-49b6-b308-83481ad42b1b",
   "metadata": {},
   "source": [
    "## Number of attack between 1 jan 2010 and 31 jan 2010"
   ]
  },
  {
   "cell_type": "code",
   "execution_count": 263,
   "id": "2fba1a23-1712-4d48-8f14-8b6110028743",
   "metadata": {},
   "outputs": [
    {
     "name": "stdout",
     "output_type": "stream",
     "text": [
      "271\n"
     ]
    }
   ],
   "source": [
    "import numpy as np\n",
    "import csv\n",
    "\n",
    "years= []\n",
    "months= []\n",
    "days= []\n",
    "\n",
    "with open('terrorismData.csv','r',encoding='utf-8') as file_obj:\n",
    "    data = csv.DictReader(file_obj, skipinitialspace=True)\n",
    "    for row in data:\n",
    "        days.append(row['Day'])\n",
    "        months.append(row['Month'])\n",
    "        years.append(row['Year'])\n",
    "\n",
    "np_days= np.array(days,dtype = float)\n",
    "np_months= np.array(months,dtype = float)\n",
    "np_years= np.array(years,dtype = float)\n",
    "\n",
    "bool_year = (np_years == 2010)\n",
    "bool_month= ((bool_year) & (np_months==1))\n",
    "bool_days = bool_month & ((np_days>=1) & (np_days<=31))\n",
    "ans= np_days[bool_days]\n",
    "\n",
    "print(len(ans))"
   ]
  },
  {
   "cell_type": "code",
   "execution_count": 264,
   "id": "c0231aa2-e506-4fa5-81f3-3d59edfc91b9",
   "metadata": {},
   "outputs": [
    {
     "name": "stdout",
     "output_type": "stream",
     "text": [
      "271\n"
     ]
    }
   ],
   "source": [
    "#alternate solution\n",
    "import numpy as np\n",
    "import csv\n",
    "\n",
    "with open('terrorismData.csv',encoding=\"utf8\") as file_obj :\n",
    "    data = csv.DictReader(file_obj,skipinitialspace=True)\n",
    "    \n",
    "    days = []\n",
    "    months = []\n",
    "    year = []\n",
    "    for row in data:\n",
    "        days.append(row['Day'])\n",
    "        months.append(row['Month'])\n",
    "        year.append(row['Year'])\n",
    "        \n",
    "    np_day = np.array(days, dtype=float)\n",
    "    np_month = np.array(months, dtype=float)\n",
    "    np_year = np.array(year, dtype=float)\n",
    "    \n",
    "    np_day = np_day[(np_month==1) & (np_year==2010)]\n",
    "    \n",
    "    print(len(np_day[np_day!=0]))"
   ]
  },
  {
   "cell_type": "code",
   "execution_count": 52,
   "id": "a3bc12fe-fe64-44f1-8cfc-974984b3acbb",
   "metadata": {},
   "outputs": [
    {
     "name": "stdout",
     "output_type": "stream",
     "text": [
      "Casualty: 300.0 City: Unknown Terrorist Group: Unknown\n"
     ]
    }
   ],
   "source": [
    "import numpy as np\n",
    "import csv\n",
    "\n",
    "with open('terrorismData.csv',encoding=\"utf8\") as file_obj :\n",
    "    data = csv.DictReader(file_obj,skipinitialspace=True)\n",
    "    \n",
    "    city = []\n",
    "    casualty = []\n",
    "    for row in data:\n",
    "        if row[\"State\"] == \"Jammu and Kashmir\" and row[\"Year\"] == \"1999\" :\n",
    "            if row[\"Month\"] ==\"5\" or row[\"Month\"] == \"6\" or row[\"Month\"] == \"7\" :\n",
    "                casualty.append([row[\"Killed\"],row[\"Wounded\"]])\n",
    "                city.append([row[\"City\"],row['Group']])\n",
    "                \n",
    "    np_city = np.array(city)\n",
    "    np_casualty = np.array(casualty)\n",
    "    \n",
    "    np_casualty[np_casualty==''] = \"0.0\"\n",
    "    np_casualty = np.array(np_casualty, dtype = float)\n",
    "    \n",
    "    np_casualty = np.sum(np_casualty, axis=1)\n",
    "    index = np.argmax(np_casualty)\n",
    "    print(int(np_casualty[index]),np_city[index][0],np_city[index][1])"
   ]
  },
  {
   "cell_type": "code",
   "execution_count": 267,
   "id": "b95a6d2c-3624-4945-a8b0-ca4b3a78a047",
   "metadata": {},
   "outputs": [
    {
     "name": "stdout",
     "output_type": "stream",
     "text": [
      "22 Kargil District Separatists\n"
     ]
    }
   ],
   "source": [
    "import numpy as np\n",
    "import csv\n",
    "\n",
    "with open('terrorismData.csv',encoding=\"utf8\") as file_obj :\n",
    "    data = csv.DictReader(file_obj,skipinitialspace=True)\n",
    "    \n",
    "    city = []\n",
    "    casualty = []\n",
    "    for row in data:\n",
    "        if row[\"State\"] == \"Jammu and Kashmir\" and row[\"Year\"] == \"1999\" :\n",
    "            if row[\"Month\"] ==\"5\" or row[\"Month\"] == \"6\" or row[\"Month\"] == \"7\" :\n",
    "                casualty.append([row[\"Killed\"],row[\"Wounded\"]])\n",
    "                city.append([row[\"City\"],row['Group']])\n",
    "                \n",
    "    np_city = np.array(city)\n",
    "    np_casualty = np.array(casualty)\n",
    "    \n",
    "    np_casualty[np_casualty==''] = \"0.0\"\n",
    "    np_casualty = np.array(np_casualty, dtype = float)\n",
    "    \n",
    "    np_casualty = np.sum(np_casualty, axis=1)\n",
    "    index = np.argmax(np_casualty)\n",
    "    print(int(np_casualty[index]),np_city[index][0],np_city[index][1])"
   ]
  },
  {
   "cell_type": "code",
   "execution_count": 268,
   "id": "e381ee61-79c6-4412-976d-c2bc0f23b61d",
   "metadata": {},
   "outputs": [
    {
     "name": "stdout",
     "output_type": "stream",
     "text": [
      "5628\n"
     ]
    }
   ],
   "source": [
    "import numpy as np\n",
    "import csv\n",
    "\n",
    "with open('terrorismData.csv',encoding=\"utf8\") as file_obj :\n",
    "    data = csv.DictReader(file_obj,skipinitialspace=True)\n",
    "    \n",
    "    casualty = []\n",
    "    for row in data:\n",
    "        if row['State']=='Chhattisgarh' or row['State']=='Odisha' or row['State']=='Jharkhand' or row['State']=='Andhra Pradesh':\n",
    "                casualty.append([row[\"Killed\"],row[\"Wounded\"]])\n",
    "\n",
    "    np_casualty = np.array(casualty)\n",
    "    \n",
    "    np_casualty[np_casualty==''] = \"0.0\"\n",
    "    np_casualty = np.array(np_casualty, dtype = float)\n",
    "    \n",
    "    np_casualty = np.sum(np_casualty, axis=1)\n",
    "    total_casualty = np.sum(np_casualty)\n",
    "    print(int(total_casualty))"
   ]
  },
  {
   "cell_type": "markdown",
   "id": "3acfe722-fd26-4367-8863-962c8ba6a68d",
   "metadata": {},
   "source": [
    "It assumes that np_casualty is a NumPy array or a 2D array-like structure where each row represents a list of casualties in the format [killed, wounded].\n",
    "\n",
    "It uses np.sum() function to calculate the sum along axis 1. In this context, axis=1 means that the sums will be calculated for each row.\n",
    "\n",
    "The result of the summation will be stored in a new NumPy array (or 1D array-like structure) called np_casualty. This means that the original 2D structure is collapsed into a 1D array containing the sums of each row."
   ]
  },
  {
   "cell_type": "code",
   "execution_count": 269,
   "id": "a095d705-612b-4bd1-8cb0-5b24dafea576",
   "metadata": {},
   "outputs": [
    {
     "name": "stdout",
     "output_type": "stream",
     "text": [
      "5628\n"
     ]
    }
   ],
   "source": [
    "import numpy as np\n",
    "import csv\n",
    "\n",
    "def convert_to_float(value):\n",
    "    if value.strip() == \"\":\n",
    "        return 0.0\n",
    "    return float(value)\n",
    "\n",
    "with open('terrorismData.csv', encoding=\"utf8\") as file_obj:\n",
    "    data = csv.DictReader(file_obj, skipinitialspace=True)\n",
    "    killed = []\n",
    "    wounded = []\n",
    "    for row in data:\n",
    "        if row['State'] in ['Chhattisgarh', 'Odisha', 'Jharkhand', 'Andhra Pradesh']:\n",
    "            killed.append(convert_to_float(row[\"Killed\"]))\n",
    "            wounded.append(convert_to_float(row[\"Wounded\"]))\n",
    "\n",
    "    np_killed = np.array(killed)\n",
    "    np_wounded = np.array(wounded)\n",
    "\n",
    "    total_casualty = np.sum(np_killed + np_wounded)\n",
    "    print(int(total_casualty))\n"
   ]
  },
  {
   "cell_type": "code",
   "execution_count": 272,
   "id": "13bf0e56-8a34-4a93-865d-bc78b4fec232",
   "metadata": {},
   "outputs": [
    {
     "name": "stdout",
     "output_type": "stream",
     "text": [
      "Srinagar 3134\n",
      "New Delhi 2095\n",
      "Mumbai 2016\n",
      "Jammu 1119\n",
      "Guwahati 822\n"
     ]
    }
   ],
   "source": [
    "import numpy as np\n",
    "import csv\n",
    "from collections import Counter\n",
    "\n",
    "with open('terrorismData.csv',encoding=\"utf8\") as file_obj :\n",
    "    data = csv.DictReader(file_obj,skipinitialspace=True)\n",
    "    \n",
    "    city = []\n",
    "    casualty = []\n",
    "    for row in data:\n",
    "         if row[\"Country\"] == 'India' and row['City'] != 'Unknown':\n",
    "                casualty.append([row[\"Killed\"],row[\"Wounded\"]])\n",
    "                city.append(row[\"City\"])\n",
    "                \n",
    "    np_city = np.array(city)\n",
    "    np_casualty = np.array(casualty)\n",
    "    \n",
    "    np_casualty[np_casualty==''] = \"0.0\"\n",
    "    np_casualty = np.array(np_casualty, dtype = float)\n",
    "    np_casualty = np.sum(np_casualty, axis=1)\n",
    "    \n",
    "    dic = {}\n",
    "    for i in range(len(np_city)):\n",
    "        if np_city[i] in dic:\n",
    "            dic[np_city[i]] += np_casualty[i]\n",
    "        else:\n",
    "            dic[np_city[i]] = np_casualty[i]\n",
    "\n",
    "    k = Counter(dic) \n",
    "    high = k.most_common(5) \n",
    "    for i in high: \n",
    "        print(i[0],int(i[1]))"
   ]
  },
  {
   "cell_type": "markdown",
   "id": "a40b761d-6a51-406b-8b1f-93da142708e2",
   "metadata": {},
   "source": [
    "## Terrorism Frequent Day"
   ]
  },
  {
   "cell_type": "code",
   "execution_count": 278,
   "id": "6379c2a3-fa22-4157-ae17-9a2facec8aaa",
   "metadata": {},
   "outputs": [
    {
     "name": "stdout",
     "output_type": "stream",
     "text": [
      "The most frequent day of attacks in the terrorism dataset is: 15\n",
      "Number of attacks on the most frequent day: 6500\n"
     ]
    }
   ],
   "source": [
    "# Terrorism Frequent Day\n",
    "# Find the most frequent data of attack in a terrorismDataset\n",
    "# Note: np.unique can ba used\n",
    "import numpy as np\n",
    "import csv\n",
    "\n",
    "with open('terrorismData.csv', encoding=\"utf8\") as file_obj:\n",
    "    data = csv.DictReader(file_obj, skipinitialspace=True)\n",
    "    attack_days = []\n",
    "    for row in data:\n",
    "        attack_days.append(row[\"Day\"])\n",
    "\n",
    "    np_attack_days = np.array(attack_days, dtype=int)\n",
    "\n",
    "# Get unique days and their corresponding counts\n",
    "unique_days, day_counts = np.unique(np_attack_days, return_counts=True)\n",
    "\n",
    "# Find the day with the highest count (most frequent day)\n",
    "most_frequent_day = unique_days[np.argmax(day_counts)]\n",
    "most_frequent_day_count = np.max(day_counts)\n",
    "\n",
    "print(\"The most frequent day of attacks in the terrorism dataset is:\", most_frequent_day)\n",
    "print(\"Number of attacks on the most frequent day:\", most_frequent_day_count)\n"
   ]
  },
  {
   "cell_type": "code",
   "execution_count": 279,
   "id": "261f1da2-ce22-4acb-86ae-6338362b34c5",
   "metadata": {},
   "outputs": [
    {
     "name": "stdout",
     "output_type": "stream",
     "text": [
      "15 6500\n"
     ]
    }
   ],
   "source": [
    "import numpy as np\n",
    "import csv\n",
    "\n",
    "with open('terrorismData.csv',encoding=\"utf8\") as file_obj :\n",
    "    data = csv.DictReader(file_obj,skipinitialspace=True)\n",
    "    \n",
    "    day = []\n",
    "    for row in data:\n",
    "        day.append(row['Day'])\n",
    "        \n",
    "    np_day = np.array(day, dtype='int')\n",
    "    day, count = np.unique(np_day, return_counts=True)\n",
    "    index = np.argmax(count)\n",
    "    print(day[index], count[index])"
   ]
  }
 ],
 "metadata": {
  "kernelspec": {
   "display_name": "Python 3 (ipykernel)",
   "language": "python",
   "name": "python3"
  },
  "language_info": {
   "codemirror_mode": {
    "name": "ipython",
    "version": 3
   },
   "file_extension": ".py",
   "mimetype": "text/x-python",
   "name": "python",
   "nbconvert_exporter": "python",
   "pygments_lexer": "ipython3",
   "version": "3.11.3"
  }
 },
 "nbformat": 4,
 "nbformat_minor": 5
}
