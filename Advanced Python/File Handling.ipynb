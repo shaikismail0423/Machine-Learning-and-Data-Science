{
 "cells": [
  {
   "cell_type": "markdown",
   "id": "581e3bdb-8e20-4275-b610-db5f95983235",
   "metadata": {},
   "source": [
    "# Advanced Python"
   ]
  },
  {
   "cell_type": "markdown",
   "id": "2e4af2df-c092-4902-b464-50b8b82837de",
   "metadata": {},
   "source": [
    "# Python File Handling: \n",
    "\n",
    "## Working with Text Files\n",
    "\n",
    "In Python, we can effectively manage text files using the `open()` function. This function requires two essential parameters: the `filename` and the `mode`.\n",
    "\n",
    "## File Modes:\n",
    "\n",
    "There are four different modes available for opening a file:\n",
    "\n",
    "1. `\"r\"` - Read Mode: This is the default mode, used for reading data from an existing file. An error is raised if the file does not exist.\n",
    "\n",
    "2. `\"a\"` - Append Mode: This mode allows you to add data to the end of an existing file or create a new one if it doesn't exist.\n",
    "\n",
    "3. `\"w\"` - Write Mode: In write mode, you can modify an existing file or create a new one. Be cautious as it truncates the file, erasing its contents.\n",
    "\n",
    "4. `\"x\"` - Create Mode: This mode is used for creating a new file with the specified filename. An error is raised if the file already exists.\n",
    "\n",
    "## File Handling Modes:\n",
    "\n",
    "You can also specify whether the file should be handled in binary or text mode:\n",
    "\n",
    "1. `\"t\"` - Text Mode: This is the default mode, and it handles the file as a text file.\n",
    "\n",
    "2. `\"b\"` - Binary Mode: This mode handles the file as a binary file."
   ]
  },
  {
   "cell_type": "code",
   "execution_count": 69,
   "id": "32141834-36de-4633-80ac-261979a2fcad",
   "metadata": {},
   "outputs": [],
   "source": [
    "file_obj = open('sample-7766.txt', 'r')  "
   ]
  },
  {
   "cell_type": "markdown",
   "id": "951bdf64-56cf-4cb7-959e-e39b64608f97",
   "metadata": {},
   "source": [
    "## Reading Text Files\n",
    "### read()\n",
    "By default the read() method returns the whole text"
   ]
  },
  {
   "cell_type": "code",
   "execution_count": 70,
   "id": "9099dfe5-ac14-4f02-add4-b8bc6b8a1389",
   "metadata": {},
   "outputs": [
    {
     "data": {
      "text/plain": [
       "str"
      ]
     },
     "execution_count": 70,
     "metadata": {},
     "output_type": "execute_result"
    }
   ],
   "source": [
    "type(data)"
   ]
  },
  {
   "cell_type": "code",
   "execution_count": 50,
   "id": "ca304f98-47cd-4093-a1d7-bb954b8089c1",
   "metadata": {},
   "outputs": [
    {
     "name": "stdout",
     "output_type": "stream",
     "text": [
      "Lorem ipsu\n"
     ]
    }
   ],
   "source": [
    "# Open the file in read mode\n",
    "file_obj = open('sample-7766.txt', 'r')\n",
    "\n",
    "# Read the first 10 bytes from the file\n",
    "data2 = file_obj.read(10)  # If the number of bytes is not given, it reads the entire file\n",
    "\n",
    "# Print the content read from the file\n",
    "print(data2)\n",
    "\n",
    "# Close the file\n",
    "file_obj.close()\n"
   ]
  },
  {
   "cell_type": "code",
   "execution_count": 51,
   "id": "440b1fd2-f318-488c-8f0a-bf8c1344d5cf",
   "metadata": {},
   "outputs": [
    {
     "name": "stdout",
     "output_type": "stream",
     "text": [
      "Lorem ipsum dolor sit amet, consectetur adipiscing elit. Vivamus condimentum sagittis lacus, laoreet luctus ligula laoreet ut. Vestibulum ullamcorper accumsan velit vel vehicula. Proin tempor lacus arcu. Nunc at elit condimentum, semper nisi et, condimentum mi. In venenatis blandit nibh at sollicitudin. Vestibulum dapibus mauris at orci maximus pellentesque. Nullam id elementum ipsum. Suspendisse cursus lobortis viverra. Proin et erat at mauris tincidunt porttitor vitae ac dui.\n",
      "\n",
      "Donec vulputate lorem tortor, nec fermentum nibh bibendum vel. Lorem ipsum dolor sit amet, consectetur adipiscing elit. Praesent dictum luctus massa, non euismod lacus. Pellentesque condimentum dolor est, ut dapibus lectus luctus ac. Ut sagittis commodo arcu. Integer nisi nulla, facilisis sit amet nulla quis, eleifend suscipit purus. Class aptent taciti sociosqu ad litora torquent per conubia nostra, per inceptos himenaeos. Aliquam euismod ultrices lorem, sit amet imperdiet est tincidunt vel. Phasellus dictum justo sit amet ligula varius aliquet auctor et metus. Fusce vitae tortor et nisi pulvinar vestibulum eget in risus. Donec ante ex, placerat a lorem eget, ultricies bibendum purus. Nam sit amet neque non ante laoreet rutrum. Nullam aliquet commodo urna, sed ullamcorper odio feugiat id. Mauris nisi sapien, porttitor in condimentum nec, venenatis eu urna. Pellentesque feugiat diam est, at rhoncus orci porttitor non.\n",
      "\n",
      "Nulla luctus sem sit amet nisi consequat, id ornare ipsum dignissim. Sed elementum elit nibh, eu condimentum orci viverra quis. Aenean suscipit vitae felis non suscipit. Suspendisse pharetra turpis non eros semper dictum. Etiam tincidunt venenatis venenatis. Praesent eget gravida lorem, ut congue diam. Etiam facilisis elit at porttitor egestas. Praesent consequat, velit non vulputate convallis, ligula diam sagittis urna, in venenatis nisi justo ut mauris. Vestibulum posuere sollicitudin mi, et vulputate nisl fringilla non. Nulla ornare pretium velit a euismod. Nunc sagittis venenatis vestibulum. Nunc sodales libero a est ornare ultricies. Sed sed leo sed orci pellentesque ultrices. Mauris sollicitudin, sem quis placerat ornare, velit arcu convallis ligula, pretium finibus nisl sapien vel sem. Vivamus sit amet tortor id lorem consequat hendrerit. Nullam at dui risus.\n",
      "\n"
     ]
    }
   ],
   "source": [
    "# Open the file in read mode\n",
    "file_obj = open('sample-7766.txt', 'r')\n",
    "\n",
    "# Read the first line from the file\n",
    "print(file_obj.readline())\n",
    "\n",
    "# Read the second line from the file\n",
    "print(file_obj.readline())\n",
    "\n",
    "# Read up to 10000 characters from the current line\n",
    "# If the line has fewer than 10000 characters, it will return the entire line\n",
    "print(file_obj.readline(10000))\n",
    "\n",
    "# Close the file\n",
    "file_obj.close()\n"
   ]
  },
  {
   "cell_type": "code",
   "execution_count": 53,
   "id": "e638ad7d-4ef7-4445-a70d-964928b9db6c",
   "metadata": {},
   "outputs": [
    {
     "name": "stdout",
     "output_type": "stream",
     "text": [
      "<class 'list'>\n"
     ]
    }
   ],
   "source": [
    "# Open the file in read mode\n",
    "file_obj = open('sample-7766.txt', 'r')\n",
    "\n",
    "# Read the entire file and store its lines in a list\n",
    "file_data_in_list = file_obj.readlines()\n",
    "\n",
    "# Close the file\n",
    "file_obj.close()\n",
    "\n",
    "# Print the type of the variable holding the file lines (should be list)\n",
    "print(type(file_data_in_list))\n"
   ]
  },
  {
   "cell_type": "code",
   "execution_count": 54,
   "id": "035344bb-b557-404c-be4b-dcdf3b44e2a0",
   "metadata": {},
   "outputs": [
    {
     "name": "stdout",
     "output_type": "stream",
     "text": [
      "14\n"
     ]
    }
   ],
   "source": [
    "print(len(file_data_in_list))"
   ]
  },
  {
   "cell_type": "code",
   "execution_count": 55,
   "id": "826ea526-7286-4bb5-91df-51fe6f79551c",
   "metadata": {},
   "outputs": [
    {
     "data": {
      "text/plain": [
       "'Nulla luctus sem sit amet nisi consequat, id ornare ipsum dignissim. Sed elementum elit nibh, eu condimentum orci viverra quis. Aenean suscipit vitae felis non suscipit. Suspendisse pharetra turpis non eros semper dictum. Etiam tincidunt venenatis venenatis. Praesent eget gravida lorem, ut congue diam. Etiam facilisis elit at porttitor egestas. Praesent consequat, velit non vulputate convallis, ligula diam sagittis urna, in venenatis nisi justo ut mauris. Vestibulum posuere sollicitudin mi, et vulputate nisl fringilla non. Nulla ornare pretium velit a euismod. Nunc sagittis venenatis vestibulum. Nunc sodales libero a est ornare ultricies. Sed sed leo sed orci pellentesque ultrices. Mauris sollicitudin, sem quis placerat ornare, velit arcu convallis ligula, pretium finibus nisl sapien vel sem. Vivamus sit amet tortor id lorem consequat hendrerit. Nullam at dui risus.\\n'"
      ]
     },
     "execution_count": 55,
     "metadata": {},
     "output_type": "execute_result"
    }
   ],
   "source": [
    "file_data_in_list[2]"
   ]
  },
  {
   "cell_type": "code",
   "execution_count": 57,
   "id": "8d9d0167-a1aa-432e-97fa-a67bdbb928f9",
   "metadata": {},
   "outputs": [
    {
     "name": "stdout",
     "output_type": "stream",
     "text": [
      "<class 'list'>\n"
     ]
    },
    {
     "ename": "ValueError",
     "evalue": "I/O operation on closed file.",
     "output_type": "error",
     "traceback": [
      "\u001b[1;31m---------------------------------------------------------------------------\u001b[0m",
      "\u001b[1;31mValueError\u001b[0m                                Traceback (most recent call last)",
      "Cell \u001b[1;32mIn[57], line 10\u001b[0m\n\u001b[0;32m      6\u001b[0m \u001b[38;5;28mprint\u001b[39m(\u001b[38;5;28mtype\u001b[39m(file_data_in_list))\n\u001b[0;32m      8\u001b[0m file_obj\u001b[38;5;241m.\u001b[39mclose() \u001b[38;5;66;03m# buffer is erased\u001b[39;00m\n\u001b[1;32m---> 10\u001b[0m \u001b[43mfile_obj\u001b[49m\u001b[38;5;241;43m.\u001b[39;49m\u001b[43mread\u001b[49m\u001b[43m(\u001b[49m\u001b[43m)\u001b[49m \u001b[38;5;66;03m#error\u001b[39;00m\n",
      "\u001b[1;31mValueError\u001b[0m: I/O operation on closed file."
     ]
    }
   ],
   "source": [
    "# it is our responsiblity to close the file\n",
    "\n",
    "file_obj = open('sample-7766.txt', 'r')\n",
    "file_data_in_list =file_obj.readlines()\n",
    "\n",
    "print(type(file_data_in_list))\n",
    "\n",
    "file_obj.close() # buffer is erased\n",
    "\n",
    "file_obj.read() #error"
   ]
  },
  {
   "cell_type": "code",
   "execution_count": 58,
   "id": "3f61104c-4848-4dc7-9bc0-7b09f8f7c913",
   "metadata": {},
   "outputs": [
    {
     "name": "stdout",
     "output_type": "stream",
     "text": [
      "Lorem ipsum dolor sit amet, consectetur adipiscing elit. Vivamus condimentum sagittis lacus, laoreet luctus ligula laoreet ut. Vestibulum ullamcorper accumsan velit vel vehicula. Proin tempor lacus arcu. Nunc at elit condimentum, semper nisi et, condimentum mi. In venenatis blandit nibh at sollicitudin. Vestibulum dapibus mauris at orci maximus pellentesque. Nullam id elementum ipsum. Suspendisse cursus lobortis viverra. Proin et erat at mauris tincidunt porttitor vitae ac dui.\n",
      "\n"
     ]
    }
   ],
   "source": [
    "# Read the entire file and store its lines in a list\n",
    "with open('sample-7766.txt', 'r') as file_obj:  # Open the file using 'with' to ensure automatic file closure\n",
    "    file_data = file_obj.readlines()  \n",
    "\n",
    "# Access the first line from the file data list\n",
    "first_line = file_data[0]\n",
    "\n",
    "print(first_line)\n"
   ]
  },
  {
   "cell_type": "markdown",
   "id": "67558417-114e-4886-beb9-406e9498379e",
   "metadata": {},
   "source": [
    "* The with statement does not have its own scope. Instead, it creates a context for the block of code inside it, and any variables defined inside the with block will be in the same scope as the surrounding code. This means that variables defined inside the with block will be accessible both inside the with block and outside it."
   ]
  },
  {
   "cell_type": "markdown",
   "id": "c0f652fb-b640-45a2-8a49-a1b6878648bc",
   "metadata": {},
   "source": [
    "# CSV Files\r\n",
    "\r\n",
    "CSV (Comma-Separated Values) files are widely used for storing and managing tabular data, where data is organized in rows and columns. Each row represents one record, and each column represents an attribute of the data.\r\n",
    "\r\n",
    "In Python, the `csv` module provides functionality for working with CSV files, making it easy to read and write data in this format.\r\n",
    "\r\n",
    "To read a CSV file, the `csv.reader` object is commonly used, which allows you to read each row as a list of values. This makes it straightforward to access individual columns and process the data.\r\n",
    "\r\n",
    "While it is possible to use `readlines()` to read a CSV file, this approach may not be ideal, as it returns each row as a single string, making it difficult to separate and work with individual columns effectively. Hence, the `csv.reader` method is preferred for handling CSV files in Python.."
   ]
  },
  {
   "cell_type": "code",
   "execution_count": 99,
   "id": "21602ff8-7a25-4428-893f-c1f3e95babe2",
   "metadata": {},
   "outputs": [
    {
     "data": {
      "text/plain": [
       "['Year,Month,Day,Country,Region,city,latitude,longitude,AttackType,Killed,Wounded,Target,Group,Target_type,Weapon_type,casualities\\n',\n",
       " '2017,1,2,Afghanistan,South Asia,Takhta Pul,31.320556,65.961111,Hostage Taking (Kidnapping),0.0,0.0,Construction Workers,Taliban,Business,Firearms,0.0\\n',\n",
       " '2017,1,3,Sudan,Sub-Saharan Africa,Fantaga,12.921007000000001,24.318324,Armed Assault,2.0,0.0,\"Civilians: Haroun Yousif, Hamid Ibrahim\",Unknown,Private Citizens & Property,Firearms,2.0\\n',\n",
       " '2017,1,1,Democratic Republic of the Congo,Sub-Saharan Africa,Saboko,1.452372,29.875162,Armed Assault,7.0,0.0,Village,Allied Democratic Forces (ADF),Private Citizens & Property,Melee,7.0\\n',\n",
       " '2017,1,1,Democratic Republic of the Congo,Sub-Saharan Africa,Bialee,1.4523700000000002,29.875186,Armed Assault,7.0,0.0,Village,Allied Democratic Forces (ADF),Private Citizens & Property,Melee,7.0\\n']"
      ]
     },
     "execution_count": 99,
     "metadata": {},
     "output_type": "execute_result"
    }
   ],
   "source": [
    "# we can read with inbuilt readlines\n",
    "\n",
    "with open('year2017-7767.csv') as file_obj:\n",
    "    file_data = file_obj.readlines() #list of strings\n",
    "\n",
    "# we have to manually seperate the , seperated values for this\n",
    "file_data[:5]"
   ]
  },
  {
   "cell_type": "code",
   "execution_count": 60,
   "id": "8e92a137-f93a-42e8-b11d-07605ba30a1c",
   "metadata": {},
   "outputs": [
    {
     "name": "stdout",
     "output_type": "stream",
     "text": [
      "<_csv.reader object at 0x0000018452B11CC0>\n"
     ]
    },
    {
     "ename": "ValueError",
     "evalue": "I/O operation on closed file.",
     "output_type": "error",
     "traceback": [
      "\u001b[1;31m---------------------------------------------------------------------------\u001b[0m",
      "\u001b[1;31mValueError\u001b[0m                                Traceback (most recent call last)",
      "Cell \u001b[1;32mIn[60], line 7\u001b[0m\n\u001b[0;32m      5\u001b[0m     file_data \u001b[38;5;241m=\u001b[39m csv\u001b[38;5;241m.\u001b[39mreader(file_obj)\n\u001b[0;32m      6\u001b[0m \u001b[38;5;28mprint\u001b[39m(file_data)\n\u001b[1;32m----> 7\u001b[0m \u001b[38;5;28;01mfor\u001b[39;00m row \u001b[38;5;129;01min\u001b[39;00m file_data: \u001b[38;5;66;03m#cant acess as fileclosed\u001b[39;00m\n\u001b[0;32m      8\u001b[0m     \u001b[38;5;28mprint\u001b[39m(row)\n\u001b[0;32m     10\u001b[0m \u001b[38;5;66;03m# type(file_data) _csv.reader\u001b[39;00m\n",
      "\u001b[1;31mValueError\u001b[0m: I/O operation on closed file."
     ]
    }
   ],
   "source": [
    "# we use csv library\n",
    "import csv\n",
    "\n",
    "with open('year2017-7767.csv') as file_obj:\n",
    "    file_data = csv.reader(file_obj)\n",
    "print(file_data)\n",
    "for row in file_data: #cant acess as fileclosed\n",
    "    print(row)\n",
    "\n",
    "# type(file_data) _csv.reader"
   ]
  },
  {
   "cell_type": "code",
   "execution_count": 105,
   "id": "d0efe794-12be-4d2f-a71e-e643598c2d4f",
   "metadata": {},
   "outputs": [],
   "source": [
    "# we use csv library\n",
    "import csv\n",
    "\n",
    "with open('year2017-7767.csv') as file_obj:\n",
    "    file_data = csv.reader(file_obj)\n",
    "     for row in file_data:\n",
    "        print(row)\n",
    "   \n",
    "# each row is comma seperated values in list\n",
    "# type(file_data) _csv.reader\n"
   ]
  },
  {
   "cell_type": "markdown",
   "id": "7fa51294-969d-4f85-9491-e6ff2af7cb2b",
   "metadata": {},
   "source": [
    "### CSV files with Custom Delimiters\n",
    "\n",
    "By default, a comma is used as a delimiter in a CSV file. However, some CSV files can use delimiters other than a comma. Few popular ones are | and \\t."
   ]
  },
  {
   "cell_type": "code",
   "execution_count": 109,
   "id": "4330acb8-40fe-49d7-aa1d-f4f9043d6c3f",
   "metadata": {},
   "outputs": [
    {
     "name": "stdout",
     "output_type": "stream",
     "text": [
      "['Year|   Month|    Day|    Country|    Region|    City']\n",
      "['2017|   1|    2|    Afghanistan|    Region|    Takhta Pul']\n",
      "['2017|   1|    3|    Sudan|    Sub-Saharan Africa|    Fantaga']\n",
      "['2017|   1|    1|    Democratic Republic of the Congo|    Region|    Sabako']\n",
      "['2017|   1|    1|    Democratic Republic of the Congo|    Region|    Bialee']\n"
     ]
    }
   ],
   "source": [
    "import csv\n",
    "\n",
    "with open('sample_delim-7772.csv') as file_obj:\n",
    "    file_data = csv.reader(file_obj)\n",
    "    for row in file_data:\n",
    "        print(row)"
   ]
  },
  {
   "cell_type": "code",
   "execution_count": 110,
   "id": "a5c81ed2-f4b2-47a4-a06a-2ddfe4f8f6c6",
   "metadata": {},
   "outputs": [
    {
     "name": "stdout",
     "output_type": "stream",
     "text": [
      "['Year', '   Month', '    Day', '    Country', '    Region', '    City']\n",
      "['2017', '   1', '    2', '    Afghanistan', '    Region', '    Takhta Pul']\n",
      "['2017', '   1', '    3', '    Sudan', '    Sub-Saharan Africa', '    Fantaga']\n",
      "['2017', '   1', '    1', '    Democratic Republic of the Congo', '    Region', '    Sabako']\n",
      "['2017', '   1', '    1', '    Democratic Republic of the Congo', '    Region', '    Bialee']\n"
     ]
    }
   ],
   "source": [
    "import csv\n",
    "\n",
    "with open('sample_delim-7772.csv') as file_obj:\n",
    "    file_data = csv.reader(file_obj, delimiter='|')\n",
    "    for row in file_data:\n",
    "        print(row)"
   ]
  },
  {
   "cell_type": "markdown",
   "id": "63aa8773-ef64-422e-ac50-608ef7c64754",
   "metadata": {},
   "source": [
    "Now, we have separated each column successfully. But did you notice that there is some initial space before each column entry. Lets see how we can remove that.\n",
    "\n",
    "CSV files with initial spaces\n",
    "Some CSV files can have a space character after a delimiter. When we use the default csv.reader() function to read these CSV files, we will get spaces in the output as well.\n",
    "\n",
    "To remove these initial spaces, we need to pass an additional parameter called skipinitialspace."
   ]
  },
  {
   "cell_type": "code",
   "execution_count": 112,
   "id": "2bc61545-5c44-4af9-bc1d-53c051a432e4",
   "metadata": {},
   "outputs": [
    {
     "name": "stdout",
     "output_type": "stream",
     "text": [
      "['Year', 'Month', 'Day', 'Country', 'Region', 'City']\n",
      "['2017', '1', '2', 'Afghanistan', 'Region', 'Takhta Pul']\n",
      "['2017', '1', '3', 'Sudan', 'Sub-Saharan Africa', 'Fantaga']\n",
      "['2017', '1', '1', 'Democratic Republic of the Congo', 'Region', 'Sabako']\n",
      "['2017', '1', '1', 'Democratic Republic of the Congo', 'Region', 'Bialee']\n"
     ]
    }
   ],
   "source": [
    "import csv\n",
    "\n",
    "with open('sample_delim-7772.csv') as file_obj:\n",
    "    file_data = csv.reader(file_obj, delimiter='|',skipinitialspace=True)\n",
    "    for row in file_data:\n",
    "        print(row)"
   ]
  },
  {
   "cell_type": "code",
   "execution_count": 113,
   "id": "9058b7b1-32cb-4bf6-b721-547a3fa455d2",
   "metadata": {},
   "outputs": [
    {
     "name": "stdout",
     "output_type": "stream",
     "text": [
      "<_csv.reader object at 0x000001B1B0455900>\n",
      "<class 'list'>\n"
     ]
    }
   ],
   "source": [
    "import csv\n",
    "\n",
    "with open('sample_delim-7772.csv') as file_obj:\n",
    "    file_data = csv.reader(file_obj, delimiter='|',skipinitialspace=True)\n",
    "    print(file_data)\n",
    "    file_list = list(file_data)\n",
    "    for row in file_data:\n",
    "        print(row)\n",
    "\n",
    "print(type(file_list))"
   ]
  },
  {
   "cell_type": "code",
   "execution_count": 116,
   "id": "461e8a39-a5b3-486a-ad92-6123a5395746",
   "metadata": {},
   "outputs": [
    {
     "name": "stdout",
     "output_type": "stream",
     "text": [
      "<_csv.reader object at 0x000001B1B0455C60>\n",
      "<class 'list'>\n",
      "[['Year', 'Month', 'Day', 'Country', 'Region', 'City'], ['2017', '1', '2', 'Afghanistan', 'Region', 'Takhta Pul'], ['2017', '1', '3', 'Sudan', 'Sub-Saharan Africa', 'Fantaga'], ['2017', '1', '1', 'Democratic Republic of the Congo', 'Region', 'Sabako'], ['2017', '1', '1', 'Democratic Republic of the Congo', 'Region', 'Bialee']]\n"
     ]
    }
   ],
   "source": [
    "import csv\n",
    "\n",
    "with open('sample_delim-7772.csv') as file_obj:\n",
    "    file_data = csv.reader(file_obj, delimiter='|',skipinitialspace=True)\n",
    "    print(file_data)\n",
    "    file_list = list(file_data)\n",
    "\n",
    "print(type(file_list))\n",
    "print(file_list)\n",
    "\n"
   ]
  },
  {
   "cell_type": "code",
   "execution_count": 119,
   "id": "316805c1-0c2f-48ff-af87-8a3890e95f18",
   "metadata": {},
   "outputs": [
    {
     "ename": "ValueError",
     "evalue": "could not convert string to float: ''",
     "output_type": "error",
     "traceback": [
      "\u001b[1;31m---------------------------------------------------------------------------\u001b[0m",
      "\u001b[1;31mValueError\u001b[0m                                Traceback (most recent call last)",
      "Cell \u001b[1;32mIn[119], line 9\u001b[0m\n\u001b[0;32m      7\u001b[0m killed\u001b[38;5;241m=\u001b[39m[]\n\u001b[0;32m      8\u001b[0m \u001b[38;5;28;01mfor\u001b[39;00m row \u001b[38;5;129;01min\u001b[39;00m file_list[\u001b[38;5;241m1\u001b[39m:]:\n\u001b[1;32m----> 9\u001b[0m     killed\u001b[38;5;241m.\u001b[39mappend(\u001b[38;5;28mfloat\u001b[39m(row[\u001b[38;5;241m9\u001b[39m]))\n\u001b[0;32m     10\u001b[0m killed\n",
      "\u001b[1;31mValueError\u001b[0m: could not convert string to float: ''"
     ]
    }
   ],
   "source": [
    "import csv\n",
    "\n",
    "with open('year2017-7767.csv') as file_obj:\n",
    "    file_data = csv.reader(file_obj, skipinitialspace=True)\n",
    "    file_list = list(file_data)\n",
    "\n",
    "# the values are strings, so we can use int or float\n",
    "killed=[]\n",
    "for row in file_list[1:]:\n",
    "    killed.append(float(row[9]))\n",
    "killed"
   ]
  },
  {
   "cell_type": "code",
   "execution_count": 61,
   "id": "586e6615-ddb0-449a-9e44-ba8426f47e77",
   "metadata": {},
   "outputs": [],
   "source": [
    "# Above error is caused because there may be values which are missing \"\" i.e empty strings"
   ]
  },
  {
   "cell_type": "code",
   "execution_count": 63,
   "id": "4907d099-e225-4f25-80d0-62ca5cb2d3b5",
   "metadata": {},
   "outputs": [
    {
     "name": "stdout",
     "output_type": "stream",
     "text": [
      "Total killed 26445\n"
     ]
    }
   ],
   "source": [
    "import csv\n",
    "\n",
    "with open('year2017-7767.csv') as file_obj:\n",
    "    file_data = csv.reader(file_obj, skipinitialspace=True)\n",
    "    file_list = list(file_data)\n",
    "\n",
    "# the values are strings, so we can use int or float\n",
    "killed=[]\n",
    "for row in file_list[1:]:\n",
    "    val= row[9]\n",
    "    if val!=\"\":\n",
    "        killed.append(float(row[9]))\n",
    "        \n",
    "print(\"Total killed\",int(sum(killed)))"
   ]
  },
  {
   "cell_type": "code",
   "execution_count": 5,
   "id": "647e66f0-1386-4c26-8e4e-d91013efdddc",
   "metadata": {},
   "outputs": [
    {
     "name": "stdout",
     "output_type": "stream",
     "text": [
      "<class 'csv.DictReader'>\n"
     ]
    },
    {
     "ename": "TypeError",
     "evalue": "'DictReader' object is not subscriptable",
     "output_type": "error",
     "traceback": [
      "\u001b[1;31m---------------------------------------------------------------------------\u001b[0m",
      "\u001b[1;31mTypeError\u001b[0m                                 Traceback (most recent call last)",
      "Cell \u001b[1;32mIn[5], line 8\u001b[0m\n\u001b[0;32m      6\u001b[0m     file_data \u001b[38;5;241m=\u001b[39m csv\u001b[38;5;241m.\u001b[39mDictReader(file_obj, skipinitialspace\u001b[38;5;241m=\u001b[39m\u001b[38;5;28;01mTrue\u001b[39;00m)\n\u001b[0;32m      7\u001b[0m     \u001b[38;5;28mprint\u001b[39m(\u001b[38;5;28mtype\u001b[39m(file_data)) \n\u001b[1;32m----> 8\u001b[0m     \u001b[38;5;28;01mfor\u001b[39;00m row \u001b[38;5;129;01min\u001b[39;00m \u001b[43mfile_data\u001b[49m\u001b[43m[\u001b[49m\u001b[43m:\u001b[49m\u001b[38;5;241;43m2\u001b[39;49m\u001b[43m]\u001b[49m:\n\u001b[0;32m      9\u001b[0m         \u001b[38;5;28mprint\u001b[39m(row)\n\u001b[0;32m     10\u001b[0m \u001b[38;5;66;03m# instead of indexes, now we can use keys for extracting\u001b[39;00m\n",
      "\u001b[1;31mTypeError\u001b[0m: 'DictReader' object is not subscriptable"
     ]
    }
   ],
   "source": [
    "# We can use DictReader instead , data will be convereted into key value pir, key will be column header \n",
    "import csv\n",
    "# every row is conveted into dictionary\n",
    "# by default it takes 0th row as key\n",
    "with open('year2017-7767.csv') as file_obj:\n",
    "    file_data = csv.DictReader(file_obj, skipinitialspace=True)\n",
    "    print(type(file_data)) \n",
    "    for row in file_data[:2]:\n",
    "        print(row)\n",
    "# instead of indexes, now we can use keys for extracting"
   ]
  },
  {
   "cell_type": "code",
   "execution_count": 8,
   "id": "213fd412-8d7d-463b-95f9-e112a7a5f17d",
   "metadata": {},
   "outputs": [
    {
     "name": "stdout",
     "output_type": "stream",
     "text": [
      "{'Year': '2017', 'Month': '1', 'Day': '2', 'Country': 'Afghanistan', 'Region': 'South Asia', 'city': 'Takhta Pul', 'latitude': '31.320556', 'longitude': '65.961111', 'AttackType': 'Hostage Taking (Kidnapping)', 'Killed': '0.0', 'Wounded': '0.0', 'Target': 'Construction Workers', 'Group': 'Taliban', 'Target_type': 'Business', 'Weapon_type': 'Firearms', 'casualities': '0.0'}\n",
      "{'Year': '2017', 'Month': '1', 'Day': '3', 'Country': 'Sudan', 'Region': 'Sub-Saharan Africa', 'city': 'Fantaga', 'latitude': '12.921007000000001', 'longitude': '24.318324', 'AttackType': 'Armed Assault', 'Killed': '2.0', 'Wounded': '0.0', 'Target': 'Civilians: Haroun Yousif, Hamid Ibrahim', 'Group': 'Unknown', 'Target_type': 'Private Citizens & Property', 'Weapon_type': 'Firearms', 'casualities': '2.0'}\n"
     ]
    }
   ],
   "source": [
    "import csv\n",
    "\n",
    "with open('year2017-7767.csv') as file_obj:\n",
    "    file_data = csv.DictReader(file_obj, skipinitialspace=True)\n",
    "    file_data_list = list(file_data)\n",
    "    \n",
    "    for row in file_data_list[:2]:\n",
    "        print(row)"
   ]
  },
  {
   "cell_type": "code",
   "execution_count": 12,
   "id": "e69dd1d5-3935-4416-a52f-8a0b8bc90947",
   "metadata": {},
   "outputs": [
    {
     "name": "stdout",
     "output_type": "stream",
     "text": [
      "Firearms\n",
      "Firearms\n",
      "Melee\n",
      "Melee\n",
      "Firearms\n",
      "Explosives\n",
      "Explosives\n",
      "Explosives\n",
      "Explosives\n",
      "Firearms\n"
     ]
    }
   ],
   "source": [
    "import csv\n",
    "\n",
    "with open('year2017-7767.csv') as file_obj:\n",
    "    file_data = csv.DictReader(file_obj, skipinitialspace=True)\n",
    "    file_data_list = list(file_data)\n",
    "    for row in file_data_list[:10]:\n",
    "        print(row['Weapon_type'])"
   ]
  },
  {
   "cell_type": "code",
   "execution_count": 17,
   "id": "e374b1d5-c186-420e-85cb-3ab68b07d6b4",
   "metadata": {},
   "outputs": [
    {
     "name": "stdout",
     "output_type": "stream",
     "text": [
      "{'Afghanistan': 6092, 'Sudan': 82, 'Democratic Republic of the Congo': 596, 'Turkey': 222, 'Syria': 2026, 'Pakistan': 1076, 'Italy': 0, 'Somalia': 1912, 'Yemen': 762, 'Bahrain': 6, 'Myanmar': 218, 'Burundi': 20, 'Iraq': 6476, 'Egypt': 877, 'Burkina Faso': 53, 'India': 465, 'Algeria': 12, 'United States': 95, 'Philippines': 496, 'Greece': 0, 'Mali': 361, 'Libya': 289, 'Central African Republic': 601, 'Nigeria': 1805, 'Lebanon': 17, 'Mexico': 23, 'Cameroon': 228, 'Ethiopia': 67, 'Kyrgyzstan': 0, 'Serbia': 0, 'Sweden': 5, 'Thailand': 72, 'Iran': 39, 'France': 7, 'United Kingdom': 42, 'West Bank and Gaza Strip': 50, 'Ukraine': 40, 'Paraguay': 4, 'Colombia': 84, 'Malaysia': 4, 'Russia': 61, 'Kosovo': 0, 'South Africa': 21, 'Chile': 0, 'Kenya': 126, 'Israel': 3, 'Saudi Arabia': 31, 'China': 16, 'Nepal': 4, 'Ecuador': 0, 'Niger': 148, 'Venezuela': 5, 'South Sudan': 581, 'Canada': 6, 'Bangladesh': 25, 'Tajikistan': 1, 'Angola': 7, 'Ireland': 0, 'Peru': 8, 'Dominican Republic': 2, 'Poland': 0, 'Jordan': 4, 'Azerbaijan': 5, 'Mozambique': 22, 'Indonesia': 20, 'Germany': 1, 'Brazil': 0, 'Macedonia': 0, 'Tunisia': 5, 'Uganda': 7, 'Chad': 62, 'Finland': 2, 'Australia': 4, 'Norway': 0, 'Vietnam': 0, 'Tanzania': 8, 'Sierra Leone': 0, 'Sri Lanka': 1, 'Maldives': 1, 'Belgium': 2, 'Rwanda': 2, 'Honduras': 2, 'Czech Republic': 0, 'Malta': 1, 'Gabon': 0, 'Laos': 1, 'Djibouti': 0, 'Austria': 2, 'Zambia': 0, 'Argentina': 0, 'Papua New Guinea': 0, 'Zimbabwe': 0, 'Ivory Coast': 3, 'Spain': 21, 'Taiwan': 0, 'Jamaica': 0, 'Albania': 0, 'Liberia': 0, 'Georgia': 0, 'Malawi': 0, 'Netherlands': 0, 'Latvia': 0}\n"
     ]
    }
   ],
   "source": [
    "# Total no of people killed from each country\n",
    "\n",
    "import csv\n",
    "\n",
    "with open('year2017-7767.csv') as file_obj:\n",
    "    file_data = csv.DictReader(file_obj, skipinitialspace=True)\n",
    "\n",
    "    data_dict = {}\n",
    "    for row in file_data:\n",
    "        str_killed = row['Killed']\n",
    "        \n",
    "        if str_killed != \"\":\n",
    "            int_killed = int(float(str_killed))  # Convert to integer, handling floating-point values\n",
    "        else:\n",
    "            int_killed = 0\n",
    "\n",
    "        data_dict[row['Country']] = data_dict.get(row['Country'], 0) + int_killed\n",
    "    print(data_dict)\n",
    "\n",
    "    # for key, value in data_dict.items():  # Use items() to access both keys and values\n",
    "    #     print(key, value)"
   ]
  },
  {
   "cell_type": "code",
   "execution_count": 18,
   "id": "3ad38897-2405-40b4-98b9-49f150ced9f1",
   "metadata": {},
   "outputs": [
    {
     "name": "stdout",
     "output_type": "stream",
     "text": [
      "{'Afghanistan': 6092, 'Sudan': 82, 'Democratic Republic of the Congo': 596, 'Turkey': 222, 'Syria': 2026, 'Pakistan': 1076, 'Italy': 0, 'Somalia': 1912, 'Yemen': 762, 'Bahrain': 6, 'Myanmar': 218, 'Burundi': 20, 'Iraq': 6476, 'Egypt': 877, 'Burkina Faso': 53, 'India': 465, 'Algeria': 12, 'United States': 95, 'Philippines': 496, 'Greece': 0, 'Mali': 361, 'Libya': 289, 'Central African Republic': 601, 'Nigeria': 1805, 'Lebanon': 17, 'Mexico': 23, 'Cameroon': 228, 'Ethiopia': 67, 'Kyrgyzstan': 0, 'Serbia': 0, 'Sweden': 5, 'Thailand': 72, 'Iran': 39, 'France': 7, 'United Kingdom': 42, 'West Bank and Gaza Strip': 50, 'Ukraine': 40, 'Paraguay': 4, 'Colombia': 84, 'Malaysia': 4, 'Russia': 61, 'Kosovo': 0, 'South Africa': 21, 'Chile': 0, 'Kenya': 126, 'Israel': 3, 'Saudi Arabia': 31, 'China': 16, 'Nepal': 4, 'Ecuador': 0, 'Niger': 148, 'Venezuela': 5, 'South Sudan': 581, 'Canada': 6, 'Bangladesh': 25, 'Tajikistan': 1, 'Angola': 7, 'Ireland': 0, 'Peru': 8, 'Dominican Republic': 2, 'Poland': 0, 'Jordan': 4, 'Azerbaijan': 5, 'Mozambique': 22, 'Indonesia': 20, 'Germany': 1, 'Brazil': 0, 'Macedonia': 0, 'Tunisia': 5, 'Uganda': 7, 'Chad': 62, 'Finland': 2, 'Australia': 4, 'Norway': 0, 'Vietnam': 0, 'Tanzania': 8, 'Sierra Leone': 0, 'Sri Lanka': 1, 'Maldives': 1, 'Belgium': 2, 'Rwanda': 2, 'Honduras': 2, 'Czech Republic': 0, 'Malta': 1, 'Gabon': 0, 'Laos': 1, 'Djibouti': 0, 'Austria': 2, 'Zambia': 0, 'Argentina': 0, 'Papua New Guinea': 0, 'Zimbabwe': 0, 'Ivory Coast': 3, 'Spain': 21, 'Taiwan': 0, 'Jamaica': 0, 'Albania': 0, 'Liberia': 0, 'Georgia': 0, 'Malawi': 0, 'Netherlands': 0, 'Latvia': 0}\n"
     ]
    }
   ],
   "source": [
    "# Total no of people killed from each country\n",
    "import csv\n",
    "\n",
    "with open('year2017-7767.csv') as file_obj:\n",
    "    file_data = csv.DictReader(file_obj, skipinitialspace=True)\n",
    "    file_list = list(file_data)\n",
    "    \n",
    "    country_killed = {}\n",
    "    \n",
    "    for row in file_list:\n",
    "        key = row['Country']\n",
    "        value = row['Killed']\n",
    "        if value != \"\":\n",
    "            value = int(float(value))  # Convert to integer, handling floating-point values\n",
    "        else:\n",
    "            value = 0\n",
    "        country_killed[key] = country_killed.get(key, 0) + value\n",
    "        \n",
    "    print(country_killed)"
   ]
  },
  {
   "cell_type": "code",
   "execution_count": 19,
   "id": "104f696a-a095-4ff6-8d7e-97e551f4fb85",
   "metadata": {},
   "outputs": [
    {
     "data": {
      "text/plain": [
       "'Lorem ipsum dolor sit amet, consectetur adipiscing elit. Vivamus condimentum sagittis lacus, laoreet'"
      ]
     },
     "execution_count": 19,
     "metadata": {},
     "output_type": "execute_result"
    }
   ],
   "source": [
    "# Print 100 Bytes of file and print them\n",
    "\n",
    "with open('sample-7766.txt', 'r') as file_obj:\n",
    "    data = file_obj.read(100) #no of bytes to read =100\n",
    "data"
   ]
  },
  {
   "cell_type": "code",
   "execution_count": 20,
   "id": "3dffb9e7-0233-4b79-ab02-f70ecf6625c5",
   "metadata": {},
   "outputs": [
    {
     "name": "stdout",
     "output_type": "stream",
     "text": [
      "Lorem ipsum dolor sit amet, consectetur adipiscing elit. Vivamus condimentum sagittis lacus, laoreet luctus ligula laoreet ut. Vestibulum ullamcorper accumsan velit vel vehicula. Proin tempor lacus arcu. Nunc at elit condimentum, semper nisi et, condimentum mi. In venenatis blandit nibh at sollicitudin. Vestibulum dapibus mauris at orci maximus pellentesque. Nullam id elementum ipsum. Suspendisse cursus lobortis viverra. Proin et erat at mauris tincidunt porttitor vitae ac dui.\n",
      "\n",
      "Donec vulputate lorem tortor, nec fermentum nibh bibendum vel. Lorem ipsum dolor sit amet, consectetur adipiscing elit. Praesent dictum luctus massa, non euismod lacus. Pellentesque condimentum dolor est, ut dapibus lectus luctus ac. Ut sagittis commodo arcu. Integer nisi nulla, facilisis sit amet nulla quis, eleifend suscipit purus. Class aptent taciti sociosqu ad litora torquent per conubia nostra, per inceptos himenaeos. Aliquam euismod ultrices lorem, sit amet imperdiet est tincidunt vel. Phasellus dictum justo sit amet ligula varius aliquet auctor et metus. Fusce vitae tortor et nisi pulvinar vestibulum eget in risus. Donec ante ex, placerat a lorem eget, ultricies bibendum purus. Nam sit amet neque non ante laoreet rutrum. Nullam aliquet commodo urna, sed ullamcorper odio feugiat id. Mauris nisi sapien, porttitor in condimentum nec, venenatis eu urna. Pellentesque feugiat diam est, at rhoncus orci porttitor non.\n",
      "\n",
      "Nulla luctus sem sit amet nisi consequat, id ornare ipsum dignissim. Sed elementum elit nibh, eu condimentum orci viverra quis. Aenean suscipit vitae felis non suscipit. Suspendisse pharetra turpis non eros semper dictum. Etiam tincidunt venenatis venenatis. Praesent eget gravida lorem, ut congue diam. Etiam facilisis elit at porttitor egestas. Praesent consequat, velit non vulputate convallis, ligula diam sagittis urna, in venenatis nisi justo ut mauris. Vestibulum posuere sollicitudin mi, et vulputate nisl fringilla non. Nulla ornare pretium velit a euismod. Nunc sagittis venenatis vestibulum. Nunc sodales libero a est ornare ultricies. Sed sed leo sed orci pellentesque ultrices. Mauris sollicitudin, sem quis placerat ornare, velit arcu convallis ligula, pretium finibus nisl sapien vel sem. Vivamus sit amet tortor id lorem consequat hendrerit. Nullam at dui risus.\n",
      "\n",
      "Vestibulum ante ipsum primis in faucibus orci luctus et ultrices posuere cubilia Curae; Lorem ipsum dolor sit amet, consectetur adipiscing elit. Sed feugiat semper velit consequat facilisis. Etiam facilisis justo non iaculis dictum. Fusce turpis neque, pharetra ut odio eu, hendrerit rhoncus lacus. Nunc orci felis, imperdiet vel interdum quis, porta eu ipsum. Pellentesque dictum sem lacinia, auctor dui in, malesuada nunc. Maecenas sit amet mollis eros. Proin fringilla viverra ligula, sollicitudin viverra ante sollicitudin congue. Donec mollis felis eu libero malesuada, et lacinia risus interdum.\n",
      "\n",
      "Etiam vitae accumsan augue. Ut urna orci, malesuada ut nisi a, condimentum gravida magna. Nulla bibendum ex in vulputate sagittis. Nulla facilisi. Nullam faucibus et metus ac consequat. Quisque tempor eros velit, id mattis nibh aliquet a. Aenean tempor elit ut finibus auctor. Sed at imperdiet mauris. Vestibulum pharetra non lacus sed pulvinar. Sed pellentesque magna a eros volutpat ullamcorper. In hac habitasse platea dictumst. Donec ipsum mi, feugiat in eros sed, varius lacinia turpis. Donec vulputate tincidunt dui ac laoreet. Sed in eros dui. Pellentesque placerat tristique ligula eu finibus. Proin nec faucibus felis, eu commodo ipsum.\n",
      "\n"
     ]
    }
   ],
   "source": [
    "# Print 5 Lines using readline\n",
    "\n",
    "with open('sample-7766.txt', 'r') as file_obj:\n",
    "    print(file_obj.readline())\n",
    "    print(file_obj.readline())\n",
    "    print(file_obj.readline())\n",
    "    print(file_obj.readline())\n",
    "    print(file_obj.readline())"
   ]
  },
  {
   "cell_type": "code",
   "execution_count": 21,
   "id": "cf291452-cfd4-4dd2-9b63-7153552287dc",
   "metadata": {},
   "outputs": [
    {
     "name": "stdout",
     "output_type": "stream",
     "text": [
      "Lorem ipsum dolor sit amet, consectetur adipiscing elit. Vivamus condimentum sagittis lacus, laoreet luctus ligula laoreet ut. Vestibulum ullamcorper accumsan velit vel vehicula. Proin tempor lacus arcu. Nunc at elit condimentum, semper nisi et, condimentum mi. In venenatis blandit nibh at sollicitudin. Vestibulum dapibus mauris at orci maximus pellentesque. Nullam id elementum ipsum. Suspendisse cursus lobortis viverra. Proin et erat at mauris tincidunt porttitor vitae ac dui.\n",
      "\n",
      "Donec vulputate lorem tortor, nec fermentum nibh bibendum vel. Lorem ipsum dolor sit amet, consectetur adipiscing elit. Praesent dictum luctus massa, non euismod lacus. Pellentesque condimentum dolor est, ut dapibus lectus luctus ac. Ut sagittis commodo arcu. Integer nisi nulla, facilisis sit amet nulla quis, eleifend suscipit purus. Class aptent taciti sociosqu ad litora torquent per conubia nostra, per inceptos himenaeos. Aliquam euismod ultrices lorem, sit amet imperdiet est tincidunt vel. Phasellus dictum justo sit amet ligula varius aliquet auctor et metus. Fusce vitae tortor et nisi pulvinar vestibulum eget in risus. Donec ante ex, placerat a lorem eget, ultricies bibendum purus. Nam sit amet neque non ante laoreet rutrum. Nullam aliquet commodo urna, sed ullamcorper odio feugiat id. Mauris nisi sapien, porttitor in condimentum nec, venenatis eu urna. Pellentesque feugiat diam est, at rhoncus orci porttitor non.\n",
      "\n",
      "Nulla luctus sem sit amet nisi consequat, id ornare ipsum dignissim. Sed elementum elit nibh, eu condimentum orci viverra quis. Aenean suscipit vitae felis non suscipit. Suspendisse pharetra turpis non eros semper dictum. Etiam tincidunt venenatis venenatis. Praesent eget gravida lorem, ut congue diam. Etiam facilisis elit at porttitor egestas. Praesent consequat, velit non vulputate convallis, ligula diam sagittis urna, in venenatis nisi justo ut mauris. Vestibulum posuere sollicitudin mi, et vulputate nisl fringilla non. Nulla ornare pretium velit a euismod. Nunc sagittis venenatis vestibulum. Nunc sodales libero a est ornare ultricies. Sed sed leo sed orci pellentesque ultrices. Mauris sollicitudin, sem quis placerat ornare, velit arcu convallis ligula, pretium finibus nisl sapien vel sem. Vivamus sit amet tortor id lorem consequat hendrerit. Nullam at dui risus.\n",
      "\n"
     ]
    }
   ],
   "source": [
    "# Print 3 Lines using readlines\n",
    "\n",
    "with open('sample-7766.txt', 'r') as file_obj:\n",
    "    data= file_obj.readlines() #produces list of lines of strings\n",
    "    for i in data[:3]:\n",
    "        print(i)"
   ]
  },
  {
   "cell_type": "code",
   "execution_count": 24,
   "id": "90da3b08-1364-424f-9adf-c689f8b49432",
   "metadata": {},
   "outputs": [
    {
     "name": "stdout",
     "output_type": "stream",
     "text": [
      "{'Year': '2017', 'Month': '1', 'Day': '2', 'Country': 'Afghanistan', 'Region': 'South Asia', 'city': 'Takhta Pul', 'latitude': '31.320556', 'longitude': '65.961111', 'AttackType': 'Hostage Taking (Kidnapping)', 'Killed': '0.0', 'Wounded': '0.0', 'Target': 'Construction Workers', 'Group': 'Taliban', 'Target_type': 'Business', 'Weapon_type': 'Firearms', 'casualities': '0.0'}\n",
      "\n",
      "{'Year': '2017', 'Month': '1', 'Day': '3', 'Country': 'Sudan', 'Region': 'Sub-Saharan Africa', 'city': 'Fantaga', 'latitude': '12.921007000000001', 'longitude': '24.318324', 'AttackType': 'Armed Assault', 'Killed': '2.0', 'Wounded': '0.0', 'Target': 'Civilians: Haroun Yousif, Hamid Ibrahim', 'Group': 'Unknown', 'Target_type': 'Private Citizens & Property', 'Weapon_type': 'Firearms', 'casualities': '2.0'}\n",
      "\n",
      "{'Year': '2017', 'Month': '1', 'Day': '1', 'Country': 'Democratic Republic of the Congo', 'Region': 'Sub-Saharan Africa', 'city': 'Saboko', 'latitude': '1.452372', 'longitude': '29.875162', 'AttackType': 'Armed Assault', 'Killed': '7.0', 'Wounded': '0.0', 'Target': 'Village', 'Group': 'Allied Democratic Forces (ADF)', 'Target_type': 'Private Citizens & Property', 'Weapon_type': 'Melee', 'casualities': '7.0'}\n",
      "\n"
     ]
    }
   ],
   "source": [
    "# First 3 lines using DictReader\n",
    "import csv\n",
    "\n",
    "with open('year2017-7767.csv') as file_obj:\n",
    "    data = csv.DictReader(file_obj,skipinitialspace=True)\n",
    "    data_list =list(data)\n",
    "    \n",
    "    for i in data_list[:3]:\n",
    "        print(i)\n",
    "        print()"
   ]
  },
  {
   "cell_type": "code",
   "execution_count": 26,
   "id": "250a235b-9c10-4455-a71a-004603e43c40",
   "metadata": {},
   "outputs": [
    {
     "name": "stdout",
     "output_type": "stream",
     "text": [
      "['2017', '1', '2', 'Afghanistan', 'South Asia', 'Takhta Pul', '31.320556', '65.961111', 'Hostage Taking (Kidnapping)', '0.0', '0.0', 'Construction Workers', 'Taliban', 'Business', 'Firearms', '0.0']\n",
      "\n",
      "['2017', '1', '3', 'Sudan', 'Sub-Saharan Africa', 'Fantaga', '12.921007000000001', '24.318324', 'Armed Assault', '2.0', '0.0', 'Civilians: Haroun Yousif, Hamid Ibrahim', 'Unknown', 'Private Citizens & Property', 'Firearms', '2.0']\n",
      "\n",
      "['2017', '1', '1', 'Democratic Republic of the Congo', 'Sub-Saharan Africa', 'Saboko', '1.452372', '29.875162', 'Armed Assault', '7.0', '0.0', 'Village', 'Allied Democratic Forces (ADF)', 'Private Citizens & Property', 'Melee', '7.0']\n",
      "\n",
      "['2017', '1', '1', 'Democratic Republic of the Congo', 'Sub-Saharan Africa', 'Bialee', '1.4523700000000002', '29.875186', 'Armed Assault', '7.0', '0.0', 'Village', 'Allied Democratic Forces (ADF)', 'Private Citizens & Property', 'Melee', '7.0']\n",
      "\n"
     ]
    }
   ],
   "source": [
    "# First 3 lines using reader\n",
    "import csv\n",
    "\n",
    "with open('year2017-7767.csv') as file_obj:\n",
    "    data = csv.reader(file_obj,skipinitialspace=True) \n",
    "    data_list = list(data) #list of rows\n",
    "    j=0\n",
    "    for i in data_list[1:]:\n",
    "        if j>3:\n",
    "            break\n",
    "        print(i)\n",
    "        print()\n",
    "        j+=1"
   ]
  },
  {
   "cell_type": "code",
   "execution_count": 27,
   "id": "0a9ccf75-cf87-467a-8627-856df57b3c36",
   "metadata": {},
   "outputs": [
    {
     "name": "stdout",
     "output_type": "stream",
     "text": [
      "Year\n",
      "Month\n",
      "Day\n",
      "Country\n",
      "Region\n",
      "city\n",
      "latitude\n",
      "longitude\n",
      "AttackType\n",
      "Killed\n",
      "Wounded\n",
      "Target\n",
      "Group\n",
      "Target_type\n",
      "Weapon_type\n",
      "casualities\n"
     ]
    }
   ],
   "source": [
    "# Print all Column names\n",
    "import csv\n",
    "\n",
    "with open('year2017-7767.csv') as file_obj:\n",
    "    data = csv.reader(file_obj,skipinitialspace=True)\n",
    "    data_list = list(data) \n",
    "    for i in data_list[0]: #first is colum names\n",
    "        print(i)"
   ]
  },
  {
   "cell_type": "code",
   "execution_count": 28,
   "id": "cbb8129b-1cbc-4bd9-b08f-b74456a20cd5",
   "metadata": {},
   "outputs": [
    {
     "name": "stdout",
     "output_type": "stream",
     "text": [
      "Afghanistan\n",
      "Sudan\n",
      "Democratic Republic of the Congo\n",
      "Democratic Republic of the Congo\n",
      "Turkey\n",
      "Syria\n",
      "Pakistan\n",
      "Italy\n",
      "Turkey\n",
      "Turkey\n",
      "Somalia\n"
     ]
    }
   ],
   "source": [
    "# First 10 country names\n",
    "import csv\n",
    "\n",
    "with open('year2017-7767.csv') as file_obj:\n",
    "    data = csv.DictReader(file_obj,skipinitialspace=True)\n",
    "    data_list = list(data)\n",
    "    j=0\n",
    "    for i in data_list:\n",
    "        if j>10:\n",
    "            break\n",
    "        print(i['Country'])\n",
    "        j+=1"
   ]
  },
  {
   "cell_type": "code",
   "execution_count": 31,
   "id": "8cfebd62-c811-4f57-90d3-ca5bd3fa2b62",
   "metadata": {},
   "outputs": [
    {
     "name": "stdout",
     "output_type": "stream",
     "text": [
      "24927\n"
     ]
    }
   ],
   "source": [
    "# Total Wounded People\n",
    "import csv\n",
    "\n",
    "with open('year2017-7767.csv','r') as file_obj:\n",
    "    data = csv.DictReader(file_obj, skipinitialspace=True)\n",
    "    data_list = list(data)\n",
    "    s=0\n",
    "    for i in data_list:\n",
    "        val= i['Wounded']\n",
    "        if val!=\"\":\n",
    "            val= int(float(val))\n",
    "        else:\n",
    "            val=0\n",
    "        s+=val\n",
    "print(s)"
   ]
  },
  {
   "cell_type": "code",
   "execution_count": 1,
   "id": "327ce3e5-e35e-4500-98dd-89430b3c78a4",
   "metadata": {},
   "outputs": [
    {
     "name": "stdout",
     "output_type": "stream",
     "text": [
      "702\n"
     ]
    }
   ],
   "source": [
    "# Total Wounded From India\n",
    "import csv\n",
    "\n",
    "with open('year2017-7767.csv', 'r') as file_obj:\n",
    "    data = csv.DictReader(file_obj, skipinitialspace=True)\n",
    "\n",
    "    wounded_india = []\n",
    "    for row in data:\n",
    "        country = row['Country']\n",
    "        val = row['Wounded']\n",
    "\n",
    "        if val != \"\" and country == \"India\":\n",
    "            wounded_india.append(int(float(val)))\n",
    "\n",
    "total_wounded_india = sum(wounded_india)\n",
    "print(total_wounded_india)"
   ]
  },
  {
   "cell_type": "code",
   "execution_count": 2,
   "id": "aca2f982-6f83-4a3e-b95d-e8de607beaf0",
   "metadata": {},
   "outputs": [
    {
     "name": "stdout",
     "output_type": "stream",
     "text": [
      "29280\n"
     ]
    }
   ],
   "source": [
    "# Casulties from Explosives\n",
    "\n",
    "import csv\n",
    "\n",
    "with open('year2017-7767.csv', 'r') as file_obj:\n",
    "    data = csv.DictReader(file_obj, skipinitialspace=True)\n",
    "    casualities =[]\n",
    "    \n",
    "    for row in data:\n",
    "        val = row['Weapon_type']\n",
    "        temp = row['casualities']\n",
    "        if(val == 'Explosives' and temp!=''):\n",
    "            casualities.append(int(float(temp)))\n",
    "\n",
    "print(sum(casualities))"
   ]
  },
  {
   "cell_type": "code",
   "execution_count": 3,
   "id": "892b69a4-6827-4489-bb3a-513647b9a61e",
   "metadata": {},
   "outputs": [
    {
     "name": "stdout",
     "output_type": "stream",
     "text": [
      "1 2275\n",
      "2 2027\n",
      "3 2463\n",
      "4 2142\n",
      "5 2936\n",
      "6 2506\n",
      "7 2228\n",
      "8 2145\n",
      "9 1764\n",
      "10 2580\n",
      "11 2014\n",
      "12 1365\n"
     ]
    }
   ],
   "source": [
    "# Month vs Killed\n",
    "# Total no of people killed in each month\n",
    "# Print the month and count of killed people as integer value\n",
    "import csv\n",
    "\n",
    "with open('year2017-7767.csv', 'r') as file_obj:\n",
    "    data = csv.DictReader(file_obj, skipinitialspace=True)\n",
    "    dict ={}\n",
    "    for row in data:\n",
    "        month= row['Month']\n",
    "        killed= row['Killed'] \n",
    "        if killed!='':\n",
    "            killed=int(float(killed))\n",
    "        else:\n",
    "            killed=0\n",
    "        dict[month]=dict.get(month,0) + killed\n",
    "for key,value in dict.items():\n",
    "    print(key,value)"
   ]
  },
  {
   "cell_type": "code",
   "execution_count": 5,
   "id": "8029aa59-194a-443a-93bf-7982ed89034a",
   "metadata": {},
   "outputs": [],
   "source": [
    "# Country vs casualities\n",
    "import csv\n",
    "\n",
    "with open('year2017-7767.csv', 'r') as file_obj:\n",
    "    data = csv.DictReader(file_obj, skipinitialspace=True)\n",
    "    dict ={}\n",
    "    for row in data:\n",
    "        country= row['Country']\n",
    "        casualities= row['casualities'] \n",
    "        if casualities!='':\n",
    "            casualities=int(float(casualities))\n",
    "        else:\n",
    "            casualities=0\n",
    "        dict[country]=dict.get(country,0) + casualities"
   ]
  },
  {
   "cell_type": "code",
   "execution_count": 6,
   "id": "2e04db80-142d-4085-a0c1-d8d1410a1da6",
   "metadata": {},
   "outputs": [
    {
     "name": "stdout",
     "output_type": "stream",
     "text": [
      "Number of job openings in Bangalore, IN: 66\n",
      "Number of job openings in Seattle, US: 1856\n"
     ]
    }
   ],
   "source": [
    "# Amazon jobs Dataset from 2011 to 2018\n",
    "\n",
    "# Find no of job openings in Banglore,IN and in Seattle,US\n",
    "import csv\n",
    "\n",
    "# Specify the correct encoding when opening the CSV file\n",
    "with open('amazon_jobs_dataset.csv', 'r', encoding='utf-8') as file_obj:\n",
    "    data = csv.DictReader(file_obj, skipinitialspace=True)\n",
    "\n",
    "    india_openings = 0\n",
    "    usa_openings = 0\n",
    "\n",
    "    for row in data:\n",
    "        location = row['location'].lower()\n",
    "        if \"bangalore\" in location:\n",
    "            india_openings += 1\n",
    "        if \"seattle\" in location:\n",
    "            usa_openings += 1\n",
    "\n",
    "print(\"Number of job openings in Bangalore, IN:\", india_openings)\n",
    "print(\"Number of job openings in Seattle, US:\", usa_openings)\n"
   ]
  },
  {
   "cell_type": "code",
   "execution_count": 7,
   "id": "6850d773-bd39-4d94-940c-ccc939cf2ce6",
   "metadata": {},
   "outputs": [
    {
     "name": "stdout",
     "output_type": "stream",
     "text": [
      "Number of job openings in Computer Vision: 14\n"
     ]
    }
   ],
   "source": [
    "# Job Computer vision\n",
    "\n",
    "import csv\n",
    "\n",
    "with open('amazon_jobs_dataset.csv', 'r', encoding='utf-8') as file_obj:\n",
    "    data = csv.DictReader(file_obj, skipinitialspace=True)\n",
    "\n",
    "    computer_vision_openings = 0\n",
    "\n",
    "    for row in data:\n",
    "        job_title = row['Title'].lower()\n",
    "        if \"computer vision\" in job_title:\n",
    "            computer_vision_openings += 1\n",
    "\n",
    "print(\"Number of job openings in Computer Vision:\", computer_vision_openings)"
   ]
  },
  {
   "cell_type": "code",
   "execution_count": 8,
   "id": "d286781b-47df-4b2e-ab5f-3f210aff7608",
   "metadata": {},
   "outputs": [
    {
     "name": "stdout",
     "output_type": "stream",
     "text": [
      "Number of job openings in Canada: 156\n"
     ]
    }
   ],
   "source": [
    "# Job openings Canada\n",
    "\n",
    "import csv\n",
    "\n",
    "with open('amazon_jobs_dataset.csv', 'r', encoding='utf-8') as file_obj:\n",
    "    data = csv.DictReader(file_obj, skipinitialspace=True)\n",
    "\n",
    "    canada_openings = 0\n",
    "\n",
    "    for row in data:\n",
    "        location =(\"CA\" in row['location'].split(','))\n",
    "        if location:\n",
    "            canada_openings += 1\n",
    "\n",
    "print(\"Number of job openings in Canada:\", canada_openings)"
   ]
  },
  {
   "cell_type": "code",
   "execution_count": 10,
   "id": "47cd772d-8c15-4152-bdef-960d8641590e",
   "metadata": {},
   "outputs": [
    {
     "name": "stdout",
     "output_type": "stream",
     "text": [
      "Month having most job openings in Year 2018  January   907\n"
     ]
    }
   ],
   "source": [
    "# Job Month 2018\n",
    "# Find the month having most job openings in year 2018\n",
    "# Job openings Canada\n",
    "\n",
    "import csv\n",
    "\n",
    "with open('amazon_jobs_dataset.csv', 'r', encoding='utf-8') as file_obj:\n",
    "    data = csv.DictReader(file_obj, skipinitialspace=True)\n",
    "\n",
    "    month_openings={}\n",
    "    \n",
    "    for row in data:\n",
    "        date =row['Posting_date']\n",
    "        if '2018' in date:\n",
    "            posting_date =date.split(',')\n",
    "            month = posting_date[0].split()[0]\n",
    "            month_openings[month] = month_openings.get(month,0)+1\n",
    "\n",
    "month = max(month_openings, key=month_openings.get)\n",
    "\n",
    "print(\"Month having most job openings in Year 2018 \",month,\" \",month_openings[month] )"
   ]
  },
  {
   "cell_type": "code",
   "execution_count": 11,
   "id": "671c0607-c2cd-4bf8-b48e-0468b4bc19b4",
   "metadata": {},
   "outputs": [
    {
     "name": "stdout",
     "output_type": "stream",
     "text": [
      "Total Jobs for Bachelors Degree is:   3217\n"
     ]
    }
   ],
   "source": [
    "# Job Degree\n",
    "# Bachelor degree as basic qualification\n",
    "\n",
    "import csv\n",
    "\n",
    "with open('amazon_jobs_dataset.csv', 'r', encoding='utf-8') as file_obj:\n",
    "    data = csv.DictReader(file_obj, skipinitialspace=True)\n",
    "\n",
    "    total_positions=0\n",
    "    \n",
    "    for row in data:\n",
    "        basic_qualification = row['BASIC QUALIFICATIONS'].lower()\n",
    "        if (\"bachelor\" in basic_qualification) or (\"bs\" in basic_qualification ) or \"ba\" in basic_qualification:\n",
    "            total_positions+=1\n",
    "\n",
    "print(\"Total Jobs for Bachelors Degree is:  \",total_positions )"
   ]
  },
  {
   "cell_type": "code",
   "execution_count": 13,
   "id": "2d21c5fd-33a9-430d-aa25-1c709c33a094",
   "metadata": {},
   "outputs": [
    {
     "name": "stdout",
     "output_type": "stream",
     "text": [
      "Java 126\n",
      "C++ 86\n",
      "Python 37\n"
     ]
    }
   ],
   "source": [
    "# Language Jobs\n",
    "import csv\n",
    "\n",
    "with open('amazon_jobs_dataset.csv','r',encoding='utf-8') as file_obj:\n",
    "    data = csv.DictReader(file_obj,skipinitialspace=True)\n",
    "\n",
    "    lang_openings={}\n",
    "\n",
    "    for row in data:\n",
    "        basic_qualification = row['BASIC QUALIFICATIONS']\n",
    "        location = row['location']\n",
    "        isIndia=False\n",
    "        if ('India' in location) or \"IN\" in location:\n",
    "            isIndia =True\n",
    "        if isIndia and ((\"Bachelor\" in basic_qualification) or (\"BS\" in basic_qualification ) or (\"BA\" in basic_qualification)):\n",
    "            if 'Java' in basic_qualification:\n",
    "                lang_openings['Java']=lang_openings.get('Java',0)+1\n",
    "            if 'C++' in basic_qualification:\n",
    "                lang_openings['C++']=lang_openings.get('C++',0)+1\n",
    "            if 'Python' in basic_qualification:\n",
    "                lang_openings['Python']=lang_openings.get('Python',0)+1\n",
    "\n",
    "for key,value in lang_openings.items():\n",
    "    print(key,value)\n",
    "\n",
    "# print(max(lang_openings,key=lang_openings.get))"
   ]
  },
  {
   "cell_type": "code",
   "execution_count": 14,
   "id": "86fc0429-4203-4db3-b665-eef50f96e6ab",
   "metadata": {},
   "outputs": [
    {
     "name": "stdout",
     "output_type": "stream",
     "text": [
      "US, WA, Seattle  1310\n"
     ]
    }
   ],
   "source": [
    "# Language Jobs\n",
    "\n",
    "import csv\n",
    "\n",
    "with open('amazon_jobs_dataset.csv','r',encoding='utf-8') as file_obj:\n",
    "    data = csv.DictReader(file_obj,skipinitialspace=True)\n",
    "\n",
    "    amazon_country_openings={}\n",
    "    for row in data:\n",
    "        basic_qualification = row['BASIC QUALIFICATIONS']\n",
    "        location = row['location']\n",
    "        if 'Java' in basic_qualification:\n",
    "            amazon_country_openings[location]=amazon_country_openings.get(location,0)+1\n",
    "\n",
    "\n",
    "loc=max(amazon_country_openings,key=amazon_country_openings.get)\n",
    "print(loc,amazon_country_openings[loc])"
   ]
  }
 ],
 "metadata": {
  "kernelspec": {
   "display_name": "Python 3 (ipykernel)",
   "language": "python",
   "name": "python3"
  },
  "language_info": {
   "codemirror_mode": {
    "name": "ipython",
    "version": 3
   },
   "file_extension": ".py",
   "mimetype": "text/x-python",
   "name": "python",
   "nbconvert_exporter": "python",
   "pygments_lexer": "ipython3",
   "version": "3.11.3"
  }
 },
 "nbformat": 4,
 "nbformat_minor": 5
}
