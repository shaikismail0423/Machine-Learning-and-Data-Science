{
 "cells": [
  {
   "cell_type": "markdown",
   "id": "581e3bdb-8e20-4275-b610-db5f95983235",
   "metadata": {},
   "source": [
    "# Advanced Python"
   ]
  },
  {
   "cell_type": "markdown",
   "id": "5424680c-ca1f-4127-b7b3-ee9e32dca0f2",
   "metadata": {},
   "source": [
    "- **OOps (Object Oriented Programming):** \n",
    "  - Paradigm for organizing and structuring code based on objects.\n",
    "  \n",
    "- **Real World Objects (e.g., Pen):**\n",
    "  - Properties: Height, color, weight, width.\n",
    "  - Behaviors: Writing, refilling.\n",
    "\n",
    "- **Every Object Has:**\n",
    "  - Properties\n",
    "  - Behavior\n",
    "\n",
    "- **Class:**\n",
    "  - Defines properties and behaviors.\n",
    "  - Serves as a blueprint for objects.\n",
    "\n",
    "- **Object:**\n",
    "  - A specific instance of a class.\n",
    "  - Represents a distinct, real-world entity.\n"
   ]
  },
  {
   "cell_type": "code",
   "execution_count": 1,
   "id": "394ee191-c1a3-4436-a747-17cedf2b4f65",
   "metadata": {},
   "outputs": [
    {
     "name": "stdout",
     "output_type": "stream",
     "text": [
      "<class 'int'>\n",
      "<class 'list'>\n"
     ]
    }
   ],
   "source": [
    "a=10\n",
    "print(type(a))\n",
    "\n",
    "l=[1,2,3,4]\n",
    "print(type(l))"
   ]
  },
  {
   "cell_type": "code",
   "execution_count": 2,
   "id": "e5523d80-91a8-4623-84cc-4812f9335145",
   "metadata": {},
   "outputs": [
    {
     "ename": "SyntaxError",
     "evalue": "incomplete input (3104358622.py, line 3)",
     "output_type": "error",
     "traceback": [
      "\u001b[1;36m  Cell \u001b[1;32mIn[2], line 3\u001b[1;36m\u001b[0m\n\u001b[1;33m    # python wont allow this\u001b[0m\n\u001b[1;37m                            ^\u001b[0m\n\u001b[1;31mSyntaxError\u001b[0m\u001b[1;31m:\u001b[0m incomplete input\n"
     ]
    }
   ],
   "source": [
    "class Student:\n",
    "\n",
    "# python wont allow this"
   ]
  },
  {
   "cell_type": "markdown",
   "id": "84188844-0f6b-46d4-b2c3-04e96eae20f5",
   "metadata": {},
   "source": [
    "## Different kinds of attributes\n",
    "\n",
    "### Instance Attributes:\n",
    "- Instance attributes are unique to each instance (object) of the class <br/>\n",
    "- They are defined inside the class's methods, typically within the __init__ method, which is the constructor for the class<br/>\n",
    "- Each instance can have different values for these attributes. <br/>\n",
    "- They represent the state of individual objects and allow each object to have its own set of data. <br/>\n",
    "- Accessing instance attributes is done using the dot notation with the object's name. <br/>\n",
    "\n",
    "### Class Attributes:\n",
    "\n",
    "- Class attributes are shared by all instances of the class.<br/>\n",
    "- They are defined directly inside the class, outside of any class method.<br/>\n",
    "- Class attributes represent characteristics that are common to all objects of the class.<br/>\n",
    "- Modifying a class attribute will affect all instances of that class.<br/>\n",
    "- Accessing class attributes can be done using either the class name or any instance of the class.<br/>\n",
    "- python can have different instance attributes for each object as per our requirements"
   ]
  },
  {
   "cell_type": "code",
   "execution_count": 9,
   "id": "7d15dba5-ca47-40cd-9f8c-0a2d2bf9da1f",
   "metadata": {},
   "outputs": [
    {
     "name": "stdout",
     "output_type": "stream",
     "text": [
      "{'name': 'Subash Chandra Bose', 'age': 23}\n",
      "{'roll_no': 101}\n",
      "{}\n"
     ]
    }
   ],
   "source": [
    "class Student:\n",
    "    # class Attributes\n",
    "    pass\n",
    "\n",
    "s1=Student()\n",
    "s2=Student()\n",
    "s3=Student()\n",
    "# in python, each object stores a dicionary for attributes and their values\n",
    "# it can be acessed by object_name.__dict__\n",
    "\n",
    "s1.name=\"Subash Chandra Bose\"\n",
    "s1.age =23\n",
    "s2.roll_no=101\n",
    "\n",
    "print(s1.__dict__)\n",
    "print(s2.__dict__)\n",
    "print(s3.__dict__)"
   ]
  },
  {
   "cell_type": "code",
   "execution_count": 10,
   "id": "9f589929-a32c-4349-b15e-48528182a0ad",
   "metadata": {},
   "outputs": [
    {
     "name": "stdout",
     "output_type": "stream",
     "text": [
      "Subash Chandra Bose\n"
     ]
    }
   ],
   "source": [
    "print(s1.name)"
   ]
  },
  {
   "cell_type": "code",
   "execution_count": 11,
   "id": "297f5dbb-187b-43f3-b689-7e82401c80e0",
   "metadata": {},
   "outputs": [
    {
     "ename": "AttributeError",
     "evalue": "'Student' object has no attribute 'name'",
     "output_type": "error",
     "traceback": [
      "\u001b[1;31m---------------------------------------------------------------------------\u001b[0m",
      "\u001b[1;31mAttributeError\u001b[0m                            Traceback (most recent call last)",
      "Cell \u001b[1;32mIn[11], line 1\u001b[0m\n\u001b[1;32m----> 1\u001b[0m \u001b[38;5;28mprint\u001b[39m(\u001b[43ms2\u001b[49m\u001b[38;5;241;43m.\u001b[39;49m\u001b[43mname\u001b[49m) \u001b[38;5;66;03m#name s1 instance variable\u001b[39;00m\n",
      "\u001b[1;31mAttributeError\u001b[0m: 'Student' object has no attribute 'name'"
     ]
    }
   ],
   "source": [
    "print(s2.name) #name s1 instance variable"
   ]
  },
  {
   "cell_type": "markdown",
   "id": "b9576141-5963-4d77-a078-e7dc31969b64",
   "metadata": {},
   "source": [
    "### Attributes and Object Manipulation\r\n",
    "\r\n",
    "In Python, attributes are properties or characteristics associated with an object. Here are some useful functions to interact with object attributes:\r\n",
    "\r\n",
    "1. `hasattr(object, \"attr\")`: This function checks if the given attribute (`attr`) exists in the specified `object`. It returns `True` if the attribute is found, and `False` otherwise.\r\n",
    "\r\n",
    "2. `setattr(object, \"attr\", value)`: This function sets the value of the attribute (`attr`) for the given `object`. If the attribute already exists, its value will be updated with the provided `value`. If the attribute does not exist, a new attribute will be created with the specified value.\r\n",
    "\r\n",
    "3. `delattr(object, \"attr\")`: This function deletes the specified attribute (`attr`) from the given `object`. If the attribute is not found, a `AttributeError` will be raised.\r\n",
    "\r\n",
    "4. `getattr(object, \"attr\", def_val)`: This function attempts to retrieve the value of the specified attribute (`attr`) from the given `object`. If the attribute exists, its value is returned. If the attribute is not found and a `def_val` (default value) is provided, the `def_val` is returned. However, if no `def_val` is provided and the attribute is not present, a `AttributeError` will be raised indicating that the attribute doesn't exist.\r\n",
    "\r\n",
    "Remember to enclose the attribute names in quotes as strings when using these functions."
   ]
  },
  {
   "cell_type": "code",
   "execution_count": 12,
   "id": "71f47a16-84a6-4ca5-9640-7060e96cf588",
   "metadata": {},
   "outputs": [
    {
     "name": "stdout",
     "output_type": "stream",
     "text": [
      "True\n",
      "Subash Chandra Bose\n"
     ]
    }
   ],
   "source": [
    "print(hasattr(s1,\"name\"))\n",
    "print(getattr(s1,\"name\",\"No name\"))\n",
    "delattr(s1,\"name\")"
   ]
  },
  {
   "cell_type": "code",
   "execution_count": 13,
   "id": "c0aa79ea-bdbf-401d-b895-78d98d065a26",
   "metadata": {},
   "outputs": [
    {
     "name": "stdout",
     "output_type": "stream",
     "text": [
      "False\n"
     ]
    }
   ],
   "source": [
    "print(hasattr(s1,\"name\"))"
   ]
  },
  {
   "cell_type": "code",
   "execution_count": 15,
   "id": "847f9b0e-0a8a-4b79-a032-8957211d65ed",
   "metadata": {},
   "outputs": [
    {
     "name": "stdout",
     "output_type": "stream",
     "text": [
      "{'name': 'Ismail Abilash', 'age': 21, 'gender': 'male'}\n"
     ]
    }
   ],
   "source": [
    "class sampleclass:\n",
    "    pass\n",
    "\n",
    "s1=sampleclass()\n",
    "setattr(s1,\"name\",\"Ismail Abilash\")\n",
    "setattr(s1,\"age\",21)\n",
    "s1.gender=\"male\"\n",
    "\n",
    "print(s1.__dict__)"
   ]
  },
  {
   "cell_type": "code",
   "execution_count": 17,
   "id": "fa230f08-f6a6-40fe-8b75-acd0ac1196d4",
   "metadata": {},
   "outputs": [
    {
     "name": "stdout",
     "output_type": "stream",
     "text": [
      "20\n",
      "{'__module__': '__main__', '__dict__': <attribute '__dict__' of 'Student' objects>, '__weakref__': <attribute '__weakref__' of 'Student' objects>, '__doc__': None, 'totalStudents': 20}\n"
     ]
    }
   ],
   "source": [
    "# Class Attributes\n",
    "# on the fly we can create class attributes\n",
    "\n",
    "Student.totalStudents=20\n",
    "print(Student.totalStudents)\n",
    "print(Student.__dict__) # unlike java and cpp, any attribut added inside class is class attribute"
   ]
  },
  {
   "cell_type": "code",
   "execution_count": 19,
   "id": "b2bf5eba-6416-466d-b529-7ba526821d58",
   "metadata": {},
   "outputs": [
    {
     "name": "stdout",
     "output_type": "stream",
     "text": [
      "{'__module__': '__main__', 'total_students': 29, 'teacher_name': 'Saraswathi', '__dict__': <attribute '__dict__' of 'Student' objects>, '__weakref__': <attribute '__weakref__' of 'Student' objects>, '__doc__': None}\n",
      "29\n",
      "{'name': 'Ismail', 'age': 21}\n"
     ]
    }
   ],
   "source": [
    "class Student: \n",
    "    total_students=29\n",
    "    teacher_name=\"Saraswathi\"\n",
    "    \n",
    "s1=Student()\n",
    "s2=Student()\n",
    "\n",
    "s1.name=\"Ismail\"\n",
    "s1.age =21\n",
    "\n",
    "s2.roll_no=123004221\n",
    "\n",
    "print(Student.__dict__)\n",
    "\n",
    "# can be accessed with objects\n",
    "\n",
    "print(s1.total_students)\n",
    "print(s1.__dict__)\n"
   ]
  },
  {
   "cell_type": "code",
   "execution_count": 20,
   "id": "8084588d-c6de-42c2-a66c-a67b315f7caf",
   "metadata": {},
   "outputs": [
    {
     "name": "stdout",
     "output_type": "stream",
     "text": [
      "{'__module__': '__main__', 'total_students': 40, 'teacher_name': 'Saraswathi', '__dict__': <attribute '__dict__' of 'Student' objects>, '__weakref__': <attribute '__weakref__' of 'Student' objects>, '__doc__': None}\n",
      "\n",
      "{'name': 'Ismail', 'age': 21, 'total_students': 13}\n",
      "\n",
      "{'roll_no': 123004221}\n",
      "\n",
      "{}\n",
      "\n",
      "{'__module__': '__main__', 'total_students': 40, 'teacher_name': 'Saraswathi', '__dict__': <attribute '__dict__' of 'Student' objects>, '__weakref__': <attribute '__weakref__' of 'Student' objects>, '__doc__': None}\n"
     ]
    }
   ],
   "source": [
    "Student.total_students = 40\n",
    "print(Student.__dict__)\n",
    "\n",
    "s1.total_students=13 #if object tries to change the class attribute,the value is not changed, it creates its own variable and assigns\n",
    "print()\n",
    "# instead same named object attribute is created\n",
    "print(s1.__dict__)\n",
    "print()\n",
    "print(s2.__dict__)\n",
    "print()\n",
    "print(s3.__dict__)\n",
    "print()\n",
    "print(Student.__dict__)"
   ]
  },
  {
   "cell_type": "markdown",
   "id": "ad86da8a-9038-426b-b7bf-0932396f306b",
   "metadata": {},
   "source": [
    "In Python, there are three main types of methods that can be defined in a class:\r\n",
    "\r\n",
    "1. **Instance Methods:**\r\n",
    "   - Instance methods are the most common type of methods in Python classes.\r\n",
    "   - They operate on instances (objects) of the class and have access to the instance's attributes and other methods.\r\n",
    "   - The first parameter of an instance method is usually `self`, which refers to the instance on which the method is called.\r\n",
    "   - Instance methods can modify the state of the instance or perform specific actions related to the instance.\r\n",
    "   - They are defined like regular functions inside the class.\r\n",
    "\r\n",
    "Example:\r\n",
    "```python\r\n",
    "class MyClass:\r\n",
    "    def instance_method(self):\r\n",
    "        print(\"This is an instance method.\")\r\n",
    "\r\n",
    "obj = MyClass()\r\n",
    "obj.instance_method()  # Output: \"This is an instance method.\"\r\n",
    "```\r\n",
    "\r\n",
    "2. **Class Methods:**\r\n",
    "   - Class methods are methods that are bound to the class and not the instance.\r\n",
    "   - They are defined using the `@classmethod` decorator and take the class as the first parameter, commonly named as `cls`.\r\n",
    "   - Class methods can access and modify class-level attributes but not instance-level attributes directly.\r\n",
    "   - They are often used for factory methods or for actions that involve the entire class rather than a specific instance.\r\n",
    "\r\n",
    "Example:\r\n",
    "```python\r\n",
    "class MyClass:\r\n",
    "    class_attr = 0\r\n",
    "    \r\n",
    "    @classmethod\r\n",
    "    def class_method(cls):\r\n",
    "        print(\"This is a class method.\")\r\n",
    "        print(\"Class attribute:\", cls.class_attr)\r\n",
    "\r\n",
    "MyClass.class_method()  # Output: \"This is a class method.\" | \"Class attribute: 0\"\r\n",
    "```\r\n",
    "\r\n",
    "3. **Static Methods:**\r\n",
    "   - Static methods are methods that do not depend on the instance or class and behave like regular functions within a class.\r\n",
    "   - They are defined using the `@staticmethod` decorator and do not take `self` or `cls` as the first parameter.\r\n",
    "   - Static methods are not associated with any specific instance or class and do not have access to instance or class-level attributes.\r\n",
    "   - They are used when a method is related to the class but does not need any specific instance or class information.\r\n",
    "\r\n",
    "Example:\r\n",
    "```python\r\n",
    "class MyClass:\r\n",
    "    @staticmethod\r\n",
    "    def static_method():\r\n",
    "        print(\"This is a static method.\")\r\n",
    "\r\n",
    "MyClass.static_method()  # Output: \"This is a static method.\"\r\n",
    "```\r\n",
    "\r\n",
    "In summary, Python supports three types of methods in classes: instance methods, class methods, and static methods. Each type serves different purposes and provides different levels of access to instance and class attributes."
   ]
  },
  {
   "cell_type": "code",
   "execution_count": 22,
   "id": "65b3613c-7249-4626-a2e0-66f35e306a22",
   "metadata": {},
   "outputs": [],
   "source": [
    "class Student:\n",
    "    # class Attributes \n",
    "    total_students=29\n",
    "    teacher_name=\"Saraswathi\"\n",
    "\n",
    "    # Any method added inside the class are instance methods\n",
    "\n",
    "    # in cpp we have this, in python in self and every instance method should have self\n",
    "    def printHello(self):\n",
    "        print(\"Namaste\")"
   ]
  },
  {
   "cell_type": "code",
   "execution_count": 23,
   "id": "aa998320-afb1-4b7b-9e24-feab265b605d",
   "metadata": {},
   "outputs": [
    {
     "name": "stdout",
     "output_type": "stream",
     "text": [
      "29\n",
      "Saraswathi\n",
      "Namaste\n"
     ]
    }
   ],
   "source": [
    "\n",
    "# Creating an instance (object) of the Student class\n",
    "s1 = Student()\n",
    "\n",
    "# Accessing class attributes\n",
    "print(s1.total_students)  # Output: 29\n",
    "print(s1.teacher_name)    # Output: \"Catherine\"\n",
    "\n",
    "# Calling the instance method\n",
    "s1.printHello()           # Output: \"Hello\"\n",
    "# this line above is intrepeted as Student.printHello(s1) : internally s1 is passed"
   ]
  },
  {
   "cell_type": "code",
   "execution_count": 24,
   "id": "d494f20d-957e-4f4b-a1b5-30aaad8b9045",
   "metadata": {},
   "outputs": [],
   "source": [
    "class Student:\n",
    "    # class Attributes\n",
    "    total_students=29\n",
    "    teacher_name=\"Catherine\"\n",
    "\n",
    "    def printHello(self):\n",
    "        print(\"Hello\")\n",
    "\n",
    "    # self should be first argument\n",
    "    def printString(self,str):\n",
    "        print(\"Hello\",str)\n",
    "\n",
    "    def printName(self):\n",
    "        name=\"abc\"\n",
    "        # here name is intrepete as local as we need to keep self.name\n",
    "        print(self.name)\n",
    "        "
   ]
  },
  {
   "cell_type": "code",
   "execution_count": 25,
   "id": "045688cf-d4b2-4901-ab09-90004ba98640",
   "metadata": {},
   "outputs": [
    {
     "name": "stdout",
     "output_type": "stream",
     "text": [
      "Hello\n",
      "Hello Ismail\n"
     ]
    }
   ],
   "source": [
    "s1=Student()\n",
    "s1.printHello()\n",
    "s1.printString(\"Ismail\")\n"
   ]
  },
  {
   "cell_type": "code",
   "execution_count": 26,
   "id": "a75731d7-11da-41df-a67d-cdb746797af0",
   "metadata": {},
   "outputs": [
    {
     "ename": "TypeError",
     "evalue": "Student.printHello() missing 1 required positional argument: 'self'",
     "output_type": "error",
     "traceback": [
      "\u001b[1;31m---------------------------------------------------------------------------\u001b[0m",
      "\u001b[1;31mTypeError\u001b[0m                                 Traceback (most recent call last)",
      "Cell \u001b[1;32mIn[26], line 1\u001b[0m\n\u001b[1;32m----> 1\u001b[0m \u001b[43mStudent\u001b[49m\u001b[38;5;241;43m.\u001b[39;49m\u001b[43mprintHello\u001b[49m\u001b[43m(\u001b[49m\u001b[43m)\u001b[49m ,\u001b[38;5;66;03m# we need to send explicity the reference of a object if we want acess using oject\u001b[39;00m\n",
      "\u001b[1;31mTypeError\u001b[0m: Student.printHello() missing 1 required positional argument: 'self'"
     ]
    }
   ],
   "source": [
    "Student.printHello() ,# we need to send explicity the reference of a object if we want acess using oject"
   ]
  },
  {
   "cell_type": "code",
   "execution_count": 27,
   "id": "26a7ba38-003e-493f-9a99-3b60342ba501",
   "metadata": {},
   "outputs": [
    {
     "name": "stdout",
     "output_type": "stream",
     "text": [
      "Hello\n"
     ]
    }
   ],
   "source": [
    "Student.printHello(s1)"
   ]
  },
  {
   "cell_type": "code",
   "execution_count": 28,
   "id": "47c01ca7-e476-4d50-a57a-16c8c8a40b0d",
   "metadata": {},
   "outputs": [
    {
     "name": "stdout",
     "output_type": "stream",
     "text": [
      "Abilash\n"
     ]
    }
   ],
   "source": [
    "s1.name=\"Abilash\"\n",
    "\n",
    "s1.printName()"
   ]
  },
  {
   "cell_type": "code",
   "execution_count": 29,
   "id": "f3b684f1-2b4e-4020-9b61-c3461ba1d394",
   "metadata": {},
   "outputs": [],
   "source": [
    "class Student:\n",
    "    # class Attributes \n",
    "    total_students=29\n",
    "    teacher_name=\"Saraswathi\"\n",
    "\n",
    "    # instance methods\n",
    "\n",
    "    def printHello(self):\n",
    "        print(\"Hello\")\n",
    "\n",
    "    def addName(self,name):\n",
    "        self.name = name #check if present or not, if present update else adding new attribute\n",
    "        \n",
    "    def printString(self,str):\n",
    "        print(\"Hello\",str)\n",
    "\n",
    "    def printName(self):\n",
    "        name=\"abc\" \n",
    "        print(self.name)\n",
    "        "
   ]
  },
  {
   "cell_type": "code",
   "execution_count": 30,
   "id": "ede34d33-7031-4eac-a2d1-b5e2ad355a38",
   "metadata": {},
   "outputs": [
    {
     "name": "stdout",
     "output_type": "stream",
     "text": [
      "{'name': 'Ismail'}\n"
     ]
    }
   ],
   "source": [
    "s1=Student()\n",
    "s1.addName(\"Ismail\")\n",
    "\n",
    "print(s1.__dict__)\n"
   ]
  },
  {
   "cell_type": "markdown",
   "id": "c6c90ba9-2407-4f73-895c-8c17cd719470",
   "metadata": {},
   "source": [
    "# Constructors in Python\n",
    "A constructor is a special method or instance method used to initialize the properties of objects. It is called as soon as a new object is created. For example:\n",
    "```python\n",
    "s1 = Student()\n",
    "```\n",
    "In the above example, when `s1` is created using the `Student()` class, the constructor associated with the `Student` class will be automatically called to set up the initial state of the `s1` object.\n",
    "\n",
    "If a class does not define a specific constructor, Python provides a default constructor that takes no arguments. This default constructor initializes the object with default values for its attributes. However, we can create your own custom constructor to provide specific initial values for the object's properties.\n",
    "\n",
    "`__init__` is a special method in Python classes, known as the constructor. It is automatically called when an object of the class is created. The primary purpose of the `__init__` method is to initialize the object's attributes or properties with specific values.\r",
    "in Python classes."
   ]
  },
  {
   "cell_type": "code",
   "execution_count": 31,
   "id": "984340b9-9ddd-44d7-93dd-bc871302543e",
   "metadata": {},
   "outputs": [],
   "source": [
    "class Student:\n",
    "    # Class Attributes\n",
    "    total_students = 29\n",
    "    teacher_name = \"Saraswathi\"\n",
    "    \n",
    "    #As soon as we create a constructor, default is vanished. we can give default values too\n",
    "    # Constructor with default values\n",
    "    def __init__(self, name, age, rollNumber, *args):\n",
    "        self.__name = name  # Private attribute\n",
    "        self.age = age\n",
    "        self.rollNumber = rollNumber\n",
    "        \n",
    "    # Getter method for private attribute __name\n",
    "    def getName(self):\n",
    "        return self.__name\n",
    "    \n",
    "    # Setter method for private attribute __name\n",
    "    def setName(self, name):\n",
    "        self.__name = name\n",
    "        \n",
    "    # Instance method - printHello\n",
    "    def printHello(self):\n",
    "        print(\"Hello\")\n",
    "        \n",
    "    # Instance method - addName\n",
    "    def addName(self, name):\n",
    "        self.name = name  # If present, update the attribute, else add a new attribute\n",
    "        \n",
    "    # Instance method - printString\n",
    "    def printString(self, string):\n",
    "        print(\"Hello\", string)\n",
    "        \n",
    "    # Instance method - printName\n",
    "    def printName(self):\n",
    "        name = \"abc\" \n",
    "        print(self.name)\n",
    "\n",
    "# There is no constructor overloading in python , \n",
    "# you have multipe input like *args"
   ]
  },
  {
   "cell_type": "code",
   "execution_count": 35,
   "id": "76abc8f4-1d0e-4e27-8f89-98fe316fd1a7",
   "metadata": {},
   "outputs": [],
   "source": [
    "# Creating instance properties using methods is not reccomended as we need to track the propeties which belongs to whom\n",
    "\n",
    "# use constructor to create and intialize"
   ]
  },
  {
   "cell_type": "code",
   "execution_count": 36,
   "id": "fd938076-fafb-4d67-87f0-6e5dbdbef2cf",
   "metadata": {},
   "outputs": [
    {
     "name": "stdout",
     "output_type": "stream",
     "text": [
      "{'_Student__name': 'ismail', 'age': 12, 'rollNumber': 123004}\n",
      "{'_Student__name': 'Abi', 'age': 16, 'rollNumber': 1204}\n"
     ]
    }
   ],
   "source": [
    "s1=Student(name=\"ismail\",rollNumber=123004,age=12)\n",
    "s2=Student(name=\"Niranjan\",rollNumber=1204,age=16)\n",
    "s2=Student(\"Abi\",rollNumber=1204,age=16)\n",
    "print(s1.__dict__)\n",
    "print(s2.__dict__)"
   ]
  },
  {
   "cell_type": "markdown",
   "id": "d448ffac-38e9-4398-a02b-2583e665e25b",
   "metadata": {},
   "source": [
    "# Acess Modifiers\n",
    "In Python, access modifiers are used to control the visibility and accessibility of class attributes and methods from outside the class. However, unlike some other programming languages like Java, Python does not have strict access control keywords like `public`, `private`, or `protected`. Instead, Python uses naming conventions to indicate the intended visibility of attributes and methods. The most commonly used conventions are:\n",
    "\n",
    "1. **Public:**\n",
    "   - By default, all attributes and methods in a class are considered public and can be accessed from outside the class.\n",
    "\n",
    "Example:\n",
    "```python\n",
    "class MyClass:\n",
    "    def __init__(self):\n",
    "        self.public_attribute = 10\n",
    "\n",
    "    def public_method(self):\n",
    "        return \"This is a public method.\"\n",
    "\n",
    "obj = MyClass()\n",
    "print(obj.public_attribute)    # Output: 10\n",
    "print(obj.public_method())     # Output: \"This is a public method.\"\n",
    "```\n",
    "\n",
    "2. **Protected:**\n",
    "   - Attributes and methods with names starting with a single underscore `_` are considered protected.\n",
    "   - While they can still be accessed from outside the class, it is a convention that these should be treated as internal and not directly accessed by external code.\n",
    "\n",
    "Example:\n",
    "```python\n",
    "class MyClass:\n",
    "    def __init__(self):\n",
    "        self._protected_attribute = 20\n",
    "\n",
    "    def _protected_method(self):\n",
    "        return \"This is a protected method.\"\n",
    "\n",
    "obj = MyClass()\n",
    "print(obj._protected_attribute)  # Output: 20\n",
    "print(obj._protected_method())   # Output: \"This is a protected method.\"\n",
    "```\n",
    "\n",
    "3. **Private:**\n",
    "   - Attributes and methods with names starting with double underscore `__` (double underscore) are considered private.\n",
    "   - Private attributes and methods are not intended to be accessed from outside the class directly.\n",
    "\n",
    "Example:\n",
    "```python\n",
    "class MyClass:\n",
    "    def __init__(self):\n",
    "        self.__private_attribute = 30\n",
    "\n",
    "    def __private_method(self):\n",
    "        return \"This is a private method.\"\n",
    "\n",
    "obj = MyClass()\n",
    "# Accessing private attributes/methods directly results in AttributeError:\n",
    "# print(obj.__private_attribute)    # AttributeError: 'MyClass' object has no attribute '__private_attribute'\n",
    "# print(obj.__private_method())     # AttributeError: 'MyClass' object has no attribute '__private_method'\n",
    "\n",
    "# Private attributes/methods can be accessed using name mangling:\n",
    "print(obj._MyClass__private_attribute)  # Output: 30\n",
    "print(obj._MyClass__private_method())   # Output: \"This is a private method.\"\n",
    "```\n",
    "\n",
    "It's important to note that Python naming conventions for access modifiers are not strict rules enforced by the language itself, but rather conventions followed by developers to indicate the intended visibility of attributes and methods. Users of a class should respect these conventions to maintain code readability and avoid unintended access to internal components of the class."
   ]
  },
  {
   "cell_type": "code",
   "execution_count": 40,
   "id": "300bdb5b-48b2-4612-81cf-40f3a0c54f54",
   "metadata": {},
   "outputs": [
    {
     "name": "stdout",
     "output_type": "stream",
     "text": [
      "12\n",
      "123004\n",
      "himam\n",
      "himam\n",
      "ismail\n",
      "{'_Student__name': 'himam', 'age': 12, 'rollNumber': 123004, '__name': 'ismail'}\n"
     ]
    }
   ],
   "source": [
    "print(s1.age)\n",
    "print(s1.rollNumber)\n",
    "print(s1.getName())\n",
    "s1.setName(\"himam\")\n",
    "print(s1.getName())\n",
    "s1.__name=\"ismail\" #here\n",
    "\n",
    "print(s1.__name) #we cant directly acess but we have intialized above so. it created a instance variable specific to s1\n",
    "print(s1.__dict__)"
   ]
  },
  {
   "cell_type": "code",
   "execution_count": 43,
   "id": "b9909499-3c24-4adf-91eb-a55e063a2961",
   "metadata": {},
   "outputs": [
    {
     "name": "stdout",
     "output_type": "stream",
     "text": [
      "Kiran Abbavaram\n"
     ]
    }
   ],
   "source": [
    "class Student:\n",
    "    def __init__(self, name):\n",
    "        self.__name = name  # Private attribute using name mangling\n",
    "\n",
    "s1 = Student(\"Kiran Abbavaram\")\n",
    "\n",
    "# Accessing the private attribute using name mangling\n",
    "print(s1._Student__name)\n"
   ]
  },
  {
   "cell_type": "code",
   "execution_count": 45,
   "id": "90d3cdb2-c15c-4c7b-9682-9a6a38e35bb2",
   "metadata": {},
   "outputs": [
    {
     "name": "stdout",
     "output_type": "stream",
     "text": [
      "1\n",
      "{'x': 1, '_A__y': 1, '__y': 45}\n",
      "45\n"
     ]
    }
   ],
   "source": [
    "class A:\n",
    "    def __init__(self):\n",
    "        self.x=1\n",
    "        self.__y=1\n",
    "        \n",
    "    def getY(self):\n",
    "        return self.__y\n",
    "\n",
    "a=A()\n",
    "a.__y=45 #instance variable\n",
    "print(a.getY())\n",
    "print(a.__dict__)\n",
    "print(a.__y) #its not private, thats why it can accessed\n",
    "\n",
    "# __y and _A__y are different"
   ]
  },
  {
   "cell_type": "code",
   "execution_count": 49,
   "id": "3993b5e7-048b-4245-8d50-ebdaf14b3275",
   "metadata": {},
   "outputs": [
    {
     "name": "stdout",
     "output_type": "stream",
     "text": [
      "100% [................................................................................] 6737 / 6737sample-7766 (1).txt\n"
     ]
    }
   ],
   "source": [
    "import wget\n",
    "\n",
    "url = 'https://files.codingninjas.in/sample-7766.txt'\n",
    "filename = wget.download(url)\n",
    "print(filename)"
   ]
  },
  {
   "cell_type": "code",
   "execution_count": 69,
   "id": "32141834-36de-4633-80ac-261979a2fcad",
   "metadata": {},
   "outputs": [],
   "source": [
    "file_obj = open('sample-7766.txt', 'r')  "
   ]
  },
  {
   "cell_type": "markdown",
   "id": "951bdf64-56cf-4cb7-959e-e39b64608f97",
   "metadata": {},
   "source": [
    "## Reading Text Files\n",
    "### read()\n",
    "By default the read() method returns the whole text"
   ]
  },
  {
   "cell_type": "code",
   "execution_count": 70,
   "id": "9099dfe5-ac14-4f02-add4-b8bc6b8a1389",
   "metadata": {},
   "outputs": [
    {
     "data": {
      "text/plain": [
       "str"
      ]
     },
     "execution_count": 70,
     "metadata": {},
     "output_type": "execute_result"
    }
   ],
   "source": [
    "type(data)"
   ]
  },
  {
   "cell_type": "code",
   "execution_count": 50,
   "id": "ca304f98-47cd-4093-a1d7-bb954b8089c1",
   "metadata": {},
   "outputs": [
    {
     "name": "stdout",
     "output_type": "stream",
     "text": [
      "Lorem ipsu\n"
     ]
    }
   ],
   "source": [
    "# Open the file in read mode\n",
    "file_obj = open('sample-7766.txt', 'r')\n",
    "\n",
    "# Read the first 10 bytes from the file\n",
    "data2 = file_obj.read(10)  # If the number of bytes is not given, it reads the entire file\n",
    "\n",
    "# Print the content read from the file\n",
    "print(data2)\n",
    "\n",
    "# Close the file\n",
    "file_obj.close()\n"
   ]
  },
  {
   "cell_type": "code",
   "execution_count": 51,
   "id": "440b1fd2-f318-488c-8f0a-bf8c1344d5cf",
   "metadata": {},
   "outputs": [
    {
     "name": "stdout",
     "output_type": "stream",
     "text": [
      "Lorem ipsum dolor sit amet, consectetur adipiscing elit. Vivamus condimentum sagittis lacus, laoreet luctus ligula laoreet ut. Vestibulum ullamcorper accumsan velit vel vehicula. Proin tempor lacus arcu. Nunc at elit condimentum, semper nisi et, condimentum mi. In venenatis blandit nibh at sollicitudin. Vestibulum dapibus mauris at orci maximus pellentesque. Nullam id elementum ipsum. Suspendisse cursus lobortis viverra. Proin et erat at mauris tincidunt porttitor vitae ac dui.\n",
      "\n",
      "Donec vulputate lorem tortor, nec fermentum nibh bibendum vel. Lorem ipsum dolor sit amet, consectetur adipiscing elit. Praesent dictum luctus massa, non euismod lacus. Pellentesque condimentum dolor est, ut dapibus lectus luctus ac. Ut sagittis commodo arcu. Integer nisi nulla, facilisis sit amet nulla quis, eleifend suscipit purus. Class aptent taciti sociosqu ad litora torquent per conubia nostra, per inceptos himenaeos. Aliquam euismod ultrices lorem, sit amet imperdiet est tincidunt vel. Phasellus dictum justo sit amet ligula varius aliquet auctor et metus. Fusce vitae tortor et nisi pulvinar vestibulum eget in risus. Donec ante ex, placerat a lorem eget, ultricies bibendum purus. Nam sit amet neque non ante laoreet rutrum. Nullam aliquet commodo urna, sed ullamcorper odio feugiat id. Mauris nisi sapien, porttitor in condimentum nec, venenatis eu urna. Pellentesque feugiat diam est, at rhoncus orci porttitor non.\n",
      "\n",
      "Nulla luctus sem sit amet nisi consequat, id ornare ipsum dignissim. Sed elementum elit nibh, eu condimentum orci viverra quis. Aenean suscipit vitae felis non suscipit. Suspendisse pharetra turpis non eros semper dictum. Etiam tincidunt venenatis venenatis. Praesent eget gravida lorem, ut congue diam. Etiam facilisis elit at porttitor egestas. Praesent consequat, velit non vulputate convallis, ligula diam sagittis urna, in venenatis nisi justo ut mauris. Vestibulum posuere sollicitudin mi, et vulputate nisl fringilla non. Nulla ornare pretium velit a euismod. Nunc sagittis venenatis vestibulum. Nunc sodales libero a est ornare ultricies. Sed sed leo sed orci pellentesque ultrices. Mauris sollicitudin, sem quis placerat ornare, velit arcu convallis ligula, pretium finibus nisl sapien vel sem. Vivamus sit amet tortor id lorem consequat hendrerit. Nullam at dui risus.\n",
      "\n"
     ]
    }
   ],
   "source": [
    "# Open the file in read mode\n",
    "file_obj = open('sample-7766.txt', 'r')\n",
    "\n",
    "# Read the first line from the file\n",
    "print(file_obj.readline())\n",
    "\n",
    "# Read the second line from the file\n",
    "print(file_obj.readline())\n",
    "\n",
    "# Read up to 10000 characters from the current line\n",
    "# If the line has fewer than 10000 characters, it will return the entire line\n",
    "print(file_obj.readline(10000))\n",
    "\n",
    "# Close the file\n",
    "file_obj.close()\n"
   ]
  },
  {
   "cell_type": "code",
   "execution_count": 53,
   "id": "e638ad7d-4ef7-4445-a70d-964928b9db6c",
   "metadata": {},
   "outputs": [
    {
     "name": "stdout",
     "output_type": "stream",
     "text": [
      "<class 'list'>\n"
     ]
    }
   ],
   "source": [
    "# Open the file in read mode\n",
    "file_obj = open('sample-7766.txt', 'r')\n",
    "\n",
    "# Read the entire file and store its lines in a list\n",
    "file_data_in_list = file_obj.readlines()\n",
    "\n",
    "# Close the file\n",
    "file_obj.close()\n",
    "\n",
    "# Print the type of the variable holding the file lines (should be list)\n",
    "print(type(file_data_in_list))\n"
   ]
  },
  {
   "cell_type": "code",
   "execution_count": 54,
   "id": "035344bb-b557-404c-be4b-dcdf3b44e2a0",
   "metadata": {},
   "outputs": [
    {
     "name": "stdout",
     "output_type": "stream",
     "text": [
      "14\n"
     ]
    }
   ],
   "source": [
    "print(len(file_data_in_list))"
   ]
  },
  {
   "cell_type": "code",
   "execution_count": 55,
   "id": "826ea526-7286-4bb5-91df-51fe6f79551c",
   "metadata": {},
   "outputs": [
    {
     "data": {
      "text/plain": [
       "'Nulla luctus sem sit amet nisi consequat, id ornare ipsum dignissim. Sed elementum elit nibh, eu condimentum orci viverra quis. Aenean suscipit vitae felis non suscipit. Suspendisse pharetra turpis non eros semper dictum. Etiam tincidunt venenatis venenatis. Praesent eget gravida lorem, ut congue diam. Etiam facilisis elit at porttitor egestas. Praesent consequat, velit non vulputate convallis, ligula diam sagittis urna, in venenatis nisi justo ut mauris. Vestibulum posuere sollicitudin mi, et vulputate nisl fringilla non. Nulla ornare pretium velit a euismod. Nunc sagittis venenatis vestibulum. Nunc sodales libero a est ornare ultricies. Sed sed leo sed orci pellentesque ultrices. Mauris sollicitudin, sem quis placerat ornare, velit arcu convallis ligula, pretium finibus nisl sapien vel sem. Vivamus sit amet tortor id lorem consequat hendrerit. Nullam at dui risus.\\n'"
      ]
     },
     "execution_count": 55,
     "metadata": {},
     "output_type": "execute_result"
    }
   ],
   "source": [
    "file_data_in_list[2]"
   ]
  },
  {
   "cell_type": "code",
   "execution_count": 57,
   "id": "8d9d0167-a1aa-432e-97fa-a67bdbb928f9",
   "metadata": {},
   "outputs": [
    {
     "name": "stdout",
     "output_type": "stream",
     "text": [
      "<class 'list'>\n"
     ]
    },
    {
     "ename": "ValueError",
     "evalue": "I/O operation on closed file.",
     "output_type": "error",
     "traceback": [
      "\u001b[1;31m---------------------------------------------------------------------------\u001b[0m",
      "\u001b[1;31mValueError\u001b[0m                                Traceback (most recent call last)",
      "Cell \u001b[1;32mIn[57], line 10\u001b[0m\n\u001b[0;32m      6\u001b[0m \u001b[38;5;28mprint\u001b[39m(\u001b[38;5;28mtype\u001b[39m(file_data_in_list))\n\u001b[0;32m      8\u001b[0m file_obj\u001b[38;5;241m.\u001b[39mclose() \u001b[38;5;66;03m# buffer is erased\u001b[39;00m\n\u001b[1;32m---> 10\u001b[0m \u001b[43mfile_obj\u001b[49m\u001b[38;5;241;43m.\u001b[39;49m\u001b[43mread\u001b[49m\u001b[43m(\u001b[49m\u001b[43m)\u001b[49m \u001b[38;5;66;03m#error\u001b[39;00m\n",
      "\u001b[1;31mValueError\u001b[0m: I/O operation on closed file."
     ]
    }
   ],
   "source": [
    "# it is our responsiblity to close the file\n",
    "\n",
    "file_obj = open('sample-7766.txt', 'r')\n",
    "file_data_in_list =file_obj.readlines()\n",
    "\n",
    "print(type(file_data_in_list))\n",
    "\n",
    "file_obj.close() # buffer is erased\n",
    "\n",
    "file_obj.read() #error"
   ]
  },
  {
   "cell_type": "code",
   "execution_count": 58,
   "id": "3f61104c-4848-4dc7-9bc0-7b09f8f7c913",
   "metadata": {},
   "outputs": [
    {
     "name": "stdout",
     "output_type": "stream",
     "text": [
      "Lorem ipsum dolor sit amet, consectetur adipiscing elit. Vivamus condimentum sagittis lacus, laoreet luctus ligula laoreet ut. Vestibulum ullamcorper accumsan velit vel vehicula. Proin tempor lacus arcu. Nunc at elit condimentum, semper nisi et, condimentum mi. In venenatis blandit nibh at sollicitudin. Vestibulum dapibus mauris at orci maximus pellentesque. Nullam id elementum ipsum. Suspendisse cursus lobortis viverra. Proin et erat at mauris tincidunt porttitor vitae ac dui.\n",
      "\n"
     ]
    }
   ],
   "source": [
    "# Read the entire file and store its lines in a list\n",
    "with open('sample-7766.txt', 'r') as file_obj:  # Open the file using 'with' to ensure automatic file closure\n",
    "    file_data = file_obj.readlines()  \n",
    "\n",
    "# Access the first line from the file data list\n",
    "first_line = file_data[0]\n",
    "\n",
    "print(first_line)\n"
   ]
  },
  {
   "cell_type": "markdown",
   "id": "67558417-114e-4886-beb9-406e9498379e",
   "metadata": {},
   "source": [
    "* The with statement does not have its own scope. Instead, it creates a context for the block of code inside it, and any variables defined inside the with block will be in the same scope as the surrounding code. This means that variables defined inside the with block will be accessible both inside the with block and outside it."
   ]
  },
  {
   "cell_type": "code",
   "execution_count": null,
   "id": "c6fa9e6e-5072-4acc-a660-240994c8024e",
   "metadata": {},
   "outputs": [],
   "source": []
  }
 ],
 "metadata": {
  "kernelspec": {
   "display_name": "Python 3 (ipykernel)",
   "language": "python",
   "name": "python3"
  },
  "language_info": {
   "codemirror_mode": {
    "name": "ipython",
    "version": 3
   },
   "file_extension": ".py",
   "mimetype": "text/x-python",
   "name": "python",
   "nbconvert_exporter": "python",
   "pygments_lexer": "ipython3",
   "version": "3.11.3"
  }
 },
 "nbformat": 4,
 "nbformat_minor": 5
}
