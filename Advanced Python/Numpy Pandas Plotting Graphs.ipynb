{
 "cells": [
  {
   "cell_type": "markdown",
   "id": "4eb4fbc0-ab05-4632-9834-91eb71714ff7",
   "metadata": {},
   "source": [
    "# Numpy\n",
    "\n",
    "NumPy is a powerful Python library for numerical computing\n",
    "\n",
    "Numpy is a linear algebra library, mathematical operations on large amount of data\n",
    "\n",
    "Gives multidimesnional array\n",
    "\n",
    "nd array\n",
    "\n",
    "1d \n",
    "2d \n",
    "3d\n",
    "\n",
    "\n",
    "We have lists, but \n",
    "\n",
    "Advantags\n",
    "- memory requirements (less memory\n",
    "- Faster \n",
    "- convinence\n",
    "- functionality\n"
   ]
  },
  {
   "cell_type": "code",
   "execution_count": 9,
   "id": "9673be95-828c-449c-b6fb-5d62cee554ff",
   "metadata": {},
   "outputs": [
    {
     "name": "stdout",
     "output_type": "stream",
     "text": [
      "[0, 1, 2, 3, 4, 5, 6, 7, 8, 9, 10, 11, 12, 13, 14, 15, 16, 17, 18, 19, 20, 21, 22, 23, 24, 25, 26, 27, 28, 29, 30, 31, 32, 33, 34, 35, 36, 37, 38, 39, 40, 41, 42, 43, 44, 45, 46, 47, 48, 49, 50, 51, 52, 53, 54, 55, 56, 57, 58, 59, 60, 61, 62, 63, 64, 65, 66, 67, 68, 69, 70, 71, 72, 73, 74, 75, 76, 77, 78, 79, 80, 81, 82, 83, 84, 85, 86, 87, 88, 89, 90, 91, 92, 93, 94, 95, 96, 97, 98, 99]\n",
      "[ 0  1  2  3  4  5  6  7  8  9 10 11 12 13 14 15 16 17 18 19 20 21 22 23\n",
      " 24 25 26 27 28 29 30 31 32 33 34 35 36 37 38 39 40 41 42 43 44 45 46 47\n",
      " 48 49 50 51 52 53 54 55 56 57 58 59 60 61 62 63 64 65 66 67 68 69 70 71\n",
      " 72 73 74 75 76 77 78 79 80 81 82 83 84 85 86 87 88 89 90 91 92 93 94 95\n",
      " 96 97 98 99]\n"
     ]
    }
   ],
   "source": [
    "import numpy as np\n",
    "import sys\n",
    "\n",
    "li_arr = [i for i in range(100)]     # Create list of 100 elements\n",
    "np_arr = np.arange(100)              # Create numpy array of 100 elements\n",
    "\n",
    "print(li_arr)\n",
    "print(np_arr)\n"
   ]
  },
  {
   "cell_type": "code",
   "execution_count": 13,
   "id": "c9a96c1e-f573-41eb-b2c4-1a0174c02984",
   "metadata": {},
   "outputs": [
    {
     "name": "stdout",
     "output_type": "stream",
     "text": [
      "Np 4 Bytes for 1 value\n",
      "400\n"
     ]
    }
   ],
   "source": [
    "print(\"Np\",np_arr.itemsize,\"Bytes for 1 value\")\n",
    "## Size of 100 elements in numpy array\n",
    "print(np_arr.itemsize * np_arr.size)\n"
   ]
  },
  {
   "cell_type": "code",
   "execution_count": 12,
   "id": "593d3b5b-630f-4b90-811a-63b90699abf0",
   "metadata": {},
   "outputs": [
    {
     "name": "stdout",
     "output_type": "stream",
     "text": [
      "List 28 Bytes for 1 value\n",
      "2800\n"
     ]
    }
   ],
   "source": [
    "\n",
    "print(\"List\",sys.getsizeof(1),\"Bytes for 1 value\")\n",
    "## Size of 100 elements in python list\n",
    "print(sys.getsizeof(1) * len(li_arr))"
   ]
  },
  {
   "cell_type": "markdown",
   "id": "9b378d41-ff3f-4365-bb13-3d4827e94a09",
   "metadata": {},
   "source": [
    "## Time Execution\r\n",
    "NumPy arrays are much faster as compared to python list. We can easily verify this"
   ]
  },
  {
   "cell_type": "code",
   "execution_count": 22,
   "id": "b3114171-4faf-42c2-8c44-a5fad2199f98",
   "metadata": {},
   "outputs": [
    {
     "name": "stdout",
     "output_type": "stream",
     "text": [
      "List =  20.943403244018555 milli seconds\n",
      "NumPy =  0.9999275207519531 milli seconds\n"
     ]
    }
   ],
   "source": [
    "import time\n",
    "import numpy as np  \n",
    "\n",
    "size = 100000\n",
    "\n",
    "\n",
    "def addition_using_list():\n",
    "  t1 = time.time() #starts after epoch\n",
    "  a = range(size)\n",
    "  b = range(size)\n",
    "  c = [a[i] + b[i] for i in range(size)]\n",
    "  t2 = time.time()\n",
    "  return t2 - t1\n",
    "  \n",
    "def addition_using_numpy():\n",
    "  t1 = time.time()\n",
    "  a = np.arange(size)\n",
    "  b = np.arange(size)\n",
    "  c = a + b\n",
    "  t2 = time.time()\n",
    "  return t2 - t1\n",
    "\n",
    "\n",
    "t_list = addition_using_list()\n",
    "t_numpy = addition_using_numpy()\n",
    "print(\"List = \", t_list * 1000, \"milli seconds\")   \n",
    "print(\"NumPy = \", t_numpy * 1000,\"milli seconds\")"
   ]
  },
  {
   "cell_type": "code",
   "execution_count": 19,
   "id": "9191a1cf-7eb1-4a6c-945f-640c4a0d4823",
   "metadata": {},
   "outputs": [
    {
     "data": {
      "text/plain": [
       "7"
      ]
     },
     "execution_count": 19,
     "metadata": {},
     "output_type": "execute_result"
    }
   ],
   "source": [
    "a= range(100)\n",
    "a[7]"
   ]
  },
  {
   "cell_type": "code",
   "execution_count": 20,
   "id": "7050805d-64f9-4eeb-a642-e1fc3f077020",
   "metadata": {},
   "outputs": [
    {
     "data": {
      "text/plain": [
       "array([    0,     1,     2, ..., 99997, 99998, 99999])"
      ]
     },
     "execution_count": 20,
     "metadata": {},
     "output_type": "execute_result"
    }
   ],
   "source": [
    "a = np.arange(size)\n",
    "a"
   ]
  },
  {
   "cell_type": "markdown",
   "id": "5cd66cd1-c949-492b-9478-854608481373",
   "metadata": {},
   "source": [
    "why numpy is faster\n",
    "\n",
    "for lists a,b we go size iterations\n",
    "\n",
    "in case of numpy task is performed in chunks rather elements by elements\n",
    "\n",
    "in two iterations\n",
    "1 iteration half task completed\n",
    "2 iteration half task completed \n",
    "\n",
    "This process is called vectorization\n",
    "\n",
    "The numpy library is written very optimized manner in c languge and fortan language,\n",
    "\n",
    "a+b\n",
    "\n",
    "we have speed and ease of use"
   ]
  },
  {
   "cell_type": "code",
   "execution_count": 24,
   "id": "993251d6-0b5b-4080-af5c-ee52f44a2dbb",
   "metadata": {},
   "outputs": [
    {
     "name": "stdout",
     "output_type": "stream",
     "text": [
      "[1 2 3]\n",
      "<class 'numpy.ndarray'>\n"
     ]
    }
   ],
   "source": [
    "import numpy as np\n",
    "# np is alias\n",
    "\n",
    "a=[1,2,3]\n",
    "b=np.array(a)\n",
    "print(b)\n",
    "print(type(b))"
   ]
  },
  {
   "cell_type": "code",
   "execution_count": 25,
   "id": "1ab86c44-99c0-485a-a4cc-6af3ba5e1267",
   "metadata": {},
   "outputs": [
    {
     "name": "stdout",
     "output_type": "stream",
     "text": [
      "['1' '2' '3' '5' 'True' '4.5']\n",
      "<class 'numpy.ndarray'>\n"
     ]
    }
   ],
   "source": [
    "import numpy as np\n",
    "# np is alias\n",
    "\n",
    "a=[1,2,3,\"5\",True,4.5]\n",
    "b=np.array(a)\n",
    "print(b)\n",
    "print(type(b))"
   ]
  },
  {
   "cell_type": "code",
   "execution_count": 27,
   "id": "b0b37c5b-e2e0-4b4d-a372-60ad98ff1951",
   "metadata": {},
   "outputs": [
    {
     "name": "stdout",
     "output_type": "stream",
     "text": [
      "[1 2 3 5 1 4]\n",
      "<class 'numpy.ndarray'>\n"
     ]
    }
   ],
   "source": [
    "# numpy contains only homogenous\n",
    "# to overcome we use dtype =int,float,str\n",
    "\n",
    "import numpy as np\n",
    "# np is alias\n",
    "\n",
    "a=[1,2,3,\"5\",True,4.5]\n",
    "b=np.array(a,dtype=int) #type casting the values should be like they can be converted\n",
    "print(b)\n",
    "print(type(b))"
   ]
  },
  {
   "cell_type": "code",
   "execution_count": 28,
   "id": "9417e43b-03ea-451c-9987-edf0f42fd9fb",
   "metadata": {},
   "outputs": [
    {
     "name": "stdout",
     "output_type": "stream",
     "text": [
      "[1.  2.  3.  5.  1.  4.5]\n",
      "<class 'numpy.ndarray'>\n"
     ]
    }
   ],
   "source": [
    "# numpy contains only homogenous\n",
    "# to overcome we use dtype =int,float,str\n",
    "\n",
    "import numpy as np\n",
    "# np is alias\n",
    "\n",
    "a=[1,2,3,\"5\",True,4.5]\n",
    "b=np.array(a,dtype=float) #type casting the values should be like they can be converted\n",
    "print(b)\n",
    "print(type(b))"
   ]
  },
  {
   "cell_type": "code",
   "execution_count": 29,
   "id": "49b2edd1-01ba-4c8b-8b13-7aedb2177c38",
   "metadata": {},
   "outputs": [
    {
     "name": "stdout",
     "output_type": "stream",
     "text": [
      "['1' '2' '3' '5' 'True' '4.5']\n",
      "<class 'numpy.ndarray'>\n"
     ]
    }
   ],
   "source": [
    "# numpy contains only homogenous\n",
    "# to overcome we use dtype =int,float,str\n",
    "\n",
    "import numpy as np\n",
    "# np is alias\n",
    "\n",
    "a=[1,2,3,\"5\",True,4.5]\n",
    "b=np.array(a,dtype=str) #type casting the values should be like they can be converted\n",
    "print(b)\n",
    "print(type(b))"
   ]
  },
  {
   "cell_type": "code",
   "execution_count": 30,
   "id": "eb906182-2400-4703-9d55-ed45f349c781",
   "metadata": {},
   "outputs": [
    {
     "name": "stdout",
     "output_type": "stream",
     "text": [
      "['1' '2' '3' '5' 'True' '4.5' '1' '2' '3' '5' 'True' '4.5' '1' '2' '3' '5'\n",
      " 'True' '4.5']\n",
      "<class 'numpy.ndarray'>\n"
     ]
    }
   ],
   "source": [
    "# numpy contains only homogenous\n",
    "# to overcome we use dtype =int,float,str\n",
    "\n",
    "import numpy as np\n",
    "# np is alias\n",
    "\n",
    "a=[1,2,3,\"5\",True,4.5]\n",
    "b=np.array(a*3) #type casting the values should be like they can be converted\n",
    "print(b)\n",
    "print(type(b))"
   ]
  },
  {
   "cell_type": "code",
   "execution_count": 31,
   "id": "a10efbe1-2576-45ed-b7ad-193ce123938f",
   "metadata": {},
   "outputs": [],
   "source": [
    " # There are few more, they np.ones(), np.zeroes(), np.full(), np.empty()"
   ]
  },
  {
   "cell_type": "code",
   "execution_count": 32,
   "id": "3ff55f37-9eff-4045-ac9e-68caa376e2ac",
   "metadata": {},
   "outputs": [
    {
     "data": {
      "text/plain": [
       "array([1, 1, 1])"
      ]
     },
     "execution_count": 32,
     "metadata": {},
     "output_type": "execute_result"
    }
   ],
   "source": [
    " np.ones(3,dtype=int) #default is float"
   ]
  },
  {
   "cell_type": "code",
   "execution_count": 36,
   "id": "dff4004f-00ae-447c-b4b7-f40342d8fe9b",
   "metadata": {},
   "outputs": [
    {
     "data": {
      "text/plain": [
       "array([[1, 1, 1],\n",
       "       [1, 1, 1]])"
      ]
     },
     "execution_count": 36,
     "metadata": {},
     "output_type": "execute_result"
    }
   ],
   "source": [
    " np.ones((2,3),dtype=int) #default is float"
   ]
  },
  {
   "cell_type": "code",
   "execution_count": 34,
   "id": "cf8ce3a0-a84f-4adc-99a8-863ba80c9217",
   "metadata": {},
   "outputs": [
    {
     "data": {
      "text/plain": [
       "array([0, 0, 0])"
      ]
     },
     "execution_count": 34,
     "metadata": {},
     "output_type": "execute_result"
    }
   ],
   "source": [
    " np.zeros(3,dtype=int) #default is float"
   ]
  },
  {
   "cell_type": "code",
   "execution_count": 38,
   "id": "c3b14948-52fd-469e-9000-c67e92e6286b",
   "metadata": {},
   "outputs": [
    {
     "data": {
      "text/plain": [
       "array([[0, 0, 0, 0, 0, 0],\n",
       "       [0, 0, 0, 0, 0, 0]])"
      ]
     },
     "execution_count": 38,
     "metadata": {},
     "output_type": "execute_result"
    }
   ],
   "source": [
    " np.zeros((2,6),dtype=int) #default is float"
   ]
  },
  {
   "cell_type": "code",
   "execution_count": 39,
   "id": "5d58a0fd-edc3-4905-a4d2-c3e488e055a8",
   "metadata": {},
   "outputs": [
    {
     "ename": "TypeError",
     "evalue": "full() missing 1 required positional argument: 'fill_value'",
     "output_type": "error",
     "traceback": [
      "\u001b[1;31m---------------------------------------------------------------------------\u001b[0m",
      "\u001b[1;31mTypeError\u001b[0m                                 Traceback (most recent call last)",
      "Cell \u001b[1;32mIn[39], line 1\u001b[0m\n\u001b[1;32m----> 1\u001b[0m \u001b[43mnp\u001b[49m\u001b[38;5;241;43m.\u001b[39;49m\u001b[43mfull\u001b[49m\u001b[43m(\u001b[49m\u001b[38;5;241;43m3\u001b[39;49m\u001b[43m)\u001b[49m \u001b[38;5;66;03m#dimension and fill value should be passed\u001b[39;00m\n",
      "\u001b[1;31mTypeError\u001b[0m: full() missing 1 required positional argument: 'fill_value'"
     ]
    }
   ],
   "source": [
    " np.full(3) #dimension size and fill value should be passed"
   ]
  },
  {
   "cell_type": "code",
   "execution_count": 40,
   "id": "a9baf9e7-5d34-47b5-800c-430606629858",
   "metadata": {},
   "outputs": [
    {
     "ename": "TypeError",
     "evalue": "full() missing 1 required positional argument: 'fill_value'",
     "output_type": "error",
     "traceback": [
      "\u001b[1;31m---------------------------------------------------------------------------\u001b[0m",
      "\u001b[1;31mTypeError\u001b[0m                                 Traceback (most recent call last)",
      "Cell \u001b[1;32mIn[40], line 1\u001b[0m\n\u001b[1;32m----> 1\u001b[0m \u001b[43mnp\u001b[49m\u001b[38;5;241;43m.\u001b[39;49m\u001b[43mfull\u001b[49m\u001b[43m(\u001b[49m\u001b[38;5;241;43m3\u001b[39;49m\u001b[43m)\u001b[49m \u001b[38;5;66;03m#dimension size and fill value should be passed\u001b[39;00m\n\u001b[0;32m      2\u001b[0m \u001b[38;5;66;03m# default is int\u001b[39;00m\n",
      "\u001b[1;31mTypeError\u001b[0m: full() missing 1 required positional argument: 'fill_value'"
     ]
    }
   ],
   "source": [
    " np.full(3) #dimension size and fill value should be passed\n",
    "# default is int"
   ]
  },
  {
   "cell_type": "code",
   "execution_count": 42,
   "id": "51e10aa9-40c7-4fb2-b23b-0784f0202bf1",
   "metadata": {},
   "outputs": [
    {
     "data": {
      "text/plain": [
       "array([4, 4, 4])"
      ]
     },
     "execution_count": 42,
     "metadata": {},
     "output_type": "execute_result"
    }
   ],
   "source": [
    " np.full(3,4) #dimension size and fill value should be passed\n",
    "# default is int"
   ]
  },
  {
   "cell_type": "code",
   "execution_count": 43,
   "id": "5c402e3f-678e-432a-85d5-1ef33582b7ef",
   "metadata": {},
   "outputs": [
    {
     "data": {
      "text/plain": [
       "array([[4, 4, 4],\n",
       "       [4, 4, 4]])"
      ]
     },
     "execution_count": 43,
     "metadata": {},
     "output_type": "execute_result"
    }
   ],
   "source": [
    " np.full((2,3),4)"
   ]
  },
  {
   "cell_type": "code",
   "execution_count": 44,
   "id": "47022d42-2f5c-490c-8d62-504794b89930",
   "metadata": {},
   "outputs": [
    {
     "data": {
      "text/plain": [
       "array([[1, 2, 3],\n",
       "       [4, 5, 6],\n",
       "       [7, 8, 9]])"
      ]
     },
     "execution_count": 44,
     "metadata": {},
     "output_type": "execute_result"
    }
   ],
   "source": [
    "list =[[1,2,3],[4,5,6],[7,8,9]]\n",
    "\n",
    "np.array(list)"
   ]
  },
  {
   "cell_type": "code",
   "execution_count": 46,
   "id": "43b7fb53-44bb-4a47-a28d-be17ef05dc50",
   "metadata": {},
   "outputs": [],
   "source": [
    "narr= np.zeros(10,dtype=int) #dtype = data type"
   ]
  },
  {
   "cell_type": "code",
   "execution_count": 47,
   "id": "d551d222-9406-48c6-85fe-122b544de7ff",
   "metadata": {},
   "outputs": [],
   "source": [
    "narr[4]=1"
   ]
  },
  {
   "cell_type": "code",
   "execution_count": 48,
   "id": "52f36343-bce5-4848-873d-24162bb61d39",
   "metadata": {},
   "outputs": [
    {
     "data": {
      "text/plain": [
       "array([0, 0, 0, 0, 1, 0, 0, 0, 0, 0])"
      ]
     },
     "execution_count": 48,
     "metadata": {},
     "output_type": "execute_result"
    }
   ],
   "source": [
    "narr"
   ]
  },
  {
   "cell_type": "code",
   "execution_count": 50,
   "id": "4406d072-a73d-4580-af48-568654061a9e",
   "metadata": {},
   "outputs": [
    {
     "data": {
      "text/plain": [
       "array([0, 1, 2, 3, 4, 5, 6, 7, 8, 9])"
      ]
     },
     "execution_count": 50,
     "metadata": {},
     "output_type": "execute_result"
    }
   ],
   "source": [
    "b=np.arange(10) #by default start=0, step=1\n",
    "b"
   ]
  },
  {
   "cell_type": "code",
   "execution_count": 51,
   "id": "a24546b2-8933-407e-80ec-e3ed0871be66",
   "metadata": {},
   "outputs": [
    {
     "data": {
      "text/plain": [
       "array([2, 3, 4, 5, 6, 7, 8, 9])"
      ]
     },
     "execution_count": 51,
     "metadata": {},
     "output_type": "execute_result"
    }
   ],
   "source": [
    "b=np.arange(2,10) #by default start=0, step=1\n",
    "b"
   ]
  },
  {
   "cell_type": "code",
   "execution_count": 52,
   "id": "751e4c3f-6a11-47e5-976c-e047764d071f",
   "metadata": {},
   "outputs": [
    {
     "data": {
      "text/plain": [
       "array([2, 4, 6, 8])"
      ]
     },
     "execution_count": 52,
     "metadata": {},
     "output_type": "execute_result"
    }
   ],
   "source": [
    "b=np.arange(2,10,2) #by default start=0, step=1\n",
    "b"
   ]
  },
  {
   "cell_type": "code",
   "execution_count": 54,
   "id": "6674e8f9-0c4f-41b6-b364-2bc97f65cf55",
   "metadata": {},
   "outputs": [
    {
     "data": {
      "text/plain": [
       "array([ 0.        ,  0.16949153,  0.33898305,  0.50847458,  0.6779661 ,\n",
       "        0.84745763,  1.01694915,  1.18644068,  1.3559322 ,  1.52542373,\n",
       "        1.69491525,  1.86440678,  2.03389831,  2.20338983,  2.37288136,\n",
       "        2.54237288,  2.71186441,  2.88135593,  3.05084746,  3.22033898,\n",
       "        3.38983051,  3.55932203,  3.72881356,  3.89830508,  4.06779661,\n",
       "        4.23728814,  4.40677966,  4.57627119,  4.74576271,  4.91525424,\n",
       "        5.08474576,  5.25423729,  5.42372881,  5.59322034,  5.76271186,\n",
       "        5.93220339,  6.10169492,  6.27118644,  6.44067797,  6.61016949,\n",
       "        6.77966102,  6.94915254,  7.11864407,  7.28813559,  7.45762712,\n",
       "        7.62711864,  7.79661017,  7.96610169,  8.13559322,  8.30508475,\n",
       "        8.47457627,  8.6440678 ,  8.81355932,  8.98305085,  9.15254237,\n",
       "        9.3220339 ,  9.49152542,  9.66101695,  9.83050847, 10.        ])"
      ]
     },
     "execution_count": 54,
     "metadata": {},
     "output_type": "execute_result"
    }
   ],
   "source": [
    "c= np.linspace(0,10,60) #start mandatoty and num is by default 50 samples\n",
    "c"
   ]
  },
  {
   "cell_type": "code",
   "execution_count": 55,
   "id": "4fc3a526-72d5-4934-b09e-8b68eff763ee",
   "metadata": {},
   "outputs": [
    {
     "data": {
      "text/plain": [
       "0.1694915254237288"
      ]
     },
     "execution_count": 55,
     "metadata": {},
     "output_type": "execute_result"
    }
   ],
   "source": [
    "c[1]-c[0]"
   ]
  },
  {
   "cell_type": "code",
   "execution_count": 59,
   "id": "be197335-2605-45b3-ac81-cd18686a952f",
   "metadata": {},
   "outputs": [
    {
     "data": {
      "text/plain": [
       "array([ 0,  0,  0,  0,  0,  1,  1,  1,  1,  1,  2,  2,  2,  2,  2,  3,  3,\n",
       "        3,  3,  3,  4,  4,  4,  4,  4,  5,  5,  5,  5,  5,  6,  6,  6,  6,\n",
       "        6,  7,  7,  7,  7,  7,  8,  8,  8,  8,  8,  9,  9,  9,  9, 10])"
      ]
     },
     "execution_count": 59,
     "metadata": {},
     "output_type": "execute_result"
    }
   ],
   "source": [
    "c= np.linspace(0,10,dtype =int) #start mandatoty and num is by default 50 samples (start and end are inclusive)\n",
    "c # endpoint =False then end is exclusive"
   ]
  },
  {
   "cell_type": "code",
   "execution_count": 58,
   "id": "869b8c2d-059a-46b0-9f19-fc904e065698",
   "metadata": {},
   "outputs": [
    {
     "data": {
      "text/plain": [
       "array([0, 0, 0, 0, 0, 1, 1, 1, 1, 1, 2, 2, 2, 2, 2, 3, 3, 3, 3, 3, 4, 4,\n",
       "       4, 4, 4, 5, 5, 5, 5, 5, 6, 6, 6, 6, 6, 7, 7, 7, 7, 7, 8, 8, 8, 8,\n",
       "       8, 9, 9, 9, 9, 9])"
      ]
     },
     "execution_count": 58,
     "metadata": {},
     "output_type": "execute_result"
    }
   ],
   "source": [
    "c= np.linspace(0,10,dtype =int,endpoint=False) #start mandatoty and num is by default 50 samples (start and end are inclusive)\n",
    "c # endpoint =False then end is exclusive"
   ]
  },
  {
   "cell_type": "code",
   "execution_count": 60,
   "id": "cb4aeff6-8f6d-49c9-9f1f-dd133028b8ea",
   "metadata": {},
   "outputs": [],
   "source": [
    "# np.arange step value we choose\n",
    "# np.linspace step is random "
   ]
  },
  {
   "cell_type": "code",
   "execution_count": 62,
   "id": "460a4ef5-a774-48da-b9a5-2cdb29834f10",
   "metadata": {},
   "outputs": [
    {
     "data": {
      "text/plain": [
       "array([[1., 0., 0.],\n",
       "       [0., 1., 0.],\n",
       "       [0., 0., 1.]])"
      ]
     },
     "execution_count": 62,
     "metadata": {},
     "output_type": "execute_result"
    }
   ],
   "source": [
    "np.identity(3) #identity matrix :one argument n"
   ]
  },
  {
   "cell_type": "code",
   "execution_count": 63,
   "id": "fdda61de-4174-4341-afb6-db627003ea1a",
   "metadata": {},
   "outputs": [
    {
     "data": {
      "text/plain": [
       "array([[1., 0., 0., 0.],\n",
       "       [0., 1., 0., 0.],\n",
       "       [0., 0., 1., 0.]])"
      ]
     },
     "execution_count": 63,
     "metadata": {},
     "output_type": "execute_result"
    }
   ],
   "source": [
    "np.eye(3,4) #identity matrix :with rows*columns"
   ]
  },
  {
   "cell_type": "code",
   "execution_count": 65,
   "id": "4386cd97-cd7c-4836-8fe5-14760702516c",
   "metadata": {},
   "outputs": [
    {
     "data": {
      "text/plain": [
       "array([0.82632373, 0.34814832, 0.17773364])"
      ]
     },
     "execution_count": 65,
     "metadata": {},
     "output_type": "execute_result"
    }
   ],
   "source": [
    "b= np.random.rand(3)\n",
    "b"
   ]
  },
  {
   "cell_type": "code",
   "execution_count": 66,
   "id": "36ebc24c-7ed5-4fce-b416-9a4a88c7b7c2",
   "metadata": {},
   "outputs": [
    {
     "data": {
      "text/plain": [
       "array([[0.12446621, 0.71546247, 0.68132617],\n",
       "       [0.94636923, 0.87171307, 0.93023891]])"
      ]
     },
     "execution_count": 66,
     "metadata": {},
     "output_type": "execute_result"
    }
   ],
   "source": [
    "a= np.random.rand(2,3) \n",
    "a"
   ]
  },
  {
   "cell_type": "code",
   "execution_count": 69,
   "id": "3af2c1cd-a3de-415f-9125-d5de58b78bf8",
   "metadata": {},
   "outputs": [
    {
     "data": {
      "text/plain": [
       "array([[8.37323398, 9.47873159, 3.83422251],\n",
       "       [1.63209552, 8.13909501, 4.88149459]])"
      ]
     },
     "execution_count": 69,
     "metadata": {},
     "output_type": "execute_result"
    }
   ],
   "source": [
    "a= np.random.rand(2,3)*10  # 0 to 1\n",
    "a"
   ]
  },
  {
   "cell_type": "code",
   "execution_count": 73,
   "id": "2b96a11e-c6c4-44d6-b219-5cb0f3f02a5f",
   "metadata": {},
   "outputs": [
    {
     "data": {
      "text/plain": [
       "8"
      ]
     },
     "execution_count": 73,
     "metadata": {},
     "output_type": "execute_result"
    }
   ],
   "source": [
    "a= np.random.randint(2,10) #btw the range 2,1)\n",
    "a"
   ]
  },
  {
   "cell_type": "code",
   "execution_count": 74,
   "id": "b27aeec3-ee65-4416-9110-5bd88560d5df",
   "metadata": {},
   "outputs": [
    {
     "data": {
      "text/plain": [
       "(4,)"
      ]
     },
     "execution_count": 74,
     "metadata": {},
     "output_type": "execute_result"
    }
   ],
   "source": [
    "a= np.array([0,1,2,3])\n",
    "a.shape #dimension"
   ]
  },
  {
   "cell_type": "code",
   "execution_count": 75,
   "id": "bf2e4c55-b2fd-47a4-8ea0-995d8a425cef",
   "metadata": {},
   "outputs": [
    {
     "data": {
      "text/plain": [
       "0.6765093773939854"
      ]
     },
     "execution_count": 75,
     "metadata": {},
     "output_type": "execute_result"
    }
   ],
   "source": [
    "np.random.rand()"
   ]
  },
  {
   "cell_type": "code",
   "execution_count": 76,
   "id": "54377230-1140-4c50-a7fe-7ed6f662cb0d",
   "metadata": {},
   "outputs": [
    {
     "data": {
      "text/plain": [
       "array([[0.66844882, 0.35392658],\n",
       "       [0.23938826, 0.31166242]])"
      ]
     },
     "execution_count": 76,
     "metadata": {},
     "output_type": "execute_result"
    }
   ],
   "source": [
    "np.random.rand(2,2)"
   ]
  },
  {
   "cell_type": "code",
   "execution_count": 78,
   "id": "1b5ca2f5-31c5-47a8-a251-dbf7b893a50f",
   "metadata": {},
   "outputs": [
    {
     "ename": "ValueError",
     "evalue": "low >= high",
     "output_type": "error",
     "traceback": [
      "\u001b[1;31m---------------------------------------------------------------------------\u001b[0m",
      "\u001b[1;31mValueError\u001b[0m                                Traceback (most recent call last)",
      "Cell \u001b[1;32mIn[78], line 1\u001b[0m\n\u001b[1;32m----> 1\u001b[0m a\u001b[38;5;241m=\u001b[39m \u001b[43mnp\u001b[49m\u001b[38;5;241;43m.\u001b[39;49m\u001b[43mrandom\u001b[49m\u001b[38;5;241;43m.\u001b[39;49m\u001b[43mrandint\u001b[49m\u001b[43m(\u001b[49m\u001b[38;5;241;43m10\u001b[39;49m\u001b[43m,\u001b[49m\u001b[38;5;241;43m4\u001b[39;49m\u001b[43m)\u001b[49m \n\u001b[0;32m      2\u001b[0m a\n",
      "File \u001b[1;32mmtrand.pyx:763\u001b[0m, in \u001b[0;36mnumpy.random.mtrand.RandomState.randint\u001b[1;34m()\u001b[0m\n",
      "File \u001b[1;32m_bounded_integers.pyx:1338\u001b[0m, in \u001b[0;36mnumpy.random._bounded_integers._rand_int32\u001b[1;34m()\u001b[0m\n",
      "\u001b[1;31mValueError\u001b[0m: low >= high"
     ]
    }
   ],
   "source": [
    "a= np.random.randint(10,4) \n",
    "a"
   ]
  },
  {
   "cell_type": "code",
   "execution_count": 80,
   "id": "98291a75-b4e0-4a73-a7ce-be4ccfa04606",
   "metadata": {},
   "outputs": [
    {
     "data": {
      "text/plain": [
       "array([[5, 2, 5, 0],\n",
       "       [0, 6, 7, 8],\n",
       "       [7, 6, 2, 1],\n",
       "       [2, 7, 7, 4]])"
      ]
     },
     "execution_count": 80,
     "metadata": {},
     "output_type": "execute_result"
    }
   ],
   "source": [
    "np.random.randint(10,size=(4,4))"
   ]
  },
  {
   "cell_type": "code",
   "execution_count": 81,
   "id": "e0642ee0-c669-4605-9ae2-516724c805e2",
   "metadata": {},
   "outputs": [
    {
     "data": {
      "text/plain": [
       "array([ 9, 10, 11, 12, 13, 14, 15, 16, 17, 18, 19, 20, 21, 22, 23, 24, 25,\n",
       "       26, 27, 28, 29, 30, 31, 32, 33, 34, 35, 36, 37, 38, 39, 40, 41, 42,\n",
       "       43, 44, 45, 46, 47, 48, 49])"
      ]
     },
     "execution_count": 81,
     "metadata": {},
     "output_type": "execute_result"
    }
   ],
   "source": [
    "np.arange(9,50)"
   ]
  },
  {
   "cell_type": "code",
   "execution_count": 83,
   "id": "e28f58a3-686e-4575-af2e-0300e1a5786c",
   "metadata": {},
   "outputs": [
    {
     "data": {
      "text/plain": [
       "array([[1, 0, 0, 0, 0, 0],\n",
       "       [0, 1, 0, 0, 0, 0],\n",
       "       [0, 0, 1, 0, 0, 0],\n",
       "       [0, 0, 0, 1, 0, 0],\n",
       "       [0, 0, 0, 0, 1, 0]])"
      ]
     },
     "execution_count": 83,
     "metadata": {},
     "output_type": "execute_result"
    }
   ],
   "source": [
    "np.eye(5,6,dtype=int)"
   ]
  },
  {
   "cell_type": "code",
   "execution_count": 91,
   "id": "9dde8815-a21f-40b6-9750-7fe28a7a422d",
   "metadata": {},
   "outputs": [
    {
     "name": "stdout",
     "output_type": "stream",
     "text": [
      "0.56\n"
     ]
    },
    {
     "data": {
      "text/plain": [
       "array([0.  , 0.56, 1.12, 1.68, 2.24, 2.8 , 3.36, 3.92, 4.48])"
      ]
     },
     "execution_count": 91,
     "metadata": {},
     "output_type": "execute_result"
    }
   ],
   "source": [
    "# Cut the rope\n",
    "# 5m 9parts\n",
    "f= 5/9\n",
    "\n",
    "f= round(f,2)\n",
    "print(f)\n",
    "narr= np.arange(0,5,step=f)\n",
    "narr\n"
   ]
  },
  {
   "cell_type": "code",
   "execution_count": 88,
   "id": "a4257a30-5716-4534-8bd0-4128af54b4b4",
   "metadata": {},
   "outputs": [
    {
     "name": "stdout",
     "output_type": "stream",
     "text": [
      "Help on built-in function arange in module numpy:\n",
      "\n",
      "arange(...)\n",
      "    arange([start,] stop[, step,], dtype=None, *, like=None)\n",
      "    \n",
      "    Return evenly spaced values within a given interval.\n",
      "    \n",
      "    ``arange`` can be called with a varying number of positional arguments:\n",
      "    \n",
      "    * ``arange(stop)``: Values are generated within the half-open interval\n",
      "      ``[0, stop)`` (in other words, the interval including `start` but\n",
      "      excluding `stop`).\n",
      "    * ``arange(start, stop)``: Values are generated within the half-open\n",
      "      interval ``[start, stop)``.\n",
      "    * ``arange(start, stop, step)`` Values are generated within the half-open\n",
      "      interval ``[start, stop)``, with spacing between values given by\n",
      "      ``step``.\n",
      "    \n",
      "    For integer arguments the function is roughly equivalent to the Python\n",
      "    built-in :py:class:`range`, but returns an ndarray rather than a ``range``\n",
      "    instance.\n",
      "    \n",
      "    When using a non-integer step, such as 0.1, it is often better to use\n",
      "    `numpy.linspace`.\n",
      "    \n",
      "    See the Warning sections below for more information.\n",
      "    \n",
      "    Parameters\n",
      "    ----------\n",
      "    start : integer or real, optional\n",
      "        Start of interval.  The interval includes this value.  The default\n",
      "        start value is 0.\n",
      "    stop : integer or real\n",
      "        End of interval.  The interval does not include this value, except\n",
      "        in some cases where `step` is not an integer and floating point\n",
      "        round-off affects the length of `out`.\n",
      "    step : integer or real, optional\n",
      "        Spacing between values.  For any output `out`, this is the distance\n",
      "        between two adjacent values, ``out[i+1] - out[i]``.  The default\n",
      "        step size is 1.  If `step` is specified as a position argument,\n",
      "        `start` must also be given.\n",
      "    dtype : dtype, optional\n",
      "        The type of the output array.  If `dtype` is not given, infer the data\n",
      "        type from the other input arguments.\n",
      "    like : array_like, optional\n",
      "        Reference object to allow the creation of arrays which are not\n",
      "        NumPy arrays. If an array-like passed in as ``like`` supports\n",
      "        the ``__array_function__`` protocol, the result will be defined\n",
      "        by it. In this case, it ensures the creation of an array object\n",
      "        compatible with that passed in via this argument.\n",
      "    \n",
      "        .. versionadded:: 1.20.0\n",
      "    \n",
      "    Returns\n",
      "    -------\n",
      "    arange : ndarray\n",
      "        Array of evenly spaced values.\n",
      "    \n",
      "        For floating point arguments, the length of the result is\n",
      "        ``ceil((stop - start)/step)``.  Because of floating point overflow,\n",
      "        this rule may result in the last element of `out` being greater\n",
      "        than `stop`.\n",
      "    \n",
      "    Warnings\n",
      "    --------\n",
      "    The length of the output might not be numerically stable.\n",
      "    \n",
      "    Another stability issue is due to the internal implementation of\n",
      "    `numpy.arange`.\n",
      "    The actual step value used to populate the array is\n",
      "    ``dtype(start + step) - dtype(start)`` and not `step`. Precision loss\n",
      "    can occur here, due to casting or due to using floating points when\n",
      "    `start` is much larger than `step`. This can lead to unexpected\n",
      "    behaviour. For example::\n",
      "    \n",
      "      >>> np.arange(0, 5, 0.5, dtype=int)\n",
      "      array([0, 0, 0, 0, 0, 0, 0, 0, 0, 0])\n",
      "      >>> np.arange(-3, 3, 0.5, dtype=int)\n",
      "      array([-3, -2, -1,  0,  1,  2,  3,  4,  5,  6,  7,  8])\n",
      "    \n",
      "    In such cases, the use of `numpy.linspace` should be preferred.\n",
      "    \n",
      "    The built-in :py:class:`range` generates :std:doc:`Python built-in integers\n",
      "    that have arbitrary size <python:c-api/long>`, while `numpy.arange`\n",
      "    produces `numpy.int32` or `numpy.int64` numbers. This may result in\n",
      "    incorrect results for large integer values::\n",
      "    \n",
      "      >>> power = 40\n",
      "      >>> modulo = 10000\n",
      "      >>> x1 = [(n ** power) % modulo for n in range(8)]\n",
      "      >>> x2 = [(n ** power) % modulo for n in np.arange(8)]\n",
      "      >>> print(x1)\n",
      "      [0, 1, 7776, 8801, 6176, 625, 6576, 4001]  # correct\n",
      "      >>> print(x2)\n",
      "      [0, 1, 7776, 7185, 0, 5969, 4816, 3361]  # incorrect\n",
      "    \n",
      "    See Also\n",
      "    --------\n",
      "    numpy.linspace : Evenly spaced numbers with careful handling of endpoints.\n",
      "    numpy.ogrid: Arrays of evenly spaced numbers in N-dimensions.\n",
      "    numpy.mgrid: Grid-shaped arrays of evenly spaced numbers in N-dimensions.\n",
      "    :ref:`how-to-partition`\n",
      "    \n",
      "    Examples\n",
      "    --------\n",
      "    >>> np.arange(3)\n",
      "    array([0, 1, 2])\n",
      "    >>> np.arange(3.0)\n",
      "    array([ 0.,  1.,  2.])\n",
      "    >>> np.arange(3,7)\n",
      "    array([3, 4, 5, 6])\n",
      "    >>> np.arange(3,7,2)\n",
      "    array([3, 5])\n",
      "\n"
     ]
    }
   ],
   "source": [
    "help(np.arange)"
   ]
  },
  {
   "cell_type": "markdown",
   "id": "47403a16-1a8e-4262-b6c7-cd42bebb1f04",
   "metadata": {},
   "source": [
    "### numpy\n",
    "Numpy arrays are basically collection of references or collection of pointers which points to\n",
    "4 different attributes\n",
    "\n",
    "- data: reference to 1st byte of the array /1st element\n",
    "- shape: shape/size of the array\n",
    "- dtype- datatype of the array\n",
    "- strides: no of bytes to skip to get next element of the array\n"
   ]
  },
  {
   "cell_type": "code",
   "execution_count": 92,
   "id": "6af5d528-5d8f-4cc4-8c83-bfabc097125e",
   "metadata": {},
   "outputs": [
    {
     "name": "stdout",
     "output_type": "stream",
     "text": [
      "[1, 2, 3, 4, 5]\n",
      "[1 2 3 4 5]\n"
     ]
    }
   ],
   "source": [
    "import numpy as np\n",
    "\n",
    "li=[1,2,3,4,5]\n",
    "\n",
    "arr= np.array(li)\n",
    "\n",
    "print(li)\n",
    "print(arr)"
   ]
  },
  {
   "cell_type": "code",
   "execution_count": 93,
   "id": "09561c4b-02e9-426d-976a-72cd56b348ab",
   "metadata": {},
   "outputs": [
    {
     "name": "stdout",
     "output_type": "stream",
     "text": [
      "<memory at 0x0000023195E147C0>\n",
      "(5,)\n",
      "int32\n",
      "(4,)\n"
     ]
    }
   ],
   "source": [
    "print(arr.data)\n",
    "print(arr.shape)\n",
    "print(arr.dtype)\n",
    "print(arr.strides)"
   ]
  },
  {
   "cell_type": "code",
   "execution_count": 117,
   "id": "24b6dd05-dd01-4920-a535-c74b341b4af9",
   "metadata": {},
   "outputs": [
    {
     "name": "stdout",
     "output_type": "stream",
     "text": [
      "[[1, 2, 3, 4], [5, 6, 7, 8], [9, 10, 11, 12], [13, 14, 15, 16]]\n",
      "[[ 1  2  3  4]\n",
      " [ 5  6  7  8]\n",
      " [ 9 10 11 12]\n",
      " [13 14 15 16]]\n"
     ]
    }
   ],
   "source": [
    "li_2d=[[1,2,3,4],[5,6,7,8],[9,10,11,12],[13,14,15,16]]\n",
    "arr_2d = np.array(li_2d)\n",
    "\n",
    "print(li_2d)\n",
    "print(arr_2d)"
   ]
  },
  {
   "cell_type": "code",
   "execution_count": 118,
   "id": "908963d8-e542-4e1e-9312-b9d6b9b61dda",
   "metadata": {},
   "outputs": [
    {
     "name": "stdout",
     "output_type": "stream",
     "text": [
      "<memory at 0x0000023195E5B6B0>\n",
      "(4, 4)\n",
      "int32\n",
      "(16, 4)\n"
     ]
    }
   ],
   "source": [
    "print(arr_2d.data)\n",
    "print(arr_2d.shape)\n",
    "print(arr_2d.dtype)\n",
    "print(arr_2d.strides) #rows,column"
   ]
  },
  {
   "cell_type": "code",
   "execution_count": 119,
   "id": "948ab043-edaa-47c3-bfb5-ccc972c7de74",
   "metadata": {},
   "outputs": [
    {
     "name": "stdout",
     "output_type": "stream",
     "text": [
      "1\n",
      "1\n",
      "[2, 3]\n",
      "[2 3]\n"
     ]
    }
   ],
   "source": [
    "# Acessing and slicing for 1d arrays of numpy is similar to lists\n",
    "import numpy as np\n",
    "\n",
    "li=[1,2,3,4,5]\n",
    "\n",
    "arr= np.array(li)\n",
    "\n",
    "print(li[0])\n",
    "print(arr[0])\n",
    "print(li[1:3])\n",
    "print(arr[1:3])"
   ]
  },
  {
   "cell_type": "code",
   "execution_count": 125,
   "id": "e87e55be-b972-4dbd-9ce5-ca7f043f567c",
   "metadata": {},
   "outputs": [
    {
     "name": "stdout",
     "output_type": "stream",
     "text": [
      "10\n",
      "10\n",
      "10\n"
     ]
    }
   ],
   "source": [
    "li_2d=[[1,2,3,4],[5,6,7,8],[9,10,11,12],[13,14,15,16]]\n",
    "arr_2d = np.array(li_2d)\n",
    "\n",
    "print(li_2d[2][1])\n",
    "print(arr_2d[2][1])\n",
    "print(arr_2d[2,1]) #other syntax easy syntax"
   ]
  },
  {
   "cell_type": "code",
   "execution_count": 126,
   "id": "615796c6-a10a-4b51-9f49-5dc641dd344e",
   "metadata": {},
   "outputs": [
    {
     "name": "stdout",
     "output_type": "stream",
     "text": [
      "[5, 6, 7]\n",
      "[5 6 7]\n"
     ]
    }
   ],
   "source": [
    "# slicing 2d list and 2d array\n",
    "print(li_2d[1][0:3])\n",
    "print(arr_2d[1,0:3])\n"
   ]
  },
  {
   "cell_type": "code",
   "execution_count": 127,
   "id": "1d99a000-24bc-4e8a-a6db-e435b8572d8e",
   "metadata": {},
   "outputs": [
    {
     "name": "stdout",
     "output_type": "stream",
     "text": [
      "[[1, 2, 3, 4], [5, 6, 7, 8], [9, 10, 11, 12]]\n",
      "[5, 6, 7, 8]\n"
     ]
    }
   ],
   "source": [
    "x=li_2d[0:3]\n",
    "print(x)\n",
    "print(x[1])"
   ]
  },
  {
   "cell_type": "code",
   "execution_count": 128,
   "id": "3fedadc9-d03a-4bcf-9432-877c8671ae6f",
   "metadata": {},
   "outputs": [
    {
     "name": "stdout",
     "output_type": "stream",
     "text": [
      "[5, 6, 7, 8]\n"
     ]
    }
   ],
   "source": [
    "# column fixed rows varing\n",
    "print(li_2d[:2][1])\n",
    "# print(arr_2d[1,0:3]) \n",
    "# in 2d list we cant acess 1 colum or column part directly like 2d arrays"
   ]
  },
  {
   "cell_type": "code",
   "execution_count": 129,
   "id": "823f9142-436b-4f3e-9d9f-24a6f69fd44a",
   "metadata": {},
   "outputs": [
    {
     "name": "stdout",
     "output_type": "stream",
     "text": [
      "[5 6 7 8]\n",
      "[ 2  6 10]\n"
     ]
    }
   ],
   "source": [
    "# column fixed rows varing\n",
    "print(arr_2d[:3][1])\n",
    "print(arr_2d[:3,1])\n"
   ]
  },
  {
   "cell_type": "code",
   "execution_count": 133,
   "id": "812a44e2-3d2f-4088-ae31-454e5a690ab6",
   "metadata": {},
   "outputs": [
    {
     "name": "stdout",
     "output_type": "stream",
     "text": [
      "[[13 14 15 16]]\n",
      "[[13 14 15 16]]\n",
      "[[10 11]\n",
      " [14 15]]\n"
     ]
    }
   ],
   "source": [
    "# part of array we can get\n",
    "print(arr_2d[2:4][1:3])\n",
    "print(arr_2d[2:4][1:3])\n",
    "print(arr_2d[2:4,1:3])"
   ]
  },
  {
   "cell_type": "code",
   "execution_count": null,
   "id": "0f623398-d706-4b4a-97db-d17e85ec4f6b",
   "metadata": {},
   "outputs": [],
   "source": []
  },
  {
   "cell_type": "code",
   "execution_count": 161,
   "id": "5951eb22-7e97-4a15-8b52-6e3a332c22e6",
   "metadata": {},
   "outputs": [
    {
     "name": "stdout",
     "output_type": "stream",
     "text": [
      "[1, 2, 3, 4, 5]\n",
      "[10 19  5  3  9]\n",
      "[ 3 15  9  2  4]\n"
     ]
    }
   ],
   "source": [
    "import numpy as np\n",
    "\n",
    "li=[1,2,3,4,5]\n",
    "\n",
    "a=np.random.randint(1,20,5)\n",
    "b=np.random.randint(1,20,5)\n",
    "\n",
    "print(li)\n",
    "print(a)\n",
    "print(b)"
   ]
  },
  {
   "cell_type": "code",
   "execution_count": 162,
   "id": "bc671d75-20d2-47bd-93f6-a04ca165b462",
   "metadata": {},
   "outputs": [
    {
     "data": {
      "text/plain": [
       "[2, 3, 4, 5, 6]"
      ]
     },
     "execution_count": 162,
     "metadata": {},
     "output_type": "execute_result"
    }
   ],
   "source": [
    " # increaseby 1 for each element\n",
    "li=[i+1 for i in li]\n",
    "li"
   ]
  },
  {
   "cell_type": "code",
   "execution_count": 163,
   "id": "9e4140c2-9b5a-4c2f-8205-39f1c9e77cbf",
   "metadata": {},
   "outputs": [
    {
     "name": "stdout",
     "output_type": "stream",
     "text": [
      "[11 20  6  4 10]\n",
      "[ 4 16 10  3  5]\n"
     ]
    }
   ],
   "source": [
    "# in case of numpy array\n",
    "# in terms of computation , they are very fast\n",
    "\n",
    "a=a+1\n",
    "b=b+1\n",
    "print(a)\n",
    "print(b)"
   ]
  },
  {
   "cell_type": "code",
   "execution_count": 164,
   "id": "eb8d92b1-0543-4545-b006-ecb5a51bc0d1",
   "metadata": {},
   "outputs": [
    {
     "data": {
      "text/plain": [
       "array([15, 36, 16,  7, 15])"
      ]
     },
     "execution_count": 164,
     "metadata": {},
     "output_type": "execute_result"
    }
   ],
   "source": [
    "# c[i]=a[i]+b[i]\n",
    "c=a+b\n",
    "c"
   ]
  },
  {
   "cell_type": "code",
   "execution_count": 165,
   "id": "448eaea0-2403-4340-a958-a64580ba55c7",
   "metadata": {},
   "outputs": [
    {
     "data": {
      "text/plain": [
       "array([ 7,  4, -4,  1,  5])"
      ]
     },
     "execution_count": 165,
     "metadata": {},
     "output_type": "execute_result"
    }
   ],
   "source": [
    "d=a-b\n",
    "d"
   ]
  },
  {
   "cell_type": "code",
   "execution_count": 166,
   "id": "fdfafeb6-557f-4a13-bbbb-1f66b79fab8f",
   "metadata": {},
   "outputs": [
    {
     "data": {
      "text/plain": [
       "array([2.75      , 1.25      , 0.6       , 1.33333333, 2.        ])"
      ]
     },
     "execution_count": 166,
     "metadata": {},
     "output_type": "execute_result"
    }
   ],
   "source": [
    "e=a/b\n",
    "e"
   ]
  },
  {
   "cell_type": "code",
   "execution_count": 167,
   "id": "ff1eb6a2-48f0-49de-b7c1-5166818e7aa6",
   "metadata": {},
   "outputs": [
    {
     "data": {
      "text/plain": [
       "array([2, 1, 0, 1, 2])"
      ]
     },
     "execution_count": 167,
     "metadata": {},
     "output_type": "execute_result"
    }
   ],
   "source": [
    "f=a//b\n",
    "f"
   ]
  },
  {
   "cell_type": "code",
   "execution_count": 168,
   "id": "118263d6-2746-42ce-8594-fd334857156d",
   "metadata": {},
   "outputs": [
    {
     "data": {
      "text/plain": [
       "array([   14641,        0, 60466176,       64,   100000])"
      ]
     },
     "execution_count": 168,
     "metadata": {},
     "output_type": "execute_result"
    }
   ],
   "source": [
    "# a=[a,b,c,d]\n",
    "# b=[i,j,k,l]\n",
    "# h=[a^i,b^j,c^k,d^l]\n",
    "\n",
    "g=a**b\n",
    "g"
   ]
  },
  {
   "cell_type": "code",
   "execution_count": 169,
   "id": "260ebb89-1913-4dd5-8d04-dccfd26eedea",
   "metadata": {},
   "outputs": [
    {
     "name": "stdout",
     "output_type": "stream",
     "text": [
      "51\n",
      "10.2\n",
      "4\n",
      "3\n",
      "20\n",
      "1\n"
     ]
    }
   ],
   "source": [
    "print(a.sum())\n",
    "print(a.mean())\n",
    "print(a.min())\n",
    "print(a.argmin())\n",
    "print(a.max())\n",
    "print(a.argmax())"
   ]
  },
  {
   "cell_type": "code",
   "execution_count": 170,
   "id": "2e371366-94a8-4363-9c25-cc8131a6ec3a",
   "metadata": {},
   "outputs": [
    {
     "name": "stdout",
     "output_type": "stream",
     "text": [
      "[11 20  6  4 10]\n",
      "[ 4 16 10  3  5]\n"
     ]
    }
   ],
   "source": [
    "# Relational and logical\n",
    "print(a)\n",
    "print(b)"
   ]
  },
  {
   "cell_type": "code",
   "execution_count": 171,
   "id": "126ec15f-3bd4-42fb-a699-332c11b547bd",
   "metadata": {},
   "outputs": [
    {
     "data": {
      "text/plain": [
       "array([ True,  True, False,  True,  True])"
      ]
     },
     "execution_count": 171,
     "metadata": {},
     "output_type": "execute_result"
    }
   ],
   "source": [
    "a>b"
   ]
  },
  {
   "cell_type": "code",
   "execution_count": 172,
   "id": "f1468847-e612-4693-97c1-0b487506e935",
   "metadata": {},
   "outputs": [
    {
     "data": {
      "text/plain": [
       "array([False, False,  True, False, False])"
      ]
     },
     "execution_count": 172,
     "metadata": {},
     "output_type": "execute_result"
    }
   ],
   "source": [
    "a<b"
   ]
  },
  {
   "cell_type": "code",
   "execution_count": 173,
   "id": "79bba00e-3347-4d86-9b8e-7022bd4b3b3e",
   "metadata": {},
   "outputs": [
    {
     "data": {
      "text/plain": [
       "array([False, False, False, False, False])"
      ]
     },
     "execution_count": 173,
     "metadata": {},
     "output_type": "execute_result"
    }
   ],
   "source": [
    "a==b"
   ]
  },
  {
   "cell_type": "code",
   "execution_count": 174,
   "id": "80b33048-4dbc-4c2b-bf7a-381371a5018c",
   "metadata": {},
   "outputs": [
    {
     "name": "stdout",
     "output_type": "stream",
     "text": [
      "[ True  True  True  True  True]\n",
      "[ True  True  True  True  True]\n",
      "[False False False False False]\n"
     ]
    }
   ],
   "source": [
    "# logical\n",
    "print(np.logical_or(a,b))\n",
    "print(np.logical_and(a,b))\n",
    "print(np.logical_not(a))"
   ]
  },
  {
   "cell_type": "markdown",
   "id": "8ddf320a-c0fe-4a39-8a73-91c65cea7588",
   "metadata": {},
   "source": [
    "# Boolean indexing\n"
   ]
  },
  {
   "cell_type": "code",
   "execution_count": 179,
   "id": "0ee9c299-912b-4a0b-be2f-52747a5d7ffc",
   "metadata": {},
   "outputs": [
    {
     "name": "stdout",
     "output_type": "stream",
     "text": [
      "[ 4 16 10  3  5]\n",
      "[False  True False False False]\n"
     ]
    }
   ],
   "source": [
    "print(b)\n",
    "print(b>10)"
   ]
  },
  {
   "cell_type": "code",
   "execution_count": 180,
   "id": "8f364de7-5abb-4187-8669-6e8ae85fd151",
   "metadata": {},
   "outputs": [
    {
     "name": "stdout",
     "output_type": "stream",
     "text": [
      "[False  True  True False False]\n",
      "[16 10]\n"
     ]
    }
   ],
   "source": [
    "# extract elements greater than 10\n",
    "\n",
    "bool_arr =b>5\n",
    "print(bool_arr)\n",
    "\n",
    "new_arr =b[bool_arr]\n",
    "print(new_arr)"
   ]
  },
  {
   "cell_type": "code",
   "execution_count": 182,
   "id": "b8739ed8-f65b-4910-a875-cb4524b0ebb1",
   "metadata": {},
   "outputs": [
    {
     "data": {
      "text/plain": [
       "array([ 4, 16, 10,  3,  5])"
      ]
     },
     "execution_count": 182,
     "metadata": {},
     "output_type": "execute_result"
    }
   ],
   "source": [
    "new_arr2 = b[b>1]\n",
    "new_arr2"
   ]
  },
  {
   "cell_type": "code",
   "execution_count": 184,
   "id": "793ec775-d9f4-486d-92d7-fe9d8e20545a",
   "metadata": {},
   "outputs": [
    {
     "ename": "ValueError",
     "evalue": "The truth value of an array with more than one element is ambiguous. Use a.any() or a.all()",
     "output_type": "error",
     "traceback": [
      "\u001b[1;31m---------------------------------------------------------------------------\u001b[0m",
      "\u001b[1;31mValueError\u001b[0m                                Traceback (most recent call last)",
      "Cell \u001b[1;32mIn[184], line 1\u001b[0m\n\u001b[1;32m----> 1\u001b[0m new_arr2 \u001b[38;5;241m=\u001b[39m b[b\u001b[38;5;241m>\u001b[39m\u001b[38;5;241m1\u001b[39m \u001b[38;5;241m&\u001b[39m b\u001b[38;5;241m<\u001b[39m\u001b[38;5;241m10\u001b[39m]\n",
      "\u001b[1;31mValueError\u001b[0m: The truth value of an array with more than one element is ambiguous. Use a.any() or a.all()"
     ]
    }
   ],
   "source": [
    "new_arr2 = b[b>1 & b<10]"
   ]
  },
  {
   "cell_type": "code",
   "execution_count": 186,
   "id": "f1c23fb4-1d36-425c-b8a0-693dd1389db0",
   "metadata": {},
   "outputs": [
    {
     "data": {
      "text/plain": [
       "array([4, 3, 5])"
      ]
     },
     "execution_count": 186,
     "metadata": {},
     "output_type": "execute_result"
    }
   ],
   "source": [
    "new_arr2 = b[(b>1) & (b<10)]\n",
    "new_arr2"
   ]
  },
  {
   "cell_type": "code",
   "execution_count": 187,
   "id": "a3e52476-43a1-4563-b2a9-591f76540a06",
   "metadata": {},
   "outputs": [
    {
     "data": {
      "text/plain": [
       "array([ 4, 16, 10,  3,  5])"
      ]
     },
     "execution_count": 187,
     "metadata": {},
     "output_type": "execute_result"
    }
   ],
   "source": [
    "b"
   ]
  },
  {
   "cell_type": "code",
   "execution_count": 188,
   "id": "5f776582-e39a-4a35-a09a-7ee88b72caed",
   "metadata": {},
   "outputs": [
    {
     "data": {
      "text/plain": [
       "array([15, 36, 16,  7, 15])"
      ]
     },
     "execution_count": 188,
     "metadata": {},
     "output_type": "execute_result"
    }
   ],
   "source": [
    "c"
   ]
  },
  {
   "cell_type": "code",
   "execution_count": 189,
   "id": "7277f28e-3160-4b5d-9b85-c28c6b969068",
   "metadata": {},
   "outputs": [],
   "source": [
    "c[:3]=10"
   ]
  },
  {
   "cell_type": "code",
   "execution_count": 190,
   "id": "6844e221-fd92-4cab-95b4-54db0b9bcc60",
   "metadata": {},
   "outputs": [
    {
     "data": {
      "text/plain": [
       "array([10, 10, 10,  7, 15])"
      ]
     },
     "execution_count": 190,
     "metadata": {},
     "output_type": "execute_result"
    }
   ],
   "source": [
    "c"
   ]
  },
  {
   "cell_type": "code",
   "execution_count": 193,
   "id": "cf7869d6-a61e-4755-8d21-ac585135c469",
   "metadata": {},
   "outputs": [],
   "source": [
    "c[c>10] =100"
   ]
  },
  {
   "cell_type": "code",
   "execution_count": 194,
   "id": "6126f73f-4652-46b8-a825-bd47fe9941bf",
   "metadata": {},
   "outputs": [
    {
     "data": {
      "text/plain": [
       "array([ 10,  10,  10,   7, 100])"
      ]
     },
     "execution_count": 194,
     "metadata": {},
     "output_type": "execute_result"
    }
   ],
   "source": [
    "c"
   ]
  },
  {
   "cell_type": "code",
   "execution_count": 195,
   "id": "80ce04fe-27c9-4cc2-951e-c8c10af65724",
   "metadata": {},
   "outputs": [
    {
     "data": {
      "text/plain": [
       "array([11, 20,  6,  4, 10])"
      ]
     },
     "execution_count": 195,
     "metadata": {},
     "output_type": "execute_result"
    }
   ],
   "source": [
    "a"
   ]
  },
  {
   "cell_type": "code",
   "execution_count": 196,
   "id": "e56acda6-0d8f-4f39-a36c-a109b7076434",
   "metadata": {},
   "outputs": [
    {
     "data": {
      "text/plain": [
       "array([ 10,  10,  10,   7, 100])"
      ]
     },
     "execution_count": 196,
     "metadata": {},
     "output_type": "execute_result"
    }
   ],
   "source": [
    "c"
   ]
  },
  {
   "cell_type": "code",
   "execution_count": 198,
   "id": "7358f6f8-f884-4cac-a5cb-312611e6e9a4",
   "metadata": {},
   "outputs": [
    {
     "name": "stdout",
     "output_type": "stream",
     "text": [
      "[10 10 10]\n"
     ]
    }
   ],
   "source": [
    "print(c[c ==10])"
   ]
  },
  {
   "cell_type": "code",
   "execution_count": 199,
   "id": "e7f705fb-d9a5-41c2-a084-a85a8d05c3bb",
   "metadata": {},
   "outputs": [],
   "source": [
    "# indexes array\n",
    "\n",
    "ind = np.where(c==10)"
   ]
  },
  {
   "cell_type": "code",
   "execution_count": 200,
   "id": "a85b6207-aedd-45db-8705-d7bbf4775498",
   "metadata": {},
   "outputs": [
    {
     "data": {
      "text/plain": [
       "(array([0, 1, 2], dtype=int64),)"
      ]
     },
     "execution_count": 200,
     "metadata": {},
     "output_type": "execute_result"
    }
   ],
   "source": [
    "ind"
   ]
  },
  {
   "cell_type": "code",
   "execution_count": 210,
   "id": "e8e8f88f-5692-43ce-8a3d-0bad956ab58a",
   "metadata": {},
   "outputs": [
    {
     "name": "stdout",
     "output_type": "stream",
     "text": [
      "14\n",
      "14\n"
     ]
    },
    {
     "data": {
      "text/plain": [
       "(array([ 0,  4,  7, 13], dtype=int64),)"
      ]
     },
     "execution_count": 210,
     "metadata": {},
     "output_type": "execute_result"
    }
   ],
   "source": [
    "a= np.array(['t','b','r','d','e','f','z','a','w','y','y','h','t','j'])\n",
    "print(len(a))\n",
    "b= np.array([100,120,140,190,100,200,120,100,240,250,300,320,400,100])\n",
    "print(len(b))\n",
    "ind= np.where(b==100)\n",
    "ind"
   ]
  },
  {
   "cell_type": "code",
   "execution_count": 211,
   "id": "d0cd6f0a-ec4d-4e12-bd8e-c414950ce517",
   "metadata": {},
   "outputs": [
    {
     "name": "stdout",
     "output_type": "stream",
     "text": [
      "['t' 'e' 'a' 'j']\n"
     ]
    }
   ],
   "source": [
    "# if b[i]==100 then only print a[i]\n",
    "print(a[ind]) #need same size "
   ]
  },
  {
   "cell_type": "code",
   "execution_count": 216,
   "id": "0c93bb90-48d7-4ec2-9597-fb72422ce46a",
   "metadata": {},
   "outputs": [
    {
     "name": "stdout",
     "output_type": "stream",
     "text": [
      "[120 190 100 120 100 250 400]\n",
      "(array([ 1,  3,  4,  6,  7,  9, 12], dtype=int64),)\n",
      "[120 190 100 120 100 250 400]\n"
     ]
    }
   ],
   "source": [
    "a= np.array([0,120,0,190,100,0,120,100,0,250,0,0,400,0])\n",
    "\n",
    "# extract non zero elements indexes\n",
    "list= a[a>0]\n",
    "\n",
    "print(list)\n",
    "indexes= np.where(a>0)\n",
    "print(indexes)\n",
    "print(a[indexes])"
   ]
  },
  {
   "cell_type": "code",
   "execution_count": 222,
   "id": "d6bc910b-aa26-4973-b500-8d977c128873",
   "metadata": {},
   "outputs": [
    {
     "name": "stdout",
     "output_type": "stream",
     "text": [
      "[ 1  3  5  7  9 11 13 15 17 19 21 23 25 27 29]\n",
      "(array([ 1,  4,  7, 10, 13], dtype=int64),)\n",
      "[ 3  9 15 21 27]\n"
     ]
    }
   ],
   "source": [
    "a= np.array([i for i in range(1,30,2)])\n",
    "\n",
    "print(a)\n",
    "# list= a[a>0]\n",
    "\n",
    "# print(list)\n",
    "\n",
    "indexes= np.where(a%3==0)\n",
    "\n",
    "print(indexes)\n",
    "print(a[indexes])"
   ]
  },
  {
   "cell_type": "code",
   "execution_count": 223,
   "id": "ee7e344f-c977-4468-afb8-72af77e008fa",
   "metadata": {},
   "outputs": [
    {
     "data": {
      "text/plain": [
       "array([-1,  2, -1,  4, -1,  6, -1,  8, -1, 10])"
      ]
     },
     "execution_count": 223,
     "metadata": {},
     "output_type": "execute_result"
    }
   ],
   "source": [
    "a=np.array([i for i in range(1,11)])\n",
    "\n",
    "# replace the odd numbers in numpy array with -1\n",
    "\n",
    "indexes = np.where(a%2==1)\n",
    "\n",
    "a[indexes]=-1\n",
    "\n",
    "a"
   ]
  },
  {
   "cell_type": "code",
   "execution_count": 224,
   "id": "022a9c50-1edd-407a-96d5-f4f58785e061",
   "metadata": {},
   "outputs": [
    {
     "name": "stdout",
     "output_type": "stream",
     "text": [
      "11\n",
      "12\n",
      "13\n",
      "14\n",
      "15\n",
      "16\n",
      "17\n",
      "18\n",
      "0\n"
     ]
    }
   ],
   "source": [
    "# replace the first occurence by 0\n",
    "\n",
    "a= np.array([i for i in range(11,20)])\n",
    "\n",
    "a[a.argmax()]=0\n",
    "\n",
    "for i in a:\n",
    "    print(i)\n"
   ]
  },
  {
   "cell_type": "code",
   "execution_count": 226,
   "id": "afcfe6ab-d93e-4e01-830d-b1a522b36a4a",
   "metadata": {},
   "outputs": [
    {
     "data": {
      "text/plain": [
       "array([ 0,  1,  2, -1, -1, -1, -1, -1, -1,  9, 10, 11, 12, 13, 14])"
      ]
     },
     "execution_count": 226,
     "metadata": {},
     "output_type": "execute_result"
    }
   ],
   "source": [
    "# negate nums btw 3,8 indexes\n",
    "import numpy as np\n",
    "arr = np.arange(1,11)\n",
    "arr[2:8] = np.multiply(arr[2:8],-1)\n",
    "for i in arr:\n",
    "    print(i)"
   ]
  },
  {
   "cell_type": "code",
   "execution_count": 227,
   "id": "7c2d4b97-e9e9-4854-855c-6c97b7f1dc79",
   "metadata": {},
   "outputs": [
    {
     "name": "stdout",
     "output_type": "stream",
     "text": [
      "[15 16 17 17 15 17 16 17 16 16 17 15 16 17 15 16 17 16 17 17]\n",
      "[157 164 160 154 161 161 151 153 152 163 153 156 164 164 158 154 163 155\n",
      " 157 155]\n"
     ]
    }
   ],
   "source": [
    "ages=np.random.randint(15,18,20)\n",
    "heights=np.random.randint(150,165,20)\n",
    "print(ages)\n",
    "print(heights)"
   ]
  },
  {
   "cell_type": "code",
   "execution_count": 228,
   "id": "3d06c33a-628f-463a-9b06-e930f85de386",
   "metadata": {},
   "outputs": [
    {
     "name": "stdout",
     "output_type": "stream",
     "text": [
      "[15 16 17 15 17 16 15 16 17 15 17 17]\n"
     ]
    }
   ],
   "source": [
    "# print the age of students whose height is above 155\n",
    "\n",
    "above_155 = heights>155\n",
    "\n",
    "print(ages[above_155])"
   ]
  },
  {
   "cell_type": "code",
   "execution_count": null,
   "id": "0d9d19de-fa55-430e-bd88-282aad655f03",
   "metadata": {},
   "outputs": [],
   "source": []
  }
 ],
 "metadata": {
  "kernelspec": {
   "display_name": "Python 3 (ipykernel)",
   "language": "python",
   "name": "python3"
  },
  "language_info": {
   "codemirror_mode": {
    "name": "ipython",
    "version": 3
   },
   "file_extension": ".py",
   "mimetype": "text/x-python",
   "name": "python",
   "nbconvert_exporter": "python",
   "pygments_lexer": "ipython3",
   "version": "3.11.3"
  }
 },
 "nbformat": 4,
 "nbformat_minor": 5
}
