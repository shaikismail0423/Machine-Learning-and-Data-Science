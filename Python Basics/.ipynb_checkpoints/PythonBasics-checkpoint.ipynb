{
 "cells": [
  {
   "cell_type": "markdown",
   "id": "fe882319-fb7f-443f-ab0e-b53c20aec3ad",
   "metadata": {},
   "source": [
    "## Intro to Jupyter\n",
    "\n",
    "You can choose accordingly\n",
    "\n",
    "ctrl+enter\n",
    "alt+enter => next cell kooda vasthadi"
   ]
  },
  {
   "cell_type": "code",
   "execution_count": 1,
   "id": "0b95b443-7a03-43a9-b846-4b2015627593",
   "metadata": {},
   "outputs": [
    {
     "name": "stdout",
     "output_type": "stream",
     "text": [
      "Hello World\n",
      "Another HelloWorld \n"
     ]
    }
   ],
   "source": [
    "a=10\n",
    "print('Hello World')\n",
    "print('Another HelloWorld ')\n"
   ]
  },
  {
   "cell_type": "markdown",
   "id": "ce6b7d63-8e58-4e65-b0ab-9729af0c16e6",
   "metadata": {},
   "source": [
    "### variables"
   ]
  },
  {
   "cell_type": "code",
   "execution_count": null,
   "id": "48fe4845-297f-487a-a7a2-9fabd09d2693",
   "metadata": {},
   "outputs": [],
   "source": []
  }
 ],
 "metadata": {
  "kernelspec": {
   "display_name": "Python 3 (ipykernel)",
   "language": "python",
   "name": "python3"
  },
  "language_info": {
   "codemirror_mode": {
    "name": "ipython",
    "version": 3
   },
   "file_extension": ".py",
   "mimetype": "text/x-python",
   "name": "python",
   "nbconvert_exporter": "python",
   "pygments_lexer": "ipython3",
   "version": "3.11.3"
  }
 },
 "nbformat": 4,
 "nbformat_minor": 5
}
