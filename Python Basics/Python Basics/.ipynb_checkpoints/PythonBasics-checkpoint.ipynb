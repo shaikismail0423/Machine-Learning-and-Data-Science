{
 "cells": [
  {
   "cell_type": "markdown",
   "id": "4a6341e2-9276-4719-80c8-984cdc8bf389",
   "metadata": {},
   "source": [
    "# Intro to Jupyter\n",
    "\n",
    "Jupyter notebooks are a powerful tool for interactive programming and data analysis. They provide a convenient way to work with code, text, and visualizations all in one place. Here are some essential keyboard shortcuts.\n",
    "\n",
    "- `Ctrl+Enter`: Execute the current cell and stay on the same cell.\n",
    "- `Alt+Enter`: Execute the current cell and move to the next cell.\n",
    "- `Shift+Enter`: Execute the current cell and move to the next cell.\n"
   ]
  },
  {
   "cell_type": "code",
   "execution_count": 125,
   "id": "0b95b443-7a03-43a9-b846-4b2015627593",
   "metadata": {},
   "outputs": [
    {
     "name": "stdout",
     "output_type": "stream",
     "text": [
      "Namaste World\n",
      "This is Ismail\n"
     ]
    },
    {
     "data": {
      "text/plain": [
       "10"
      ]
     },
     "execution_count": 125,
     "metadata": {},
     "output_type": "execute_result"
    }
   ],
   "source": [
    "a=10\n",
    "print('Namaste World')\n",
    "print('This is Ismail')\n",
    "10"
   ]
  },
  {
   "cell_type": "markdown",
   "id": "ce6b7d63-8e58-4e65-b0ab-9729af0c16e6",
   "metadata": {},
   "source": [
    "# Variables\n",
    "In Python, variables are used to store data values. They act as containers to hold different types of information, such as numbers, strings, lists, dictionaries, and more\n",
    "\n",
    "\n",
    "```python\n",
    "variable_name = value\n",
    "```\n",
    "\n",
    "Here's an example of creating variables in Python:\n",
    "\n",
    "```python\n",
    "# Integer variable\n",
    "age = 30\n",
    "\n",
    "# String variable\n",
    "name = \"Ismail\"\n",
    "\n",
    "# List variable\n",
    "fruits = ['apple', 'banana', 'orange']\n",
    "\n",
    "# Dictionary variable\n",
    "person = {'name': 'Ismail', 'age': 21, 'occupation': 'Engineer'}\n",
    "```\n",
    "\n",
    "Variable names in Python should follow some rules:\n",
    "\n",
    "1. They must start with a letter (a-z, A-Z) or an underscore (_).\n",
    "2. The rest of the name can consist of letters, underscores, and numbers (0-9).\n",
    "3. Variable names are case-sensitive (e.g., `age` and `Age` are different variables).\n",
    "4. Avoid using reserved keywords (e.g., `if`, `for`, `while`, etc.) as variable names."
   ]
  },
  {
   "cell_type": "code",
   "execution_count": 8,
   "id": "48fe4845-297f-487a-a7a2-9fabd09d2693",
   "metadata": {},
   "outputs": [
    {
     "name": "stdout",
     "output_type": "stream",
     "text": [
      "30\n",
      "10 20\n"
     ]
    }
   ],
   "source": [
    "a=10\n",
    "b=20\n",
    "sum=a+b\n",
    "print(sum)\n",
    "print(a,b)"
   ]
  },
  {
   "cell_type": "code",
   "execution_count": 11,
   "id": "4f8c4c9c-f773-453f-9da0-3e320112985a",
   "metadata": {},
   "outputs": [
    {
     "name": "stdout",
     "output_type": "stream",
     "text": [
      "10\n"
     ]
    }
   ],
   "source": [
    "ac_c1= 10\n",
    "#this is a comment\n",
    "print(ac_c1)"
   ]
  },
  {
   "cell_type": "markdown",
   "id": "f3aaef52-e577-43fe-bcbd-b6ef57857229",
   "metadata": {},
   "source": [
    "## Assigning Different type of data to a variable\n",
    "\n",
    "variables are dynamically typed, which means you can reassign a variable to different types of data at any point in your code.\n"
   ]
  },
  {
   "cell_type": "code",
   "execution_count": 126,
   "id": "42a2e5f9-54a9-41a0-bdf9-193384b8177a",
   "metadata": {},
   "outputs": [
    {
     "name": "stdout",
     "output_type": "stream",
     "text": [
      "10\n",
      "20\n",
      "Hi, this is ismail\n"
     ]
    }
   ],
   "source": [
    "a = 10\n",
    "print(a)  # Output: 10\n",
    "\n",
    "a = 20\n",
    "print(a)  # Output: 20\n",
    "\n",
    "a = \"Hi, this is ismail\"\n",
    "print(a)  # Output: Hi this is ismail"
   ]
  },
  {
   "cell_type": "markdown",
   "id": "cb7f8609-f38f-4bc0-9f0c-f2c104a1aa32",
   "metadata": {},
   "source": [
    "- The type() function is used to determine the type of an object in Python\n",
    "- The id() function is used to get the unique identifier (memory address) of an object in Python"
   ]
  },
  {
   "cell_type": "code",
   "execution_count": 14,
   "id": "3ed0901c-2252-40f8-8346-de8636263254",
   "metadata": {},
   "outputs": [
    {
     "name": "stdout",
     "output_type": "stream",
     "text": [
      "Hi this is ismail <class 'str'>\n"
     ]
    }
   ],
   "source": [
    "print(a,type(a))"
   ]
  },
  {
   "cell_type": "code",
   "execution_count": 9,
   "id": "9f24b942-5e41-4356-a13d-9f53c0563ae9",
   "metadata": {},
   "outputs": [
    {
     "name": "stdout",
     "output_type": "stream",
     "text": [
      "10 <class 'int'>\n"
     ]
    }
   ],
   "source": [
    "a=10\n",
    "a=10\n",
    "print(a,type(a))"
   ]
  },
  {
   "cell_type": "code",
   "execution_count": 21,
   "id": "483d48f8-e2de-4175-9da9-aa5afbe4638b",
   "metadata": {},
   "outputs": [
    {
     "name": "stdout",
     "output_type": "stream",
     "text": [
      "23 <class 'int'>\n",
      "3.4 <class 'float'>\n",
      "(4+5j) <class 'complex'>\n"
     ]
    }
   ],
   "source": [
    "a1 = 23\n",
    "a2= 3.4\n",
    "a3= 4+5j\n",
    "print(a1,type(a1))\n",
    "print(a2,type(a2))\n",
    "print(a3,type(a3))"
   ]
  },
  {
   "cell_type": "markdown",
   "id": "08370965-b655-4025-9bcd-a9dfd9354152",
   "metadata": {},
   "source": [
    "- Each time we assign a new value to the variable a, it creates a new object and, hence, a new memory address. As a result, the id() function will return different unique identifiers for each value assigned to a."
   ]
  },
  {
   "cell_type": "code",
   "execution_count": 20,
   "id": "84e243f1-483c-4ed9-a253-33bb6a5d2dca",
   "metadata": {},
   "outputs": [
    {
     "name": "stdout",
     "output_type": "stream",
     "text": [
      "140731876893576\n",
      "140731876893608\n",
      "140731876893640\n"
     ]
    }
   ],
   "source": [
    "a=4\n",
    "\n",
    "print(id(a)) #unique identification number for that variable(meta)\n",
    "a=5\n",
    "\n",
    "print(id(a))\n",
    "\n",
    "a=6\n",
    "print(id(a))\n"
   ]
  },
  {
   "cell_type": "code",
   "execution_count": 127,
   "id": "7b3863b8-b1b6-4b13-b692-305f0d7a320a",
   "metadata": {},
   "outputs": [
    {
     "name": "stdout",
     "output_type": "stream",
     "text": [
      "140732494111816\n",
      "140732494111816\n"
     ]
    }
   ],
   "source": [
    "a=10\n",
    "b=10\n",
    "print(id(a))\n",
    "print(id(b))\n",
    "# points to same value\n",
    "# this optimmization only for -5 to 256"
   ]
  },
  {
   "cell_type": "code",
   "execution_count": null,
   "id": "9dd07ac8-6c86-4114-985d-956393bbeead",
   "metadata": {},
   "outputs": [],
   "source": [
    "a=1000\n",
    "b=1000\n",
    "print(id(a))\n",
    "print(id(b))"
   ]
  },
  {
   "cell_type": "code",
   "execution_count": 128,
   "id": "ce4d7bee-8d6d-4103-949f-8630c7512471",
   "metadata": {},
   "outputs": [],
   "source": [
    "# for java/c++ some fixed memory for integer ex:4 bytes\n",
    "# For python its different\n",
    "\n",
    "a=10000000 #there is no limit to how big the variable is, it is up to memory left"
   ]
  },
  {
   "cell_type": "markdown",
   "id": "31288dae-de56-4d7f-a846-c93df944a5f7",
   "metadata": {},
   "source": [
    "# Arithmetic Operations\r\n",
    "\r\n",
    "The basic arithmetic operations are:\r\n",
    "\r\n",
    "- Addition (+)\r\n",
    "- Subtraction (-)\r\n",
    "- Multiplication (*)\r\n",
    "- Division (/)\r\n",
    "- Integer Division (//)\r\n",
    "- Exponentiation (**)\r\n",
    "- Modulus (%)\r\n"
   ]
  },
  {
   "cell_type": "code",
   "execution_count": 26,
   "id": "f2327794-3b98-4acf-9209-a3bd9aaa901d",
   "metadata": {},
   "outputs": [
    {
     "name": "stdout",
     "output_type": "stream",
     "text": [
      "13\n",
      "5\n",
      "36\n",
      "2.25\n",
      "2\n",
      "6561\n",
      "1\n"
     ]
    }
   ],
   "source": [
    "a=9\n",
    "b=4\n",
    "print(a+b)\n",
    "print(a-b)\n",
    "print(a*b)\n",
    "print(a/b)  # returns float\n",
    "print(a//b) #integer division\n",
    "print(a**b) #exponentiation\n",
    "print(a%b) #remaindeer"
   ]
  },
  {
   "cell_type": "code",
   "execution_count": 37,
   "id": "1872ac8f-18d2-44fe-a244-20323408a5f1",
   "metadata": {},
   "outputs": [],
   "source": [
    "# Just put barckets to avoid unwanted behavior in calculations"
   ]
  },
  {
   "cell_type": "code",
   "execution_count": 27,
   "id": "07f74dc8-760f-429b-8171-4c806c1edcf2",
   "metadata": {},
   "outputs": [
    {
     "data": {
      "text/plain": [
       "1.5"
      ]
     },
     "execution_count": 27,
     "metadata": {},
     "output_type": "execute_result"
    }
   ],
   "source": [
    "2*3/4"
   ]
  },
  {
   "cell_type": "code",
   "execution_count": 28,
   "id": "baf68982-a80a-4bc1-835b-cbb447d78686",
   "metadata": {},
   "outputs": [
    {
     "data": {
      "text/plain": [
       "0"
      ]
     },
     "execution_count": 28,
     "metadata": {},
     "output_type": "execute_result"
    }
   ],
   "source": [
    "2*(3//4)"
   ]
  },
  {
   "cell_type": "code",
   "execution_count": 29,
   "id": "9d64336c-c618-44da-ba34-98b3e51e36c4",
   "metadata": {},
   "outputs": [
    {
     "data": {
      "text/plain": [
       "1"
      ]
     },
     "execution_count": 29,
     "metadata": {},
     "output_type": "execute_result"
    }
   ],
   "source": [
    "(2*3)//4"
   ]
  },
  {
   "cell_type": "code",
   "execution_count": 30,
   "id": "e8065fe2-184c-4ad6-8d3e-6f9cf737c336",
   "metadata": {},
   "outputs": [
    {
     "name": "stdout",
     "output_type": "stream",
     "text": [
      "25\n"
     ]
    }
   ],
   "source": [
    "## Simple Intrest\n",
    "p=100\n",
    "t=5\n",
    "r=5\n",
    "print((p*t*r)//100)"
   ]
  },
  {
   "cell_type": "code",
   "execution_count": 31,
   "id": "71570a9c-d4c8-46d4-832d-300664eb0d39",
   "metadata": {},
   "outputs": [
    {
     "data": {
      "text/plain": [
       "37.77777777777778"
      ]
     },
     "execution_count": 31,
     "metadata": {},
     "output_type": "execute_result"
    }
   ],
   "source": [
    "# fareheit to celcius\n",
    "f=100\n",
    "c=(f-32)*5/9\n",
    "c"
   ]
  },
  {
   "cell_type": "markdown",
   "id": "abba8244-1e93-4b1f-bed4-a98de43e1e4e",
   "metadata": {},
   "source": [
    "# Input"
   ]
  },
  {
   "cell_type": "code",
   "execution_count": 33,
   "id": "d192fd1e-da8c-4289-aebe-e519cf00dae2",
   "metadata": {},
   "outputs": [
    {
     "name": "stdin",
     "output_type": "stream",
     "text": [
      " 5\n"
     ]
    },
    {
     "name": "stdout",
     "output_type": "stream",
     "text": [
      "<class 'str'> 5\n"
     ]
    }
   ],
   "source": [
    "a=input() #always takes as string\n",
    "print(type(a),a)"
   ]
  },
  {
   "cell_type": "code",
   "execution_count": 36,
   "id": "8e10e934-edee-413c-9d92-fc5de874048c",
   "metadata": {},
   "outputs": [
    {
     "name": "stdin",
     "output_type": "stream",
     "text": [
      " 12\n",
      " 79\n"
     ]
    },
    {
     "name": "stdout",
     "output_type": "stream",
     "text": [
      "<class 'int'>\n",
      "91.0\n",
      "5 <class 'int'>\n"
     ]
    }
   ],
   "source": [
    "a=float(input()) # input should be valid integer/float, otherwise error\n",
    "b=int(input()) # input should be valid integer, otherwise error\n",
    "print(type(b)) \n",
    "\n",
    "c=a+b\n",
    "print(c)\n",
    "\n",
    "i = int(5.5)\n",
    "print(i,type(i))"
   ]
  },
  {
   "cell_type": "markdown",
   "id": "3077b6e0-c31d-4d33-bcdc-a6a2571780a3",
   "metadata": {},
   "source": [
    "# Boolean "
   ]
  },
  {
   "cell_type": "code",
   "execution_count": 129,
   "id": "772cae46-1aff-496d-b9cf-53b805fafbca",
   "metadata": {},
   "outputs": [
    {
     "data": {
      "text/plain": [
       "bool"
      ]
     },
     "execution_count": 129,
     "metadata": {},
     "output_type": "execute_result"
    }
   ],
   "source": [
    "a=True\n",
    "b=False # capital\n",
    "\n",
    "c=\"World\"\n",
    "type(b)"
   ]
  },
  {
   "cell_type": "markdown",
   "id": "d57d6e9c-373f-439b-b962-ed0a2702212e",
   "metadata": {},
   "source": [
    "# Relational Operator"
   ]
  },
  {
   "cell_type": "code",
   "execution_count": 39,
   "id": "e48db34b-fd66-4c99-8ab8-41fee3356086",
   "metadata": {},
   "outputs": [
    {
     "name": "stdout",
     "output_type": "stream",
     "text": [
      "False\n",
      "False\n",
      "True\n",
      "False\n",
      "True\n"
     ]
    }
   ],
   "source": [
    "a=10\n",
    "b=20\n",
    "print(a>b)\n",
    "print(a>=b)\n",
    "print(a<=b)\n",
    "print(a==b)\n",
    "print(a!=b)"
   ]
  },
  {
   "cell_type": "markdown",
   "id": "32950351-991c-4a53-9ffb-1426db6d2720",
   "metadata": {},
   "source": [
    "# Logical Operators"
   ]
  },
  {
   "cell_type": "code",
   "execution_count": 40,
   "id": "d48a3b61-99a4-4c5c-9939-75bee9f8e354",
   "metadata": {},
   "outputs": [
    {
     "name": "stdout",
     "output_type": "stream",
     "text": [
      "False True True\n"
     ]
    }
   ],
   "source": [
    "a = 5>10\n",
    "b = 4<5\n",
    "c = False\n",
    "\n",
    "r1 = a and b\n",
    "r2 = a or b\n",
    "r3 = not c\n",
    "\n",
    "print(r1,r2,r3)"
   ]
  },
  {
   "cell_type": "markdown",
   "id": "393027cf-56bd-4219-a79a-531a13b85c98",
   "metadata": {},
   "source": [
    "# Conditional Operators"
   ]
  },
  {
   "cell_type": "code",
   "execution_count": 41,
   "id": "bd8e938e-5d35-4a64-890e-59866eb8f670",
   "metadata": {},
   "outputs": [
    {
     "name": "stdout",
     "output_type": "stream",
     "text": [
      "True\n"
     ]
    }
   ],
   "source": [
    "if a>b:\n",
    "    print(\"False\")\n",
    "else:\n",
    "    print(\"True\")\n",
    "\n",
    "#identation is very important"
   ]
  },
  {
   "cell_type": "code",
   "execution_count": 42,
   "id": "bf38e73b-f3c1-46b6-85c5-28e1b2370ea6",
   "metadata": {},
   "outputs": [
    {
     "name": "stdin",
     "output_type": "stream",
     "text": [
      " 5456\n"
     ]
    },
    {
     "name": "stdout",
     "output_type": "stream",
     "text": [
      "Even\n"
     ]
    }
   ],
   "source": [
    "# even or odd\n",
    "n= int(input())\n",
    "if n%2==0:\n",
    "    print(\"Even\")\n",
    "else:\n",
    "    print(\"Odd\")"
   ]
  },
  {
   "cell_type": "markdown",
   "id": "0ce4d5ba-4f52-4afb-b5bb-a75b31c44226",
   "metadata": {},
   "source": [
    "# Ternary operator syntax in python"
   ]
  },
  {
   "cell_type": "code",
   "execution_count": 43,
   "id": "5e7c074b-e846-4d8d-a9c0-c4333759ccff",
   "metadata": {},
   "outputs": [
    {
     "name": "stdin",
     "output_type": "stream",
     "text": [
      " 454561\n"
     ]
    },
    {
     "name": "stdout",
     "output_type": "stream",
     "text": [
      "Odd\n"
     ]
    }
   ],
   "source": [
    "n= int(input())\n",
    "print(\"Even\") if n%2==0 else print(\"Odd\")"
   ]
  },
  {
   "cell_type": "code",
   "execution_count": 44,
   "id": "25d86b0f-3e0a-419e-8915-2904f8b5b702",
   "metadata": {},
   "outputs": [
    {
     "name": "stdin",
     "output_type": "stream",
     "text": [
      " 12\n",
      " 45\n"
     ]
    },
    {
     "name": "stdout",
     "output_type": "stream",
     "text": [
      "True\n"
     ]
    }
   ],
   "source": [
    "a = int(input())\n",
    "b = int(input())\n",
    "\n",
    "if a>10 and b> 10:\n",
    "    print(\"True\")\n",
    "else:\n",
    "    print(\"False\")\n",
    "    "
   ]
  },
  {
   "cell_type": "code",
   "execution_count": 46,
   "id": "7c93acbd-98a1-4c88-8d6a-0b1d706c2ff6",
   "metadata": {},
   "outputs": [
    {
     "name": "stdin",
     "output_type": "stream",
     "text": [
      " 45\n",
      " 45\n",
      " 41\n"
     ]
    },
    {
     "name": "stdout",
     "output_type": "stream",
     "text": [
      "max: 45\n"
     ]
    }
   ],
   "source": [
    "#finding largest of three\n",
    "\n",
    "a= int(input())\n",
    "b= int(input())\n",
    "c= int(input())\n",
    "\n",
    "if a>=b and a>=c:\n",
    "    print(\"max:\",a)\n",
    "elif b>=a and b>=c:\n",
    "    print(\"max:\",b)\n",
    "else:\n",
    "    print(\"max:\",c)\n",
    "    "
   ]
  },
  {
   "cell_type": "code",
   "execution_count": 47,
   "id": "c30b10e4-95dc-4b49-a10c-aab8e6951e66",
   "metadata": {},
   "outputs": [
    {
     "name": "stdin",
     "output_type": "stream",
     "text": [
      " 45\n"
     ]
    },
    {
     "name": "stdout",
     "output_type": "stream",
     "text": [
      "Red\n"
     ]
    }
   ],
   "source": [
    "n= int(input())\n",
    "if n> 10:\n",
    "    print(\"Red\")\n",
    "elif n>=5:\n",
    "    print(\"Green\")\n",
    "elif n>0:\n",
    "    print(\"Yellow\")\n",
    "    "
   ]
  },
  {
   "cell_type": "code",
   "execution_count": 48,
   "id": "b1bf2e40-b1c0-4af8-b28d-b48419697e27",
   "metadata": {},
   "outputs": [
    {
     "name": "stdin",
     "output_type": "stream",
     "text": [
      " 45\n"
     ]
    },
    {
     "name": "stdout",
     "output_type": "stream",
     "text": [
      "Positive\n"
     ]
    }
   ],
   "source": [
    "n= int(input())\n",
    "\n",
    "if n>0:\n",
    "    print(\"Positive\")\n",
    "elif n<0:\n",
    "    print( \"Negative\")\n",
    "else:\n",
    "    print( \"Zero\")\n"
   ]
  },
  {
   "cell_type": "markdown",
   "id": "c7197183-77d0-4ec4-8150-7b2b60e2ab3e",
   "metadata": {},
   "source": [
    "# Nested Conditionals"
   ]
  },
  {
   "cell_type": "code",
   "execution_count": 49,
   "id": "f06ed2fc-5f9e-478d-b8f7-3adf8c5192c9",
   "metadata": {},
   "outputs": [
    {
     "name": "stdin",
     "output_type": "stream",
     "text": [
      " 789\n"
     ]
    },
    {
     "name": "stdout",
     "output_type": "stream",
     "text": [
      "Odd\n"
     ]
    }
   ],
   "source": [
    "n= int(input())\n",
    "if n%2==0:\n",
    "    print(\"Even\")\n",
    "    if n==0:\n",
    "        print(\"zero\")\n",
    "else:\n",
    "    print(\"Odd\")"
   ]
  },
  {
   "cell_type": "markdown",
   "id": "f8175f73-74c3-4c2a-a5fc-7d74b142d83f",
   "metadata": {},
   "source": [
    "# Loops"
   ]
  },
  {
   "cell_type": "code",
   "execution_count": 50,
   "id": "02d8910b-c456-4a41-a58d-409079ab6601",
   "metadata": {},
   "outputs": [
    {
     "name": "stdin",
     "output_type": "stream",
     "text": [
      " 5\n"
     ]
    },
    {
     "name": "stdout",
     "output_type": "stream",
     "text": [
      "1\n",
      "2\n",
      "3\n",
      "4\n",
      "5\n"
     ]
    }
   ],
   "source": [
    "#first n natural numbers\n",
    "\n",
    "n =  int(input())\n",
    "i=1\n",
    "while i<=n:\n",
    "    print(i)\n",
    "    i+=1"
   ]
  },
  {
   "cell_type": "code",
   "execution_count": 51,
   "id": "11fb705d-d2f2-42dc-a5dc-de3d4b096aed",
   "metadata": {},
   "outputs": [
    {
     "name": "stdin",
     "output_type": "stream",
     "text": [
      " 456\n"
     ]
    },
    {
     "name": "stdout",
     "output_type": "stream",
     "text": [
      "104196\n"
     ]
    }
   ],
   "source": [
    "#sum of n natural numbers\n",
    "\n",
    "n =  int(input())\n",
    "sum=0\n",
    "i=1\n",
    "while i<=n:\n",
    "    sum+=i\n",
    "    i+=1\n",
    "print(sum)"
   ]
  },
  {
   "cell_type": "code",
   "execution_count": 52,
   "id": "6e16a88c-6de6-474d-a34d-abc5e2566bcc",
   "metadata": {},
   "outputs": [
    {
     "name": "stdin",
     "output_type": "stream",
     "text": [
      " 11\n"
     ]
    },
    {
     "name": "stdout",
     "output_type": "stream",
     "text": [
      "Prime\n"
     ]
    }
   ],
   "source": [
    "#prime or not\n",
    "import math\n",
    "n =  int(input())\n",
    "i=2\n",
    "istrue= True\n",
    "\n",
    "while i <= math.sqrt(n):\n",
    "    if n%i ==0:\n",
    "        istrue= False\n",
    "    i+=1\n",
    "if istrue:\n",
    "    print(\"Prime\")\n",
    "else:\n",
    "    print(\"Not Prime\")"
   ]
  },
  {
   "cell_type": "markdown",
   "id": "1f53ead3-fc46-46ca-8ac5-ba5729e5d6e0",
   "metadata": {},
   "source": [
    "# Nested While"
   ]
  },
  {
   "cell_type": "code",
   "execution_count": 56,
   "id": "69be8026-49a5-45d7-8536-21dfa803a4a5",
   "metadata": {},
   "outputs": [
    {
     "name": "stdin",
     "output_type": "stream",
     "text": [
      " 11\n"
     ]
    },
    {
     "name": "stdout",
     "output_type": "stream",
     "text": [
      "2 Prime\n",
      "3 Prime\n",
      "5 Prime\n",
      "7 Prime\n",
      "11 Prime\n"
     ]
    }
   ],
   "source": [
    "# print all prime numbers between range 2,n\n",
    "n =  int(input())\n",
    "\n",
    "i = 2\n",
    "\n",
    "while i<=n:\n",
    "    istrue= True\n",
    "    j=2\n",
    "    while j <= math.sqrt(i):\n",
    "        if i%j ==0:\n",
    "            istrue= False\n",
    "        j+=1\n",
    "    if istrue:\n",
    "        print(i,\"Prime\")\n",
    "        \n",
    "    i+=1\n"
   ]
  },
  {
   "cell_type": "code",
   "execution_count": 57,
   "id": "7c5b884c-3f9b-4ae1-a820-3e1282fc9e52",
   "metadata": {},
   "outputs": [
    {
     "name": "stdin",
     "output_type": "stream",
     "text": [
      " 0\n",
      " 200\n",
      " 30\n"
     ]
    },
    {
     "name": "stdout",
     "output_type": "stream",
     "text": [
      "-17.77777777777778\n",
      "-1.1111111111111112\n",
      "15.555555555555555\n",
      "32.22222222222222\n",
      "48.888888888888886\n",
      "65.55555555555556\n",
      "82.22222222222223\n"
     ]
    }
   ],
   "source": [
    "# farenheit to celcius in a range with step of w\n",
    "s =  int(input())\n",
    "e =  int(input())\n",
    "w =  int(input())\n",
    "\n",
    "while s<=e:\n",
    "    print( (5*(s-32)) / 9)\n",
    "    s+=w"
   ]
  },
  {
   "cell_type": "code",
   "execution_count": 58,
   "id": "d7bd5f7c-fd56-4a90-85ec-de07ab3c1b16",
   "metadata": {},
   "outputs": [
    {
     "name": "stdin",
     "output_type": "stream",
     "text": [
      " 3\n",
      " 12\n",
      " 12\n"
     ]
    },
    {
     "name": "stdout",
     "output_type": "stream",
     "text": [
      "144\n"
     ]
    }
   ],
   "source": [
    "n= int (input())\n",
    "\n",
    "if n== 1:\n",
    "    a= int (input())\n",
    "    b= int (input())\n",
    "    print(a+b)\n",
    "elif n == 2:\n",
    "    a= int (input())\n",
    "    b= int (input())\n",
    "    print(a-b)\n",
    "elif n == 3:\n",
    "    a= int (input())\n",
    "    b= int (input())\n",
    "    print(a*b)\n",
    "elif n == 4:\n",
    "    a= int (input())\n",
    "    b= int (input())\n",
    "    print(a//b)\n",
    "elif n==5:\n",
    "    a= int (input())\n",
    "    b= int (input())\n",
    "    print(a%b)\n",
    "else:\n",
    "    print (\"Invalid Operation\")\n",
    "\n"
   ]
  },
  {
   "cell_type": "code",
   "execution_count": 60,
   "id": "3b86ffba-d97a-4c1e-b7a6-412bab5390bf",
   "metadata": {},
   "outputs": [
    {
     "name": "stdin",
     "output_type": "stream",
     "text": [
      " 449854896565\n"
     ]
    },
    {
     "name": "stdout",
     "output_type": "stream",
     "text": [
      "565698458944\n"
     ]
    }
   ],
   "source": [
    "# reverse a number\n",
    "n=int(input())\n",
    "result=0\n",
    "while n!=0:\n",
    "    l=n%10\n",
    "    result=result*10 + l\n",
    "    n=n//10\n",
    "print(result)"
   ]
  },
  {
   "cell_type": "code",
   "execution_count": 61,
   "id": "91eb9892-6f77-4a07-a14e-7d4a63b292ac",
   "metadata": {},
   "outputs": [
    {
     "name": "stdin",
     "output_type": "stream",
     "text": [
      " 123321\n"
     ]
    },
    {
     "name": "stdout",
     "output_type": "stream",
     "text": [
      "Palindrome\n"
     ]
    }
   ],
   "source": [
    "# palindrome\n",
    "\n",
    "# reverse the number and check\n",
    "n=int(input())\n",
    "temp=n\n",
    "result=0\n",
    "while n!=0:\n",
    "    last_digit=n%10\n",
    "    result=result*10 + last_digit\n",
    "    n=n//10\n",
    "\n",
    "print(\"Palindrome\") if result==temp else print(\"Not Palindeome\")"
   ]
  },
  {
   "cell_type": "code",
   "execution_count": 62,
   "id": "1f3fce68-f252-49c5-be7c-e526ef1e413e",
   "metadata": {},
   "outputs": [
    {
     "name": "stdin",
     "output_type": "stream",
     "text": [
      " 123456\n"
     ]
    },
    {
     "name": "stdout",
     "output_type": "stream",
     "text": [
      "even 12\n",
      "odd 9\n"
     ]
    }
   ],
   "source": [
    "#sum of even digits and sum of odd digits of a number\n",
    "\n",
    "n = int(input())\n",
    "\n",
    "e = 0\n",
    "odd = 0\n",
    "\n",
    "while n != 0:\n",
    "    l = n % 10\n",
    "    if l % 2 == 0:\n",
    "        e += l\n",
    "    else:\n",
    "        odd += l\n",
    "    n = n // 10\n",
    "\n",
    "print(\"even\", e)\n",
    "print(\"odd\", odd)\n"
   ]
  },
  {
   "cell_type": "code",
   "execution_count": 63,
   "id": "c82bb4db-28b5-4d4b-893f-ef581b282068",
   "metadata": {},
   "outputs": [
    {
     "name": "stdin",
     "output_type": "stream",
     "text": [
      " 12\n"
     ]
    },
    {
     "name": "stdout",
     "output_type": "stream",
     "text": [
      "144\n"
     ]
    }
   ],
   "source": [
    "# nth fibanocci using recurssion\n",
    "def fib(n):\n",
    "    if n==1 or n==2:\n",
    "        return 1\n",
    "    else:\n",
    "        return fib(n-1) + fib(n-2)\n",
    "\n",
    "n= int(input())\n",
    "print(fib(n))\n"
   ]
  },
  {
   "cell_type": "markdown",
   "id": "8753386c-ab31-476d-94a4-7e9bcdd58c2a",
   "metadata": {},
   "source": [
    "# Patterns"
   ]
  },
  {
   "cell_type": "code",
   "execution_count": 64,
   "id": "3a8cba72-06f3-4898-b23c-890d6db371e8",
   "metadata": {},
   "outputs": [
    {
     "name": "stdin",
     "output_type": "stream",
     "text": [
      " 5\n"
     ]
    },
    {
     "name": "stdout",
     "output_type": "stream",
     "text": [
      "*****\n",
      "*****\n",
      "*****\n",
      "*****\n",
      "*****\n"
     ]
    }
   ],
   "source": [
    "# Steps to approach a pattern\n",
    "\n",
    "# 1.No of rows\n",
    "# 2.No of columns to print at generic ith row => can be a function of n,i,j =>f(n,i,j)\n",
    "# 3.What to print\n",
    "\n",
    "# SQUARE PATTERN\n",
    "\n",
    "n=int(input())\n",
    "i=1\n",
    "while(i<=n):\n",
    "    j=1\n",
    "    while j<=n:\n",
    "        print(\"*\",end=\"\") # print command go to next line automatically\n",
    "        j+=1\n",
    "    print()\n",
    "    i+=1"
   ]
  },
  {
   "cell_type": "markdown",
   "id": "42d55eaf-08c3-404a-9257-63d6ec32e35b",
   "metadata": {},
   "source": [
    "- some other patterns\n",
    "1111      1234    4321\n",
    "\n",
    "2222      1234    4321\n",
    "\n",
    "3333      1234    4321\n",
    "\n",
    "4444      1234    4321"
   ]
  },
  {
   "cell_type": "code",
   "execution_count": 65,
   "id": "a594fe7a-da50-4c60-923e-875bf359db6f",
   "metadata": {},
   "outputs": [
    {
     "name": "stdin",
     "output_type": "stream",
     "text": [
      " 4\n"
     ]
    },
    {
     "name": "stdout",
     "output_type": "stream",
     "text": [
      "1111\n",
      "2222\n",
      "3333\n",
      "4444\n"
     ]
    }
   ],
   "source": [
    "n=int(input())\n",
    "i=1\n",
    "while(i<=n):\n",
    "    j=1\n",
    "    while j<=n:\n",
    "        print(i,end=\"\")\n",
    "        j+=1\n",
    "    print()\n",
    "    i+=1"
   ]
  },
  {
   "cell_type": "code",
   "execution_count": 66,
   "id": "1d3b1c43-6d5c-45ae-8dbf-15de16149ca0",
   "metadata": {},
   "outputs": [
    {
     "name": "stdin",
     "output_type": "stream",
     "text": [
      " 4\n"
     ]
    },
    {
     "name": "stdout",
     "output_type": "stream",
     "text": [
      "1234\n",
      "1234\n",
      "1234\n",
      "1234\n"
     ]
    }
   ],
   "source": [
    "n=int(input())\n",
    "i=1\n",
    "while(i<=n):\n",
    "    j=1\n",
    "    while j<=n:\n",
    "        print(j,end=\"\")\n",
    "        j+=1\n",
    "    print()\n",
    "    i+=1"
   ]
  },
  {
   "cell_type": "code",
   "execution_count": 68,
   "id": "b90e74d1-d101-48b9-892e-799d6a286789",
   "metadata": {},
   "outputs": [
    {
     "name": "stdin",
     "output_type": "stream",
     "text": [
      " 4\n"
     ]
    },
    {
     "name": "stdout",
     "output_type": "stream",
     "text": [
      "4321\n",
      "4321\n",
      "4321\n",
      "4321\n"
     ]
    }
   ],
   "source": [
    "n=int(input())\n",
    "i=1\n",
    "while(i<=n):\n",
    "    j=n\n",
    "    while j>=1:\n",
    "        print(j,end=\"\")\n",
    "        j-=1\n",
    "    print()\n",
    "    i+=1"
   ]
  },
  {
   "cell_type": "code",
   "execution_count": 71,
   "id": "9e801dde-3605-4e3d-9920-08fc70c03097",
   "metadata": {},
   "outputs": [
    {
     "name": "stdin",
     "output_type": "stream",
     "text": [
      " 5\n"
     ]
    },
    {
     "name": "stdout",
     "output_type": "stream",
     "text": [
      "1\n",
      "12\n",
      "123\n",
      "1234\n",
      "12345\n"
     ]
    }
   ],
   "source": [
    "# right angle triangle type\n",
    "n=int(input())\n",
    "i=1\n",
    "while(i<=n):\n",
    "    j=1\n",
    "    while j<=i:\n",
    "        print(j,end=\"\")\n",
    "        j+=1\n",
    "    print()\n",
    "    i+=1"
   ]
  },
  {
   "cell_type": "code",
   "execution_count": 75,
   "id": "197b1d06-e1d7-4543-88a6-8d87a2960d39",
   "metadata": {},
   "outputs": [
    {
     "name": "stdin",
     "output_type": "stream",
     "text": [
      " 5\n"
     ]
    },
    {
     "name": "stdout",
     "output_type": "stream",
     "text": [
      "1\n",
      "23\n",
      "345\n",
      "4567\n",
      "56789\n"
     ]
    }
   ],
   "source": [
    "# starts with row number\n",
    "# i+j-1\n",
    "n=int(input())\n",
    "i=1\n",
    "while(i<=n):\n",
    "    j=1\n",
    "    while j<=i:\n",
    "        print(i+j-1,end=\"\")\n",
    "        j+=1\n",
    "    print()\n",
    "    i+=1"
   ]
  },
  {
   "cell_type": "code",
   "execution_count": 8,
   "id": "aabb3a8b-6829-4708-a945-42c4a667ce2d",
   "metadata": {},
   "outputs": [
    {
     "name": "stdin",
     "output_type": "stream",
     "text": [
      " 5\n"
     ]
    },
    {
     "name": "stdout",
     "output_type": "stream",
     "text": [
      "1 \n",
      "2 3 \n",
      "4 5 6 \n",
      "7 8 9 10 \n",
      "11 12 13 14 15 \n"
     ]
    }
   ],
   "source": [
    "n=int(input())\n",
    "i=1\n",
    "k=1\n",
    "while(i<=n):\n",
    "    j=1\n",
    "    while j<=i:\n",
    "        print(k,end=\" \")\n",
    "        k+=1\n",
    "        j+=1\n",
    "    print()\n",
    "    i+=1"
   ]
  },
  {
   "cell_type": "markdown",
   "id": "b00d150c-65f3-4d7f-aa85-1c339cc3d011",
   "metadata": {},
   "source": [
    "## Character Patterns\n",
    "\n",
    "- In Python, adding a string and an integer together is invalid: `str + int = invalid`.\n",
    "\n",
    "- To get the ASCII value of a character, use the `ord()` function, but remember it works for single characters only: `ord('A')`.\n",
    "\n",
    "- To get the character from its ASCII value, use the `chr()` function: `chr(65)` returns `'A'`.\n"
   ]
  },
  {
   "cell_type": "code",
   "execution_count": 79,
   "id": "b739b72e-9f0f-4baf-bd25-4f188dcbdaf6",
   "metadata": {},
   "outputs": [
    {
     "name": "stdin",
     "output_type": "stream",
     "text": [
      " 5\n"
     ]
    },
    {
     "name": "stdout",
     "output_type": "stream",
     "text": [
      "A B C D E \n",
      "A B C D E \n",
      "A B C D E \n",
      "A B C D E \n",
      "A B C D E \n"
     ]
    }
   ],
   "source": [
    "# A B C D E\n",
    "n=int(input())\n",
    "i=1\n",
    "while(i<=n):\n",
    "    j=1\n",
    "    while j<=n:\n",
    "        print(chr(ord('A') + j - 1),end=\" \")\n",
    "        j+=1\n",
    "    print()\n",
    "    i+=1"
   ]
  },
  {
   "cell_type": "code",
   "execution_count": 80,
   "id": "66d02a2a-7a03-4ad5-86d3-448584ca82bb",
   "metadata": {},
   "outputs": [
    {
     "name": "stdin",
     "output_type": "stream",
     "text": [
      " 5\n"
     ]
    },
    {
     "name": "stdout",
     "output_type": "stream",
     "text": [
      "A B C D E \n",
      "B C D E F \n",
      "C D E F G \n",
      "D E F G H \n",
      "E F G H I \n"
     ]
    }
   ],
   "source": [
    "n=int(input())\n",
    "i=1\n",
    "while(i<=n):\n",
    "    j=1\n",
    "    while j<=n:\n",
    "        print(chr(ord('A')+(i+j-1)-1),end=\" \")\n",
    "        j+=1\n",
    "    print()\n",
    "    i+=1"
   ]
  },
  {
   "cell_type": "code",
   "execution_count": 81,
   "id": "7c768aa5-fdf6-4426-8b0d-c4d1a00c63b2",
   "metadata": {},
   "outputs": [
    {
     "name": "stdin",
     "output_type": "stream",
     "text": [
      " 6\n"
     ]
    },
    {
     "name": "stdout",
     "output_type": "stream",
     "text": [
      "F \n",
      "E F \n",
      "D E F \n",
      "C D E F \n",
      "B C D E F \n",
      "A B C D E F \n"
     ]
    }
   ],
   "source": [
    "n=int(input())\n",
    "i=1\n",
    "\n",
    "while(i<=n):\n",
    "    j=1\n",
    "    k=n-i+1\n",
    "    while j<=i:\n",
    "        print(chr(ord('A')+ k -1),end=\" \")\n",
    "        k+=1\n",
    "        j+=1\n",
    "    print()\n",
    "    i+=1 "
   ]
  },
  {
   "cell_type": "markdown",
   "id": "a1ce993b-3dc3-4c71-8b71-3de72c358bfc",
   "metadata": {},
   "source": [
    "## INVERTED PATTERNS"
   ]
  },
  {
   "cell_type": "code",
   "execution_count": 82,
   "id": "0e76266b-f40a-4cf0-abdd-476908826d2b",
   "metadata": {},
   "outputs": [
    {
     "name": "stdin",
     "output_type": "stream",
     "text": [
      " 5\n"
     ]
    },
    {
     "name": "stdout",
     "output_type": "stream",
     "text": [
      "* * * * * \n",
      "* * * * \n",
      "* * * \n",
      "* * \n",
      "* \n"
     ]
    }
   ],
   "source": [
    "n=int(input())\n",
    "i=1\n",
    "while(i<=n):\n",
    "    j=1\n",
    "    while j<=(n-i+1):\n",
    "        print(\"*\",end=\" \")\n",
    "        j+=1\n",
    "    print()\n",
    "    i+=1"
   ]
  },
  {
   "cell_type": "code",
   "execution_count": 15,
   "id": "472ef9eb-e11b-4fce-b43f-14fbd08a50fe",
   "metadata": {},
   "outputs": [
    {
     "name": "stdin",
     "output_type": "stream",
     "text": [
      " 5\n"
     ]
    },
    {
     "name": "stdout",
     "output_type": "stream",
     "text": [
      "1 2 3 4 5 \n",
      "1 2 3 4 \n",
      "1 2 3 \n",
      "1 2 \n",
      "1 \n"
     ]
    }
   ],
   "source": [
    "# n-i+1 \n",
    "n=int(input())\n",
    "i=1\n",
    "while(i<=n):\n",
    "    j=1\n",
    "    while j<=(n-i+1):\n",
    "        print(j,end=\" \")\n",
    "        j+=1\n",
    "    print()\n",
    "    i+=1"
   ]
  },
  {
   "cell_type": "markdown",
   "id": "7bbd499f-ec46-4e33-aadb-e88fee882b88",
   "metadata": {},
   "source": [
    "## Reversed Pattern or Mirror Pattern"
   ]
  },
  {
   "cell_type": "code",
   "execution_count": 83,
   "id": "dcffe68c-49f0-4d4c-893e-1e7dde5a950f",
   "metadata": {},
   "outputs": [
    {
     "name": "stdin",
     "output_type": "stream",
     "text": [
      " 5\n"
     ]
    },
    {
     "name": "stdout",
     "output_type": "stream",
     "text": [
      "    *\n",
      "   **\n",
      "  ***\n",
      " ****\n",
      "*****\n"
     ]
    }
   ],
   "source": [
    "n=int(input())\n",
    "i=1\n",
    "while(i<=n):\n",
    "    s=1\n",
    "    while s<=(n-i):\n",
    "        print(\" \",end=\"\")\n",
    "        s+=1 \n",
    "    j=1\n",
    "    while j<=(i):\n",
    "        print(\"*\",end=\"\")\n",
    "        j+=1\n",
    "    print()\n",
    "    i+=1"
   ]
  },
  {
   "cell_type": "markdown",
   "id": "9f0dc90a-588d-42b9-83d4-5996ae04f888",
   "metadata": {},
   "source": [
    "## Isoceles Pattern"
   ]
  },
  {
   "cell_type": "code",
   "execution_count": 84,
   "id": "4800992d-740c-4c10-89ec-e4ac48f54f19",
   "metadata": {},
   "outputs": [
    {
     "name": "stdin",
     "output_type": "stream",
     "text": [
      " 4\n"
     ]
    },
    {
     "name": "stdout",
     "output_type": "stream",
     "text": [
      "   1\n",
      "  121\n",
      " 12321\n",
      "1234321\n"
     ]
    }
   ],
   "source": [
    "n=int(input())\n",
    "i=1\n",
    "while(i<=n):\n",
    "    # Spaces\n",
    "    s=1\n",
    "    while s<=(n-i):\n",
    "        print(\" \",end=\"\")\n",
    "        s+=1 \n",
    "    # increasing sequence\n",
    "    j=1\n",
    "    while j<=i:\n",
    "        print(j,end=\"\")\n",
    "        j+=1\n",
    "    k=1\n",
    "    j=j-1\n",
    "    # decreasing sequence\n",
    "    while k<=i-1:\n",
    "        j=j-1\n",
    "        print(j,end=\"\")\n",
    "\n",
    "        k+=1\n",
    "    print()\n",
    "    i+=1"
   ]
  },
  {
   "cell_type": "code",
   "execution_count": 85,
   "id": "fb981b28-98ca-4673-af27-fe2db4238ffd",
   "metadata": {},
   "outputs": [
    {
     "name": "stdin",
     "output_type": "stream",
     "text": [
      " 6\n"
     ]
    },
    {
     "name": "stdout",
     "output_type": "stream",
     "text": [
      "     1\n",
      "    232\n",
      "   34543\n",
      "  4567654\n",
      " 567898765\n",
      "67891011109876\n"
     ]
    }
   ],
   "source": [
    "n=int(input())\n",
    "i=1\n",
    "while(i<=n):\n",
    "    # Spaces\n",
    "    s=1\n",
    "    while s<=(n-i):\n",
    "        print(\" \",end=\"\")\n",
    "        s+=1 \n",
    "        \n",
    "    # increasing sequence\n",
    "    j=1\n",
    "    while j<=i:\n",
    "        print(j+i-1,end=\"\")\n",
    "        j+=1\n",
    "    k=1\n",
    "    j=j-1\n",
    "    j=j+i-1\n",
    "    # decreasing sequence\n",
    "    while k<=i-1:\n",
    "        j=j-1\n",
    "        print(j,end=\"\")\n",
    "\n",
    "        k+=1\n",
    "    print()\n",
    "    i+=1"
   ]
  },
  {
   "cell_type": "code",
   "execution_count": 86,
   "id": "0c450418-f8fb-4e40-a576-29bb446670d0",
   "metadata": {},
   "outputs": [
    {
     "name": "stdin",
     "output_type": "stream",
     "text": [
      " 4\n"
     ]
    },
    {
     "name": "stdout",
     "output_type": "stream",
     "text": [
      "   *\n",
      "  ***\n",
      " *****\n",
      "*******\n"
     ]
    }
   ],
   "source": [
    "n=int(input())\n",
    "i=1\n",
    "while(i<=n):\n",
    "    # Spaces\n",
    "    s=1\n",
    "    while s<=(n-i):\n",
    "        print(\" \",end=\"\")\n",
    "        s+=1 \n",
    "    # increasing sequence\n",
    "    j=1\n",
    "    while j<=i:\n",
    "        print(\"*\",end=\"\")\n",
    "        j+=1\n",
    "    k=1\n",
    "    j=j-1\n",
    "    # decreasing sequence\n",
    "    while k<=i-1:\n",
    "        j=j-1\n",
    "        print(\"*\",end=\"\")\n",
    "\n",
    "        k+=1\n",
    "    print()\n",
    "    i+=1"
   ]
  },
  {
   "cell_type": "code",
   "execution_count": 88,
   "id": "e565b57e-c2d8-4275-89e3-f9cd5ae51815",
   "metadata": {},
   "outputs": [
    {
     "name": "stdin",
     "output_type": "stream",
     "text": [
      " 10\n"
     ]
    },
    {
     "name": "stdout",
     "output_type": "stream",
     "text": [
      "    *\n",
      "   ***\n",
      "  *****\n",
      " *******\n",
      "*********\n",
      " *******\n",
      "  *****\n",
      "   ***\n",
      "    *\n"
     ]
    }
   ],
   "source": [
    "n=int(input())\n",
    "n1=(n+1)//2\n",
    "n2=n1-1\n",
    "i=1\n",
    "while(i<=n1):\n",
    "    a=1\n",
    "    while(a<=n1-i):\n",
    "        print(\" \",end=\"\")\n",
    "        a=a+1\n",
    "    b=1\n",
    "    while(b<=2*i-1):\n",
    "        print('*',end=\"\")\n",
    "        b=b+1\n",
    "    print()\n",
    "    i=i+1\n",
    "i=n2\n",
    "while(i>=1):\n",
    "    a=1\n",
    "    while(a<=n2 - i +1):\n",
    "        print(\" \",end='')\n",
    "        a = a+1\n",
    "    j=1\n",
    "    while(j<=2*i-1):\n",
    "        print('*',end=\"\")\n",
    "        j=j+1\n",
    "    print()\n",
    "    i = i-1"
   ]
  },
  {
   "cell_type": "markdown",
   "id": "6e974af5-b722-4f8e-84c3-d08d08a215a0",
   "metadata": {},
   "source": [
    "## For Loop and Range Method\r\n",
    "\r\n",
    "- The `for` loop in Python is used to iterate over elements in a sequence, such as strings, lists, tuples, dictionaries, sets, etc.\r\n",
    "\r\n",
    "- The syntax of the `for` loop is:\r\n",
    "  ```python\r\n",
    "  for i in sequence:\r\n",
    "      # code block to execute for each element in the sequence\r\n",
    "  ```\r\n",
    "\r\n",
    "- The `range()` function is commonly used to generate a sequence of numbers. It has the syntax:\r\n",
    "  ```python\r\n",
    "  range(start, stop, step)\r\n",
    "  ```\r\n",
    "  where `start` is the starting value (inclusive), `stop` is the ending value (exclusive), and `step` is the increment between values (equences for looping purposes."
   ]
  },
  {
   "cell_type": "code",
   "execution_count": 130,
   "id": "a6915b7a-d723-44fa-87d3-0921de5c341d",
   "metadata": {},
   "outputs": [
    {
     "name": "stdout",
     "output_type": "stream",
     "text": [
      "Welcome to Our channel,This is Ismail Abilash"
     ]
    }
   ],
   "source": [
    "for i in \"Welcome to Our channel,This is Ismail Abilash\":\n",
    "    print(i, end=\"\")"
   ]
  },
  {
   "cell_type": "code",
   "execution_count": 90,
   "id": "3d4615c7-dee5-4f62-9c26-2eeee443e146",
   "metadata": {},
   "outputs": [
    {
     "name": "stdin",
     "output_type": "stream",
     "text": [
      " 5\n"
     ]
    },
    {
     "name": "stdout",
     "output_type": "stream",
     "text": [
      "1\n",
      "2\n",
      "3\n",
      "4\n",
      "5\n"
     ]
    }
   ],
   "source": [
    "n= int(input())\n",
    "\n",
    "for i in range(1,n+1,1):\n",
    "    print(i)"
   ]
  },
  {
   "cell_type": "code",
   "execution_count": 91,
   "id": "2da71598-2f11-4556-9585-3728374c8504",
   "metadata": {},
   "outputs": [
    {
     "name": "stdin",
     "output_type": "stream",
     "text": [
      " 5\n"
     ]
    },
    {
     "name": "stdout",
     "output_type": "stream",
     "text": [
      "0\n",
      "1\n",
      "2\n",
      "3\n",
      "4\n",
      "5\n"
     ]
    }
   ],
   "source": [
    "#single argument then it takes as end\n",
    "n= int(input())\n",
    "for i in range(n+1):\n",
    "    print(i)"
   ]
  },
  {
   "cell_type": "code",
   "execution_count": 93,
   "id": "4338175b-1cfa-4be4-9b0c-a53ffbfacdd1",
   "metadata": {},
   "outputs": [
    {
     "name": "stdin",
     "output_type": "stream",
     "text": [
      " 5\n"
     ]
    },
    {
     "name": "stdout",
     "output_type": "stream",
     "text": [
      "5\n",
      "1\n",
      "2\n",
      "3\n",
      "4\n",
      "5\n"
     ]
    }
   ],
   "source": [
    "#double argument then it takes as start,end\n",
    "n= int(input())\n",
    "for i in range(n+1,1):\n",
    "    print(i)\n",
    "\n",
    "print(n)\n",
    "for i in range(1,n+1):\n",
    "    print(i)"
   ]
  },
  {
   "cell_type": "code",
   "execution_count": 131,
   "id": "35007e7e-f6cb-4e4a-b28d-df52afdb6f06",
   "metadata": {},
   "outputs": [
    {
     "name": "stdin",
     "output_type": "stream",
     "text": [
      " 5\n"
     ]
    },
    {
     "name": "stdout",
     "output_type": "stream",
     "text": [
      "4\n",
      "3\n",
      "2\n",
      "1\n",
      "0\n"
     ]
    }
   ],
   "source": [
    "# numbers from n-1 to 0\n",
    "# end should be -1, as it goes up to 1 only if given 0\n",
    "n= int(input())\n",
    "for i in range(n-1,-1,-1):\n",
    "    print(i)"
   ]
  },
  {
   "cell_type": "code",
   "execution_count": 98,
   "id": "a2b1e53e-07e6-4929-92d9-8be64b83606c",
   "metadata": {},
   "outputs": [
    {
     "name": "stdin",
     "output_type": "stream",
     "text": [
      " 1\n",
      " 12\n"
     ]
    },
    {
     "name": "stdout",
     "output_type": "stream",
     "text": [
      "3\n",
      "6\n",
      "9\n",
      "12\n"
     ]
    }
   ],
   "source": [
    "# in range of a and b , print muliples of 3\n",
    "# a<b\n",
    "\n",
    "a=int(input())\n",
    "b=int(input())\n",
    "\n",
    "for i in range(a,b+1):\n",
    "    if i%3==0:\n",
    "        print(i)"
   ]
  },
  {
   "cell_type": "code",
   "execution_count": 99,
   "id": "4fe0ad6d-87e0-4067-9976-5de503d3b49d",
   "metadata": {},
   "outputs": [
    {
     "name": "stdin",
     "output_type": "stream",
     "text": [
      " 4\n",
      " 23\n"
     ]
    },
    {
     "name": "stdout",
     "output_type": "stream",
     "text": [
      "6\n",
      "9\n",
      "12\n",
      "15\n",
      "18\n",
      "21\n"
     ]
    }
   ],
   "source": [
    "# in range of a and b , print muliples of 3, with jump of 3\n",
    "# a<b\n",
    "a=int(input())\n",
    "b=int(input())\n",
    "s=0\n",
    "if a%3==0:\n",
    "    s=a\n",
    "elif a%3==1:\n",
    "    s= a+2\n",
    "else:\n",
    "    s= a+1\n",
    "\n",
    "for i in range(s,b+1,3):\n",
    "        print(i)"
   ]
  },
  {
   "cell_type": "markdown",
   "id": "d1b96a5f-b911-4c7b-ac39-68237ccd84f7",
   "metadata": {},
   "source": [
    "### Wrong Syntax\n",
    "for i in range(0.1, 0.4,0.1):\n",
    "range accepts only integer values"
   ]
  },
  {
   "cell_type": "code",
   "execution_count": 101,
   "id": "a36cecb8-1c7e-4661-bb34-2f320dd7566a",
   "metadata": {},
   "outputs": [
    {
     "name": "stdin",
     "output_type": "stream",
     "text": [
      " 5461\n"
     ]
    },
    {
     "name": "stdout",
     "output_type": "stream",
     "text": [
      "Not Prime\n"
     ]
    }
   ],
   "source": [
    "# Prime using for loop\n",
    "# math.sqrt(n) gives float\n",
    "import math\n",
    "n =int(input())\n",
    "prime = True\n",
    "for i in range(2,int(math.sqrt(n))+1):\n",
    "    if n%i == 0:\n",
    "        print(\"Not Prime\")\n",
    "        prime = False\n",
    "        break\n",
    "if prime:\n",
    "    print(\"Prime\")"
   ]
  },
  {
   "cell_type": "code",
   "execution_count": 104,
   "id": "4e6c0ae3-bef5-4e65-b911-8dc748ac91c5",
   "metadata": {},
   "outputs": [
    {
     "name": "stdin",
     "output_type": "stream",
     "text": [
      " 5\n"
     ]
    },
    {
     "name": "stdout",
     "output_type": "stream",
     "text": [
      "    1\n",
      "   232\n",
      "  34543\n",
      " 4567654\n",
      "567898765\n"
     ]
    }
   ],
   "source": [
    "# Pattern using for\n",
    "n = int(input())\n",
    "\n",
    "for i in range(1,n+1):\n",
    "    # spaces\n",
    "    for j in range(1, n-i+1):\n",
    "        print(\" \", end=\"\")\n",
    "        \n",
    "    # increasing => i to 2*i-1\n",
    "    for k in range(i,2*i):\n",
    "        print(k, end=\"\")\n",
    "        \n",
    "    # decreasing => 2*i-2 to i\n",
    "    # i-1, i <----- 2*i-2\n",
    "    for l in range(2*i-2,i-1,-1):\n",
    "        print(l, end=\"\")\n",
    "    print()\n",
    "\n"
   ]
  },
  {
   "cell_type": "markdown",
   "id": "582cd0eb-bcd7-4c75-98d1-1c0940e63b19",
   "metadata": {},
   "source": [
    "## Keywords in Python\n",
    "\n",
    "### 1. `break`:\n",
    "- Used to exit from a loop prematurely.\n",
    "- Stops the current loop iteration and continues with the next statement after the loop.\n",
    "\n",
    "### 2. `continue`:\n",
    "- Skips the remaining code within the current loop iteration and starts the next iteration.\n",
    "- Useful for excluding specific items from a loop.\n",
    "\n",
    "### 3. `pass`:\n",
    "- Acts as a null operation or a no-operation statement.\n",
    "- Used as a placeholder when a statement is syntactically required but doesn't need to do anything.\n",
    "  \n",
    "### 4. `else with loops`:\n",
    "- The else clause can be used with loops to specify a block of code that should be executed after the loop finishes normally (without encountering a break statement).\n",
    "- The else block is executed only if the loop runs to completion without any break statements."
   ]
  },
  {
   "cell_type": "code",
   "execution_count": 49,
   "id": "67f8c756-accb-4c60-9068-db724e7f5c9a",
   "metadata": {},
   "outputs": [
    {
     "name": "stdout",
     "output_type": "stream",
     "text": [
      "2 7\n",
      "3 7\n",
      "4 7\n",
      "5 7\n",
      "6 7\n",
      "Else statement\n"
     ]
    }
   ],
   "source": [
    "# break: Terminating keyword\n",
    "# if two looping statement if break is present in inner loop then break can only break the\n",
    "# inner execution only \n",
    "\n",
    "# Prime using for loop\n",
    "import math\n",
    "n =int(input())\n",
    "for i in range(2,int(math.sqrt(n))+1):\n",
    "    if n%i == 0:\n",
    "        print(\"Not Prime\")\n",
    "        break\n",
    "else:\n",
    "    print(\"Prime\")\n"
   ]
  },
  {
   "cell_type": "code",
   "execution_count": 106,
   "id": "45621a56-8e61-49e7-98b7-1c880fc31e11",
   "metadata": {},
   "outputs": [
    {
     "name": "stdout",
     "output_type": "stream",
     "text": [
      "2 7\n",
      "3 7\n",
      "4 7\n",
      "5 7\n",
      "6 7\n",
      "Else statement\n"
     ]
    }
   ],
   "source": [
    "# else with while\n",
    "a=2\n",
    "b=7\n",
    "while a<b:\n",
    "    print(a,b)\n",
    "    a+=1\n",
    "else:\n",
    "    print(\"Else statement\")\n"
   ]
  },
  {
   "cell_type": "code",
   "execution_count": 107,
   "id": "3e76e590-2606-4675-a734-49bfa723363e",
   "metadata": {},
   "outputs": [
    {
     "name": "stdout",
     "output_type": "stream",
     "text": [
      "1\n",
      "2\n",
      "3\n",
      "4\n",
      "6\n",
      "7\n",
      "8\n",
      "9\n"
     ]
    }
   ],
   "source": [
    "# continue helps to skip \n",
    "for i in range(1, 10):\n",
    "    if i%5==0:\n",
    "        continue\n",
    "    else:\n",
    "        print(i)"
   ]
  },
  {
   "cell_type": "code",
   "execution_count": 110,
   "id": "c33fa050-c72a-43c2-b331-6b601efc342d",
   "metadata": {},
   "outputs": [],
   "source": [
    "# in while, continue skips the increment, To solve: before continue do the increment"
   ]
  },
  {
   "cell_type": "code",
   "execution_count": 112,
   "id": "e73583a2-0cf1-4b97-977f-ce2cb6e5ecb3",
   "metadata": {},
   "outputs": [],
   "source": [
    "# in c, c++,\n",
    "# we can do this \n",
    "# if(a>b){\n",
    "# }\n",
    "\n",
    "# in python we cant do like that\n",
    "a=3\n",
    "b=4\n",
    "if a>b:\n",
    "    pass\n",
    "\n",
    "# if we are not intrested in doing anything\n",
    "# pass can be used in if,for, while \n",
    "\n",
    "# pass is a dummy: like todo , todo in future\n",
    "\n",
    "while i<=3:\n",
    "    pass\n",
    "    i+=1\n",
    "\n",
    "for i in range(1,4):\n",
    "    pass"
   ]
  },
  {
   "cell_type": "code",
   "execution_count": 113,
   "id": "28545997-b064-4ee7-b92f-d468c8b6553c",
   "metadata": {},
   "outputs": [
    {
     "name": "stdin",
     "output_type": "stream",
     "text": [
      " 5\n"
     ]
    },
    {
     "name": "stdout",
     "output_type": "stream",
     "text": [
      "5\n",
      "11\n",
      "14\n",
      "17\n",
      "23\n",
      "26\n"
     ]
    }
   ],
   "source": [
    " # Tems of Ap\n",
    "# print first x terms of the series 3*N+2 which are not multiples of 4\n",
    "\n",
    "x= int(input())\n",
    "i=0\n",
    "k=1\n",
    "\n",
    "while i<=x:\n",
    "    if (3*k+2)% 4 != 0:\n",
    "        print(3*k+2)\n",
    "        i+=1\n",
    "    k+=1  "
   ]
  },
  {
   "cell_type": "code",
   "execution_count": 115,
   "id": "62916cb8-69c0-4e6d-9a56-aa7840ecf7a3",
   "metadata": {},
   "outputs": [
    {
     "name": "stdin",
     "output_type": "stream",
     "text": [
      " 5\n"
     ]
    },
    {
     "name": "stdout",
     "output_type": "stream",
     "text": [
      "Product 120\n",
      "Sum 15\n"
     ]
    }
   ],
   "source": [
    "# sum of numbers 1 to n\n",
    "n= int(input())\n",
    "sum=0\n",
    "for i in range(1, n+1):\n",
    "    sum+=i\n",
    "    \n",
    "# product of numbers 1 to n\n",
    "product =1\n",
    "for i in range(1, n+1):\n",
    "    product*=i\n",
    "\n",
    "print(\"Product\",product)\n",
    "print(\"Sum\",sum)"
   ]
  },
  {
   "cell_type": "markdown",
   "id": "d36c8ecd-a9c6-4676-9c5b-527f10b6de0e",
   "metadata": {},
   "source": [
    "## Strings and Lists\n",
    "\n",
    "strings and lists are fundamental data structures used to store and manipulate data.\n",
    "\n",
    "### Strings\n",
    "\n",
    "A string is a collection of characters, and it can be represented using either single quotes (' ') or double quotes (\" \"). For example, a string can be \"Namaste, World!\" or 'Python Programming'.\n",
    "\n",
    "### Lists\n",
    "\n",
    "A list is a collection of elements, and it can contain any combination of data types, including other lists. Lists are enclosed in square brackets [ ] and can be accessed by their index. For instance, a list could be [1, 2.2, 3, \"apple\", \"banana\"]."
   ]
  },
  {
   "cell_type": "code",
   "execution_count": 117,
   "id": "9373cfd7-9a03-44bc-8a3c-2ac6bc362513",
   "metadata": {},
   "outputs": [
    {
     "data": {
      "text/plain": [
       "'This is also a string'"
      ]
     },
     "execution_count": 117,
     "metadata": {},
     "output_type": "execute_result"
    }
   ],
   "source": [
    "a=\"This is a string\"\n",
    "a='This is also a string'\n",
    "a"
   ]
  },
  {
   "cell_type": "code",
   "execution_count": 118,
   "id": "e8cadea7-fab4-430b-b09d-045a727235f7",
   "metadata": {},
   "outputs": [
    {
     "data": {
      "text/plain": [
       "str"
      ]
     },
     "execution_count": 118,
     "metadata": {},
     "output_type": "execute_result"
    }
   ],
   "source": [
    "c='a'\n",
    "type(c) #there are no character type in python"
   ]
  },
  {
   "cell_type": "code",
   "execution_count": 119,
   "id": "e359e922-d6f4-4aeb-9c5d-bf3c6c8ff9c5",
   "metadata": {},
   "outputs": [
    {
     "data": {
      "text/plain": [
       "'T'"
      ]
     },
     "execution_count": 119,
     "metadata": {},
     "output_type": "execute_result"
    }
   ],
   "source": [
    "a[0]"
   ]
  },
  {
   "cell_type": "code",
   "execution_count": 120,
   "id": "efa1c20e-308e-4061-b19a-9e0dd0ed5504",
   "metadata": {},
   "outputs": [
    {
     "data": {
      "text/plain": [
       "str"
      ]
     },
     "execution_count": 120,
     "metadata": {},
     "output_type": "execute_result"
    }
   ],
   "source": [
    "type(a[0])"
   ]
  },
  {
   "cell_type": "code",
   "execution_count": 121,
   "id": "43b408e1-71ed-4ede-9d6c-2a63f6b610cc",
   "metadata": {},
   "outputs": [
    {
     "ename": "TypeError",
     "evalue": "'str' object does not support item assignment",
     "output_type": "error",
     "traceback": [
      "\u001b[1;31m---------------------------------------------------------------------------\u001b[0m",
      "\u001b[1;31mTypeError\u001b[0m                                 Traceback (most recent call last)",
      "Cell \u001b[1;32mIn[121], line 3\u001b[0m\n\u001b[0;32m      1\u001b[0m \u001b[38;5;66;03m# Strings are immutable\u001b[39;00m\n\u001b[0;32m      2\u001b[0m a\u001b[38;5;241m=\u001b[39m\u001b[38;5;124m\"\u001b[39m\u001b[38;5;124mThis is\u001b[39m\u001b[38;5;124m\"\u001b[39m\n\u001b[1;32m----> 3\u001b[0m \u001b[43ma\u001b[49m\u001b[43m[\u001b[49m\u001b[38;5;241;43m3\u001b[39;49m\u001b[43m]\u001b[49m\u001b[38;5;241m=\u001b[39m\u001b[38;5;124m'\u001b[39m\u001b[38;5;124ma\u001b[39m\u001b[38;5;124m'\u001b[39m \u001b[38;5;66;03m# can't be changed\u001b[39;00m\n\u001b[0;32m      5\u001b[0m \u001b[38;5;66;03m# string is immutable, variable is not\u001b[39;00m\n\u001b[0;32m      6\u001b[0m a\u001b[38;5;241m=\u001b[39m\u001b[38;5;124m\"\u001b[39m\u001b[38;5;124mOther string\u001b[39m\u001b[38;5;124m\"\u001b[39m \n",
      "\u001b[1;31mTypeError\u001b[0m: 'str' object does not support item assignment"
     ]
    }
   ],
   "source": [
    "# Strings are immutable\n",
    "a=\"This is\"\n",
    "a[3]='a' # can't be changed\n",
    "\n",
    "# string is immutable, variable is not\n",
    "a=\"Other string\" "
   ]
  },
  {
   "cell_type": "code",
   "execution_count": 127,
   "id": "68a5a0c5-2630-4c01-bf48-f7b67118ad8d",
   "metadata": {},
   "outputs": [
    {
     "data": {
      "text/plain": [
       "\"it's a googly\""
      ]
     },
     "execution_count": 127,
     "metadata": {},
     "output_type": "execute_result"
    }
   ],
   "source": [
    "# To use \"\" in string use '' and for '' use \"\"\n",
    "# we can use escape character \\'\n",
    "\n",
    "a='it\\'s a googly'\n",
    "a"
   ]
  },
  {
   "cell_type": "code",
   "execution_count": 128,
   "id": "9ea6f9f6-4235-4dae-a82c-e31f0632e04c",
   "metadata": {},
   "outputs": [
    {
     "name": "stdout",
     "output_type": "stream",
     "text": [
      "it's a google product\n",
      "it's a google product"
     ]
    }
   ],
   "source": [
    "# looping a string\n",
    "a='it\\'s a google product'\n",
    "\n",
    "for i in a:\n",
    "    print(i,end=\"\") \n",
    "    \n",
    "print()\n",
    "\n",
    "for i in range(0,len(a)):\n",
    "    print(a[i],end=\"\")"
   ]
  },
  {
   "cell_type": "code",
   "execution_count": 129,
   "id": "bf77cd3e-4d01-4877-a51e-735cea8472b8",
   "metadata": {},
   "outputs": [
    {
     "name": "stdout",
     "output_type": "stream",
     "text": [
      "This is a and This is b\n",
      "This is a and This is b\n"
     ]
    }
   ],
   "source": [
    "# Concatanate two strings\n",
    "a=\"This is a\"\n",
    "b=\" and This is b\"\n",
    "\n",
    "c= a+b\n",
    "\n",
    "a= a+b\n",
    "\n",
    "print(a)\n",
    "print(c)"
   ]
  },
  {
   "cell_type": "code",
   "execution_count": 131,
   "id": "44a4e51b-7ac9-49cf-a838-fa48aed947d8",
   "metadata": {},
   "outputs": [
    {
     "name": "stdout",
     "output_type": "stream",
     "text": [
      "True\n"
     ]
    }
   ],
   "source": [
    "# string comparing\n",
    "# Capital A to Z (65 to 90) \n",
    "# Small a to z (97 to 122)\n",
    "# 'Z' < 'a' \n",
    "a='Z'\n",
    "b='a'\n",
    "print(a<b)"
   ]
  },
  {
   "cell_type": "code",
   "execution_count": 136,
   "id": "a99321c1-3f0b-4d5d-8949-4e2ca252f2e3",
   "metadata": {},
   "outputs": [
    {
     "name": "stdout",
     "output_type": "stream",
     "text": [
      "['This', 'is', 'world', 'of', 'peace']\n",
      "['This is ', ' of peace']\n"
     ]
    }
   ],
   "source": [
    "# split function to divide into parts\n",
    "\n",
    "a=\"This is world of peace\"\n",
    "print(a.split()) #['This', 'is', 'a', 'is']\n",
    "\n",
    "print(a.split(\"world\"))"
   ]
  },
  {
   "cell_type": "code",
   "execution_count": 141,
   "id": "b113c1fe-d5d7-4881-a15c-2e4b556ca6bf",
   "metadata": {},
   "outputs": [
    {
     "data": {
      "text/plain": [
       "8"
      ]
     },
     "execution_count": 141,
     "metadata": {},
     "output_type": "execute_result"
    }
   ],
   "source": [
    "# find: returns index of first occuring of string\n",
    "# if no found, return -1\n",
    "a.find(\"big\")"
   ]
  },
  {
   "cell_type": "code",
   "execution_count": 142,
   "id": "c6430087-91ac-4a37-aee9-68fee8101d25",
   "metadata": {},
   "outputs": [
    {
     "name": "stdout",
     "output_type": "stream",
     "text": [
      "This is big string with is random words\n",
      "THIS IS BIG STRING WITH IS RANDOM WORDS\n"
     ]
    }
   ],
   "source": [
    "# To returns the uppercase\n",
    "a.upper()\n",
    "print(a)\n",
    "\n",
    "# we can do to change the a\n",
    "a= a.upper()\n",
    "print(a)"
   ]
  },
  {
   "cell_type": "code",
   "execution_count": 143,
   "id": "fad547b4-7176-4fa9-9774-1374aca3f373",
   "metadata": {},
   "outputs": [
    {
     "name": "stdout",
     "output_type": "stream",
     "text": [
      "this is big string with is random words\n"
     ]
    }
   ],
   "source": [
    "# lower\n",
    "a= a.lower()\n",
    "print(a)"
   ]
  },
  {
   "cell_type": "code",
   "execution_count": 144,
   "id": "42343de0-f747-4c24-a8e8-ae379fd18bc5",
   "metadata": {},
   "outputs": [
    {
     "name": "stdout",
     "output_type": "stream",
     "text": [
      "True\n"
     ]
    }
   ],
   "source": [
    "# islower\n",
    "print(a.islower())"
   ]
  },
  {
   "cell_type": "code",
   "execution_count": 145,
   "id": "ddcddf1e-2ee8-4cb6-af6f-dc26f72987ac",
   "metadata": {},
   "outputs": [
    {
     "name": "stdout",
     "output_type": "stream",
     "text": [
      "False\n"
     ]
    }
   ],
   "source": [
    "# isupper\n",
    "print(a.isupper())"
   ]
  },
  {
   "cell_type": "code",
   "execution_count": 146,
   "id": "57fc6350-6663-4e9d-a001-28ebd8213f01",
   "metadata": {},
   "outputs": [
    {
     "name": "stdout",
     "output_type": "stream",
     "text": [
      "True\n",
      "False\n"
     ]
    }
   ],
   "source": [
    "# startswith\n",
    "print(a.startswith(\"th\"))\n",
    "print(a.endswith(\"th\"))"
   ]
  },
  {
   "cell_type": "code",
   "execution_count": 147,
   "id": "a124e311-dd6d-40d7-8339-e794ea6d1036",
   "metadata": {},
   "outputs": [
    {
     "data": {
      "text/plain": [
       "'is '"
      ]
     },
     "execution_count": 147,
     "metadata": {},
     "output_type": "execute_result"
    }
   ],
   "source": [
    "# substring in python :slicing\n",
    "# a[si:ei] : si is included and ei is not included\n",
    "\n",
    "a= \"this is a new string\"\n",
    "a[2:5]"
   ]
  },
  {
   "cell_type": "code",
   "execution_count": 148,
   "id": "aa836831-26e1-4541-bc59-e53cd626c03f",
   "metadata": {},
   "outputs": [
    {
     "data": {
      "text/plain": [
       "'is is a new string'"
      ]
     },
     "execution_count": 148,
     "metadata": {},
     "output_type": "execute_result"
    }
   ],
   "source": [
    "a[2:] #starting from 2 to end"
   ]
  },
  {
   "cell_type": "code",
   "execution_count": 149,
   "id": "13642093-0b73-4988-9c64-149178a2416d",
   "metadata": {},
   "outputs": [
    {
     "data": {
      "text/plain": [
       "'this'"
      ]
     },
     "execution_count": 149,
     "metadata": {},
     "output_type": "execute_result"
    }
   ],
   "source": [
    "a[:4]"
   ]
  },
  {
   "cell_type": "code",
   "execution_count": 150,
   "id": "64b24231-3f78-4b1f-b18a-6da1424e580e",
   "metadata": {},
   "outputs": [
    {
     "data": {
      "text/plain": [
       "'this is a new string'"
      ]
     },
     "execution_count": 150,
     "metadata": {},
     "output_type": "execute_result"
    }
   ],
   "source": [
    "a[:]"
   ]
  },
  {
   "cell_type": "code",
   "execution_count": 151,
   "id": "277b234f-5c47-4e65-97b8-ec9756a57ce0",
   "metadata": {},
   "outputs": [
    {
     "data": {
      "text/plain": [
       "'i sanw'"
      ]
     },
     "execution_count": 151,
     "metadata": {},
     "output_type": "execute_result"
    }
   ],
   "source": [
    "a[2:13:2]"
   ]
  },
  {
   "cell_type": "code",
   "execution_count": 154,
   "id": "49f1d959-6f2f-4054-bfff-6fbdb1b15a3f",
   "metadata": {},
   "outputs": [
    {
     "data": {
      "text/plain": [
       "'nirts wen a si s'"
      ]
     },
     "execution_count": 154,
     "metadata": {},
     "output_type": "execute_result"
    }
   ],
   "source": [
    "# ---->end<-----\n",
    "# end-1   end+1\n",
    "a[18:2:-1] # up to 3 reverse"
   ]
  },
  {
   "cell_type": "code",
   "execution_count": 156,
   "id": "248985f0-04e5-4dfb-9309-efceda10828d",
   "metadata": {},
   "outputs": [
    {
     "name": "stdin",
     "output_type": "stream",
     "text": [
      " expressxerox\n"
     ]
    },
    {
     "data": {
      "text/plain": [
       "'eypressxerox'"
      ]
     },
     "execution_count": 156,
     "metadata": {},
     "output_type": "execute_result"
    }
   ],
   "source": [
    "# replace first occurance of a with b\n",
    "s=input()\n",
    "a='x'\n",
    "b='y'\n",
    "\n",
    "index= s.find(a) #first occurence of a's index\n",
    "\n",
    "if p!=-1:\n",
    "    ans= s[:index]+b+s[index+1:]\n",
    "ans"
   ]
  },
  {
   "cell_type": "code",
   "execution_count": 157,
   "id": "872e87d2-5511-49b0-a2c0-d98f820fd183",
   "metadata": {},
   "outputs": [
    {
     "name": "stdin",
     "output_type": "stream",
     "text": [
      " codex\n"
     ]
    },
    {
     "data": {
      "text/plain": [
       "'codey'"
      ]
     },
     "execution_count": 157,
     "metadata": {},
     "output_type": "execute_result"
    }
   ],
   "source": [
    "# replace all occurances\n",
    "# approach1: use find() replace up to find gives -1\n",
    "\n",
    "ans=input()\n",
    "\n",
    "a='x'\n",
    "b='y'\n",
    "\n",
    "for i in range(0,len(ans)):\n",
    "    if ans[i]==a:\n",
    "        ans = ans[:i]+b+ans[i+1:]\n",
    "ans"
   ]
  },
  {
   "cell_type": "code",
   "execution_count": 163,
   "id": "2140892e-d727-40c5-8d5e-0c751f7b1ee7",
   "metadata": {},
   "outputs": [
    {
     "data": {
      "text/plain": [
       "'eypressyeroy'"
      ]
     },
     "execution_count": 163,
     "metadata": {},
     "output_type": "execute_result"
    }
   ],
   "source": [
    "# inbuilt function of repalce: it returns the new string\n",
    "s=s.replace('x','y')\n",
    "s"
   ]
  },
  {
   "cell_type": "code",
   "execution_count": 164,
   "id": "fe7ba1af-4529-45e0-869f-603ed12cd92e",
   "metadata": {},
   "outputs": [
    {
     "name": "stdout",
     "output_type": "stream",
     "text": [
      "This is big string with is random words\n",
      "Thare are big string with are random words\n",
      "This is big string with is random words\n"
     ]
    }
   ],
   "source": [
    "# replace :not changed the orginal string , returns the new string\n",
    "\n",
    "a=\"This is big string with is random words\"\n",
    "print(a)\n",
    "\n",
    "print(a.replace(\"is\", \"are\")) #replace all occurences, even in words, and returns\n",
    "\n",
    "print(a)"
   ]
  },
  {
   "cell_type": "code",
   "execution_count": 165,
   "id": "3d52300f-88d0-440a-948c-01b0df35e96a",
   "metadata": {},
   "outputs": [
    {
     "data": {
      "text/plain": [
       "'ab'"
      ]
     },
     "execution_count": 165,
     "metadata": {},
     "output_type": "execute_result"
    }
   ],
   "source": [
    "\"abc\"[:2]"
   ]
  },
  {
   "cell_type": "code",
   "execution_count": 166,
   "id": "c35b1f77-a9a0-4036-9df6-2dd1f7c862cf",
   "metadata": {},
   "outputs": [
    {
     "data": {
      "text/plain": [
       "'o'"
      ]
     },
     "execution_count": 166,
     "metadata": {},
     "output_type": "execute_result"
    }
   ],
   "source": [
    "str1=\"hello\"\n",
    "str1[-1] #same\n",
    "str1[-1:] #same"
   ]
  },
  {
   "cell_type": "code",
   "execution_count": 167,
   "id": "6f1bc51f-ae8a-4654-8d68-2c0edd202a3c",
   "metadata": {},
   "outputs": [
    {
     "data": {
      "text/plain": [
       "'gh'"
      ]
     },
     "execution_count": 167,
     "metadata": {},
     "output_type": "execute_result"
    }
   ],
   "source": [
    "s=\"abcdefghi\"\n",
    "s[-3:-1]"
   ]
  },
  {
   "cell_type": "markdown",
   "id": "d630d68b-2085-46ca-aa7d-5fd7832d26df",
   "metadata": {},
   "source": [
    "## Lists in Python:\n",
    "\n",
    "- Collection of elements, no need to predefine size or data type.\n",
    "- Dynamic in size: can grow or shrink as needed.\n",
    "- Stores various data types.\n",
    "- Efficiently allocates space and resizes when necessary.\n",
    "- \n",
    "internally list allocates some space, if we ask more , it will copy the elements to new list with additional storage and returns it\n",
    "\n",
    "### List Methods\n",
    "\n",
    "Python provides several built-in methods to perform operations on lists. Some commonly used list methods include:\n",
    "\n",
    "- `append(element)`: Adds an element to the end of the list.\n",
    "- `insert(index, element)`: Inserts an element at the specified index.\n",
    "- `remove(element)`: Removes the first occurrence of the specified element from the list.\n",
    "- `pop(index)`: Removes and returns the element at the specified index.\n",
    "- `len(list)`: Returns the number of elements in the list.\n"
   ]
  },
  {
   "cell_type": "code",
   "execution_count": 171,
   "id": "e9bea522-7004-4819-afa6-6a0f124deac8",
   "metadata": {},
   "outputs": [
    {
     "name": "stdout",
     "output_type": "stream",
     "text": [
      "[1, 2, 3]\n",
      "[3, 4, 6]\n"
     ]
    }
   ],
   "source": [
    "# both are same\n",
    "a=[1,2,3]\n",
    "b=list([3,4,6])\n",
    "print(a)\n",
    "print(b)"
   ]
  },
  {
   "cell_type": "code",
   "execution_count": 172,
   "id": "546ee459-a8fa-49cc-bcf7-7fc74d25660d",
   "metadata": {},
   "outputs": [
    {
     "data": {
      "text/plain": [
       "[]"
      ]
     },
     "execution_count": 172,
     "metadata": {},
     "output_type": "execute_result"
    }
   ],
   "source": [
    "[] #empty list"
   ]
  },
  {
   "cell_type": "code",
   "execution_count": 173,
   "id": "ef0b78de-68af-4c93-a47e-c72053f0d089",
   "metadata": {},
   "outputs": [
    {
     "data": {
      "text/plain": [
       "[1, 2, 'abc', (5+3j)]"
      ]
     },
     "execution_count": 173,
     "metadata": {},
     "output_type": "execute_result"
    }
   ],
   "source": [
    "a=[1,2,\"abc\",5+3j]\n",
    "a"
   ]
  },
  {
   "cell_type": "code",
   "execution_count": 174,
   "id": "1bdcf530-15d5-49c1-bb0f-3917a7c36816",
   "metadata": {},
   "outputs": [
    {
     "data": {
      "text/plain": [
       "[[1, 2, 3], 5]"
      ]
     },
     "execution_count": 174,
     "metadata": {},
     "output_type": "execute_result"
    }
   ],
   "source": [
    "# list of lists is possibles\n",
    "a=[[1,2,3],5]\n",
    "a"
   ]
  },
  {
   "cell_type": "code",
   "execution_count": 175,
   "id": "ba83d6f7-f694-4c97-ae86-eca581817cc0",
   "metadata": {},
   "outputs": [
    {
     "name": "stdout",
     "output_type": "stream",
     "text": [
      "[0, 0, 0, 0, 0, 0, 0, 0, 0, 0]\n"
     ]
    }
   ],
   "source": [
    "# loop with list\n",
    "\n",
    "b= [ 0 for i in range(0,10)]\n",
    "print(b)"
   ]
  },
  {
   "cell_type": "code",
   "execution_count": 176,
   "id": "9c5077f2-944b-44ca-9b75-78a896fae1cf",
   "metadata": {},
   "outputs": [
    {
     "name": "stdout",
     "output_type": "stream",
     "text": [
      "[0, 1, 2, 3, 4, 5, 6, 7, 8, 9]\n"
     ]
    }
   ],
   "source": [
    "b= [ i for i in range(0,10)]\n",
    "print(b)"
   ]
  },
  {
   "cell_type": "code",
   "execution_count": 177,
   "id": "b3048c06-3d65-4946-85cc-8d1ca647b204",
   "metadata": {},
   "outputs": [
    {
     "name": "stdout",
     "output_type": "stream",
     "text": [
      "['i', 's', 'm', 'a', 'i', 'l']\n"
     ]
    }
   ],
   "source": [
    "b= [ i for i in \"ismail\"]\n",
    "print(b)"
   ]
  },
  {
   "cell_type": "code",
   "execution_count": 178,
   "id": "efc2a3e6-abbb-432f-b40f-8f4759a1c8ab",
   "metadata": {},
   "outputs": [
    {
     "name": "stdout",
     "output_type": "stream",
     "text": [
      "[0, 1, 4, 9, 16, 25, 36, 49, 64, 81]\n"
     ]
    }
   ],
   "source": [
    "b= [ i*i for i in range(0,10) ]\n",
    "print(b)"
   ]
  },
  {
   "cell_type": "code",
   "execution_count": 180,
   "id": "8949a09c-566f-4b8f-9783-46a0db15adef",
   "metadata": {},
   "outputs": [
    {
     "name": "stdout",
     "output_type": "stream",
     "text": [
      "5\n"
     ]
    }
   ],
   "source": [
    "# length of string\n",
    "\n",
    "a=[1,2,4,5,6]\n",
    "print(len(a))"
   ]
  },
  {
   "cell_type": "code",
   "execution_count": 181,
   "id": "c59e832f-6732-4860-9004-ee66741672dc",
   "metadata": {},
   "outputs": [
    {
     "name": "stdout",
     "output_type": "stream",
     "text": [
      "[1, 2, 4, 5, 6, 6, 7, 8]\n"
     ]
    }
   ],
   "source": [
    "# adding two lists\n",
    "\n",
    "b=[6,7,8]\n",
    "a=a+b\n",
    "\n",
    "print(a)"
   ]
  },
  {
   "cell_type": "code",
   "execution_count": 196,
   "id": "d77c21a9-bc9f-4fbc-b945-9d57395a4d7a",
   "metadata": {},
   "outputs": [
    {
     "name": "stdout",
     "output_type": "stream",
     "text": [
      "[1, 3, 5, 6, 7, 8]\n"
     ]
    }
   ],
   "source": [
    "a=[1,3,5]\n",
    "b=[6,7,8]\n",
    "\n",
    "c=a+b\n",
    "print(c)"
   ]
  },
  {
   "cell_type": "code",
   "execution_count": 184,
   "id": "caa13c5a-ee6e-4179-add4-9440446ed5a6",
   "metadata": {},
   "outputs": [
    {
     "ename": "TypeError",
     "evalue": "can only concatenate list (not \"int\") to list",
     "output_type": "error",
     "traceback": [
      "\u001b[1;31m---------------------------------------------------------------------------\u001b[0m",
      "\u001b[1;31mTypeError\u001b[0m                                 Traceback (most recent call last)",
      "Cell \u001b[1;32mIn[184], line 1\u001b[0m\n\u001b[1;32m----> 1\u001b[0m \u001b[43mc\u001b[49m\u001b[38;5;241;43m+\u001b[39;49m\u001b[38;5;241;43m3\u001b[39;49m \u001b[38;5;66;03m#not possible\u001b[39;00m\n",
      "\u001b[1;31mTypeError\u001b[0m: can only concatenate list (not \"int\") to list"
     ]
    }
   ],
   "source": [
    "c+3 #not possible"
   ]
  },
  {
   "cell_type": "code",
   "execution_count": 185,
   "id": "a7fbe3ad-a03d-443c-b6e9-479081d8f920",
   "metadata": {},
   "outputs": [
    {
     "ename": "TypeError",
     "evalue": "can't multiply sequence by non-int of type 'list'",
     "output_type": "error",
     "traceback": [
      "\u001b[1;31m---------------------------------------------------------------------------\u001b[0m",
      "\u001b[1;31mTypeError\u001b[0m                                 Traceback (most recent call last)",
      "Cell \u001b[1;32mIn[185], line 1\u001b[0m\n\u001b[1;32m----> 1\u001b[0m \u001b[43ma\u001b[49m\u001b[38;5;241;43m*\u001b[39;49m\u001b[43mb\u001b[49m\n",
      "\u001b[1;31mTypeError\u001b[0m: can't multiply sequence by non-int of type 'list'"
     ]
    }
   ],
   "source": [
    "a*b #not possible"
   ]
  },
  {
   "cell_type": "code",
   "execution_count": 197,
   "id": "0236b17b-5c44-4a58-8027-42d5628941d8",
   "metadata": {},
   "outputs": [
    {
     "data": {
      "text/plain": [
       "[1, 3, 5, 1, 3, 5, 1, 3, 5]"
      ]
     },
     "execution_count": 197,
     "metadata": {},
     "output_type": "execute_result"
    }
   ],
   "source": [
    "a*3 #possible\n",
    "# copies 3 times and gives new"
   ]
  },
  {
   "cell_type": "code",
   "execution_count": 198,
   "id": "e51c150d-25ae-4e37-acbd-774bf1565dd6",
   "metadata": {},
   "outputs": [
    {
     "name": "stdout",
     "output_type": "stream",
     "text": [
      "[1, 3, 5, 4]\n"
     ]
    }
   ],
   "source": [
    "# add to end\n",
    "a.append(4)\n",
    "print(a)"
   ]
  },
  {
   "cell_type": "code",
   "execution_count": 199,
   "id": "4e2c7c54-4bf3-4a5c-b4ca-8f4fcdc78e7a",
   "metadata": {},
   "outputs": [
    {
     "name": "stdout",
     "output_type": "stream",
     "text": [
      "[10, 1, 3, 5, 4]\n"
     ]
    }
   ],
   "source": [
    "# add data at specific index\n",
    "a.insert(0,10) #index, vlaue\n",
    "print(a)"
   ]
  },
  {
   "cell_type": "code",
   "execution_count": 200,
   "id": "136df352-7218-454d-887b-f08d9371930b",
   "metadata": {},
   "outputs": [
    {
     "name": "stdout",
     "output_type": "stream",
     "text": [
      "[10, 1, 3, 5, 4, 6, 7, 8]\n"
     ]
    }
   ],
   "source": [
    "# add b to a\n",
    "a.extend(b) # a=a+b\n",
    "print(a)"
   ]
  },
  {
   "cell_type": "code",
   "execution_count": 201,
   "id": "1d0b09f9-acf0-4653-8c19-2d8c25b7c401",
   "metadata": {},
   "outputs": [
    {
     "data": {
      "text/plain": [
       "[10, 1, 3, 5, 4, 6, 8]"
      ]
     },
     "execution_count": 201,
     "metadata": {},
     "output_type": "execute_result"
    }
   ],
   "source": [
    "# remove \"data\" \n",
    "a.remove(7)\n",
    "a"
   ]
  },
  {
   "cell_type": "code",
   "execution_count": 202,
   "id": "5176a3b5-1029-4025-9641-fcc096ef11fb",
   "metadata": {},
   "outputs": [
    {
     "name": "stdout",
     "output_type": "stream",
     "text": [
      "[1, 3, 5, 4, 6, 8]\n"
     ]
    }
   ],
   "source": [
    "# remove from particular index, removes and returns the popped value\n",
    "a.pop(0)\n",
    "print(a)"
   ]
  },
  {
   "cell_type": "code",
   "execution_count": 203,
   "id": "acf40d51-a823-4b98-a101-6b825e14654b",
   "metadata": {},
   "outputs": [],
   "source": [
    "del a[4] #doesnt return the deleted value"
   ]
  },
  {
   "cell_type": "code",
   "execution_count": 204,
   "id": "112b37d2-9b0e-4592-8de3-345e039af9de",
   "metadata": {},
   "outputs": [
    {
     "data": {
      "text/plain": [
       "[1, 5, 4, 8]"
      ]
     },
     "execution_count": 204,
     "metadata": {},
     "output_type": "execute_result"
    }
   ],
   "source": [
    "del a[1]\n",
    "a"
   ]
  },
  {
   "cell_type": "markdown",
   "id": "9d0bd6e7-d00c-4099-8e7a-e6df7b149bfa",
   "metadata": {},
   "source": [
    "## Sort\n",
    "The list.sort() method is a built-in method available for lists in Python. It sorts the elements of the list in place, which means it modifies the original list directly without creating a new one.\n",
    "\n",
    "- Here's the syntax of the list.sort() method: `list.sort(key=None, reverse=False)`\n",
    "\n",
    "- if reverse=True, then sorts in descending order\n",
    "\n",
    "### max,min\n",
    "- min() and max() are built-in functions used to find the minimum and maximum elements, from an iterable or a set of arguments.\n",
    "- Both functions work on various data structures like lists, tuples, strings, and other iterables.\n",
    "\n",
    "- `min(iterable, *args, key=None, default=None)`\n",
    "- `max(iterable, *args, key=None, default=None)`\n",
    "\n",
    "list should be homogenous"
   ]
  },
  {
   "cell_type": "code",
   "execution_count": 208,
   "id": "59c48ac2-2cf9-4319-ad1d-4c84582b373b",
   "metadata": {},
   "outputs": [
    {
     "name": "stdout",
     "output_type": "stream",
     "text": [
      "[1, 3, 4, 5, 6, 7, 8, 10]\n"
     ]
    }
   ],
   "source": [
    "a=[10, 1, 3, 5, 4, 6, 7, 8]\n",
    "a.sort() #orginal list sorted\n",
    "print(a)"
   ]
  },
  {
   "cell_type": "code",
   "execution_count": 210,
   "id": "1ce4718c-999d-4f80-95a4-1a0992abff44",
   "metadata": {},
   "outputs": [
    {
     "name": "stdout",
     "output_type": "stream",
     "text": [
      "9\n"
     ]
    }
   ],
   "source": [
    "b=[1,3,5,7,9,8,5,4,2,1]\n",
    "print(max(b))"
   ]
  },
  {
   "cell_type": "markdown",
   "id": "a030795d-ae10-4412-961a-20814ef90c36",
   "metadata": {},
   "source": [
    "The `in` operator is a built-in operator in Python used to check for membership in a sequence or container"
   ]
  },
  {
   "cell_type": "code",
   "execution_count": 211,
   "id": "fee37db6-1ca1-444f-abdb-04073279d6c2",
   "metadata": {},
   "outputs": [
    {
     "data": {
      "text/plain": [
       "False"
      ]
     },
     "execution_count": 211,
     "metadata": {},
     "output_type": "execute_result"
    }
   ],
   "source": [
    "100 in a "
   ]
  },
  {
   "cell_type": "code",
   "execution_count": 212,
   "id": "bd97a066-88fb-426c-96f0-de5e1aca8eaf",
   "metadata": {},
   "outputs": [
    {
     "name": "stdout",
     "output_type": "stream",
     "text": [
      "['h', 'e', 'l', 'l', 'o']\n"
     ]
    }
   ],
   "source": [
    "print([i.lower() for i in \"HELLO\"])"
   ]
  },
  {
   "cell_type": "code",
   "execution_count": 213,
   "id": "b5ca8777-1ea6-4174-8d99-c883d67ab11d",
   "metadata": {},
   "outputs": [
    {
     "data": {
      "text/plain": [
       "10"
      ]
     },
     "execution_count": 213,
     "metadata": {},
     "output_type": "execute_result"
    }
   ],
   "source": [
    "a.pop() #if index not given, removes the last one"
   ]
  },
  {
   "cell_type": "markdown",
   "id": "d89bbf0c-512a-459b-a55b-84d1007e5b6a",
   "metadata": {},
   "source": [
    "## Taking input into List"
   ]
  },
  {
   "cell_type": "code",
   "execution_count": null,
   "id": "2d1cfc4e-2382-40cc-a00a-3ec0efa48a98",
   "metadata": {},
   "outputs": [],
   "source": [
    " # Pattern 1\n",
    " # 5                  n\n",
    " # 1\n",
    " # 4\n",
    " # 5\n",
    " # 5\n",
    " # 8"
   ]
  },
  {
   "cell_type": "code",
   "execution_count": 71,
   "id": "f9d1c77b-031e-4ecb-b51d-5ae4ee800239",
   "metadata": {},
   "outputs": [
    {
     "name": "stdin",
     "output_type": "stream",
     "text": [
      " 5\n",
      " 1\n",
      " 4\n",
      " 5\n",
      " 5\n",
      " 8\n"
     ]
    },
    {
     "data": {
      "text/plain": [
       "[1, 4, 5, 5, 8]"
      ]
     },
     "execution_count": 71,
     "metadata": {},
     "output_type": "execute_result"
    }
   ],
   "source": [
    "n=int(input())\n",
    "a=[]\n",
    "for i in range(n):\n",
    "    s= int(input())\n",
    "    a.append(s)\n",
    "a"
   ]
  },
  {
   "cell_type": "code",
   "execution_count": 3,
   "id": "7ae4f8b9-13a4-4a9e-bbc7-4905ecb04788",
   "metadata": {},
   "outputs": [
    {
     "name": "stdin",
     "output_type": "stream",
     "text": [
      " 5\n",
      " 1 2 3 4 5\n"
     ]
    },
    {
     "data": {
      "text/plain": [
       "[1, 2, 3, 4, 5]"
      ]
     },
     "execution_count": 3,
     "metadata": {},
     "output_type": "execute_result"
    }
   ],
   "source": [
    "## 5 \n",
    "# 1 2 3 4 5\n",
    "\n",
    "n=int(input())\n",
    "a=input().split(\" \")\n",
    "\n",
    "s=[]\n",
    "\n",
    "for i in a:\n",
    "    s.append(int(i))\n",
    "    \n",
    "s"
   ]
  },
  {
   "cell_type": "code",
   "execution_count": 4,
   "id": "781e3202-89fc-490b-a354-c0c88d4b867b",
   "metadata": {},
   "outputs": [
    {
     "name": "stdin",
     "output_type": "stream",
     "text": [
      " 5\n",
      " 1 2 2 4 5\n"
     ]
    },
    {
     "data": {
      "text/plain": [
       "[1, 2, 2, 4, 5]"
      ]
     },
     "execution_count": 4,
     "metadata": {},
     "output_type": "execute_result"
    }
   ],
   "source": [
    "# more optimized way\n",
    "n=int(input())\n",
    "a=input().split()\n",
    "\n",
    "s=[int(i) for i in a]\n",
    "s"
   ]
  },
  {
   "cell_type": "code",
   "execution_count": 7,
   "id": "14f4d6a4-b9bb-41d0-874b-69130caa5ef8",
   "metadata": {},
   "outputs": [
    {
     "name": "stdin",
     "output_type": "stream",
     "text": [
      " 5\n",
      " 1 2 3 4 5\n"
     ]
    },
    {
     "data": {
      "text/plain": [
       "[1, 2, 3, 4, 5]"
      ]
     },
     "execution_count": 7,
     "metadata": {},
     "output_type": "execute_result"
    }
   ],
   "source": [
    "#  more more optimized way\n",
    "#  5\n",
    "#  1 2 3 4 5 \n",
    "n=int(input())\n",
    "\n",
    "s=[int(i) for i in input().split()]\n",
    "s"
   ]
  },
  {
   "cell_type": "code",
   "execution_count": null,
   "id": "6422ced0-cf0e-4c17-a374-d506e8b6ab8e",
   "metadata": {},
   "outputs": [],
   "source": [
    "## 5 1 2 3 4 5\n",
    "\n",
    "s=[int(i) for i in input().split()]\n",
    "n=s.pop(0) #pass the index\n",
    "print(n,s)"
   ]
  },
  {
   "cell_type": "code",
   "execution_count": 12,
   "id": "626abf6e-4004-4a64-a20a-c0088b00b023",
   "metadata": {},
   "outputs": [
    {
     "name": "stdin",
     "output_type": "stream",
     "text": [
      " 12 3 4 5\n"
     ]
    },
    {
     "name": "stdout",
     "output_type": "stream",
     "text": [
      "8\n"
     ]
    }
   ],
   "source": [
    "# difference of even sum and odd sum \n",
    "\n",
    "l=[int(i) for i in input().split()]\n",
    "\n",
    "even=0\n",
    "odd=0\n",
    "\n",
    "for i in l:\n",
    "    if i%2 == 0:\n",
    "        even+=i\n",
    "    else:\n",
    "        odd+=i\n",
    "print(even-odd)"
   ]
  },
  {
   "cell_type": "code",
   "execution_count": 15,
   "id": "0d93636d-09df-4af2-96e2-be3bded4c622",
   "metadata": {},
   "outputs": [
    {
     "name": "stdin",
     "output_type": "stream",
     "text": [
      " 1 2 3 4 5 678\n"
     ]
    },
    {
     "name": "stdout",
     "output_type": "stream",
     "text": [
      "21436785"
     ]
    }
   ],
   "source": [
    "# swapping adjacent places\n",
    "\n",
    "l=[int(i) for i in input().split()] #input\n",
    "\n",
    "length= len(l)\n",
    "\n",
    "for i in range(0,length,2):\n",
    "    if i< length-1:\n",
    "        l[i],l[i+1]= l[i+1],l[i]\n",
    "\n",
    "for i in l:\n",
    "    print(i,end=\"\")"
   ]
  },
  {
   "cell_type": "markdown",
   "id": "3027946d-8b96-410b-b099-84eeb0b0b3ce",
   "metadata": {},
   "source": [
    "### List in Python\n",
    "List slicing in Python allows you to extract a portion of a list by specifying start, stop, and step parameters. The syntax for list slicing is as follows:\r\n",
    "\r\n",
    "```\r\n",
    "new_list = list_name[start:stop:step]\r\n",
    "```\r\n",
    "\r\n",
    "Where:\r\n",
    "- `start`: The index where the slice begins (inclusive). If omitted, the slicing starts from the beginning of the list (index 0).\r\n",
    "- `stop`: The index where the slice ends (exclusive). If omitted, the slicing goes until the end of the list.\r\n",
    "- `step`: The step size or increment. If omitted, the default value is 1, which means consecutive elements will be included in thd = 4\r\n",
    "print(my_list[start:end])   # Output: [2, 3, 4]\r\n",
    "```\r\n",
    "\r\n",
    "Keep in mind that list slicing does not modify the origina\n",
    "\n",
    "l list; it creates a new list containing the sliced elements. Also, if the start index is greater than the stop index, or the step is negative, the slice will return an empty list."
   ]
  },
  {
   "cell_type": "code",
   "execution_count": 7,
   "id": "96b6f97a-2b4f-4d0c-b91f-3d9eac08b0f5",
   "metadata": {},
   "outputs": [
    {
     "name": "stdout",
     "output_type": "stream",
     "text": [
      "[3, 4, 5, 6]\n",
      "[1, 2, 3, 4, 5]\n",
      "[6, 7, 8, 9, 10]\n",
      "[1, 2, 3, 4, 5, 6, 7, 8, 9, 10]\n",
      "[1, 3, 5, 7, 9]\n",
      "[2, 5, 8]\n",
      "[10, 9, 8, 7, 6, 5, 4, 3, 2, 1]\n",
      "[8, 9, 10]\n",
      "[1, 2, 3, 4, 5, 6, 7]\n",
      "[2, 3, 4]\n"
     ]
    }
   ],
   "source": [
    "my_list = [1, 2, 3, 4, 5, 6, 7, 8, 9, 10]\n",
    "\n",
    "# Basic slicing\n",
    "print(my_list[2:6])      # Output: [3, 4, 5, 6]\n",
    "print(my_list[:5])       # Output: [1, 2, 3, 4, 5]\n",
    "print(my_list[5:])       # Output: [6, 7, 8, 9, 10]\n",
    "print(my_list[:])        # Output: [1, 2, 3, 4, 5, 6, 7, 8, 9, 10] (a copy of the entire list)\n",
    "\n",
    "# Slicing with step\n",
    "print(my_list[::2])      # Output: [1, 3, 5, 7, 9] (every second element)\n",
    "print(my_list[1::3])     # Output: [2, 5, 8] (every third element starting from index 1)\n",
    "print(my_list[::-1])     # Output: [10, 9, 8, 7, 6, 5, 4, 3, 2, 1] (reversed list)\n",
    "\n",
    "# Negative indexing\n",
    "print(my_list[-3:])      # Output: [8, 9, 10] (last three elements)\n",
    "print(my_list[:-3])      # Output: [1, 2, 3, 4, 5, 6, 7] (all elements except the last three)\n",
    "\n",
    "# Slicing with variables\n",
    "start = 1\n",
    "end = 4\n",
    "print(my_list[start:end])   # Output: [2, 3, 4]\n"
   ]
  },
  {
   "cell_type": "code",
   "execution_count": 8,
   "id": "fa18d9f3-7ab3-4aeb-813a-acd5eccd375d",
   "metadata": {},
   "outputs": [
    {
     "name": "stdout",
     "output_type": "stream",
     "text": [
      "[1, 2, 3, 4, 5, 6, 7, 8, 9, 10]\n"
     ]
    },
    {
     "data": {
      "text/plain": [
       "[10, 9, 8, 7, 6, 5, 4, 3, 2, 1]"
      ]
     },
     "execution_count": 8,
     "metadata": {},
     "output_type": "execute_result"
    }
   ],
   "source": [
    "print(my_list)\n",
    "my_list.reverse()\n",
    "my_list"
   ]
  },
  {
   "cell_type": "markdown",
   "id": "9808a13a-1735-457f-9f2a-a78055e4a64b",
   "metadata": {},
   "source": [
    "# Multidimensional Lists\n",
    "\n",
    "In Python, there is nothing specifically called a \"multidimensional list.\" However, we can represent multidimensional structures using lists of lists. One common example is a 2D list (m x n), which is essentially a list of lists where each sub-list represents a row or a 1D array.\n",
    "\n",
    "A 2D list can be created as follows:\n",
    "\n",
    "```python\n",
    "two_dimensional_list = [\n",
    "    [element_00, element_01, element_02, ..., element_0n],\n",
    "    [element_10, element_11, element_12, ..., element_1n],\n",
    "    ...\n",
    "    [element_m0, element_m1, element_m2, ..., element_mn]\n",
    "]\n",
    "```\n",
    "\n",
    "Here:\n",
    "- `m` represents the number of rows (sub-lists).\n",
    "- `n` represents the number of columns (elements in each sub-list).\n",
    "\n",
    "The `two_dimensional_list` can be visualized as an m x n matrix.\n",
    "\n",
    "While working with more dimensions, the concept remains the same, and you can nest additional lists to create 3D or higher-dimensional arrays. However, as the dimensionality increases, it becomes more complex, and using specialized libraries like NumPy for handling multidimensional arrays becomes more efficient and convenient."
   ]
  },
  {
   "cell_type": "code",
   "execution_count": 13,
   "id": "32ff4b87-32f2-4bbc-bcd4-87d28b8d2c94",
   "metadata": {},
   "outputs": [
    {
     "name": "stdout",
     "output_type": "stream",
     "text": [
      "6\n",
      "3\n",
      "3\n"
     ]
    }
   ],
   "source": [
    "\n",
    "matrix = [\n",
    "    [1, 2, 3],\n",
    "    [4, 5, 6],\n",
    "    [7, 8, 9]\n",
    "]\n",
    "\n",
    "print(matrix[1][2])  # Output: 6 (element in the 2nd row, 3rd column)\n",
    "\n",
    "print(len(matrix)) #no of rows\n",
    "print(len(matrix[0])) #no of columns\n"
   ]
  },
  {
   "cell_type": "markdown",
   "id": "e3948032-8d24-4c43-a6af-209a158f24be",
   "metadata": {},
   "source": [
    "### Taking Input into MULTIDIMENSIONL LIST\n",
    "Different methods to take input into a multidimensional list in Python.\r\n",
    "\r\n",
    "### Method 1:\r\n",
    "This method takes input in a specific format where the first line contains two space-separated integers `m` and `n`, followed by `m * n` space-separated integers representing the elements of the 2D lis oose any of them based on your preference and the input format you want to use."
   ]
  },
  {
   "cell_type": "code",
   "execution_count": 15,
   "id": "a241e999-5fc2-4024-ba8d-ce2ef2024c28",
   "metadata": {},
   "outputs": [
    {
     "name": "stdin",
     "output_type": "stream",
     "text": [
      " 2 3\n",
      " 1 2 3\n",
      " 4 5 6\n"
     ]
    },
    {
     "name": "stdout",
     "output_type": "stream",
     "text": [
      "[[1, 2, 3], [4, 5, 6]]\n"
     ]
    }
   ],
   "source": [
    "m, n = map(int, input().split())\n",
    "\n",
    "l = []\n",
    "\n",
    "for i in range(m):\n",
    "    next_row = [int(i) for i in input().split()]\n",
    "    l.append(next_row)\n",
    "print(l)\n",
    "# Input:\n",
    "# 2 3\n",
    "# 1 2 3\n",
    "# 4 5 6\n",
    "\n",
    "# Output:\n",
    "# l = [[1, 2, 3], [4, 5, 6]]"
   ]
  },
  {
   "cell_type": "markdown",
   "id": "3a2a2972-79f3-49a9-ae15-9974f41c5a33",
   "metadata": {},
   "source": [
    "### Method 2:\n",
    "This method is similar to Method 1, but it uses nested loops to take input for each element of the 2D list."
   ]
  },
  {
   "cell_type": "code",
   "execution_count": 19,
   "id": "b3d7b4e5-dfe1-435c-ab3f-299e351cfa51",
   "metadata": {},
   "outputs": [
    {
     "name": "stdin",
     "output_type": "stream",
     "text": [
      " 2 3\n",
      " 1\n",
      " 2\n",
      " 3\n",
      " 4\n",
      " 5\n",
      " 6\n"
     ]
    },
    {
     "name": "stdout",
     "output_type": "stream",
     "text": [
      "[[1, 2, 3], [4, 5, 6]]\n"
     ]
    }
   ],
   "source": [
    "m, n = map(int, input().split())\n",
    "l = []\n",
    "\n",
    "for i in range(m):\n",
    "    next_row = []\n",
    "    for j in range(n):\n",
    "        next_row.append(int(input()))\n",
    "    l.append(next_row)\n",
    "\n",
    "print(l)\n",
    "\n",
    "# Input:\n",
    "# 2 3\n",
    "# 1\n",
    "# 2\n",
    "# 3\n",
    "# 4\n",
    "# 5\n",
    "# 6\n",
    "\n",
    "# Output:\n",
    "# l = [[1, 2, 3], [4, 5, 6]]"
   ]
  },
  {
   "cell_type": "markdown",
   "id": "ed1a9429-c30f-4781-97d2-c6aef152ca4c",
   "metadata": {},
   "source": [
    "### Method 3:\n",
    "This method takes input in the same format as Method 1 but uses list slicing to construct the 2D list."
   ]
  },
  {
   "cell_type": "code",
   "execution_count": 20,
   "id": "919b8018-2b5c-4ae0-a8b8-6d21e88ae6b1",
   "metadata": {},
   "outputs": [
    {
     "name": "stdin",
     "output_type": "stream",
     "text": [
      " 2 3\n",
      " 1 2 3 4 5 6\n"
     ]
    },
    {
     "name": "stdout",
     "output_type": "stream",
     "text": [
      "[[1, 2, 3], [4, 5, 6]]\n"
     ]
    }
   ],
   "source": [
    "m, n = map(int, input().split())\n",
    "l = [int(i) for i in input().split()]\n",
    "ol = []\n",
    "\n",
    "for i in range(m):\n",
    "    start_index = n * i\n",
    "    end_index = n * (i + 1)  # excludes kabbati\n",
    "    next_row = l[start_index:end_index]\n",
    "    ol.append(next_row)\n",
    "\n",
    "print(ol)\n",
    "\n",
    "# Input:\n",
    "# 2 3\n",
    "# 1 2 3 4 5 6\n",
    "\n",
    "# Output:\n",
    "# ol = [[1, 2, 3], [4, 5, 6]]"
   ]
  },
  {
   "cell_type": "code",
   "execution_count": 21,
   "id": "622c9259-2260-47c4-864d-983c242b307b",
   "metadata": {},
   "outputs": [
    {
     "name": "stdout",
     "output_type": "stream",
     "text": [
      "[1, 5, 9]\n"
     ]
    }
   ],
   "source": [
    "# diagnol of 2d matrix\n",
    "a=[[1,2,3],[4,5,6],[7,8,9]]\n",
    "\n",
    "print([a[i][i] for i in range(len(a))])"
   ]
  },
  {
   "cell_type": "markdown",
   "id": "b72602cf-ede4-403c-ac04-cf4592b995af",
   "metadata": {},
   "source": [
    "### More on Multi dimensional lists\n",
    "\n",
    "The general syntax for slicing a 2D list is the same as for a 1D list. You specify the start and stop indices for each dimension within the square brackets separated by commas. Remember that the stop index is exclusive, meaning it won't include the element at that index in the slice.\n",
    "\n",
    "Keep in mind that slicing creates new lists containing the sliced elements and doesn't modify the original list.\n",
    "\n",
    "### List comprehension\n",
    "List comprehension is a concise way to create lists in Python. It provides a compact and readable syntax for generating new lists from existing ones, applying transformations, and filtering elements based on specific conditions. List comprehension is a powerful feature in Python that allows you to write elegant and efficient code.\n",
    "\n",
    "The basic syntax of list comprehension is as follows:\n",
    "\n",
    "```python\n",
    "new_list = [expression for item in iterable if condition]\n",
    "```\n",
    "\n",
    "Where:\n",
    "- `expression`: The expression to be applied to each item in the iterable.\n",
    "- `item`: A variable that represents the current item in the iterable.\n",
    "- `iterable`: The data source (e.g., list, tuple, string, etc.) from which you want to create the new list.\n",
    "- `if condition` (optional): A condition that filters elements based on certain criteria. It's not required for all list comprehensions.\n",
    "\n",
    "List comprehensions are concise and often more readable than writing equivalent code using traditional loops. They are widely used in Python and are considered one of the \"Pythonic\" ways to create and manipulate lists. However, it's essential to use them judiciously to maintain code clarity and readability.\n"
   ]
  },
  {
   "cell_type": "code",
   "execution_count": 28,
   "id": "7b4d8ca4-de56-46d6-9d44-c71fbd2c483a",
   "metadata": {},
   "outputs": [
    {
     "name": "stdout",
     "output_type": "stream",
     "text": [
      "[[4, 5, 6], [7, 8, 9]]\n",
      "[2, 5, 8]\n",
      "[[5, 6], [8, 9]]\n"
     ]
    }
   ],
   "source": [
    "# Example 2D list (3x3)\n",
    "matrix = [\n",
    "    [1, 2, 3],\n",
    "    [4, 5, 6],\n",
    "    [7, 8, 9]\n",
    "]\n",
    "\n",
    "# Slicing rows\n",
    "row_slice = matrix[1:3]  # Rows 2 and 3\n",
    "print(row_slice)\n",
    "# Output: [[4, 5, 6], [7, 8, 9]]\n",
    "\n",
    "# Slicing columns (using list comprehension)\n",
    "column_slice = [row[1] for row in matrix]  # Column 2\n",
    "print(column_slice)\n",
    "# Output: [2, 5, 8]\n",
    "\n",
    "# Slicing a sub-region (using list comprehension)\n",
    "sub_slice = [row[1:3] for row in matrix[1:3]]  # Rows 2 and 3, Columns 2 and 3\n",
    "print(sub_slice)\n",
    "\n",
    "# Output: [[5, 6], [8, 9]]"
   ]
  },
  {
   "cell_type": "code",
   "execution_count": 29,
   "id": "1232233b-66b4-490e-8c87-7e557a5f95ad",
   "metadata": {},
   "outputs": [
    {
     "name": "stdout",
     "output_type": "stream",
     "text": [
      "Squares: [1, 4, 9, 16, 25]\n",
      "Even Numbers: [2, 4, 6, 8, 10]\n",
      "number squares: [(1, 1), (2, 4), (3, 9), (4, 16), (5, 25)]\n",
      "lowercase chars: ['e', 'l', 'l', 'o', 'o', 'r', 'l', 'd']\n"
     ]
    }
   ],
   "source": [
    "# some examples of list comprehension:\n",
    "\n",
    "# 1. Creating a list of squares from 1 to 5:\n",
    "\n",
    "squares = [x**2 for x in range(1, 6)]\n",
    "print(\"Squares:\",squares)\n",
    "# Output: [1, 4, 9, 16, 25]\n",
    "\n",
    "\n",
    "# 2. Filtering even numbers from a list:\n",
    "\n",
    "numbers = [1, 2, 3, 4, 5, 6, 7, 8, 9, 10]\n",
    "even_numbers = [x for x in numbers if x % 2 == 0]\n",
    "print(\"Even Numbers:\",even_numbers)\n",
    "# Output: [2, 4, 6, 8, 10]\n",
    "\n",
    "\n",
    "# 3. Generating a list of tuples containing numbers and their squares:\n",
    "\n",
    "numbers = [1, 2, 3, 4, 5]\n",
    "number_squares = [(x, x**2) for x in numbers]\n",
    "print(\"number squares:\",number_squares)\n",
    "# Output: [(1, 1), (2, 4), (3, 9), (4, 16), (5, 25)]\n",
    "\n",
    "\n",
    "# 4. Extracting lowercase characters from a string:\n",
    "sentence = \"Hello World\"\n",
    "lowercase_chars = [char for char in sentence if char.islower()]\n",
    "print(\"lowercase chars:\",lowercase_chars)\n",
    "# Output: ['e', 'l', 'l', 'o', 'o', 'r', 'l', 'd']\n"
   ]
  },
  {
   "cell_type": "code",
   "execution_count": 30,
   "id": "9ce79c3a-28ca-4d25-9991-63a5fd997eb8",
   "metadata": {},
   "outputs": [
    {
     "data": {
      "text/plain": [
       "[[0, 0], [1, 2], [2, 4], [3, 6], [4, 8]]"
      ]
     },
     "execution_count": 30,
     "metadata": {},
     "output_type": "execute_result"
    }
   ],
   "source": [
    "a=[[i,2*i] for i in range(5)]\n",
    "a"
   ]
  },
  {
   "cell_type": "code",
   "execution_count": 31,
   "id": "6aad124c-984c-40f3-99f3-5bebb8ea7872",
   "metadata": {},
   "outputs": [
    {
     "data": {
      "text/plain": [
       "[[0, 0, 0, 0, 0, 0, 0, 0, 0, 0, 0, 0, 0, 0, 0],\n",
       " [0, 1, 2, 3, 4, 5, 6, 7, 8, 9, 10, 11, 12, 13, 14],\n",
       " [0, 2, 4, 6, 8, 10, 12, 14, 16, 18, 20, 22, 24, 26, 28],\n",
       " [0, 3, 6, 9, 12, 15, 18, 21, 24, 27, 30, 33, 36, 39, 42],\n",
       " [0, 4, 8, 12, 16, 20, 24, 28, 32, 36, 40, 44, 48, 52, 56]]"
      ]
     },
     "execution_count": 31,
     "metadata": {},
     "output_type": "execute_result"
    }
   ],
   "source": [
    "a=[ [ i*j for j in range(15) ] for i in range(5)]\n",
    "a"
   ]
  },
  {
   "cell_type": "code",
   "execution_count": 7,
   "id": "21ac43c9-52d3-4d4f-b8ed-bc34efa3a43f",
   "metadata": {},
   "outputs": [
    {
     "name": "stdout",
     "output_type": "stream",
     "text": [
      "0\n",
      "10\n",
      "20\n",
      "30\n",
      "40\n"
     ]
    }
   ],
   "source": [
    "# print column wise sum\n",
    "a=[ [ i*j for j in range(5) ] for i in range(5)]\n",
    "m= len(a)\n",
    "n= len(a[0]) #check if a is empty before doing this\n",
    "# dont use sum as a variable name, it overshadows and we cant use sum() function in our code\n",
    "for i in range(n):\n",
    "    s=0\n",
    "    for j in range(m):\n",
    "        s+=a[j][i]\n",
    "    print(s)"
   ]
  },
  {
   "cell_type": "code",
   "execution_count": 10,
   "id": "236dee5c-14aa-400a-86c1-e4784d7dbe10",
   "metadata": {},
   "outputs": [
    {
     "name": "stdout",
     "output_type": "stream",
     "text": [
      "0\n",
      "10\n",
      "20\n",
      "30\n",
      "40\n"
     ]
    }
   ],
   "source": [
    "# Row wise sum in multidimensional array\n",
    "a=[ [ i*j for j in range(5) ] for i in range(5)]\n",
    "m= len(a[0])\n",
    "n= len(a)\n",
    "for i in range(m):\n",
    "    s= 0\n",
    "    for j in range(n):\n",
    "        s+=a[i][j]\n",
    "    print(s)"
   ]
  },
  {
   "cell_type": "code",
   "execution_count": 11,
   "id": "bb8e2de6-9387-4d92-b489-089ad587ed4c",
   "metadata": {},
   "outputs": [
    {
     "name": "stdout",
     "output_type": "stream",
     "text": [
      "[1, 2, 3, 4, [3]]\n"
     ]
    }
   ],
   "source": [
    "a=[1,2,3,4,[56]]\n",
    "b=list(a)\n",
    "a[0] = 5\n",
    "a[4][0]=3\n",
    "print(b) \n",
    "\n",
    "# They only create a copy on the 0th level . Thats called shallow copy. The elements of a nested \n",
    "# elements are copied by reference"
   ]
  },
  {
   "cell_type": "code",
   "execution_count": 12,
   "id": "a28777a2-9580-47fc-a918-67e93e83f90e",
   "metadata": {},
   "outputs": [
    {
     "name": "stdout",
     "output_type": "stream",
     "text": [
      "Palindrome\n"
     ]
    }
   ],
   "source": [
    "# check if string is a palindrome or not\n",
    "# no reverse method on string\n",
    "\n",
    "a=\"malayalam\"\n",
    "b=a[::-1]  #reverse\n",
    "if a==b:\n",
    "    print(\"Palindrome\")\n",
    "else:\n",
    "    print(\"Not a Palindrome\")"
   ]
  },
  {
   "cell_type": "code",
   "execution_count": 13,
   "id": "a7b9e67c-e969-430f-9edd-b906ed4da029",
   "metadata": {},
   "outputs": [
    {
     "name": "stdout",
     "output_type": "stream",
     "text": [
      "dlroW olleH\n"
     ]
    }
   ],
   "source": [
    "print(\"\".join(reversed(\"Hello World\")))"
   ]
  },
  {
   "cell_type": "code",
   "execution_count": 14,
   "id": "3131a946-5fc9-46d8-aa1f-ff425577f5d5",
   "metadata": {},
   "outputs": [
    {
     "name": "stdout",
     "output_type": "stream",
     "text": [
      "<class 'reversed'>\n",
      "<class 'str'>\n",
      "<class 'str'>\n",
      "<class 'str'>\n",
      "<class 'str'>\n",
      "<class 'str'>\n",
      "<class 'str'>\n",
      "<class 'str'>\n",
      "<class 'str'>\n",
      "<class 'str'>\n",
      "<class 'str'>\n",
      "<class 'str'>\n"
     ]
    }
   ],
   "source": [
    "a=reversed(\"Hello World\") #revesed \n",
    "print(type(a))\n",
    "for i in a:\n",
    "    print(type(i))"
   ]
  },
  {
   "cell_type": "code",
   "execution_count": 15,
   "id": "99ca8b24-e494-4e94-be29-54e1db5c72dc",
   "metadata": {},
   "outputs": [
    {
     "name": "stdout",
     "output_type": "stream",
     "text": [
      "A\n",
      "Al\n",
      "Alb\n",
      "Albr\n",
      "l\n",
      "lb\n",
      "lbr\n",
      "b\n",
      "br\n",
      "r\n"
     ]
    }
   ],
   "source": [
    "# Print all Sub Strings\n",
    "\n",
    "a= \"Albr\"\n",
    "\n",
    "for i in range(len(a)):\n",
    "    s=\"\"\n",
    "    for j in range(i,len(a)):\n",
    "        s+=a[j]\n",
    "        print(s)"
   ]
  },
  {
   "cell_type": "code",
   "execution_count": 133,
   "id": "4c1c00a0-cc6f-4e52-9bb2-aff913e00f9a",
   "metadata": {},
   "outputs": [
    {
     "name": "stdout",
     "output_type": "stream",
     "text": [
      "2\n"
     ]
    }
   ],
   "source": [
    "# Array equilibrium index\n",
    "# Equilibrium Index of an array/list is an index 'i' such that the sum of elements at indices [0 to (i - 1)] is equal to the sum of elements\n",
    "# at indices [(i + 1) to (N-1)].\n",
    "# The item at the index 'i' is not included in either part.\n",
    "# If more than one equilibrium indices are present, then the index appearing first in left to right fashion should be returned. \n",
    "\n",
    "array = [1, 4, 9, 3, 2]\n",
    "\n",
    "found_equilibrium = False\n",
    "\n",
    "for i in range(len(array)):\n",
    "    left_sum = sum(array[0:i])\n",
    "    right_sum = sum(array[i+1:])\n",
    "    if left_sum == right_sum:\n",
    "        print(i)\n",
    "        found_equilibrium = True\n",
    "        break\n",
    "\n",
    "if not found_equilibrium:\n",
    "    print(-1)\n",
    "\n"
   ]
  },
  {
   "cell_type": "code",
   "execution_count": 23,
   "id": "b67b839f-8b19-430d-b661-4665aabfc159",
   "metadata": {},
   "outputs": [
    {
     "data": {
      "text/plain": [
       "[[0, 0, 0, 0, 0],\n",
       " [0, 1, 2, 3, 4],\n",
       " [0, 2, 4, 6, 8],\n",
       " [0, 3, 6, 9, 12],\n",
       " [0, 4, 8, 12, 16]]"
      ]
     },
     "execution_count": 23,
     "metadata": {},
     "output_type": "execute_result"
    }
   ],
   "source": [
    "a=[ [ i*j for j in range(5) ] for i in range(5)]\n",
    "a"
   ]
  },
  {
   "cell_type": "code",
   "execution_count": 27,
   "id": "12b99978-d8f3-4858-ae04-074f1fd676de",
   "metadata": {},
   "outputs": [
    {
     "name": "stdout",
     "output_type": "stream",
     "text": [
      "0 0 0 0 0 \n",
      "4 3 2 1 0 \n",
      "8 6 4 2 0 \n",
      "12 9 6 3 0 \n",
      "16 12 8 4 0 \n"
     ]
    }
   ],
   "source": [
    "# Wave print: print first column top to bottom and 2nd column bottom to top , repeat this\n",
    "\n",
    "isdown= True\n",
    "\n",
    "for i in range(5):\n",
    "    if isdown:\n",
    "        for j in range(0,5):\n",
    "            print(a[j][i],end=\" \")\n",
    "        print()\n",
    "        isdown=False\n",
    "    else:\n",
    "        for j in range(4,-1,-1):\n",
    "            print(a[j][i],end=\" \")\n",
    "        print()"
   ]
  },
  {
   "cell_type": "markdown",
   "id": "38855ca8-df4e-42dd-b3f9-99d1e1009cd9",
   "metadata": {},
   "source": [
    "# Functions\n",
    "Functions are blocks of reusable code that perform specific tasks. Functions help in organizing code, making it modular, and improving code readability. They allow you to break down complex problems into smaller, manageable parts, making the code easier to maintain and understand.\n",
    "\n",
    "```python\n",
    "def function_name(parameter1, parameter2, ...):\n",
    "    # Function body\n",
    "    # Code to perform a specific task\n",
    "    # Return statement (optional)\n",
    "```\n",
    "\n",
    "In Python, functions are blocks of reusable code that perform specific tasks. Functions help in organizing code, making it modular, and improving code readability. They allow you to break down complex problems into smaller, manageable parts, making the code easier to maintain and understand.\r\n",
    "\r\n",
    "To define a function in Python, you use the `def` keyword, followed by the function name, a list of parameters (if any), and a colon (`:`). The function body is indented, and it contains the code that will be executed when the function is called.\r\n",
    "\r\n",
    "Here's the basic syntax for defining a function:\r\n",
    "\r\n",
    "```python\r\n",
    "def function_name(parameter1, parameter2, ...):\r\n",
    "    # Function body\r\n",
    "    # Code to perform a specific task\r\n",
    "    # Return statement (optult = square(4)\r\n",
    "print(result)  # Output: 16\r\n",
    "```\r\n",
    "\r\n",
    "In Python, functions are first-class citizens, which means you can pass functions as arguments to other functions, return functions from functions, and store functions in variables or data structures. This capability is essential for functional programming and enables powerful programming paradigms.)\r\n",
    "`"
   ]
  },
  {
   "cell_type": "code",
   "execution_count": 28,
   "id": "3b2032c3-bd73-45ab-b68a-d98e1def65e7",
   "metadata": {},
   "outputs": [
    {
     "name": "stdin",
     "output_type": "stream",
     "text": [
      " 10\n",
      " 2\n"
     ]
    },
    {
     "name": "stdout",
     "output_type": "stream",
     "text": [
      "The nCr is  45\n"
     ]
    }
   ],
   "source": [
    "# nCr =n!/(n-r)!*r!\n",
    "\n",
    "# def name(arguments/inputs)\n",
    "\n",
    "def factorial(a):\n",
    "    fact=1\n",
    "    for i in range(1,a+1):\n",
    "        fact= fact*i\n",
    "    return fact\n",
    "\n",
    "n= int(input())\n",
    "r= int(input())\n",
    "\n",
    "print(\"The nCr is \",factorial(n)//(factorial(n-r) * factorial(r)) )"
   ]
  },
  {
   "cell_type": "code",
   "execution_count": 30,
   "id": "423edfc4-7e4e-4136-a78e-bed5a7518699",
   "metadata": {},
   "outputs": [
    {
     "name": "stdout",
     "output_type": "stream",
     "text": [
      "Hello, Telangana!\n"
     ]
    }
   ],
   "source": [
    "def greet(name=\"Telangana\"):\n",
    "    return f\"Hello, {name}!\"\n",
    "\n",
    "print(greet())"
   ]
  },
  {
   "cell_type": "markdown",
   "id": "a059df8d-640b-439d-a33d-f41cae083cb7",
   "metadata": {},
   "source": [
    "### Why we need functions\n",
    "\n",
    "1.Avoid repititons\n",
    "\n",
    "2.Readable\n",
    "\n",
    "3.Testing become easy"
   ]
  },
  {
   "cell_type": "code",
   "execution_count": 31,
   "id": "83686128-6f12-418c-8c90-801545748ea1",
   "metadata": {},
   "outputs": [
    {
     "data": {
      "text/plain": [
       "False"
      ]
     },
     "execution_count": 31,
     "metadata": {},
     "output_type": "execute_result"
    }
   ],
   "source": [
    "import math\n",
    "\n",
    "# prime function\n",
    "def isPrime(a):\n",
    "    for i in range(2,int(math.sqrt(a))+1):\n",
    "        if a%i==0:\n",
    "            break\n",
    "    else:\n",
    "        return True\n",
    "    return False\n",
    "        \n",
    "isPrime(100)"
   ]
  },
  {
   "cell_type": "code",
   "execution_count": 32,
   "id": "797bcb22-42ef-44a8-a27d-f0727be6ba97",
   "metadata": {},
   "outputs": [
    {
     "name": "stdout",
     "output_type": "stream",
     "text": [
      "2\n",
      "3\n",
      "5\n",
      "7\n",
      "11\n",
      "13\n",
      "17\n",
      "19\n"
     ]
    }
   ],
   "source": [
    "import math\n",
    "\n",
    "# prime all primes i the 2 to N\n",
    "def PrintPrimes2ToN(n):\n",
    "    for i in range(2,n+1):\n",
    "        if isPrime(i):\n",
    "            print(i)\n",
    "        \n",
    "PrintPrimes2ToN(20)"
   ]
  },
  {
   "cell_type": "code",
   "execution_count": 33,
   "id": "1d69c933-8723-4899-b320-e52242bd7ba5",
   "metadata": {},
   "outputs": [],
   "source": [
    "def ncr(n,r):\n",
    "    return factorial(n)//(factorial(n-r) * factorial(r))"
   ]
  },
  {
   "cell_type": "code",
   "execution_count": 34,
   "id": "68ec5cee-9a22-42c7-9625-583a51229379",
   "metadata": {},
   "outputs": [
    {
     "data": {
      "text/plain": [
       "5"
      ]
     },
     "execution_count": 34,
     "metadata": {},
     "output_type": "execute_result"
    }
   ],
   "source": [
    "ncr(5,4)"
   ]
  },
  {
   "cell_type": "code",
   "execution_count": 35,
   "id": "3b169e85-cf86-413b-8dd1-d7faf9c3156d",
   "metadata": {},
   "outputs": [
    {
     "name": "stdout",
     "output_type": "stream",
     "text": [
      "B starts\n",
      "A starts\n",
      "A ends\n",
      "b ends\n",
      "C starts \n",
      "C ends \n"
     ]
    }
   ],
   "source": [
    "# How Function call Works\n",
    "\n",
    "# D\n",
    "# C\n",
    "# B\n",
    "# A\n",
    "\n",
    "# callstack first called will complete at last\n",
    "# variables stores in its execution context\n",
    "\n",
    "def A():\n",
    "    print('A starts')\n",
    "    print('A ends')\n",
    "\n",
    "def B():\n",
    "    print('B starts')\n",
    "    A()\n",
    "    print('b ends')\n",
    "\n",
    "def C():\n",
    "    B()\n",
    "    print('C starts ')\n",
    "    print('C ends ')\n",
    "\n",
    "C()\n",
    "    "
   ]
  },
  {
   "cell_type": "code",
   "execution_count": 36,
   "id": "a2d5eb7b-911c-486c-9931-a35dd3f032a9",
   "metadata": {},
   "outputs": [
    {
     "name": "stdout",
     "output_type": "stream",
     "text": [
      "in function, 11\n",
      "outside function 10\n"
     ]
    }
   ],
   "source": [
    "# Functions using variables,Strings and Lists\n",
    "\n",
    "def increment(i):\n",
    "    i= i+1\n",
    "    print(\"in function,\",i)\n",
    "\n",
    "k=10\n",
    "increment(k)\n",
    "print(\"outside function\",k)"
   ]
  },
  {
   "cell_type": "code",
   "execution_count": 38,
   "id": "d97bb06a-9fbf-4cc3-ad56-c62995c8251e",
   "metadata": {},
   "outputs": [
    {
     "name": "stdout",
     "output_type": "stream",
     "text": [
      "in function, [3, 3, 4]\n",
      "outside function [3, 3, 4]\n"
     ]
    }
   ],
   "source": [
    "# using list\n",
    "# changes effects the orginal\n",
    "# pointer stores reference\n",
    "\n",
    "# this cant happen for string\n",
    "def increment(l):\n",
    "    l[0]= l[0]+1\n",
    "    print(\"in function,\",l)\n",
    "\n",
    "a=[2,3,4]\n",
    "\n",
    "increment(a)\n",
    "print(\"outside function\",a)"
   ]
  },
  {
   "cell_type": "code",
   "execution_count": 40,
   "id": "2c6fe00a-fe5f-4b93-a61a-ea417370d72a",
   "metadata": {},
   "outputs": [
    {
     "name": "stdout",
     "output_type": "stream",
     "text": [
      "in function, [0, 8]\n",
      "outside function [2, 3, 4]\n"
     ]
    }
   ],
   "source": [
    "# change list\n",
    "# pointer stores reference, completly changing to other list\n",
    "def increment(l):\n",
    "    l=[0,8]\n",
    "    print(\"in function,\",l)\n",
    "\n",
    "a=[2,3,4]\n",
    "\n",
    "increment(a)\n",
    "print(\"outside function\",a)"
   ]
  },
  {
   "cell_type": "code",
   "execution_count": 42,
   "id": "ced85207-6a6b-4e4a-85d0-32730a86dae4",
   "metadata": {},
   "outputs": [
    {
     "name": "stdout",
     "output_type": "stream",
     "text": [
      "inide function: abc\n",
      "outside function: def\n"
     ]
    }
   ],
   "source": [
    "# string, strings are immutable\n",
    "def increment(s):\n",
    "    s=\"abc\"\n",
    "    print(\"inide function:\",s)\n",
    "\n",
    "a=\"def\"\n",
    "\n",
    "increment(a)\n",
    "print(\"outside function:\",a)"
   ]
  },
  {
   "cell_type": "code",
   "execution_count": 43,
   "id": "8421634e-1210-46b0-95bf-c76c0d587df7",
   "metadata": {},
   "outputs": [
    {
     "name": "stdout",
     "output_type": "stream",
     "text": [
      "[5, 4, 3, 2, 1]\n"
     ]
    }
   ],
   "source": [
    "# return a list from function\n",
    "\n",
    "def create_n_array(n):\n",
    "    l=[ i for i in range(n,0,-1)]\n",
    "    return l\n",
    "\n",
    "print(create_n_array(5))\n",
    "    "
   ]
  },
  {
   "cell_type": "code",
   "execution_count": 48,
   "id": "f8c86959-4f61-453a-8a52-f1b19996d04c",
   "metadata": {},
   "outputs": [
    {
     "name": "stdin",
     "output_type": "stream",
     "text": [
      " 10\n"
     ]
    },
    {
     "data": {
      "text/plain": [
       "[1, 0, 3, 2, 5, 4, 7, 6, 9, 8]"
      ]
     },
     "execution_count": 48,
     "metadata": {},
     "output_type": "execute_result"
    }
   ],
   "source": [
    "# Swap alternate elements of a list\n",
    "\n",
    "n=int(input())\n",
    "l=[ i for i in range(n)]\n",
    "\n",
    "length = (len(l)-1) if (len(l)%2==0) else (len(l)-2)\n",
    "\n",
    "for i in range(0,length,2):\n",
    "    l[i],l[i+1]=l[i+1], l[i]\n",
    "\n",
    "l"
   ]
  },
  {
   "cell_type": "code",
   "execution_count": 49,
   "id": "2019d413-a330-49ae-9685-b3aaaac71c49",
   "metadata": {},
   "outputs": [
    {
     "name": "stdin",
     "output_type": "stream",
     "text": [
      " 10\n"
     ]
    },
    {
     "data": {
      "text/plain": [
       "[9, 10, 7, 8, 5, 6, 3, 4, 1, 2]"
      ]
     },
     "execution_count": 49,
     "metadata": {},
     "output_type": "execute_result"
    }
   ],
   "source": [
    "# other approach\n",
    "\n",
    "n=int(input())\n",
    "l=[ i for i in range(n,0,-1)]\n",
    "\n",
    "i=0\n",
    "while i+1 < len(l):\n",
    "    l[i],l[i+1]=l[i+1], l[i]\n",
    "    i= i+2\n",
    "l"
   ]
  },
  {
   "cell_type": "markdown",
   "id": "4f53e260-e97a-40a0-bbce-7a293944338b",
   "metadata": {},
   "source": [
    "### Variable Scope in Python\r\n",
    "\r\n",
    "In Python, variables can have different scopes, which determine where the variable is accessible and how long it exists. There are two main types of variable scope:\r\n",
    "\r\n",
    "1. Local Variables: These variables are defined inside a function and are only accessible within that function. They are created when the function is called and exist as long as the function is executing.\r\n",
    "\r\n",
    "2. Global Variables: These variables are defined outside any function and are accessible throughout the entire program. They are created when the program starts and exist until the program he function will result in an error."
   ]
  },
  {
   "cell_type": "code",
   "execution_count": 50,
   "id": "82a1892e-e41f-4c60-9909-1ec4e177d145",
   "metadata": {},
   "outputs": [
    {
     "name": "stdout",
     "output_type": "stream",
     "text": [
      "10\n",
      "10\n",
      "12\n"
     ]
    },
    {
     "ename": "NameError",
     "evalue": "name 'b1' is not defined",
     "output_type": "error",
     "traceback": [
      "\u001b[1;31m---------------------------------------------------------------------------\u001b[0m",
      "\u001b[1;31mNameError\u001b[0m                                 Traceback (most recent call last)",
      "Cell \u001b[1;32mIn[50], line 10\u001b[0m\n\u001b[0;32m      8\u001b[0m \u001b[38;5;28mprint\u001b[39m(a1)\n\u001b[0;32m      9\u001b[0m f1()\n\u001b[1;32m---> 10\u001b[0m \u001b[38;5;28mprint\u001b[39m(\u001b[43mb1\u001b[49m) \u001b[38;5;66;03m#cannot print a local variable outside a function\u001b[39;00m\n",
      "\u001b[1;31mNameError\u001b[0m: name 'b1' is not defined"
     ]
    }
   ],
   "source": [
    "a1= 10 #global variable\n",
    "\n",
    "def f1():\n",
    "    b1 =12 #local variable\n",
    "    print(a1) #global variable is acessible here\n",
    "    print(b1)\n",
    "\n",
    "print(a1)\n",
    "f1()\n",
    "print(b1) #cannot print a local variable outside a function"
   ]
  },
  {
   "cell_type": "code",
   "execution_count": 55,
   "id": "80692b9b-d3c1-480f-a8c4-42b2ef1f8a36",
   "metadata": {},
   "outputs": [
    {
     "name": "stdout",
     "output_type": "stream",
     "text": [
      "10\n",
      "10\n",
      "12\n"
     ]
    }
   ],
   "source": [
    "def f1():\n",
    "    b1 =12 #local variable\n",
    "    print(a1) #a1 can be called, even a1 is defined after function but it should be defined before the function call\n",
    "    print(b1)\n",
    "    # print(c3) #cant accessible, c2 is defined after function call\n",
    "    \n",
    "a1= 10 #global variable\n",
    "print(a1)\n",
    "f1()\n",
    "c3=20 #global variable"
   ]
  },
  {
   "cell_type": "code",
   "execution_count": 56,
   "id": "c892db45-8b9d-40da-9929-4ff4a58547c6",
   "metadata": {},
   "outputs": [
    {
     "name": "stdout",
     "output_type": "stream",
     "text": [
      "13\n",
      "12\n",
      "13\n"
     ]
    }
   ],
   "source": [
    "a4 = 13\n",
    "\n",
    "def f4():\n",
    "    a4=12 #acess is fine but when you try to change, python assumes you want to create a variable\n",
    "    print(a4)\n",
    "\n",
    "print(a4) #13\n",
    "f4()\n",
    "print(a4)\n"
   ]
  },
  {
   "cell_type": "code",
   "execution_count": 59,
   "id": "b64f8932-4f41-40bb-93db-5a8bb4ea2e6c",
   "metadata": {},
   "outputs": [
    {
     "name": "stdout",
     "output_type": "stream",
     "text": [
      "13\n",
      "12\n",
      "12\n"
     ]
    }
   ],
   "source": [
    "a4 = 13\n",
    "\n",
    "def f4():\n",
    "    global a4 #this is syntax, dont assign in this statement\n",
    "    a4 =12 #if you want use global, we explicitly specify global\n",
    "    print(a4)\n",
    "\n",
    "print(a4) #13\n",
    "f4()\n",
    "print(a4)\n"
   ]
  },
  {
   "cell_type": "code",
   "execution_count": 60,
   "id": "6feb6f31-68a2-4e86-89b7-46105c65b7c9",
   "metadata": {},
   "outputs": [],
   "source": [
    "# Default Parameters\n",
    "# ex: print(\"abc\")\n",
    "# ex: print(\"abc\",end=\"\")\n",
    "\n",
    "# arguments order:\n",
    "# non default, default"
   ]
  },
  {
   "cell_type": "code",
   "execution_count": 74,
   "id": "60dca5ff-b86e-41cf-9cda-5a7591eca468",
   "metadata": {},
   "outputs": [
    {
     "data": {
      "text/plain": [
       "15"
      ]
     },
     "execution_count": 74,
     "metadata": {},
     "output_type": "execute_result"
    }
   ],
   "source": [
    "def sum_of_numbers(a,b,c=0,d=0): #dont write functions with keywords like sum,max,min\n",
    "    return a+b+c+d\n",
    "sum_of_numbers(4,5,6)"
   ]
  },
  {
   "cell_type": "code",
   "execution_count": 75,
   "id": "e65fdf5d-0e01-403e-b97f-26278b17005a",
   "metadata": {},
   "outputs": [
    {
     "data": {
      "text/plain": [
       "69"
      ]
     },
     "execution_count": 75,
     "metadata": {},
     "output_type": "execute_result"
    }
   ],
   "source": [
    "sum_of_numbers(b=8,a=5,d=56)"
   ]
  },
  {
   "cell_type": "code",
   "execution_count": 76,
   "id": "5111a9ce-e006-47ea-97f4-f8b83de71bc1",
   "metadata": {},
   "outputs": [
    {
     "data": {
      "text/plain": [
       "14"
      ]
     },
     "execution_count": 76,
     "metadata": {},
     "output_type": "execute_result"
    }
   ],
   "source": [
    "# must pass default arguments by specifying or normal passing\n",
    "sum_of_numbers(3,4,d=7)"
   ]
  },
  {
   "cell_type": "code",
   "execution_count": 64,
   "id": "efa9f8dc-2989-4c49-a0c8-b0519cb28273",
   "metadata": {},
   "outputs": [
    {
     "name": "stdin",
     "output_type": "stream",
     "text": [
      " 50\n",
      " 300\n",
      " 20\n"
     ]
    },
    {
     "name": "stdout",
     "output_type": "stream",
     "text": [
      "50   10\n",
      "70   21\n",
      "90   32\n",
      "110   43\n",
      "130   54\n",
      "150   65\n",
      "170   76\n",
      "190   87\n",
      "210   98\n",
      "230   110\n",
      "250   121\n",
      "270   132\n",
      "290   143\n"
     ]
    }
   ],
   "source": [
    "# Farenheit to celcius\n",
    "# s,e.w\n",
    "def f_to_c(f):\n",
    "    return (f-32)*5//9\n",
    "\n",
    "s=int(input())\n",
    "e=int(input())\n",
    "w=int(input())\n",
    "\n",
    "\n",
    "for i in range(s,e+1,w):\n",
    "    print(i,\" \",f_to_c(i))"
   ]
  },
  {
   "cell_type": "code",
   "execution_count": 65,
   "id": "88e01ca1-c648-46b2-8229-bc9b0ffd6e31",
   "metadata": {},
   "outputs": [],
   "source": [
    "# check whether is member of fibanocci or not\n",
    "\n",
    "def check_fibanocci(n):\n",
    "    if n==1:\n",
    "        return True\n",
    "    past=1\n",
    "    curr=1\n",
    "    i=1\n",
    "    while i<n:\n",
    "        future = past+curr\n",
    "        past =curr\n",
    "        curr=future\n",
    "        i=future\n",
    "        if i== n:\n",
    "            return True\n",
    "    else:\n",
    "        return False\n",
    "# if returns not works then else works"
   ]
  },
  {
   "cell_type": "code",
   "execution_count": 54,
   "id": "bf86d371-2860-4ab7-a6c1-4fbd09b2c09b",
   "metadata": {},
   "outputs": [
    {
     "data": {
      "text/plain": [
       "True"
      ]
     },
     "execution_count": 54,
     "metadata": {},
     "output_type": "execute_result"
    }
   ],
   "source": [
    "check_fibanocci(3)"
   ]
  },
  {
   "cell_type": "markdown",
   "id": "d5e28b3a-c105-4b39-bc85-9566f65a4be9",
   "metadata": {},
   "source": [
    "# Tuples\n",
    "- Tuples are similar to list but not same\n",
    "- Tuples are enclosed in parentheses `( )`.\n",
    "- Tuples are immutable, while lists are mutable.\n",
    "- Elements in a tuple can be accessed using indexing.\n",
    "- Tuples can be unpacked into multiple variables.\n",
    "- Commonly used for returning multiple values from functions.\n",
    "- Tuples can be used as keys in dictionaries due to their immutability.\n",
    "- To create a single-element tuple, use a trailing comma after the element: `(42,)`.\n",
    "- Useful for representing fixed collections of elements.\n"
   ]
  },
  {
   "cell_type": "code",
   "execution_count": 67,
   "id": "8f3a694d-c52a-45d9-a22a-9be99867485d",
   "metadata": {},
   "outputs": [
    {
     "name": "stdout",
     "output_type": "stream",
     "text": [
      "1 2\n",
      "<class 'list'>\n",
      "<class 'tuple'>\n",
      "<class 'int'>\n",
      "<class 'int'>\n",
      "<class 'tuple'>\n"
     ]
    }
   ],
   "source": [
    "a=[1,2] #list\n",
    "b=(1,2) #tuple\n",
    "\n",
    "c,d =1,2 #assignment :same as below\n",
    "c,d =b   #assignment,unpacking into variables\n",
    "\n",
    "print(c,d)\n",
    "\n",
    "e=1,2 #when you keep multiple things into a single thing, python makes it a tuple\n",
    "\n",
    "print(type(a))\n",
    "print(type(b))\n",
    "print(type(c))\n",
    "print(type(d))\n",
    "print(type(e))\n"
   ]
  },
  {
   "cell_type": "code",
   "execution_count": 68,
   "id": "bb300d31-eca5-4b97-98ab-2bc7d8ae7e0f",
   "metadata": {},
   "outputs": [
    {
     "data": {
      "text/plain": [
       "(2, 4, 7, 8, 9)"
      ]
     },
     "execution_count": 68,
     "metadata": {},
     "output_type": "execute_result"
    }
   ],
   "source": [
    "# Acess elements in tuple: it is just like list\n",
    "\n",
    "# the indexing and slicing works same way for strings, tuples and lists\n",
    "# Tuples are also ordered\n",
    "\n",
    "a=(1,2,4,7,8,9)\n",
    "a[0]\n",
    "a[1:3]\n",
    "a[1:]"
   ]
  },
  {
   "cell_type": "code",
   "execution_count": 69,
   "id": "fdc8980c-dfe8-4cb9-9b47-b6381cd09c7c",
   "metadata": {},
   "outputs": [
    {
     "ename": "TypeError",
     "evalue": "'tuple' object does not support item assignment",
     "output_type": "error",
     "traceback": [
      "\u001b[1;31m---------------------------------------------------------------------------\u001b[0m",
      "\u001b[1;31mTypeError\u001b[0m                                 Traceback (most recent call last)",
      "Cell \u001b[1;32mIn[69], line 2\u001b[0m\n\u001b[0;32m      1\u001b[0m a\u001b[38;5;241m=\u001b[39m(\u001b[38;5;241m1\u001b[39m,\u001b[38;5;241m2\u001b[39m,\u001b[38;5;241m4\u001b[39m,\u001b[38;5;241m7\u001b[39m,\u001b[38;5;241m8\u001b[39m,\u001b[38;5;241m9\u001b[39m)\n\u001b[1;32m----> 2\u001b[0m \u001b[43ma\u001b[49m\u001b[43m[\u001b[49m\u001b[38;5;241;43m0\u001b[39;49m\u001b[43m]\u001b[49m\u001b[38;5;241m=\u001b[39m\u001b[38;5;241m1\u001b[39m\n",
      "\u001b[1;31mTypeError\u001b[0m: 'tuple' object does not support item assignment"
     ]
    }
   ],
   "source": [
    "a=(1,2,4,7,8,9)\n",
    "a[0]=1"
   ]
  },
  {
   "cell_type": "code",
   "execution_count": 70,
   "id": "8001a7a9-70c9-4a24-9d4a-63b49fb52cb1",
   "metadata": {},
   "outputs": [],
   "source": [
    "a=(1,2,4,7,8,9)\n",
    "a=(4,5) #this is possible\n",
    "a=(1,2,4,7,8,9,1,3,5)"
   ]
  },
  {
   "cell_type": "code",
   "execution_count": 71,
   "id": "df80766e-1e31-4e78-8964-9a6ca44ab16e",
   "metadata": {},
   "outputs": [
    {
     "ename": "TypeError",
     "evalue": "'tuple' object doesn't support item deletion",
     "output_type": "error",
     "traceback": [
      "\u001b[1;31m---------------------------------------------------------------------------\u001b[0m",
      "\u001b[1;31mTypeError\u001b[0m                                 Traceback (most recent call last)",
      "Cell \u001b[1;32mIn[71], line 1\u001b[0m\n\u001b[1;32m----> 1\u001b[0m \u001b[38;5;28;01mdel\u001b[39;00m \u001b[43ma\u001b[49m\u001b[43m[\u001b[49m\u001b[38;5;241;43m3\u001b[39;49m\u001b[43m]\u001b[49m \u001b[38;5;66;03m#not possible\u001b[39;00m\n",
      "\u001b[1;31mTypeError\u001b[0m: 'tuple' object doesn't support item deletion"
     ]
    }
   ],
   "source": [
    "del a[3] #not possible"
   ]
  },
  {
   "cell_type": "markdown",
   "id": "8a4591d0-4451-482f-bd07-8a465c5a8cbd",
   "metadata": {},
   "source": [
    "### Functions in tuples\n",
    "Python provides several built-in functions that you can use with tuples. Here are some of the most commonly used built-in functions on tuples:\r\n",
    "\r\n",
    "1. `len(tuple)`: Returns the number of elements in the tuple.\r\n",
    "\r\n",
    "2. `tuple(iterable)`: Converts an iterable (e.g., list, string) into a tuple.\r\n",
    "\r\n",
    "3. `max(tuple)`: Returns the maximum element in the tuple.\r\n",
    "\r\n",
    "4. `min(tuple)`: Returns the minimum element in the tuple.\r\n",
    "\r\n",
    "5. `sum(tuple)`: Returns the sum of all elements in the tuple (works only with numeri,atleast comparablesc elements).\r\n",
    "\r\n",
    "6. `tuple.count(element)`: Returns the number of occurrences of a specific element in the tuple.\r\n",
    "\r\n",
    "7. `tuple.index(element)`: Returns the index of the first occurrence of a specific element lculations on tuples in Python."
   ]
  },
  {
   "cell_type": "code",
   "execution_count": 6,
   "id": "af0255a9-b7bd-40bd-a894-5f6926eda022",
   "metadata": {},
   "outputs": [
    {
     "name": "stdout",
     "output_type": "stream",
     "text": [
      "6\n",
      "5\n",
      "1\n",
      "17\n",
      "2\n",
      "2\n"
     ]
    }
   ],
   "source": [
    "my_tuple = (1, 2, 3, 4, 5, 2)\n",
    "\n",
    "# Using built-in functions\n",
    "print(len(my_tuple))         # Output: 6\n",
    "print(max(my_tuple))         # Output: 5\n",
    "print(min(my_tuple))         # Output: 1\n",
    "print(sum(my_tuple))         # Output: 17\n",
    "print(my_tuple.count(2))     # Output: 2 (2 occurs twice)\n",
    "print(my_tuple.index(3))     # Output: 2 (index of the first occurrence of 3)"
   ]
  },
  {
   "cell_type": "code",
   "execution_count": 72,
   "id": "5362ee2e-5f9b-4565-99e0-67a82a590189",
   "metadata": {},
   "outputs": [
    {
     "data": {
      "text/plain": [
       "True"
      ]
     },
     "execution_count": 72,
     "metadata": {},
     "output_type": "execute_result"
    }
   ],
   "source": [
    "1 in a #membership checking"
   ]
  },
  {
   "cell_type": "code",
   "execution_count": 9,
   "id": "f6c538f1-f4b2-4ab5-8246-eb15f247ec62",
   "metadata": {},
   "outputs": [
    {
     "data": {
      "text/plain": [
       "(1, 2, 3, 4, 5, 6)"
      ]
     },
     "execution_count": 9,
     "metadata": {},
     "output_type": "execute_result"
    }
   ],
   "source": [
    "# adding two tuples\n",
    "a=(1,2,3)\n",
    "b=(4,5,6)\n",
    "c=a+b\n",
    "c"
   ]
  },
  {
   "cell_type": "code",
   "execution_count": 10,
   "id": "3aee415e-521b-4bfd-b2e8-ff2d4f296064",
   "metadata": {},
   "outputs": [
    {
     "data": {
      "text/plain": [
       "((1, 2, 3), (1, 2, 3, 4, 5, 6))"
      ]
     },
     "execution_count": 10,
     "metadata": {},
     "output_type": "execute_result"
    }
   ],
   "source": [
    "# tuple of tuples\n",
    "d =(a,c)\n",
    "d"
   ]
  },
  {
   "cell_type": "code",
   "execution_count": 11,
   "id": "4e1b770d-5b97-48ab-b6bf-b7dfa77a43b9",
   "metadata": {},
   "outputs": [
    {
     "data": {
      "text/plain": [
       "(1, 2, 3, 1, 2, 3)"
      ]
     },
     "execution_count": 11,
     "metadata": {},
     "output_type": "execute_result"
    }
   ],
   "source": [
    "e=a*2 # copies 2 times \n",
    "e"
   ]
  },
  {
   "cell_type": "code",
   "execution_count": 12,
   "id": "dd7fef78-abef-4bd3-b4d6-f3f9a48369ba",
   "metadata": {},
   "outputs": [
    {
     "data": {
      "text/plain": [
       "'ab'"
      ]
     },
     "execution_count": 12,
     "metadata": {},
     "output_type": "execute_result"
    }
   ],
   "source": [
    "a=(\"ab\",\"bc\",\"de\")\n",
    "min(a)"
   ]
  },
  {
   "cell_type": "code",
   "execution_count": 13,
   "id": "a7ab10be-9385-43b6-b670-0a0eae4ec878",
   "metadata": {},
   "outputs": [
    {
     "data": {
      "text/plain": [
       "(1, 2, 3)"
      ]
     },
     "execution_count": 13,
     "metadata": {},
     "output_type": "execute_result"
    }
   ],
   "source": [
    "# list to tuple\n",
    "l=[1,2,3]\n",
    "t=tuple(l)\n",
    "t"
   ]
  },
  {
   "cell_type": "code",
   "execution_count": 96,
   "id": "f023582a-9b4d-4958-b77c-8cc8fb5a56df",
   "metadata": {},
   "outputs": [],
   "source": [
    "# Variable length input and Output\n",
    "# sum2(.................) multiple"
   ]
  },
  {
   "cell_type": "code",
   "execution_count": 15,
   "id": "724fd3a6-337b-4fc4-88a3-d4ad0b193246",
   "metadata": {},
   "outputs": [
    {
     "name": "stdout",
     "output_type": "stream",
     "text": [
      "<class 'tuple'>\n",
      "Sum is  50\n"
     ]
    }
   ],
   "source": [
    "# variable length input to function\n",
    "\n",
    "def sum2(a,b,*more):\n",
    "    print(type(more))\n",
    "    ans=a+b\n",
    "    for i in more:\n",
    "        ans+=i\n",
    "    return ans\n",
    "    \n",
    "print(\"Sum is \",sum2(10,4,6,10,20))\n"
   ]
  },
  {
   "cell_type": "code",
   "execution_count": 17,
   "id": "ec7a8344-fc60-4dc8-a415-fcf202bbe0ad",
   "metadata": {},
   "outputs": [
    {
     "name": "stdout",
     "output_type": "stream",
     "text": [
      "(9, -1)\n",
      "15\n",
      "5\n"
     ]
    }
   ],
   "source": [
    "# variable length output from function\n",
    "def sum_diff(a,b):\n",
    "    return a+b,a-b\n",
    "c=sum_diff(4,5)\n",
    "print(c)\n",
    "\n",
    "d,e= sum_diff(10,5) #length has to match \n",
    "print(d)\n",
    "print(e) "
   ]
  },
  {
   "cell_type": "markdown",
   "id": "20bcf818-bb05-4ffc-aa3e-fb322bdf9e80",
   "metadata": {},
   "source": [
    "# Dictionary\n",
    "- In Python, a dictionary is a data structure that stores a collection of key-value pairs.\n",
    "- It is also known as an associative array or a hash map in other programming languages.\n",
    "- Dictionaries are unordered, mutable, and indexed by unique keys.\r\n",
    "\r\n",
    "Here's the basic syntax of a dictionary:\r\n",
    "\r\n",
    "```python\r\n",
    "my_dict = {\r\n",
    "    key1: value1,\r\n",
    "    key2: value2,\r\n",
    "    ...\r\n",
    "}\r\n",
    "```\r\n",
    "\r\n",
    "- `key1`, `key2`, ...: Unique keys used to access the corresponding values.\r\n",
    "- `value1`, `value2`, ...: Values associated wi related data.\r\n",
    "\r\n",
    "Some of the most commonly used inbuilt methods for dictionaries in Python include:\r\n",
    "\r\n",
    "1. `dict.get(key, default)`: Returns the value associated with the specified key. If the key is not found, it returns the specified default value (if provided) or `None`.\r\n",
    "\r\n",
    "2. `dict.keys()`: Returns a view of all the keys in the dictionary.\r\n",
    "\r\n",
    "3. `dict.values()`: Returns a view of all the values in the dictionary.\r\n",
    "\r\n",
    "4. `dict.items()`: Returns a view of all the key-value pairs in the dictionary as tuples.\r\n",
    "\r\n",
    "5. `dict.update(other_dict)`: Updates the dictionary with the key-value pairs from another dictionary.\r\n",
    "\r\n",
    "6. `dict.pop(key, default)`: Removes the key and its associated value from the dictionary. If the key is not found, it returns the specified default value (if provided) or raises a `KeyError`.\r\n",
    "\r\n",
    "7. `dict.popitem()`: Removes and returns the last key-value pair (in Python 3.7+).\r\n",
    "\r\n",
    "8. `dict.clear()`: Removes all key-value pairs from the dictionary, making it empty.\r\n",
    "\r\n",
    "9. `len(dict)`: Returns the number of making it easy to manipulate and access data in the dictionary."
   ]
  },
  {
   "cell_type": "code",
   "execution_count": 19,
   "id": "335d3c2f-94fc-4b8c-8dde-19b34d73b417",
   "metadata": {},
   "outputs": [
    {
     "name": "stdout",
     "output_type": "stream",
     "text": [
      "Ismail abi\n",
      "dict_keys(['name', 'age', 'city'])\n",
      "dict_values(['Ismail abi', 30, 'New York'])\n",
      "dict_items([('name', 'Ismail abi'), ('age', 30), ('city', 'New York')])\n",
      "{'name': 'Ismail abi', 'age': 30, 'city': 'New York', 'country': 'USA'}\n",
      "{'name': 'Ismail abi', 'city': 'New York', 'country': 'USA'}\n",
      "{}\n"
     ]
    }
   ],
   "source": [
    "my_dict = {\n",
    "    'name': 'Ismail abi',\n",
    "    'age': 30,\n",
    "    'city': 'New York'\n",
    "}\n",
    "\n",
    "# Using inbuilt methods\n",
    "print(my_dict.get('name',\"name\"))     # Output: 'John'\n",
    "print(my_dict.keys())          # Output: dict_keys(['name', 'age', 'city'])\n",
    "print(my_dict.values())        # Output: dict_values(['John', 30, 'New York'])\n",
    "print(my_dict.items())         # Output: dict_items([('name', 'John'), ('age', 30), ('city', 'New York')])\n",
    "\n",
    "my_dict.update({'country': 'USA'})\n",
    "print(my_dict)                 # Output: {'name': 'John', 'age': 30, 'city': 'New York', 'country': 'USA'}\n",
    "\n",
    "my_dict.pop('age',0)\n",
    "print(my_dict)                 # Output: {'name': 'John', 'city': 'New York', 'country': 'USA'}\n",
    "\n",
    "my_dict.clear()\n",
    "print(my_dict)                 # Output: {}"
   ]
  },
  {
   "cell_type": "code",
   "execution_count": 24,
   "id": "69846a04-fa0c-403e-ba1b-ad8ee67a446e",
   "metadata": {},
   "outputs": [
    {
     "name": "stdout",
     "output_type": "stream",
     "text": [
      "<class 'dict'>\n",
      "{100: 'the'}\n"
     ]
    }
   ],
   "source": [
    "# we give key value pair\n",
    "\n",
    "a={\n",
    "    \"the\":2,\n",
    "    \"a\":5\n",
    "}\n",
    "print(type(a))\n",
    "\n",
    "b= {\n",
    "    100:\"the\",\n",
    "}\n",
    "print(b)"
   ]
  },
  {
   "cell_type": "code",
   "execution_count": 26,
   "id": "563aa712-2c8e-4438-9dc3-57f637dd2a31",
   "metadata": {},
   "outputs": [
    {
     "data": {
      "text/plain": [
       "1"
      ]
     },
     "execution_count": 26,
     "metadata": {},
     "output_type": "execute_result"
    }
   ],
   "source": [
    "# for lists, 10000 index means you need to have atleast 1000\n",
    "# but for dictionary it is not, it is still 1\n",
    "len(b)"
   ]
  },
  {
   "cell_type": "code",
   "execution_count": 28,
   "id": "0443388a-10ad-432a-8064-6fb8a6ebc062",
   "metadata": {},
   "outputs": [
    {
     "name": "stdout",
     "output_type": "stream",
     "text": [
      "{'the': 2, 'a': 5}\n"
     ]
    }
   ],
   "source": [
    "b=a.copy()\n",
    "print(b)"
   ]
  },
  {
   "cell_type": "code",
   "execution_count": 30,
   "id": "435dfcdb-c54d-449d-bed6-f351fbf3169e",
   "metadata": {},
   "outputs": [
    {
     "name": "stdout",
     "output_type": "stream",
     "text": [
      "{'the': 3, 'and': 6}\n"
     ]
    }
   ],
   "source": [
    "c=dict([(\"the\",3),\n",
    "        (\"and\",6)]\n",
    "      )\n",
    "print(c)"
   ]
  },
  {
   "cell_type": "code",
   "execution_count": 124,
   "id": "0008f3ca-9e6a-466b-888a-42a2cfa186d9",
   "metadata": {},
   "outputs": [
    {
     "data": {
      "text/plain": [
       "{'abc': 10, 32: 10, 5: 10}"
      ]
     },
     "execution_count": 124,
     "metadata": {},
     "output_type": "execute_result"
    }
   ],
   "source": [
    "d = dict.fromkeys([\"abc\",32,5], 10) #if you dont provide, then None\n",
    "d"
   ]
  },
  {
   "cell_type": "code",
   "execution_count": 33,
   "id": "0c0a1bd5-f58e-4483-82e4-f8583f651c69",
   "metadata": {},
   "outputs": [
    {
     "name": "stdout",
     "output_type": "stream",
     "text": [
      "{1: 2, 3: 4, 'list': [1, 23], 'dict': {1: 1, 2: 3, 4: 5}}\n"
     ]
    }
   ],
   "source": [
    "a={\n",
    "    1:2,\n",
    "    3:4,\n",
    "    \"list\":[1,23],\n",
    "    \"dict\":{\n",
    "        1:1,\n",
    "        2:3,\n",
    "        4:5}\n",
    "}\n",
    "print(a)"
   ]
  },
  {
   "cell_type": "code",
   "execution_count": 126,
   "id": "65076760-2fa0-4d1b-a7e8-89208b8e8931",
   "metadata": {},
   "outputs": [
    {
     "data": {
      "text/plain": [
       "2"
      ]
     },
     "execution_count": 126,
     "metadata": {},
     "output_type": "execute_result"
    }
   ],
   "source": [
    "# acessing \n",
    "\n",
    "a[1] # use keys for acessing"
   ]
  },
  {
   "cell_type": "code",
   "execution_count": 34,
   "id": "70241304-e50d-455b-9fdc-ac631bd499a5",
   "metadata": {},
   "outputs": [
    {
     "data": {
      "text/plain": [
       "[1, 23]"
      ]
     },
     "execution_count": 34,
     "metadata": {},
     "output_type": "execute_result"
    }
   ],
   "source": [
    "a[\"list\"]"
   ]
  },
  {
   "cell_type": "code",
   "execution_count": 39,
   "id": "78667ed3-21d2-4578-bf55-b9cb8f711cb3",
   "metadata": {},
   "outputs": [
    {
     "name": "stdout",
     "output_type": "stream",
     "text": [
      "None\n"
     ]
    }
   ],
   "source": [
    "print(a.get(\"l\")) # If the key is not found, it returns the specified default value (if provided) or None."
   ]
  },
  {
   "cell_type": "code",
   "execution_count": 40,
   "id": "af167218-a3f6-45b1-afbb-f94f70e4eff0",
   "metadata": {},
   "outputs": [
    {
     "data": {
      "text/plain": [
       "0"
      ]
     },
     "execution_count": 40,
     "metadata": {},
     "output_type": "execute_result"
    }
   ],
   "source": [
    "a.get(\"li\",0) #we can give defalt value to return if not found "
   ]
  },
  {
   "cell_type": "code",
   "execution_count": 41,
   "id": "cac75a26-e2aa-46c2-a5da-0ebd326190b8",
   "metadata": {},
   "outputs": [
    {
     "data": {
      "text/plain": [
       "dict_keys([1, 3, 'list', 'dict'])"
      ]
     },
     "execution_count": 41,
     "metadata": {},
     "output_type": "execute_result"
    }
   ],
   "source": [
    "a.keys() #behaves like list"
   ]
  },
  {
   "cell_type": "code",
   "execution_count": 42,
   "id": "9cfb52c0-e1ef-4f36-9229-292a492ff7af",
   "metadata": {},
   "outputs": [
    {
     "data": {
      "text/plain": [
       "dict_values([2, 4, [1, 23], {1: 1, 2: 3, 4: 5}])"
      ]
     },
     "execution_count": 42,
     "metadata": {},
     "output_type": "execute_result"
    }
   ],
   "source": [
    "a.values()"
   ]
  },
  {
   "cell_type": "code",
   "execution_count": 43,
   "id": "5fa4d9e2-e7a7-4aba-bddd-ec440bdde222",
   "metadata": {},
   "outputs": [
    {
     "data": {
      "text/plain": [
       "dict_items([(1, 2), (3, 4), ('list', [1, 23]), ('dict', {1: 1, 2: 3, 4: 5})])"
      ]
     },
     "execution_count": 43,
     "metadata": {},
     "output_type": "execute_result"
    }
   ],
   "source": [
    "a.items() #list of tuples"
   ]
  },
  {
   "cell_type": "code",
   "execution_count": 44,
   "id": "1b45628a-e603-4453-af50-2c4af652b925",
   "metadata": {},
   "outputs": [
    {
     "name": "stdout",
     "output_type": "stream",
     "text": [
      "1\n",
      "3\n",
      "list\n",
      "dict\n"
     ]
    }
   ],
   "source": [
    "for i in a:\n",
    "    print(i) #keys"
   ]
  },
  {
   "cell_type": "code",
   "execution_count": 45,
   "id": "8fd4abc8-3fe6-4913-9b31-18beef999da8",
   "metadata": {},
   "outputs": [
    {
     "name": "stdout",
     "output_type": "stream",
     "text": [
      "1 : 2\n",
      "3 : 4\n",
      "list : [1, 23]\n",
      "dict : {1: 1, 2: 3, 4: 5}\n"
     ]
    }
   ],
   "source": [
    "for i in a:\n",
    "    print(i,\":\",a[i]) #keys"
   ]
  },
  {
   "cell_type": "code",
   "execution_count": 46,
   "id": "0e9ec3fd-ec16-4a31-b1fb-d55365f2f491",
   "metadata": {},
   "outputs": [
    {
     "name": "stdout",
     "output_type": "stream",
     "text": [
      "2\n",
      "4\n",
      "[1, 23]\n",
      "{1: 1, 2: 3, 4: 5}\n"
     ]
    }
   ],
   "source": [
    "for i in a.values():\n",
    "    print(i)"
   ]
  },
  {
   "cell_type": "code",
   "execution_count": 47,
   "id": "b2db66e2-5009-4be5-8545-aa1c5fcb6936",
   "metadata": {},
   "outputs": [
    {
     "data": {
      "text/plain": [
       "True"
      ]
     },
     "execution_count": 47,
     "metadata": {},
     "output_type": "execute_result"
    }
   ],
   "source": [
    "# membership operator to chck whether key exist or not\n",
    "\"list\" in a #checks only keys"
   ]
  },
  {
   "cell_type": "code",
   "execution_count": 48,
   "id": "d626cf3d-f8c7-4dc1-92e2-213e646fba72",
   "metadata": {},
   "outputs": [
    {
     "data": {
      "text/plain": [
       "False"
      ]
     },
     "execution_count": 48,
     "metadata": {},
     "output_type": "execute_result"
    }
   ],
   "source": [
    "\"li\" in a"
   ]
  },
  {
   "cell_type": "code",
   "execution_count": 50,
   "id": "1417cab7-1e7c-4625-be30-6e478249c522",
   "metadata": {},
   "outputs": [],
   "source": [
    " # Adding or updating Data in Dictionary\n",
    "a[\"78\"]=\"345\""
   ]
  },
  {
   "cell_type": "code",
   "execution_count": 51,
   "id": "73a7f680-e8d1-45d2-b431-682ffd1050bc",
   "metadata": {},
   "outputs": [
    {
     "data": {
      "text/plain": [
       "{1: 2, 3: 4, 'list': [1, 23], 'dict': {1: 1, 2: 3, 4: 5}, '78': '345'}"
      ]
     },
     "execution_count": 51,
     "metadata": {},
     "output_type": "execute_result"
    }
   ],
   "source": [
    "a"
   ]
  },
  {
   "cell_type": "code",
   "execution_count": 52,
   "id": "76bbb06e-6627-4264-94c3-1c036aac9667",
   "metadata": {},
   "outputs": [],
   "source": [
    "a[\"abc\"]=\"def\" #adding data"
   ]
  },
  {
   "cell_type": "code",
   "execution_count": 53,
   "id": "2bbfa2ab-9e73-475b-b7bb-5feaef9241b4",
   "metadata": {},
   "outputs": [
    {
     "data": {
      "text/plain": [
       "{1: 2,\n",
       " 3: 4,\n",
       " 'list': [1, 23],\n",
       " 'dict': {1: 1, 2: 3, 4: 5},\n",
       " '78': '345',\n",
       " 'abc': 'def'}"
      ]
     },
     "execution_count": 53,
     "metadata": {},
     "output_type": "execute_result"
    }
   ],
   "source": [
    "a"
   ]
  },
  {
   "cell_type": "code",
   "execution_count": 54,
   "id": "3cbb6afc-0922-4c22-aac5-d8cbf50defda",
   "metadata": {},
   "outputs": [],
   "source": [
    "# updating\n",
    "a[\"abc\"] =\"hik\""
   ]
  },
  {
   "cell_type": "code",
   "execution_count": 55,
   "id": "5ff7261b-99b0-478b-9e92-9604664422ac",
   "metadata": {},
   "outputs": [
    {
     "data": {
      "text/plain": [
       "{1: 2,\n",
       " 3: 4,\n",
       " 'list': [1, 23],\n",
       " 'dict': {1: 1, 2: 3, 4: 5},\n",
       " '78': '345',\n",
       " 'abc': 'hik'}"
      ]
     },
     "execution_count": 55,
     "metadata": {},
     "output_type": "execute_result"
    }
   ],
   "source": [
    "a"
   ]
  },
  {
   "cell_type": "code",
   "execution_count": 56,
   "id": "34f5120e-cac1-4018-9143-84098652250c",
   "metadata": {},
   "outputs": [],
   "source": [
    "# update\n",
    "b={1:100,\"aas\":\"fd\"}\n",
    "a.update(b) #what ever the values of b not available in a, will be added\n",
    "# what ever keys available in both a and b, value will be according to b"
   ]
  },
  {
   "cell_type": "code",
   "execution_count": 57,
   "id": "9603a0c0-a0fc-4904-8d68-d642ab09ec26",
   "metadata": {},
   "outputs": [
    {
     "data": {
      "text/plain": [
       "{1: 100,\n",
       " 3: 4,\n",
       " 'list': [1, 23],\n",
       " 'dict': {1: 1, 2: 3, 4: 5},\n",
       " '78': '345',\n",
       " 'abc': 'hik',\n",
       " 'aas': 'fd'}"
      ]
     },
     "execution_count": 57,
     "metadata": {},
     "output_type": "execute_result"
    }
   ],
   "source": [
    "a "
   ]
  },
  {
   "cell_type": "code",
   "execution_count": 60,
   "id": "29baff5c-498a-4ed2-be56-b04fb373aa2c",
   "metadata": {},
   "outputs": [
    {
     "data": {
      "text/plain": [
       "0"
      ]
     },
     "execution_count": 60,
     "metadata": {},
     "output_type": "execute_result"
    }
   ],
   "source": [
    "# remove \n",
    "a.pop('as',0) #key required, if not found gives error, give default value to avoid"
   ]
  },
  {
   "cell_type": "code",
   "execution_count": 61,
   "id": "c44dd347-1519-47ae-994c-bc71bfdf7b38",
   "metadata": {},
   "outputs": [],
   "source": [
    "del a[1]"
   ]
  },
  {
   "cell_type": "code",
   "execution_count": 62,
   "id": "42b7fdc3-7b5f-4a0f-95ad-30f5471c9dff",
   "metadata": {},
   "outputs": [
    {
     "data": {
      "text/plain": [
       "{3: 4, 'list': [1, 23], 'dict': {1: 1, 2: 3, 4: 5}, '78': '345', 'abc': 'hik'}"
      ]
     },
     "execution_count": 62,
     "metadata": {},
     "output_type": "execute_result"
    }
   ],
   "source": [
    "a"
   ]
  },
  {
   "cell_type": "code",
   "execution_count": 63,
   "id": "8261ad5a-fde2-4aa1-8ee9-979402bf0f13",
   "metadata": {},
   "outputs": [],
   "source": [
    "a.clear()"
   ]
  },
  {
   "cell_type": "code",
   "execution_count": 64,
   "id": "a26aec42-310d-452b-973b-edf1b5a3f221",
   "metadata": {},
   "outputs": [
    {
     "data": {
      "text/plain": [
       "{}"
      ]
     },
     "execution_count": 64,
     "metadata": {},
     "output_type": "execute_result"
    }
   ],
   "source": [
    "a"
   ]
  },
  {
   "cell_type": "code",
   "execution_count": 65,
   "id": "e37b41ba-a5b2-4272-a9de-6bc016643b8d",
   "metadata": {},
   "outputs": [
    {
     "name": "stdout",
     "output_type": "stream",
     "text": [
      "This\n",
      "good\n"
     ]
    }
   ],
   "source": [
    "# Print all words with frequency k\n",
    "\n",
    "def Print_allWordWithFrequencyk(s,k):\n",
    "    l= s.split()\n",
    "    d={}\n",
    "    \n",
    "    for i in l:\n",
    "        d[i] = d.get(i,0)+1\n",
    "    \n",
    "    for i in d:\n",
    "        if d[i]==k:\n",
    "            print(i)\n",
    "\n",
    "s=\"This is a good a of is of are are\"\n",
    "\n",
    "Print_allWordWithFrequencyk(s,1)\n"
   ]
  },
  {
   "cell_type": "markdown",
   "id": "3d6a54f9-e2f4-469f-b3f7-d2c432ca50c5",
   "metadata": {},
   "source": [
    "# Sets in Python\n",
    "- A set is a collection of unique elements, where each element is unique and unordered.\n",
    "- Sets are useful for eliminating duplicates from a collection and performing set operations like union, intersection, and difference.\n",
    "\n",
    "```python\n",
    "my_set = {element1, element2, ...}\n",
    "```\n",
    "\n",
    "- `element1`, `element2`, ...: Unique elements that make up the set.\n",
    "\n",
    "- Sets are defined using curly braces `{}`, but be cautious because using empty curly braces will create an empty dictionary, not an empty set. \n",
    "- To create an empty set, use the `set()` constructor.\n"
   ]
  },
  {
   "cell_type": "markdown",
   "id": "4ae5048c-afb7-44ae-bd66-343a2ab63643",
   "metadata": {},
   "source": [
    "- collection of unique elements with no ordering"
   ]
  },
  {
   "cell_type": "code",
   "execution_count": 66,
   "id": "e350f4ff-d5d4-4625-a428-b4014d4eda15",
   "metadata": {},
   "outputs": [
    {
     "data": {
      "text/plain": [
       "{23, 'apple', 'banana'}"
      ]
     },
     "execution_count": 66,
     "metadata": {},
     "output_type": "execute_result"
    }
   ],
   "source": [
    "a={\"apple\",\"banana\",23}\n",
    "a"
   ]
  },
  {
   "cell_type": "code",
   "execution_count": 67,
   "id": "4dfeb8c6-12ba-40ca-a479-b594a8cb108a",
   "metadata": {},
   "outputs": [
    {
     "data": {
      "text/plain": [
       "set"
      ]
     },
     "execution_count": 67,
     "metadata": {},
     "output_type": "execute_result"
    }
   ],
   "source": [
    "type(a)"
   ]
  },
  {
   "cell_type": "code",
   "execution_count": 69,
   "id": "cc4b77f4-2199-447c-9fc1-4f00a91db105",
   "metadata": {},
   "outputs": [
    {
     "ename": "TypeError",
     "evalue": "'set' object is not subscriptable",
     "output_type": "error",
     "traceback": [
      "\u001b[1;31m---------------------------------------------------------------------------\u001b[0m",
      "\u001b[1;31mTypeError\u001b[0m                                 Traceback (most recent call last)",
      "Cell \u001b[1;32mIn[69], line 1\u001b[0m\n\u001b[1;32m----> 1\u001b[0m \u001b[43ma\u001b[49m\u001b[43m[\u001b[49m\u001b[38;5;241;43m0\u001b[39;49m\u001b[43m]\u001b[49m \u001b[38;5;66;03m#not valid\u001b[39;00m\n",
      "\u001b[1;31mTypeError\u001b[0m: 'set' object is not subscriptable"
     ]
    }
   ],
   "source": [
    "a[0] #not valid"
   ]
  },
  {
   "cell_type": "code",
   "execution_count": 70,
   "id": "cc3111ee-c4c7-47ec-bd0c-af888a50e542",
   "metadata": {},
   "outputs": [
    {
     "ename": "TypeError",
     "evalue": "'set' object is not subscriptable",
     "output_type": "error",
     "traceback": [
      "\u001b[1;31m---------------------------------------------------------------------------\u001b[0m",
      "\u001b[1;31mTypeError\u001b[0m                                 Traceback (most recent call last)",
      "Cell \u001b[1;32mIn[70], line 1\u001b[0m\n\u001b[1;32m----> 1\u001b[0m \u001b[43ma\u001b[49m\u001b[43m[\u001b[49m\u001b[38;5;124;43m'\u001b[39;49m\u001b[38;5;124;43mabc\u001b[39;49m\u001b[38;5;124;43m'\u001b[39;49m\u001b[43m]\u001b[49m \u001b[38;5;66;03m#not valid\u001b[39;00m\n",
      "\u001b[1;31mTypeError\u001b[0m: 'set' object is not subscriptable"
     ]
    }
   ],
   "source": [
    "a['abc'] #not valid"
   ]
  },
  {
   "cell_type": "code",
   "execution_count": 71,
   "id": "f20ba7d4-af17-47b2-927b-8a42248e6bfb",
   "metadata": {},
   "outputs": [
    {
     "data": {
      "text/plain": [
       "False"
      ]
     },
     "execution_count": 71,
     "metadata": {},
     "output_type": "execute_result"
    }
   ],
   "source": [
    "'abc' in a"
   ]
  },
  {
   "cell_type": "code",
   "execution_count": 72,
   "id": "9911b11a-dd44-415d-b8ac-d093f6c2ccdb",
   "metadata": {},
   "outputs": [
    {
     "data": {
      "text/plain": [
       "True"
      ]
     },
     "execution_count": 72,
     "metadata": {},
     "output_type": "execute_result"
    }
   ],
   "source": [
    "23 in a"
   ]
  },
  {
   "cell_type": "code",
   "execution_count": 74,
   "id": "6ebb7722-609c-4f4c-a7f0-904af3717916",
   "metadata": {},
   "outputs": [
    {
     "name": "stdout",
     "output_type": "stream",
     "text": [
      "banana\n",
      "apple\n",
      "23\n"
     ]
    }
   ],
   "source": [
    "for i in a:\n",
    "    print(i)"
   ]
  },
  {
   "cell_type": "code",
   "execution_count": 75,
   "id": "e480fe13-7d20-407a-9b02-20fcf7c0c229",
   "metadata": {},
   "outputs": [
    {
     "data": {
      "text/plain": [
       "3"
      ]
     },
     "execution_count": 75,
     "metadata": {},
     "output_type": "execute_result"
    }
   ],
   "source": [
    "len(a)"
   ]
  },
  {
   "cell_type": "markdown",
   "id": "9724ab0f-f2d5-4700-b51b-72c7c365ca74",
   "metadata": {},
   "source": [
    "### Functions in sets\n",
    "\n",
    "1. `set()`: Creates an empty set.\n",
    "\n",
    "2. `len(set)`: Returns the number of elements in the set.\n",
    "\n",
    "3. `add(element)`: Adds a single element to the set.\n",
    "\n",
    "4. `update(iterable)`: Adds multiple elements from an iterable to the set.\n",
    "\n",
    "5. `remove(element)`: Removes the specified element from the set. Raises a `KeyError` if the element is not found.\n",
    "\n",
    "6. `discard(element)`: Removes the specified element from the set (if it exists). Does not raise an error if the element is not found.\n",
    "\n",
    "7. `pop()`: Removes and returns an arbitrary element from the set. Raises a `KeyError` if the set is empty.\n",
    "\n",
    "8. `clear()`: Removes all elements from the set, making it empty.\n",
    "\n",
    "9. `copy()`: Returns a shallow copy of the set.\n",
    "\n",
    "10. `union(other_set)`, `|`: Returns a new set containing all elements from both sets (elements are unique).\n",
    "\n",
    "11. `intersection(other_set)`, `&`: Returns a new set containing common elements between both sets.\n",
    "\n",
    "12. `difference(other_set)`, `-`: Returns a new set containing elements that are in the first set but not in the second set.\n",
    "\n",
    "13. `symmetric_difference(other_set)`, `^`: Returns a new set containing elements that are in either of the sets but not in both.\n",
    "\n",
    "14. `issubset(other_set)`: Returns `True` if the set is a subset of the specified set, otherwise `False`.\n",
    "\n",
    "15. `issuperset(other_set)`: Returns `True` if the set is a superset of the specified set, otherwise `False`.\n",
    "\n",
    "### Additional functions\n",
    "Here are additional functions and methods on sets, including `a.intersection_update(b)`, `a.difference_update(b)`, `a.symmetric_difference_update(b)`, and `a.isdisjoint(b)`:\r\n",
    "\r\n",
    "1. `a.intersection_update(b)`: Updates the set `a` with the intersection of sets `a` and `b`, keeping only the elements that are common to both sets.\r\n",
    "\r\n",
    "2. `a.difference_update(b)`: Updates the set `a` by removing the elements present in set `b` from set `a`.\r\n",
    "\r\n",
    "3. `a.symmetric_difference_update(b)`: Updates the set `a` with the symmetric difference of sets `a` and `b`, keeping only the elements that are unique to either `a` or `b`, but not in both.\r\n",
    "\r\n",
    "4. `a.isdisjoint(b)`: Returns `True` if sets `a` and `b` have no elements in common, otherwise `ndling collections of unique elements."
   ]
  },
  {
   "cell_type": "code",
   "execution_count": 95,
   "id": "aa3c56c8-2321-4e0a-bd74-48ac250d8972",
   "metadata": {},
   "outputs": [
    {
     "name": "stdout",
     "output_type": "stream",
     "text": [
      "{1, 3, 4, 5, 6, 7}\n",
      "{1, 3, 4, 5, 6, 7}\n",
      "{3, 4, 5, 6}\n",
      "{1, 7}\n",
      "{1, 7}\n"
     ]
    }
   ],
   "source": [
    "set1 = {1, 2, 3, 4}\n",
    "set2 = {3, 4, 5, 6}\n",
    "\n",
    "# Adding elements\n",
    "set1.add(5)         # After adding 5 to set1: {1, 2, 3, 4, 5}\n",
    "set1.update([6, 7]) # After updating set1 with [6, 7]: {1, 2, 3, 4, 5, 6, 7}\n",
    "\n",
    "# Removing elements\n",
    "set1.remove(2)      # After removing 2 from set1: {1, 3, 4, 5, 6, 7}\n",
    "set1.discard(10)    # No error even if 10 is not in set1: {1, 3, 4, 5, 6, 7}\n",
    "\n",
    "# Set operations\n",
    "union_set = set1.union(set2)                # Union of set1 and set2: {1, 3, 4, 5, 6, 7}\n",
    "intersection_set = set1.intersection(set2)  # Intersection of set1 and set2: {3, 4}\n",
    "difference_set = set1.difference(set2)      # Set difference (set1 - set2): {1, 6, 7}\n",
    "symmetric_difference_set = set1.symmetric_difference(set2)  # Symmetric difference of set1 and set2: {1, 5, 6, 7} # A Δ B = (A ∪ B) - (A ∩ B)\n",
    "\n",
    "# The symmetric difference of two sets contains elements that are unique to either set, excluding the elements that are common to both sets\n",
    "\n",
    "print(set1)                   # Output: {1, 3, 4, 5, 6, 7}\n",
    "print(union_set)              # Output: {1, 3, 4, 5, 6, 7}\n",
    "print(intersection_set)       # Output: {3, 4}\n",
    "print(difference_set)         # Output: {1, 6, 7}\n",
    "print(symmetric_difference_set)  # Output: {1, 5, 6, 7}\n"
   ]
  },
  {
   "cell_type": "code",
   "execution_count": 94,
   "id": "7d3f2218-2762-448b-8db5-889922a7fe1e",
   "metadata": {},
   "outputs": [
    {
     "name": "stdout",
     "output_type": "stream",
     "text": [
      "{3, 4}\n",
      "{5, 6}\n",
      "{1, 2, 3, 4, 5, 6}\n",
      "True\n"
     ]
    }
   ],
   "source": [
    "set1 = {1, 2, 3, 4}\n",
    "set2 = {3, 4, 5, 6}\n",
    "\n",
    "# Intersection update\n",
    "# Updates set1 with the intersection of set1 and set2,\n",
    "# keeping only the elements that are common to both sets.\n",
    "set1.intersection_update(set2)\n",
    "print(set1)  # Output: {3, 4}\n",
    "\n",
    "# Difference update\n",
    "# Updates set2 by removing the elements present in set1 from set2.\n",
    "set1 = {1, 2, 3, 4}\n",
    "set2.difference_update(set1)\n",
    "print(set2)  # Output: {5, 6}\n",
    "\n",
    "# Symmetric difference update\n",
    "# Updates set2 with the symmetric difference of set1 and set2,\n",
    "# keeping only the elements that are unique to either set1 or set2, but not in both.\n",
    "set1 = {1, 2, 3, 4}\n",
    "set2.symmetric_difference_update(set1)\n",
    "print(set2)  # Output: {1, 2, 5, 6}\n",
    "\n",
    "# Is disjoint\n",
    "# Checks if set1 and set2 have no elements in common.\n",
    "set1 = {1, 2, 3, 4}\n",
    "set2 = {5, 6, 7}\n",
    "is_disjoint = set1.isdisjoint(set2)\n",
    "print(is_disjoint)  # Output: True (set1 and set2 have no elements in common)\n"
   ]
  },
  {
   "cell_type": "code",
   "execution_count": 83,
   "id": "b4b28230-eb37-48d8-aec8-1cf2890ff08b",
   "metadata": {},
   "outputs": [
    {
     "name": "stdout",
     "output_type": "stream",
     "text": [
      "Before:\n",
      "{'Bananas', 'Oranges', 'Apples'}\n",
      "{'Bananas', 'Oranges', 'Pine Apples', 'Dragon Fruits'}\n",
      "After:\n",
      "{'Bananas', 'Oranges', 'Apples'}\n",
      "{'Oranges', 'Apples', 'Pine Apples', 'Bananas', 'Dragon Fruits'}\n"
     ]
    }
   ],
   "source": [
    "a={\"Apples\",\"Bananas\",\"Oranges\"}\n",
    "b={\"Bananas\",\"Oranges\",\"Pine Apples\",\"Dragon Fruits\"}\n",
    "print(\"Before:\")\n",
    "print(a)\n",
    "print(b)\n",
    "b.update(a)\n",
    "print(\"After:\")\n",
    "print(a)\n",
    "print(b)"
   ]
  },
  {
   "cell_type": "code",
   "execution_count": 195,
   "id": "c7936fdf-8e89-413a-9bcd-51a7e18234f6",
   "metadata": {},
   "outputs": [],
   "source": [
    "a.discard('rrr') #no error if key not there"
   ]
  },
  {
   "cell_type": "code",
   "execution_count": 86,
   "id": "1cafbc7a-72b0-4e96-8a6f-08e7ea442926",
   "metadata": {},
   "outputs": [
    {
     "data": {
      "text/plain": [
       "'Bananas'"
      ]
     },
     "execution_count": 86,
     "metadata": {},
     "output_type": "execute_result"
    }
   ],
   "source": [
    "a.pop() #randomly deletes a value"
   ]
  },
  {
   "cell_type": "markdown",
   "id": "1f24dad6-5ad4-4fd4-b037-94c949cf64fb",
   "metadata": {},
   "source": [
    "* `issubset(other_set)`: Returns `True` if the set is a subset of the specified set, otherwise `False`.\n",
    "\n",
    "* `issuperset(other_set)`: Returns `True` if the set is a superset of the specified set, otherwise `False`.\n",
    "* `set.isdisjoint(other_set)`: , Returns `True` if there are no common elements between the two sets otherwise, otherwise False.\n"
   ]
  },
  {
   "cell_type": "code",
   "execution_count": 100,
   "id": "bb5b1bfa-cfdf-4614-90fc-b668adee0902",
   "metadata": {},
   "outputs": [
    {
     "data": {
      "text/plain": [
       "True"
      ]
     },
     "execution_count": 100,
     "metadata": {},
     "output_type": "execute_result"
    }
   ],
   "source": [
    "a={1,2,3,4}\n",
    "b={3,4}\n",
    "b.issubset(a)"
   ]
  },
  {
   "cell_type": "code",
   "execution_count": 101,
   "id": "0d0c3870-efc1-4673-adac-818be308a9f7",
   "metadata": {},
   "outputs": [
    {
     "data": {
      "text/plain": [
       "True"
      ]
     },
     "execution_count": 101,
     "metadata": {},
     "output_type": "execute_result"
    }
   ],
   "source": [
    "a.issuperset(b)"
   ]
  },
  {
   "cell_type": "code",
   "execution_count": 102,
   "id": "d9adbf66-4078-4f7e-a138-6985746fe9b6",
   "metadata": {},
   "outputs": [
    {
     "name": "stdout",
     "output_type": "stream",
     "text": [
      "{1, 2, 3, 4}\n",
      "{3, 4}\n"
     ]
    },
    {
     "data": {
      "text/plain": [
       "False"
      ]
     },
     "execution_count": 102,
     "metadata": {},
     "output_type": "execute_result"
    }
   ],
   "source": [
    "print(a)\n",
    "print(b)\n",
    "a.isdisjoint(b)"
   ]
  },
  {
   "cell_type": "code",
   "execution_count": 103,
   "id": "14a62bb7-8413-4669-9d60-674ab01ba8f8",
   "metadata": {},
   "outputs": [],
   "source": [
    "## Problems"
   ]
  },
  {
   "cell_type": "code",
   "execution_count": 104,
   "id": "a0bff4d7-4978-48ad-9b07-10a29bdaba49",
   "metadata": {},
   "outputs": [
    {
     "name": "stdout",
     "output_type": "stream",
     "text": [
      "25\n"
     ]
    }
   ],
   "source": [
    "# sum of all Unique Numbers in List\n",
    "l=[1,2,3,5,6,5,6,8,2]\n",
    "\n",
    "s=set()\n",
    "\n",
    "for i in l:\n",
    "    s.add(i)\n",
    "\n",
    "sum_of_uniques=0\n",
    "\n",
    "for i in s:\n",
    "    sum_of_uniques+=i\n",
    "print(sum_of_uniques)\n",
    "    "
   ]
  },
  {
   "cell_type": "code",
   "execution_count": 105,
   "id": "c1e54555-cee4-45e0-b1ca-1a42b47dd7ca",
   "metadata": {},
   "outputs": [
    {
     "name": "stdout",
     "output_type": "stream",
     "text": [
      "4\n"
     ]
    }
   ],
   "source": [
    "# Make Unique Array\n",
    "# Find no of elements to be removed to make an array of all distinct elements\n",
    "\n",
    "# using sets\n",
    "l=[1,2,3,4,5,1,2,3,4]\n",
    "s= set()\n",
    "\n",
    "elements=0\n",
    "\n",
    "for i in l:\n",
    "    if i in s:\n",
    "        elements+=1\n",
    "    else:\n",
    "        s.add(i)\n",
    "        \n",
    "print(elements)\n",
    "    "
   ]
  },
  {
   "cell_type": "code",
   "execution_count": 107,
   "id": "b79754ba-b9ee-4c8a-b520-d7cd0cf1a07b",
   "metadata": {},
   "outputs": [
    {
     "name": "stdout",
     "output_type": "stream",
     "text": [
      "4\n"
     ]
    }
   ],
   "source": [
    "# Make Unique Array\n",
    "# Find no of elements to be removed to make an array of all distinct elements\n",
    "# using dictinary\n",
    "l=[1,2,3,4,5,1,2,3,4]\n",
    "d={}\n",
    "\n",
    "elements=0\n",
    "\n",
    "for i in l:\n",
    "    if d.get(i,0)!=0:\n",
    "        elements+=1\n",
    "    else:\n",
    "        d[i]= d.get(i,0)+1\n",
    "        \n",
    "print(elements)\n",
    "    "
   ]
  },
  {
   "cell_type": "code",
   "execution_count": 111,
   "id": "9d1a3c19-4539-47e9-b466-b77cc1ea2753",
   "metadata": {},
   "outputs": [
    {
     "name": "stdout",
     "output_type": "stream",
     "text": [
      "Original list : [9, 4, 5, 4, 4, 5, 9, 5, 4, 9, 9]\n",
      "Most frequent number is : 9\n"
     ]
    }
   ],
   "source": [
    "# Highest Frequency number\n",
    "\n",
    "test_list = [9, 4, 5, 4, 4, 5, 9, 5, 4,9,9]\n",
    "\n",
    "print (\"Original list : \" + str(test_list))\n",
    "\n",
    "# using naive method to\n",
    "# get most frequent element\n",
    "max = 0\n",
    "res = test_list[0]\n",
    "for i in test_list:\n",
    "\tfreq = test_list.count(i)\n",
    "\tif freq > max:\n",
    "\t\tmax = freq\n",
    "\t\tres = i\n",
    "\t\n",
    "# printing result\n",
    "print (\"Most frequent number is : \" + str(res)) #if two same freq, first value return"
   ]
  },
  {
   "cell_type": "code",
   "execution_count": 112,
   "id": "a916f2c8-cdbd-48e7-860f-3c841f8eb212",
   "metadata": {},
   "outputs": [
    {
     "data": {
      "text/plain": [
       "4"
      ]
     },
     "execution_count": 112,
     "metadata": {},
     "output_type": "execute_result"
    }
   ],
   "source": [
    "# using dictionary\n",
    "test_list = [9, 4, 5, 4, 4, 5, 9, 5, 4,9,9]\n",
    "test_list = test_list[::-1]\n",
    "\n",
    "dict ={}\n",
    "for i in test_list:\n",
    "    dict[i]=dict.get(i,0)+1\n",
    "max_freq=0\n",
    "\n",
    "for i in dict:\n",
    "    if dict[i]>max_freq:\n",
    "        max_freq= dict[i]\n",
    "max_freq #if two same freq, last stating value return"
   ]
  },
  {
   "cell_type": "code",
   "execution_count": 114,
   "id": "d0237607-9568-432e-8499-e1441b24ff32",
   "metadata": {},
   "outputs": [
    {
     "name": "stdout",
     "output_type": "stream",
     "text": [
      "3\n"
     ]
    }
   ],
   "source": [
    "# ********* **************** ***********\n",
    "# Given an array that might contain duplicate elements, find the maximum possible distance between occurrences of two repeating elements\n",
    "# i.e. elements having same value. If there are no duplicate elements in the array, return 0.\n",
    "\n",
    "arr = [1, 3, 1, 4, 5, 6, 4, 8]\n",
    "max_distance=0\n",
    "for i in range(0,len(arr)):\n",
    "    val =arr[i]\n",
    "    for j in range(i+1,len(arr)):\n",
    "        if arr[j]==val:\n",
    "            dist=j-i\n",
    "            if max_distance<dist:\n",
    "                max_distance= dist\n",
    "\n",
    "print(max_distance)"
   ]
  },
  {
   "cell_type": "code",
   "execution_count": 118,
   "id": "e73ee870-cabd-4328-aee9-3ba9e79ff0bd",
   "metadata": {},
   "outputs": [
    {
     "name": "stdout",
     "output_type": "stream",
     "text": [
      "D\n"
     ]
    }
   ],
   "source": [
    "# First non repeating character\n",
    "str=\"aDcadhc\"\n",
    "non_repeating=str[0]\n",
    "for i in range(0,len(str)):\n",
    "    val= str[i]\n",
    "    if (val in str[i+1:])==False:\n",
    "        non_repeating=val\n",
    "        break\n",
    "print(non_repeating)"
   ]
  },
  {
   "cell_type": "code",
   "execution_count": 117,
   "id": "56d62185-421e-4827-9cee-3375353fb2b8",
   "metadata": {},
   "outputs": [
    {
     "data": {
      "text/plain": [
       "False"
      ]
     },
     "execution_count": 117,
     "metadata": {},
     "output_type": "execute_result"
    }
   ],
   "source": [
    "str=\"abc def\"\n",
    "'d' in str[5:]"
   ]
  },
  {
   "cell_type": "code",
   "execution_count": 119,
   "id": "b4ecfb03-1acb-48f1-89e7-4edfa5972cae",
   "metadata": {},
   "outputs": [
    {
     "name": "stdout",
     "output_type": "stream",
     "text": [
      "harshit   2\n",
      "Ayush   3\n",
      "Iti   2\n"
     ]
    }
   ],
   "source": [
    "# Different Names\n",
    "# print repeating names in a str\n",
    "\n",
    "str=\"Abhishek harshit Ayush harshit Ayush Iti Deepak Ayush Iti\"\n",
    "dic={}\n",
    "for i in str.split():\n",
    "    dic[i]=dic.get(i,0)+1\n",
    "repeat_exist=False\n",
    "\n",
    "for i in dic:\n",
    "    if dic[i]>1:\n",
    "        repeat_exist=True\n",
    "        print(i,\" \",dic[i])\n",
    "        \n",
    "if repeat_exist == False:\n",
    "    print(-1)\n",
    "    \n",
    "    "
   ]
  },
  {
   "cell_type": "code",
   "execution_count": 122,
   "id": "1a8f8d81-1882-4d25-823b-e1811c10dc0b",
   "metadata": {},
   "outputs": [
    {
     "name": "stdout",
     "output_type": "stream",
     "text": [
      "3\n"
     ]
    }
   ],
   "source": [
    "# print even time repeated value, if two or more print first\n",
    "\n",
    "arr=[2,  3, 4, 4, 4, 4, 5, 3, 5]\n",
    "dic={}\n",
    "for i in arr:\n",
    "    dic[i]=dic.get(i,0)+1\n",
    "\n",
    "for i in dic:\n",
    "    if dic[i]%2==0:\n",
    "        print(i)\n",
    "        break\n",
    "else:\n",
    "    print(-1)\n",
    "    \n",
    "    "
   ]
  },
  {
   "cell_type": "code",
   "execution_count": 134,
   "id": "c075a75b-e3b1-484e-a4f6-c387dcfbf47f",
   "metadata": {},
   "outputs": [
    {
     "name": "stdin",
     "output_type": "stream",
     "text": [
      " 5\n",
      " 1 2 3\n",
      " 4 5 6\n",
      " 7 8 9\n",
      " 7 8 9\n",
      " 1 2 3\n"
     ]
    },
    {
     "data": {
      "text/plain": [
       "[[1, 2, 3], [4, 5, 6], [7, 8, 9], [7, 8, 9], [1, 2, 3]]"
      ]
     },
     "execution_count": 134,
     "metadata": {},
     "output_type": "execute_result"
    }
   ],
   "source": [
    "#***********\n",
    "# Unique triangles\n",
    "# A triangle is said to be unique if there is no other triangle with same set of sides.\n",
    "\n",
    "# sample input\n",
    "# 5\n",
    "# 7 6 5\n",
    "# 5 7 6\n",
    "# 8 2 9\n",
    "# 2 3 4\n",
    "# 2 4 3\n",
    "\n",
    "n = int(input())\n",
    "\n",
    "arr = [list(map(int, input().split())) for x in range(n)]\n",
    "arr"
   ]
  },
  {
   "cell_type": "code",
   "execution_count": 135,
   "id": "091bcdaa-4778-43a4-9df3-1e77bd8163e8",
   "metadata": {},
   "outputs": [
    {
     "name": "stdout",
     "output_type": "stream",
     "text": [
      "5   1\n",
      "5   9\n",
      "8   12\n",
      "3\n"
     ]
    }
   ],
   "source": [
    "#*****************\n",
    "# Pairs with difference K\n",
    "\n",
    "l=[5,1,9,8,12]\n",
    "k=4\n",
    "\n",
    "pairs_nums=0\n",
    "for i in range(0,len(l)-1):\n",
    "    for j in range(i+1,len(l)):\n",
    "        if abs(l[i]-l[j]) ==k:\n",
    "            print(l[i],\" \",l[j])\n",
    "            pairs_nums+=1\n",
    "\n",
    "print(pairs_nums)\n",
    "            "
   ]
  }
 ],
 "metadata": {
  "kernelspec": {
   "display_name": "Python 3 (ipykernel)",
   "language": "python",
   "name": "python3"
  },
  "language_info": {
   "codemirror_mode": {
    "name": "ipython",
    "version": 3
   },
   "file_extension": ".py",
   "mimetype": "text/x-python",
   "name": "python",
   "nbconvert_exporter": "python",
   "pygments_lexer": "ipython3",
   "version": "3.11.3"
  }
 },
 "nbformat": 4,
 "nbformat_minor": 5
}
