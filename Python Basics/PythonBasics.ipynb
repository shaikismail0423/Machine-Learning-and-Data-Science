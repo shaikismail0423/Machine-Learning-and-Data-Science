{
 "cells": [
  {
   "cell_type": "markdown",
   "id": "fe882319-fb7f-443f-ab0e-b53c20aec3ad",
   "metadata": {},
   "source": [
    "## Intro to Jupyter\n",
    "\n",
    "You can choose accordingly\n",
    "\n",
    "ctrl+enter\n",
    "alt+enter => next cell kooda vasthadi"
   ]
  },
  {
   "cell_type": "code",
   "execution_count": 3,
   "id": "0b95b443-7a03-43a9-b846-4b2015627593",
   "metadata": {},
   "outputs": [
    {
     "name": "stdout",
     "output_type": "stream",
     "text": [
      "Hello World\n",
      "Another HelloWorld \n"
     ]
    },
    {
     "data": {
      "text/plain": [
       "10"
      ]
     },
     "execution_count": 3,
     "metadata": {},
     "output_type": "execute_result"
    }
   ],
   "source": [
    "a=10\n",
    "print('Hello World')\n",
    "print('Another HelloWorld ')\n",
    "10"
   ]
  },
  {
   "cell_type": "markdown",
   "id": "ce6b7d63-8e58-4e65-b0ab-9729af0c16e6",
   "metadata": {},
   "source": [
    "### variables"
   ]
  },
  {
   "cell_type": "code",
   "execution_count": 5,
   "id": "48fe4845-297f-487a-a7a2-9fabd09d2693",
   "metadata": {},
   "outputs": [
    {
     "name": "stdout",
     "output_type": "stream",
     "text": [
      "30\n",
      "10 20\n"
     ]
    }
   ],
   "source": [
    "a=10\n",
    "b=20\n",
    "sum=a+b\n",
    "print(sum)\n",
    "print(a,b)"
   ]
  },
  {
   "cell_type": "markdown",
   "id": "7b617fb7-f042-48bd-ac4a-1682bb4b981d",
   "metadata": {},
   "source": [
    "### alphanumeric -> correct\n",
    "### numericalpha ->wrong"
   ]
  },
  {
   "cell_type": "code",
   "execution_count": 6,
   "id": "4f8c4c9c-f773-453f-9da0-3e320112985a",
   "metadata": {},
   "outputs": [
    {
     "name": "stdout",
     "output_type": "stream",
     "text": [
      "10\n"
     ]
    }
   ],
   "source": [
    "ac_c1= 10\n",
    "#this is a comment\n",
    "print(ac_c1)"
   ]
  },
  {
   "cell_type": "markdown",
   "id": "56fea97c-0273-46a3-ae7c-1d70e48be6f7",
   "metadata": {},
   "source": [
    "## Assigning Different type of data to a variable"
   ]
  },
  {
   "cell_type": "code",
   "execution_count": 7,
   "id": "42a2e5f9-54a9-41a0-bdf9-193384b8177a",
   "metadata": {},
   "outputs": [
    {
     "data": {
      "text/plain": [
       "'Hi this is ismail'"
      ]
     },
     "execution_count": 7,
     "metadata": {},
     "output_type": "execute_result"
    }
   ],
   "source": [
    "a=10 #a is not rested, it can store large \n",
    "a=20 # new /usable different storage \n",
    "a=\"Hi this is ismail\" # a stores address\n",
    "a"
   ]
  },
  {
   "cell_type": "code",
   "execution_count": 8,
   "id": "3ed0901c-2252-40f8-8346-de8636263254",
   "metadata": {},
   "outputs": [
    {
     "name": "stdout",
     "output_type": "stream",
     "text": [
      "Hi this is ismail <class 'str'>\n"
     ]
    }
   ],
   "source": [
    "print(a,type(a))"
   ]
  },
  {
   "cell_type": "code",
   "execution_count": 9,
   "id": "9f24b942-5e41-4356-a13d-9f53c0563ae9",
   "metadata": {},
   "outputs": [
    {
     "name": "stdout",
     "output_type": "stream",
     "text": [
      "10 <class 'int'>\n"
     ]
    }
   ],
   "source": [
    "a=10\n",
    "a=10\n",
    "print(a,type(a))"
   ]
  },
  {
   "cell_type": "code",
   "execution_count": 10,
   "id": "483d48f8-e2de-4175-9da9-aa5afbe4638b",
   "metadata": {},
   "outputs": [
    {
     "name": "stdout",
     "output_type": "stream",
     "text": [
      "23 <class 'int'>\n",
      "3.4 <class 'float'>\n",
      "(4+5j) <class 'complex'>\n"
     ]
    }
   ],
   "source": [
    "a1 = 23\n",
    "a2= 3.4\n",
    "a3= 4+5j\n",
    "print(a1,type(a1))\n",
    "print(a2,type(a2))\n",
    "print(a3,type(a3))"
   ]
  },
  {
   "cell_type": "code",
   "execution_count": 11,
   "id": "84e243f1-483c-4ed9-a253-33bb6a5d2dca",
   "metadata": {},
   "outputs": [
    {
     "name": "stdout",
     "output_type": "stream",
     "text": [
      "140715170980744\n",
      "140715170980776\n"
     ]
    }
   ],
   "source": [
    "a=4\n",
    "print(id(a)) #unique identification number for that variable(meta)\n",
    "a=a+1\n",
    "print(id(a))"
   ]
  },
  {
   "cell_type": "code",
   "execution_count": 32,
   "id": "7b3863b8-b1b6-4b13-b692-305f0d7a320a",
   "metadata": {},
   "outputs": [
    {
     "name": "stdout",
     "output_type": "stream",
     "text": [
      "140734163903560\n",
      "140734163903560\n"
     ]
    }
   ],
   "source": [
    "a=10\n",
    "b=10\n",
    "print(id(a))\n",
    "print(id(b))\n",
    "#points to same value\n",
    "# this optimmization only for -5 to 256"
   ]
  },
  {
   "cell_type": "code",
   "execution_count": 12,
   "id": "9dd07ac8-6c86-4114-985d-956393bbeead",
   "metadata": {},
   "outputs": [
    {
     "name": "stdout",
     "output_type": "stream",
     "text": [
      "2369542254288\n",
      "2369542252432\n"
     ]
    }
   ],
   "source": [
    "a=1000\n",
    "b=1000\n",
    "print(id(a))\n",
    "print(id(b))"
   ]
  },
  {
   "cell_type": "code",
   "execution_count": 13,
   "id": "ce4d7bee-8d6d-4103-949f-8630c7512471",
   "metadata": {},
   "outputs": [],
   "source": [
    "#for java/c++ int a: some fixed memory ex:4 bytes\n",
    "# For python its different\n",
    "\n",
    "a=10000000 #there is no limit to how big the variable is, only the available "
   ]
  },
  {
   "cell_type": "markdown",
   "id": "31288dae-de56-4d7f-a846-c93df944a5f7",
   "metadata": {},
   "source": [
    "### Arthimetic\n",
    "\n",
    "+ - * /\n",
    "// ** %"
   ]
  },
  {
   "cell_type": "code",
   "execution_count": 14,
   "id": "f2327794-3b98-4acf-9209-a3bd9aaa901d",
   "metadata": {},
   "outputs": [
    {
     "name": "stdout",
     "output_type": "stream",
     "text": [
      "13\n",
      "5\n",
      "36\n",
      "2.25\n",
      "2\n",
      "6561\n",
      "1\n"
     ]
    }
   ],
   "source": [
    "a=9\n",
    "b=4\n",
    "print(a+b)\n",
    "print(a-b)\n",
    "print(a*b)\n",
    "print(a/b)\n",
    "print(a//b) #integer division\n",
    "print(a**b) #exponentiation\n",
    "print(a%b) #remaindeer\n"
   ]
  },
  {
   "cell_type": "code",
   "execution_count": 37,
   "id": "1872ac8f-18d2-44fe-a244-20323408a5f1",
   "metadata": {},
   "outputs": [],
   "source": [
    "# Just put barckets\n"
   ]
  },
  {
   "cell_type": "code",
   "execution_count": 38,
   "id": "07f74dc8-760f-429b-8171-4c806c1edcf2",
   "metadata": {},
   "outputs": [
    {
     "data": {
      "text/plain": [
       "1.5"
      ]
     },
     "execution_count": 38,
     "metadata": {},
     "output_type": "execute_result"
    }
   ],
   "source": [
    "2*3/4"
   ]
  },
  {
   "cell_type": "code",
   "execution_count": 41,
   "id": "baf68982-a80a-4bc1-835b-cbb447d78686",
   "metadata": {},
   "outputs": [
    {
     "data": {
      "text/plain": [
       "0"
      ]
     },
     "execution_count": 41,
     "metadata": {},
     "output_type": "execute_result"
    }
   ],
   "source": [
    "2*(3//4)"
   ]
  },
  {
   "cell_type": "code",
   "execution_count": 40,
   "id": "9d64336c-c618-44da-ba34-98b3e51e36c4",
   "metadata": {},
   "outputs": [
    {
     "data": {
      "text/plain": [
       "1"
      ]
     },
     "execution_count": 40,
     "metadata": {},
     "output_type": "execute_result"
    }
   ],
   "source": [
    "(2*3)//4"
   ]
  },
  {
   "cell_type": "markdown",
   "id": "64941d63-7353-4581-b9c4-b97ed7cf762c",
   "metadata": {},
   "source": [
    "## Simple Intrest"
   ]
  },
  {
   "cell_type": "code",
   "execution_count": 15,
   "id": "e8065fe2-184c-4ad6-8d3e-6f9cf737c336",
   "metadata": {},
   "outputs": [
    {
     "name": "stdout",
     "output_type": "stream",
     "text": [
      "25\n"
     ]
    }
   ],
   "source": [
    "p=100\n",
    "t=5\n",
    "r=5\n",
    "print((p*t*r)//100)\n",
    "     "
   ]
  },
  {
   "cell_type": "code",
   "execution_count": 43,
   "id": "71570a9c-d4c8-46d4-832d-300664eb0d39",
   "metadata": {},
   "outputs": [
    {
     "data": {
      "text/plain": [
       "37.77777777777778"
      ]
     },
     "execution_count": 43,
     "metadata": {},
     "output_type": "execute_result"
    }
   ],
   "source": [
    "f=100\n",
    "c=(f-32)*5/9\n",
    "c"
   ]
  },
  {
   "cell_type": "markdown",
   "id": "abba8244-1e93-4b1f-bed4-a98de43e1e4e",
   "metadata": {},
   "source": [
    "### Input"
   ]
  },
  {
   "cell_type": "code",
   "execution_count": 44,
   "id": "d192fd1e-da8c-4289-aebe-e519cf00dae2",
   "metadata": {},
   "outputs": [
    {
     "name": "stdin",
     "output_type": "stream",
     "text": [
      " 2\n"
     ]
    },
    {
     "data": {
      "text/plain": [
       "'2'"
      ]
     },
     "execution_count": 44,
     "metadata": {},
     "output_type": "execute_result"
    }
   ],
   "source": [
    "a=input() #string\n",
    "a"
   ]
  },
  {
   "cell_type": "code",
   "execution_count": 1,
   "id": "8e10e934-edee-413c-9d92-fc5de874048c",
   "metadata": {},
   "outputs": [
    {
     "name": "stdin",
     "output_type": "stream",
     "text": [
      " 2\n",
      " 5\n"
     ]
    },
    {
     "name": "stdout",
     "output_type": "stream",
     "text": [
      "<class 'int'>\n"
     ]
    },
    {
     "data": {
      "text/plain": [
       "5"
      ]
     },
     "execution_count": 1,
     "metadata": {},
     "output_type": "execute_result"
    }
   ],
   "source": [
    "a=float(input()) # input should be valid integer/float, otherwise error\n",
    "b=int(input()) # input should be valid integer, otherwise error\n",
    "print(type(b)) \n",
    "c=a+b\n",
    "i = int(5.5)\n",
    "i"
   ]
  },
  {
   "cell_type": "markdown",
   "id": "3077b6e0-c31d-4d33-bcdc-a6a2571780a3",
   "metadata": {},
   "source": [
    "## Boolean "
   ]
  },
  {
   "cell_type": "code",
   "execution_count": 3,
   "id": "772cae46-1aff-496d-b9cf-53b805fafbca",
   "metadata": {},
   "outputs": [
    {
     "data": {
      "text/plain": [
       "bool"
      ]
     },
     "execution_count": 3,
     "metadata": {},
     "output_type": "execute_result"
    }
   ],
   "source": [
    "a=True\n",
    "b=False # capital\n",
    "\n",
    "c=\"Ninjas\"\n",
    "type(b)"
   ]
  },
  {
   "cell_type": "markdown",
   "id": "d57d6e9c-373f-439b-b962-ed0a2702212e",
   "metadata": {},
   "source": [
    "## Relational Operator"
   ]
  },
  {
   "cell_type": "code",
   "execution_count": 4,
   "id": "e48db34b-fd66-4c99-8ab8-41fee3356086",
   "metadata": {},
   "outputs": [
    {
     "name": "stdout",
     "output_type": "stream",
     "text": [
      "False\n",
      "False\n",
      "True\n",
      "False\n",
      "True\n"
     ]
    }
   ],
   "source": [
    "a=10\n",
    "b=20\n",
    "print(a>b)\n",
    "print(a>=b)\n",
    "print(a<=b)\n",
    "print(a==b)\n",
    "print(a!=b)"
   ]
  },
  {
   "cell_type": "markdown",
   "id": "32950351-991c-4a53-9ffb-1426db6d2720",
   "metadata": {},
   "source": [
    "## Logical Operators"
   ]
  },
  {
   "cell_type": "code",
   "execution_count": 6,
   "id": "d48a3b61-99a4-4c5c-9939-75bee9f8e354",
   "metadata": {},
   "outputs": [
    {
     "name": "stdout",
     "output_type": "stream",
     "text": [
      "False True True\n"
     ]
    }
   ],
   "source": [
    "a=5>10\n",
    "b=4<5\n",
    "c=False\n",
    "r1 =  a and b\n",
    "r2= a or b\n",
    "r3 = not c\n",
    "\n",
    "print(r1,r2,r3)"
   ]
  },
  {
   "cell_type": "markdown",
   "id": "393027cf-56bd-4219-a79a-531a13b85c98",
   "metadata": {},
   "source": [
    "## Conditional Operators"
   ]
  },
  {
   "cell_type": "code",
   "execution_count": 11,
   "id": "bd8e938e-5d35-4a64-890e-59866eb8f670",
   "metadata": {},
   "outputs": [
    {
     "name": "stdout",
     "output_type": "stream",
     "text": [
      "True\n"
     ]
    }
   ],
   "source": [
    "if a>b:\n",
    "    print(\"False\")\n",
    "else:\n",
    "    print(\"True\")\n",
    "\n",
    "#identation is very imprrtant"
   ]
  },
  {
   "cell_type": "code",
   "execution_count": 2,
   "id": "bf38e73b-f3c1-46b6-85c5-28e1b2370ea6",
   "metadata": {},
   "outputs": [
    {
     "name": "stdin",
     "output_type": "stream",
     "text": [
      " 23\n"
     ]
    },
    {
     "name": "stdout",
     "output_type": "stream",
     "text": [
      "Odd\n"
     ]
    }
   ],
   "source": [
    "n= int(input())\n",
    "if n%2==0:\n",
    "    print(\"Even\")\n",
    "else:\n",
    "    print(\"Odd\")"
   ]
  },
  {
   "cell_type": "markdown",
   "id": "0ce4d5ba-4f52-4afb-b5bb-a75b31c44226",
   "metadata": {},
   "source": [
    "## Ternary operator"
   ]
  },
  {
   "cell_type": "code",
   "execution_count": 14,
   "id": "5e7c074b-e846-4d8d-a9c0-c4333759ccff",
   "metadata": {},
   "outputs": [
    {
     "name": "stdin",
     "output_type": "stream",
     "text": [
      " 52\n"
     ]
    },
    {
     "name": "stdout",
     "output_type": "stream",
     "text": [
      "Even\n"
     ]
    }
   ],
   "source": [
    "n= int(input())\n",
    "print(\"Even\") if n%2==0 else print(\"Odd\")"
   ]
  },
  {
   "cell_type": "code",
   "execution_count": 16,
   "id": "25d86b0f-3e0a-419e-8915-2904f8b5b702",
   "metadata": {},
   "outputs": [
    {
     "name": "stdin",
     "output_type": "stream",
     "text": [
      " 50\n",
      " 12\n"
     ]
    },
    {
     "name": "stdout",
     "output_type": "stream",
     "text": [
      "True\n"
     ]
    }
   ],
   "source": [
    "a=   int(input())\n",
    "b=   int(input())\n",
    "\n",
    "if a>10 and b> 10:\n",
    "    print(\"True\")\n",
    "else:\n",
    "    print(\"False\")\n",
    "    "
   ]
  },
  {
   "cell_type": "code",
   "execution_count": 19,
   "id": "7c93acbd-98a1-4c88-8d6a-0b1d706c2ff6",
   "metadata": {},
   "outputs": [
    {
     "name": "stdin",
     "output_type": "stream",
     "text": [
      " 20\n",
      " 20\n",
      " 30\n"
     ]
    },
    {
     "name": "stdout",
     "output_type": "stream",
     "text": [
      "30\n"
     ]
    }
   ],
   "source": [
    "#finding largest of three\n",
    "\n",
    "a=   int(input())\n",
    "b=   int(input())\n",
    "c= int(input())\n",
    "if a>=b and a>=c:\n",
    "    print(a)\n",
    "elif b>=a and b>=c:\n",
    "    print(b)\n",
    "else:\n",
    "    print(c)\n",
    "    "
   ]
  },
  {
   "cell_type": "code",
   "execution_count": 20,
   "id": "c30b10e4-95dc-4b49-a10c-aab8e6951e66",
   "metadata": {},
   "outputs": [
    {
     "name": "stdin",
     "output_type": "stream",
     "text": [
      " 446\n"
     ]
    },
    {
     "name": "stdout",
     "output_type": "stream",
     "text": [
      "Red\n"
     ]
    }
   ],
   "source": [
    "n= int(input())\n",
    "if n> 10:\n",
    "    print(\"Red\")\n",
    "elif n>=5:\n",
    "    print(\"Green\")\n",
    "elif n>0:\n",
    "    print(\"Yellow\")\n",
    "    "
   ]
  },
  {
   "cell_type": "code",
   "execution_count": 21,
   "id": "b1bf2e40-b1c0-4af8-b28d-b48419697e27",
   "metadata": {},
   "outputs": [
    {
     "name": "stdin",
     "output_type": "stream",
     "text": [
      " 465\n"
     ]
    },
    {
     "name": "stdout",
     "output_type": "stream",
     "text": [
      "Positive\n"
     ]
    }
   ],
   "source": [
    "n= int(input())\n",
    "\n",
    "if n>0:\n",
    "    print(\"Positive\")\n",
    "elif n<0:\n",
    "    print( \"Negative\")\n",
    "else:\n",
    "    print( \"Zero\")\n"
   ]
  },
  {
   "cell_type": "markdown",
   "id": "c7197183-77d0-4ec4-8150-7b2b60e2ab3e",
   "metadata": {},
   "source": [
    "## Nested Conditionals"
   ]
  },
  {
   "cell_type": "code",
   "execution_count": 22,
   "id": "f06ed2fc-5f9e-478d-b8f7-3adf8c5192c9",
   "metadata": {},
   "outputs": [
    {
     "name": "stdin",
     "output_type": "stream",
     "text": [
      " 0\n"
     ]
    },
    {
     "name": "stdout",
     "output_type": "stream",
     "text": [
      "Even\n",
      "zero\n"
     ]
    }
   ],
   "source": [
    "n= int(input())\n",
    "if n%2==0:\n",
    "    print(\"Even\")\n",
    "    if n==0:\n",
    "        print(\"zero\")\n",
    "else:\n",
    "    print(\"Odd\")"
   ]
  },
  {
   "cell_type": "markdown",
   "id": "f8175f73-74c3-4c2a-a5fc-7d74b142d83f",
   "metadata": {},
   "source": [
    "## Loops"
   ]
  },
  {
   "cell_type": "code",
   "execution_count": 26,
   "id": "02d8910b-c456-4a41-a58d-409079ab6601",
   "metadata": {},
   "outputs": [
    {
     "name": "stdin",
     "output_type": "stream",
     "text": [
      " 5\n"
     ]
    },
    {
     "name": "stdout",
     "output_type": "stream",
     "text": [
      "1\n",
      "2\n",
      "3\n",
      "4\n",
      "5\n"
     ]
    }
   ],
   "source": [
    "#first n natural numbers\n",
    "\n",
    "n =  int(input())\n",
    "i=1\n",
    "while i<=n:\n",
    "    print(i)\n",
    "    i+=1"
   ]
  },
  {
   "cell_type": "code",
   "execution_count": 28,
   "id": "11fb705d-d2f2-42dc-a5dc-de3d4b096aed",
   "metadata": {},
   "outputs": [
    {
     "name": "stdin",
     "output_type": "stream",
     "text": [
      " 10\n"
     ]
    },
    {
     "name": "stdout",
     "output_type": "stream",
     "text": [
      "55\n"
     ]
    }
   ],
   "source": [
    "#sum of n natural numbers\n",
    "\n",
    "n =  int(input())\n",
    "sum=0\n",
    "i=1\n",
    "while i<=n:\n",
    "    sum+=i\n",
    "    i+=1\n",
    "print(sum)"
   ]
  },
  {
   "cell_type": "code",
   "execution_count": 32,
   "id": "6e16a88c-6de6-474d-a34d-abc5e2566bcc",
   "metadata": {},
   "outputs": [
    {
     "name": "stdin",
     "output_type": "stream",
     "text": [
      " 50\n"
     ]
    },
    {
     "name": "stdout",
     "output_type": "stream",
     "text": [
      "Prime\n"
     ]
    }
   ],
   "source": [
    "#prime or not\n",
    "import math\n",
    "n =  int(input())\n",
    "i=2\n",
    "istrue= True\n",
    "\n",
    "while i <= math.sqrt(n):\n",
    "    if n%i ==0:\n",
    "        istrue= False\n",
    "    i+=1\n",
    "if istrue:\n",
    "    print(\"Prime\")\n",
    "else:\n",
    "    print(\"Not Prime\")"
   ]
  },
  {
   "cell_type": "markdown",
   "id": "1f53ead3-fc46-46ca-8ac5-ba5729e5d6e0",
   "metadata": {},
   "source": [
    "## Nested While"
   ]
  },
  {
   "cell_type": "code",
   "execution_count": 40,
   "id": "69be8026-49a5-45d7-8536-21dfa803a4a5",
   "metadata": {},
   "outputs": [
    {
     "name": "stdin",
     "output_type": "stream",
     "text": [
      " 23\n"
     ]
    },
    {
     "name": "stdout",
     "output_type": "stream",
     "text": [
      "2 Prime\n",
      "3 Prime\n",
      "5 Prime\n",
      "7 Prime\n",
      "11 Prime\n",
      "13 Prime\n",
      "17 Prime\n",
      "19 Prime\n",
      "23 Prime\n"
     ]
    }
   ],
   "source": [
    "# print all prime numbers between range\n",
    "m =  int(input())\n",
    "n=2\n",
    "while n<=m:\n",
    "    istrue= True\n",
    "    i=2\n",
    "    \n",
    "    while i <= math.sqrt(n):\n",
    "        if n%i ==0:\n",
    "            istrue= False\n",
    "        i+=1\n",
    "    if istrue:\n",
    "        print(n,\"Prime\")\n",
    "    \n",
    "    n+=1\n",
    "\n",
    "\n"
   ]
  },
  {
   "cell_type": "code",
   "execution_count": 41,
   "id": "7c5b884c-3f9b-4ae1-a820-3e1282fc9e52",
   "metadata": {},
   "outputs": [
    {
     "name": "stdin",
     "output_type": "stream",
     "text": [
      " 200\n",
      " 600\n",
      " 20\n"
     ]
    },
    {
     "name": "stdout",
     "output_type": "stream",
     "text": [
      "93.33333333333333\n",
      "104.44444444444444\n",
      "115.55555555555556\n",
      "126.66666666666667\n",
      "137.77777777777777\n",
      "148.88888888888889\n",
      "160.0\n",
      "171.11111111111111\n",
      "182.22222222222223\n",
      "193.33333333333334\n",
      "204.44444444444446\n",
      "215.55555555555554\n",
      "226.66666666666666\n",
      "237.77777777777777\n",
      "248.88888888888889\n",
      "260.0\n",
      "271.1111111111111\n",
      "282.22222222222223\n",
      "293.3333333333333\n",
      "304.44444444444446\n",
      "315.55555555555554\n"
     ]
    }
   ],
   "source": [
    "# farenheit to celcius in a range with step of w\n",
    "s =  int(input())\n",
    "e =  int(input())\n",
    "w =  int(input())\n",
    "\n",
    "while s<=e:\n",
    "    print( (5*(s-32)) / 9)\n",
    "    s+=w"
   ]
  },
  {
   "cell_type": "code",
   "execution_count": 42,
   "id": "d7bd5f7c-fd56-4a90-85ec-de07ab3c1b16",
   "metadata": {},
   "outputs": [
    {
     "name": "stdin",
     "output_type": "stream",
     "text": [
      " 2\n",
      " 12\n",
      " 54\n"
     ]
    },
    {
     "name": "stdout",
     "output_type": "stream",
     "text": [
      "-42\n"
     ]
    }
   ],
   "source": [
    "n= int (input())\n",
    "\n",
    "if n== 1:\n",
    "    a= int (input())\n",
    "    b= int (input())\n",
    "    print(a+b)\n",
    "elif n == 2:\n",
    "    a= int (input())\n",
    "    b= int (input())\n",
    "    print(a-b)\n",
    "elif n == 3:\n",
    "    a= int (input())\n",
    "    b= int (input())\n",
    "    print(a*b)\n",
    "elif n == 4:\n",
    "    a= int (input())\n",
    "    b= int (input())\n",
    "    print(a//b)\n",
    "elif n==5:\n",
    "    a= int (input())\n",
    "    b= int (input())\n",
    "    print(a%b)\n",
    "else:\n",
    "    print (\"Invalid Operation\")\n",
    "\n"
   ]
  },
  {
   "cell_type": "code",
   "execution_count": 44,
   "id": "3b86ffba-d97a-4c1e-b7a6-412bab5390bf",
   "metadata": {},
   "outputs": [
    {
     "name": "stdin",
     "output_type": "stream",
     "text": [
      " 654654546464\n"
     ]
    },
    {
     "name": "stdout",
     "output_type": "stream",
     "text": [
      "464645456456\n"
     ]
    }
   ],
   "source": [
    "# reverse a number\n",
    "n=int(input())\n",
    "r=0\n",
    "while n!=0:\n",
    "    l=n%10\n",
    "    r=r*10 + l\n",
    "    n=n//10\n",
    "print(r)"
   ]
  },
  {
   "cell_type": "code",
   "execution_count": 48,
   "id": "91eb9892-6f77-4a07-a14e-7d4a63b292ac",
   "metadata": {},
   "outputs": [
    {
     "name": "stdin",
     "output_type": "stream",
     "text": [
      " 5545\n"
     ]
    },
    {
     "name": "stdout",
     "output_type": "stream",
     "text": [
      "Not Palindeome\n"
     ]
    }
   ],
   "source": [
    "# palindrome\n",
    "\n",
    "# reverse the number and check\n",
    "n=int(input())\n",
    "i=n\n",
    "r=0\n",
    "while n!=0:\n",
    "    l=n%10\n",
    "    r=r*10 + l\n",
    "    n=n//10\n",
    "print(\"Palindrome\") if r==i else print(\"Not Palindeome\")"
   ]
  },
  {
   "cell_type": "code",
   "execution_count": 52,
   "id": "1f3fce68-f252-49c5-be7c-e526ef1e413e",
   "metadata": {},
   "outputs": [
    {
     "name": "stdin",
     "output_type": "stream",
     "text": [
      " 45666\n"
     ]
    },
    {
     "name": "stdout",
     "output_type": "stream",
     "text": [
      "even 22\n",
      "odd 5\n"
     ]
    }
   ],
   "source": [
    "#sum of even digits and sum of odd digits\n",
    "# ternary operator lo += use cheyalemu\n",
    "n = int(input())\n",
    "\n",
    "e = 0\n",
    "odd = 0\n",
    "\n",
    "while n != 0:\n",
    "    l = n % 10\n",
    "    if l % 2 == 0:\n",
    "        e += l\n",
    "    else:\n",
    "        odd += l\n",
    "    n = n // 10\n",
    "\n",
    "print(\"even\", e)\n",
    "print(\"odd\", odd)\n"
   ]
  },
  {
   "cell_type": "code",
   "execution_count": 5,
   "id": "c82bb4db-28b5-4d4b-893f-ef581b282068",
   "metadata": {},
   "outputs": [
    {
     "name": "stdin",
     "output_type": "stream",
     "text": [
      " 15\n"
     ]
    },
    {
     "name": "stdout",
     "output_type": "stream",
     "text": [
      "610\n"
     ]
    }
   ],
   "source": [
    "# nth fibanocci\n",
    "def fib(n):\n",
    "    if n==1 or n==2:\n",
    "        return 1\n",
    "    else:\n",
    "        return fib(n-1) + fib(n-2)\n",
    "\n",
    "n= int(input())\n",
    "print(fib(n))\n"
   ]
  },
  {
   "cell_type": "markdown",
   "id": "8753386c-ab31-476d-94a4-7e9bcdd58c2a",
   "metadata": {},
   "source": [
    "# PATTERNS"
   ]
  },
  {
   "cell_type": "code",
   "execution_count": 7,
   "id": "3a8cba72-06f3-4898-b23c-890d6db371e8",
   "metadata": {},
   "outputs": [
    {
     "name": "stdin",
     "output_type": "stream",
     "text": [
      " 5\n"
     ]
    },
    {
     "name": "stdout",
     "output_type": "stream",
     "text": [
      "*****\n",
      "*****\n",
      "*****\n",
      "*****\n",
      "*****\n"
     ]
    }
   ],
   "source": [
    "# Steps to approach a pattern\n",
    "# --->\n",
    "# ---> print line by line \n",
    "\n",
    "# 1.No of rows\n",
    "# 2.No of columns to print at generic ith row => can be a function of n,i,j =>f(n,i,j)\n",
    "# 3.What to print\n",
    "\n",
    "# SQUARE PATTERN\n",
    "\n",
    "# print command go to next line automatically\n",
    "n=int(input())\n",
    "i=1\n",
    "while(i<=n):\n",
    "    j=1\n",
    "    while j<=n:\n",
    "        print(\"*\",end=\"\")\n",
    "        j+=1\n",
    "    print()\n",
    "    i+=1"
   ]
  },
  {
   "cell_type": "markdown",
   "id": "42d55eaf-08c3-404a-9257-63d6ec32e35b",
   "metadata": {},
   "source": [
    "1111      1234    4321\n",
    "\n",
    "2222      1234    4321\n",
    "\n",
    "3333      1234    4321\n",
    "\n",
    "4444      1234    4321"
   ]
  },
  {
   "cell_type": "code",
   "execution_count": 5,
   "id": "a594fe7a-da50-4c60-923e-875bf359db6f",
   "metadata": {},
   "outputs": [
    {
     "name": "stdin",
     "output_type": "stream",
     "text": [
      " 5\n"
     ]
    },
    {
     "name": "stdout",
     "output_type": "stream",
     "text": [
      "11111\n",
      "22222\n",
      "33333\n",
      "44444\n",
      "55555\n",
      "\n",
      "\n"
     ]
    }
   ],
   "source": [
    "n=int(input())\n",
    "i=1\n",
    "while(i<=n):\n",
    "    j=1\n",
    "    while j<=n:\n",
    "        print(i,end=\"\")\n",
    "        j+=1\n",
    "    print()\n",
    "    i+=1\n",
    "\n",
    "print()\n",
    "print()\n",
    "\n"
   ]
  },
  {
   "cell_type": "code",
   "execution_count": 6,
   "id": "1d3b1c43-6d5c-45ae-8dbf-15de16149ca0",
   "metadata": {},
   "outputs": [
    {
     "name": "stdin",
     "output_type": "stream",
     "text": [
      " 5\n"
     ]
    },
    {
     "name": "stdout",
     "output_type": "stream",
     "text": [
      "12345\n",
      "12345\n",
      "12345\n",
      "12345\n",
      "12345\n"
     ]
    }
   ],
   "source": [
    "n=int(input())\n",
    "i=1\n",
    "while(i<=n):\n",
    "    j=1\n",
    "    while j<=n:\n",
    "        print(j,end=\"\")\n",
    "        j+=1\n",
    "    print()\n",
    "    i+=1\n",
    "   "
   ]
  },
  {
   "cell_type": "code",
   "execution_count": 7,
   "id": "b90e74d1-d101-48b9-892e-799d6a286789",
   "metadata": {},
   "outputs": [
    {
     "name": "stdin",
     "output_type": "stream",
     "text": [
      " 5\n"
     ]
    },
    {
     "name": "stdout",
     "output_type": "stream",
     "text": [
      "54321\n",
      "54321\n",
      "54321\n",
      "54321\n",
      "54321\n"
     ]
    }
   ],
   "source": [
    "n=int(input())\n",
    "i=1\n",
    "while(i<=n):\n",
    "    j=n\n",
    "    while j>=1:\n",
    "        print(j,end=\"\")\n",
    "        j-=1\n",
    "    print()\n",
    "    i+=1"
   ]
  },
  {
   "cell_type": "code",
   "execution_count": 1,
   "id": "9e801dde-3605-4e3d-9920-08fc70c03097",
   "metadata": {},
   "outputs": [
    {
     "name": "stdin",
     "output_type": "stream",
     "text": [
      " 5\n"
     ]
    },
    {
     "name": "stdout",
     "output_type": "stream",
     "text": [
      "1\n",
      "12\n",
      "123\n",
      "1234\n",
      "12345\n"
     ]
    }
   ],
   "source": [
    "n=int(input())\n",
    "i=1\n",
    "while(i<=n):\n",
    "    j=1\n",
    "    while j<=i:\n",
    "        print(j,end=\"\")\n",
    "        j+=1\n",
    "    print()\n",
    "    i+=1"
   ]
  },
  {
   "cell_type": "code",
   "execution_count": 2,
   "id": "197b1d06-e1d7-4543-88a6-8d87a2960d39",
   "metadata": {},
   "outputs": [
    {
     "name": "stdin",
     "output_type": "stream",
     "text": [
      " 5\n"
     ]
    },
    {
     "name": "stdout",
     "output_type": "stream",
     "text": [
      "1\n",
      "23\n",
      "345\n",
      "4567\n",
      "56789\n"
     ]
    }
   ],
   "source": [
    "n=int(input())\n",
    "i=1\n",
    "while(i<=n):\n",
    "    j=1\n",
    "    k=i\n",
    "    while j<=i:\n",
    "        print(k,end=\"\")\n",
    "        k+=1\n",
    "        j+=1\n",
    "    print()\n",
    "    i+=1\n",
    "\n",
    "# or i+j-1"
   ]
  },
  {
   "cell_type": "code",
   "execution_count": 8,
   "id": "aabb3a8b-6829-4708-a945-42c4a667ce2d",
   "metadata": {},
   "outputs": [
    {
     "name": "stdin",
     "output_type": "stream",
     "text": [
      " 5\n"
     ]
    },
    {
     "name": "stdout",
     "output_type": "stream",
     "text": [
      "1 \n",
      "2 3 \n",
      "4 5 6 \n",
      "7 8 9 10 \n",
      "11 12 13 14 15 \n"
     ]
    }
   ],
   "source": [
    "n=int(input())\n",
    "i=1\n",
    "k=1\n",
    "while(i<=n):\n",
    "    j=1\n",
    "    while j<=i:\n",
    "        print(k,end=\" \")\n",
    "        k+=1\n",
    "        j+=1\n",
    "    print()\n",
    "    i+=1"
   ]
  },
  {
   "cell_type": "markdown",
   "id": "e5be6bc5-dac9-4501-bdc1-6123a0c0e470",
   "metadata": {},
   "source": [
    "## Character Patterns\n",
    "\n",
    "in python \n",
    "str + int = invalid\n",
    "\n",
    "ord('A')= ascii value-> ord gives only for single char not \"AB\"\n",
    "\n",
    "chr(ascii) = character"
   ]
  },
  {
   "cell_type": "code",
   "execution_count": 11,
   "id": "5bd3693e-79e7-49be-9f1f-002f550574b9",
   "metadata": {},
   "outputs": [
    {
     "name": "stdin",
     "output_type": "stream",
     "text": [
      " 5\n"
     ]
    },
    {
     "name": "stdout",
     "output_type": "stream",
     "text": [
      "A B C D E \n",
      "A B C D E \n",
      "A B C D E \n",
      "A B C D E \n",
      "A B C D E \n"
     ]
    }
   ],
   "source": [
    "n=int(input())\n",
    "i=1\n",
    "while(i<=n):\n",
    "    j=1\n",
    "    while j<=n:\n",
    "        print(chr(ord('A')+j-1),end=\" \")\n",
    "        j+=1\n",
    "    print()\n",
    "    i+=1"
   ]
  },
  {
   "cell_type": "code",
   "execution_count": 6,
   "id": "66d02a2a-7a03-4ad5-86d3-448584ca82bb",
   "metadata": {},
   "outputs": [
    {
     "name": "stdin",
     "output_type": "stream",
     "text": [
      " 5\n"
     ]
    },
    {
     "name": "stdout",
     "output_type": "stream",
     "text": [
      "A B C D E \n",
      "B C D E F \n",
      "C D E F G \n",
      "D E F G H \n",
      "E F G H I \n"
     ]
    }
   ],
   "source": [
    "n=int(input())\n",
    "i=1\n",
    "while(i<=n):\n",
    "    j=1\n",
    "    while j<=n:\n",
    "        print(chr(ord('A')+i+j-2),end=\" \")\n",
    "        j+=1\n",
    "    print()\n",
    "    i+=1"
   ]
  },
  {
   "cell_type": "code",
   "execution_count": 7,
   "id": "7c768aa5-fdf6-4426-8b0d-c4d1a00c63b2",
   "metadata": {},
   "outputs": [
    {
     "name": "stdin",
     "output_type": "stream",
     "text": [
      " 5\n"
     ]
    },
    {
     "name": "stdout",
     "output_type": "stream",
     "text": [
      "E \n",
      "D E \n",
      "C D E \n",
      "B C D E \n",
      "A B C D E \n"
     ]
    }
   ],
   "source": [
    "n=int(input())\n",
    "i=1\n",
    "\n",
    "while(i<=n):\n",
    "    j=1\n",
    "    k=n-i+1\n",
    "    while j<=i:\n",
    "        print(chr(ord('A')+ k-1),end=\" \")\n",
    "        k+=1\n",
    "        j+=1\n",
    "    print()\n",
    "    i+=1"
   ]
  },
  {
   "cell_type": "markdown",
   "id": "a1ce993b-3dc3-4c71-8b71-3de72c358bfc",
   "metadata": {},
   "source": [
    "## INVERTED PATTERNS"
   ]
  },
  {
   "cell_type": "code",
   "execution_count": 14,
   "id": "0e76266b-f40a-4cf0-abdd-476908826d2b",
   "metadata": {},
   "outputs": [
    {
     "name": "stdin",
     "output_type": "stream",
     "text": [
      " 5\n"
     ]
    },
    {
     "name": "stdout",
     "output_type": "stream",
     "text": [
      "* * * * * \n",
      "* * * * \n",
      "* * * \n",
      "* * \n",
      "* \n"
     ]
    }
   ],
   "source": [
    "n=int(input())\n",
    "i=1\n",
    "while(i<=n):\n",
    "    j=1\n",
    "    while j<=(n-i+1):\n",
    "        print(\"*\",end=\" \")\n",
    "        j+=1\n",
    "    print()\n",
    "    i+=1"
   ]
  },
  {
   "cell_type": "code",
   "execution_count": 15,
   "id": "472ef9eb-e11b-4fce-b43f-14fbd08a50fe",
   "metadata": {},
   "outputs": [
    {
     "name": "stdin",
     "output_type": "stream",
     "text": [
      " 5\n"
     ]
    },
    {
     "name": "stdout",
     "output_type": "stream",
     "text": [
      "1 2 3 4 5 \n",
      "1 2 3 4 \n",
      "1 2 3 \n",
      "1 2 \n",
      "1 \n"
     ]
    }
   ],
   "source": [
    "n=int(input())\n",
    "i=1\n",
    "while(i<=n):\n",
    "    j=1\n",
    "    while j<=(n-i+1):\n",
    "        print(j,end=\" \")\n",
    "        j+=1\n",
    "    print()\n",
    "    i+=1"
   ]
  },
  {
   "cell_type": "markdown",
   "id": "7bbd499f-ec46-4e33-aadb-e88fee882b88",
   "metadata": {},
   "source": [
    "## Reversed Pattern or Mirror Pattern"
   ]
  },
  {
   "cell_type": "code",
   "execution_count": 19,
   "id": "dcffe68c-49f0-4d4c-893e-1e7dde5a950f",
   "metadata": {},
   "outputs": [
    {
     "name": "stdin",
     "output_type": "stream",
     "text": [
      " 10\n"
     ]
    },
    {
     "name": "stdout",
     "output_type": "stream",
     "text": [
      "         *\n",
      "        **\n",
      "       ***\n",
      "      ****\n",
      "     *****\n",
      "    ******\n",
      "   *******\n",
      "  ********\n",
      " *********\n",
      "**********\n"
     ]
    }
   ],
   "source": [
    "n=int(input())\n",
    "i=1\n",
    "while(i<=n):\n",
    "    s=1\n",
    "    while s<=(n-i):\n",
    "        print(\" \",end=\"\")\n",
    "        s+=1 \n",
    "    j=1\n",
    "    while j<=(i):\n",
    "        print(\"*\",end=\"\")\n",
    "        j+=1\n",
    "    print()\n",
    "    i+=1"
   ]
  },
  {
   "cell_type": "markdown",
   "id": "9f0dc90a-588d-42b9-83d4-5996ae04f888",
   "metadata": {},
   "source": [
    "## Isoceles Pattern"
   ]
  },
  {
   "cell_type": "code",
   "execution_count": 9,
   "id": "4800992d-740c-4c10-89ec-e4ac48f54f19",
   "metadata": {},
   "outputs": [
    {
     "name": "stdin",
     "output_type": "stream",
     "text": [
      " 5\n"
     ]
    },
    {
     "name": "stdout",
     "output_type": "stream",
     "text": [
      "    1\n",
      "   121\n",
      "  12321\n",
      " 1234321\n",
      "123454321\n"
     ]
    }
   ],
   "source": [
    "n=int(input())\n",
    "i=1\n",
    "while(i<=n):\n",
    "    # Spaces\n",
    "    s=1\n",
    "    while s<=(n-i):\n",
    "        print(\" \",end=\"\")\n",
    "        s+=1 \n",
    "    # increasing sequence\n",
    "    j=1\n",
    "    while j<=i:\n",
    "        print(j,end=\"\")\n",
    "        j+=1\n",
    "    k=1\n",
    "    j=j-1\n",
    "    # decreasing sequence\n",
    "    while k<=i-1:\n",
    "        j=j-1\n",
    "        print(j,end=\"\")\n",
    "\n",
    "        k+=1\n",
    "    print()\n",
    "    i+=1"
   ]
  },
  {
   "cell_type": "code",
   "execution_count": 10,
   "id": "fb981b28-98ca-4673-af27-fe2db4238ffd",
   "metadata": {},
   "outputs": [
    {
     "name": "stdin",
     "output_type": "stream",
     "text": [
      " 5\n"
     ]
    },
    {
     "name": "stdout",
     "output_type": "stream",
     "text": [
      "    1\n",
      "   232\n",
      "  34543\n",
      " 4567654\n",
      "567898765\n"
     ]
    }
   ],
   "source": [
    "n=int(input())\n",
    "i=1\n",
    "while(i<=n):\n",
    "    # Spaces\n",
    "    s=1\n",
    "    while s<=(n-i):\n",
    "        print(\" \",end=\"\")\n",
    "        s+=1 \n",
    "        \n",
    "    # increasing sequence\n",
    "    j=1\n",
    "    while j<=i:\n",
    "        print(j+i-1,end=\"\")\n",
    "        j+=1\n",
    "    k=1\n",
    "    j=j-1\n",
    "    j=j+i-1\n",
    "    # decreasing sequence\n",
    "    while k<=i-1:\n",
    "        j=j-1\n",
    "        print(j,end=\"\")\n",
    "\n",
    "        k+=1\n",
    "    print()\n",
    "    i+=1"
   ]
  },
  {
   "cell_type": "code",
   "execution_count": null,
   "id": "81f5dbb0-7e99-4c02-b83a-f44a7f0b26a6",
   "metadata": {},
   "outputs": [],
   "source": []
  },
  {
   "cell_type": "code",
   "execution_count": 8,
   "id": "0c450418-f8fb-4e40-a576-29bb446670d0",
   "metadata": {},
   "outputs": [
    {
     "name": "stdin",
     "output_type": "stream",
     "text": [
      " 5\n"
     ]
    },
    {
     "name": "stdout",
     "output_type": "stream",
     "text": [
      "    *\n",
      "   ***\n",
      "  *****\n",
      " *******\n",
      "*********\n"
     ]
    }
   ],
   "source": [
    "n=int(input())\n",
    "i=1\n",
    "while(i<=n):\n",
    "    # Spaces\n",
    "    s=1\n",
    "    while s<=(n-i):\n",
    "        print(\" \",end=\"\")\n",
    "        s+=1 \n",
    "    # increasing sequence\n",
    "    j=1\n",
    "    while j<=i:\n",
    "        print(\"*\",end=\"\")\n",
    "        j+=1\n",
    "    k=1\n",
    "    j=j-1\n",
    "    # decreasing sequence\n",
    "    while k<=i-1:\n",
    "        j=j-1\n",
    "        print(\"*\",end=\"\")\n",
    "\n",
    "        k+=1\n",
    "    print()\n",
    "    i+=1"
   ]
  },
  {
   "cell_type": "code",
   "execution_count": 12,
   "id": "e565b57e-c2d8-4275-89e3-f9cd5ae51815",
   "metadata": {},
   "outputs": [
    {
     "name": "stdin",
     "output_type": "stream",
     "text": [
      " 10\n"
     ]
    },
    {
     "name": "stdout",
     "output_type": "stream",
     "text": [
      "    *\n",
      "   ***\n",
      "  *****\n",
      " *******\n",
      "*********\n",
      " *******\n",
      "  *****\n",
      "   ***\n",
      "    *\n"
     ]
    }
   ],
   "source": [
    "n=int(input())\n",
    "n1=(n+1)//2\n",
    "n2=n1-1\n",
    "i=1\n",
    "while(i<=n1):\n",
    "    a=1\n",
    "    while(a<=n1-i):\n",
    "        print(\" \",end=\"\")\n",
    "        a=a+1\n",
    "    b=1\n",
    "    while(b<=2*i-1):\n",
    "        print('*',end=\"\")\n",
    "        b=b+1\n",
    "    print()\n",
    "    i=i+1\n",
    "i=n2\n",
    "while(i>=1):\n",
    "    a=1\n",
    "    while(a<=n2 - i +1):\n",
    "        print(\" \",end='')\n",
    "        a = a+1\n",
    "    j=1\n",
    "    while(j<=2*i-1):\n",
    "        print('*',end=\"\")\n",
    "        j=j+1\n",
    "    print()\n",
    "    i = i-1"
   ]
  },
  {
   "cell_type": "markdown",
   "id": "6e974af5-b722-4f8e-84c3-d08d08a215a0",
   "metadata": {},
   "source": [
    "## For Loop and Range Method\n",
    "for i in x:\n",
    "\n",
    "where x is a sequence\n",
    "ex:strings, maps,....\n",
    "\n",
    "range(start,stop,step/stride)\n",
    "\n",
    "i goes up to stop-1"
   ]
  },
  {
   "cell_type": "code",
   "execution_count": 14,
   "id": "a6915b7a-d723-44fa-87d3-0921de5c341d",
   "metadata": {},
   "outputs": [
    {
     "name": "stdout",
     "output_type": "stream",
     "text": [
      "Hai, This is Ismail"
     ]
    }
   ],
   "source": [
    "for i in \"Hai, This is Ismail\":\n",
    "    print(i, end=\"\")"
   ]
  },
  {
   "cell_type": "code",
   "execution_count": 16,
   "id": "3d4615c7-dee5-4f62-9c26-2eeee443e146",
   "metadata": {},
   "outputs": [
    {
     "name": "stdin",
     "output_type": "stream",
     "text": [
      " 5\n"
     ]
    },
    {
     "name": "stdout",
     "output_type": "stream",
     "text": [
      "1\n",
      "2\n",
      "3\n",
      "4\n",
      "5\n"
     ]
    }
   ],
   "source": [
    "n= int(input())\n",
    "for i in range(1,n+1,1):\n",
    "    print(i)"
   ]
  },
  {
   "cell_type": "code",
   "execution_count": 19,
   "id": "2da71598-2f11-4556-9585-3728374c8504",
   "metadata": {},
   "outputs": [
    {
     "name": "stdin",
     "output_type": "stream",
     "text": [
      " 5\n"
     ]
    },
    {
     "name": "stdout",
     "output_type": "stream",
     "text": [
      "0\n",
      "1\n",
      "2\n",
      "3\n",
      "4\n",
      "5\n"
     ]
    }
   ],
   "source": [
    "#single argument then it takes as end\n",
    "n= int(input())\n",
    "for i in range(n+1):\n",
    "    print(i)"
   ]
  },
  {
   "cell_type": "code",
   "execution_count": 20,
   "id": "4338175b-1cfa-4be4-9b0c-a53ffbfacdd1",
   "metadata": {},
   "outputs": [
    {
     "name": "stdin",
     "output_type": "stream",
     "text": [
      " 5\n"
     ]
    }
   ],
   "source": [
    "#double argument then it takes as start,end\n",
    "n= int(input())\n",
    "for i in range(n+1,1):\n",
    "    print(i)"
   ]
  },
  {
   "cell_type": "code",
   "execution_count": 16,
   "id": "35007e7e-f6cb-4e4a-b28d-df52afdb6f06",
   "metadata": {},
   "outputs": [
    {
     "name": "stdin",
     "output_type": "stream",
     "text": [
      " 5\n"
     ]
    },
    {
     "name": "stdout",
     "output_type": "stream",
     "text": [
      "4\n",
      "3\n",
      "2\n",
      "1\n",
      "0\n"
     ]
    }
   ],
   "source": [
    "#numbers from n-1 to 0\n",
    "# end should be -1, as it goes up to 1 only if given 0\n",
    "n= int(input())\n",
    "for i in range(n-1,-1,-1):\n",
    "    print(i)"
   ]
  },
  {
   "cell_type": "code",
   "execution_count": 24,
   "id": "a2b1e53e-07e6-4929-92d9-8be64b83606c",
   "metadata": {},
   "outputs": [
    {
     "name": "stdin",
     "output_type": "stream",
     "text": [
      " 2\n",
      " 30\n"
     ]
    },
    {
     "name": "stdout",
     "output_type": "stream",
     "text": [
      "3\n",
      "6\n",
      "9\n",
      "12\n",
      "15\n",
      "18\n",
      "21\n",
      "24\n",
      "27\n",
      "30\n"
     ]
    }
   ],
   "source": [
    "# in range of a and b , print muliples of 3\n",
    "# a<b\n",
    "a=int(input())\n",
    "b=int(input())\n",
    "for i in range(a,b+1):\n",
    "    if i%3==0:\n",
    "        print(i)"
   ]
  },
  {
   "cell_type": "code",
   "execution_count": 26,
   "id": "4fe0ad6d-87e0-4067-9976-5de503d3b49d",
   "metadata": {},
   "outputs": [
    {
     "name": "stdin",
     "output_type": "stream",
     "text": [
      " 52\n",
      " 85\n"
     ]
    },
    {
     "name": "stdout",
     "output_type": "stream",
     "text": [
      "54\n",
      "57\n",
      "60\n",
      "63\n",
      "66\n",
      "69\n",
      "72\n",
      "75\n",
      "78\n",
      "81\n",
      "84\n"
     ]
    }
   ],
   "source": [
    "# in range of a and b , print muliples of 3, with jump of 3\n",
    "# a<b\n",
    "a=int(input())\n",
    "b=int(input())\n",
    "s=0\n",
    "if a%3==0:\n",
    "    s=a\n",
    "elif a%3==1:\n",
    "    s= a+2\n",
    "else:\n",
    "    s= a+1\n",
    "    \n",
    "for i in range(s,b+1,3):\n",
    "        print(i)"
   ]
  },
  {
   "cell_type": "code",
   "execution_count": 44,
   "id": "a36cecb8-1c7e-4661-bb34-2f320dd7566a",
   "metadata": {},
   "outputs": [
    {
     "name": "stdin",
     "output_type": "stream",
     "text": [
      " 24\n"
     ]
    },
    {
     "name": "stdout",
     "output_type": "stream",
     "text": [
      "Not Prime\n"
     ]
    }
   ],
   "source": [
    "# Prime using for loop\n",
    "# math.sqrt(n) gives float\n",
    "\n",
    "import math\n",
    "n =int(input())\n",
    "prime = True\n",
    "for i in range(2,int(math.sqrt(n))+1):\n",
    "    if n%i == 0:\n",
    "        print(\"Not Prime\")\n",
    "        prime = False\n",
    "        break\n",
    "if prime:\n",
    "    print(\"Prime\")"
   ]
  },
  {
   "cell_type": "markdown",
   "id": "d1b96a5f-b911-4c7b-ac39-68237ccd84f7",
   "metadata": {},
   "source": [
    "### Wrong Syntax\n",
    "for i in range(0.1, 0.4,0.1):\n",
    "range accepts only integer values"
   ]
  },
  {
   "cell_type": "code",
   "execution_count": 36,
   "id": "d02e1695-3d32-4386-82cf-4391a67694f4",
   "metadata": {},
   "outputs": [
    {
     "name": "stdin",
     "output_type": "stream",
     "text": [
      " 5\n"
     ]
    },
    {
     "name": "stdout",
     "output_type": "stream",
     "text": [
      "    1\n",
      "   232\n",
      "  34543\n",
      " 4567654\n",
      "567898765\n"
     ]
    }
   ],
   "source": [
    "# Pattern using for\n",
    "n = int(input())\n",
    "\n",
    "for i in range(1,n+1):\n",
    "    # spaces\n",
    "    for j in range(1, n-i+1):\n",
    "        print(\" \", end=\"\")\n",
    "    # increasing trick: i to 2*i-1\n",
    "    temp= i\n",
    "    for k in range(1,i+1):\n",
    "        print(temp, end=\"\")\n",
    "        temp+=1\n",
    "    # decreasing trick: 2*i-2 to i\n",
    "    temp = temp-1\n",
    "    for k in range(1,i):\n",
    "        temp = temp-1\n",
    "        print(temp, end=\"\")\n",
    "    print()\n",
    "\n"
   ]
  },
  {
   "cell_type": "code",
   "execution_count": 43,
   "id": "4e6c0ae3-bef5-4e65-b911-8dc748ac91c5",
   "metadata": {},
   "outputs": [
    {
     "name": "stdin",
     "output_type": "stream",
     "text": [
      " 5\n"
     ]
    },
    {
     "name": "stdout",
     "output_type": "stream",
     "text": [
      "    1\n",
      "   232\n",
      "  34543\n",
      " 4567654\n",
      "567898765\n"
     ]
    }
   ],
   "source": [
    "# Pattern using for\n",
    "n = int(input())\n",
    "\n",
    "for i in range(1,n+1):\n",
    "    # spaces\n",
    "    for j in range(1, n-i+1):\n",
    "        print(\" \", end=\"\")\n",
    "        \n",
    "    # increasing => i to 2*i-1\n",
    "    for k in range(i,2*i):\n",
    "        print(k, end=\"\")\n",
    "        \n",
    "    # decreasing => 2*i-2 to i\n",
    "    # i-1, i <----- 2*i-2\n",
    "    for l in range(2*i-2,i-1,-1):\n",
    "        print(l, end=\"\")\n",
    "    print()\n",
    "\n"
   ]
  },
  {
   "cell_type": "markdown",
   "id": "300dd099-7f0a-4976-942d-cebebbec2ede",
   "metadata": {},
   "source": [
    "## KeyWords"
   ]
  },
  {
   "cell_type": "markdown",
   "id": "bba59c2f-e531-427a-b2b1-b6a60fd9b35b",
   "metadata": {},
   "source": [
    "### Break\n",
    "### Else Keyword with Loops"
   ]
  },
  {
   "cell_type": "code",
   "execution_count": 49,
   "id": "67f8c756-accb-4c60-9068-db724e7f5c9a",
   "metadata": {},
   "outputs": [
    {
     "name": "stdout",
     "output_type": "stream",
     "text": [
      "2 7\n",
      "3 7\n",
      "4 7\n",
      "5 7\n",
      "6 7\n",
      "Else statement\n"
     ]
    }
   ],
   "source": [
    "# break: Terminating keyword\n",
    "# if two looping statement if break is present in inner loop then break can only break the\n",
    "# inner execution only \n",
    "\n",
    "\n",
    "#at breaking the loop, else will be executed\n",
    "a=2\n",
    "b=7\n",
    "while a<b:\n",
    "    print(a,b)\n",
    "    a+=1\n",
    "else:\n",
    "    print(\"Else statement\")\n"
   ]
  },
  {
   "cell_type": "code",
   "execution_count": null,
   "id": "487a0b4f-0bf4-4235-a5f1-1aa300bfa505",
   "metadata": {},
   "outputs": [],
   "source": [
    "\n",
    "# else statement in loops is more useful when used with break keyword\n",
    "\n",
    "# when used with break.\n",
    "# the else will execute only when condition at while is false,\n",
    "# but it will not run when break is executed is called\n"
   ]
  },
  {
   "cell_type": "code",
   "execution_count": 52,
   "id": "45621a56-8e61-49e7-98b7-1c880fc31e11",
   "metadata": {},
   "outputs": [
    {
     "name": "stdin",
     "output_type": "stream",
     "text": [
      " 5\n"
     ]
    },
    {
     "name": "stdout",
     "output_type": "stream",
     "text": [
      "Prime\n"
     ]
    }
   ],
   "source": [
    "# Prime using for loop\n",
    "import math\n",
    "n =int(input())\n",
    "for i in range(2,int(math.sqrt(n))+1):\n",
    "    if n%i == 0:\n",
    "        print(\"Not Prime\")\n",
    "        break\n",
    "else:\n",
    "    print(\"Prime\")"
   ]
  },
  {
   "cell_type": "markdown",
   "id": "91a107e0-dddf-4645-8e14-47c4237446fb",
   "metadata": {},
   "source": [
    "### Continue"
   ]
  },
  {
   "cell_type": "code",
   "execution_count": 59,
   "id": "3e76e590-2606-4675-a734-49bfa723363e",
   "metadata": {},
   "outputs": [
    {
     "name": "stdout",
     "output_type": "stream",
     "text": [
      "1\n",
      "2\n",
      "3\n",
      "4\n",
      "6\n",
      "7\n",
      "8\n",
      "9\n"
     ]
    }
   ],
   "source": [
    "# continue helps to skip \n",
    "for i in range(1, 10):\n",
    "    if i%5==0:\n",
    "        continue\n",
    "    else:\n",
    "        print(i)"
   ]
  },
  {
   "cell_type": "code",
   "execution_count": null,
   "id": "c33fa050-c72a-43c2-b331-6b601efc342d",
   "metadata": {},
   "outputs": [],
   "source": [
    "# in while loop, continue skips the increment, To solve: before continue do the increment"
   ]
  },
  {
   "cell_type": "markdown",
   "id": "7ee54305-63c4-4f71-9b0d-bb46f9842db2",
   "metadata": {},
   "source": [
    "# PASS"
   ]
  },
  {
   "cell_type": "code",
   "execution_count": 66,
   "id": "e73583a2-0cf1-4b97-977f-ce2cb6e5ecb3",
   "metadata": {},
   "outputs": [],
   "source": [
    "# helps to pass the input\n",
    "\n",
    "# in c, c++,\n",
    "# we can do this \n",
    "# if(a>b){\n",
    "# }\n",
    "\n",
    "# in python we cant do this \n",
    "a=3\n",
    "b=4\n",
    "if a>b:\n",
    "    pass\n",
    "\n",
    "# if we are not intrested in doing anything\n",
    "# pass can be used in if,for, while \n",
    "\n",
    "\n",
    "# pass is a dummy: like todo , todo in future\n",
    "\n",
    "while i<=3:\n",
    "    pass\n",
    "    i+=1\n",
    "for i in range(1,4):\n",
    "    pass"
   ]
  },
  {
   "cell_type": "code",
   "execution_count": 68,
   "id": "28545997-b064-4ee7-b92f-d468c8b6553c",
   "metadata": {},
   "outputs": [
    {
     "name": "stdin",
     "output_type": "stream",
     "text": [
      " 10\n"
     ]
    },
    {
     "name": "stdout",
     "output_type": "stream",
     "text": [
      "5\n",
      "11\n",
      "14\n",
      "17\n",
      "23\n",
      "26\n",
      "29\n",
      "35\n",
      "38\n",
      "41\n",
      "47\n"
     ]
    }
   ],
   "source": [
    " # Tems of Ap\n",
    "# print first x terms of the series 3*N+2 which are not multiples of 4\n",
    "\n",
    "x= int(input())\n",
    "n=0\n",
    "k=1\n",
    "\n",
    "while n<=x:\n",
    "    if (3*k+2)% 4 != 0:\n",
    "        print(3*k+2)\n",
    "        n+=1\n",
    "    k+=1\n",
    "        \n",
    "    \n",
    "        \n",
    "    \n",
    "    "
   ]
  },
  {
   "cell_type": "code",
   "execution_count": 69,
   "id": "62916cb8-69c0-4e6d-9a56-aa7840ecf7a3",
   "metadata": {},
   "outputs": [
    {
     "name": "stdin",
     "output_type": "stream",
     "text": [
      " 5\n"
     ]
    },
    {
     "name": "stdout",
     "output_type": "stream",
     "text": [
      "Product 120\n",
      "Sum 15\n"
     ]
    }
   ],
   "source": [
    "# sum of numbers 1 to n\n",
    "n= int(input())\n",
    "sum=0\n",
    "for i in range(1, n+1):\n",
    "    sum+=i\n",
    "# product of numbers froom 1 to n\n",
    "product =1\n",
    "\n",
    "for i in range(1, n+1):\n",
    "    product*=i\n",
    "\n",
    "print(\"Product\",product)\n",
    "print(\"Sum\",sum)"
   ]
  },
  {
   "cell_type": "markdown",
   "id": "cf0ed551-2b8c-46a1-a176-485aef82605e",
   "metadata": {},
   "source": [
    "### Strings and Lists\n",
    "\" \" or ' ' doesnt matter\n",
    "strings: collection of characters\n",
    "List: collection of collections"
   ]
  },
  {
   "cell_type": "code",
   "execution_count": 1,
   "id": "9373cfd7-9a03-44bc-8a3c-2ac6bc362513",
   "metadata": {},
   "outputs": [
    {
     "data": {
      "text/plain": [
       "'This is a string'"
      ]
     },
     "execution_count": 1,
     "metadata": {},
     "output_type": "execute_result"
    }
   ],
   "source": [
    "a=\"This is a string\"\n",
    "a='This is also a sTring'\n",
    "a"
   ]
  },
  {
   "cell_type": "code",
   "execution_count": 6,
   "id": "e8cadea7-fab4-430b-b09d-045a727235f7",
   "metadata": {},
   "outputs": [
    {
     "data": {
      "text/plain": [
       "str"
      ]
     },
     "execution_count": 6,
     "metadata": {},
     "output_type": "execute_result"
    }
   ],
   "source": [
    "c='a'\n",
    "type(c) #there are no character type in python"
   ]
  },
  {
   "cell_type": "code",
   "execution_count": 5,
   "id": "e359e922-d6f4-4aeb-9c5d-bf3c6c8ff9c5",
   "metadata": {},
   "outputs": [
    {
     "data": {
      "text/plain": [
       "'T'"
      ]
     },
     "execution_count": 5,
     "metadata": {},
     "output_type": "execute_result"
    }
   ],
   "source": [
    "a[0]"
   ]
  },
  {
   "cell_type": "code",
   "execution_count": 6,
   "id": "efa1c20e-308e-4061-b19a-9e0dd0ed5504",
   "metadata": {},
   "outputs": [
    {
     "data": {
      "text/plain": [
       "str"
      ]
     },
     "execution_count": 6,
     "metadata": {},
     "output_type": "execute_result"
    }
   ],
   "source": [
    "type(a[0])"
   ]
  },
  {
   "cell_type": "code",
   "execution_count": null,
   "id": "3f708021-7ed9-49c5-b51f-5cb64915f379",
   "metadata": {},
   "outputs": [],
   "source": []
  },
  {
   "cell_type": "code",
   "execution_count": 7,
   "id": "43b408e1-71ed-4ede-9d6c-2a63f6b610cc",
   "metadata": {},
   "outputs": [
    {
     "ename": "SyntaxError",
     "evalue": "invalid syntax (3624237420.py, line 4)",
     "output_type": "error",
     "traceback": [
      "\u001b[1;36m  Cell \u001b[1;32mIn[7], line 4\u001b[1;36m\u001b[0m\n\u001b[1;33m    a[3]='a' //cant be changed\u001b[0m\n\u001b[1;37m                    ^\u001b[0m\n\u001b[1;31mSyntaxError\u001b[0m\u001b[1;31m:\u001b[0m invalid syntax\n"
     ]
    }
   ],
   "source": [
    "# Strings are immutable\n",
    "\n",
    "a=\"This is\"\n",
    "a[3]='a' //cant be changed\n",
    "\n",
    "# string is immutable, variable is not\n",
    "a=\"Other string\" #we are not changing \"Other String\""
   ]
  },
  {
   "cell_type": "code",
   "execution_count": 8,
   "id": "68a5a0c5-2630-4c01-bf48-f7b67118ad8d",
   "metadata": {},
   "outputs": [],
   "source": [
    "# For '' use \"\" or for '' use \"\"\n",
    "# For \"\" and '': we can use escape character \\'\n",
    "\n",
    "a=' it\\'s a goog'"
   ]
  },
  {
   "cell_type": "code",
   "execution_count": 10,
   "id": "9ea6f9f6-4235-4dae-a82c-e31f0632e04c",
   "metadata": {},
   "outputs": [
    {
     "name": "stdout",
     "output_type": "stream",
     "text": [
      " it's a google product\n",
      " it's a google product"
     ]
    }
   ],
   "source": [
    "# looping a string\n",
    "a=' it\\'s a google product'\n",
    "for i in a:\n",
    "    print(i,end=\"\") \n",
    "print()\n",
    "for i in range(0,len(a)):\n",
    "    print(a[i],end=\"\")"
   ]
  },
  {
   "cell_type": "code",
   "execution_count": 17,
   "id": "bf77cd3e-4d01-4877-a51e-735cea8472b8",
   "metadata": {},
   "outputs": [
    {
     "name": "stdout",
     "output_type": "stream",
     "text": [
      "This is a and This is b\n",
      "This is a and This is b\n"
     ]
    }
   ],
   "source": [
    "# Concatanate two strings\n",
    "a=\"This is a\"\n",
    "b=\" and This is b\"\n",
    "c= a+b\n",
    "a=a+b\n",
    "print(a)\n",
    "print(c)"
   ]
  },
  {
   "cell_type": "code",
   "execution_count": 18,
   "id": "44a4e51b-7ac9-49cf-a838-fa48aed947d8",
   "metadata": {},
   "outputs": [
    {
     "name": "stdout",
     "output_type": "stream",
     "text": [
      "False\n"
     ]
    }
   ],
   "source": [
    "# string comparing\n",
    "a='A'\n",
    "b='B'\n",
    "print(a>b)\n",
    "# Captital(65 to 90) then  Lowers(high ascii value 97 to 122)\n",
    "\n",
    "# 'Z' < 'a' \n",
    "\n"
   ]
  },
  {
   "cell_type": "code",
   "execution_count": 17,
   "id": "a99321c1-3f0b-4d5d-8949-4e2ca252f2e3",
   "metadata": {},
   "outputs": [
    {
     "name": "stdout",
     "output_type": "stream",
     "text": [
      "['This', 'is', 'a', 'is']\n",
      "['Th', ' ', ' a ', '']\n"
     ]
    }
   ],
   "source": [
    "# split function to divide into parts \" \"\n",
    "a=\"This is a is\"\n",
    "print(a.split())\n",
    "\n",
    "print(a.split(\"is\"))"
   ]
  },
  {
   "cell_type": "code",
   "execution_count": 20,
   "id": "36a0d46e-1435-498d-9bad-c1cef92ce422",
   "metadata": {},
   "outputs": [
    {
     "name": "stdout",
     "output_type": "stream",
     "text": [
      "Thare are big string with are random words\n",
      "This is big string with is random words\n"
     ]
    }
   ],
   "source": [
    "# replace :not changed the orginal string , returns the new string\n",
    "\n",
    "a=\"This is big string with is random words\"\n",
    "print(a.replace(\"is\", \"are\"))\n",
    "print(a)"
   ]
  },
  {
   "cell_type": "code",
   "execution_count": null,
   "id": "ebefbf87-c454-4799-a30d-85fca9f9bb0d",
   "metadata": {},
   "outputs": [],
   "source": []
  },
  {
   "cell_type": "code",
   "execution_count": 22,
   "id": "b113c1fe-d5d7-4881-a15c-2e4b556ca6bf",
   "metadata": {},
   "outputs": [
    {
     "data": {
      "text/plain": [
       "8"
      ]
     },
     "execution_count": 22,
     "metadata": {},
     "output_type": "execute_result"
    }
   ],
   "source": [
    "# find: returns index of first occuring of string\n",
    "# if no found, return -1\n",
    "a.find(\"big\")\n"
   ]
  },
  {
   "cell_type": "code",
   "execution_count": 23,
   "id": "c6430087-91ac-4a37-aee9-68fee8101d25",
   "metadata": {},
   "outputs": [
    {
     "name": "stdout",
     "output_type": "stream",
     "text": [
      "This is big string with is random words\n",
      "THIS IS BIG STRING WITH IS RANDOM WORDS\n"
     ]
    }
   ],
   "source": [
    "# To returns the uppercase\n",
    "a.upper()\n",
    "print(a)\n",
    "# we can do\n",
    "a= a.upper()\n",
    "print(a)"
   ]
  },
  {
   "cell_type": "code",
   "execution_count": 24,
   "id": "fad547b4-7176-4fa9-9774-1374aca3f373",
   "metadata": {},
   "outputs": [
    {
     "name": "stdout",
     "output_type": "stream",
     "text": [
      "this is big string with is random words\n"
     ]
    }
   ],
   "source": [
    "# lower\n",
    "a= a.lower()\n",
    "print(a)"
   ]
  },
  {
   "cell_type": "code",
   "execution_count": 25,
   "id": "42343de0-f747-4c24-a8e8-ae379fd18bc5",
   "metadata": {},
   "outputs": [
    {
     "name": "stdout",
     "output_type": "stream",
     "text": [
      "True\n"
     ]
    }
   ],
   "source": [
    "# islower\n",
    "print(a.islower())"
   ]
  },
  {
   "cell_type": "code",
   "execution_count": 26,
   "id": "ddcddf1e-2ee8-4cb6-af6f-dc26f72987ac",
   "metadata": {},
   "outputs": [
    {
     "name": "stdout",
     "output_type": "stream",
     "text": [
      "False\n"
     ]
    }
   ],
   "source": [
    "# isupper\n",
    "print(a.isupper())"
   ]
  },
  {
   "cell_type": "code",
   "execution_count": 27,
   "id": "57fc6350-6663-4e9d-a001-28ebd8213f01",
   "metadata": {},
   "outputs": [
    {
     "name": "stdout",
     "output_type": "stream",
     "text": [
      "True\n",
      "False\n"
     ]
    }
   ],
   "source": [
    "# startswith\n",
    "print(a.startswith(\"th\"))\n",
    "print(a.endswith(\"th\"))"
   ]
  },
  {
   "cell_type": "code",
   "execution_count": 44,
   "id": "a124e311-dd6d-40d7-8339-e794ea6d1036",
   "metadata": {},
   "outputs": [
    {
     "data": {
      "text/plain": [
       "'is '"
      ]
     },
     "execution_count": 44,
     "metadata": {},
     "output_type": "execute_result"
    }
   ],
   "source": [
    "# substring in python :slicing\n",
    "# a[si:ei] : si is included and ei is not included\n",
    "\n",
    "a= \"this is a new string\"\n",
    "a[2:5]"
   ]
  },
  {
   "cell_type": "code",
   "execution_count": 45,
   "id": "aa836831-26e1-4541-bc59-e53cd626c03f",
   "metadata": {},
   "outputs": [
    {
     "data": {
      "text/plain": [
       "'is is a new string'"
      ]
     },
     "execution_count": 45,
     "metadata": {},
     "output_type": "execute_result"
    }
   ],
   "source": [
    "a[2:] #starting from 2 to end"
   ]
  },
  {
   "cell_type": "code",
   "execution_count": 46,
   "id": "13642093-0b73-4988-9c64-149178a2416d",
   "metadata": {},
   "outputs": [
    {
     "data": {
      "text/plain": [
       "'this'"
      ]
     },
     "execution_count": 46,
     "metadata": {},
     "output_type": "execute_result"
    }
   ],
   "source": [
    "a[:4]"
   ]
  },
  {
   "cell_type": "code",
   "execution_count": 50,
   "id": "64b24231-3f78-4b1f-b18a-6da1424e580e",
   "metadata": {},
   "outputs": [
    {
     "data": {
      "text/plain": [
       "'this is a new string'"
      ]
     },
     "execution_count": 50,
     "metadata": {},
     "output_type": "execute_result"
    }
   ],
   "source": [
    "a[:]"
   ]
  },
  {
   "cell_type": "code",
   "execution_count": 54,
   "id": "277b234f-5c47-4e65-97b8-ec9756a57ce0",
   "metadata": {},
   "outputs": [
    {
     "data": {
      "text/plain": [
       "'i sanw'"
      ]
     },
     "execution_count": 54,
     "metadata": {},
     "output_type": "execute_result"
    }
   ],
   "source": [
    "a[2:13:2]"
   ]
  },
  {
   "cell_type": "code",
   "execution_count": 60,
   "id": "49f1d959-6f2f-4054-bfff-6fbdb1b15a3f",
   "metadata": {},
   "outputs": [
    {
     "data": {
      "text/plain": [
       "'nirts wen a si s'"
      ]
     },
     "execution_count": 60,
     "metadata": {},
     "output_type": "execute_result"
    }
   ],
   "source": [
    "# ---->end<-----\n",
    "# end-1   end+1\n",
    "a[18:2:-1] #up to 3 reverse"
   ]
  },
  {
   "cell_type": "code",
   "execution_count": 63,
   "id": "248985f0-04e5-4dfb-9309-efceda10828d",
   "metadata": {},
   "outputs": [
    {
     "name": "stdin",
     "output_type": "stream",
     "text": [
      " codexninja\n"
     ]
    },
    {
     "data": {
      "text/plain": [
       "'codeyninja'"
      ]
     },
     "execution_count": 63,
     "metadata": {},
     "output_type": "execute_result"
    }
   ],
   "source": [
    "# replace first occurance\n",
    "s=input()\n",
    "a='x'\n",
    "b='y'\n",
    "p= s.find(a)\n",
    "\n",
    "if p!=-1:\n",
    "    ans= s[:p]+b+s[p+1:]\n",
    "ans"
   ]
  },
  {
   "cell_type": "code",
   "execution_count": 68,
   "id": "872e87d2-5511-49b0-a2c0-d98f820fd183",
   "metadata": {},
   "outputs": [
    {
     "name": "stdin",
     "output_type": "stream",
     "text": [
      " codex\n"
     ]
    },
    {
     "data": {
      "text/plain": [
       "'codey'"
      ]
     },
     "execution_count": 68,
     "metadata": {},
     "output_type": "execute_result"
    }
   ],
   "source": [
    "# replace all occurances\n",
    "# approach1: use find() replace up to find gives -1\n",
    "s=input()\n",
    "a='x'\n",
    "b='y'\n",
    "ans=s\n",
    "for i in range(0,len(ans)):\n",
    "    if ans[i]==a:\n",
    "        ans = ans[:i]+b+ans[i+1:]\n",
    "ans"
   ]
  },
  {
   "cell_type": "code",
   "execution_count": 69,
   "id": "2140892e-d727-40c5-8d5e-0c751f7b1ee7",
   "metadata": {},
   "outputs": [
    {
     "data": {
      "text/plain": [
       "'codex'"
      ]
     },
     "execution_count": 69,
     "metadata": {},
     "output_type": "execute_result"
    }
   ],
   "source": [
    "# inbuilt function of repalce: it also returns the new string\n",
    "s.replace('y','x')"
   ]
  },
  {
   "cell_type": "code",
   "execution_count": 72,
   "id": "c1e6aa4d-f3a0-4824-a400-7622ba36fc40",
   "metadata": {},
   "outputs": [
    {
     "data": {
      "text/plain": [
       "'codey'"
      ]
     },
     "execution_count": 72,
     "metadata": {},
     "output_type": "execute_result"
    }
   ],
   "source": [
    "s=s.replace('x','y')\n",
    "s"
   ]
  },
  {
   "cell_type": "code",
   "execution_count": 73,
   "id": "3d52300f-88d0-440a-948c-01b0df35e96a",
   "metadata": {},
   "outputs": [
    {
     "data": {
      "text/plain": [
       "'ab'"
      ]
     },
     "execution_count": 73,
     "metadata": {},
     "output_type": "execute_result"
    }
   ],
   "source": [
    "\"abc\"[:2]"
   ]
  },
  {
   "cell_type": "code",
   "execution_count": 28,
   "id": "c35b1f77-a9a0-4036-9df6-2dd1f7c862cf",
   "metadata": {},
   "outputs": [
    {
     "data": {
      "text/plain": [
       "'o'"
      ]
     },
     "execution_count": 28,
     "metadata": {},
     "output_type": "execute_result"
    }
   ],
   "source": [
    "str1=\"hello\"\n",
    "str1[-1] #same\n",
    "str1[-1:] #same"
   ]
  },
  {
   "cell_type": "code",
   "execution_count": 80,
   "id": "6f1bc51f-ae8a-4654-8d68-2c0edd202a3c",
   "metadata": {},
   "outputs": [
    {
     "data": {
      "text/plain": [
       "'gh'"
      ]
     },
     "execution_count": 80,
     "metadata": {},
     "output_type": "execute_result"
    }
   ],
   "source": [
    "s=\"abcdefghi\"\n",
    "s[-3:-1]"
   ]
  },
  {
   "cell_type": "markdown",
   "id": "5ad46c2a-f147-4b86-8277-774fddfb8177",
   "metadata": {},
   "source": [
    "# Lists\n",
    "collection of list,\n",
    "\n",
    "no need to define size of list and type of data it stores,\n",
    "\n",
    "list stores all kinds of data,\n",
    "\n",
    "Lists are dynamic in size:\n",
    "internally list allocates some space, if we ask more , it will copy the elements to new list and returns it\n",
    "\n",
    "We can add, remove, search"
   ]
  },
  {
   "cell_type": "code",
   "execution_count": 39,
   "id": "e9bea522-7004-4819-afa6-6a0f124deac8",
   "metadata": {},
   "outputs": [
    {
     "name": "stdout",
     "output_type": "stream",
     "text": [
      "[1, 2, 3] [3, 4, 6]\n"
     ]
    }
   ],
   "source": [
    "# both are same\n",
    "a=[1,2,3]\n",
    "b=list([3,4,6])\n",
    "print(a,b)"
   ]
  },
  {
   "cell_type": "code",
   "execution_count": 3,
   "id": "546ee459-a8fa-49cc-bcf7-7fc74d25660d",
   "metadata": {},
   "outputs": [
    {
     "data": {
      "text/plain": [
       "[]"
      ]
     },
     "execution_count": 3,
     "metadata": {},
     "output_type": "execute_result"
    }
   ],
   "source": [
    "[] #empty list"
   ]
  },
  {
   "cell_type": "code",
   "execution_count": 40,
   "id": "ef0b78de-68af-4c93-a47e-c72053f0d089",
   "metadata": {},
   "outputs": [
    {
     "data": {
      "text/plain": [
       "[1, 2, 'abc', (5+3j)]"
      ]
     },
     "execution_count": 40,
     "metadata": {},
     "output_type": "execute_result"
    }
   ],
   "source": [
    "a=[1,2,\"abc\",5+3j]\n",
    "a"
   ]
  },
  {
   "cell_type": "code",
   "execution_count": 5,
   "id": "1bdcf530-15d5-49c1-bb0f-3917a7c36816",
   "metadata": {},
   "outputs": [
    {
     "data": {
      "text/plain": [
       "[[1, 2, 3], 5]"
      ]
     },
     "execution_count": 5,
     "metadata": {},
     "output_type": "execute_result"
    }
   ],
   "source": [
    "# list of lists is possibles\n",
    "a=[[1,2,3],5]\n",
    "a"
   ]
  },
  {
   "cell_type": "code",
   "execution_count": 41,
   "id": "ba83d6f7-f694-4c97-ae86-eca581817cc0",
   "metadata": {},
   "outputs": [
    {
     "name": "stdout",
     "output_type": "stream",
     "text": [
      "[0, 0, 0, 0, 0, 0, 0, 0, 0, 0]\n"
     ]
    }
   ],
   "source": [
    "# loop with list\n",
    "\n",
    "b= [ 0 for i in range(0,10)]\n",
    "print(b)"
   ]
  },
  {
   "cell_type": "code",
   "execution_count": 42,
   "id": "9c5077f2-944b-44ca-9b75-78a896fae1cf",
   "metadata": {},
   "outputs": [
    {
     "name": "stdout",
     "output_type": "stream",
     "text": [
      "[0, 1, 2, 3, 4, 5, 6, 7, 8, 9]\n"
     ]
    }
   ],
   "source": [
    "\n",
    "b= [ i for i in range(0,10)]\n",
    "print(b)"
   ]
  },
  {
   "cell_type": "code",
   "execution_count": 44,
   "id": "b3048c06-3d65-4946-85cc-8d1ca647b204",
   "metadata": {},
   "outputs": [
    {
     "name": "stdout",
     "output_type": "stream",
     "text": [
      "['i', 's', 'm', 'a', 'i', 'l']\n"
     ]
    }
   ],
   "source": [
    "\n",
    "b= [ i for i in \"ismail\"]\n",
    "print(b)"
   ]
  },
  {
   "cell_type": "code",
   "execution_count": 45,
   "id": "efc2a3e6-abbb-432f-b40f-8f4759a1c8ab",
   "metadata": {},
   "outputs": [
    {
     "name": "stdout",
     "output_type": "stream",
     "text": [
      "[0, 1, 4, 9, 16, 25, 36, 49, 64, 81]\n"
     ]
    }
   ],
   "source": [
    "\n",
    "b= [ i*i for i in range(0,10) ]\n",
    "print(b)"
   ]
  },
  {
   "cell_type": "code",
   "execution_count": 32,
   "id": "bb6ce9b0-8b18-4093-92a9-ec481a2dc6e7",
   "metadata": {},
   "outputs": [],
   "source": [
    "a=[1,2,4,5,6]"
   ]
  },
  {
   "cell_type": "code",
   "execution_count": 29,
   "id": "8949a09c-566f-4b8f-9783-46a0db15adef",
   "metadata": {},
   "outputs": [
    {
     "data": {
      "text/plain": [
       "39"
      ]
     },
     "execution_count": 29,
     "metadata": {},
     "output_type": "execute_result"
    }
   ],
   "source": [
    "# length of string\n",
    "len(a)"
   ]
  },
  {
   "cell_type": "code",
   "execution_count": 33,
   "id": "c59e832f-6732-4860-9004-ee66741672dc",
   "metadata": {},
   "outputs": [
    {
     "data": {
      "text/plain": [
       "[1, 2, 4, 5, 6, 6, 7, 8]"
      ]
     },
     "execution_count": 33,
     "metadata": {},
     "output_type": "execute_result"
    }
   ],
   "source": [
    "b=[6,7,8]\n",
    "# adding two lists\n",
    "\n",
    "a=a+b\n",
    "a"
   ]
  },
  {
   "cell_type": "code",
   "execution_count": 49,
   "id": "d77c21a9-bc9f-4fbc-b945-9d57395a4d7a",
   "metadata": {},
   "outputs": [
    {
     "data": {
      "text/plain": [
       "[1, 3, 5, 6, 7, 8]"
      ]
     },
     "execution_count": 49,
     "metadata": {},
     "output_type": "execute_result"
    }
   ],
   "source": [
    "a=[1,3,5]\n",
    "c=a+b\n",
    "c"
   ]
  },
  {
   "cell_type": "code",
   "execution_count": 50,
   "id": "caa13c5a-ee6e-4179-add4-9440446ed5a6",
   "metadata": {},
   "outputs": [
    {
     "ename": "TypeError",
     "evalue": "can only concatenate list (not \"int\") to list",
     "output_type": "error",
     "traceback": [
      "\u001b[1;31m---------------------------------------------------------------------------\u001b[0m",
      "\u001b[1;31mTypeError\u001b[0m                                 Traceback (most recent call last)",
      "Cell \u001b[1;32mIn[50], line 1\u001b[0m\n\u001b[1;32m----> 1\u001b[0m \u001b[43mc\u001b[49m\u001b[38;5;241;43m+\u001b[39;49m\u001b[38;5;241;43m3\u001b[39;49m\n",
      "\u001b[1;31mTypeError\u001b[0m: can only concatenate list (not \"int\") to list"
     ]
    }
   ],
   "source": [
    "c+3"
   ]
  },
  {
   "cell_type": "code",
   "execution_count": 51,
   "id": "a7fbe3ad-a03d-443c-b6e9-479081d8f920",
   "metadata": {},
   "outputs": [
    {
     "ename": "TypeError",
     "evalue": "can't multiply sequence by non-int of type 'list'",
     "output_type": "error",
     "traceback": [
      "\u001b[1;31m---------------------------------------------------------------------------\u001b[0m",
      "\u001b[1;31mTypeError\u001b[0m                                 Traceback (most recent call last)",
      "Cell \u001b[1;32mIn[51], line 1\u001b[0m\n\u001b[1;32m----> 1\u001b[0m \u001b[43ma\u001b[49m\u001b[38;5;241;43m*\u001b[39;49m\u001b[43mb\u001b[49m\n",
      "\u001b[1;31mTypeError\u001b[0m: can't multiply sequence by non-int of type 'list'"
     ]
    }
   ],
   "source": [
    "a*b"
   ]
  },
  {
   "cell_type": "code",
   "execution_count": 52,
   "id": "0236b17b-5c44-4a58-8027-42d5628941d8",
   "metadata": {},
   "outputs": [
    {
     "data": {
      "text/plain": [
       "[1, 3, 5, 1, 3, 5, 1, 3, 5]"
      ]
     },
     "execution_count": 52,
     "metadata": {},
     "output_type": "execute_result"
    }
   ],
   "source": [
    "a*3\n",
    "# copies 3 times and gives new"
   ]
  },
  {
   "cell_type": "code",
   "execution_count": 53,
   "id": "e51c150d-25ae-4e37-acbd-774bf1565dd6",
   "metadata": {},
   "outputs": [],
   "source": [
    "# add to end\n",
    "a.append(4)\n"
   ]
  },
  {
   "cell_type": "code",
   "execution_count": 18,
   "id": "32723e86-04a7-41f7-b883-745de8be6178",
   "metadata": {},
   "outputs": [
    {
     "data": {
      "text/plain": [
       "[1, 3, 5, 4]"
      ]
     },
     "execution_count": 18,
     "metadata": {},
     "output_type": "execute_result"
    }
   ],
   "source": [
    "a"
   ]
  },
  {
   "cell_type": "code",
   "execution_count": 54,
   "id": "4e2c7c54-4bf3-4a5c-b4ca-8f4fcdc78e7a",
   "metadata": {},
   "outputs": [
    {
     "data": {
      "text/plain": [
       "[10, 1, 3, 5, 4]"
      ]
     },
     "execution_count": 54,
     "metadata": {},
     "output_type": "execute_result"
    }
   ],
   "source": [
    "# add data at specific index\n",
    "a.insert(0,10) #index, vlaue\n",
    "a"
   ]
  },
  {
   "cell_type": "code",
   "execution_count": 55,
   "id": "136df352-7218-454d-887b-f08d9371930b",
   "metadata": {},
   "outputs": [
    {
     "data": {
      "text/plain": [
       "[10, 1, 3, 5, 4, 6, 7, 8]"
      ]
     },
     "execution_count": 55,
     "metadata": {},
     "output_type": "execute_result"
    }
   ],
   "source": [
    "# add b to a\n",
    "# a=a+b\n",
    "a.extend(b)\n",
    "a"
   ]
  },
  {
   "cell_type": "code",
   "execution_count": 34,
   "id": "1d0b09f9-acf0-4653-8c19-2d8c25b7c401",
   "metadata": {},
   "outputs": [
    {
     "data": {
      "text/plain": [
       "[1, 2, 4, 5, 6, 6, 8]"
      ]
     },
     "execution_count": 34,
     "metadata": {},
     "output_type": "execute_result"
    }
   ],
   "source": [
    "# remove \"data\" 5\n",
    "a.remove(7)\n",
    "a"
   ]
  },
  {
   "cell_type": "code",
   "execution_count": 57,
   "id": "5176a3b5-1029-4025-9641-fcc096ef11fb",
   "metadata": {},
   "outputs": [
    {
     "data": {
      "text/plain": [
       "[1, 3, 5, 4, 6, 8]"
      ]
     },
     "execution_count": 57,
     "metadata": {},
     "output_type": "execute_result"
    }
   ],
   "source": [
    "# remove from particular index, removes and returns the popped value\n",
    "a.pop(0)\n",
    "a"
   ]
  },
  {
   "cell_type": "code",
   "execution_count": 35,
   "id": "acf40d51-a823-4b98-a101-6b825e14654b",
   "metadata": {},
   "outputs": [],
   "source": [
    "del a[4] #doesnt return the deleted value"
   ]
  },
  {
   "cell_type": "code",
   "execution_count": 59,
   "id": "112b37d2-9b0e-4592-8de3-345e039af9de",
   "metadata": {},
   "outputs": [
    {
     "data": {
      "text/plain": [
       "[1, 5, 4, 8]"
      ]
     },
     "execution_count": 59,
     "metadata": {},
     "output_type": "execute_result"
    }
   ],
   "source": [
    "del a[1]\n",
    "a"
   ]
  },
  {
   "cell_type": "markdown",
   "id": "481dfabe-d12a-43a0-9e6c-b5bc28d6c3f9",
   "metadata": {},
   "source": [
    "## Sort and max\n",
    "list should be homogenous"
   ]
  },
  {
   "cell_type": "code",
   "execution_count": 62,
   "id": "59c48ac2-2cf9-4319-ad1d-4c84582b373b",
   "metadata": {},
   "outputs": [],
   "source": [
    "a.sort() #orginal list sorted"
   ]
  },
  {
   "cell_type": "code",
   "execution_count": 63,
   "id": "176e76f0-d588-42d7-a6b2-b4feb939fc7b",
   "metadata": {},
   "outputs": [
    {
     "data": {
      "text/plain": [
       "[1, 4, 5, 8]"
      ]
     },
     "execution_count": 63,
     "metadata": {},
     "output_type": "execute_result"
    }
   ],
   "source": [
    "a"
   ]
  },
  {
   "cell_type": "code",
   "execution_count": 64,
   "id": "1ce4718c-999d-4f80-95a4-1a0992abff44",
   "metadata": {},
   "outputs": [
    {
     "data": {
      "text/plain": [
       "8"
      ]
     },
     "execution_count": 64,
     "metadata": {},
     "output_type": "execute_result"
    }
   ],
   "source": [
    "max(b)"
   ]
  },
  {
   "cell_type": "code",
   "execution_count": 66,
   "id": "fee37db6-1ca1-444f-abdb-04073279d6c2",
   "metadata": {},
   "outputs": [
    {
     "data": {
      "text/plain": [
       "False"
      ]
     },
     "execution_count": 66,
     "metadata": {},
     "output_type": "execute_result"
    }
   ],
   "source": [
    "100 in a"
   ]
  },
  {
   "cell_type": "code",
   "execution_count": 68,
   "id": "bd97a066-88fb-426c-96f0-de5e1aca8eaf",
   "metadata": {},
   "outputs": [
    {
     "name": "stdout",
     "output_type": "stream",
     "text": [
      "['h', 'e', 'l', 'l', 'o']\n"
     ]
    }
   ],
   "source": [
    "print([i.lower() for i in \"HELLO\"])"
   ]
  },
  {
   "cell_type": "code",
   "execution_count": 69,
   "id": "b5ca8777-1ea6-4174-8d99-c883d67ab11d",
   "metadata": {},
   "outputs": [
    {
     "data": {
      "text/plain": [
       "8"
      ]
     },
     "execution_count": 69,
     "metadata": {},
     "output_type": "execute_result"
    }
   ],
   "source": [
    "a.pop() #if index not given, removes the last one"
   ]
  },
  {
   "cell_type": "markdown",
   "id": "d89bbf0c-512a-459b-a55b-84d1007e5b6a",
   "metadata": {},
   "source": [
    "# Taking input in List"
   ]
  },
  {
   "cell_type": "code",
   "execution_count": null,
   "id": "2d1cfc4e-2382-40cc-a00a-3ec0efa48a98",
   "metadata": {},
   "outputs": [],
   "source": [
    "# Pattern 1\n",
    " # 5 :no\n",
    " # 1\n",
    " # 4\n",
    " # 5\n",
    " # 5\n",
    " # 8"
   ]
  },
  {
   "cell_type": "code",
   "execution_count": 71,
   "id": "f9d1c77b-031e-4ecb-b51d-5ae4ee800239",
   "metadata": {},
   "outputs": [
    {
     "name": "stdin",
     "output_type": "stream",
     "text": [
      " 5\n",
      " 1\n",
      " 4\n",
      " 5\n",
      " 5\n",
      " 8\n"
     ]
    },
    {
     "data": {
      "text/plain": [
       "[1, 4, 5, 5, 8]"
      ]
     },
     "execution_count": 71,
     "metadata": {},
     "output_type": "execute_result"
    }
   ],
   "source": [
    "n=int(input())\n",
    "a=[]\n",
    "for i in range(n):\n",
    "    s= int(input())\n",
    "    a.append(s)\n",
    "a"
   ]
  },
  {
   "cell_type": "code",
   "execution_count": 73,
   "id": "d4cff9c2-4d29-437c-858c-5f7be1efb57d",
   "metadata": {},
   "outputs": [
    {
     "name": "stdin",
     "output_type": "stream",
     "text": [
      " 5\n",
      " 1 2 3 4 5\n"
     ]
    },
    {
     "data": {
      "text/plain": [
       "[1, 2, 3, 4, 5]"
      ]
     },
     "execution_count": 73,
     "metadata": {},
     "output_type": "execute_result"
    }
   ],
   "source": [
    "# 5 \n",
    "# 1 2 3 4 5\n",
    "n=int(input())\n",
    "\n",
    "a=input().split(\" \")\n",
    "s=[]\n",
    "for i in a:\n",
    "    s.append(int(i))\n",
    "    \n",
    "s"
   ]
  },
  {
   "cell_type": "code",
   "execution_count": 75,
   "id": "781e3202-89fc-490b-a354-c0c88d4b867b",
   "metadata": {},
   "outputs": [
    {
     "name": "stdin",
     "output_type": "stream",
     "text": [
      " 5\n",
      " 1 2 3 4 5\n"
     ]
    },
    {
     "data": {
      "text/plain": [
       "[1, 2, 3, 4, 5]"
      ]
     },
     "execution_count": 75,
     "metadata": {},
     "output_type": "execute_result"
    }
   ],
   "source": [
    "# more optimized way\n",
    "\n",
    "n=int(input())\n",
    "a=input().split()\n",
    "s=[int(i) for i in a]\n",
    "s"
   ]
  },
  {
   "cell_type": "code",
   "execution_count": 76,
   "id": "14f4d6a4-b9bb-41d0-874b-69130caa5ef8",
   "metadata": {},
   "outputs": [
    {
     "name": "stdin",
     "output_type": "stream",
     "text": [
      " 5\n",
      " 1 2 3 4 5\n"
     ]
    },
    {
     "data": {
      "text/plain": [
       "[1, 2, 3, 4, 5]"
      ]
     },
     "execution_count": 76,
     "metadata": {},
     "output_type": "execute_result"
    }
   ],
   "source": [
    "# more optimized way\n",
    "\n",
    "n=int(input())\n",
    "\n",
    "s=[int(i) for i in input().split()]\n",
    "s"
   ]
  },
  {
   "cell_type": "code",
   "execution_count": 77,
   "id": "ea320c2c-58f7-4a22-8c1e-e5ea7b3e6c0f",
   "metadata": {},
   "outputs": [
    {
     "name": "stdin",
     "output_type": "stream",
     "text": [
      " 5 1 2 3 4 5\n"
     ]
    },
    {
     "name": "stdout",
     "output_type": "stream",
     "text": [
      "5 [1, 2, 3, 4, 5]\n"
     ]
    }
   ],
   "source": [
    "# 5 1 2 3 4 5\n",
    "\n",
    "s=[int(i) for i in input().split()]\n",
    "n=s.pop(0)\n",
    "print(n,s)"
   ]
  },
  {
   "cell_type": "code",
   "execution_count": 80,
   "id": "37acc910-59bc-4057-acc1-92da0925078b",
   "metadata": {},
   "outputs": [
    {
     "name": "stdin",
     "output_type": "stream",
     "text": [
      " 5 5 7 8 9 4 6 1 2 \n"
     ]
    },
    {
     "name": "stdout",
     "output_type": "stream",
     "text": [
      "-7\n"
     ]
    }
   ],
   "source": [
    "# difference of even sum and odd sum \n",
    "\n",
    "l=[int(i) for i in input().split()]\n",
    "even=0\n",
    "odd=0\n",
    "\n",
    "for i in l:\n",
    "    if i%2 == 0:\n",
    "        even+=i\n",
    "    else:\n",
    "        odd+=i\n",
    "print(even-odd)"
   ]
  },
  {
   "cell_type": "code",
   "execution_count": 83,
   "id": "0d93636d-09df-4af2-96e2-be3bded4c622",
   "metadata": {},
   "outputs": [
    {
     "name": "stdin",
     "output_type": "stream",
     "text": [
      " 1 2 4 5 6 7 8 9 45 6\n"
     ]
    },
    {
     "name": "stdout",
     "output_type": "stream",
     "text": [
      "2\n",
      "1\n",
      "5\n",
      "4\n",
      "7\n",
      "6\n",
      "9\n",
      "8\n",
      "6\n",
      "45\n"
     ]
    }
   ],
   "source": [
    "# swapping adjacent places\n",
    "\n",
    "l=[int(i) for i in input().split()]\n",
    "length= len(l)\n",
    "for i in range(0,length,2):\n",
    "    if i< length-1:\n",
    "        l[i],l[i+1]= l[i+1],l[i]\n",
    "\n",
    "for i in l:\n",
    "    print(i)"
   ]
  },
  {
   "cell_type": "markdown",
   "id": "3027946d-8b96-410b-b099-84eeb0b0b3ce",
   "metadata": {},
   "source": [
    "## Slicing in List\n"
   ]
  },
  {
   "cell_type": "code",
   "execution_count": 87,
   "id": "96b6f97a-2b4f-4d0c-b91f-3d9eac08b0f5",
   "metadata": {},
   "outputs": [
    {
     "data": {
      "text/plain": [
       "[1, 5, 2]"
      ]
     },
     "execution_count": 87,
     "metadata": {},
     "output_type": "execute_result"
    }
   ],
   "source": [
    "a=[1,5,2,\"abc\",6,4,7]\n",
    "a[0:3]"
   ]
  },
  {
   "cell_type": "code",
   "execution_count": 88,
   "id": "8113289c-f7ea-43d1-8e34-754b631cb048",
   "metadata": {},
   "outputs": [
    {
     "data": {
      "text/plain": [
       "[6, 4]"
      ]
     },
     "execution_count": 88,
     "metadata": {},
     "output_type": "execute_result"
    }
   ],
   "source": [
    "a[4:6]"
   ]
  },
  {
   "cell_type": "code",
   "execution_count": 89,
   "id": "be8096bd-b3b5-4794-91e5-cde7a8ff25b9",
   "metadata": {},
   "outputs": [
    {
     "data": {
      "text/plain": [
       "[1, 5, 2, 'abc']"
      ]
     },
     "execution_count": 89,
     "metadata": {},
     "output_type": "execute_result"
    }
   ],
   "source": [
    "a[:4]"
   ]
  },
  {
   "cell_type": "code",
   "execution_count": 90,
   "id": "f74656dd-aec8-4bf5-adeb-9e9b3910f0ba",
   "metadata": {},
   "outputs": [
    {
     "data": {
      "text/plain": [
       "[6, 4, 7]"
      ]
     },
     "execution_count": 90,
     "metadata": {},
     "output_type": "execute_result"
    }
   ],
   "source": [
    "a[4:]"
   ]
  },
  {
   "cell_type": "code",
   "execution_count": 94,
   "id": "2c5c8c96-3eaf-4b21-991d-c35029a133fc",
   "metadata": {},
   "outputs": [
    {
     "data": {
      "text/plain": [
       "[7, 4]"
      ]
     },
     "execution_count": 94,
     "metadata": {},
     "output_type": "execute_result"
    }
   ],
   "source": [
    "a[-1:-3:-1]"
   ]
  },
  {
   "cell_type": "code",
   "execution_count": 95,
   "id": "6a668119-0a4b-48fd-81db-8f1f274f1d16",
   "metadata": {},
   "outputs": [
    {
     "data": {
      "text/plain": [
       "[7, 4, 6]"
      ]
     },
     "execution_count": 95,
     "metadata": {},
     "output_type": "execute_result"
    }
   ],
   "source": [
    "a[10:3:-1]"
   ]
  },
  {
   "cell_type": "code",
   "execution_count": 96,
   "id": "a4e98cc9-5208-40d6-972a-57d698012735",
   "metadata": {},
   "outputs": [
    {
     "data": {
      "text/plain": [
       "[7, 4, 6]"
      ]
     },
     "execution_count": 96,
     "metadata": {},
     "output_type": "execute_result"
    }
   ],
   "source": [
    "a[:3:-1]"
   ]
  },
  {
   "cell_type": "code",
   "execution_count": 97,
   "id": "076b6bb9-e0e9-4cf5-be05-5fac8a3d4a53",
   "metadata": {},
   "outputs": [
    {
     "data": {
      "text/plain": [
       "[7, 4, 6, 'abc', 2, 5, 1]"
      ]
     },
     "execution_count": 97,
     "metadata": {},
     "output_type": "execute_result"
    }
   ],
   "source": [
    "a[::-1] #reverse the list and gives new list "
   ]
  },
  {
   "cell_type": "code",
   "execution_count": 98,
   "id": "fa18d9f3-7ab3-4aeb-813a-acd5eccd375d",
   "metadata": {},
   "outputs": [],
   "source": [
    "a.reverse()"
   ]
  },
  {
   "cell_type": "code",
   "execution_count": 99,
   "id": "7bf1bfd5-cb61-4009-8d56-9bb3975e3286",
   "metadata": {},
   "outputs": [
    {
     "data": {
      "text/plain": [
       "[7, 4, 6, 'abc', 2, 5, 1]"
      ]
     },
     "execution_count": 99,
     "metadata": {},
     "output_type": "execute_result"
    }
   ],
   "source": [
    "a"
   ]
  },
  {
   "cell_type": "markdown",
   "id": "db3b4a9d-ac29-4f33-80b1-b12d799c5a0f",
   "metadata": {},
   "source": [
    "# Multidimesional Lists"
   ]
  },
  {
   "cell_type": "code",
   "execution_count": null,
   "id": "088cfae2-23bb-4b3b-bdf3-058ed4bce00b",
   "metadata": {},
   "outputs": [],
   "source": [
    "# there is nothing as multidimesional list, we can apply\n",
    "# spefically 2d List like m*n\n",
    "# [[],[],[]]"
   ]
  },
  {
   "cell_type": "code",
   "execution_count": 100,
   "id": "32ff4b87-32f2-4bbc-bcd4-87d28b8d2c94",
   "metadata": {},
   "outputs": [],
   "source": [
    "a=[[1,2,3],[1,4,5]]"
   ]
  },
  {
   "cell_type": "code",
   "execution_count": 101,
   "id": "e89cae9f-4ad2-4aa0-bb7c-f73d6082646f",
   "metadata": {},
   "outputs": [],
   "source": [
    "a=[[1,2,3],[1,4]]"
   ]
  },
  {
   "cell_type": "code",
   "execution_count": 103,
   "id": "490e4fcc-7f76-4bb3-8f26-e7bd15c5eb67",
   "metadata": {},
   "outputs": [
    {
     "data": {
      "text/plain": [
       "1"
      ]
     },
     "execution_count": 103,
     "metadata": {},
     "output_type": "execute_result"
    }
   ],
   "source": [
    "a[0][0]"
   ]
  },
  {
   "cell_type": "code",
   "execution_count": 104,
   "id": "587ec789-8770-4c3c-add4-628c7220e7d4",
   "metadata": {},
   "outputs": [
    {
     "data": {
      "text/plain": [
       "2"
      ]
     },
     "execution_count": 104,
     "metadata": {},
     "output_type": "execute_result"
    }
   ],
   "source": [
    "len(a)"
   ]
  },
  {
   "cell_type": "code",
   "execution_count": 107,
   "id": "0eb13e5b-222e-404a-8482-ac926ddbe067",
   "metadata": {},
   "outputs": [
    {
     "data": {
      "text/plain": [
       "3"
      ]
     },
     "execution_count": 107,
     "metadata": {},
     "output_type": "execute_result"
    }
   ],
   "source": [
    "len(a[0])"
   ]
  },
  {
   "cell_type": "markdown",
   "id": "e3948032-8d24-4c43-a6af-209a158f24be",
   "metadata": {},
   "source": [
    "## INPUT OF MULTIDIMENSIONL LIST"
   ]
  },
  {
   "cell_type": "code",
   "execution_count": 108,
   "id": "40502db3-ef4e-4e38-a006-56ea5f12211d",
   "metadata": {},
   "outputs": [],
   "source": [
    "# m n\n",
    "# 1 2 4 5 65 6\n",
    "\n",
    "# m n\n",
    "# 1 2 4\n",
    "# 3 4 5\n",
    "\n",
    "# m n\n",
    "# 1\n",
    "# 2\n",
    "# 3\n",
    "\n",
    "\n"
   ]
  },
  {
   "cell_type": "code",
   "execution_count": 110,
   "id": "3a2d5d63-d1fc-4094-8cfc-6b7866d21c5e",
   "metadata": {},
   "outputs": [
    {
     "name": "stdin",
     "output_type": "stream",
     "text": [
      " 4 4\n",
      " 1 2 3 4\n",
      " 1 2 3 45\n",
      " 4 4 6 7\n",
      " 45 67 89 9\n"
     ]
    },
    {
     "data": {
      "text/plain": [
       "[[1, 2, 3, 4], [1, 2, 3, 45], [4, 4, 6, 7], [45, 67, 89, 9]]"
      ]
     },
     "execution_count": 110,
     "metadata": {},
     "output_type": "execute_result"
    }
   ],
   "source": [
    "sizes = input().split()\n",
    "m= int(sizes[0])\n",
    "n= int(sizes[1])\n",
    "\n",
    "l=[]\n",
    "\n",
    "for i in range(m):\n",
    "    next_row = [int(i) for i in input().split()]\n",
    "    l.append(next_row)\n",
    "l"
   ]
  },
  {
   "cell_type": "code",
   "execution_count": 111,
   "id": "000aae12-37cb-431c-bfe8-a9e28b1de5bb",
   "metadata": {},
   "outputs": [
    {
     "name": "stdin",
     "output_type": "stream",
     "text": [
      " 4 4\n",
      " 1\n",
      " 2\n",
      " 3\n",
      " 4\n",
      " 5\n",
      " 6\n",
      " 7\n",
      " 8\n",
      " 1\n",
      " 2\n",
      " 4\n",
      " 5\n",
      " 1\n",
      " 2\n",
      " 3\n",
      " 3\n"
     ]
    },
    {
     "data": {
      "text/plain": [
       "[[1, 2, 3, 4], [5, 6, 7, 8], [1, 2, 4, 5], [1, 2, 3, 3]]"
      ]
     },
     "execution_count": 111,
     "metadata": {},
     "output_type": "execute_result"
    }
   ],
   "source": [
    "sizes = input().split()\n",
    "m= int(sizes[0])\n",
    "n= int(sizes[1])\n",
    "\n",
    "l=[]\n",
    "\n",
    "for i in range(m):\n",
    "    next_row = []\n",
    "    for i in range(n):\n",
    "        next_row.append(int(input()))\n",
    "    l.append(next_row)\n",
    "l"
   ]
  },
  {
   "cell_type": "code",
   "execution_count": 113,
   "id": "a3317b8d-0314-47fe-8588-bd2f2eb5ca5b",
   "metadata": {},
   "outputs": [
    {
     "name": "stdin",
     "output_type": "stream",
     "text": [
      " 2 3\n",
      " 1 2 3 4 5 6\n"
     ]
    },
    {
     "data": {
      "text/plain": [
       "[[1, 2, 3], [4, 5, 6]]"
      ]
     },
     "execution_count": 113,
     "metadata": {},
     "output_type": "execute_result"
    }
   ],
   "source": [
    "sizes = input().split()\n",
    "m= int(sizes[0])\n",
    "n= int(sizes[1])\n",
    "ol=[]\n",
    "l = [int(i) for i in input().split()]\n",
    "for i in range(m):\n",
    "    start_index= n*i\n",
    "    end_index = n*(i+1) #excludes kabbati\n",
    "    next_row =l[start_index:end_index]\n",
    "    ol.append(next_row)\n",
    "ol"
   ]
  },
  {
   "cell_type": "code",
   "execution_count": 114,
   "id": "622c9259-2260-47c4-864d-983c242b307b",
   "metadata": {},
   "outputs": [
    {
     "name": "stdout",
     "output_type": "stream",
     "text": [
      "[1, 5, 9]\n"
     ]
    }
   ],
   "source": [
    "\n",
    "a=[[1,2,3],[4,5,6],[7,8,9]]\n",
    "\n",
    "print([a[i][i] for i in range(len(a))])"
   ]
  },
  {
   "cell_type": "markdown",
   "id": "e1b77edb-c93f-4f2b-992e-c1085154a1f4",
   "metadata": {},
   "source": [
    "## More on Multi dimensional lists"
   ]
  },
  {
   "cell_type": "code",
   "execution_count": null,
   "id": "dbe658f2-01fd-41ee-b932-6bd7c86b68cd",
   "metadata": {},
   "outputs": [],
   "source": [
    "# slicing"
   ]
  },
  {
   "cell_type": "code",
   "execution_count": 117,
   "id": "e0f093ac-d6be-4194-833a-219e58308c67",
   "metadata": {},
   "outputs": [
    {
     "data": {
      "text/plain": [
       "[[1, 2, 3], [4, 5, 6]]"
      ]
     },
     "execution_count": 117,
     "metadata": {},
     "output_type": "execute_result"
    }
   ],
   "source": [
    "a=[[7,8,9],[1,2,3],[4,5,6],[7,8,9]]\n",
    "a[1:3]"
   ]
  },
  {
   "cell_type": "code",
   "execution_count": 118,
   "id": "9ce79c3a-28ca-4d25-9991-63a5fd997eb8",
   "metadata": {},
   "outputs": [
    {
     "data": {
      "text/plain": [
       "[[0, 0],\n",
       " [1, 2],\n",
       " [2, 4],\n",
       " [3, 6],\n",
       " [4, 8],\n",
       " [5, 10],\n",
       " [6, 12],\n",
       " [7, 14],\n",
       " [8, 16],\n",
       " [9, 18]]"
      ]
     },
     "execution_count": 118,
     "metadata": {},
     "output_type": "execute_result"
    }
   ],
   "source": [
    "a=[[i,2*i] for i in range(10)]\n",
    "a"
   ]
  },
  {
   "cell_type": "code",
   "execution_count": 121,
   "id": "6aad124c-984c-40f3-99f3-5bebb8ea7872",
   "metadata": {},
   "outputs": [
    {
     "data": {
      "text/plain": [
       "[[0, 0, 0, 0, 0, 0, 0, 0, 0, 0, 0, 0, 0, 0, 0],\n",
       " [0, 1, 2, 3, 4, 5, 6, 7, 8, 9, 10, 11, 12, 13, 14],\n",
       " [0, 2, 4, 6, 8, 10, 12, 14, 16, 18, 20, 22, 24, 26, 28],\n",
       " [0, 3, 6, 9, 12, 15, 18, 21, 24, 27, 30, 33, 36, 39, 42],\n",
       " [0, 4, 8, 12, 16, 20, 24, 28, 32, 36, 40, 44, 48, 52, 56],\n",
       " [0, 5, 10, 15, 20, 25, 30, 35, 40, 45, 50, 55, 60, 65, 70],\n",
       " [0, 6, 12, 18, 24, 30, 36, 42, 48, 54, 60, 66, 72, 78, 84],\n",
       " [0, 7, 14, 21, 28, 35, 42, 49, 56, 63, 70, 77, 84, 91, 98],\n",
       " [0, 8, 16, 24, 32, 40, 48, 56, 64, 72, 80, 88, 96, 104, 112],\n",
       " [0, 9, 18, 27, 36, 45, 54, 63, 72, 81, 90, 99, 108, 117, 126]]"
      ]
     },
     "execution_count": 121,
     "metadata": {},
     "output_type": "execute_result"
    }
   ],
   "source": [
    "a=[ [ i*j for j in range(15) ] for i in range(10)]\n",
    "a"
   ]
  },
  {
   "cell_type": "code",
   "execution_count": 122,
   "id": "21ac43c9-52d3-4d4f-b8ed-bc34efa3a43f",
   "metadata": {},
   "outputs": [
    {
     "name": "stdout",
     "output_type": "stream",
     "text": [
      "0\n",
      "45\n",
      "90\n",
      "135\n",
      "180\n",
      "225\n",
      "270\n",
      "315\n",
      "360\n",
      "405\n",
      "450\n",
      "495\n",
      "540\n",
      "585\n",
      "630\n"
     ]
    }
   ],
   "source": [
    "# print column wise sum\n",
    "m= len(a)\n",
    "n= len(a[0]) #check if a is empty before doing this\n",
    "for i in range(n):\n",
    "    sum=0\n",
    "    for j in range(m):\n",
    "        sum+=a[j][i]\n",
    "    print(sum)\n",
    "        "
   ]
  },
  {
   "cell_type": "code",
   "execution_count": 124,
   "id": "bb8e2de6-9387-4d92-b489-089ad587ed4c",
   "metadata": {},
   "outputs": [
    {
     "name": "stdout",
     "output_type": "stream",
     "text": [
      "[1, 2, 3, 4, [3]]\n"
     ]
    }
   ],
   "source": [
    "a=[1,2,3,4,[56]]\n",
    "b=list(a)\n",
    "a[0] = 5\n",
    "a[4][0]=3\n",
    "print(b) \n",
    "\n",
    "# They only create a copy on the 0th level . Thats called shallow copy. The elements of a nested \n",
    "# elements are copied by reference\n"
   ]
  },
  {
   "cell_type": "code",
   "execution_count": 128,
   "id": "a28777a2-9580-47fc-a918-67e93e83f90e",
   "metadata": {},
   "outputs": [
    {
     "name": "stdout",
     "output_type": "stream",
     "text": [
      "Palindrome\n"
     ]
    }
   ],
   "source": [
    "# check if string is a palindrom or not\n",
    "\n",
    "a=\"malayalam\"\n",
    "b=a[::-1]\n",
    "if a==b:\n",
    "    print(\"Palindrome\")\n",
    "else:\n",
    "    print(\"Not a Palindrome\")"
   ]
  },
  {
   "cell_type": "code",
   "execution_count": 131,
   "id": "a7b9e67c-e969-430f-9edd-b906ed4da029",
   "metadata": {},
   "outputs": [
    {
     "name": "stdout",
     "output_type": "stream",
     "text": [
      "dlroW olleH\n"
     ]
    }
   ],
   "source": [
    "print(\"\".join(reversed(\"Hello World\")))\n"
   ]
  },
  {
   "cell_type": "code",
   "execution_count": 135,
   "id": "99ca8b24-e494-4e94-be29-54e1db5c72dc",
   "metadata": {},
   "outputs": [
    {
     "name": "stdout",
     "output_type": "stream",
     "text": [
      "A\n",
      "Al\n",
      "Alb\n",
      "Albr\n",
      "l\n",
      "lb\n",
      "lbr\n",
      "b\n",
      "br\n",
      "r\n"
     ]
    }
   ],
   "source": [
    "# Print all Sub Strings\n",
    "\n",
    "a= \"Albr\"\n",
    "\n",
    "for i in range(len(a)):\n",
    "    s=\"\"\n",
    "    for j in range(i,len(a)):\n",
    "        s+=a[j]\n",
    "        print(s)"
   ]
  },
  {
   "cell_type": "code",
   "execution_count": 1,
   "id": "4c1c00a0-cc6f-4e52-9bb2-aff913e00f9a",
   "metadata": {},
   "outputs": [
    {
     "name": "stdout",
     "output_type": "stream",
     "text": [
      "2\n"
     ]
    }
   ],
   "source": [
    "# Array equilibrium index\n",
    "# For a given array/list(ARR) of size 'N,' find and return the 'Equilibrium Index' of the array/list.\n",
    "# Equilibrium Index of an array/list is an index 'i' such that the sum of elements at indices [0 to (i - 1)] is equal to the sum of elements at indices [(i + 1) to (N-1)]. One thing to note here is, the item at the index 'i' is not included in either part.\n",
    "# If more than one equilibrium indices are present, then the index appearing first in left to right fashion should be returned. Negative one(-1) if no such index is present.\n",
    "\n",
    "    \n",
    "array = [1, 4, 9, 3, 2]\n",
    "\n",
    "found_equilibrium = False\n",
    "\n",
    "for i in range(len(array)):\n",
    "    left_sum = sum(array[0:i])\n",
    "    right_sum = sum(array[i+1:])\n",
    "    if left_sum == right_sum:\n",
    "        print(i)\n",
    "        found_equilibrium = True\n",
    "        break\n",
    "\n",
    "if not found_equilibrium:\n",
    "    print(-1)\n",
    "\n"
   ]
  },
  {
   "cell_type": "code",
   "execution_count": null,
   "id": "fe0d3e08-e573-4d61-8b66-c09922e45c3a",
   "metadata": {},
   "outputs": [],
   "source": [
    "# Row wise sum in multidimensional array"
   ]
  },
  {
   "cell_type": "code",
   "execution_count": 3,
   "id": "b67b839f-8b19-430d-b661-4665aabfc159",
   "metadata": {},
   "outputs": [],
   "source": [
    "a=[ [ i*j for j in range(15) ] for i in range(10)]"
   ]
  },
  {
   "cell_type": "code",
   "execution_count": 4,
   "id": "855d6269-4b71-4462-9eab-2949ab1a2ec6",
   "metadata": {},
   "outputs": [
    {
     "name": "stdout",
     "output_type": "stream",
     "text": [
      "0\n",
      "105\n",
      "210\n",
      "315\n",
      "420\n",
      "525\n",
      "630\n",
      "735\n",
      "840\n",
      "945\n"
     ]
    }
   ],
   "source": [
    "for i in range(10):\n",
    "    sum=0\n",
    "    for j in range(15):\n",
    "        sum+=a[i][j]\n",
    "    print(sum)"
   ]
  },
  {
   "cell_type": "code",
   "execution_count": 5,
   "id": "c2ef7358-6e5b-4d90-81ec-bb4492601662",
   "metadata": {},
   "outputs": [
    {
     "data": {
      "text/plain": [
       "[[0, 0, 0, 0, 0, 0, 0, 0, 0, 0, 0, 0, 0, 0, 0],\n",
       " [0, 1, 2, 3, 4, 5, 6, 7, 8, 9, 10, 11, 12, 13, 14],\n",
       " [0, 2, 4, 6, 8, 10, 12, 14, 16, 18, 20, 22, 24, 26, 28],\n",
       " [0, 3, 6, 9, 12, 15, 18, 21, 24, 27, 30, 33, 36, 39, 42],\n",
       " [0, 4, 8, 12, 16, 20, 24, 28, 32, 36, 40, 44, 48, 52, 56],\n",
       " [0, 5, 10, 15, 20, 25, 30, 35, 40, 45, 50, 55, 60, 65, 70],\n",
       " [0, 6, 12, 18, 24, 30, 36, 42, 48, 54, 60, 66, 72, 78, 84],\n",
       " [0, 7, 14, 21, 28, 35, 42, 49, 56, 63, 70, 77, 84, 91, 98],\n",
       " [0, 8, 16, 24, 32, 40, 48, 56, 64, 72, 80, 88, 96, 104, 112],\n",
       " [0, 9, 18, 27, 36, 45, 54, 63, 72, 81, 90, 99, 108, 117, 126]]"
      ]
     },
     "execution_count": 5,
     "metadata": {},
     "output_type": "execute_result"
    }
   ],
   "source": [
    "# Wave print\n",
    "a"
   ]
  },
  {
   "cell_type": "code",
   "execution_count": 10,
   "id": "12b99978-d8f3-4858-ae04-074f1fd676de",
   "metadata": {},
   "outputs": [
    {
     "name": "stdout",
     "output_type": "stream",
     "text": [
      "0 0 0 0 0 0 0 0 0 0 \n",
      "9 8 7 6 5 4 3 2 1 0 \n",
      "18 16 14 12 10 8 6 4 2 0 \n",
      "27 24 21 18 15 12 9 6 3 0 \n",
      "36 32 28 24 20 16 12 8 4 0 \n",
      "45 40 35 30 25 20 15 10 5 0 \n",
      "54 48 42 36 30 24 18 12 6 0 \n",
      "63 56 49 42 35 28 21 14 7 0 \n",
      "72 64 56 48 40 32 24 16 8 0 \n",
      "81 72 63 54 45 36 27 18 9 0 \n",
      "90 80 70 60 50 40 30 20 10 0 \n",
      "99 88 77 66 55 44 33 22 11 0 \n",
      "108 96 84 72 60 48 36 24 12 0 \n",
      "117 104 91 78 65 52 39 26 13 0 \n",
      "126 112 98 84 70 56 42 28 14 0 \n"
     ]
    }
   ],
   "source": [
    "isdown= True\n",
    "for i in range(15):\n",
    "    if isdown:\n",
    "        for j in range(0,10):\n",
    "            print(a[j][i],end=\" \")\n",
    "        print()\n",
    "        isdown=False\n",
    "    else:\n",
    "        for j in range(9,-1,-1):\n",
    "            print(a[j][i],end=\" \")\n",
    "        print()"
   ]
  },
  {
   "cell_type": "code",
   "execution_count": null,
   "id": "4c4505bd-2427-45e9-9b0b-4b2454c1b823",
   "metadata": {},
   "outputs": [],
   "source": []
  },
  {
   "cell_type": "markdown",
   "id": "38855ca8-df4e-42dd-b3f9-99d1e1009cd9",
   "metadata": {},
   "source": [
    "# Functions"
   ]
  },
  {
   "cell_type": "code",
   "execution_count": null,
   "id": "e95882e4-ac4d-4528-adc8-c1335bd9fcb4",
   "metadata": {},
   "outputs": [],
   "source": [
    "# nCr =n!/(n-r)!*r!"
   ]
  },
  {
   "cell_type": "code",
   "execution_count": 41,
   "id": "3b2032c3-bd73-45ab-b68a-d98e1def65e7",
   "metadata": {},
   "outputs": [
    {
     "name": "stdin",
     "output_type": "stream",
     "text": [
      " 5\n",
      " 1\n"
     ]
    },
    {
     "name": "stdout",
     "output_type": "stream",
     "text": [
      "The nCr is  5\n"
     ]
    }
   ],
   "source": [
    "# def name(arguments/inputs)\n",
    "\n",
    "def factorial(a):\n",
    "    fact=1\n",
    "    for i in range(1,a+1):\n",
    "        fact= fact*i\n",
    "    return fact\n",
    "\n",
    "n= int(input())\n",
    "r= int(input())\n",
    "\n",
    "print(\"The nCr is \",factorial(n)//(factorial(n-r) * factorial(r)) )"
   ]
  },
  {
   "cell_type": "markdown",
   "id": "a059df8d-640b-439d-a33d-f41cae083cb7",
   "metadata": {},
   "source": [
    "### Why we need functions\n",
    "\n",
    "1.Avoid repititons\n",
    "\n",
    "2.Readable\n",
    "\n",
    "3.Testing become easy"
   ]
  },
  {
   "cell_type": "code",
   "execution_count": 54,
   "id": "83686128-6f12-418c-8c90-801545748ea1",
   "metadata": {},
   "outputs": [
    {
     "data": {
      "text/plain": [
       "False"
      ]
     },
     "execution_count": 54,
     "metadata": {},
     "output_type": "execute_result"
    }
   ],
   "source": [
    "import math\n",
    "\n",
    "# prime function\n",
    "def isPrime(a):\n",
    "    for i in range(2,int(math.sqrt(a))+1):\n",
    "        if a%i==0:\n",
    "            break\n",
    "    else:\n",
    "        return True\n",
    "    return False\n",
    "        \n",
    "isPrime(100)"
   ]
  },
  {
   "cell_type": "code",
   "execution_count": 55,
   "id": "797bcb22-42ef-44a8-a27d-f0727be6ba97",
   "metadata": {},
   "outputs": [
    {
     "name": "stdout",
     "output_type": "stream",
     "text": [
      "2\n",
      "3\n",
      "5\n",
      "7\n",
      "11\n",
      "13\n",
      "17\n",
      "19\n",
      "23\n",
      "29\n",
      "31\n",
      "37\n",
      "41\n",
      "43\n",
      "47\n",
      "53\n",
      "59\n",
      "61\n",
      "67\n",
      "71\n",
      "73\n",
      "79\n",
      "83\n",
      "89\n",
      "97\n"
     ]
    }
   ],
   "source": [
    "import math\n",
    "\n",
    "# prime all primes i the 2 to N\n",
    "def PrintPrimes2ToN(n):\n",
    "    for i in range(2,n+1):\n",
    "        if isPrime(i):\n",
    "            print(i)\n",
    "        \n",
    "PrintPrimes2ToN(100)"
   ]
  },
  {
   "cell_type": "code",
   "execution_count": 56,
   "id": "1d69c933-8723-4899-b320-e52242bd7ba5",
   "metadata": {},
   "outputs": [],
   "source": [
    "def ncr(n,r):\n",
    "    return factorial(n)//(factorial(n-r) * factorial(r))"
   ]
  },
  {
   "cell_type": "code",
   "execution_count": 59,
   "id": "68ec5cee-9a22-42c7-9625-583a51229379",
   "metadata": {},
   "outputs": [
    {
     "data": {
      "text/plain": [
       "5"
      ]
     },
     "execution_count": 59,
     "metadata": {},
     "output_type": "execute_result"
    }
   ],
   "source": [
    "ncr(5,4)"
   ]
  },
  {
   "cell_type": "code",
   "execution_count": 1,
   "id": "3b169e85-cf86-413b-8dd1-d7faf9c3156d",
   "metadata": {},
   "outputs": [
    {
     "name": "stdout",
     "output_type": "stream",
     "text": [
      "B starts\n",
      "A starts\n",
      "A ends\n",
      "b ends\n",
      "C starts \n",
      "C ends \n"
     ]
    }
   ],
   "source": [
    "# How Function call Works\n",
    "\n",
    "# D\n",
    "# C\n",
    "# B\n",
    "# A\n",
    "\n",
    "# callstack first called will complete at last\n",
    "# variables stores in its execution context\n",
    "\n",
    "def A():\n",
    "    print('A starts')\n",
    "    print('A ends')\n",
    "\n",
    "def B():\n",
    "    print('B starts')\n",
    "    A()\n",
    "    print('b ends')\n",
    "\n",
    "def C():\n",
    "    B()\n",
    "    print('C starts ')\n",
    "    print('C ends ')\n",
    "\n",
    "C()\n",
    "    "
   ]
  },
  {
   "cell_type": "code",
   "execution_count": 3,
   "id": "a2d5eb7b-911c-486c-9931-a35dd3f032a9",
   "metadata": {},
   "outputs": [
    {
     "name": "stdout",
     "output_type": "stream",
     "text": [
      "10\n"
     ]
    }
   ],
   "source": [
    "# Functions using Strings and Lists\n",
    "\n",
    "def increment(i):\n",
    "    i= i+1\n",
    "\n",
    "k=10\n",
    "increment(k)\n",
    "print(k)"
   ]
  },
  {
   "cell_type": "code",
   "execution_count": 4,
   "id": "d97bb06a-9fbf-4cc3-ad56-c62995c8251e",
   "metadata": {},
   "outputs": [
    {
     "name": "stdout",
     "output_type": "stream",
     "text": [
      "[3, 3, 4]\n"
     ]
    }
   ],
   "source": [
    "# using list\n",
    "# changes effects the orginal\n",
    "# pointer stores reference\n",
    "\n",
    "# this cant happen for string\n",
    "def increment(l):\n",
    "    l[0]= l[0]+1\n",
    "\n",
    "a=[2,3,4]\n",
    "\n",
    "increment(a)\n",
    "print(a)"
   ]
  },
  {
   "cell_type": "code",
   "execution_count": 6,
   "id": "2c6fe00a-fe5f-4b93-a61a-ea417370d72a",
   "metadata": {},
   "outputs": [
    {
     "name": "stdout",
     "output_type": "stream",
     "text": [
      "[2, 3, 4]\n"
     ]
    }
   ],
   "source": [
    "# change list\n",
    "# pointer stores reference\n",
    "def increment(l):\n",
    "    l=[0,8]\n",
    "\n",
    "a=[2,3,4]\n",
    "\n",
    "increment(a)\n",
    "print(a)"
   ]
  },
  {
   "cell_type": "code",
   "execution_count": 7,
   "id": "ced85207-6a6b-4e4a-85d0-32730a86dae4",
   "metadata": {},
   "outputs": [
    {
     "name": "stdout",
     "output_type": "stream",
     "text": [
      "def\n"
     ]
    }
   ],
   "source": [
    "# string\n",
    "def increment(l):\n",
    "    l=\"abc\"\n",
    "\n",
    "a=\"def\"\n",
    "\n",
    "increment(a)\n",
    "print(a)"
   ]
  },
  {
   "cell_type": "code",
   "execution_count": 8,
   "id": "8421634e-1210-46b0-95bf-c76c0d587df7",
   "metadata": {},
   "outputs": [
    {
     "name": "stdout",
     "output_type": "stream",
     "text": [
      "[5, 4, 3, 2, 1]\n"
     ]
    }
   ],
   "source": [
    "# return a list from function\n",
    "\n",
    "def create_n_array(n):\n",
    "    l=[ i for i in range(n,0,-1)]\n",
    "    return l\n",
    "\n",
    "print(create_n_array(5))\n",
    "    "
   ]
  },
  {
   "cell_type": "code",
   "execution_count": 15,
   "id": "f8c86959-4f61-453a-8a52-f1b19996d04c",
   "metadata": {},
   "outputs": [
    {
     "name": "stdin",
     "output_type": "stream",
     "text": [
      " 10\n"
     ]
    },
    {
     "data": {
      "text/plain": [
       "[9, 10, 7, 8, 5, 6, 3, 4, 1, 2]"
      ]
     },
     "execution_count": 15,
     "metadata": {},
     "output_type": "execute_result"
    }
   ],
   "source": [
    "# Swap alternate elements of a list\n",
    "n=int(input())\n",
    "l=[ i for i in range(n,0,-1)]\n",
    "if len(l)%2==0:\n",
    "    length=len(l)-1\n",
    "else :\n",
    "    length=len(l)-2\n",
    "    \n",
    "for i in range(0,length,2):\n",
    "    l[i],l[i+1]=l[i+1], l[i]\n",
    "\n",
    "\n",
    "l"
   ]
  },
  {
   "cell_type": "code",
   "execution_count": 17,
   "id": "2019d413-a330-49ae-9685-b3aaaac71c49",
   "metadata": {},
   "outputs": [
    {
     "name": "stdin",
     "output_type": "stream",
     "text": [
      " 13\n"
     ]
    },
    {
     "data": {
      "text/plain": [
       "[12, 13, 10, 11, 8, 9, 6, 7, 4, 5, 2, 3, 1]"
      ]
     },
     "execution_count": 17,
     "metadata": {},
     "output_type": "execute_result"
    }
   ],
   "source": [
    "# other approach\n",
    "\n",
    "n=int(input())\n",
    "l=[ i for i in range(n,0,-1)]\n",
    "\n",
    "i=0\n",
    "while i+1< len(l):\n",
    "    l[i],l[i+1]=l[i+1], l[i]\n",
    "    i= i+2\n",
    "l"
   ]
  },
  {
   "cell_type": "markdown",
   "id": "4f53e260-e97a-40a0-bbce-7a293944338b",
   "metadata": {},
   "source": [
    "## Scope of a variable\n",
    "\n",
    "Two types of scope in python\n",
    "\n",
    "local variable: variable defined inside a function\n",
    "global variable: defined outside any function\n",
    "\n"
   ]
  },
  {
   "cell_type": "code",
   "execution_count": 20,
   "id": "82a1892e-e41f-4c60-9909-1ec4e177d145",
   "metadata": {},
   "outputs": [
    {
     "name": "stdout",
     "output_type": "stream",
     "text": [
      "10\n"
     ]
    },
    {
     "ename": "NameError",
     "evalue": "name 'b1' is not defined",
     "output_type": "error",
     "traceback": [
      "\u001b[1;31m---------------------------------------------------------------------------\u001b[0m",
      "\u001b[1;31mNameError\u001b[0m                                 Traceback (most recent call last)",
      "Cell \u001b[1;32mIn[20], line 8\u001b[0m\n\u001b[0;32m      6\u001b[0m \u001b[38;5;28mprint\u001b[39m(a1)\n\u001b[0;32m      7\u001b[0m f1()\n\u001b[1;32m----> 8\u001b[0m \u001b[38;5;28mprint\u001b[39m(\u001b[43mb1\u001b[49m)\n",
      "\u001b[1;31mNameError\u001b[0m: name 'b1' is not defined"
     ]
    }
   ],
   "source": [
    "a1= 10 #global variable\n",
    "\n",
    "def f1():\n",
    "    b1 =12 #local variable\n",
    "    print(a1) #global variable is acessible here\n",
    "    print(b1)\n",
    "\n",
    "print(a1)\n",
    "f1()\n",
    "print(b1) #cannot print a local variable outside a function"
   ]
  },
  {
   "cell_type": "code",
   "execution_count": 21,
   "id": "80692b9b-d3c1-480f-a8c4-42b2ef1f8a36",
   "metadata": {},
   "outputs": [
    {
     "name": "stdout",
     "output_type": "stream",
     "text": [
      "10\n",
      "10\n",
      "12\n"
     ]
    },
    {
     "ename": "NameError",
     "evalue": "name 'c3' is not defined",
     "output_type": "error",
     "traceback": [
      "\u001b[1;31m---------------------------------------------------------------------------\u001b[0m",
      "\u001b[1;31mNameError\u001b[0m                                 Traceback (most recent call last)",
      "Cell \u001b[1;32mIn[21], line 9\u001b[0m\n\u001b[0;32m      7\u001b[0m a1\u001b[38;5;241m=\u001b[39m \u001b[38;5;241m10\u001b[39m \u001b[38;5;66;03m#global variable\u001b[39;00m\n\u001b[0;32m      8\u001b[0m \u001b[38;5;28mprint\u001b[39m(a1)\n\u001b[1;32m----> 9\u001b[0m \u001b[43mf1\u001b[49m\u001b[43m(\u001b[49m\u001b[43m)\u001b[49m\n\u001b[0;32m     10\u001b[0m c3\u001b[38;5;241m=\u001b[39m\u001b[38;5;241m20\u001b[39m\n\u001b[0;32m     11\u001b[0m \u001b[38;5;28mprint\u001b[39m(b1) \u001b[38;5;66;03m#cannot print a local variable outside a function\u001b[39;00m\n",
      "Cell \u001b[1;32mIn[21], line 5\u001b[0m, in \u001b[0;36mf1\u001b[1;34m()\u001b[0m\n\u001b[0;32m      3\u001b[0m \u001b[38;5;28mprint\u001b[39m(a1) \u001b[38;5;66;03m#a1 can be called even a3 is defined after function but it should be defined before the function call\u001b[39;00m\n\u001b[0;32m      4\u001b[0m \u001b[38;5;28mprint\u001b[39m(b1)\n\u001b[1;32m----> 5\u001b[0m \u001b[38;5;28mprint\u001b[39m(\u001b[43mc3\u001b[49m)\n",
      "\u001b[1;31mNameError\u001b[0m: name 'c3' is not defined"
     ]
    }
   ],
   "source": [
    "\n",
    "\n",
    "def f1():\n",
    "    b1 =12 #local variable\n",
    "    print(a1) #a1 can be called even a3 is defined after function but it should be defined before the function call\n",
    "    print(b1)\n",
    "    print(c3) #cant accessible, c2 is defined after function call\n",
    "    \n",
    "a1= 10 #global variable\n",
    "print(a1)\n",
    "f1()\n",
    "c3=20\n",
    "print(b1) #cannot print a local variable outside a function"
   ]
  },
  {
   "cell_type": "code",
   "execution_count": 23,
   "id": "c892db45-8b9d-40da-9929-4ff4a58547c6",
   "metadata": {},
   "outputs": [
    {
     "name": "stdout",
     "output_type": "stream",
     "text": [
      "13\n",
      "12\n",
      "13\n"
     ]
    }
   ],
   "source": [
    "a4 = 13\n",
    "\n",
    "def f4():\n",
    "    a4=12 #acess is fine but when you try to change, python assumes you want to create a variable\n",
    "    print(a4)\n",
    "\n",
    "print(a4) #13\n",
    "f4()\n",
    "print(a4)\n"
   ]
  },
  {
   "cell_type": "code",
   "execution_count": 24,
   "id": "b64f8932-4f41-40bb-93db-5a8bb4ea2e6c",
   "metadata": {},
   "outputs": [
    {
     "ename": "SyntaxError",
     "evalue": "invalid syntax (4012205953.py, line 4)",
     "output_type": "error",
     "traceback": [
      "\u001b[1;36m  Cell \u001b[1;32mIn[24], line 4\u001b[1;36m\u001b[0m\n\u001b[1;33m    global  a4=12 #if you want use global, we explicitly specify global\u001b[0m\n\u001b[1;37m              ^\u001b[0m\n\u001b[1;31mSyntaxError\u001b[0m\u001b[1;31m:\u001b[0m invalid syntax\n"
     ]
    }
   ],
   "source": [
    "a4 = 13\n",
    "\n",
    "def f4():\n",
    "    global  a4=12 #if you want use global, we explicitly specify global\n",
    "    print(a4)\n",
    "\n",
    "print(a4) #13\n",
    "f4()\n",
    "print(a4)\n"
   ]
  },
  {
   "cell_type": "code",
   "execution_count": 26,
   "id": "a0fef21d-e959-459f-820e-60638a49f7d3",
   "metadata": {},
   "outputs": [
    {
     "name": "stdout",
     "output_type": "stream",
     "text": [
      "13\n",
      "12\n",
      "12\n"
     ]
    }
   ],
   "source": [
    "a4 = 13\n",
    "\n",
    "def f4():\n",
    "    global  a4\n",
    "    a4=12 #if you want use global, we explicitly specify global\n",
    "    print(a4)\n",
    "\n",
    "print(a4) #13\n",
    "f4()\n",
    "print(a4)\n"
   ]
  },
  {
   "cell_type": "code",
   "execution_count": 27,
   "id": "6feb6f31-68a2-4e86-89b7-46105c65b7c9",
   "metadata": {},
   "outputs": [],
   "source": [
    "# Default Parameters\n",
    "# ex: print(\"abc\")\n",
    "# ex: print(\"abc\",end=\"\")\n",
    "\n",
    "# Syntax:\n",
    "# non default, default"
   ]
  },
  {
   "cell_type": "code",
   "execution_count": 31,
   "id": "60dca5ff-b86e-41cf-9cda-5a7591eca468",
   "metadata": {},
   "outputs": [
    {
     "data": {
      "text/plain": [
       "15"
      ]
     },
     "execution_count": 31,
     "metadata": {},
     "output_type": "execute_result"
    }
   ],
   "source": [
    "def sum(a,b,c=0,d=0):\n",
    "    return a+b+c+d\n",
    "sum(4,5,6)"
   ]
  },
  {
   "cell_type": "code",
   "execution_count": 33,
   "id": "e65fdf5d-0e01-403e-b97f-26278b17005a",
   "metadata": {},
   "outputs": [
    {
     "data": {
      "text/plain": [
       "69"
      ]
     },
     "execution_count": 33,
     "metadata": {},
     "output_type": "execute_result"
    }
   ],
   "source": [
    "sum(b=8,a=5,d=56)"
   ]
  },
  {
   "cell_type": "code",
   "execution_count": 36,
   "id": "5111a9ce-e006-47ea-97f4-f8b83de71bc1",
   "metadata": {},
   "outputs": [
    {
     "data": {
      "text/plain": [
       "14"
      ]
     },
     "execution_count": 36,
     "metadata": {},
     "output_type": "execute_result"
    }
   ],
   "source": [
    "# must pass default arguments by specifying or normal passing\n",
    "sum(3,4,d=7)"
   ]
  },
  {
   "cell_type": "code",
   "execution_count": 44,
   "id": "efa9f8dc-2989-4c49-a0c8-b0519cb28273",
   "metadata": {},
   "outputs": [
    {
     "name": "stdin",
     "output_type": "stream",
     "text": [
      " 0\n",
      " 100\n",
      " 20\n"
     ]
    },
    {
     "name": "stdout",
     "output_type": "stream",
     "text": [
      "0   -18\n",
      "20   -7\n",
      "40   4\n",
      "60   15\n",
      "80   26\n",
      "100   37\n"
     ]
    }
   ],
   "source": [
    "# Farenheit to celcius\n",
    "# s,e.w\n",
    "def f_to_c(f):\n",
    "    return (f-32)*5//9\n",
    "\n",
    "s=int(input())\n",
    "e=int(input())\n",
    "w=int(input())\n",
    "\n",
    "\n",
    "for i in range(s,e+1,w):\n",
    "    print(i,\" \",f_to_c(i))"
   ]
  },
  {
   "cell_type": "code",
   "execution_count": 46,
   "id": "ea0aba4e-c015-4170-ba9e-09c4f742bfd2",
   "metadata": {},
   "outputs": [
    {
     "name": "stdin",
     "output_type": "stream",
     "text": [
      " 0\n",
      " 100\n",
      " 20\n"
     ]
    },
    {
     "name": "stdout",
     "output_type": "stream",
     "text": [
      "0   -17\n",
      "20   -6\n",
      "40   4\n",
      "60   15\n",
      "80   26\n",
      "100   37\n"
     ]
    }
   ],
   "source": [
    "# Farenheit to celcius\n",
    "# s,e.w\n",
    "def f_to_c(f):\n",
    "    return int((f-32)*5/9) #just removes the points \n",
    "\n",
    "s=int(input())\n",
    "e=int(input())\n",
    "w=int(input())\n",
    "\n",
    "\n",
    "for i in range(s,e+1,w):\n",
    "    print(i,\" \",f_to_c(i))"
   ]
  },
  {
   "cell_type": "code",
   "execution_count": 52,
   "id": "88e01ca1-c648-46b2-8229-bc9b0ffd6e31",
   "metadata": {},
   "outputs": [],
   "source": [
    "# check whether is member of fibanocci or not\n",
    "\n",
    "\n",
    "def check_fibanocci(n):\n",
    "    i=1\n",
    "    if n==1:\n",
    "        return True\n",
    "    past=1\n",
    "    curr=1\n",
    "    \n",
    "    while i<n:\n",
    "        future = past+curr\n",
    "        past =curr\n",
    "        curr=future\n",
    "        i=future\n",
    "        if i== n:\n",
    "            return True\n",
    "    else:\n",
    "        return False\n",
    "\n",
    "        \n",
    "        "
   ]
  },
  {
   "cell_type": "code",
   "execution_count": 54,
   "id": "bf86d371-2860-4ab7-a6c1-4fbd09b2c09b",
   "metadata": {},
   "outputs": [
    {
     "data": {
      "text/plain": [
       "True"
      ]
     },
     "execution_count": 54,
     "metadata": {},
     "output_type": "execute_result"
    }
   ],
   "source": [
    "check_fibanocci(3)"
   ]
  },
  {
   "cell_type": "markdown",
   "id": "fd35b3a3-0285-4c05-b3f7-b3ef5d126dd6",
   "metadata": {},
   "source": [
    "# Tuples\n",
    "similar to lists but not exactly same\n",
    "\n",
    "in python, multiple things behave as tuples\n",
    "multiples elements together\n"
   ]
  },
  {
   "cell_type": "code",
   "execution_count": 56,
   "id": "8f3a694d-c52a-45d9-a22a-9be99867485d",
   "metadata": {},
   "outputs": [
    {
     "name": "stdout",
     "output_type": "stream",
     "text": [
      "<class 'list'>\n",
      "<class 'tuple'>\n",
      "<class 'int'>\n",
      "<class 'int'>\n",
      "<class 'tuple'>\n"
     ]
    }
   ],
   "source": [
    "a=[1,2] #list\n",
    "b=(1,2) #tuple\n",
    "\n",
    "c,d =1,2\n",
    "\n",
    "e=1,2 #when you keep multiple things into a single thing, python makes it a tuple\n",
    "\n",
    "print(type(a))\n",
    "print(type(b))\n",
    "print(type(c))\n",
    "print(type(d))\n",
    "print(type(e))\n"
   ]
  },
  {
   "cell_type": "code",
   "execution_count": 61,
   "id": "bb300d31-eca5-4b97-98ab-2bc7d8ae7e0f",
   "metadata": {},
   "outputs": [
    {
     "data": {
      "text/plain": [
       "(2, 4, 7, 8, 9)"
      ]
     },
     "execution_count": 61,
     "metadata": {},
     "output_type": "execute_result"
    }
   ],
   "source": [
    "# Acess elements in tuple\n",
    "# it is just like list\n",
    "\n",
    "# the indexing and slicing works same way for strings, tuples and lists\n",
    "# they are ordered \n",
    "\n",
    "a=(1,2,4,7,8,9)\n",
    "a[0]\n",
    "a[1:3]\n",
    "a[1:]"
   ]
  },
  {
   "cell_type": "code",
   "execution_count": 63,
   "id": "fdc8980c-dfe8-4cb9-9b47-b6381cd09c7c",
   "metadata": {},
   "outputs": [
    {
     "ename": "TypeError",
     "evalue": "'tuple' object does not support item assignment",
     "output_type": "error",
     "traceback": [
      "\u001b[1;31m---------------------------------------------------------------------------\u001b[0m",
      "\u001b[1;31mTypeError\u001b[0m                                 Traceback (most recent call last)",
      "Cell \u001b[1;32mIn[63], line 5\u001b[0m\n\u001b[0;32m      1\u001b[0m \u001b[38;5;66;03m# Diff betwwen lsit and tuples\u001b[39;00m\n\u001b[0;32m      2\u001b[0m \u001b[38;5;66;03m# lists are mutable\u001b[39;00m\n\u001b[0;32m      3\u001b[0m \u001b[38;5;66;03m# tuples are immutables\u001b[39;00m\n\u001b[0;32m      4\u001b[0m a\u001b[38;5;241m=\u001b[39m(\u001b[38;5;241m1\u001b[39m,\u001b[38;5;241m2\u001b[39m,\u001b[38;5;241m4\u001b[39m,\u001b[38;5;241m7\u001b[39m,\u001b[38;5;241m8\u001b[39m,\u001b[38;5;241m9\u001b[39m)\n\u001b[1;32m----> 5\u001b[0m \u001b[43ma\u001b[49m\u001b[43m[\u001b[49m\u001b[38;5;241;43m0\u001b[39;49m\u001b[43m]\u001b[49m\u001b[38;5;241m=\u001b[39m\u001b[38;5;241m1\u001b[39m\n",
      "\u001b[1;31mTypeError\u001b[0m: 'tuple' object does not support item assignment"
     ]
    }
   ],
   "source": [
    "# Diff betwwen lsit and tuples\n",
    "# lists are mutable\n",
    "# tuples are immutables:only reacbles,\n",
    "a=(1,2,4,7,8,9)\n",
    "a[0]=1"
   ]
  },
  {
   "cell_type": "code",
   "execution_count": 69,
   "id": "8001a7a9-70c9-4a24-9d4a-63b49fb52cb1",
   "metadata": {},
   "outputs": [],
   "source": [
    "a=(1,2,4,7,8,9)\n",
    "a=(4,5) #this is possible\n",
    "a=(1,2,4,7,8,9,1,3,5)"
   ]
  },
  {
   "cell_type": "code",
   "execution_count": 70,
   "id": "df80766e-1e31-4e78-8964-9a6ca44ab16e",
   "metadata": {},
   "outputs": [
    {
     "ename": "TypeError",
     "evalue": "'tuple' object doesn't support item deletion",
     "output_type": "error",
     "traceback": [
      "\u001b[1;31m---------------------------------------------------------------------------\u001b[0m",
      "\u001b[1;31mTypeError\u001b[0m                                 Traceback (most recent call last)",
      "Cell \u001b[1;32mIn[70], line 1\u001b[0m\n\u001b[1;32m----> 1\u001b[0m \u001b[38;5;28;01mdel\u001b[39;00m \u001b[43ma\u001b[49m\u001b[43m[\u001b[49m\u001b[38;5;241;43m3\u001b[39;49m\u001b[43m]\u001b[49m \u001b[38;5;66;03m#not possible\u001b[39;00m\n",
      "\u001b[1;31mTypeError\u001b[0m: 'tuple' object doesn't support item deletion"
     ]
    }
   ],
   "source": [
    "del a[3] #not possible"
   ]
  },
  {
   "cell_type": "markdown",
   "id": "8a4591d0-4451-482f-bd07-8a465c5a8cbd",
   "metadata": {},
   "source": [
    "## Functions in tuples\n"
   ]
  },
  {
   "cell_type": "code",
   "execution_count": 71,
   "id": "af0255a9-b7bd-40bd-a894-5f6926eda022",
   "metadata": {},
   "outputs": [
    {
     "name": "stdout",
     "output_type": "stream",
     "text": [
      "1\n",
      "2\n",
      "4\n",
      "7\n",
      "8\n",
      "9\n",
      "1\n",
      "3\n",
      "5\n"
     ]
    }
   ],
   "source": [
    "# for loops\n",
    "for i in a:\n",
    "    print(i)"
   ]
  },
  {
   "cell_type": "code",
   "execution_count": 72,
   "id": "5362ee2e-5f9b-4565-99e0-67a82a590189",
   "metadata": {},
   "outputs": [
    {
     "data": {
      "text/plain": [
       "True"
      ]
     },
     "execution_count": 72,
     "metadata": {},
     "output_type": "execute_result"
    }
   ],
   "source": [
    "1 in a #membership checking"
   ]
  },
  {
   "cell_type": "code",
   "execution_count": 74,
   "id": "e155fcff-42c1-4048-8ff6-f42df74b9327",
   "metadata": {},
   "outputs": [
    {
     "data": {
      "text/plain": [
       "9"
      ]
     },
     "execution_count": 74,
     "metadata": {},
     "output_type": "execute_result"
    }
   ],
   "source": [
    "len(a)\n"
   ]
  },
  {
   "cell_type": "code",
   "execution_count": 76,
   "id": "f6c538f1-f4b2-4ab5-8246-eb15f247ec62",
   "metadata": {},
   "outputs": [
    {
     "data": {
      "text/plain": [
       "(1, 2, 4, 7, 8, 9, 1, 3, 5, 1, 2)"
      ]
     },
     "execution_count": 76,
     "metadata": {},
     "output_type": "execute_result"
    }
   ],
   "source": [
    "c=a+b\n",
    "c"
   ]
  },
  {
   "cell_type": "code",
   "execution_count": 79,
   "id": "3aee415e-521b-4bfd-b2e8-ff2d4f296064",
   "metadata": {},
   "outputs": [
    {
     "data": {
      "text/plain": [
       "((1, 2, 4, 7, 8, 9, 1, 3, 5), (1, 2, 4, 7, 8, 9, 1, 3, 5, 1, 2))"
      ]
     },
     "execution_count": 79,
     "metadata": {},
     "output_type": "execute_result"
    }
   ],
   "source": [
    "d =(a,c)\n",
    "d\n"
   ]
  },
  {
   "cell_type": "code",
   "execution_count": 84,
   "id": "4e1b770d-5b97-48ab-b6bf-b7dfa77a43b9",
   "metadata": {},
   "outputs": [
    {
     "data": {
      "text/plain": [
       "(1, 2, 4, 7, 8, 9, 1, 3, 5, 1, 2, 4, 7, 8, 9, 1, 3, 5)"
      ]
     },
     "execution_count": 84,
     "metadata": {},
     "output_type": "execute_result"
    }
   ],
   "source": [
    "e=a*2\n",
    "e"
   ]
  },
  {
   "cell_type": "code",
   "execution_count": 86,
   "id": "62692716-7bdb-46f1-ad18-76f658be9744",
   "metadata": {},
   "outputs": [
    {
     "data": {
      "text/plain": [
       "9"
      ]
     },
     "execution_count": 86,
     "metadata": {},
     "output_type": "execute_result"
    }
   ],
   "source": [
    "max(e)"
   ]
  },
  {
   "cell_type": "code",
   "execution_count": 88,
   "id": "384dbbc9-bdc7-4505-b97a-df9be1f1bee6",
   "metadata": {},
   "outputs": [
    {
     "data": {
      "text/plain": [
       "1"
      ]
     },
     "execution_count": 88,
     "metadata": {},
     "output_type": "execute_result"
    }
   ],
   "source": [
    "min(a) #still need homogenous, altleast comparable"
   ]
  },
  {
   "cell_type": "code",
   "execution_count": 93,
   "id": "9049b82e-d542-4434-af40-c300cbb32f42",
   "metadata": {},
   "outputs": [
    {
     "data": {
      "text/plain": [
       "1.1"
      ]
     },
     "execution_count": 93,
     "metadata": {},
     "output_type": "execute_result"
    }
   ],
   "source": [
    "ran=(3,1.1)\n",
    "min(ran)"
   ]
  },
  {
   "cell_type": "code",
   "execution_count": 94,
   "id": "dd7fef78-abef-4bd3-b4d6-f3f9a48369ba",
   "metadata": {},
   "outputs": [
    {
     "data": {
      "text/plain": [
       "'ab'"
      ]
     },
     "execution_count": 94,
     "metadata": {},
     "output_type": "execute_result"
    }
   ],
   "source": [
    "a=(\"ab\",\"bc\",\"de\")\n",
    "min(a)"
   ]
  },
  {
   "cell_type": "code",
   "execution_count": 95,
   "id": "a7ab10be-9385-43b6-b670-0a0eae4ec878",
   "metadata": {},
   "outputs": [
    {
     "data": {
      "text/plain": [
       "(1, 2, 3)"
      ]
     },
     "execution_count": 95,
     "metadata": {},
     "output_type": "execute_result"
    }
   ],
   "source": [
    "# list to tuple\n",
    "l=[1,2,3]\n",
    "t=tuple(l)\n",
    "t"
   ]
  },
  {
   "cell_type": "code",
   "execution_count": 96,
   "id": "f023582a-9b4d-4958-b77c-8cc8fb5a56df",
   "metadata": {},
   "outputs": [],
   "source": [
    "# Variable length input and Output\n",
    "# sum(.................) multiple\n",
    "\n",
    "def sum(a,b):\n",
    "    return a+b\n",
    "\n"
   ]
  },
  {
   "cell_type": "code",
   "execution_count": 101,
   "id": "724fd3a6-337b-4fc4-88a3-d4ad0b193246",
   "metadata": {},
   "outputs": [
    {
     "name": "stdout",
     "output_type": "stream",
     "text": [
      "10\n",
      "4\n",
      "<class 'tuple'>\n"
     ]
    }
   ],
   "source": [
    "def sum2(a,b,*more):\n",
    "    print(a)\n",
    "    print(b)\n",
    "    print(type(more))\n",
    "\n",
    "sum2(10,4)\n",
    "\n"
   ]
  },
  {
   "cell_type": "code",
   "execution_count": null,
   "id": "280147e8-fc5b-48a8-a1c5-34a940c2a37b",
   "metadata": {},
   "outputs": [],
   "source": []
  },
  {
   "cell_type": "code",
   "execution_count": 104,
   "id": "54268cd0-c645-4f05-9e2d-38c62be37ab4",
   "metadata": {},
   "outputs": [
    {
     "data": {
      "text/plain": [
       "50"
      ]
     },
     "execution_count": 104,
     "metadata": {},
     "output_type": "execute_result"
    }
   ],
   "source": [
    "# variable length input to function\n",
    "\n",
    "def sum2(a,b,*more):\n",
    "    ans=a+b\n",
    "    for i in more:\n",
    "        ans+=i\n",
    "    return ans\n",
    "    \n",
    "\n",
    "sum2(10,4,6,10,20)\n",
    "\n"
   ]
  },
  {
   "cell_type": "code",
   "execution_count": 105,
   "id": "ec7a8344-fc60-4dc8-a415-fcf202bbe0ad",
   "metadata": {},
   "outputs": [],
   "source": [
    "# variable length output from function\n",
    "def sum_diff(a,b):\n",
    "    return a+b,a-b"
   ]
  },
  {
   "cell_type": "code",
   "execution_count": 106,
   "id": "c83d76e9-4ede-4c36-aa4a-77588c890e49",
   "metadata": {},
   "outputs": [],
   "source": [
    "c=sum_diff(4,5)"
   ]
  },
  {
   "cell_type": "code",
   "execution_count": 107,
   "id": "39bc8b4f-0abd-4334-927a-d0a9a74c131b",
   "metadata": {},
   "outputs": [
    {
     "data": {
      "text/plain": [
       "(9, -1)"
      ]
     },
     "execution_count": 107,
     "metadata": {},
     "output_type": "execute_result"
    }
   ],
   "source": [
    "c"
   ]
  },
  {
   "cell_type": "code",
   "execution_count": 109,
   "id": "00aa9e91-3852-4df9-acc1-9a7f0a6aaf42",
   "metadata": {},
   "outputs": [
    {
     "name": "stdout",
     "output_type": "stream",
     "text": [
      "15\n",
      "5\n"
     ]
    }
   ],
   "source": [
    "d,e= sum_diff(10,5) #length has to match \n",
    "print(d)\n",
    "print(e) "
   ]
  },
  {
   "cell_type": "markdown",
   "id": "20bcf818-bb05-4ffc-aa3e-fb322bdf9e80",
   "metadata": {},
   "source": [
    "# Dictionary"
   ]
  },
  {
   "cell_type": "markdown",
   "id": "e9240657-fcb9-4377-912a-a9ef9cc8bf04",
   "metadata": {},
   "source": [
    "lists uses indexes \n",
    "\n",
    "for dictionary , you can use whatever the keys and whatever the values\n",
    "\n",
    "{}"
   ]
  },
  {
   "cell_type": "code",
   "execution_count": 118,
   "id": "69846a04-fa0c-403e-ba1b-ad8ee67a446e",
   "metadata": {},
   "outputs": [
    {
     "name": "stdout",
     "output_type": "stream",
     "text": [
      "<class 'dict'>\n",
      "{100: 'the', 'a': 5}\n"
     ]
    }
   ],
   "source": [
    "# we give key value pair\n",
    "\n",
    "a={\"the\":2,\"a\":5}\n",
    "print(type(a))\n",
    "\n",
    "b={100:\"the\",\"a\":5}\n",
    "print(b)"
   ]
  },
  {
   "cell_type": "code",
   "execution_count": 117,
   "id": "6cd79960-e33a-4a4d-808d-8c4e1ac41a79",
   "metadata": {},
   "outputs": [
    {
     "data": {
      "text/plain": [
       "{100: 'the', 'a': 5}"
      ]
     },
     "execution_count": 117,
     "metadata": {},
     "output_type": "execute_result"
    }
   ],
   "source": [
    "a\n",
    "b"
   ]
  },
  {
   "cell_type": "code",
   "execution_count": 120,
   "id": "563aa712-2c8e-4438-9dc3-57f637dd2a31",
   "metadata": {},
   "outputs": [
    {
     "data": {
      "text/plain": [
       "2"
      ]
     },
     "execution_count": 120,
     "metadata": {},
     "output_type": "execute_result"
    }
   ],
   "source": [
    "# for lists, 10000 means you need to have atleast\n",
    "# but for dictionary it is not, it is still three\n",
    "len(a)"
   ]
  },
  {
   "cell_type": "code",
   "execution_count": 121,
   "id": "0443388a-10ad-432a-8064-6fb8a6ebc062",
   "metadata": {},
   "outputs": [],
   "source": [
    "b=a.copy()"
   ]
  },
  {
   "cell_type": "code",
   "execution_count": 122,
   "id": "435dfcdb-c54d-449d-bed6-f351fbf3169e",
   "metadata": {},
   "outputs": [
    {
     "data": {
      "text/plain": [
       "{'the': 3, 'and': 6}"
      ]
     },
     "execution_count": 122,
     "metadata": {},
     "output_type": "execute_result"
    }
   ],
   "source": [
    "c=dict([(\"the\",3),(\"and\",6)])\n",
    "c"
   ]
  },
  {
   "cell_type": "code",
   "execution_count": 124,
   "id": "0008f3ca-9e6a-466b-888a-42a2cfa186d9",
   "metadata": {},
   "outputs": [
    {
     "data": {
      "text/plain": [
       "{'abc': 10, 32: 10, 5: 10}"
      ]
     },
     "execution_count": 124,
     "metadata": {},
     "output_type": "execute_result"
    }
   ],
   "source": [
    "d = dict.fromkeys([\"abc\",32,5], 10) #if you dont provide, then None\n",
    "d"
   ]
  },
  {
   "cell_type": "code",
   "execution_count": null,
   "id": "8df8f71f-0fdb-490e-ba52-a0b38cbed261",
   "metadata": {},
   "outputs": [],
   "source": [
    "# dictionary is mutable\n"
   ]
  },
  {
   "cell_type": "code",
   "execution_count": 125,
   "id": "0c0a1bd5-f58e-4483-82e4-f8583f651c69",
   "metadata": {},
   "outputs": [
    {
     "data": {
      "text/plain": [
       "{1: 2, 3: 4, 'list': [1, 23], 'dict': {1: 1, 2: 3, 4: 5}}"
      ]
     },
     "execution_count": 125,
     "metadata": {},
     "output_type": "execute_result"
    }
   ],
   "source": [
    "# Functions with dictionary\n",
    "a={1:2,3:4,\"list\":[1,23],\"dict\":{1:1,2:3,4:5}}\n",
    "a"
   ]
  },
  {
   "cell_type": "code",
   "execution_count": 126,
   "id": "65076760-2fa0-4d1b-a7e8-89208b8e8931",
   "metadata": {},
   "outputs": [
    {
     "data": {
      "text/plain": [
       "2"
      ]
     },
     "execution_count": 126,
     "metadata": {},
     "output_type": "execute_result"
    }
   ],
   "source": [
    "# acessing \n",
    "# use keys for acessing\n",
    "\n",
    "a[1]"
   ]
  },
  {
   "cell_type": "code",
   "execution_count": 127,
   "id": "70241304-e50d-455b-9fdc-ac631bd499a5",
   "metadata": {},
   "outputs": [
    {
     "data": {
      "text/plain": [
       "[1, 23]"
      ]
     },
     "execution_count": 127,
     "metadata": {},
     "output_type": "execute_result"
    }
   ],
   "source": [
    "a[\"list\"]"
   ]
  },
  {
   "cell_type": "code",
   "execution_count": 129,
   "id": "78667ed3-21d2-4578-bf55-b9cb8f711cb3",
   "metadata": {},
   "outputs": [
    {
     "data": {
      "text/plain": [
       "[1, 23]"
      ]
     },
     "execution_count": 129,
     "metadata": {},
     "output_type": "execute_result"
    }
   ],
   "source": [
    "a.get(\"list\")\n"
   ]
  },
  {
   "cell_type": "code",
   "execution_count": 132,
   "id": "7ba05da1-3ba1-4e31-b073-892c94673644",
   "metadata": {},
   "outputs": [
    {
     "name": "stdout",
     "output_type": "stream",
     "text": [
      "None\n"
     ]
    }
   ],
   "source": [
    "print(a.get(\"li\"))\n",
    "# .get() and [] are same if present, but if not there the [] fails, but get gives None"
   ]
  },
  {
   "cell_type": "code",
   "execution_count": 133,
   "id": "af167218-a3f6-45b1-afbb-f94f70e4eff0",
   "metadata": {},
   "outputs": [
    {
     "data": {
      "text/plain": [
       "0"
      ]
     },
     "execution_count": 133,
     "metadata": {},
     "output_type": "execute_result"
    }
   ],
   "source": [
    "a.get(\"li\",0) #we can give defalt value to return if not found "
   ]
  },
  {
   "cell_type": "code",
   "execution_count": 134,
   "id": "cac75a26-e2aa-46c2-a5da-0ebd326190b8",
   "metadata": {},
   "outputs": [
    {
     "data": {
      "text/plain": [
       "dict_keys([1, 3, 'list', 'dict'])"
      ]
     },
     "execution_count": 134,
     "metadata": {},
     "output_type": "execute_result"
    }
   ],
   "source": [
    "a.keys() #behaves like list"
   ]
  },
  {
   "cell_type": "code",
   "execution_count": 135,
   "id": "9cfb52c0-e1ef-4f36-9229-292a492ff7af",
   "metadata": {},
   "outputs": [
    {
     "data": {
      "text/plain": [
       "dict_values([2, 4, [1, 23], {1: 1, 2: 3, 4: 5}])"
      ]
     },
     "execution_count": 135,
     "metadata": {},
     "output_type": "execute_result"
    }
   ],
   "source": [
    "a.values()"
   ]
  },
  {
   "cell_type": "code",
   "execution_count": 136,
   "id": "5fa4d9e2-e7a7-4aba-bddd-ec440bdde222",
   "metadata": {},
   "outputs": [
    {
     "data": {
      "text/plain": [
       "dict_items([(1, 2), (3, 4), ('list', [1, 23]), ('dict', {1: 1, 2: 3, 4: 5})])"
      ]
     },
     "execution_count": 136,
     "metadata": {},
     "output_type": "execute_result"
    }
   ],
   "source": [
    "a.items() #list of tuples"
   ]
  },
  {
   "cell_type": "code",
   "execution_count": 137,
   "id": "1b45628a-e603-4453-af50-2c4af652b925",
   "metadata": {},
   "outputs": [
    {
     "name": "stdout",
     "output_type": "stream",
     "text": [
      "1\n",
      "3\n",
      "list\n",
      "dict\n"
     ]
    }
   ],
   "source": [
    "for i in a:\n",
    "    print(i) #keys"
   ]
  },
  {
   "cell_type": "code",
   "execution_count": 139,
   "id": "8fd4abc8-3fe6-4913-9b31-18beef999da8",
   "metadata": {},
   "outputs": [
    {
     "name": "stdout",
     "output_type": "stream",
     "text": [
      "1 : 2\n",
      "3 : 4\n",
      "list : [1, 23]\n",
      "dict : {1: 1, 2: 3, 4: 5}\n"
     ]
    }
   ],
   "source": [
    "for i in a:\n",
    "    print(i,\":\",a[i]) #keys"
   ]
  },
  {
   "cell_type": "code",
   "execution_count": 140,
   "id": "0e9ec3fd-ec16-4a31-b1fb-d55365f2f491",
   "metadata": {},
   "outputs": [
    {
     "name": "stdout",
     "output_type": "stream",
     "text": [
      "2\n",
      "4\n",
      "[1, 23]\n",
      "{1: 1, 2: 3, 4: 5}\n"
     ]
    }
   ],
   "source": [
    "for i in a.values():\n",
    "    print(i)"
   ]
  },
  {
   "cell_type": "code",
   "execution_count": 141,
   "id": "b2db66e2-5009-4be5-8545-aa1c5fcb6936",
   "metadata": {},
   "outputs": [
    {
     "data": {
      "text/plain": [
       "True"
      ]
     },
     "execution_count": 141,
     "metadata": {},
     "output_type": "execute_result"
    }
   ],
   "source": [
    "# How to check if a key is exist or not\n",
    "\"list\" in a #checks only keys"
   ]
  },
  {
   "cell_type": "code",
   "execution_count": 142,
   "id": "d626cf3d-f8c7-4dc1-92e2-213e646fba72",
   "metadata": {},
   "outputs": [
    {
     "data": {
      "text/plain": [
       "False"
      ]
     },
     "execution_count": 142,
     "metadata": {},
     "output_type": "execute_result"
    }
   ],
   "source": [
    "\"li\" in a"
   ]
  },
  {
   "cell_type": "code",
   "execution_count": 147,
   "id": "1417cab7-1e7c-4625-be30-6e478249c522",
   "metadata": {},
   "outputs": [],
   "source": [
    " # Adding or removing Data in Dictionary\n",
    "a[\"78\"]=\"345\""
   ]
  },
  {
   "cell_type": "code",
   "execution_count": null,
   "id": "6d2e95d9-df4b-4ff5-92ce-d653208e5e0a",
   "metadata": {},
   "outputs": [],
   "source": []
  },
  {
   "cell_type": "code",
   "execution_count": 148,
   "id": "73a7f680-e8d1-45d2-b431-682ffd1050bc",
   "metadata": {},
   "outputs": [
    {
     "data": {
      "text/plain": [
       "{1: 2,\n",
       " 3: 4,\n",
       " 'list': [1, 23],\n",
       " 'dict': {1: 1, 2: 3, 4: 5},\n",
       " 124: '345',\n",
       " '78': '345'}"
      ]
     },
     "execution_count": 148,
     "metadata": {},
     "output_type": "execute_result"
    }
   ],
   "source": [
    "a"
   ]
  },
  {
   "cell_type": "code",
   "execution_count": 149,
   "id": "76bbb06e-6627-4264-94c3-1c036aac9667",
   "metadata": {},
   "outputs": [],
   "source": [
    "a[\"abc\"]=\"def\" #adding data"
   ]
  },
  {
   "cell_type": "code",
   "execution_count": 150,
   "id": "2bbfa2ab-9e73-475b-b7bb-5feaef9241b4",
   "metadata": {},
   "outputs": [
    {
     "data": {
      "text/plain": [
       "{1: 2,\n",
       " 3: 4,\n",
       " 'list': [1, 23],\n",
       " 'dict': {1: 1, 2: 3, 4: 5},\n",
       " 124: '345',\n",
       " '78': '345',\n",
       " 'abc': 'def'}"
      ]
     },
     "execution_count": 150,
     "metadata": {},
     "output_type": "execute_result"
    }
   ],
   "source": [
    "a"
   ]
  },
  {
   "cell_type": "code",
   "execution_count": 151,
   "id": "3cbb6afc-0922-4c22-aac5-d8cbf50defda",
   "metadata": {},
   "outputs": [],
   "source": [
    "# updating\n",
    "a[\"abc\"] =\"hik\""
   ]
  },
  {
   "cell_type": "code",
   "execution_count": 152,
   "id": "5ff7261b-99b0-478b-9e92-9604664422ac",
   "metadata": {},
   "outputs": [
    {
     "data": {
      "text/plain": [
       "{1: 2,\n",
       " 3: 4,\n",
       " 'list': [1, 23],\n",
       " 'dict': {1: 1, 2: 3, 4: 5},\n",
       " 124: '345',\n",
       " '78': '345',\n",
       " 'abc': 'hik'}"
      ]
     },
     "execution_count": 152,
     "metadata": {},
     "output_type": "execute_result"
    }
   ],
   "source": [
    "a"
   ]
  },
  {
   "cell_type": "code",
   "execution_count": 155,
   "id": "34f5120e-cac1-4018-9143-84098652250c",
   "metadata": {},
   "outputs": [],
   "source": [
    "# update\n",
    "b={1:100,\"aas\":\"fd\"}\n",
    "a.update(b) #what ever the values of b not available in a, will be added\n",
    "# what ever keys avaible in both a and b, value will be according to b"
   ]
  },
  {
   "cell_type": "code",
   "execution_count": 156,
   "id": "9603a0c0-a0fc-4904-8d68-d642ab09ec26",
   "metadata": {},
   "outputs": [
    {
     "data": {
      "text/plain": [
       "{1: 100,\n",
       " 3: 4,\n",
       " 'list': [1, 23],\n",
       " 'dict': {1: 1, 2: 3, 4: 5},\n",
       " 124: '345',\n",
       " '78': '345',\n",
       " 'abc': 'hik',\n",
       " 90: 100,\n",
       " 'aas': 'fd'}"
      ]
     },
     "execution_count": 156,
     "metadata": {},
     "output_type": "execute_result"
    }
   ],
   "source": [
    "a "
   ]
  },
  {
   "cell_type": "code",
   "execution_count": 158,
   "id": "29baff5c-498a-4ed2-be56-b04fb373aa2c",
   "metadata": {},
   "outputs": [
    {
     "data": {
      "text/plain": [
       "'fd'"
      ]
     },
     "execution_count": 158,
     "metadata": {},
     "output_type": "execute_result"
    }
   ],
   "source": [
    "# remove \n",
    "a.pop('aas') #key required"
   ]
  },
  {
   "cell_type": "code",
   "execution_count": 159,
   "id": "c44dd347-1519-47ae-994c-bc71bfdf7b38",
   "metadata": {},
   "outputs": [],
   "source": [
    "del a[1]"
   ]
  },
  {
   "cell_type": "code",
   "execution_count": 160,
   "id": "42b7fdc3-7b5f-4a0f-95ad-30f5471c9dff",
   "metadata": {},
   "outputs": [
    {
     "data": {
      "text/plain": [
       "{3: 4,\n",
       " 'list': [1, 23],\n",
       " 'dict': {1: 1, 2: 3, 4: 5},\n",
       " 124: '345',\n",
       " '78': '345',\n",
       " 'abc': 'hik',\n",
       " 90: 100}"
      ]
     },
     "execution_count": 160,
     "metadata": {},
     "output_type": "execute_result"
    }
   ],
   "source": [
    "a"
   ]
  },
  {
   "cell_type": "code",
   "execution_count": 161,
   "id": "8261ad5a-fde2-4aa1-8ee9-979402bf0f13",
   "metadata": {},
   "outputs": [],
   "source": [
    "a.clear()"
   ]
  },
  {
   "cell_type": "code",
   "execution_count": 162,
   "id": "a26aec42-310d-452b-973b-edf1b5a3f221",
   "metadata": {},
   "outputs": [
    {
     "data": {
      "text/plain": [
       "{}"
      ]
     },
     "execution_count": 162,
     "metadata": {},
     "output_type": "execute_result"
    }
   ],
   "source": [
    "a"
   ]
  },
  {
   "cell_type": "code",
   "execution_count": 183,
   "id": "e37b41ba-a5b2-4272-a9de-6bc016643b8d",
   "metadata": {},
   "outputs": [
    {
     "name": "stdout",
     "output_type": "stream",
     "text": [
      "This\n",
      "good\n"
     ]
    }
   ],
   "source": [
    "# Print all words with frequency k\n",
    "\n",
    "def Print_allWordWithFrequencyk(s,k):\n",
    "    l= s.split()\n",
    "    d={}\n",
    "    \n",
    "    for i in l:\n",
    "        d[i] = d.get(i,0)+1\n",
    "    \n",
    "    for i in d:\n",
    "        if d[i]==k:\n",
    "            print(i)\n",
    "\n",
    "s=\"This is a good a of is of are are\"\n",
    "\n",
    "Print_allWordWithFrequencyk(s,1)\n"
   ]
  },
  {
   "cell_type": "markdown",
   "id": "4ae5048c-afb7-44ae-bd66-343a2ab63643",
   "metadata": {},
   "source": [
    "# Sets\n",
    "things are uniques\n",
    "\n",
    "sets are also collection of data but not ordered\n",
    "\n",
    "sets are useful when check like: how many unique words are there in a string\n",
    "\n",
    "{} \n",
    "only keys but not values, no ordering"
   ]
  },
  {
   "cell_type": "code",
   "execution_count": 184,
   "id": "e350f4ff-d5d4-4625-a428-b4014d4eda15",
   "metadata": {},
   "outputs": [
    {
     "data": {
      "text/plain": [
       "{23, 'apple', 'banana'}"
      ]
     },
     "execution_count": 184,
     "metadata": {},
     "output_type": "execute_result"
    }
   ],
   "source": [
    "a={\"apple\",\"banana\",23}\n",
    "a"
   ]
  },
  {
   "cell_type": "code",
   "execution_count": 185,
   "id": "4dfeb8c6-12ba-40ca-a479-b594a8cb108a",
   "metadata": {},
   "outputs": [
    {
     "data": {
      "text/plain": [
       "set"
      ]
     },
     "execution_count": 185,
     "metadata": {},
     "output_type": "execute_result"
    }
   ],
   "source": [
    "type(a)"
   ]
  },
  {
   "cell_type": "code",
   "execution_count": 186,
   "id": "cc4b77f4-2199-447c-9fc1-4f00a91db105",
   "metadata": {},
   "outputs": [
    {
     "ename": "TypeError",
     "evalue": "'set' object is not subscriptable",
     "output_type": "error",
     "traceback": [
      "\u001b[1;31m---------------------------------------------------------------------------\u001b[0m",
      "\u001b[1;31mTypeError\u001b[0m                                 Traceback (most recent call last)",
      "Cell \u001b[1;32mIn[186], line 1\u001b[0m\n\u001b[1;32m----> 1\u001b[0m \u001b[43ma\u001b[49m\u001b[43m[\u001b[49m\u001b[38;5;241;43m0\u001b[39;49m\u001b[43m]\u001b[49m\n",
      "\u001b[1;31mTypeError\u001b[0m: 'set' object is not subscriptable"
     ]
    }
   ],
   "source": [
    "a[0] #not valid"
   ]
  },
  {
   "cell_type": "code",
   "execution_count": 187,
   "id": "cc3111ee-c4c7-47ec-bd0c-af888a50e542",
   "metadata": {},
   "outputs": [
    {
     "ename": "TypeError",
     "evalue": "'set' object is not subscriptable",
     "output_type": "error",
     "traceback": [
      "\u001b[1;31m---------------------------------------------------------------------------\u001b[0m",
      "\u001b[1;31mTypeError\u001b[0m                                 Traceback (most recent call last)",
      "Cell \u001b[1;32mIn[187], line 1\u001b[0m\n\u001b[1;32m----> 1\u001b[0m \u001b[43ma\u001b[49m\u001b[43m[\u001b[49m\u001b[38;5;124;43m'\u001b[39;49m\u001b[38;5;124;43mabc\u001b[39;49m\u001b[38;5;124;43m'\u001b[39;49m\u001b[43m]\u001b[49m\n",
      "\u001b[1;31mTypeError\u001b[0m: 'set' object is not subscriptable"
     ]
    }
   ],
   "source": [
    "a['abc'] #not valid"
   ]
  },
  {
   "cell_type": "code",
   "execution_count": 188,
   "id": "f20ba7d4-af17-47b2-927b-8a42248e6bfb",
   "metadata": {},
   "outputs": [
    {
     "data": {
      "text/plain": [
       "False"
      ]
     },
     "execution_count": 188,
     "metadata": {},
     "output_type": "execute_result"
    }
   ],
   "source": [
    "'abc' in a"
   ]
  },
  {
   "cell_type": "code",
   "execution_count": 189,
   "id": "9911b11a-dd44-415d-b8ac-d093f6c2ccdb",
   "metadata": {},
   "outputs": [
    {
     "data": {
      "text/plain": [
       "True"
      ]
     },
     "execution_count": 189,
     "metadata": {},
     "output_type": "execute_result"
    }
   ],
   "source": [
    "23 in a"
   ]
  },
  {
   "cell_type": "code",
   "execution_count": 190,
   "id": "6ebb7722-609c-4f4c-a7f0-904af3717916",
   "metadata": {},
   "outputs": [
    {
     "name": "stdout",
     "output_type": "stream",
     "text": [
      "banana\n",
      "apple\n",
      "23\n"
     ]
    }
   ],
   "source": [
    "for v in a:\n",
    "    print(v)"
   ]
  },
  {
   "cell_type": "code",
   "execution_count": 191,
   "id": "e480fe13-7d20-407a-9b02-20fcf7c0c229",
   "metadata": {},
   "outputs": [
    {
     "data": {
      "text/plain": [
       "3"
      ]
     },
     "execution_count": 191,
     "metadata": {},
     "output_type": "execute_result"
    }
   ],
   "source": [
    "len(a)"
   ]
  },
  {
   "cell_type": "code",
   "execution_count": 192,
   "id": "205d8a96-34d5-4f9d-878e-4f07a3213de8",
   "metadata": {},
   "outputs": [],
   "source": [
    "# add\n",
    "\n",
    "a.add(\"temp\")"
   ]
  },
  {
   "cell_type": "code",
   "execution_count": 193,
   "id": "b4b28230-eb37-48d8-aec8-1cf2890ff08b",
   "metadata": {},
   "outputs": [
    {
     "data": {
      "text/plain": [
       "{23, 'abc', 'apple', 'banana', 'ghi', 'temp'}"
      ]
     },
     "execution_count": 193,
     "metadata": {},
     "output_type": "execute_result"
    }
   ],
   "source": [
    "b={\"abc\",\"ghi\"}\n",
    "a.update(b)\n",
    "a"
   ]
  },
  {
   "cell_type": "code",
   "execution_count": 194,
   "id": "526f1d45-c571-4935-b880-ff955ed573bf",
   "metadata": {},
   "outputs": [],
   "source": [
    "a.remove(\"temp\")"
   ]
  },
  {
   "cell_type": "code",
   "execution_count": null,
   "id": "769b1099-9a35-4d16-b18f-f158b5a3e6ce",
   "metadata": {},
   "outputs": [],
   "source": [
    "# if not there error will come"
   ]
  },
  {
   "cell_type": "code",
   "execution_count": 195,
   "id": "c7936fdf-8e89-413a-9bcd-51a7e18234f6",
   "metadata": {},
   "outputs": [],
   "source": [
    "a.discard('rrr') #no error"
   ]
  },
  {
   "cell_type": "code",
   "execution_count": null,
   "id": "1cafbc7a-72b0-4e96-8a6f-08e7ea442926",
   "metadata": {},
   "outputs": [],
   "source": [
    "a.pop() #randomly deletes a value"
   ]
  },
  {
   "cell_type": "code",
   "execution_count": 196,
   "id": "bda2eec4-e61a-491e-9b0a-dd4654f59ab0",
   "metadata": {},
   "outputs": [
    {
     "data": {
      "text/plain": [
       "{2, 4}"
      ]
     },
     "execution_count": 196,
     "metadata": {},
     "output_type": "execute_result"
    }
   ],
   "source": [
    "# Functions in sets\n",
    "\n",
    "a={1,2,3,4}\n",
    "b={2,4,5,6,7}\n",
    "\n",
    "# intersection\n",
    "a.intersection(b)\n"
   ]
  },
  {
   "cell_type": "code",
   "execution_count": 197,
   "id": "c4f2d7cd-00e5-4a19-b260-bc0fc7b57fae",
   "metadata": {},
   "outputs": [
    {
     "data": {
      "text/plain": [
       "{1, 2, 3, 4, 5, 6, 7}"
      ]
     },
     "execution_count": 197,
     "metadata": {},
     "output_type": "execute_result"
    }
   ],
   "source": [
    "a.union(b)"
   ]
  },
  {
   "cell_type": "code",
   "execution_count": 198,
   "id": "03faa751-27bc-4448-8f1f-d50cedcb4a47",
   "metadata": {},
   "outputs": [
    {
     "data": {
      "text/plain": [
       "{1, 3}"
      ]
     },
     "execution_count": 198,
     "metadata": {},
     "output_type": "execute_result"
    }
   ],
   "source": [
    "a.difference(b)"
   ]
  },
  {
   "cell_type": "code",
   "execution_count": 199,
   "id": "ce85949e-4828-48b1-add8-54e963a5ca29",
   "metadata": {},
   "outputs": [
    {
     "data": {
      "text/plain": [
       "{5, 6, 7}"
      ]
     },
     "execution_count": 199,
     "metadata": {},
     "output_type": "execute_result"
    }
   ],
   "source": [
    "b.difference(a)"
   ]
  },
  {
   "cell_type": "code",
   "execution_count": 201,
   "id": "88212a69-4b06-4b57-bd1f-f93f6ef76199",
   "metadata": {},
   "outputs": [
    {
     "data": {
      "text/plain": [
       "{1, 3, 5, 6, 7}"
      ]
     },
     "execution_count": 201,
     "metadata": {},
     "output_type": "execute_result"
    }
   ],
   "source": [
    "a.symmetric_difference(b) #aub - aintersectb"
   ]
  },
  {
   "cell_type": "code",
   "execution_count": 202,
   "id": "5cacae18-01e7-4d86-9b14-cac1a7078a39",
   "metadata": {},
   "outputs": [
    {
     "data": {
      "text/plain": [
       "{1, 3, 5, 6, 7}"
      ]
     },
     "execution_count": 202,
     "metadata": {},
     "output_type": "execute_result"
    }
   ],
   "source": [
    "b.symmetric_difference(a)"
   ]
  },
  {
   "cell_type": "code",
   "execution_count": 203,
   "id": "3c8fee01-937b-47cc-9d3f-64174789d5f1",
   "metadata": {},
   "outputs": [],
   "source": [
    "a.intersection_update(b)"
   ]
  },
  {
   "cell_type": "code",
   "execution_count": 204,
   "id": "80850da6-5080-489a-ac98-17735958d685",
   "metadata": {},
   "outputs": [
    {
     "data": {
      "text/plain": [
       "{2, 4}"
      ]
     },
     "execution_count": 204,
     "metadata": {},
     "output_type": "execute_result"
    }
   ],
   "source": [
    "a"
   ]
  },
  {
   "cell_type": "code",
   "execution_count": null,
   "id": "1a0fde53-c512-4bd2-b881-a9c6a8df4e12",
   "metadata": {},
   "outputs": [],
   "source": [
    "# a is updated with the intersection part"
   ]
  },
  {
   "cell_type": "code",
   "execution_count": 205,
   "id": "77b0e260-0f62-42e7-bf06-ef24f524d4b9",
   "metadata": {},
   "outputs": [],
   "source": [
    "a.difference_update(b)"
   ]
  },
  {
   "cell_type": "code",
   "execution_count": 206,
   "id": "6a66785f-4b0d-43f2-9560-e2108a7b9ea8",
   "metadata": {},
   "outputs": [
    {
     "data": {
      "text/plain": [
       "set()"
      ]
     },
     "execution_count": 206,
     "metadata": {},
     "output_type": "execute_result"
    }
   ],
   "source": [
    "a"
   ]
  },
  {
   "cell_type": "code",
   "execution_count": 209,
   "id": "659c2cae-cc7a-4350-9294-21b4b223dd55",
   "metadata": {},
   "outputs": [],
   "source": [
    "a.symmetric_difference_update(b)"
   ]
  },
  {
   "cell_type": "code",
   "execution_count": 210,
   "id": "c1f40427-a74c-4243-be3b-0c095183c484",
   "metadata": {},
   "outputs": [
    {
     "data": {
      "text/plain": [
       "{2, 4, 5, 6, 7}"
      ]
     },
     "execution_count": 210,
     "metadata": {},
     "output_type": "execute_result"
    }
   ],
   "source": [
    "a"
   ]
  },
  {
   "cell_type": "code",
   "execution_count": 211,
   "id": "565d87e1-9f7b-44f5-befc-3edbfbad833b",
   "metadata": {},
   "outputs": [
    {
     "data": {
      "text/plain": [
       "{2, 4, 5, 6, 7}"
      ]
     },
     "execution_count": 211,
     "metadata": {},
     "output_type": "execute_result"
    }
   ],
   "source": [
    "b"
   ]
  },
  {
   "cell_type": "code",
   "execution_count": 212,
   "id": "b725bc28-1f18-478a-8a5f-968a6eabc2d8",
   "metadata": {},
   "outputs": [
    {
     "data": {
      "text/plain": [
       "True"
      ]
     },
     "execution_count": 212,
     "metadata": {},
     "output_type": "execute_result"
    }
   ],
   "source": [
    "a.issubset(b)"
   ]
  },
  {
   "cell_type": "code",
   "execution_count": 213,
   "id": "bb5b1bfa-cfdf-4614-90fc-b668adee0902",
   "metadata": {},
   "outputs": [
    {
     "data": {
      "text/plain": [
       "False"
      ]
     },
     "execution_count": 213,
     "metadata": {},
     "output_type": "execute_result"
    }
   ],
   "source": [
    "c={3,4}\n",
    "c.issubset(a)"
   ]
  },
  {
   "cell_type": "code",
   "execution_count": 214,
   "id": "d38d8bc2-b32a-419b-85fd-ff804823d4c3",
   "metadata": {},
   "outputs": [
    {
     "data": {
      "text/plain": [
       "True"
      ]
     },
     "execution_count": 214,
     "metadata": {},
     "output_type": "execute_result"
    }
   ],
   "source": [
    "c={4,5}\n",
    "c.issubset(a)"
   ]
  },
  {
   "cell_type": "code",
   "execution_count": 216,
   "id": "0d0c3870-efc1-4673-adac-818be308a9f7",
   "metadata": {},
   "outputs": [
    {
     "data": {
      "text/plain": [
       "True"
      ]
     },
     "execution_count": 216,
     "metadata": {},
     "output_type": "execute_result"
    }
   ],
   "source": [
    "a.issuperset(c) \n"
   ]
  },
  {
   "cell_type": "code",
   "execution_count": 217,
   "id": "d9adbf66-4078-4f7e-a138-6985746fe9b6",
   "metadata": {},
   "outputs": [
    {
     "data": {
      "text/plain": [
       "False"
      ]
     },
     "execution_count": 217,
     "metadata": {},
     "output_type": "execute_result"
    }
   ],
   "source": [
    "a.isdisjoint(b)"
   ]
  },
  {
   "cell_type": "code",
   "execution_count": 218,
   "id": "f4ca4f5d-c2ef-4830-9a31-51d8dce4488c",
   "metadata": {},
   "outputs": [],
   "source": [
    " # sum of all Unique Numbers in List"
   ]
  },
  {
   "cell_type": "code",
   "execution_count": 222,
   "id": "a0bff4d7-4978-48ad-9b07-10a29bdaba49",
   "metadata": {},
   "outputs": [
    {
     "name": "stdout",
     "output_type": "stream",
     "text": [
      "25\n"
     ]
    }
   ],
   "source": [
    "l=[1,2,3,5,6,5,6,8,2]\n",
    "s=set()\n",
    "for i in l:\n",
    "    s.add(i)\n",
    "sum=0\n",
    "for i in s:\n",
    "    sum+=i\n",
    "print(sum)\n",
    "    "
   ]
  },
  {
   "cell_type": "code",
   "execution_count": 225,
   "id": "b79754ba-b9ee-4c8a-b520-d7cd0cf1a07b",
   "metadata": {},
   "outputs": [
    {
     "name": "stdout",
     "output_type": "stream",
     "text": [
      "4\n"
     ]
    }
   ],
   "source": [
    " # Make Unique Array\n",
    "# Find no of elements to be removed to make an array of all distinct elements\n",
    "l=[1,2,3,4,5,1,2,3,4]\n",
    "d={}\n",
    "elements=0\n",
    "for i in l:\n",
    "    if d.get(i,0)!=0:\n",
    "        elements+=1\n",
    "    else:\n",
    "        d[i]= d.get(i,0)+1\n",
    "        \n",
    "print(elements)\n",
    "    "
   ]
  },
  {
   "cell_type": "code",
   "execution_count": 226,
   "id": "9d1a3c19-4539-47e9-b466-b77cc1ea2753",
   "metadata": {},
   "outputs": [
    {
     "name": "stdout",
     "output_type": "stream",
     "text": [
      "Original list : [9, 4, 5, 4, 4, 5, 9, 5, 4, 9, 9]\n",
      "Most frequent number is : 9\n"
     ]
    }
   ],
   "source": [
    "# Highest Frequency number\n",
    "\n",
    "# You are given an array of integers that contain numbers in random order.\n",
    "# Write a program to find and return the number which occurs the maximum times in\n",
    "# the given input.\n",
    "# If two or more elements contend for the maximum frequency, \n",
    "# return the element which occurs in the array first.\n",
    "\n",
    "\n",
    "\n",
    "# initializing list\n",
    "test_list = [9, 4, 5, 4, 4, 5, 9, 5, 4,9,9]\n",
    "\n",
    "# printing original list\n",
    "print (\"Original list : \" + str(test_list))\n",
    "\n",
    "# using naive method to\n",
    "# get most frequent element\n",
    "max = 0\n",
    "res = test_list[0]\n",
    "for i in test_list:\n",
    "\tfreq = test_list.count(i)\n",
    "\tif freq > max:\n",
    "\t\tmax = freq\n",
    "\t\tres = i\n",
    "\t\n",
    "# printing result\n",
    "print (\"Most frequent number is : \" + str(res))\n"
   ]
  },
  {
   "cell_type": "code",
   "execution_count": 228,
   "id": "a68b6219-3160-4f22-8862-a3b8be3f7591",
   "metadata": {},
   "outputs": [
    {
     "name": "stdout",
     "output_type": "stream",
     "text": [
      "Original list : [9, 4, 5, 4, 4, 5, 9, 5, 4, 9, 9]\n",
      "Most frequent number is : 9\n"
     ]
    }
   ],
   "source": [
    "# Python3 code to demonstrate\n",
    "# to get most frequent element\n",
    "# using statistics.mode()\n",
    "import statistics\n",
    "\n",
    "# initializing list\n",
    "test_list = [9, 4, 5, 4, 4, 5, 9, 5, 4,9,9]\n",
    "\n",
    "# printing original list\n",
    "print (\"Original list : \" + str(test_list))\n",
    "\n",
    "# using statistics.mode() to\n",
    "# get most frequent element\n",
    "res = statistics.mode(test_list)\n",
    "\t\n",
    "# printing result\n",
    "print (\"Most frequent number is : \" + str(res))\n"
   ]
  },
  {
   "cell_type": "code",
   "execution_count": 232,
   "id": "a916f2c8-cdbd-48e7-860f-3c841f8eb212",
   "metadata": {},
   "outputs": [
    {
     "data": {
      "text/plain": [
       "4"
      ]
     },
     "execution_count": 232,
     "metadata": {},
     "output_type": "execute_result"
    }
   ],
   "source": [
    "test_list = [9, 4, 5, 4, 4, 5, 9, 5, 4,9,9]\n",
    "test_list = test_list[::-1]\n",
    "\n",
    "dict ={}\n",
    "for i in test_list:\n",
    "    dict[i]=dict.get(i,0)+1\n",
    "max_freq=0\n",
    "\n",
    "for i in dict:\n",
    "    if dict[i]>max_freq:\n",
    "        max_freq= dict[i]\n",
    "max_freq"
   ]
  },
  {
   "cell_type": "code",
   "execution_count": null,
   "id": "7eb451cd-7aa4-43c0-a8ba-8afa18050fc6",
   "metadata": {},
   "outputs": [],
   "source": [
    "# # Maximum Distance\n",
    "# Maximum Distance\n",
    "# Send Feedback\n",
    "# # Given an array that might contain duplicate elements, find the maximum possible distance between occurrences of two repeating elements i.e. elements having same value. If there are no duplicate elements in the array, return "
   ]
  },
  {
   "cell_type": "code",
   "execution_count": 2,
   "id": "d0237607-9568-432e-8499-e1441b24ff32",
   "metadata": {},
   "outputs": [
    {
     "name": "stdout",
     "output_type": "stream",
     "text": [
      "3\n"
     ]
    }
   ],
   "source": [
    "# Given an array that might contain duplicate elements, find the maximum possible distance between occurrences of two repeating elements i.e. elements having same value. If there are no duplicate elements in the array, return 0.\n",
    "\n",
    "arr = [1, 3, 1, 4, 5, 6, 4, 8]\n",
    "max_distance=0\n",
    "for i in range(0,len(arr)):\n",
    "    val =arr[i]\n",
    "    for j in range(i+1,len(arr)):\n",
    "        if arr[j]==val:\n",
    "            dist=j-i\n",
    "            if max_distance<dist:\n",
    "                max_distance= dist\n",
    "\n",
    "print(max_distance)"
   ]
  },
  {
   "cell_type": "code",
   "execution_count": 7,
   "id": "e73ee870-cabd-4328-aee9-3ba9e79ff0bd",
   "metadata": {},
   "outputs": [
    {
     "name": "stdout",
     "output_type": "stream",
     "text": [
      "D\n"
     ]
    }
   ],
   "source": [
    "# First non repeating character\n",
    "str=\"aDcadhc\"\n",
    "non_repeating=str[0]\n",
    "for i in range(0,len(str)):\n",
    "    val= str[i]\n",
    "    if (val in str[i+1:])==False:\n",
    "        non_repeating=val\n",
    "        break\n",
    "\n",
    "print(non_repeating)\n",
    "    \n",
    "    "
   ]
  },
  {
   "cell_type": "code",
   "execution_count": 5,
   "id": "56d62185-421e-4827-9cee-3375353fb2b8",
   "metadata": {},
   "outputs": [
    {
     "data": {
      "text/plain": [
       "False"
      ]
     },
     "execution_count": 5,
     "metadata": {},
     "output_type": "execute_result"
    }
   ],
   "source": [
    "str=\"abc def\"\n",
    "'d' in str[5:]"
   ]
  },
  {
   "cell_type": "code",
   "execution_count": 9,
   "id": "b4ecfb03-1acb-48f1-89e7-4edfa5972cae",
   "metadata": {},
   "outputs": [
    {
     "name": "stdout",
     "output_type": "stream",
     "text": [
      "harshit   2\n",
      "Ayush   3\n",
      "Iti   2\n"
     ]
    }
   ],
   "source": [
    "# Different Names\n",
    "# print repeating names in a str\n",
    "\n",
    "str=\"Abhishek harshit Ayush harshit Ayush Iti Deepak Ayush Iti\"\n",
    "dic={}\n",
    "for i in str.split():\n",
    "    dic[i]=dic.get(i,0)+1\n",
    "repeat_exist=False\n",
    "\n",
    "for i in dic:\n",
    "    if dic[i]>1:\n",
    "        repeat_exist=True\n",
    "        print(i,\" \",dic[i])\n",
    "        \n",
    "if repeat_exist == False:\n",
    "    print(-1)\n",
    "    \n",
    "    "
   ]
  },
  {
   "cell_type": "code",
   "execution_count": 14,
   "id": "1a8f8d81-1882-4d25-823b-e1811c10dc0b",
   "metadata": {},
   "outputs": [
    {
     "name": "stdout",
     "output_type": "stream",
     "text": [
      "3\n"
     ]
    }
   ],
   "source": [
    "# even \n",
    "\n",
    "arr=[2,  3, 4,4,4,4, 5, 3, 5]\n",
    "dic={}\n",
    "for i in arr:\n",
    "    dic[i]=dic.get(i,0)+1\n",
    "\n",
    "\n",
    "\n",
    "for i in dic:\n",
    "    if dic[i]%2==0:\n",
    "        print(i)\n",
    "        break\n",
    "else:\n",
    "    print(-1)\n",
    "    \n",
    "    "
   ]
  },
  {
   "cell_type": "code",
   "execution_count": 17,
   "id": "c075a75b-e3b1-484e-a4f6-c387dcfbf47f",
   "metadata": {},
   "outputs": [
    {
     "name": "stdin",
     "output_type": "stream",
     "text": [
      " 5\n",
      " 1 2 3\n",
      " 1 2 4\n",
      " 4 5 6\n",
      " 7 8 9\n",
      " 4 8 9\n"
     ]
    },
    {
     "data": {
      "text/plain": [
       "[[1, 2, 3], [1, 2, 4], [4, 5, 6], [7, 8, 9], [4, 8, 9]]"
      ]
     },
     "execution_count": 17,
     "metadata": {},
     "output_type": "execute_result"
    }
   ],
   "source": [
    "# Unique triangles\n",
    "# A triangle is said to be unique if there is no other triangle with same set of sides.\n",
    "\n",
    "# sample input\n",
    "# 5\n",
    "# 7 6 5\n",
    "# 5 7 6\n",
    "# 8 2 9\n",
    "# 2 3 4\n",
    "# 2 4 3\n",
    "\n",
    "n = int(input())\n",
    "\n",
    "arr = [list(map(int, input().split())) for x in range(n)]\n",
    "arr"
   ]
  },
  {
   "cell_type": "code",
   "execution_count": 18,
   "id": "7c160e3e-5498-4679-af27-0bce9b1e3850",
   "metadata": {},
   "outputs": [
    {
     "name": "stdout",
     "output_type": "stream",
     "text": [
      "1\n"
     ]
    }
   ],
   "source": [
    "# Assignment tuples 4th one\n",
    "\n",
    "# dict ={}\n",
    "# for i in range(0,len(arr)):\n",
    "#     for j in range(0, 3):\n",
    "#         val=arr[i][j]\n",
    "#         dict[val] =dict.get(val,0)+1\n",
    "\n",
    "# temp=0\n",
    "\n",
    "# for i in dict:\n",
    "#     if dict[i] % 3 == 0:\n",
    "#         temp+=1\n",
    "# print(temp%3)"
   ]
  },
  {
   "cell_type": "code",
   "execution_count": 22,
   "id": "091bcdaa-4778-43a4-9df3-1e77bd8163e8",
   "metadata": {},
   "outputs": [
    {
     "name": "stdout",
     "output_type": "stream",
     "text": [
      "5   1\n",
      "5   9\n",
      "8   12\n",
      "3\n"
     ]
    }
   ],
   "source": [
    "# Pairs with difference K\n",
    "\n",
    "l=[5,1,9,8,12]\n",
    "k=4\n",
    "pairs_nums=0\n",
    "for i in range(0,len(l)-1):\n",
    "    for j in range(i+1,len(l)):\n",
    "        if abs(l[i]-l[j]) ==k:\n",
    "            print(l[i],\" \",l[j])\n",
    "            pairs_nums+=1\n",
    "\n",
    "print(pairs_nums)\n",
    "            "
   ]
  },
  {
   "cell_type": "code",
   "execution_count": null,
   "id": "a7aa874b-9706-44f6-b9b1-e7f9261d5d45",
   "metadata": {},
   "outputs": [],
   "source": []
  },
  {
   "cell_type": "code",
   "execution_count": null,
   "id": "20938d25-4fd6-4cdd-8da1-f25fe9a3e9cb",
   "metadata": {},
   "outputs": [],
   "source": []
  },
  {
   "cell_type": "code",
   "execution_count": null,
   "id": "c6f55747-bf59-4569-af39-fc39322c305f",
   "metadata": {},
   "outputs": [],
   "source": []
  },
  {
   "cell_type": "code",
   "execution_count": null,
   "id": "c2dac012-483a-4da5-b89f-3b23ccc551a9",
   "metadata": {},
   "outputs": [],
   "source": []
  },
  {
   "cell_type": "code",
   "execution_count": null,
   "id": "2ca247af-3cfb-46e4-9c0b-eb39fbbdabee",
   "metadata": {},
   "outputs": [],
   "source": []
  },
  {
   "cell_type": "code",
   "execution_count": null,
   "id": "e150e035-e492-499b-8c67-987c9dc45203",
   "metadata": {},
   "outputs": [],
   "source": []
  },
  {
   "cell_type": "code",
   "execution_count": null,
   "id": "684a6a57-cff1-4842-bc1f-993622ade992",
   "metadata": {},
   "outputs": [],
   "source": []
  },
  {
   "cell_type": "code",
   "execution_count": null,
   "id": "7c01a7d1-571c-4e07-a607-695c41e34acd",
   "metadata": {},
   "outputs": [],
   "source": []
  },
  {
   "cell_type": "code",
   "execution_count": null,
   "id": "e71854cc-1166-4b77-856d-4d92aa7786e8",
   "metadata": {},
   "outputs": [],
   "source": []
  },
  {
   "cell_type": "code",
   "execution_count": null,
   "id": "bd5a1d3e-47d4-4aee-b6db-265375a7e819",
   "metadata": {},
   "outputs": [],
   "source": []
  }
 ],
 "metadata": {
  "kernelspec": {
   "display_name": "Python 3 (ipykernel)",
   "language": "python",
   "name": "python3"
  },
  "language_info": {
   "codemirror_mode": {
    "name": "ipython",
    "version": 3
   },
   "file_extension": ".py",
   "mimetype": "text/x-python",
   "name": "python",
   "nbconvert_exporter": "python",
   "pygments_lexer": "ipython3",
   "version": "3.11.3"
  }
 },
 "nbformat": 4,
 "nbformat_minor": 5
}
