{
 "cells": [
  {
   "cell_type": "markdown",
   "id": "aea7bb3c-35b2-4c40-ad38-006ea3232bdf",
   "metadata": {},
   "source": [
    "Steps:\n",
    "Load Html\n",
    "parse Html\n",
    "Locate and extract the desired data"
   ]
  },
  {
   "cell_type": "code",
   "execution_count": 4,
   "id": "edf9f0db-dea3-4f84-a1d3-1a75f82850d5",
   "metadata": {},
   "outputs": [],
   "source": [
    "html = \"\"\"html = ' <!DOCTYPE html>\n",
    "<html lang=\"en\">\n",
    "<head>\n",
    "    <meta charset=\"UTF-8\">\n",
    "    <meta http-equiv=\"X-UA-Compatible\" content=\"IE=edge\">\n",
    "    <meta name=\"viewport\" content=\"width=device-width, initial-scale=1.0\">\n",
    "    <title>Test Web Page</title>\n",
    "</head>\n",
    "<body>\n",
    "    <h1>Web Scraping</h1>\n",
    "    <p class=\"abc\" id = \"first_para\">\n",
    "        Let's start Programming\n",
    "        <b>\n",
    "            Web Scrapping\n",
    "        </b>\n",
    "    </p>\n",
    "    <p id=\"def\">\n",
    "        Ypu can read more about Beautiful Soap\n",
    "        from <a href=\"https://www.crummy.com/software/BeautifulSoup/bs4/doc/\">here</a>\n",
    "    </p>\n",
    "\n",
    "    <p class=\"abc\">\n",
    "        <a href=\"https://www.google.com\">Coding Ninjas</a>\n",
    "    </p>\n",
    "</body>\n",
    "</html>' \"\"\""
   ]
  },
  {
   "cell_type": "code",
   "execution_count": 5,
   "id": "575e2217-d3ca-4ae2-b5fa-9b024a234752",
   "metadata": {},
   "outputs": [],
   "source": [
    "from bs4 import BeautifulSoup"
   ]
  },
  {
   "cell_type": "code",
   "execution_count": 6,
   "id": "7b906c48-a097-4ee4-b1dc-4ef5320eb569",
   "metadata": {},
   "outputs": [],
   "source": [
    "data = BeautifulSoup(html,'html.parser')"
   ]
  },
  {
   "cell_type": "code",
   "execution_count": 7,
   "id": "a0f092fe-3639-4763-b86d-a1d1d3629ae5",
   "metadata": {},
   "outputs": [
    {
     "data": {
      "text/plain": [
       "html = ' <!DOCTYPE html>\n",
       "\n",
       "<html lang=\"en\">\n",
       "<head>\n",
       "<meta charset=\"utf-8\"/>\n",
       "<meta content=\"IE=edge\" http-equiv=\"X-UA-Compatible\"/>\n",
       "<meta content=\"width=device-width, initial-scale=1.0\" name=\"viewport\"/>\n",
       "<title>Test Web Page</title>\n",
       "</head>\n",
       "<body>\n",
       "<h1>Web Scraping</h1>\n",
       "<p class=\"abc\" id=\"first_para\">\n",
       "        Let's start Programming\n",
       "        <b>\n",
       "            Web Scrapping\n",
       "        </b>\n",
       "</p>\n",
       "<p id=\"def\">\n",
       "        Ypu can read more about Beautiful Soap\n",
       "        from <a href=\"https://www.crummy.com/software/BeautifulSoup/bs4/doc/\">here</a>\n",
       "</p>\n",
       "<p class=\"abc\">\n",
       "<a href=\"https://www.google.com\">Coding Ninjas</a>\n",
       "</p>\n",
       "</body>\n",
       "</html>' "
      ]
     },
     "execution_count": 7,
     "metadata": {},
     "output_type": "execute_result"
    }
   ],
   "source": [
    "data"
   ]
  },
  {
   "cell_type": "code",
   "execution_count": 8,
   "id": "d473e606-596d-42ec-a534-3dffec584001",
   "metadata": {},
   "outputs": [
    {
     "data": {
      "text/plain": [
       "bs4.BeautifulSoup"
      ]
     },
     "execution_count": 8,
     "metadata": {},
     "output_type": "execute_result"
    }
   ],
   "source": [
    "type(data)"
   ]
  },
  {
   "cell_type": "code",
   "execution_count": 9,
   "id": "59413155-326a-4400-8b35-530ab2cf57f7",
   "metadata": {},
   "outputs": [
    {
     "name": "stdout",
     "output_type": "stream",
     "text": [
      "html = '\n",
      "<!DOCTYPE html>\n",
      "<html lang=\"en\">\n",
      " <head>\n",
      "  <meta charset=\"utf-8\"/>\n",
      "  <meta content=\"IE=edge\" http-equiv=\"X-UA-Compatible\"/>\n",
      "  <meta content=\"width=device-width, initial-scale=1.0\" name=\"viewport\"/>\n",
      "  <title>\n",
      "   Test Web Page\n",
      "  </title>\n",
      " </head>\n",
      " <body>\n",
      "  <h1>\n",
      "   Web Scraping\n",
      "  </h1>\n",
      "  <p class=\"abc\" id=\"first_para\">\n",
      "   Let's start Programming\n",
      "   <b>\n",
      "    Web Scrapping\n",
      "   </b>\n",
      "  </p>\n",
      "  <p id=\"def\">\n",
      "   Ypu can read more about Beautiful Soap\n",
      "        from\n",
      "   <a href=\"https://www.crummy.com/software/BeautifulSoup/bs4/doc/\">\n",
      "    here\n",
      "   </a>\n",
      "  </p>\n",
      "  <p class=\"abc\">\n",
      "   <a href=\"https://www.google.com\">\n",
      "    Coding Ninjas\n",
      "   </a>\n",
      "  </p>\n",
      " </body>\n",
      "</html>\n",
      "'\n",
      "\n"
     ]
    }
   ],
   "source": [
    " print(data.prettify())"
   ]
  },
  {
   "cell_type": "markdown",
   "id": "4ea85836-e46e-477f-a218-2ec3e89075ea",
   "metadata": {},
   "source": [
    "data.tag_name"
   ]
  },
  {
   "cell_type": "code",
   "execution_count": 12,
   "id": "067bf946-d4e2-464e-b776-ad9f5b77e752",
   "metadata": {},
   "outputs": [
    {
     "data": {
      "text/plain": [
       "<title>Test Web Page</title>"
      ]
     },
     "execution_count": 12,
     "metadata": {},
     "output_type": "execute_result"
    }
   ],
   "source": [
    "data.title"
   ]
  },
  {
   "cell_type": "code",
   "execution_count": 13,
   "id": "6d738cb9-4c5e-432b-8fbc-0e20025467ea",
   "metadata": {},
   "outputs": [
    {
     "data": {
      "text/plain": [
       "<head>\n",
       "<meta charset=\"utf-8\"/>\n",
       "<meta content=\"IE=edge\" http-equiv=\"X-UA-Compatible\"/>\n",
       "<meta content=\"width=device-width, initial-scale=1.0\" name=\"viewport\"/>\n",
       "<title>Test Web Page</title>\n",
       "</head>"
      ]
     },
     "execution_count": 13,
     "metadata": {},
     "output_type": "execute_result"
    }
   ],
   "source": [
    "data.head"
   ]
  },
  {
   "cell_type": "code",
   "execution_count": 14,
   "id": "921447c8-95db-4f47-9ead-b7fe584ee304",
   "metadata": {},
   "outputs": [
    {
     "data": {
      "text/plain": [
       "<p class=\"abc\" id=\"first_para\">\n",
       "        Let's start Programming\n",
       "        <b>\n",
       "            Web Scrapping\n",
       "        </b>\n",
       "</p>"
      ]
     },
     "execution_count": 14,
     "metadata": {},
     "output_type": "execute_result"
    }
   ],
   "source": [
    "data.p #first "
   ]
  },
  {
   "cell_type": "code",
   "execution_count": 15,
   "id": "0cc787cf-0993-4d0b-ab7d-d55e59247321",
   "metadata": {},
   "outputs": [],
   "source": [
    "data.h5"
   ]
  },
  {
   "cell_type": "code",
   "execution_count": 16,
   "id": "2c843891-f5fe-4388-ba04-4219c638e7ea",
   "metadata": {},
   "outputs": [
    {
     "name": "stdout",
     "output_type": "stream",
     "text": [
      "<title>Test Web Page</title>\n"
     ]
    }
   ],
   "source": [
    "print(data.title)"
   ]
  },
  {
   "cell_type": "code",
   "execution_count": 17,
   "id": "f4030a33-7750-4522-86f9-1c85a2ec26c1",
   "metadata": {},
   "outputs": [
    {
     "name": "stdout",
     "output_type": "stream",
     "text": [
      "title\n"
     ]
    }
   ],
   "source": [
    "print(data.title.name)"
   ]
  },
  {
   "cell_type": "code",
   "execution_count": 18,
   "id": "e2a0c630-c66d-42f8-a513-fc7242690b4c",
   "metadata": {},
   "outputs": [
    {
     "name": "stdout",
     "output_type": "stream",
     "text": [
      "Test Web Page\n"
     ]
    }
   ],
   "source": [
    "print(data.title.string)"
   ]
  },
  {
   "cell_type": "code",
   "execution_count": 22,
   "id": "c767aece-6dd3-4c01-b154-f1a3d5f5bcb5",
   "metadata": {},
   "outputs": [
    {
     "name": "stdout",
     "output_type": "stream",
     "text": [
      "{}\n"
     ]
    }
   ],
   "source": [
    "print(data.title.attrs)"
   ]
  },
  {
   "cell_type": "code",
   "execution_count": 21,
   "id": "5eb7c7aa-f140-4e07-bf0b-b0310c0d848f",
   "metadata": {},
   "outputs": [
    {
     "name": "stdout",
     "output_type": "stream",
     "text": [
      "{'class': ['abc'], 'id': 'first_para'}\n"
     ]
    }
   ],
   "source": [
    "print(data.p.attrs)"
   ]
  },
  {
   "cell_type": "code",
   "execution_count": 28,
   "id": "eafd27d6-ad3f-456a-bc9b-2d6bee249154",
   "metadata": {},
   "outputs": [
    {
     "data": {
      "text/plain": [
       "['abc']"
      ]
     },
     "execution_count": 28,
     "metadata": {},
     "output_type": "execute_result"
    }
   ],
   "source": [
    "data.p['class']"
   ]
  },
  {
   "cell_type": "code",
   "execution_count": 24,
   "id": "dbbb2e56-ea16-4b14-882f-1f80f880a53e",
   "metadata": {},
   "outputs": [
    {
     "data": {
      "text/plain": [
       "'first_para'"
      ]
     },
     "execution_count": 24,
     "metadata": {},
     "output_type": "execute_result"
    }
   ],
   "source": [
    "data.p.get('id')"
   ]
  },
  {
   "cell_type": "code",
   "execution_count": 31,
   "id": "c91bc4be-5de3-4840-95c1-e20d14644ca4",
   "metadata": {},
   "outputs": [
    {
     "data": {
      "text/plain": [
       "\"\\n        Let's start Programming\\n        \\n            Web Scrapping\\n        \\n\""
      ]
     },
     "execution_count": 31,
     "metadata": {},
     "output_type": "execute_result"
    }
   ],
   "source": [
    "data.p.get_text()"
   ]
  },
  {
   "cell_type": "code",
   "execution_count": 36,
   "id": "5a3f5edb-58b8-4adf-bdbe-32601c9b87e8",
   "metadata": {},
   "outputs": [
    {
     "data": {
      "text/plain": [
       "<p class=\"abc\" id=\"first_para\">\n",
       "        Let's start Programming\n",
       "        <b>\n",
       "            Web Scrapping\n",
       "        </b>\n",
       "</p>"
      ]
     },
     "execution_count": 36,
     "metadata": {},
     "output_type": "execute_result"
    }
   ],
   "source": [
    "data.p"
   ]
  },
  {
   "cell_type": "code",
   "execution_count": 34,
   "id": "de20303a-7976-49e4-b525-fc065602fa0c",
   "metadata": {},
   "outputs": [
    {
     "data": {
      "text/plain": [
       "<p class=\"abc\" id=\"first_para\">\n",
       "        Let's start Programming\n",
       "        <b>\n",
       "            Web Scrapping\n",
       "        </b>\n",
       "</p>"
      ]
     },
     "execution_count": 34,
     "metadata": {},
     "output_type": "execute_result"
    }
   ],
   "source": [
    "data.find('p')"
   ]
  },
  {
   "cell_type": "code",
   "execution_count": 39,
   "id": "d5169950-b1ab-455f-805e-df321e5d445f",
   "metadata": {},
   "outputs": [],
   "source": [
    "li = data.find_all('p') # returns alist"
   ]
  },
  {
   "cell_type": "code",
   "execution_count": 41,
   "id": "e873de97-f253-42e5-a038-0cfc94281a68",
   "metadata": {},
   "outputs": [
    {
     "name": "stdout",
     "output_type": "stream",
     "text": [
      "<p class=\"abc\" id=\"first_para\">\n",
      "        Let's start Programming\n",
      "        <b>\n",
      "            Web Scrapping\n",
      "        </b>\n",
      "</p>\n",
      "\n",
      "\n",
      "<p id=\"def\">\n",
      "        Ypu can read more about Beautiful Soap\n",
      "        from <a href=\"https://www.crummy.com/software/BeautifulSoup/bs4/doc/\">here</a>\n",
      "</p>\n",
      "\n",
      "\n",
      "<p class=\"abc\">\n",
      "<a href=\"https://www.google.com\">Coding Ninjas</a>\n",
      "</p>\n",
      "\n",
      "\n"
     ]
    }
   ],
   "source": [
    "for i in li:\n",
    "    print(i)\n",
    "    print('\\n')"
   ]
  },
  {
   "cell_type": "code",
   "execution_count": 43,
   "id": "b9890aed-543a-4e70-a3fc-ef211039dec5",
   "metadata": {},
   "outputs": [],
   "source": [
    "li = data.find_all(['p','a']) # returns alist"
   ]
  },
  {
   "cell_type": "code",
   "execution_count": 44,
   "id": "558a228d-ae3c-4bd2-b082-5fd4d4a3a513",
   "metadata": {},
   "outputs": [
    {
     "data": {
      "text/plain": [
       "[<p class=\"abc\" id=\"first_para\">\n",
       "         Let's start Programming\n",
       "         <b>\n",
       "             Web Scrapping\n",
       "         </b>\n",
       " </p>,\n",
       " <p id=\"def\">\n",
       "         Ypu can read more about Beautiful Soap\n",
       "         from <a href=\"https://www.crummy.com/software/BeautifulSoup/bs4/doc/\">here</a>\n",
       " </p>,\n",
       " <a href=\"https://www.crummy.com/software/BeautifulSoup/bs4/doc/\">here</a>,\n",
       " <p class=\"abc\">\n",
       " <a href=\"https://www.google.com\">Coding Ninjas</a>\n",
       " </p>,\n",
       " <a href=\"https://www.google.com\">Coding Ninjas</a>]"
      ]
     },
     "execution_count": 44,
     "metadata": {},
     "output_type": "execute_result"
    }
   ],
   "source": [
    "li"
   ]
  },
  {
   "cell_type": "code",
   "execution_count": 45,
   "id": "4818ab8a-8bf8-46d1-baf4-3c9c34c9b21b",
   "metadata": {},
   "outputs": [
    {
     "data": {
      "text/plain": [
       "[<html lang=\"en\">\n",
       " <head>\n",
       " <meta charset=\"utf-8\"/>\n",
       " <meta content=\"IE=edge\" http-equiv=\"X-UA-Compatible\"/>\n",
       " <meta content=\"width=device-width, initial-scale=1.0\" name=\"viewport\"/>\n",
       " <title>Test Web Page</title>\n",
       " </head>\n",
       " <body>\n",
       " <h1>Web Scraping</h1>\n",
       " <p class=\"abc\" id=\"first_para\">\n",
       "         Let's start Programming\n",
       "         <b>\n",
       "             Web Scrapping\n",
       "         </b>\n",
       " </p>\n",
       " <p id=\"def\">\n",
       "         Ypu can read more about Beautiful Soap\n",
       "         from <a href=\"https://www.crummy.com/software/BeautifulSoup/bs4/doc/\">here</a>\n",
       " </p>\n",
       " <p class=\"abc\">\n",
       " <a href=\"https://www.google.com\">Coding Ninjas</a>\n",
       " </p>\n",
       " </body>\n",
       " </html>,\n",
       " <head>\n",
       " <meta charset=\"utf-8\"/>\n",
       " <meta content=\"IE=edge\" http-equiv=\"X-UA-Compatible\"/>\n",
       " <meta content=\"width=device-width, initial-scale=1.0\" name=\"viewport\"/>\n",
       " <title>Test Web Page</title>\n",
       " </head>,\n",
       " <meta charset=\"utf-8\"/>,\n",
       " <meta content=\"IE=edge\" http-equiv=\"X-UA-Compatible\"/>,\n",
       " <meta content=\"width=device-width, initial-scale=1.0\" name=\"viewport\"/>,\n",
       " <title>Test Web Page</title>,\n",
       " <body>\n",
       " <h1>Web Scraping</h1>\n",
       " <p class=\"abc\" id=\"first_para\">\n",
       "         Let's start Programming\n",
       "         <b>\n",
       "             Web Scrapping\n",
       "         </b>\n",
       " </p>\n",
       " <p id=\"def\">\n",
       "         Ypu can read more about Beautiful Soap\n",
       "         from <a href=\"https://www.crummy.com/software/BeautifulSoup/bs4/doc/\">here</a>\n",
       " </p>\n",
       " <p class=\"abc\">\n",
       " <a href=\"https://www.google.com\">Coding Ninjas</a>\n",
       " </p>\n",
       " </body>,\n",
       " <h1>Web Scraping</h1>,\n",
       " <p class=\"abc\" id=\"first_para\">\n",
       "         Let's start Programming\n",
       "         <b>\n",
       "             Web Scrapping\n",
       "         </b>\n",
       " </p>,\n",
       " <b>\n",
       "             Web Scrapping\n",
       "         </b>,\n",
       " <p id=\"def\">\n",
       "         Ypu can read more about Beautiful Soap\n",
       "         from <a href=\"https://www.crummy.com/software/BeautifulSoup/bs4/doc/\">here</a>\n",
       " </p>,\n",
       " <a href=\"https://www.crummy.com/software/BeautifulSoup/bs4/doc/\">here</a>,\n",
       " <p class=\"abc\">\n",
       " <a href=\"https://www.google.com\">Coding Ninjas</a>\n",
       " </p>,\n",
       " <a href=\"https://www.google.com\">Coding Ninjas</a>]"
      ]
     },
     "execution_count": 45,
     "metadata": {},
     "output_type": "execute_result"
    }
   ],
   "source": [
    "data.find_all(True)"
   ]
  },
  {
   "cell_type": "code",
   "execution_count": 46,
   "id": "b5783850-a949-46bd-a636-fdbe9929c3c7",
   "metadata": {},
   "outputs": [
    {
     "data": {
      "text/plain": [
       "[<p class=\"abc\" id=\"first_para\">\n",
       "         Let's start Programming\n",
       "         <b>\n",
       "             Web Scrapping\n",
       "         </b>\n",
       " </p>]"
      ]
     },
     "execution_count": 46,
     "metadata": {},
     "output_type": "execute_result"
    }
   ],
   "source": [
    "data.find_all( id ='first_para')"
   ]
  },
  {
   "cell_type": "code",
   "execution_count": 48,
   "id": "b4b6536a-89f4-466c-9a7e-8705a247fee7",
   "metadata": {},
   "outputs": [
    {
     "data": {
      "text/plain": [
       "[<p class=\"abc\" id=\"first_para\">\n",
       "         Let's start Programming\n",
       "         <b>\n",
       "             Web Scrapping\n",
       "         </b>\n",
       " </p>,\n",
       " <p class=\"abc\">\n",
       " <a href=\"https://www.google.com\">Coding Ninjas</a>\n",
       " </p>]"
      ]
     },
     "execution_count": 48,
     "metadata": {},
     "output_type": "execute_result"
    }
   ],
   "source": [
    "data.find_all( class_ ='abc')"
   ]
  },
  {
   "cell_type": "code",
   "execution_count": 49,
   "id": "d70442e0-d1a2-4721-8c24-686b63a1895a",
   "metadata": {},
   "outputs": [
    {
     "data": {
      "text/plain": [
       "[]"
      ]
     },
     "execution_count": 49,
     "metadata": {},
     "output_type": "execute_result"
    }
   ],
   "source": [
    "data.select('css selector')"
   ]
  },
  {
   "cell_type": "code",
   "execution_count": 50,
   "id": "398d2c31-93fa-4b8e-a3c3-ce754de64919",
   "metadata": {},
   "outputs": [],
   "source": [
    "# Navigating down"
   ]
  },
  {
   "cell_type": "code",
   "execution_count": 51,
   "id": "702ef540-449e-4876-a92f-dd65b8164f36",
   "metadata": {},
   "outputs": [
    {
     "data": {
      "text/plain": [
       "<head>\n",
       "<meta charset=\"utf-8\"/>\n",
       "<meta content=\"IE=edge\" http-equiv=\"X-UA-Compatible\"/>\n",
       "<meta content=\"width=device-width, initial-scale=1.0\" name=\"viewport\"/>\n",
       "<title>Test Web Page</title>\n",
       "</head>"
      ]
     },
     "execution_count": 51,
     "metadata": {},
     "output_type": "execute_result"
    }
   ],
   "source": [
    "data.head"
   ]
  },
  {
   "cell_type": "code",
   "execution_count": 52,
   "id": "3a1ae3d3-f624-43a7-97e7-09bd92967621",
   "metadata": {},
   "outputs": [
    {
     "data": {
      "text/plain": [
       "<title>Test Web Page</title>"
      ]
     },
     "execution_count": 52,
     "metadata": {},
     "output_type": "execute_result"
    }
   ],
   "source": [
    "data.head.title"
   ]
  },
  {
   "cell_type": "code",
   "execution_count": 53,
   "id": "a6adf6ac-b4e8-4312-9e65-48a70132d8ac",
   "metadata": {},
   "outputs": [
    {
     "data": {
      "text/plain": [
       "<title>Test Web Page</title>"
      ]
     },
     "execution_count": 53,
     "metadata": {},
     "output_type": "execute_result"
    }
   ],
   "source": [
    "data.title"
   ]
  },
  {
   "cell_type": "code",
   "execution_count": 54,
   "id": "164369c0-d4c4-405a-9929-96faef35ccde",
   "metadata": {},
   "outputs": [
    {
     "data": {
      "text/plain": [
       "'Test Web Page'"
      ]
     },
     "execution_count": 54,
     "metadata": {},
     "output_type": "execute_result"
    }
   ],
   "source": [
    "data.title.string"
   ]
  },
  {
   "cell_type": "code",
   "execution_count": 55,
   "id": "01d2f889-a950-4e14-93c0-9d8e33b2f1ff",
   "metadata": {},
   "outputs": [
    {
     "data": {
      "text/plain": [
       "[<p class=\"abc\" id=\"first_para\">\n",
       "         Let's start Programming\n",
       "         <b>\n",
       "             Web Scrapping\n",
       "         </b>\n",
       " </p>,\n",
       " <p class=\"abc\">\n",
       " <a href=\"https://www.google.com\">Coding Ninjas</a>\n",
       " </p>]"
      ]
     },
     "execution_count": 55,
     "metadata": {},
     "output_type": "execute_result"
    }
   ],
   "source": [
    "data.find_all( class_ ='abc')"
   ]
  },
  {
   "cell_type": "code",
   "execution_count": 56,
   "id": "e9e0be78-0164-4acf-9789-955436957fef",
   "metadata": {},
   "outputs": [],
   "source": [
    "# .string gives result only when have one child"
   ]
  },
  {
   "cell_type": "code",
   "execution_count": 60,
   "id": "cb3a1d34-d3eb-4e2d-af0e-e2f1582df0f3",
   "metadata": {},
   "outputs": [
    {
     "data": {
      "text/plain": [
       "[<p class=\"abc\" id=\"first_para\">\n",
       "         Let's start Programming\n",
       "         <b>\n",
       "             Web Scrapping\n",
       "         </b>\n",
       " </p>,\n",
       " <p id=\"def\">\n",
       "         Ypu can read more about Beautiful Soap\n",
       "         from <a href=\"https://www.crummy.com/software/BeautifulSoup/bs4/doc/\">here</a>\n",
       " </p>,\n",
       " <p class=\"abc\">\n",
       " <a href=\"https://www.google.com\">Coding Ninjas</a>\n",
       " </p>]"
      ]
     },
     "execution_count": 60,
     "metadata": {},
     "output_type": "execute_result"
    }
   ],
   "source": [
    "li = data.find_all('p')\n",
    "li"
   ]
  },
  {
   "cell_type": "code",
   "execution_count": 61,
   "id": "9e137409-0fb6-4733-857d-54473e4da22d",
   "metadata": {},
   "outputs": [
    {
     "name": "stdout",
     "output_type": "stream",
     "text": [
      "None\n",
      "None\n",
      "None\n"
     ]
    }
   ],
   "source": [
    "for i in li:\n",
    "    print(i.string)"
   ]
  },
  {
   "cell_type": "code",
   "execution_count": 62,
   "id": "2dae480a-d4c3-449a-a584-284603888045",
   "metadata": {},
   "outputs": [
    {
     "name": "stdout",
     "output_type": "stream",
     "text": [
      "<generator object Tag._all_strings at 0x0000029C54EDF940>\n",
      "<generator object Tag._all_strings at 0x0000029C54EDF940>\n",
      "<generator object Tag._all_strings at 0x0000029C54EDF940>\n"
     ]
    }
   ],
   "source": [
    "for i in li:\n",
    "    print(i.strings)"
   ]
  },
  {
   "cell_type": "code",
   "execution_count": 63,
   "id": "cd19c15b-3090-4530-9f83-1ecb80758a0f",
   "metadata": {},
   "outputs": [
    {
     "name": "stdout",
     "output_type": "stream",
     "text": [
      "[\"\\n        Let's start Programming\\n        \", '\\n            Web Scrapping\\n        ', '\\n']\n",
      "['\\n        Ypu can read more about Beautiful Soap\\n        from ', 'here', '\\n']\n",
      "['\\n', 'Coding Ninjas', '\\n']\n"
     ]
    }
   ],
   "source": [
    "for i in li:\n",
    "    print(list(i.strings))"
   ]
  },
  {
   "cell_type": "code",
   "execution_count": 64,
   "id": "0a4d16e1-9144-41f3-a836-8b766acd4151",
   "metadata": {},
   "outputs": [
    {
     "name": "stdout",
     "output_type": "stream",
     "text": [
      "[\"Let's start Programming\", 'Web Scrapping']\n",
      "['Ypu can read more about Beautiful Soap\\n        from', 'here']\n",
      "['Coding Ninjas']\n"
     ]
    }
   ],
   "source": [
    "for i in li:\n",
    "    print(list(i.stripped_strings))"
   ]
  },
  {
   "cell_type": "code",
   "execution_count": 67,
   "id": "6c6bdba0-a7a0-4a5a-8853-8c1f51a980fd",
   "metadata": {},
   "outputs": [],
   "source": [
    "li = data.html.contents #list"
   ]
  },
  {
   "cell_type": "code",
   "execution_count": 68,
   "id": "fc7225e4-fcfb-4055-be92-13fa40fc0a9c",
   "metadata": {},
   "outputs": [
    {
     "data": {
      "text/plain": [
       "5"
      ]
     },
     "execution_count": 68,
     "metadata": {},
     "output_type": "execute_result"
    }
   ],
   "source": [
    "len(li)"
   ]
  },
  {
   "cell_type": "code",
   "execution_count": 70,
   "id": "efcc8293-b10a-4df6-b8bf-269becc9838b",
   "metadata": {},
   "outputs": [],
   "source": [
    "k =data.html.children #iterator"
   ]
  },
  {
   "cell_type": "code",
   "execution_count": 72,
   "id": "4e58550f-ef11-4951-84da-f05c9b72e065",
   "metadata": {},
   "outputs": [
    {
     "name": "stdout",
     "output_type": "stream",
     "text": [
      "<head>\n",
      "<meta charset=\"utf-8\"/>\n",
      "<meta content=\"IE=edge\" http-equiv=\"X-UA-Compatible\"/>\n",
      "<meta content=\"width=device-width, initial-scale=1.0\" name=\"viewport\"/>\n",
      "<title>Test Web Page</title>\n",
      "</head>\n",
      "\n",
      "\n",
      "<body>\n",
      "<h1>Web Scraping</h1>\n",
      "<p class=\"abc\" id=\"first_para\">\n",
      "        Let's start Programming\n",
      "        <b>\n",
      "            Web Scrapping\n",
      "        </b>\n",
      "</p>\n",
      "<p id=\"def\">\n",
      "        Ypu can read more about Beautiful Soap\n",
      "        from <a href=\"https://www.crummy.com/software/BeautifulSoup/bs4/doc/\">here</a>\n",
      "</p>\n",
      "<p class=\"abc\">\n",
      "<a href=\"https://www.google.com\">Coding Ninjas</a>\n",
      "</p>\n",
      "</body>\n",
      "\n",
      "\n"
     ]
    }
   ],
   "source": [
    "for i in k:\n",
    "    print(i)"
   ]
  },
  {
   "cell_type": "code",
   "execution_count": 75,
   "id": "da19a73e-62c6-41b4-ba86-de2b08f1a464",
   "metadata": {},
   "outputs": [],
   "source": [
    "desc= list( data.html.descendants)"
   ]
  },
  {
   "cell_type": "code",
   "execution_count": 76,
   "id": "82e9abf7-f527-4e1b-90c0-b852eb1a1242",
   "metadata": {},
   "outputs": [
    {
     "data": {
      "text/plain": [
       "37"
      ]
     },
     "execution_count": 76,
     "metadata": {},
     "output_type": "execute_result"
    }
   ],
   "source": [
    "len(desc)"
   ]
  },
  {
   "cell_type": "code",
   "execution_count": 78,
   "id": "e2f2e270-e3d6-4c83-9634-6b5f91ddb2ad",
   "metadata": {},
   "outputs": [
    {
     "name": "stdout",
     "output_type": "stream",
     "text": [
      "1\n",
      "\n",
      "\n",
      "2\n",
      "<head>\n",
      "<meta charset=\"utf-8\"/>\n",
      "<meta content=\"IE=edge\" http-equiv=\"X-UA-Compatible\"/>\n",
      "<meta content=\"width=device-width, initial-scale=1.0\" name=\"viewport\"/>\n",
      "<title>Test Web Page</title>\n",
      "</head>\n",
      "3\n",
      "\n",
      "\n",
      "4\n",
      "<meta charset=\"utf-8\"/>\n",
      "5\n",
      "\n",
      "\n",
      "6\n",
      "<meta content=\"IE=edge\" http-equiv=\"X-UA-Compatible\"/>\n",
      "7\n",
      "\n",
      "\n",
      "8\n",
      "<meta content=\"width=device-width, initial-scale=1.0\" name=\"viewport\"/>\n",
      "9\n",
      "\n",
      "\n",
      "10\n",
      "<title>Test Web Page</title>\n",
      "11\n",
      "Test Web Page\n",
      "12\n",
      "\n",
      "\n",
      "13\n",
      "\n",
      "\n",
      "14\n",
      "<body>\n",
      "<h1>Web Scraping</h1>\n",
      "<p class=\"abc\" id=\"first_para\">\n",
      "        Let's start Programming\n",
      "        <b>\n",
      "            Web Scrapping\n",
      "        </b>\n",
      "</p>\n",
      "<p id=\"def\">\n",
      "        Ypu can read more about Beautiful Soap\n",
      "        from <a href=\"https://www.crummy.com/software/BeautifulSoup/bs4/doc/\">here</a>\n",
      "</p>\n",
      "<p class=\"abc\">\n",
      "<a href=\"https://www.google.com\">Coding Ninjas</a>\n",
      "</p>\n",
      "</body>\n",
      "15\n",
      "\n",
      "\n",
      "16\n",
      "<h1>Web Scraping</h1>\n",
      "17\n",
      "Web Scraping\n",
      "18\n",
      "\n",
      "\n",
      "19\n",
      "<p class=\"abc\" id=\"first_para\">\n",
      "        Let's start Programming\n",
      "        <b>\n",
      "            Web Scrapping\n",
      "        </b>\n",
      "</p>\n",
      "20\n",
      "\n",
      "        Let's start Programming\n",
      "        \n",
      "21\n",
      "<b>\n",
      "            Web Scrapping\n",
      "        </b>\n",
      "22\n",
      "\n",
      "            Web Scrapping\n",
      "        \n",
      "23\n",
      "\n",
      "\n",
      "24\n",
      "\n",
      "\n",
      "25\n",
      "<p id=\"def\">\n",
      "        Ypu can read more about Beautiful Soap\n",
      "        from <a href=\"https://www.crummy.com/software/BeautifulSoup/bs4/doc/\">here</a>\n",
      "</p>\n",
      "26\n",
      "\n",
      "        Ypu can read more about Beautiful Soap\n",
      "        from \n",
      "27\n",
      "<a href=\"https://www.crummy.com/software/BeautifulSoup/bs4/doc/\">here</a>\n",
      "28\n",
      "here\n",
      "29\n",
      "\n",
      "\n",
      "30\n",
      "\n",
      "\n",
      "31\n",
      "<p class=\"abc\">\n",
      "<a href=\"https://www.google.com\">Coding Ninjas</a>\n",
      "</p>\n",
      "32\n",
      "\n",
      "\n",
      "33\n",
      "<a href=\"https://www.google.com\">Coding Ninjas</a>\n",
      "34\n",
      "Coding Ninjas\n",
      "35\n",
      "\n",
      "\n",
      "36\n",
      "\n",
      "\n",
      "37\n",
      "\n",
      "\n"
     ]
    }
   ],
   "source": [
    "k=1\n",
    "for i in desc:\n",
    "    print(k)\n",
    "    print(i)\n",
    "    k+=1"
   ]
  },
  {
   "cell_type": "code",
   "execution_count": null,
   "id": "37a39cc5-7711-417c-b201-4a4831e96239",
   "metadata": {},
   "outputs": [],
   "source": []
  }
 ],
 "metadata": {
  "kernelspec": {
   "display_name": "Python 3 (ipykernel)",
   "language": "python",
   "name": "python3"
  },
  "language_info": {
   "codemirror_mode": {
    "name": "ipython",
    "version": 3
   },
   "file_extension": ".py",
   "mimetype": "text/x-python",
   "name": "python",
   "nbconvert_exporter": "python",
   "pygments_lexer": "ipython3",
   "version": "3.11.3"
  }
 },
 "nbformat": 4,
 "nbformat_minor": 5
}
